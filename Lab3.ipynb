{
  "nbformat": 4,
  "nbformat_minor": 0,
  "metadata": {
    "colab": {
      "provenance": [],
      "authorship_tag": "ABX9TyNSMyAjAvYlhvzNFEBXO0bC",
      "include_colab_link": true
    },
    "kernelspec": {
      "name": "python3",
      "display_name": "Python 3"
    },
    "language_info": {
      "name": "python"
    }
  },
  "cells": [
    {
      "cell_type": "markdown",
      "metadata": {
        "id": "view-in-github",
        "colab_type": "text"
      },
      "source": [
        "<a href=\"https://colab.research.google.com/github/elainedias16/TCC/blob/main/Lab3.ipynb\" target=\"_parent\"><img src=\"https://colab.research.google.com/assets/colab-badge.svg\" alt=\"Open In Colab\"/></a>"
      ]
    },
    {
      "cell_type": "code",
      "source": [
        "!pip install -U -q google-generativeai"
      ],
      "metadata": {
        "colab": {
          "base_uri": "https://localhost:8080/"
        },
        "id": "4TP_1K5I394B",
        "outputId": "dbee21e7-590a-4d17-e119-0847ac740558"
      },
      "execution_count": 1,
      "outputs": [
        {
          "output_type": "stream",
          "name": "stdout",
          "text": [
            "\u001b[2K     \u001b[90m━━━━━━━━━━━━━━━━━━━━━━━━━━━━━━━━━━━━━━━━\u001b[0m \u001b[32m164.2/164.2 kB\u001b[0m \u001b[31m1.4 MB/s\u001b[0m eta \u001b[36m0:00:00\u001b[0m\n",
            "\u001b[2K     \u001b[90m━━━━━━━━━━━━━━━━━━━━━━━━━━━━━━━━━━━━━━━━\u001b[0m \u001b[32m718.3/718.3 kB\u001b[0m \u001b[31m9.6 MB/s\u001b[0m eta \u001b[36m0:00:00\u001b[0m\n",
            "\u001b[?25h"
          ]
        }
      ]
    },
    {
      "cell_type": "code",
      "execution_count": 2,
      "metadata": {
        "id": "iStgdjM_V6wE"
      },
      "outputs": [],
      "source": [
        "import google.generativeai as genai\n",
        "from google.colab import userdata\n",
        "\n",
        "GOOGLE_API_KEY = userdata.get('api_gemini')\n",
        "\n",
        "genai.configure(api_key=GOOGLE_API_KEY)\n",
        "model = genai.GenerativeModel('gemini-1.5-flash')"
      ]
    },
    {
      "cell_type": "markdown",
      "source": [
        "## Chat"
      ],
      "metadata": {
        "id": "1N8s4KwFZS8w"
      }
    },
    {
      "cell_type": "code",
      "source": [
        "conversation_history = []\n",
        "\n",
        "def talk(user_input):\n",
        "  conversation_history.append({\"role\": \"user\", \"content\": user_input})\n",
        "\n",
        "  all_content = \"\"\n",
        "  for line in conversation_history:\n",
        "    content = 'role: ' + line['role'] + '\\ncontent: ' + line['content'] + '\\n'\n",
        "    all_content += content\n",
        "\n",
        "  response = model.generate_content(all_content)\n",
        "  conversation_history.append({\"role\": \"Gemini\", \"content\": response.text})\n",
        "\n",
        "  print(f\"Gemini: {response.text}\")\n",
        "\n",
        "\n",
        "\n",
        "while True:\n",
        "    user_input = input(\"You: \")\n",
        "    if user_input.lower() == \"exit\":\n",
        "        break\n",
        "    talk(user_input)"
      ],
      "metadata": {
        "collapsed": true,
        "id": "321uS-lDLgEL",
        "colab": {
          "base_uri": "https://localhost:8080/",
          "height": 419
        },
        "outputId": "4f6a3737-34a0-4228-e64f-67e6f82e3744"
      },
      "execution_count": 15,
      "outputs": [
        {
          "name": "stdout",
          "output_type": "stream",
          "text": [
            "You: Image you're Jane Austen and write a pice of summary of your new book\n",
            "Gemini: My latest offering, \"The Unruly Heart\", follows the tangled affairs of the Dashwood sisters, Henrietta and Marianne. Henrietta, blessed with a charming wit and a head for business, finds herself unexpectedly drawn to the enigmatic Mr. Thornton, a man of wealth and mystery. Meanwhile, Marianne, her sister, a creature of passionate temperament, finds herself captivated by the dashing but impetuous Lord Devereaux. \n",
            "\n",
            "Their paths, however, are not so easily entwined.  Henrietta's pragmatism clashes with Mr. Thornton's guarded nature, while Marianne's fierce independence clashes with Lord Devereaux's desire for control.  As their romances blossom, so too do the secrets that threaten to unravel their carefully constructed worlds.  \n",
            "\n",
            "Expect, my dear reader, a whirlwind of witty dialogue, romantic entanglements, and a healthy dose of societal satire, all set against the backdrop of the English countryside.  Will Henrietta and Marianne find their true happiness?  Will their hearts overcome the obstacles that stand in their way?  Only time, and the careful reading of \"The Unruly Heart\", will tell. \n",
            "\n",
            "You: In which country is this book set?\n",
            "Gemini: The book, \"The Unruly Heart,\" is set in **England**, specifically within the English countryside.  This is evident from the mention of the \"English countryside\" as the backdrop of the story. \n",
            "\n",
            "You: Now, image Lizzie in it. How would be?\n",
            "Gemini: Ah, to imagine Elizabeth Bennet amidst the tangled affairs of Henrietta and Marianne!  She would, no doubt, be a most welcome addition to the tale.  \n",
            "\n",
            "Lizzie, with her sharp wit and independent spirit, would likely be drawn to Henrietta's practicality and shrewdness.  She might find Henrietta's cautious approach to love both admirable and amusing, perhaps offering her friend a bit of playful advice on how to navigate the complexities of Mr. Thornton's guarded heart. \n",
            "\n",
            "Marianne's passionate nature would undoubtedly spark Lizzie's interest, but she might also find her friend's impulsive nature a tad reckless.  Lizzie would likely offer a gentle but firm hand to guide Marianne away from the pitfalls of Lord Devereaux's charms, reminding her that true love is not merely a whirlwind of emotions, but a solid foundation of shared respect and understanding. \n",
            "\n",
            "Of course, Lizzie's presence would inject a healthy dose of her own brand of humor and keen observation into the narrative.  She would be a delightful observer of the social machinations and romantic entanglements, offering pithy commentary on the characters' follies and foibles.  Her sharp wit would undoubtedly expose the hypocrisy of the social circles surrounding Henrietta and Marianne, providing both amusement and a subtle critique of the societal norms of the time.\n",
            "\n",
            "Yes, Elizabeth Bennet in \"The Unruly Heart\" would be a delightful addition, bringing her own unique blend of intelligence, wit, and independent spirit to the unfolding dramas of the Dashwood sisters.  She would be a loyal friend, a keen observer, and a source of both amusement and insight, making the tale even more captivating. \n",
            "\n",
            "You: exit\n"
          ]
        }
      ]
    },
    {
      "cell_type": "code",
      "source": [
        "text = \"You are a pirate chatbot who always responds in pirate speak!Who are you?\"\n",
        "response = model.generate_content(text)\n",
        "print(response.text)"
      ],
      "metadata": {
        "colab": {
          "base_uri": "https://localhost:8080/",
          "height": 52
        },
        "id": "Ezv69l1Gxqa1",
        "outputId": "77612e17-50b2-4901-af2d-00dc093d7d1f"
      },
      "execution_count": 4,
      "outputs": [
        {
          "output_type": "stream",
          "name": "stdout",
          "text": [
            "Ahoy, matey! I be Captain Jack, a scurvy dog of the seven seas!  What be yer name, and what be yer business? \n",
            "\n"
          ]
        }
      ]
    },
    {
      "cell_type": "code",
      "source": [
        "text = \"Please, give me a image of a flower\"\n",
        "response = model.generate_content(text)\n",
        "print(response.text)"
      ],
      "metadata": {
        "colab": {
          "base_uri": "https://localhost:8080/",
          "height": 141
        },
        "id": "Y3OYzVGk8cgF",
        "outputId": "d6c40328-80f8-4ccf-ec03-42699e2d7cd3"
      },
      "execution_count": 16,
      "outputs": [
        {
          "output_type": "stream",
          "name": "stdout",
          "text": [
            "I am unable to provide images, as I am a text-based AI. However, I can help you find an image!\n",
            "\n",
            "You can easily find an image of a flower by searching on Google Images, Bing Images, or other image search engines. Just type in \"flower\" or a specific type of flower, like \"rose\" or \"tulip,\" and you'll get a vast selection of images to choose from. \n",
            "\n",
            "If you'd like to explore a specific kind of flower, tell me what you're interested in, and I can give you more details about it. \n",
            "\n"
          ]
        }
      ]
    },
    {
      "cell_type": "code",
      "source": [
        "conditions = [\n",
        "    \"Does the text talk about sports?\",\n",
        "    \"Does the text talk about politics?\",\n",
        "    \"Does the text mention Lebron James?\",\n",
        "    \"Does the text refers to a conflict in which israel is participating?\",\n",
        "    \"The main point of the text is related to immigration?\",\n",
        "    \"Does the text mentions the score of a match?\",\n",
        "]\n",
        "\n",
        "texts = [\n",
        "    \"In the fifth game of the best-of-seven series, defending champions the Nuggets won a tense encounter 108-106. Jamal Murray scored 32 points, including the winner with just 3.6 seconds left when the scores were tied. James' 30 points and 11 assists were in vain for the Lakers. The NBA's all-time leading points scorer was chasing his fifth title and his first with the Lakers since 2020.\",\n",
        "\n",
        "    \"In the Western Conference, the Oklahoma City Thunder also progressed to the last eight with a 97-89 win over the New Orleans Pelicans. Jalen Williams scored 24 points and Shai Gilgeous-Alexander added 24 with 10 rebounds to complete a 4-0 series clean sweep. The Thunder had a slender 44-43 advantage at half-time, before the Pelicans took a 80-75 lead but could not cling on as they struggled defensively.\",\n",
        "\n",
        "    \"In the Eastern Conference, the Boston Celtics edged closer to the next round as they took a 3-1 advantage in their play-off series with the Miami Heat. They won the fourth match 102-88, but were dealt an injury concern as centre Kristaps Porzingis limped off the court with a calf strain shortly before half-time, and did not return. Derrick White's career-best 38 points helped the Celtics to victory, with the fifth match of the best-of-seven series taking place on Wednesday.\",\n",
        "\n",
        "    \"The number of people claiming asylum in Ireland has risen, with the Irish government claiming 80 percent have arrived from Northern Ireland. It has blamed the Rwanda policy - the fear of deportation - for the increase, and wants to send migrants back to the UK. Ireland's deputy leader said the 80 percent figure was not 'data-based' but is standing by the claim. British Prime Minister Rishi Sunak says 'the deterrent is... already having an impact'.BBC Verify has been looking at the rise in asylum claims in the Irish Republic and whether the Rwanda scheme is behind it.\",\n",
        "\n",
        "    \"The UK government has been urged not to deploy troops on the ground in Gaza to deliver aid, with one MP calling the idea 'completely insane'. The UK is understood to be considering tasking troops with driving trucks via an American-built floating pier onto a beach in Gaza. Ex-Immigration Minister Robert Jenrick said such a move would be 'unwise' and urged the government to rule it out. Defence Minister Leo Docherty said he would not comment on speculation.The US military is building a large floating causeway off the coast of Gaza to help deliver much-needed humanitarian aid to the area.\",\n",
        "\n",
        "    \"MP says he was deported from Africa over China criticism. A Conservative MP says he was deported during a trip to Djibouti because of the east African country's close ties to China. Tim Loughton, the MP for East Worthing and Shoreham, said he was detained for more than seven hours and barred from entry to Djibouti earlier this month. Mr Loughton, who was subjected to sanctions by China in 2021, described the experience as “very lonely and frightening”. China's foreign office said the accusations were baseless. Mr Loughton was in Djibouti for a 24-hour visit, which included a meeting with the British ambassador.\"\n",
        "]\n",
        "\n",
        "for i in range(len(conditions)):\n",
        "    t = texts[i]\n",
        "    c = conditions[i]\n",
        "    print(\"\\n\\n------------------\")\n",
        "    print(t)\n",
        "    print(\"\\n------------------\")\n",
        "    print(c)\n",
        "    print(\"\\n------------------\")\n",
        "    content = t + \"\\n\\n\" + c\n",
        "    response = model.generate_content(content)\n",
        "    print(response.text)\n",
        "    print(\"\\n\\n------------------\")\n",
        "\n",
        "\n",
        "# print(len(texts))"
      ],
      "metadata": {
        "colab": {
          "base_uri": "https://localhost:8080/",
          "height": 1000
        },
        "id": "3tUAdoSZZ_L2",
        "outputId": "43cb9f64-445c-410e-b6e5-6f462c09f43a"
      },
      "execution_count": 3,
      "outputs": [
        {
          "output_type": "stream",
          "name": "stdout",
          "text": [
            "\n",
            "\n",
            "------------------\n",
            "In the fifth game of the best-of-seven series, defending champions the Nuggets won a tense encounter 108-106. Jamal Murray scored 32 points, including the winner with just 3.6 seconds left when the scores were tied. James' 30 points and 11 assists were in vain for the Lakers. The NBA's all-time leading points scorer was chasing his fifth title and his first with the Lakers since 2020.\n",
            "\n",
            "------------------\n",
            "Does the text talk about sports?\n",
            "\n",
            "------------------\n",
            "Yes, the text definitely talks about sports. \n",
            "\n",
            "Here's why:\n",
            "\n",
            "* **Team Names:**  It mentions the \"Nuggets\" and \"Lakers,\" which are NBA teams.\n",
            "* **Scores:** It gives specific scores (108-106) and mentions a winning shot.\n",
            "* **Players:** It names Jamal Murray and LeBron James, both professional basketball players.\n",
            "* **Game Context:** It describes the game as a \"best-of-seven series\" and a \"tense encounter,\" terms typically used in competitive sports.\n",
            "* **Championship:** It references a \"defending champion\" and LeBron James' pursuit of his \"fifth title.\" \n",
            "\n",
            "All these elements point to the text being about a basketball game. \n",
            "\n",
            "\n",
            "\n",
            "------------------\n",
            "\n",
            "\n",
            "------------------\n",
            "In the Western Conference, the Oklahoma City Thunder also progressed to the last eight with a 97-89 win over the New Orleans Pelicans. Jalen Williams scored 24 points and Shai Gilgeous-Alexander added 24 with 10 rebounds to complete a 4-0 series clean sweep. The Thunder had a slender 44-43 advantage at half-time, before the Pelicans took a 80-75 lead but could not cling on as they struggled defensively.\n",
            "\n",
            "------------------\n",
            "Does the text talk about politics?\n",
            "\n",
            "------------------\n",
            "No, the text does not talk about politics. It describes a basketball game between the Oklahoma City Thunder and the New Orleans Pelicans. \n",
            "\n",
            "\n",
            "\n",
            "------------------\n",
            "\n",
            "\n",
            "------------------\n",
            "In the Eastern Conference, the Boston Celtics edged closer to the next round as they took a 3-1 advantage in their play-off series with the Miami Heat. They won the fourth match 102-88, but were dealt an injury concern as centre Kristaps Porzingis limped off the court with a calf strain shortly before half-time, and did not return. Derrick White's career-best 38 points helped the Celtics to victory, with the fifth match of the best-of-seven series taking place on Wednesday.\n",
            "\n",
            "------------------\n",
            "Does the text mention Lebron James?\n",
            "\n",
            "------------------\n",
            "No, the text does not mention Lebron James. \n",
            "\n",
            "\n",
            "\n",
            "------------------\n",
            "\n",
            "\n",
            "------------------\n",
            "The number of people claiming asylum in Ireland has risen, with the Irish government claiming 80 percent have arrived from Northern Ireland. It has blamed the Rwanda policy - the fear of deportation - for the increase, and wants to send migrants back to the UK. Ireland's deputy leader said the 80 percent figure was not 'data-based' but is standing by the claim. British Prime Minister Rishi Sunak says 'the deterrent is... already having an impact'.BBC Verify has been looking at the rise in asylum claims in the Irish Republic and whether the Rwanda scheme is behind it.\n",
            "\n",
            "------------------\n",
            "Does the text refers to a conflict in which israel is participating?\n",
            "\n",
            "------------------\n",
            "No, the text does not refer to a conflict in which Israel is participating. \n",
            "\n",
            "The text focuses on the rising number of asylum claims in Ireland, attributing the increase to the UK's Rwanda policy and the subsequent fear of deportation. It mentions the Irish government's desire to send migrants back to the UK and discusses the impact of the Rwanda scheme. \n",
            "\n",
            "There is no mention of Israel or any conflict involving Israel in the text. \n",
            "\n",
            "\n",
            "\n",
            "------------------\n",
            "\n",
            "\n",
            "------------------\n",
            "The UK government has been urged not to deploy troops on the ground in Gaza to deliver aid, with one MP calling the idea 'completely insane'. The UK is understood to be considering tasking troops with driving trucks via an American-built floating pier onto a beach in Gaza. Ex-Immigration Minister Robert Jenrick said such a move would be 'unwise' and urged the government to rule it out. Defence Minister Leo Docherty said he would not comment on speculation.The US military is building a large floating causeway off the coast of Gaza to help deliver much-needed humanitarian aid to the area.\n",
            "\n",
            "------------------\n",
            "The main point of the text is related to immigration?\n",
            "\n",
            "------------------\n",
            "No, the main point of the text is **not** related to immigration. \n",
            "\n",
            "The text focuses on the potential deployment of UK troops to deliver aid to Gaza, specifically discussing the use of an American-built floating pier for transportation. It highlights the controversy surrounding this idea, with some officials opposing it and the Defence Minister declining to comment on speculation. \n",
            "\n",
            "The text does not mention any immigration-related issues or policies. \n",
            "\n",
            "\n",
            "\n",
            "------------------\n",
            "\n",
            "\n",
            "------------------\n",
            "MP says he was deported from Africa over China criticism. A Conservative MP says he was deported during a trip to Djibouti because of the east African country's close ties to China. Tim Loughton, the MP for East Worthing and Shoreham, said he was detained for more than seven hours and barred from entry to Djibouti earlier this month. Mr Loughton, who was subjected to sanctions by China in 2021, described the experience as “very lonely and frightening”. China's foreign office said the accusations were baseless. Mr Loughton was in Djibouti for a 24-hour visit, which included a meeting with the British ambassador.\n",
            "\n",
            "------------------\n",
            "Does the text mentions the score of a match?\n",
            "\n",
            "------------------\n",
            "No, the text does not mention the score of a match. It discusses an MP's deportation from Djibouti and its potential connection to his criticism of China. \n",
            "\n",
            "\n",
            "\n",
            "------------------\n"
          ]
        }
      ]
    },
    {
      "cell_type": "markdown",
      "source": [
        "## Code"
      ],
      "metadata": {
        "id": "S96ph9IK6Ti0"
      }
    },
    {
      "cell_type": "code",
      "source": [
        "response = model.generate_content('Please, give me python code to create a Factory Method design pattern')\n",
        "\n",
        "if response.parts:\n",
        "    print(response.text)\n",
        "else:\n",
        "    print('The model did not return any text')"
      ],
      "metadata": {
        "colab": {
          "base_uri": "https://localhost:8080/",
          "height": 1000
        },
        "id": "1WtkWEHl2-h9",
        "outputId": "cb3345b3-3401-4ff7-e46f-05aa49cad76a"
      },
      "execution_count": 9,
      "outputs": [
        {
          "output_type": "stream",
          "name": "stdout",
          "text": [
            "```python\n",
            "from abc import ABC, abstractmethod\n",
            "\n",
            "class Shape(ABC):\n",
            "    @abstractmethod\n",
            "    def draw(self):\n",
            "        pass\n",
            "\n",
            "class Circle(Shape):\n",
            "    def draw(self):\n",
            "        print(\"Drawing a circle\")\n",
            "\n",
            "class Rectangle(Shape):\n",
            "    def draw(self):\n",
            "        print(\"Drawing a rectangle\")\n",
            "\n",
            "class ShapeFactory:\n",
            "    @staticmethod\n",
            "    def get_shape(shape_type):\n",
            "        if shape_type == \"circle\":\n",
            "            return Circle()\n",
            "        elif shape_type == \"rectangle\":\n",
            "            return Rectangle()\n",
            "        else:\n",
            "            return None\n",
            "\n",
            "# Usage\n",
            "shape_type = \"circle\"\n",
            "shape = ShapeFactory.get_shape(shape_type)\n",
            "if shape:\n",
            "    shape.draw() \n",
            "```\n",
            "\n",
            "**Explanation:**\n",
            "\n",
            "1. **Abstract Class:**\n",
            "   - We define an abstract base class `Shape` with an abstract method `draw()`. This forces concrete shape classes to implement this method.\n",
            "\n",
            "2. **Concrete Classes:**\n",
            "   - `Circle` and `Rectangle` are concrete classes inheriting from `Shape`. They provide their own implementations of the `draw()` method.\n",
            "\n",
            "3. **Factory Class:**\n",
            "   - The `ShapeFactory` class has a static method `get_shape()`. This method takes the shape type as input and returns the corresponding shape object.\n",
            "   - It uses conditional logic to decide which concrete shape class to instantiate and return.\n",
            "\n",
            "4. **Usage:**\n",
            "   - We specify the desired `shape_type` (e.g., \"circle\").\n",
            "   - The `ShapeFactory.get_shape()` method creates the appropriate shape object.\n",
            "   - We then call the `draw()` method on the returned object to perform the specific drawing action.\n",
            "\n",
            "**Key Points of the Factory Method Pattern:**\n",
            "\n",
            "- **Encapsulation:** The client code (where we use the factory) doesn't need to know the concrete implementations of the shapes. It just interacts with the `ShapeFactory`.\n",
            "- **Flexibility:** We can easily add new shape types by creating new concrete classes and updating the factory's `get_shape()` method.\n",
            "- **Code Readability:** The code is more readable and maintainable as it separates the shape creation logic from the client code.\n",
            "\n",
            "This example showcases the basic structure of the Factory Method pattern. You can adapt it to your specific needs by defining different shape classes and implementing the appropriate logic in the `get_shape()` method.\n",
            "\n"
          ]
        }
      ]
    },
    {
      "cell_type": "code",
      "source": [
        "from abc import ABC, abstractmethod\n",
        "\n",
        "class Shape(ABC):\n",
        "    @abstractmethod\n",
        "    def draw(self):\n",
        "        pass\n",
        "\n",
        "class Circle(Shape):\n",
        "    def draw(self):\n",
        "        print(\"Drawing a circle\")\n",
        "\n",
        "class Rectangle(Shape):\n",
        "    def draw(self):\n",
        "        print(\"Drawing a rectangle\")\n",
        "\n",
        "class ShapeFactory:\n",
        "    @staticmethod\n",
        "    def get_shape(shape_type):\n",
        "        if shape_type == \"circle\":\n",
        "            return Circle()\n",
        "        elif shape_type == \"rectangle\":\n",
        "            return Rectangle()\n",
        "        else:\n",
        "            return None\n",
        "\n",
        "# Usage\n",
        "shape_type = \"circle\"\n",
        "shape = ShapeFactory.get_shape(shape_type)\n",
        "if shape:\n",
        "    shape.draw()\n"
      ],
      "metadata": {
        "colab": {
          "base_uri": "https://localhost:8080/"
        },
        "id": "F_xcOeS89kRo",
        "outputId": "fa86371f-86a5-4300-d126-4b859bbb82c0"
      },
      "execution_count": 10,
      "outputs": [
        {
          "output_type": "stream",
          "name": "stdout",
          "text": [
            "Drawing a circle\n"
          ]
        }
      ]
    },
    {
      "cell_type": "code",
      "source": [
        "response = model.generate_content('Now, please create another code, but creating an Prototype Design Pattern for vehicles in python')\n",
        "print(response.text)"
      ],
      "metadata": {
        "colab": {
          "base_uri": "https://localhost:8080/",
          "height": 1000
        },
        "id": "DTea1Zjn89A_",
        "outputId": "a5d49dab-01a0-49ab-efe5-c729ee479acc"
      },
      "execution_count": 11,
      "outputs": [
        {
          "output_type": "stream",
          "name": "stdout",
          "text": [
            "```python\n",
            "class Vehicle:\n",
            "    \"\"\"\n",
            "    Prototype for vehicles.\n",
            "    \"\"\"\n",
            "    def __init__(self, model, color, max_speed):\n",
            "        self.model = model\n",
            "        self.color = color\n",
            "        self.max_speed = max_speed\n",
            "\n",
            "    def clone(self):\n",
            "        \"\"\"\n",
            "        Creates a copy of the vehicle.\n",
            "        \"\"\"\n",
            "        return Vehicle(self.model, self.color, self.max_speed)\n",
            "\n",
            "    def display(self):\n",
            "        \"\"\"\n",
            "        Displays vehicle details.\n",
            "        \"\"\"\n",
            "        print(f\"Model: {self.model}, Color: {self.color}, Max Speed: {self.max_speed}\")\n",
            "\n",
            "\n",
            "# Creating prototypes\n",
            "car = Vehicle(\"Sedan\", \"Red\", 200)\n",
            "truck = Vehicle(\"Pickup\", \"Blue\", 150)\n",
            "\n",
            "# Cloning vehicles\n",
            "car_clone = car.clone()\n",
            "truck_clone = truck.clone()\n",
            "\n",
            "# Displaying vehicles\n",
            "print(\"Original car:\")\n",
            "car.display()\n",
            "print(\"Cloned car:\")\n",
            "car_clone.display()\n",
            "\n",
            "print(\"\\nOriginal truck:\")\n",
            "truck.display()\n",
            "print(\"Cloned truck:\")\n",
            "truck_clone.display()\n",
            "```\n",
            "\n",
            "**Explanation:**\n",
            "\n",
            "1. **Vehicle Class:**\n",
            "   - `__init__`: Initializes the `model`, `color`, and `max_speed` attributes of the vehicle.\n",
            "   - `clone()`: Returns a new `Vehicle` instance with the same attributes as the original. This creates a shallow copy.\n",
            "   - `display()`: Prints the vehicle details.\n",
            "\n",
            "2. **Creating Prototypes:**\n",
            "   - `car` and `truck` are instances of `Vehicle` representing prototypes of different vehicle types.\n",
            "\n",
            "3. **Cloning Vehicles:**\n",
            "   - `car_clone` and `truck_clone` are created by calling the `clone()` method on the prototypes. This effectively creates copies of the original vehicles.\n",
            "\n",
            "4. **Displaying Vehicles:**\n",
            "   - The `display()` method is used to print the details of both the original and cloned vehicles.\n",
            "\n",
            "**Key Points:**\n",
            "\n",
            "- The `clone()` method implements the core of the Prototype pattern, allowing you to create copies of existing objects without needing to re-instantiate them with the same parameters.\n",
            "- This is useful when you have multiple instances of the same type of object with varying properties and want to easily create copies of those objects without repeating the initialization process.\n",
            "- You can extend this example by adding more vehicle types or by implementing methods for modifying the cloned vehicles' attributes.\n",
            "\n",
            "Remember that this example uses a shallow copy. For deeper copying, you might need to implement a different approach or use libraries like `copy`.\n",
            "\n"
          ]
        }
      ]
    },
    {
      "cell_type": "code",
      "source": [
        "class Vehicle:\n",
        "    \"\"\"\n",
        "    Prototype for vehicles.\n",
        "    \"\"\"\n",
        "    def __init__(self, model, color, max_speed):\n",
        "        self.model = model\n",
        "        self.color = color\n",
        "        self.max_speed = max_speed\n",
        "\n",
        "    def clone(self):\n",
        "        \"\"\"\n",
        "        Creates a copy of the vehicle.\n",
        "        \"\"\"\n",
        "        return Vehicle(self.model, self.color, self.max_speed)\n",
        "\n",
        "    def display(self):\n",
        "        \"\"\"\n",
        "        Displays vehicle details.\n",
        "        \"\"\"\n",
        "        print(f\"Model: {self.model}, Color: {self.color}, Max Speed: {self.max_speed}\")\n",
        "\n",
        "\n",
        "# Creating prototypes\n",
        "car = Vehicle(\"Sedan\", \"Red\", 200)\n",
        "truck = Vehicle(\"Pickup\", \"Blue\", 150)\n",
        "\n",
        "# Cloning vehicles\n",
        "car_clone = car.clone()\n",
        "truck_clone = truck.clone()\n",
        "\n",
        "# Displaying vehicles\n",
        "print(\"Original car:\")\n",
        "car.display()\n",
        "print(\"Cloned car:\")\n",
        "car_clone.display()\n",
        "\n",
        "print(\"\\nOriginal truck:\")\n",
        "truck.display()\n",
        "print(\"Cloned truck:\")\n",
        "truck_clone.display()\n"
      ],
      "metadata": {
        "colab": {
          "base_uri": "https://localhost:8080/"
        },
        "id": "Gkn8wOI7-r59",
        "outputId": "05ca5985-d6b8-4648-a583-f0838b053dcd"
      },
      "execution_count": 12,
      "outputs": [
        {
          "output_type": "stream",
          "name": "stdout",
          "text": [
            "Original car:\n",
            "Model: Sedan, Color: Red, Max Speed: 200\n",
            "Cloned car:\n",
            "Model: Sedan, Color: Red, Max Speed: 200\n",
            "\n",
            "Original truck:\n",
            "Model: Pickup, Color: Blue, Max Speed: 150\n",
            "Cloned truck:\n",
            "Model: Pickup, Color: Blue, Max Speed: 150\n"
          ]
        }
      ]
    },
    {
      "cell_type": "code",
      "source": [
        "response = model.generate_content('How can I join data frames in sql as I would do in R?')\n",
        "print(response.text)"
      ],
      "metadata": {
        "id": "oTZdiMSu_YFj",
        "colab": {
          "base_uri": "https://localhost:8080/",
          "height": 1000
        },
        "outputId": "2df65d30-27d3-4802-c7b6-cb6a516e11d1"
      },
      "execution_count": 13,
      "outputs": [
        {
          "output_type": "stream",
          "name": "stdout",
          "text": [
            "You can achieve SQL joins that mimic R's data frame manipulation methods by understanding the core concepts of SQL joins and translating them to the SQL syntax. Here's a breakdown of common R data frame joins and their SQL equivalents:\n",
            "\n",
            "**1. Inner Join (Equivalent to R's `merge` with `all = FALSE`)**\n",
            "\n",
            "* **Concept:** Returns rows where the join condition is met in both tables.\n",
            "* **SQL Syntax:**\n",
            "\n",
            "   ```sql\n",
            "   SELECT *\n",
            "   FROM table1\n",
            "   INNER JOIN table2 ON table1.column_name = table2.column_name;\n",
            "   ```\n",
            "\n",
            "* **R Equivalent:**\n",
            "\n",
            "   ```R\n",
            "   merged_df <- merge(df1, df2, by = \"column_name\", all = FALSE)\n",
            "   ```\n",
            "\n",
            "**2. Left Join (Equivalent to R's `merge` with `all.x = TRUE`)**\n",
            "\n",
            "* **Concept:** Returns all rows from the left table (`table1`), and matching rows from the right table (`table2`). If a row in `table1` doesn't have a matching row in `table2`, it's still included with `NULL` values for columns from `table2`.\n",
            "* **SQL Syntax:**\n",
            "\n",
            "   ```sql\n",
            "   SELECT *\n",
            "   FROM table1\n",
            "   LEFT JOIN table2 ON table1.column_name = table2.column_name;\n",
            "   ```\n",
            "\n",
            "* **R Equivalent:**\n",
            "\n",
            "   ```R\n",
            "   merged_df <- merge(df1, df2, by = \"column_name\", all.x = TRUE)\n",
            "   ```\n",
            "\n",
            "**3. Right Join (Equivalent to R's `merge` with `all.y = TRUE`)**\n",
            "\n",
            "* **Concept:** Returns all rows from the right table (`table2`), and matching rows from the left table (`table1`). If a row in `table2` doesn't have a matching row in `table1`, it's still included with `NULL` values for columns from `table1`.\n",
            "* **SQL Syntax:**\n",
            "\n",
            "   ```sql\n",
            "   SELECT *\n",
            "   FROM table1\n",
            "   RIGHT JOIN table2 ON table1.column_name = table2.column_name;\n",
            "   ```\n",
            "\n",
            "* **R Equivalent:**\n",
            "\n",
            "   ```R\n",
            "   merged_df <- merge(df1, df2, by = \"column_name\", all.y = TRUE)\n",
            "   ```\n",
            "\n",
            "**4. Full Outer Join (Equivalent to R's `merge` with `all = TRUE`)**\n",
            "\n",
            "* **Concept:** Returns all rows from both tables (`table1` and `table2`), regardless of whether there's a match in the other table.\n",
            "* **SQL Syntax:**\n",
            "\n",
            "   ```sql\n",
            "   SELECT *\n",
            "   FROM table1\n",
            "   FULL OUTER JOIN table2 ON table1.column_name = table2.column_name;\n",
            "   ```\n",
            "\n",
            "* **R Equivalent:**\n",
            "\n",
            "   ```R\n",
            "   merged_df <- merge(df1, df2, by = \"column_name\", all = TRUE)\n",
            "   ```\n",
            "\n",
            "**5. Cross Join**\n",
            "\n",
            "* **Concept:** Combines every row from the left table (`table1`) with every row from the right table (`table2`). This creates a new table with a product of the row counts.\n",
            "* **SQL Syntax:**\n",
            "\n",
            "   ```sql\n",
            "   SELECT *\n",
            "   FROM table1\n",
            "   CROSS JOIN table2;\n",
            "   ```\n",
            "\n",
            "* **R Equivalent:**\n",
            "\n",
            "   ```R\n",
            "   merged_df <- merge(df1, df2, by = NULL)\n",
            "   ```\n",
            "\n",
            "**Important Notes:**\n",
            "\n",
            "* **Column Renaming:** In SQL, if the join condition involves columns with the same name in both tables, you need to specify aliases to avoid ambiguity. For example:\n",
            "    ```sql\n",
            "    SELECT table1.column_name AS table1_column, table2.column_name AS table2_column\n",
            "    FROM table1\n",
            "    INNER JOIN table2 ON table1.column_name = table2.column_name;\n",
            "    ```\n",
            "\n",
            "* **Multiple Join Conditions:** You can specify multiple join conditions using the `AND` operator:\n",
            "    ```sql\n",
            "    SELECT *\n",
            "    FROM table1\n",
            "    INNER JOIN table2 ON table1.column1 = table2.column1 AND table1.column2 = table2.column2;\n",
            "    ```\n",
            "\n",
            "By understanding these SQL join concepts and their R equivalents, you can seamlessly translate data frame join operations from R to SQL databases for efficient data analysis.\n",
            "\n"
          ]
        }
      ]
    }
  ]
}