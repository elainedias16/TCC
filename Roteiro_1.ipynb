{
  "nbformat": 4,
  "nbformat_minor": 0,
  "metadata": {
    "colab": {
      "provenance": [],
      "authorship_tag": "ABX9TyOxjMzNdTPDs/JoTQVdmVgI",
      "include_colab_link": true
    },
    "kernelspec": {
      "name": "python3",
      "display_name": "Python 3"
    },
    "language_info": {
      "name": "python"
    }
  },
  "cells": [
    {
      "cell_type": "markdown",
      "metadata": {
        "id": "view-in-github",
        "colab_type": "text"
      },
      "source": [
        "<a href=\"https://colab.research.google.com/github/elainedias16/TCC/blob/main/Roteiro_1.ipynb\" target=\"_parent\"><img src=\"https://colab.research.google.com/assets/colab-badge.svg\" alt=\"Open In Colab\"/></a>"
      ]
    },
    {
      "cell_type": "code",
      "execution_count": 8,
      "metadata": {
        "colab": {
          "base_uri": "https://localhost:8080/"
        },
        "id": "F41CEvLTU-2a",
        "outputId": "7d4a58e4-4415-4397-957f-b1f9c732f657"
      },
      "outputs": [
        {
          "output_type": "stream",
          "name": "stdout",
          "text": [
            "Em um dia ensolarado de verão , enquanto caminhava pela praia de areias douradas, Ana encontrou uma concha brilhante e delicada. Ela ouviu o som das ondas quebrando suavemente na costa e sentiu a brisa fresca acariciando seu rosto. A sensação de liberdade e serenidade a envolveu enquanto ela admirava a beleza natural ao seu redor.\n",
            "\n",
            "Sentada sob a sombra de uma palmeira, Ana decidiu documentar esse momento especial em seu Instagram . Ela tirou uma foto da paisagem deslumbrante e compartilhou com seus amigos e seguidores, adicionando a legenda: \"A vida é feita de momentos como este. Grata pela beleza da natureza!\"\n",
            "\n",
            "Enquanto digitava a legenda, Ana sentiu uma profunda conexão com o mundo ao seu redor. Ela percebeu como as pequenas coisas podem trazer tanta alegria e inspiração. Com um sorriso no rosto, ela guardou a concha como uma lembrança desse dia inesquecível e continuou sua jornada ao longo da praia, apreciando cada momento precioso.\n"
          ]
        }
      ],
      "source": [
        "import pandas as pd\n",
        "from bs4 import BeautifulSoup\n",
        "\n",
        "\n",
        "def remove_tags(html):\n",
        "    # parse html content\n",
        "    soup = BeautifulSoup(html, \"html.parser\")\n",
        "\n",
        "    for data in soup(['style', 'script']):\n",
        "        # Remove tags\n",
        "        data.decompose()\n",
        "\n",
        "    # return data by retrieving the tag content\n",
        "    return ' '.join(soup.stripped_strings)\n",
        "\n",
        "\n",
        "d = \"\"\"\n",
        "Em um dia ensolarado de <span style=\"color:blue;\">verão</span>, enquanto caminhava pela <strong>praia</strong> de areias douradas, Ana encontrou uma concha <em>brilhante</em> e delicada. Ela ouviu o som das ondas quebrando suavemente na costa e sentiu a brisa fresca acariciando seu rosto. A sensação de liberdade e serenidade a envolveu enquanto ela admirava a beleza natural ao seu redor.\n",
        "\n",
        "Sentada sob a sombra de uma palmeira, Ana decidiu documentar esse momento especial em seu <a href=\"https://www.instagram.com/\" target=\"_blank\">Instagram</a>. Ela tirou uma foto da paisagem deslumbrante e compartilhou com seus amigos e seguidores, adicionando a legenda: \"A vida é feita de momentos como este. Grata pela beleza da natureza!\"\n",
        "\n",
        "Enquanto digitava a legenda, Ana sentiu uma profunda conexão com o mundo ao seu redor. Ela percebeu como as pequenas coisas podem trazer tanta alegria e inspiração. Com um sorriso no rosto, ela guardou a concha como uma lembrança desse dia inesquecível e continuou sua jornada ao longo da praia, apreciando cada momento precioso.\n",
        "\"\"\"\n",
        "# palavras = d.split()\n",
        "\n",
        "# # Criando um DataFrame com as palavras\n",
        "# df = pd.DataFrame(palavras, columns=['Palavra'])\n",
        "\n",
        "print(remove_tags(d))"
      ]
    }
  ]
}