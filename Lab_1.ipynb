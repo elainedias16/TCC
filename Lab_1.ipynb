{
  "cells": [
    {
      "cell_type": "markdown",
      "metadata": {
        "id": "view-in-github",
        "colab_type": "text"
      },
      "source": [
        "<a href=\"https://colab.research.google.com/github/elainedias16/TCC/blob/main/Lab_1.ipynb\" target=\"_parent\"><img src=\"https://colab.research.google.com/assets/colab-badge.svg\" alt=\"Open In Colab\"/></a>"
      ]
    },
    {
      "cell_type": "markdown",
      "metadata": {
        "id": "Jl4Egujif7rI"
      },
      "source": [
        "#BBC News Dataset"
      ]
    },
    {
      "cell_type": "markdown",
      "metadata": {
        "id": "Hi-Oba93h5GF"
      },
      "source": [
        "# Reading the Dataset and Creating the Dataframe"
      ]
    },
    {
      "cell_type": "code",
      "execution_count": 1,
      "metadata": {
        "colab": {
          "base_uri": "https://localhost:8080/",
          "height": 206
        },
        "id": "ZfCvfqcnf7Vb",
        "outputId": "ee5d1ce8-70e7-4ac6-cc9a-5cda9f10dc2f"
      },
      "outputs": [
        {
          "output_type": "execute_result",
          "data": {
            "text/plain": [
              "     genre filename                             title  \\\n",
              "2220  tech  397.txt  BT program to beat dialler scams   \n",
              "2221  tech  398.txt   Spam e-mails tempt net shoppers   \n",
              "2222  tech  399.txt           Be careful how you code   \n",
              "2223  tech  400.txt   US cyber security chief resigns   \n",
              "2224  tech  401.txt  Losing yourself in online gaming   \n",
              "\n",
              "                                                content  \n",
              "2220   BT is introducing two initiatives to help bea...  \n",
              "2221   Computer users across the world continue to i...  \n",
              "2222   A new European directive could put software w...  \n",
              "2223   The man making sure US computer networks are ...  \n",
              "2224   Online role playing games are time-consuming,...  "
            ],
            "text/html": [
              "\n",
              "  <div id=\"df-97edcc68-f56d-4dc1-9a73-7ceb63b99a36\" class=\"colab-df-container\">\n",
              "    <div>\n",
              "<style scoped>\n",
              "    .dataframe tbody tr th:only-of-type {\n",
              "        vertical-align: middle;\n",
              "    }\n",
              "\n",
              "    .dataframe tbody tr th {\n",
              "        vertical-align: top;\n",
              "    }\n",
              "\n",
              "    .dataframe thead th {\n",
              "        text-align: right;\n",
              "    }\n",
              "</style>\n",
              "<table border=\"1\" class=\"dataframe\">\n",
              "  <thead>\n",
              "    <tr style=\"text-align: right;\">\n",
              "      <th></th>\n",
              "      <th>genre</th>\n",
              "      <th>filename</th>\n",
              "      <th>title</th>\n",
              "      <th>content</th>\n",
              "    </tr>\n",
              "  </thead>\n",
              "  <tbody>\n",
              "    <tr>\n",
              "      <th>2220</th>\n",
              "      <td>tech</td>\n",
              "      <td>397.txt</td>\n",
              "      <td>BT program to beat dialler scams</td>\n",
              "      <td>BT is introducing two initiatives to help bea...</td>\n",
              "    </tr>\n",
              "    <tr>\n",
              "      <th>2221</th>\n",
              "      <td>tech</td>\n",
              "      <td>398.txt</td>\n",
              "      <td>Spam e-mails tempt net shoppers</td>\n",
              "      <td>Computer users across the world continue to i...</td>\n",
              "    </tr>\n",
              "    <tr>\n",
              "      <th>2222</th>\n",
              "      <td>tech</td>\n",
              "      <td>399.txt</td>\n",
              "      <td>Be careful how you code</td>\n",
              "      <td>A new European directive could put software w...</td>\n",
              "    </tr>\n",
              "    <tr>\n",
              "      <th>2223</th>\n",
              "      <td>tech</td>\n",
              "      <td>400.txt</td>\n",
              "      <td>US cyber security chief resigns</td>\n",
              "      <td>The man making sure US computer networks are ...</td>\n",
              "    </tr>\n",
              "    <tr>\n",
              "      <th>2224</th>\n",
              "      <td>tech</td>\n",
              "      <td>401.txt</td>\n",
              "      <td>Losing yourself in online gaming</td>\n",
              "      <td>Online role playing games are time-consuming,...</td>\n",
              "    </tr>\n",
              "  </tbody>\n",
              "</table>\n",
              "</div>\n",
              "    <div class=\"colab-df-buttons\">\n",
              "\n",
              "  <div class=\"colab-df-container\">\n",
              "    <button class=\"colab-df-convert\" onclick=\"convertToInteractive('df-97edcc68-f56d-4dc1-9a73-7ceb63b99a36')\"\n",
              "            title=\"Convert this dataframe to an interactive table.\"\n",
              "            style=\"display:none;\">\n",
              "\n",
              "  <svg xmlns=\"http://www.w3.org/2000/svg\" height=\"24px\" viewBox=\"0 -960 960 960\">\n",
              "    <path d=\"M120-120v-720h720v720H120Zm60-500h600v-160H180v160Zm220 220h160v-160H400v160Zm0 220h160v-160H400v160ZM180-400h160v-160H180v160Zm440 0h160v-160H620v160ZM180-180h160v-160H180v160Zm440 0h160v-160H620v160Z\"/>\n",
              "  </svg>\n",
              "    </button>\n",
              "\n",
              "  <style>\n",
              "    .colab-df-container {\n",
              "      display:flex;\n",
              "      gap: 12px;\n",
              "    }\n",
              "\n",
              "    .colab-df-convert {\n",
              "      background-color: #E8F0FE;\n",
              "      border: none;\n",
              "      border-radius: 50%;\n",
              "      cursor: pointer;\n",
              "      display: none;\n",
              "      fill: #1967D2;\n",
              "      height: 32px;\n",
              "      padding: 0 0 0 0;\n",
              "      width: 32px;\n",
              "    }\n",
              "\n",
              "    .colab-df-convert:hover {\n",
              "      background-color: #E2EBFA;\n",
              "      box-shadow: 0px 1px 2px rgba(60, 64, 67, 0.3), 0px 1px 3px 1px rgba(60, 64, 67, 0.15);\n",
              "      fill: #174EA6;\n",
              "    }\n",
              "\n",
              "    .colab-df-buttons div {\n",
              "      margin-bottom: 4px;\n",
              "    }\n",
              "\n",
              "    [theme=dark] .colab-df-convert {\n",
              "      background-color: #3B4455;\n",
              "      fill: #D2E3FC;\n",
              "    }\n",
              "\n",
              "    [theme=dark] .colab-df-convert:hover {\n",
              "      background-color: #434B5C;\n",
              "      box-shadow: 0px 1px 3px 1px rgba(0, 0, 0, 0.15);\n",
              "      filter: drop-shadow(0px 1px 2px rgba(0, 0, 0, 0.3));\n",
              "      fill: #FFFFFF;\n",
              "    }\n",
              "  </style>\n",
              "\n",
              "    <script>\n",
              "      const buttonEl =\n",
              "        document.querySelector('#df-97edcc68-f56d-4dc1-9a73-7ceb63b99a36 button.colab-df-convert');\n",
              "      buttonEl.style.display =\n",
              "        google.colab.kernel.accessAllowed ? 'block' : 'none';\n",
              "\n",
              "      async function convertToInteractive(key) {\n",
              "        const element = document.querySelector('#df-97edcc68-f56d-4dc1-9a73-7ceb63b99a36');\n",
              "        const dataTable =\n",
              "          await google.colab.kernel.invokeFunction('convertToInteractive',\n",
              "                                                    [key], {});\n",
              "        if (!dataTable) return;\n",
              "\n",
              "        const docLinkHtml = 'Like what you see? Visit the ' +\n",
              "          '<a target=\"_blank\" href=https://colab.research.google.com/notebooks/data_table.ipynb>data table notebook</a>'\n",
              "          + ' to learn more about interactive tables.';\n",
              "        element.innerHTML = '';\n",
              "        dataTable['output_type'] = 'display_data';\n",
              "        await google.colab.output.renderOutput(dataTable, element);\n",
              "        const docLink = document.createElement('div');\n",
              "        docLink.innerHTML = docLinkHtml;\n",
              "        element.appendChild(docLink);\n",
              "      }\n",
              "    </script>\n",
              "  </div>\n",
              "\n",
              "\n",
              "<div id=\"df-7ac2c04f-e839-48c7-8b2b-be9b41f47a85\">\n",
              "  <button class=\"colab-df-quickchart\" onclick=\"quickchart('df-7ac2c04f-e839-48c7-8b2b-be9b41f47a85')\"\n",
              "            title=\"Suggest charts\"\n",
              "            style=\"display:none;\">\n",
              "\n",
              "<svg xmlns=\"http://www.w3.org/2000/svg\" height=\"24px\"viewBox=\"0 0 24 24\"\n",
              "     width=\"24px\">\n",
              "    <g>\n",
              "        <path d=\"M19 3H5c-1.1 0-2 .9-2 2v14c0 1.1.9 2 2 2h14c1.1 0 2-.9 2-2V5c0-1.1-.9-2-2-2zM9 17H7v-7h2v7zm4 0h-2V7h2v10zm4 0h-2v-4h2v4z\"/>\n",
              "    </g>\n",
              "</svg>\n",
              "  </button>\n",
              "\n",
              "<style>\n",
              "  .colab-df-quickchart {\n",
              "      --bg-color: #E8F0FE;\n",
              "      --fill-color: #1967D2;\n",
              "      --hover-bg-color: #E2EBFA;\n",
              "      --hover-fill-color: #174EA6;\n",
              "      --disabled-fill-color: #AAA;\n",
              "      --disabled-bg-color: #DDD;\n",
              "  }\n",
              "\n",
              "  [theme=dark] .colab-df-quickchart {\n",
              "      --bg-color: #3B4455;\n",
              "      --fill-color: #D2E3FC;\n",
              "      --hover-bg-color: #434B5C;\n",
              "      --hover-fill-color: #FFFFFF;\n",
              "      --disabled-bg-color: #3B4455;\n",
              "      --disabled-fill-color: #666;\n",
              "  }\n",
              "\n",
              "  .colab-df-quickchart {\n",
              "    background-color: var(--bg-color);\n",
              "    border: none;\n",
              "    border-radius: 50%;\n",
              "    cursor: pointer;\n",
              "    display: none;\n",
              "    fill: var(--fill-color);\n",
              "    height: 32px;\n",
              "    padding: 0;\n",
              "    width: 32px;\n",
              "  }\n",
              "\n",
              "  .colab-df-quickchart:hover {\n",
              "    background-color: var(--hover-bg-color);\n",
              "    box-shadow: 0 1px 2px rgba(60, 64, 67, 0.3), 0 1px 3px 1px rgba(60, 64, 67, 0.15);\n",
              "    fill: var(--button-hover-fill-color);\n",
              "  }\n",
              "\n",
              "  .colab-df-quickchart-complete:disabled,\n",
              "  .colab-df-quickchart-complete:disabled:hover {\n",
              "    background-color: var(--disabled-bg-color);\n",
              "    fill: var(--disabled-fill-color);\n",
              "    box-shadow: none;\n",
              "  }\n",
              "\n",
              "  .colab-df-spinner {\n",
              "    border: 2px solid var(--fill-color);\n",
              "    border-color: transparent;\n",
              "    border-bottom-color: var(--fill-color);\n",
              "    animation:\n",
              "      spin 1s steps(1) infinite;\n",
              "  }\n",
              "\n",
              "  @keyframes spin {\n",
              "    0% {\n",
              "      border-color: transparent;\n",
              "      border-bottom-color: var(--fill-color);\n",
              "      border-left-color: var(--fill-color);\n",
              "    }\n",
              "    20% {\n",
              "      border-color: transparent;\n",
              "      border-left-color: var(--fill-color);\n",
              "      border-top-color: var(--fill-color);\n",
              "    }\n",
              "    30% {\n",
              "      border-color: transparent;\n",
              "      border-left-color: var(--fill-color);\n",
              "      border-top-color: var(--fill-color);\n",
              "      border-right-color: var(--fill-color);\n",
              "    }\n",
              "    40% {\n",
              "      border-color: transparent;\n",
              "      border-right-color: var(--fill-color);\n",
              "      border-top-color: var(--fill-color);\n",
              "    }\n",
              "    60% {\n",
              "      border-color: transparent;\n",
              "      border-right-color: var(--fill-color);\n",
              "    }\n",
              "    80% {\n",
              "      border-color: transparent;\n",
              "      border-right-color: var(--fill-color);\n",
              "      border-bottom-color: var(--fill-color);\n",
              "    }\n",
              "    90% {\n",
              "      border-color: transparent;\n",
              "      border-bottom-color: var(--fill-color);\n",
              "    }\n",
              "  }\n",
              "</style>\n",
              "\n",
              "  <script>\n",
              "    async function quickchart(key) {\n",
              "      const quickchartButtonEl =\n",
              "        document.querySelector('#' + key + ' button');\n",
              "      quickchartButtonEl.disabled = true;  // To prevent multiple clicks.\n",
              "      quickchartButtonEl.classList.add('colab-df-spinner');\n",
              "      try {\n",
              "        const charts = await google.colab.kernel.invokeFunction(\n",
              "            'suggestCharts', [key], {});\n",
              "      } catch (error) {\n",
              "        console.error('Error during call to suggestCharts:', error);\n",
              "      }\n",
              "      quickchartButtonEl.classList.remove('colab-df-spinner');\n",
              "      quickchartButtonEl.classList.add('colab-df-quickchart-complete');\n",
              "    }\n",
              "    (() => {\n",
              "      let quickchartButtonEl =\n",
              "        document.querySelector('#df-7ac2c04f-e839-48c7-8b2b-be9b41f47a85 button');\n",
              "      quickchartButtonEl.style.display =\n",
              "        google.colab.kernel.accessAllowed ? 'block' : 'none';\n",
              "    })();\n",
              "  </script>\n",
              "</div>\n",
              "    </div>\n",
              "  </div>\n"
            ],
            "application/vnd.google.colaboratory.intrinsic+json": {
              "type": "dataframe",
              "summary": "{\n  \"name\": \"df\",\n  \"rows\": 5,\n  \"fields\": [\n    {\n      \"column\": \"genre\",\n      \"properties\": {\n        \"dtype\": \"category\",\n        \"num_unique_values\": 1,\n        \"samples\": [\n          \"tech\"\n        ],\n        \"semantic_type\": \"\",\n        \"description\": \"\"\n      }\n    },\n    {\n      \"column\": \"filename\",\n      \"properties\": {\n        \"dtype\": \"string\",\n        \"num_unique_values\": 5,\n        \"samples\": [\n          \"398.txt\"\n        ],\n        \"semantic_type\": \"\",\n        \"description\": \"\"\n      }\n    },\n    {\n      \"column\": \"title\",\n      \"properties\": {\n        \"dtype\": \"string\",\n        \"num_unique_values\": 5,\n        \"samples\": [\n          \"Spam e-mails tempt net shoppers\"\n        ],\n        \"semantic_type\": \"\",\n        \"description\": \"\"\n      }\n    },\n    {\n      \"column\": \"content\",\n      \"properties\": {\n        \"dtype\": \"string\",\n        \"num_unique_values\": 5,\n        \"samples\": [\n          \" Computer users across the world continue to ignore security warnings about spam e-mails and are being lured into buying goods, a report suggests.  More than a quarter have bought software through spam e-mails and 24% have bought clothes or jewellery. As well as profiting from selling goods or services and driving advertising traffic, organised crime rings can use spam to glean personal information. The Business Software Alliance (BSA) warned that people should \\\"stay alert\\\". \\\"Many online consumers don't consider the true motives of spammers,\\\" said Mike Newton, a spokesperson for the BSA which commissioned the survey.  \\\"By selling software that appears to be legitimate in genuine looking packaging or through sophisticated websites, spammers are hiding spyware without consumers' knowledge. \\\"Once the software is installed on PCs and networks, information that is given over the internet can be obtained and abused.\\\"  The results also showed that the proportion of people reading - or admitting to reading - and taking advantage of adult entertainment spam e-mails is low, at one in 10. The research, which covered 6,000 people in six countries and their attitudes towards junk e-mails, revealed that Brazilians were the most likely to read spam. A third of them read unsolicited junk e-mail and 66% buy goods or services after receiving spam.  The French were the second most likely to buy something (48%), with 44% of Britons taking advantage of products and services. This was despite 38% of people in all countries being worried about their net security because of the amount of spam they get. More than a third of respondents said they were concerned that spam e-mails contained viruses or programs that attempted to collect personal information. \\\"Both industry and the media have helped to raise awareness of the issues that surround illegitimate e-mail, helping to reduce the potential financial damage and nuisance from phishing attacks and spoof websites,\\\" said William Plante, director of corporate security and fraud protection at security firm Symantec. \\\"At the same time, consumers need to continue exercising caution and protect themselves from harm with a mixture of spam filters, spyware detection software and sound judgement.\\\" \"\n        ],\n        \"semantic_type\": \"\",\n        \"description\": \"\"\n      }\n    }\n  ]\n}"
            }
          },
          "metadata": {},
          "execution_count": 1
        }
      ],
      "source": [
        "import pandas as pd\n",
        "\n",
        "id_file = '1m41gWGwnLYo0nAEOABnU_MH_SCQHWfjS'\n",
        "url_file = 'https://drive.google.com/uc?id={}'.format(id_file)\n",
        "\n",
        "def create_dataframe(path):\n",
        "    columns=['genre', 'filename', 'title', 'content']\n",
        "    df =  pd.read_table(\n",
        "    path,\n",
        "    header=None,\n",
        "    names=columns,\n",
        "    sep= '\\t',\n",
        "    engine= 'python'\n",
        "    )\n",
        "    return df\n",
        "\n",
        "\n",
        "df = create_dataframe(url_file)\n",
        "df = df.drop(0).reset_index(drop=True)\n",
        "\n",
        "df.tail()"
      ]
    },
    {
      "cell_type": "code",
      "execution_count": 2,
      "metadata": {
        "colab": {
          "base_uri": "https://localhost:8080/"
        },
        "id": "qc8Qt5cOERDj",
        "outputId": "bf28f442-3a0b-4c4b-fa1d-ef402d6ad69d"
      },
      "outputs": [
        {
          "output_type": "stream",
          "name": "stderr",
          "text": [
            "[nltk_data] Downloading package punkt to /root/nltk_data...\n",
            "[nltk_data]   Unzipping tokenizers/punkt.zip.\n",
            "[nltk_data] Downloading package stopwords to /root/nltk_data...\n",
            "[nltk_data]   Unzipping corpora/stopwords.zip.\n"
          ]
        },
        {
          "output_type": "stream",
          "name": "stdout",
          "text": [
            "Collecting unidecode\n",
            "  Downloading Unidecode-1.3.8-py3-none-any.whl (235 kB)\n",
            "\u001b[2K     \u001b[90m━━━━━━━━━━━━━━━━━━━━━━━━━━━━━━━━━━━━━━━━\u001b[0m \u001b[32m235.5/235.5 kB\u001b[0m \u001b[31m2.1 MB/s\u001b[0m eta \u001b[36m0:00:00\u001b[0m\n",
            "\u001b[?25hInstalling collected packages: unidecode\n",
            "Successfully installed unidecode-1.3.8\n",
            "Collecting en-core-web-sm==3.7.1\n",
            "  Downloading https://github.com/explosion/spacy-models/releases/download/en_core_web_sm-3.7.1/en_core_web_sm-3.7.1-py3-none-any.whl (12.8 MB)\n",
            "\u001b[2K     \u001b[90m━━━━━━━━━━━━━━━━━━━━━━━━━━━━━━━━━━━━━━━━\u001b[0m \u001b[32m12.8/12.8 MB\u001b[0m \u001b[31m29.0 MB/s\u001b[0m eta \u001b[36m0:00:00\u001b[0m\n",
            "\u001b[?25hRequirement already satisfied: spacy<3.8.0,>=3.7.2 in /usr/local/lib/python3.10/dist-packages (from en-core-web-sm==3.7.1) (3.7.4)\n",
            "Requirement already satisfied: spacy-legacy<3.1.0,>=3.0.11 in /usr/local/lib/python3.10/dist-packages (from spacy<3.8.0,>=3.7.2->en-core-web-sm==3.7.1) (3.0.12)\n",
            "Requirement already satisfied: spacy-loggers<2.0.0,>=1.0.0 in /usr/local/lib/python3.10/dist-packages (from spacy<3.8.0,>=3.7.2->en-core-web-sm==3.7.1) (1.0.5)\n",
            "Requirement already satisfied: murmurhash<1.1.0,>=0.28.0 in /usr/local/lib/python3.10/dist-packages (from spacy<3.8.0,>=3.7.2->en-core-web-sm==3.7.1) (1.0.10)\n",
            "Requirement already satisfied: cymem<2.1.0,>=2.0.2 in /usr/local/lib/python3.10/dist-packages (from spacy<3.8.0,>=3.7.2->en-core-web-sm==3.7.1) (2.0.8)\n",
            "Requirement already satisfied: preshed<3.1.0,>=3.0.2 in /usr/local/lib/python3.10/dist-packages (from spacy<3.8.0,>=3.7.2->en-core-web-sm==3.7.1) (3.0.9)\n",
            "Requirement already satisfied: thinc<8.3.0,>=8.2.2 in /usr/local/lib/python3.10/dist-packages (from spacy<3.8.0,>=3.7.2->en-core-web-sm==3.7.1) (8.2.3)\n",
            "Requirement already satisfied: wasabi<1.2.0,>=0.9.1 in /usr/local/lib/python3.10/dist-packages (from spacy<3.8.0,>=3.7.2->en-core-web-sm==3.7.1) (1.1.2)\n",
            "Requirement already satisfied: srsly<3.0.0,>=2.4.3 in /usr/local/lib/python3.10/dist-packages (from spacy<3.8.0,>=3.7.2->en-core-web-sm==3.7.1) (2.4.8)\n",
            "Requirement already satisfied: catalogue<2.1.0,>=2.0.6 in /usr/local/lib/python3.10/dist-packages (from spacy<3.8.0,>=3.7.2->en-core-web-sm==3.7.1) (2.0.10)\n",
            "Requirement already satisfied: weasel<0.4.0,>=0.1.0 in /usr/local/lib/python3.10/dist-packages (from spacy<3.8.0,>=3.7.2->en-core-web-sm==3.7.1) (0.3.4)\n",
            "Requirement already satisfied: typer<0.10.0,>=0.3.0 in /usr/local/lib/python3.10/dist-packages (from spacy<3.8.0,>=3.7.2->en-core-web-sm==3.7.1) (0.9.4)\n",
            "Requirement already satisfied: smart-open<7.0.0,>=5.2.1 in /usr/local/lib/python3.10/dist-packages (from spacy<3.8.0,>=3.7.2->en-core-web-sm==3.7.1) (6.4.0)\n",
            "Requirement already satisfied: tqdm<5.0.0,>=4.38.0 in /usr/local/lib/python3.10/dist-packages (from spacy<3.8.0,>=3.7.2->en-core-web-sm==3.7.1) (4.66.4)\n",
            "Requirement already satisfied: requests<3.0.0,>=2.13.0 in /usr/local/lib/python3.10/dist-packages (from spacy<3.8.0,>=3.7.2->en-core-web-sm==3.7.1) (2.31.0)\n",
            "Requirement already satisfied: pydantic!=1.8,!=1.8.1,<3.0.0,>=1.7.4 in /usr/local/lib/python3.10/dist-packages (from spacy<3.8.0,>=3.7.2->en-core-web-sm==3.7.1) (2.7.1)\n",
            "Requirement already satisfied: jinja2 in /usr/local/lib/python3.10/dist-packages (from spacy<3.8.0,>=3.7.2->en-core-web-sm==3.7.1) (3.1.4)\n",
            "Requirement already satisfied: setuptools in /usr/local/lib/python3.10/dist-packages (from spacy<3.8.0,>=3.7.2->en-core-web-sm==3.7.1) (67.7.2)\n",
            "Requirement already satisfied: packaging>=20.0 in /usr/local/lib/python3.10/dist-packages (from spacy<3.8.0,>=3.7.2->en-core-web-sm==3.7.1) (24.0)\n",
            "Requirement already satisfied: langcodes<4.0.0,>=3.2.0 in /usr/local/lib/python3.10/dist-packages (from spacy<3.8.0,>=3.7.2->en-core-web-sm==3.7.1) (3.4.0)\n",
            "Requirement already satisfied: numpy>=1.19.0 in /usr/local/lib/python3.10/dist-packages (from spacy<3.8.0,>=3.7.2->en-core-web-sm==3.7.1) (1.25.2)\n",
            "Requirement already satisfied: language-data>=1.2 in /usr/local/lib/python3.10/dist-packages (from langcodes<4.0.0,>=3.2.0->spacy<3.8.0,>=3.7.2->en-core-web-sm==3.7.1) (1.2.0)\n",
            "Requirement already satisfied: annotated-types>=0.4.0 in /usr/local/lib/python3.10/dist-packages (from pydantic!=1.8,!=1.8.1,<3.0.0,>=1.7.4->spacy<3.8.0,>=3.7.2->en-core-web-sm==3.7.1) (0.6.0)\n",
            "Requirement already satisfied: pydantic-core==2.18.2 in /usr/local/lib/python3.10/dist-packages (from pydantic!=1.8,!=1.8.1,<3.0.0,>=1.7.4->spacy<3.8.0,>=3.7.2->en-core-web-sm==3.7.1) (2.18.2)\n",
            "Requirement already satisfied: typing-extensions>=4.6.1 in /usr/local/lib/python3.10/dist-packages (from pydantic!=1.8,!=1.8.1,<3.0.0,>=1.7.4->spacy<3.8.0,>=3.7.2->en-core-web-sm==3.7.1) (4.11.0)\n",
            "Requirement already satisfied: charset-normalizer<4,>=2 in /usr/local/lib/python3.10/dist-packages (from requests<3.0.0,>=2.13.0->spacy<3.8.0,>=3.7.2->en-core-web-sm==3.7.1) (3.3.2)\n",
            "Requirement already satisfied: idna<4,>=2.5 in /usr/local/lib/python3.10/dist-packages (from requests<3.0.0,>=2.13.0->spacy<3.8.0,>=3.7.2->en-core-web-sm==3.7.1) (3.7)\n",
            "Requirement already satisfied: urllib3<3,>=1.21.1 in /usr/local/lib/python3.10/dist-packages (from requests<3.0.0,>=2.13.0->spacy<3.8.0,>=3.7.2->en-core-web-sm==3.7.1) (2.0.7)\n",
            "Requirement already satisfied: certifi>=2017.4.17 in /usr/local/lib/python3.10/dist-packages (from requests<3.0.0,>=2.13.0->spacy<3.8.0,>=3.7.2->en-core-web-sm==3.7.1) (2024.2.2)\n",
            "Requirement already satisfied: blis<0.8.0,>=0.7.8 in /usr/local/lib/python3.10/dist-packages (from thinc<8.3.0,>=8.2.2->spacy<3.8.0,>=3.7.2->en-core-web-sm==3.7.1) (0.7.11)\n",
            "Requirement already satisfied: confection<1.0.0,>=0.0.1 in /usr/local/lib/python3.10/dist-packages (from thinc<8.3.0,>=8.2.2->spacy<3.8.0,>=3.7.2->en-core-web-sm==3.7.1) (0.1.4)\n",
            "Requirement already satisfied: click<9.0.0,>=7.1.1 in /usr/local/lib/python3.10/dist-packages (from typer<0.10.0,>=0.3.0->spacy<3.8.0,>=3.7.2->en-core-web-sm==3.7.1) (8.1.7)\n",
            "Requirement already satisfied: cloudpathlib<0.17.0,>=0.7.0 in /usr/local/lib/python3.10/dist-packages (from weasel<0.4.0,>=0.1.0->spacy<3.8.0,>=3.7.2->en-core-web-sm==3.7.1) (0.16.0)\n",
            "Requirement already satisfied: MarkupSafe>=2.0 in /usr/local/lib/python3.10/dist-packages (from jinja2->spacy<3.8.0,>=3.7.2->en-core-web-sm==3.7.1) (2.1.5)\n",
            "Requirement already satisfied: marisa-trie>=0.7.7 in /usr/local/lib/python3.10/dist-packages (from language-data>=1.2->langcodes<4.0.0,>=3.2.0->spacy<3.8.0,>=3.7.2->en-core-web-sm==3.7.1) (1.1.1)\n",
            "\u001b[38;5;2m✔ Download and installation successful\u001b[0m\n",
            "You can now load the package via spacy.load('en_core_web_sm')\n",
            "\u001b[38;5;3m⚠ Restart to reload dependencies\u001b[0m\n",
            "If you are in a Jupyter or Colab notebook, you may need to restart Python in\n",
            "order to load all the package's dependencies. You can do this by selecting the\n",
            "'Restart kernel' or 'Restart runtime' option.\n"
          ]
        }
      ],
      "source": [
        "import nltk\n",
        "nltk.download('punkt')\n",
        "from nltk import sent_tokenize, word_tokenize\n",
        "\n",
        "nltk.download('stopwords')\n",
        "from nltk.corpus import stopwords\n",
        "stop_words = set(stopwords.words('english'))\n",
        "\n",
        "import spacy\n",
        "from spacy.lang.en.examples import sentences\n",
        "\n",
        "!pip install unidecode\n",
        "import unidecode\n",
        "from nltk.stem.porter import PorterStemmer\n",
        "!python -m spacy download en_core_web_sm\n"
      ]
    },
    {
      "cell_type": "markdown",
      "metadata": {
        "id": "3ilwNYIrN9Ic"
      },
      "source": [
        "## Rename filenames"
      ]
    },
    {
      "cell_type": "code",
      "execution_count": 3,
      "metadata": {
        "id": "8vz9NaoUuc9z"
      },
      "outputs": [],
      "source": [
        "# In BBC dataset, some filenames have the same name, for example 001.txt, so it's necessary to rename\n",
        "def rename_filenames(df):\n",
        "  for index, row in df.iterrows():\n",
        "      df.at[index, 'filename'] = f\"{index}.txt\"\n",
        "  return df\n",
        "\n",
        "df = rename_filenames(df)"
      ]
    },
    {
      "cell_type": "markdown",
      "metadata": {
        "id": "vYD1MuadaMje"
      },
      "source": [
        "## Create dataset with less samples"
      ]
    },
    {
      "cell_type": "code",
      "execution_count": 4,
      "metadata": {
        "id": "tlbvQyjkLLbc"
      },
      "outputs": [],
      "source": [
        "import random\n",
        "\n",
        "# def create_balanced_small_df(df, genres, num):\n",
        "#   small_df_list = []\n",
        "#   for genre in genres:\n",
        "#     sample_rows = df.sample(num)\n",
        "#     small_df_list.append(sample_rows)\n",
        "#   return pd.concat(small_df_list).reset_index(drop=True)\n",
        "\n",
        "def create_imbalanced_small_df(df, genres, max_value):\n",
        "  small_df_list = []\n",
        "  for genre in genres:\n",
        "    qtd = random.randint(1, max_value)\n",
        "    # print(qtd)\n",
        "    sample_rows = df[df['genre'] == genre].sample(qtd)\n",
        "    small_df_list.append(sample_rows)\n",
        "  return pd.concat(small_df_list).reset_index(drop=True)\n"
      ]
    },
    {
      "cell_type": "code",
      "execution_count": 5,
      "metadata": {
        "colab": {
          "base_uri": "https://localhost:8080/",
          "height": 864
        },
        "id": "0DHx_UjlOEVc",
        "outputId": "6ddc13bd-af21-455b-8964-dcf066c1acb1"
      },
      "outputs": [
        {
          "output_type": "execute_result",
          "data": {
            "text/plain": [
              "            genre  filename                              title  \\\n",
              "0        business   487.txt  US budget deficit to reach $368bn   \n",
              "1        business   472.txt    Two Nigerian banks set to merge   \n",
              "2        business   398.txt  Indian oil firm eyes Yukos assets   \n",
              "3   entertainment   726.txt  Baywatch dubbed 'worst TV import'   \n",
              "4   entertainment   776.txt    T in the Park sells out in days   \n",
              "5        politics  1168.txt    'Best person' for top legal job   \n",
              "6        politics   978.txt   Hague 'given up' his PM ambition   \n",
              "7           sport  1641.txt   Umaga ready for \"fearsome\" Lions   \n",
              "8           sport  1786.txt  Mauresmo opens with victory in LA   \n",
              "9           sport  1821.txt   Melzer shocks Agassi in San Jose   \n",
              "10          sport  1495.txt   Mourinho expects fight to finish   \n",
              "11          sport  1659.txt          Moore questions captaincy   \n",
              "12          sport  1584.txt   Newcastle to join Morientes race   \n",
              "13          sport  1818.txt   Rusedski forced out in Marseille   \n",
              "14          sport  1539.txt  Wenger keeping faith with Almunia   \n",
              "15          sport  1617.txt   Kirwan demands Italy consistency   \n",
              "16          sport  1768.txt   Dementieva prevails in Hong Kong   \n",
              "17          sport  1669.txt   Wales want rugby league training   \n",
              "18          sport  1373.txt  Johnson edges out rival Sotherton   \n",
              "19          sport  1466.txt  Reyes tricked into Real admission   \n",
              "20           tech  2025.txt  Remote control rifle range debuts   \n",
              "21           tech  1928.txt        Nuclear body seeks new tech   \n",
              "22           tech  1840.txt   Finding new homes for old phones   \n",
              "23           tech  2029.txt  Row brewing over peer-to-peer ads   \n",
              "24           tech  2189.txt  Rolling out next generation's net   \n",
              "25           tech  1987.txt          Who do you think you are?   \n",
              "\n",
              "                                              content  \n",
              "0    The US budget deficit is set to hit a worse-t...  \n",
              "1    Nigerian banks United Bank of Africa and Stan...  \n",
              "2    India's biggest oil exploration firm, Oil & N...  \n",
              "3    Surf show Baywatch has won the title of worst...  \n",
              "4    Tickets for Scotland's biggest music festival...  \n",
              "5    The \"best person for the job\" should be appoi...  \n",
              "6    Former Conservative leader William Hague says...  \n",
              "7    All Blacks captain Tama Umaga has warned the ...  \n",
              "8    Amelie Mauresmo and Maria Sharapova won their...  \n",
              "9    Second seed Andre Agassi suffered a comprehen...  \n",
              "10   Chelsea manager Jose Mourinho expects the Cha...  \n",
              "11   Brian Moore believes the England captain shou...  \n",
              "12   Newcastle have joined the race to sign Real M...  \n",
              "13   Greg Rusedski was forced to withdraw from the...  \n",
              "14   Arsene Wenger has pledged to keep faith with ...  \n",
              "15   Italy coach John Kirwan has challenged his si...  \n",
              "16   Elena Dementieva swept aside defending champi...  \n",
              "17   Wales could follow England's lead by training...  \n",
              "18   Jade Johnson edged out rival Kelly Sotherton ...  \n",
              "19   Jose Antonio Reyes has added to speculation l...  \n",
              "20   Soon you could go hunting via the net.  A Tex...  \n",
              "21   The computer systems used to monitor the worl...  \n",
              "22   Re-using old mobile phones is not just good f...  \n",
              "23   Music download networks are proving popular n...  \n",
              "24   The body that oversees how the net works, gro...  \n",
              "25   The real danger is not what happens to your d...  "
            ],
            "text/html": [
              "\n",
              "  <div id=\"df-a11d04ef-e039-4f85-a7da-2892252c7ebe\" class=\"colab-df-container\">\n",
              "    <div>\n",
              "<style scoped>\n",
              "    .dataframe tbody tr th:only-of-type {\n",
              "        vertical-align: middle;\n",
              "    }\n",
              "\n",
              "    .dataframe tbody tr th {\n",
              "        vertical-align: top;\n",
              "    }\n",
              "\n",
              "    .dataframe thead th {\n",
              "        text-align: right;\n",
              "    }\n",
              "</style>\n",
              "<table border=\"1\" class=\"dataframe\">\n",
              "  <thead>\n",
              "    <tr style=\"text-align: right;\">\n",
              "      <th></th>\n",
              "      <th>genre</th>\n",
              "      <th>filename</th>\n",
              "      <th>title</th>\n",
              "      <th>content</th>\n",
              "    </tr>\n",
              "  </thead>\n",
              "  <tbody>\n",
              "    <tr>\n",
              "      <th>0</th>\n",
              "      <td>business</td>\n",
              "      <td>487.txt</td>\n",
              "      <td>US budget deficit to reach $368bn</td>\n",
              "      <td>The US budget deficit is set to hit a worse-t...</td>\n",
              "    </tr>\n",
              "    <tr>\n",
              "      <th>1</th>\n",
              "      <td>business</td>\n",
              "      <td>472.txt</td>\n",
              "      <td>Two Nigerian banks set to merge</td>\n",
              "      <td>Nigerian banks United Bank of Africa and Stan...</td>\n",
              "    </tr>\n",
              "    <tr>\n",
              "      <th>2</th>\n",
              "      <td>business</td>\n",
              "      <td>398.txt</td>\n",
              "      <td>Indian oil firm eyes Yukos assets</td>\n",
              "      <td>India's biggest oil exploration firm, Oil &amp; N...</td>\n",
              "    </tr>\n",
              "    <tr>\n",
              "      <th>3</th>\n",
              "      <td>entertainment</td>\n",
              "      <td>726.txt</td>\n",
              "      <td>Baywatch dubbed 'worst TV import'</td>\n",
              "      <td>Surf show Baywatch has won the title of worst...</td>\n",
              "    </tr>\n",
              "    <tr>\n",
              "      <th>4</th>\n",
              "      <td>entertainment</td>\n",
              "      <td>776.txt</td>\n",
              "      <td>T in the Park sells out in days</td>\n",
              "      <td>Tickets for Scotland's biggest music festival...</td>\n",
              "    </tr>\n",
              "    <tr>\n",
              "      <th>5</th>\n",
              "      <td>politics</td>\n",
              "      <td>1168.txt</td>\n",
              "      <td>'Best person' for top legal job</td>\n",
              "      <td>The \"best person for the job\" should be appoi...</td>\n",
              "    </tr>\n",
              "    <tr>\n",
              "      <th>6</th>\n",
              "      <td>politics</td>\n",
              "      <td>978.txt</td>\n",
              "      <td>Hague 'given up' his PM ambition</td>\n",
              "      <td>Former Conservative leader William Hague says...</td>\n",
              "    </tr>\n",
              "    <tr>\n",
              "      <th>7</th>\n",
              "      <td>sport</td>\n",
              "      <td>1641.txt</td>\n",
              "      <td>Umaga ready for \"fearsome\" Lions</td>\n",
              "      <td>All Blacks captain Tama Umaga has warned the ...</td>\n",
              "    </tr>\n",
              "    <tr>\n",
              "      <th>8</th>\n",
              "      <td>sport</td>\n",
              "      <td>1786.txt</td>\n",
              "      <td>Mauresmo opens with victory in LA</td>\n",
              "      <td>Amelie Mauresmo and Maria Sharapova won their...</td>\n",
              "    </tr>\n",
              "    <tr>\n",
              "      <th>9</th>\n",
              "      <td>sport</td>\n",
              "      <td>1821.txt</td>\n",
              "      <td>Melzer shocks Agassi in San Jose</td>\n",
              "      <td>Second seed Andre Agassi suffered a comprehen...</td>\n",
              "    </tr>\n",
              "    <tr>\n",
              "      <th>10</th>\n",
              "      <td>sport</td>\n",
              "      <td>1495.txt</td>\n",
              "      <td>Mourinho expects fight to finish</td>\n",
              "      <td>Chelsea manager Jose Mourinho expects the Cha...</td>\n",
              "    </tr>\n",
              "    <tr>\n",
              "      <th>11</th>\n",
              "      <td>sport</td>\n",
              "      <td>1659.txt</td>\n",
              "      <td>Moore questions captaincy</td>\n",
              "      <td>Brian Moore believes the England captain shou...</td>\n",
              "    </tr>\n",
              "    <tr>\n",
              "      <th>12</th>\n",
              "      <td>sport</td>\n",
              "      <td>1584.txt</td>\n",
              "      <td>Newcastle to join Morientes race</td>\n",
              "      <td>Newcastle have joined the race to sign Real M...</td>\n",
              "    </tr>\n",
              "    <tr>\n",
              "      <th>13</th>\n",
              "      <td>sport</td>\n",
              "      <td>1818.txt</td>\n",
              "      <td>Rusedski forced out in Marseille</td>\n",
              "      <td>Greg Rusedski was forced to withdraw from the...</td>\n",
              "    </tr>\n",
              "    <tr>\n",
              "      <th>14</th>\n",
              "      <td>sport</td>\n",
              "      <td>1539.txt</td>\n",
              "      <td>Wenger keeping faith with Almunia</td>\n",
              "      <td>Arsene Wenger has pledged to keep faith with ...</td>\n",
              "    </tr>\n",
              "    <tr>\n",
              "      <th>15</th>\n",
              "      <td>sport</td>\n",
              "      <td>1617.txt</td>\n",
              "      <td>Kirwan demands Italy consistency</td>\n",
              "      <td>Italy coach John Kirwan has challenged his si...</td>\n",
              "    </tr>\n",
              "    <tr>\n",
              "      <th>16</th>\n",
              "      <td>sport</td>\n",
              "      <td>1768.txt</td>\n",
              "      <td>Dementieva prevails in Hong Kong</td>\n",
              "      <td>Elena Dementieva swept aside defending champi...</td>\n",
              "    </tr>\n",
              "    <tr>\n",
              "      <th>17</th>\n",
              "      <td>sport</td>\n",
              "      <td>1669.txt</td>\n",
              "      <td>Wales want rugby league training</td>\n",
              "      <td>Wales could follow England's lead by training...</td>\n",
              "    </tr>\n",
              "    <tr>\n",
              "      <th>18</th>\n",
              "      <td>sport</td>\n",
              "      <td>1373.txt</td>\n",
              "      <td>Johnson edges out rival Sotherton</td>\n",
              "      <td>Jade Johnson edged out rival Kelly Sotherton ...</td>\n",
              "    </tr>\n",
              "    <tr>\n",
              "      <th>19</th>\n",
              "      <td>sport</td>\n",
              "      <td>1466.txt</td>\n",
              "      <td>Reyes tricked into Real admission</td>\n",
              "      <td>Jose Antonio Reyes has added to speculation l...</td>\n",
              "    </tr>\n",
              "    <tr>\n",
              "      <th>20</th>\n",
              "      <td>tech</td>\n",
              "      <td>2025.txt</td>\n",
              "      <td>Remote control rifle range debuts</td>\n",
              "      <td>Soon you could go hunting via the net.  A Tex...</td>\n",
              "    </tr>\n",
              "    <tr>\n",
              "      <th>21</th>\n",
              "      <td>tech</td>\n",
              "      <td>1928.txt</td>\n",
              "      <td>Nuclear body seeks new tech</td>\n",
              "      <td>The computer systems used to monitor the worl...</td>\n",
              "    </tr>\n",
              "    <tr>\n",
              "      <th>22</th>\n",
              "      <td>tech</td>\n",
              "      <td>1840.txt</td>\n",
              "      <td>Finding new homes for old phones</td>\n",
              "      <td>Re-using old mobile phones is not just good f...</td>\n",
              "    </tr>\n",
              "    <tr>\n",
              "      <th>23</th>\n",
              "      <td>tech</td>\n",
              "      <td>2029.txt</td>\n",
              "      <td>Row brewing over peer-to-peer ads</td>\n",
              "      <td>Music download networks are proving popular n...</td>\n",
              "    </tr>\n",
              "    <tr>\n",
              "      <th>24</th>\n",
              "      <td>tech</td>\n",
              "      <td>2189.txt</td>\n",
              "      <td>Rolling out next generation's net</td>\n",
              "      <td>The body that oversees how the net works, gro...</td>\n",
              "    </tr>\n",
              "    <tr>\n",
              "      <th>25</th>\n",
              "      <td>tech</td>\n",
              "      <td>1987.txt</td>\n",
              "      <td>Who do you think you are?</td>\n",
              "      <td>The real danger is not what happens to your d...</td>\n",
              "    </tr>\n",
              "  </tbody>\n",
              "</table>\n",
              "</div>\n",
              "    <div class=\"colab-df-buttons\">\n",
              "\n",
              "  <div class=\"colab-df-container\">\n",
              "    <button class=\"colab-df-convert\" onclick=\"convertToInteractive('df-a11d04ef-e039-4f85-a7da-2892252c7ebe')\"\n",
              "            title=\"Convert this dataframe to an interactive table.\"\n",
              "            style=\"display:none;\">\n",
              "\n",
              "  <svg xmlns=\"http://www.w3.org/2000/svg\" height=\"24px\" viewBox=\"0 -960 960 960\">\n",
              "    <path d=\"M120-120v-720h720v720H120Zm60-500h600v-160H180v160Zm220 220h160v-160H400v160Zm0 220h160v-160H400v160ZM180-400h160v-160H180v160Zm440 0h160v-160H620v160ZM180-180h160v-160H180v160Zm440 0h160v-160H620v160Z\"/>\n",
              "  </svg>\n",
              "    </button>\n",
              "\n",
              "  <style>\n",
              "    .colab-df-container {\n",
              "      display:flex;\n",
              "      gap: 12px;\n",
              "    }\n",
              "\n",
              "    .colab-df-convert {\n",
              "      background-color: #E8F0FE;\n",
              "      border: none;\n",
              "      border-radius: 50%;\n",
              "      cursor: pointer;\n",
              "      display: none;\n",
              "      fill: #1967D2;\n",
              "      height: 32px;\n",
              "      padding: 0 0 0 0;\n",
              "      width: 32px;\n",
              "    }\n",
              "\n",
              "    .colab-df-convert:hover {\n",
              "      background-color: #E2EBFA;\n",
              "      box-shadow: 0px 1px 2px rgba(60, 64, 67, 0.3), 0px 1px 3px 1px rgba(60, 64, 67, 0.15);\n",
              "      fill: #174EA6;\n",
              "    }\n",
              "\n",
              "    .colab-df-buttons div {\n",
              "      margin-bottom: 4px;\n",
              "    }\n",
              "\n",
              "    [theme=dark] .colab-df-convert {\n",
              "      background-color: #3B4455;\n",
              "      fill: #D2E3FC;\n",
              "    }\n",
              "\n",
              "    [theme=dark] .colab-df-convert:hover {\n",
              "      background-color: #434B5C;\n",
              "      box-shadow: 0px 1px 3px 1px rgba(0, 0, 0, 0.15);\n",
              "      filter: drop-shadow(0px 1px 2px rgba(0, 0, 0, 0.3));\n",
              "      fill: #FFFFFF;\n",
              "    }\n",
              "  </style>\n",
              "\n",
              "    <script>\n",
              "      const buttonEl =\n",
              "        document.querySelector('#df-a11d04ef-e039-4f85-a7da-2892252c7ebe button.colab-df-convert');\n",
              "      buttonEl.style.display =\n",
              "        google.colab.kernel.accessAllowed ? 'block' : 'none';\n",
              "\n",
              "      async function convertToInteractive(key) {\n",
              "        const element = document.querySelector('#df-a11d04ef-e039-4f85-a7da-2892252c7ebe');\n",
              "        const dataTable =\n",
              "          await google.colab.kernel.invokeFunction('convertToInteractive',\n",
              "                                                    [key], {});\n",
              "        if (!dataTable) return;\n",
              "\n",
              "        const docLinkHtml = 'Like what you see? Visit the ' +\n",
              "          '<a target=\"_blank\" href=https://colab.research.google.com/notebooks/data_table.ipynb>data table notebook</a>'\n",
              "          + ' to learn more about interactive tables.';\n",
              "        element.innerHTML = '';\n",
              "        dataTable['output_type'] = 'display_data';\n",
              "        await google.colab.output.renderOutput(dataTable, element);\n",
              "        const docLink = document.createElement('div');\n",
              "        docLink.innerHTML = docLinkHtml;\n",
              "        element.appendChild(docLink);\n",
              "      }\n",
              "    </script>\n",
              "  </div>\n",
              "\n",
              "\n",
              "<div id=\"df-733fa779-c475-48e4-b463-e6ad297a75c6\">\n",
              "  <button class=\"colab-df-quickchart\" onclick=\"quickchart('df-733fa779-c475-48e4-b463-e6ad297a75c6')\"\n",
              "            title=\"Suggest charts\"\n",
              "            style=\"display:none;\">\n",
              "\n",
              "<svg xmlns=\"http://www.w3.org/2000/svg\" height=\"24px\"viewBox=\"0 0 24 24\"\n",
              "     width=\"24px\">\n",
              "    <g>\n",
              "        <path d=\"M19 3H5c-1.1 0-2 .9-2 2v14c0 1.1.9 2 2 2h14c1.1 0 2-.9 2-2V5c0-1.1-.9-2-2-2zM9 17H7v-7h2v7zm4 0h-2V7h2v10zm4 0h-2v-4h2v4z\"/>\n",
              "    </g>\n",
              "</svg>\n",
              "  </button>\n",
              "\n",
              "<style>\n",
              "  .colab-df-quickchart {\n",
              "      --bg-color: #E8F0FE;\n",
              "      --fill-color: #1967D2;\n",
              "      --hover-bg-color: #E2EBFA;\n",
              "      --hover-fill-color: #174EA6;\n",
              "      --disabled-fill-color: #AAA;\n",
              "      --disabled-bg-color: #DDD;\n",
              "  }\n",
              "\n",
              "  [theme=dark] .colab-df-quickchart {\n",
              "      --bg-color: #3B4455;\n",
              "      --fill-color: #D2E3FC;\n",
              "      --hover-bg-color: #434B5C;\n",
              "      --hover-fill-color: #FFFFFF;\n",
              "      --disabled-bg-color: #3B4455;\n",
              "      --disabled-fill-color: #666;\n",
              "  }\n",
              "\n",
              "  .colab-df-quickchart {\n",
              "    background-color: var(--bg-color);\n",
              "    border: none;\n",
              "    border-radius: 50%;\n",
              "    cursor: pointer;\n",
              "    display: none;\n",
              "    fill: var(--fill-color);\n",
              "    height: 32px;\n",
              "    padding: 0;\n",
              "    width: 32px;\n",
              "  }\n",
              "\n",
              "  .colab-df-quickchart:hover {\n",
              "    background-color: var(--hover-bg-color);\n",
              "    box-shadow: 0 1px 2px rgba(60, 64, 67, 0.3), 0 1px 3px 1px rgba(60, 64, 67, 0.15);\n",
              "    fill: var(--button-hover-fill-color);\n",
              "  }\n",
              "\n",
              "  .colab-df-quickchart-complete:disabled,\n",
              "  .colab-df-quickchart-complete:disabled:hover {\n",
              "    background-color: var(--disabled-bg-color);\n",
              "    fill: var(--disabled-fill-color);\n",
              "    box-shadow: none;\n",
              "  }\n",
              "\n",
              "  .colab-df-spinner {\n",
              "    border: 2px solid var(--fill-color);\n",
              "    border-color: transparent;\n",
              "    border-bottom-color: var(--fill-color);\n",
              "    animation:\n",
              "      spin 1s steps(1) infinite;\n",
              "  }\n",
              "\n",
              "  @keyframes spin {\n",
              "    0% {\n",
              "      border-color: transparent;\n",
              "      border-bottom-color: var(--fill-color);\n",
              "      border-left-color: var(--fill-color);\n",
              "    }\n",
              "    20% {\n",
              "      border-color: transparent;\n",
              "      border-left-color: var(--fill-color);\n",
              "      border-top-color: var(--fill-color);\n",
              "    }\n",
              "    30% {\n",
              "      border-color: transparent;\n",
              "      border-left-color: var(--fill-color);\n",
              "      border-top-color: var(--fill-color);\n",
              "      border-right-color: var(--fill-color);\n",
              "    }\n",
              "    40% {\n",
              "      border-color: transparent;\n",
              "      border-right-color: var(--fill-color);\n",
              "      border-top-color: var(--fill-color);\n",
              "    }\n",
              "    60% {\n",
              "      border-color: transparent;\n",
              "      border-right-color: var(--fill-color);\n",
              "    }\n",
              "    80% {\n",
              "      border-color: transparent;\n",
              "      border-right-color: var(--fill-color);\n",
              "      border-bottom-color: var(--fill-color);\n",
              "    }\n",
              "    90% {\n",
              "      border-color: transparent;\n",
              "      border-bottom-color: var(--fill-color);\n",
              "    }\n",
              "  }\n",
              "</style>\n",
              "\n",
              "  <script>\n",
              "    async function quickchart(key) {\n",
              "      const quickchartButtonEl =\n",
              "        document.querySelector('#' + key + ' button');\n",
              "      quickchartButtonEl.disabled = true;  // To prevent multiple clicks.\n",
              "      quickchartButtonEl.classList.add('colab-df-spinner');\n",
              "      try {\n",
              "        const charts = await google.colab.kernel.invokeFunction(\n",
              "            'suggestCharts', [key], {});\n",
              "      } catch (error) {\n",
              "        console.error('Error during call to suggestCharts:', error);\n",
              "      }\n",
              "      quickchartButtonEl.classList.remove('colab-df-spinner');\n",
              "      quickchartButtonEl.classList.add('colab-df-quickchart-complete');\n",
              "    }\n",
              "    (() => {\n",
              "      let quickchartButtonEl =\n",
              "        document.querySelector('#df-733fa779-c475-48e4-b463-e6ad297a75c6 button');\n",
              "      quickchartButtonEl.style.display =\n",
              "        google.colab.kernel.accessAllowed ? 'block' : 'none';\n",
              "    })();\n",
              "  </script>\n",
              "</div>\n",
              "    </div>\n",
              "  </div>\n"
            ],
            "application/vnd.google.colaboratory.intrinsic+json": {
              "type": "dataframe",
              "variable_name": "small_df",
              "summary": "{\n  \"name\": \"small_df\",\n  \"rows\": 26,\n  \"fields\": [\n    {\n      \"column\": \"genre\",\n      \"properties\": {\n        \"dtype\": \"category\",\n        \"num_unique_values\": 5,\n        \"samples\": [\n          \"entertainment\",\n          \"tech\",\n          \"politics\"\n        ],\n        \"semantic_type\": \"\",\n        \"description\": \"\"\n      }\n    },\n    {\n      \"column\": \"filename\",\n      \"properties\": {\n        \"dtype\": \"string\",\n        \"num_unique_values\": 26,\n        \"samples\": [\n          \"1786.txt\",\n          \"1768.txt\",\n          \"487.txt\"\n        ],\n        \"semantic_type\": \"\",\n        \"description\": \"\"\n      }\n    },\n    {\n      \"column\": \"title\",\n      \"properties\": {\n        \"dtype\": \"string\",\n        \"num_unique_values\": 26,\n        \"samples\": [\n          \"Mauresmo opens with victory in LA\",\n          \"Dementieva prevails in Hong Kong\",\n          \"US budget deficit to reach $368bn\"\n        ],\n        \"semantic_type\": \"\",\n        \"description\": \"\"\n      }\n    },\n    {\n      \"column\": \"content\",\n      \"properties\": {\n        \"dtype\": \"string\",\n        \"num_unique_values\": 26,\n        \"samples\": [\n          \" Amelie Mauresmo and Maria Sharapova won their opening matches at the Tour Championships in Los Angeles.  France's Mauresmo routed Vera Zvonareva 6-1 6-0, while Wimbledon champion Sharapova was a 6-1 6-4 winner over fellow Russian Svetlana Kuznetsova. American Serena Williams also won, edging Russian Elena Dementieva 7-6 7-5 for her second victory of the event. The event is split into two groups of four with the top two from each advancing to the semi-finals.  Mauresmo's win was her ninth in a row as she tries to overtake Lindsay Davenport for the number one spot. Mauresmo spent five weeks at number one after the US Open before injury ushered Davenport back in front. \\\"Since then, I feel very confident on court and my game is there. I want to get the ranking back, but it's very different than before I was number one. \\\"It was an obsession, but now I take it in a relaxed way.\\\" Mauresmo completed her first match in the season-ending championship in 54 minutes as Russia's Zvonareva struggled to return her serve and failed to achieve a single break point.  \\\"She got mad a little bit and I played some great tennis,\\\" said Mauresmo, who was runner-up to Kim Clijsters in last year's final. Zvonareva has lost both her games so far, having crashed 6-2 6-4 Kuznetsova in the Staples Centre on Wednesday. \\\"Sometimes not everything works,\\\" she said. \\\"It was lots of pressure. Maybe that is why I couldn't do 100%. But I was fighting.\\\" Sharapova, who lost 6-2 6-2 to Kuznetsova in Beijing in September, said: \\\"In Beijing, she was coming off such a big winning streak [14 matches] and she was unstoppable. \\\"This time, it was important to start off well and put some pressure on her.\\\" The tournament debutant added: \\\"I love it here. The atmosphere is great. \\\"To be here where the Lakers play, you just feel that excitement. I love basketball.\\\" Williams admitted she is still some way off her best form but remained positive after two wins in two days. \\\"It's hard to go out there and get it right but I'm fighting and I'm hoping,\\\" said Williams. \\\"What makes me happy is the effort. I had a really good effort today. \\\"I'm trying to add new dimensions to my game.\\\" \",\n          \" Elena Dementieva swept aside defending champion Venus Williams 6-3 6-2 to win Hong Kong's Champions Challenge event.  The Russian, ranked sixth in the world, broke Williams three times in the first set, while losing her service once. Williams saved three championship points before losing the match at the Victoria Park tennis court. \\\"It's really a great start to the year no matter whether it's an exhibition or not. I was trying to play my best and I really did it,\\\" said Dementieva. \\\"This will give me all the confidence before the Grand Slams. I was trying so hard to win this tournament.\\\" Williams, 24, was disappointed with her display. \\\"She played some nice points, but it was mostly me committing unforced errors - four or five errors in each game,\\\" she said. Before the match, organizers auctioned off rackets belonging to the players, raising \\u00a3115,000 for victims of the tsunami disaster. \",\n          \" The US budget deficit is set to hit a worse-than-expected $368bn (\\u00a3197bn) this year, officials said on Tuesday.  The cost of military operations still needs to be factored in, with analysts saying the deficit could end up a further $100bn in the red. Past Congressional Budget Office (CBO) forecasts said there would be a $348bn shortfall in the 2005 fiscal year. In recent months, the dollar has weakened amid market jitters about the size of the budget and trade deficits. In November, the gap between US exports and imports widened to more than $60bn, a record figure. The CBO says it envisages a further \\\"orderly\\\" decline in the greenback over the next two years as the twin deficit drives dollar investors away. But the non-partisan fiscal watchdog notes the declines will help exporters and boost US economic growth.  The budget deficit hit a record $412bn in the 12 months to 30 September 2004, after reaching $377bn in the previous fiscal year. The CBO also forecast a total shortfall of $855bn for the years from 2006 to 2015, an improvement on previous projections. However, analysts say the new figures fail to take into account the potential $2-$3.8 trillion costs of the president's plan to revamp state pensions and extend tax cuts. The figure could also be worsened by any further military costs. Republicans have blamed the size of the deficit on slow economic conditions after the 11 September attacks and ongoing military operations in Iraq and Afghanistan. One of President George W Bush's election pledges was to halve the budget deficit within five years. But Democrats have accused the president of excluding Iraq-related costs from previous budgets to meet the aim of reducing the deficit, a charge which the administration denies. On Tuesday, the US administration asked Congress for additional funds for military operations. \"\n        ],\n        \"semantic_type\": \"\",\n        \"description\": \"\"\n      }\n    }\n  ]\n}"
            }
          },
          "metadata": {},
          "execution_count": 5
        }
      ],
      "source": [
        "genres = df['genre'].unique()\n",
        "small_df = create_imbalanced_small_df(df, genres, max_value=15)\n",
        "small_df"
      ]
    },
    {
      "cell_type": "markdown",
      "metadata": {
        "id": "p5o_ANYFacxE"
      },
      "source": [
        "# Pre Processing"
      ]
    },
    {
      "cell_type": "code",
      "execution_count": 6,
      "metadata": {
        "id": "AfQ9K_kDhzE_"
      },
      "outputs": [],
      "source": [
        "def remove_non_alphanumeric(text):\n",
        "    words = ''\n",
        "    for w in text:\n",
        "        words += w if w.isalnum() else ' '\n",
        "    return words\n",
        "\n",
        "def remove_accents(text):\n",
        "  return unidecode.unidecode(text)\n",
        "\n",
        "\n",
        "def lowercasting(tokens):\n",
        "  tokens = [w.lower() for w in tokens]\n",
        "  return tokens\n",
        "\n",
        "def remove_stop_words(tokens):\n",
        "  stop_words = set(stopwords.words('english')) #List of stop words in english\n",
        "  tokens = [token for token in tokens if token not in stop_words]\n",
        "  return tokens\n",
        "\n",
        "\n",
        "def stemming(tokens):\n",
        "  porter = PorterStemmer()\n",
        "  tokens = [porter.stem(token) for token in tokens]\n",
        "  return tokens\n",
        "\n",
        "\n",
        "def lemmanization(text):\n",
        "    nlp = spacy.load(\"en_core_web_sm\")    # Load English language model\n",
        "    doc = nlp(text)   # Process the text using the Spacy NLP\n",
        "    tokens = [token.lemma_ for token in doc]\n",
        "    return tokens\n",
        "\n",
        "\n",
        "def pre_processing_aux(text):\n",
        "  words = remove_non_alphanumeric(text)\n",
        "  words = remove_accents(words)\n",
        "  tokens = word_tokenize(words)\n",
        "  tokens = lowercasting(tokens)\n",
        "  tokens = remove_stop_words(tokens)\n",
        "  words = ' '.join(tokens)\n",
        "  tokens = lemmanization(words)\n",
        "  tokens = stemming(tokens)\n",
        "  return ' '.join(tokens)\n"
      ]
    },
    {
      "cell_type": "code",
      "execution_count": 7,
      "metadata": {
        "colab": {
          "base_uri": "https://localhost:8080/",
          "height": 206
        },
        "id": "SvFMtXttNAfl",
        "outputId": "bb9a8b34-7081-4312-d0b5-668ecf6c6dec"
      },
      "outputs": [
        {
          "output_type": "execute_result",
          "data": {
            "text/plain": [
              "   genre  filename                              title  \\\n",
              "21  tech  1928.txt        Nuclear body seeks new tech   \n",
              "22  tech  1840.txt   Finding new homes for old phones   \n",
              "23  tech  2029.txt  Row brewing over peer-to-peer ads   \n",
              "24  tech  2189.txt  Rolling out next generation's net   \n",
              "25  tech  1987.txt          Who do you think you are?   \n",
              "\n",
              "                                              content  \n",
              "21  comput system use monitor world nuclear power ...  \n",
              "22  use old mobil phone good environ social benefi...  \n",
              "23  music download network prove popular audienc y...  \n",
              "24  bodi overse net work grow evolv say cope well ...  \n",
              "25  real danger happen data cross net argu analyst...  "
            ],
            "text/html": [
              "\n",
              "  <div id=\"df-30707424-459b-402c-88c1-514f874b66d4\" class=\"colab-df-container\">\n",
              "    <div>\n",
              "<style scoped>\n",
              "    .dataframe tbody tr th:only-of-type {\n",
              "        vertical-align: middle;\n",
              "    }\n",
              "\n",
              "    .dataframe tbody tr th {\n",
              "        vertical-align: top;\n",
              "    }\n",
              "\n",
              "    .dataframe thead th {\n",
              "        text-align: right;\n",
              "    }\n",
              "</style>\n",
              "<table border=\"1\" class=\"dataframe\">\n",
              "  <thead>\n",
              "    <tr style=\"text-align: right;\">\n",
              "      <th></th>\n",
              "      <th>genre</th>\n",
              "      <th>filename</th>\n",
              "      <th>title</th>\n",
              "      <th>content</th>\n",
              "    </tr>\n",
              "  </thead>\n",
              "  <tbody>\n",
              "    <tr>\n",
              "      <th>21</th>\n",
              "      <td>tech</td>\n",
              "      <td>1928.txt</td>\n",
              "      <td>Nuclear body seeks new tech</td>\n",
              "      <td>comput system use monitor world nuclear power ...</td>\n",
              "    </tr>\n",
              "    <tr>\n",
              "      <th>22</th>\n",
              "      <td>tech</td>\n",
              "      <td>1840.txt</td>\n",
              "      <td>Finding new homes for old phones</td>\n",
              "      <td>use old mobil phone good environ social benefi...</td>\n",
              "    </tr>\n",
              "    <tr>\n",
              "      <th>23</th>\n",
              "      <td>tech</td>\n",
              "      <td>2029.txt</td>\n",
              "      <td>Row brewing over peer-to-peer ads</td>\n",
              "      <td>music download network prove popular audienc y...</td>\n",
              "    </tr>\n",
              "    <tr>\n",
              "      <th>24</th>\n",
              "      <td>tech</td>\n",
              "      <td>2189.txt</td>\n",
              "      <td>Rolling out next generation's net</td>\n",
              "      <td>bodi overse net work grow evolv say cope well ...</td>\n",
              "    </tr>\n",
              "    <tr>\n",
              "      <th>25</th>\n",
              "      <td>tech</td>\n",
              "      <td>1987.txt</td>\n",
              "      <td>Who do you think you are?</td>\n",
              "      <td>real danger happen data cross net argu analyst...</td>\n",
              "    </tr>\n",
              "  </tbody>\n",
              "</table>\n",
              "</div>\n",
              "    <div class=\"colab-df-buttons\">\n",
              "\n",
              "  <div class=\"colab-df-container\">\n",
              "    <button class=\"colab-df-convert\" onclick=\"convertToInteractive('df-30707424-459b-402c-88c1-514f874b66d4')\"\n",
              "            title=\"Convert this dataframe to an interactive table.\"\n",
              "            style=\"display:none;\">\n",
              "\n",
              "  <svg xmlns=\"http://www.w3.org/2000/svg\" height=\"24px\" viewBox=\"0 -960 960 960\">\n",
              "    <path d=\"M120-120v-720h720v720H120Zm60-500h600v-160H180v160Zm220 220h160v-160H400v160Zm0 220h160v-160H400v160ZM180-400h160v-160H180v160Zm440 0h160v-160H620v160ZM180-180h160v-160H180v160Zm440 0h160v-160H620v160Z\"/>\n",
              "  </svg>\n",
              "    </button>\n",
              "\n",
              "  <style>\n",
              "    .colab-df-container {\n",
              "      display:flex;\n",
              "      gap: 12px;\n",
              "    }\n",
              "\n",
              "    .colab-df-convert {\n",
              "      background-color: #E8F0FE;\n",
              "      border: none;\n",
              "      border-radius: 50%;\n",
              "      cursor: pointer;\n",
              "      display: none;\n",
              "      fill: #1967D2;\n",
              "      height: 32px;\n",
              "      padding: 0 0 0 0;\n",
              "      width: 32px;\n",
              "    }\n",
              "\n",
              "    .colab-df-convert:hover {\n",
              "      background-color: #E2EBFA;\n",
              "      box-shadow: 0px 1px 2px rgba(60, 64, 67, 0.3), 0px 1px 3px 1px rgba(60, 64, 67, 0.15);\n",
              "      fill: #174EA6;\n",
              "    }\n",
              "\n",
              "    .colab-df-buttons div {\n",
              "      margin-bottom: 4px;\n",
              "    }\n",
              "\n",
              "    [theme=dark] .colab-df-convert {\n",
              "      background-color: #3B4455;\n",
              "      fill: #D2E3FC;\n",
              "    }\n",
              "\n",
              "    [theme=dark] .colab-df-convert:hover {\n",
              "      background-color: #434B5C;\n",
              "      box-shadow: 0px 1px 3px 1px rgba(0, 0, 0, 0.15);\n",
              "      filter: drop-shadow(0px 1px 2px rgba(0, 0, 0, 0.3));\n",
              "      fill: #FFFFFF;\n",
              "    }\n",
              "  </style>\n",
              "\n",
              "    <script>\n",
              "      const buttonEl =\n",
              "        document.querySelector('#df-30707424-459b-402c-88c1-514f874b66d4 button.colab-df-convert');\n",
              "      buttonEl.style.display =\n",
              "        google.colab.kernel.accessAllowed ? 'block' : 'none';\n",
              "\n",
              "      async function convertToInteractive(key) {\n",
              "        const element = document.querySelector('#df-30707424-459b-402c-88c1-514f874b66d4');\n",
              "        const dataTable =\n",
              "          await google.colab.kernel.invokeFunction('convertToInteractive',\n",
              "                                                    [key], {});\n",
              "        if (!dataTable) return;\n",
              "\n",
              "        const docLinkHtml = 'Like what you see? Visit the ' +\n",
              "          '<a target=\"_blank\" href=https://colab.research.google.com/notebooks/data_table.ipynb>data table notebook</a>'\n",
              "          + ' to learn more about interactive tables.';\n",
              "        element.innerHTML = '';\n",
              "        dataTable['output_type'] = 'display_data';\n",
              "        await google.colab.output.renderOutput(dataTable, element);\n",
              "        const docLink = document.createElement('div');\n",
              "        docLink.innerHTML = docLinkHtml;\n",
              "        element.appendChild(docLink);\n",
              "      }\n",
              "    </script>\n",
              "  </div>\n",
              "\n",
              "\n",
              "<div id=\"df-26afc966-4a9b-4c3e-8de1-d49da3b2f3cd\">\n",
              "  <button class=\"colab-df-quickchart\" onclick=\"quickchart('df-26afc966-4a9b-4c3e-8de1-d49da3b2f3cd')\"\n",
              "            title=\"Suggest charts\"\n",
              "            style=\"display:none;\">\n",
              "\n",
              "<svg xmlns=\"http://www.w3.org/2000/svg\" height=\"24px\"viewBox=\"0 0 24 24\"\n",
              "     width=\"24px\">\n",
              "    <g>\n",
              "        <path d=\"M19 3H5c-1.1 0-2 .9-2 2v14c0 1.1.9 2 2 2h14c1.1 0 2-.9 2-2V5c0-1.1-.9-2-2-2zM9 17H7v-7h2v7zm4 0h-2V7h2v10zm4 0h-2v-4h2v4z\"/>\n",
              "    </g>\n",
              "</svg>\n",
              "  </button>\n",
              "\n",
              "<style>\n",
              "  .colab-df-quickchart {\n",
              "      --bg-color: #E8F0FE;\n",
              "      --fill-color: #1967D2;\n",
              "      --hover-bg-color: #E2EBFA;\n",
              "      --hover-fill-color: #174EA6;\n",
              "      --disabled-fill-color: #AAA;\n",
              "      --disabled-bg-color: #DDD;\n",
              "  }\n",
              "\n",
              "  [theme=dark] .colab-df-quickchart {\n",
              "      --bg-color: #3B4455;\n",
              "      --fill-color: #D2E3FC;\n",
              "      --hover-bg-color: #434B5C;\n",
              "      --hover-fill-color: #FFFFFF;\n",
              "      --disabled-bg-color: #3B4455;\n",
              "      --disabled-fill-color: #666;\n",
              "  }\n",
              "\n",
              "  .colab-df-quickchart {\n",
              "    background-color: var(--bg-color);\n",
              "    border: none;\n",
              "    border-radius: 50%;\n",
              "    cursor: pointer;\n",
              "    display: none;\n",
              "    fill: var(--fill-color);\n",
              "    height: 32px;\n",
              "    padding: 0;\n",
              "    width: 32px;\n",
              "  }\n",
              "\n",
              "  .colab-df-quickchart:hover {\n",
              "    background-color: var(--hover-bg-color);\n",
              "    box-shadow: 0 1px 2px rgba(60, 64, 67, 0.3), 0 1px 3px 1px rgba(60, 64, 67, 0.15);\n",
              "    fill: var(--button-hover-fill-color);\n",
              "  }\n",
              "\n",
              "  .colab-df-quickchart-complete:disabled,\n",
              "  .colab-df-quickchart-complete:disabled:hover {\n",
              "    background-color: var(--disabled-bg-color);\n",
              "    fill: var(--disabled-fill-color);\n",
              "    box-shadow: none;\n",
              "  }\n",
              "\n",
              "  .colab-df-spinner {\n",
              "    border: 2px solid var(--fill-color);\n",
              "    border-color: transparent;\n",
              "    border-bottom-color: var(--fill-color);\n",
              "    animation:\n",
              "      spin 1s steps(1) infinite;\n",
              "  }\n",
              "\n",
              "  @keyframes spin {\n",
              "    0% {\n",
              "      border-color: transparent;\n",
              "      border-bottom-color: var(--fill-color);\n",
              "      border-left-color: var(--fill-color);\n",
              "    }\n",
              "    20% {\n",
              "      border-color: transparent;\n",
              "      border-left-color: var(--fill-color);\n",
              "      border-top-color: var(--fill-color);\n",
              "    }\n",
              "    30% {\n",
              "      border-color: transparent;\n",
              "      border-left-color: var(--fill-color);\n",
              "      border-top-color: var(--fill-color);\n",
              "      border-right-color: var(--fill-color);\n",
              "    }\n",
              "    40% {\n",
              "      border-color: transparent;\n",
              "      border-right-color: var(--fill-color);\n",
              "      border-top-color: var(--fill-color);\n",
              "    }\n",
              "    60% {\n",
              "      border-color: transparent;\n",
              "      border-right-color: var(--fill-color);\n",
              "    }\n",
              "    80% {\n",
              "      border-color: transparent;\n",
              "      border-right-color: var(--fill-color);\n",
              "      border-bottom-color: var(--fill-color);\n",
              "    }\n",
              "    90% {\n",
              "      border-color: transparent;\n",
              "      border-bottom-color: var(--fill-color);\n",
              "    }\n",
              "  }\n",
              "</style>\n",
              "\n",
              "  <script>\n",
              "    async function quickchart(key) {\n",
              "      const quickchartButtonEl =\n",
              "        document.querySelector('#' + key + ' button');\n",
              "      quickchartButtonEl.disabled = true;  // To prevent multiple clicks.\n",
              "      quickchartButtonEl.classList.add('colab-df-spinner');\n",
              "      try {\n",
              "        const charts = await google.colab.kernel.invokeFunction(\n",
              "            'suggestCharts', [key], {});\n",
              "      } catch (error) {\n",
              "        console.error('Error during call to suggestCharts:', error);\n",
              "      }\n",
              "      quickchartButtonEl.classList.remove('colab-df-spinner');\n",
              "      quickchartButtonEl.classList.add('colab-df-quickchart-complete');\n",
              "    }\n",
              "    (() => {\n",
              "      let quickchartButtonEl =\n",
              "        document.querySelector('#df-26afc966-4a9b-4c3e-8de1-d49da3b2f3cd button');\n",
              "      quickchartButtonEl.style.display =\n",
              "        google.colab.kernel.accessAllowed ? 'block' : 'none';\n",
              "    })();\n",
              "  </script>\n",
              "</div>\n",
              "    </div>\n",
              "  </div>\n"
            ],
            "application/vnd.google.colaboratory.intrinsic+json": {
              "type": "dataframe",
              "summary": "{\n  \"name\": \"df\",\n  \"rows\": 5,\n  \"fields\": [\n    {\n      \"column\": \"genre\",\n      \"properties\": {\n        \"dtype\": \"category\",\n        \"num_unique_values\": 1,\n        \"samples\": [\n          \"tech\"\n        ],\n        \"semantic_type\": \"\",\n        \"description\": \"\"\n      }\n    },\n    {\n      \"column\": \"filename\",\n      \"properties\": {\n        \"dtype\": \"string\",\n        \"num_unique_values\": 5,\n        \"samples\": [\n          \"1840.txt\"\n        ],\n        \"semantic_type\": \"\",\n        \"description\": \"\"\n      }\n    },\n    {\n      \"column\": \"title\",\n      \"properties\": {\n        \"dtype\": \"string\",\n        \"num_unique_values\": 5,\n        \"samples\": [\n          \"Finding new homes for old phones\"\n        ],\n        \"semantic_type\": \"\",\n        \"description\": \"\"\n      }\n    },\n    {\n      \"column\": \"content\",\n      \"properties\": {\n        \"dtype\": \"string\",\n        \"num_unique_values\": 5,\n        \"samples\": [\n          \"use old mobil phone good environ social benefit research find develop nation old mobil phone help close digit divid forum futur research find low cost recycl handset mean use second life poor nation forum find need do collect old phone rather let rot landfil site report reveal approxim 15 million mobil phone go use everi year uk 15 million swap new model year 25 get return mobil phone firm recycl use slowli grow mass unrecycl discard phone reach 90 million handset equival 9 000 tonn wast estim jame goodman report author senior advis forum futur quit common peopl two three phone lie around say mr goodman mani old phone could end landfil site leak potenti toxic materi make wide world say mr goodman far well say hand phone back oper send oversea enjoy second leas life hear environment argument hand phone back say mr goodman strong social argument old mobil phone prove particularli use poor nation peopl want use mobil keep touch friend famili incom buy date model forum futur report take depth look romania recondit mobil phone prove popular interest countri realli crap fix line network say mr goodman real desir peopl get mobil phone rel low wage romania one poor countri europ mean peopl afford shini new phone afford handset real barrier get one say recondit handset boost take mobil report reveal almost one third romanian pre pay mobil phone user use recondit handset use handset tend one third price new handset georgeta minciu romanian part time clean say normal mobil phone would possibl wage singl parent keep touch daughter import way afford phone say mr goodman say phone oper consum need ensur britain mobil mountain make oversea add keen use mobil accept old handset year old peopl go want say\"\n        ],\n        \"semantic_type\": \"\",\n        \"description\": \"\"\n      }\n    }\n  ]\n}"
            }
          },
          "metadata": {},
          "execution_count": 7
        }
      ],
      "source": [
        "def pre_processing(df):\n",
        "    df['content'] = df['content'].apply(pre_processing_aux)\n",
        "    return df\n",
        "\n",
        "###########################################################\n",
        "# To prossegue with all dataset, put df on parameter\n",
        "# To prossegue with small dataset, put small_df in paramter\n",
        "############################################################\n",
        "\n",
        "df = pre_processing(small_df)\n",
        "df.tail()"
      ]
    },
    {
      "cell_type": "markdown",
      "metadata": {
        "id": "l8fQEREri5G3"
      },
      "source": [
        "# Basic statistics analysis"
      ]
    },
    {
      "cell_type": "markdown",
      "metadata": {
        "id": "HTc2vrJJUMVh"
      },
      "source": [
        "##Documents number by class"
      ]
    },
    {
      "cell_type": "code",
      "execution_count": 8,
      "metadata": {
        "colab": {
          "base_uri": "https://localhost:8080/",
          "height": 491
        },
        "id": "uxfb1jzfjOCQ",
        "outputId": "9786b21b-8d6c-4427-aabd-4711c25fad12"
      },
      "outputs": [
        {
          "output_type": "display_data",
          "data": {
            "text/plain": [
              "<Figure size 640x480 with 1 Axes>"
            ],
            "image/png": "[encoded data removed]"
          },
          "metadata": {}
        }
      ],
      "source": [
        "import matplotlib.pyplot as plt\n",
        "import seaborn as sns\n",
        "\n",
        "genres = df['genre'].unique()\n",
        "\n",
        "def plot_doc_by_class(genres):\n",
        "  ax = sns.countplot(x = 'genre', data = df , color='skyblue')\n",
        "  ax.yaxis.grid(False)\n",
        "  plt.title('Documents number by class', pad=12)\n",
        "  plt.xlabel('Genres', labelpad=12)\n",
        "  plt.ylabel('Quantity', labelpad=12)\n",
        "\n",
        "  bars = ax.patches\n",
        "  # Put numbers of docs above bars\n",
        "  for bar in bars:\n",
        "        height = int(bar.get_height())\n",
        "        plt.text(bar.get_x() + bar.get_width()/2, height, height, ha='center', va='bottom')\n",
        "\n",
        "  plt.show()\n",
        "\n",
        "\n",
        "plot_doc_by_class(genres)"
      ]
    },
    {
      "cell_type": "markdown",
      "metadata": {
        "id": "_kukSvr-89kA"
      },
      "source": [
        "#Top 30 most frequent words"
      ]
    },
    {
      "cell_type": "code",
      "execution_count": 9,
      "metadata": {
        "id": "mxtqEev7wYTV"
      },
      "outputs": [],
      "source": [
        "from collections import Counter\n",
        "import matplotlib.pyplot as plt\n",
        "import seaborn\n",
        "\n",
        "def get_genre_content(df, genre):\n",
        "  content = df.loc[df['genre'] == genre, 'content'].str.cat(sep=' ')\n",
        "  return content\n",
        "\n",
        "def create_dict_content(df):\n",
        "  dict_content = {}\n",
        "  for genre in genres:\n",
        "      dict_content[genre] = get_genre_content(df, genre)\n",
        "      if 'all' in dict_content:\n",
        "        dict_content['all'] += get_genre_content(df, genre)\n",
        "      else:\n",
        "          dict_content['all'] = get_genre_content(df, genre)\n",
        "  return dict_content\n",
        "\n",
        "def create_count_content(dict_content):\n",
        "  count_content = {}\n",
        "  for genre, content in dict_content.items():\n",
        "      count_content[genre] = Counter(content.split())\n",
        "  return count_content\n",
        "\n",
        "\n",
        "def get_top_n_words(top_n, count_words):\n",
        "    most_common_words = {}\n",
        "    for word, count in count_words.most_common(top_n):\n",
        "        most_common_words[word] = count\n",
        "    return most_common_words\n"
      ]
    },
    {
      "cell_type": "code",
      "execution_count": 10,
      "metadata": {
        "id": "6ODMLZBbyT4G"
      },
      "outputs": [],
      "source": [
        "from collections import Counter\n",
        "import matplotlib.pyplot as plt\n",
        "import seaborn as sns\n",
        "\n",
        "def plot_h_most_common_words(top_n, count_content, genre, title, fontsize):\n",
        "    most_common = get_top_n_words(top_n, count_content[genre])\n",
        "    most_common = sorted(most_common.items(), key=lambda x: x[1])\n",
        "    words = [item[0] for item in most_common ]\n",
        "    counts = [item[1] for item in most_common ]\n",
        "    plt.figure(figsize=(11, 6))\n",
        "    plt.barh(words, counts, color='skyblue')\n",
        "    plt.xlabel('Quantity', labelpad=15)\n",
        "    plt.ylabel('Tokens', labelpad=15)\n",
        "    plt.grid(False)\n",
        "    plt.title(title, pad=15)\n",
        "    #Display number of token in front of each bar\n",
        "    for i in range(len(words)):\n",
        "      plt.text(counts[i], i, ' ' + str(counts[i]), ha='left', va='center')\n",
        "\n",
        "dict_content = create_dict_content(df)\n",
        "count_content = create_count_content(dict_content)"
      ]
    },
    {
      "cell_type": "code",
      "execution_count": 11,
      "metadata": {
        "colab": {
          "base_uri": "https://localhost:8080/"
        },
        "id": "OHG3AxVUuLv8",
        "outputId": "cfd3bdea-0a40-4ce6-ce1f-f2f0ef82e732"
      },
      "outputs": [
        {
          "output_type": "stream",
          "name": "stdout",
          "text": [
            "{'business': Counter({'oil': 15, 'say': 14, 'year': 9, 'bank': 9, 'deficit': 8, 'ongc': 8, 'yuko': 8, 'india': 7, 'budget': 6, 'analyst': 6, 'unit': 6, 'standard': 6, 'trust': 6, 'presid': 5, 'russian': 5, 'product': 5, 'yugansk': 5, 'westwood': 5, 'us': 4, 'cost': 4, 'militari': 4, 'also': 4, 'state': 4, 'big': 4, 'own': 4, 'buy': 4, 'asset': 4, 'produc': 4, 'russia': 4, 'hit': 3, 'tuesday': 3, 'oper': 3, 'cbo': 3, 'forecast': 3, 'would': 3, 'fiscal': 3, 'recent': 3, 'month': 3, 'import': 3, 'figur': 3, 'declin': 3, 'investor': 3, 'we': 3, 'previou': 3, 'new': 3, '2': 3, 'plan': 3, 'tax': 3, 'nigerian': 3, 'firm': 3, 'crude': 3, 'indian': 3, 'mr': 3, 'countri': 3, 'bpd': 3, 'interest': 3, 'could': 2, 'shortfal': 2, 'dollar': 2, 'size': 2, 'export': 2, 'record': 2, 'drive': 2, 'help': 2, 'econom': 2, 'septemb': 2, '2004': 2, 'total': 2, 'howev': 2, '8': 2, 'iraq': 2, 'one': 2, 'within': 2, 'meet': 2, 'reduc': 2, 'charg': 2, 'administr': 2, 'africa': 2, 'merg': 2, 'nation': 2, 'includ': 2, 'del': 2, 'itali': 2, '4': 2, 'former': 2, 'look': 2, 'key': 2, 'author': 2, 'bill': 2, 'last': 2, 'rosneft': 2, 'aiyar': 2, 'putin': 2, 'consumpt': 2, 'economi': 2, '000': 2, 'littl': 2, 'industri': 2, 'dougla': 2, 'access': 2, 'chanc': 2, 'petroleum': 2, 'compani': 2, 'thursday': 2, 'bankruptci': 2, 'set': 1, 'bad': 1, 'expect': 1, '368bn': 1, '197bn': 1, 'offici': 1, 'still': 1, 'need': 1, 'factor': 1, 'end': 1, '100bn': 1, 'red': 1, 'past': 1, 'congression': 1, 'offic': 1, '348bn': 1, '2005': 1, 'weaken': 1, 'amid': 1, 'market': 1, 'jitter': 1, 'trade': 1, 'novemb': 1, 'gap': 1, 'widen': 1, '60bn': 1, 'envisag': 1, 'orderli': 1, 'greenback': 1, 'next': 1, 'two': 1, 'twin': 1, 'away': 1, 'non': 1, 'partisan': 1, 'watchdog': 1, 'note': 1, 'boost': 1, 'growth': 1, '412bn': 1, '12': 1, '30': 1, 'reach': 1, '377bn': 1, '855bn': 1, '2006': 1, '2015': 1, 'improv': 1, 'project': 1, 'fail': 1, 'take': 1, 'account': 1, 'potenti': 1, '3': 1, 'trillion': 1, 'revamp': 1, 'pension': 1, 'extend': 1, 'cut': 1, 'worsen': 1, 'republican': 1, 'blame': 1, 'slow': 1, 'condit': 1, '11': 1, 'attack': 1, 'ongo': 1, 'afghanistan': 1, 'georg': 1, 'w': 1, 'bush': 1, 'elect': 1, 'pledg': 1, 'halv': 1, 'five': 1, 'democrat': 1, 'accus': 1, 'exclud': 1, 'relat': 1, 'aim': 1, 'deni': 1, 'ask': 1, 'congress': 1, 'addit': 1, 'fund': 1, 'agre': 1, 'creat': 1, 'west': 1, 'deal': 1, 'line': 1, 'direct': 1, 'central': 1, 'call': 1, 'consolid': 1, 'crowd': 1, 'sector': 1, 'merger': 1, 'announc': 1, 'statement': 1, 'websit': 1, 'financi': 1, 'detail': 1, 'reveal': 1, 'third': 1, 'nigeria': 1, 'term': 1, 'number': 1, 'branch': 1, 'small': 1, 'profit': 1, 'board': 1, 'separ': 1, 'yesterday': 1, 'approv': 1, 'arrang': 1, 'institut': 1, '100': 1, 'foreign': 1, 'york': 1, 'base': 1, 'global': 1, 'depositori': 1, 'receipt': 1, '32': 1, 'banca': 1, 'nazional': 1, 'lavoro': 1, 'mont': 1, 'paschi': 1, 'di': 1, 'siena': 1, 'stake': 1, 'explor': 1, 'natur': 1, 'ga': 1, 'corp': 1, 'talk': 1, 'troubl': 1, 'touch': 1, 'concern': 1, 'entiti': 1, 'opportuniti': 1, 'chairman': 1, 'subir': 1, 'raha': 1, 'local': 1, 'press': 1, 'report': 1, '15': 1, '2bn': 1, '1bn': 1, 'break': 1, 'pay': 1, 'massiv': 1, 'forc': 1, 'sell': 1, 'yuganskneftega': 1, '27bn': 1, 'unpaid': 1, 'taxi': 1, 'fine': 1, 'turn': 1, 'stand': 1, 'alon': 1, 'minist': 1, 'mani': 1, 'shankar': 1, 'discuss': 1, 'trip': 1, 'moscow': 1, 'topic': 1, 'come': 1, 'vladimir': 1, 'visit': 1, 'delhi': 1, 'make': 1, 'great': 1, 'sens': 1, 'build': 1, 'stagnat': 1, 'abroad': 1, 'secur': 1, 'futur': 1, 'suppli': 1, '70': 1, 'time': 1, 'boom': 1, 'thirst': 1, 'strong': 1, 'push': 1, 'price': 1, 'worldwid': 1, '793': 1, 'barrel': 1, 'per': 1, 'day': 1, 'chang': 1, 'sinc': 1, 'start': 1, '1990': 1, 'accord': 1, 'meanwhil': 1, 'jump': 1, 'million': 1, 'compar': 1, '474': 1, '1973': 1, 'develop': 1, 'energi': 1, 'john': 1, 'manag': 1, 'director': 1, 'dramat': 1, 'grow': 1, 'must': 1, 'abl': 1, 'depend': 1, 'gulf': 1, 'explain': 1, 'especi': 1, 'find': 1, 'exploit': 1, 'resourc': 1, 'slim': 1, 'go': 1, 'signific': 1, '2020': 1, 'may': 1, 'half': 1, 'today': 1, 'level': 1, 'major': 1, 'alreadi': 1, 'vietnam': 1, 'sudan': 1, 'partner': 1, 'sakhalin': 1, '1': 1, 'field': 1, 'siberian': 1, 'coast': 1, 'chines': 1, 'china': 1, 'mention': 1, 'possibl': 1, 'refus': 1, 'rule': 1, 'late': 1, 'twist': 1, 'saga': 1, 'see': 1, 'world': 1, 'bring': 1, 'knee': 1, 'disput': 1, 'partli': 1, 'clampdown': 1, 'polit': 1, 'ambit': 1, 'ex': 1, 'boss': 1, 'mikhail': 1, 'khodorkovski': 1, 'current': 1, 'jail': 1, 'fraud': 1, 'evas': 1, 'battl': 1, 'file': 1, 'protect': 1, 'question': 1, 'long': 1, 'continu': 1, 'surviv': 1, 'without': 1, 'court': 1, 'hear': 1, 'argument': 1, 'claim': 1, 'throw': 1, '16': 1, 'februari': 1, 'happen': 1, 'claw': 1, 'back': 1}), 'all': Counter({'say': 91, 'year': 42, 'good': 32, 'play': 30, 'make': 28, '6': 28, 'one': 26, 'go': 26, 'mr': 25, 'last': 24, 'peopl': 24, 'game': 23, 'm': 23, 'net': 23, 'would': 22, 'bank': 21, 'big': 21, 'time': 21, 'get': 21, 'also': 20, 'standard': 20, 'phone': 20, 'two': 19, 'take': 19, 'like': 19, 'could': 18, 'well': 17, 'match': 17, 'old': 17, 'second': 16, 'use': 16, 'new': 15, 'oil': 15, 'back': 15, 'lord': 15, 'champion': 15, '7': 15, 'way': 14, 'person': 14, 'win': 14, 'player': 14, 'real': 14, 'madrid': 14, '2': 13, 'number': 13, 'come': 13, 'give': 13, 'peer': 13, 'want': 13, 'know': 13, 'add': 13, 'work': 13, 'shoot': 13, 'mobil': 13, 'network': 13, 'import': 12, 'report': 12, 'look': 12, 'secur': 12, 'start': 12, 'tell': 12, 'open': 12, 'first': 12, 'season': 12, 'european': 12, 'qualifi': 12, 'system': 12, 'advertis': 12, 'need': 11, 'nation': 11, 'former': 11, 'great': 11, 'day': 11, 'compani': 11, 'world': 11, 'long': 11, 'think': 11, 'believ': 11, 'lot': 11, 'wale': 11, 'arsen': 11, 'next': 10, 'account': 10, '3': 10, 'statement': 10, 'bill': 10, 'minist': 10, 'interest': 10, 'titl': 10, 'british': 10, 'event': 10, 'week': 10, 'sure': 10, 'lose': 10, 'put': 10, 'team': 10, 'us': 9, 'month': 9, 'countri': 9, '000': 9, 'million': 9, 'see': 9, 'show': 9, 'place': 9, 'chancellor': 9, 'william': 9, 'england': 9, 'someth': 9, '5': 9, 'final': 9, 'move': 9, 'challeng': 9, 'servic': 9, 'mark': 9, 'hunt': 9, 'brand': 9, 'carpent': 9, 'deficit': 8, 'set': 8, 'cost': 8, 'analyst': 8, 'end': 8, 'reach': 8, 'line': 8, 'ongc': 8, 'russian': 8, 'yuko': 8, 'sell': 8, 'mani': 8, 'access': 8, 'current': 8, 'court': 8, 'claim': 8, 'happen': 8, '10': 8, 'admit': 8, 'hagu': 8, 'lion': 8, 'three': 8, 'leagu': 8, 'site': 8, 'handset': 8, 'dr': 8, 'bad': 7, 'record': 7, 'help': 7, 'we': 7, 'howev': 7, 'plan': 7, 'state': 7, 'five': 7, 'unit': 7, 'trust': 7, 'call': 7, 'third': 7, 'india': 7, 'buy': 7, 'produc': 7, 'littl': 7, 'sinc': 7, 'alreadi': 7, 'top': 7, 'music': 7, 'organis': 7, 'govern': 7, 'matter': 7, 'feel': 7, 'bbc': 7, 'ireland': 7, 'coach': 7, 'news': 7, 'seed': 7, 'finish': 7, 'mean': 7, 'leav': 7, 'man': 7, 'let': 7, 'remot': 7, 'control': 7, 'anim': 7, 'agenc': 7, 'allow': 7, 'onlin': 7, 'datum': 7, 'budget': 6, 'hit': 6, 'tuesday': 6, 'oper': 6, 'growth': 6, 'presid': 6, 'meet': 6, 'aim': 6, 'websit': 6, 'detail': 6, 'includ': 6, '4': 6, 'firm': 6, 'author': 6, 'futur': 6, 'manag': 6, 'must': 6, 'may': 6, 'four': 6, 'job': 6, 'whether': 6, 'session': 6, 'parti': 6, 'return': 6, 'thing': 6, 'captain': 6, 'umaga': 6, 'saturday': 6, 'rugbi': 6, 'beat': 6, 'tri': 6, 'lead': 6, 'side': 6, 'enough': 6, 'injuri': 6, 'clear': 6, 'mauresmo': 6, 'spot': 6, 'far': 6, 'pressur': 6, 'defend': 6, 'close': 6, 'e': 6, 'problem': 6, 'intern': 6, 'liverpool': 6, 'process': 6, 'aaa': 6, 'internet': 6, 'underwood': 6, 'nuclear': 6, 'inspector': 6, 'inform': 6, 'goodman': 6, 'theft': 6, 'address': 6, 'card': 6, 'still': 5, 'drive': 5, 'deal': 5, 'financi': 5, 'small': 5, 'institut': 5, 'itali': 5, 'russia': 5, 'product': 5, 'break': 5, 'pay': 5, 'yugansk': 5, 'stand': 5, 'strong': 5, 'accord': 5, 'westwood': 5, 'meanwhil': 5, 'jump': 5, 'grow': 5, 'chanc': 5, 'find': 5, 'half': 5, '1': 5, 'file': 5, 'continu': 5, 'run': 5, 'model': 5, 'among': 5, 'never': 5, 'festiv': 5, 'act': 5, 'appear': 5, 'appoint': 5, 'mp': 5, 'high': 5, 'carri': 5, 'provid': 5, 'larg': 5, 'life': 5, 'hope': 5, 'becom': 5, 'tour': 5, 'anyon': 5, 'championship': 5, 'differ': 5, 'minut': 5, 'point': 5, 'happi': 5, 'realli': 5, 'agassi': 5, 'chelsea': 5, 'barcelona': 5, 'keep': 5, 'europ': 5, 'face': 5, 'moor': 5, 'around': 5, 'sort': 5, '13': 5, 'wenger': 5, 'prove': 5, 'helen': 5, 'spokesman': 5, 'sotherton': 5, 'indoor': 5, '20': 5, 'link': 5, 'issu': 5, 'care': 5, 'texa': 5, 'user': 5, 'rifl': 5, 'target': 5, 'ensur': 5, 'comput': 5, 'iaea': 5, 'technolog': 5, 'digit': 5, 'download': 5, 'audienc': 5, 'edonkey': 5, 'advert': 5, 'custom': 5, 'ietf': 5, 'protocol': 5, 'ipv6': 5, 'ip': 5, 'militari': 4, 'offic': 4, 'recent': 4, 'figur': 4, 'away': 4, 'boost': 4, '2004': 4, 'previou': 4, 'improv': 4, 'fail': 4, 'potenti': 4, 'attack': 4, 'reveal': 4, 'own': 4, 'talk': 4, 'asset': 4, 'concern': 4, '15': 4, 'key': 4, 'build': 4, 'chang': 4, 'industri': 4, 'john': 4, 'abl': 4, 'explain': 4, 'major': 4, 'possibl': 4, 'thursday': 4, 'polit': 4, 'fraud': 4, 'without': 4, 'throw': 4, 'tv': 4, 'uk': 4, 'execut': 4, 'star': 4, 'runner': 4, 'magazin': 4, 'extrem': 4, 'member': 4, 'american': 4, 'love': 4, 'scotland': 4, 'park': 4, 'juli': 4, 'yet': 4, 'earli': 4, '9': 4, 'lawyer': 4, 'reform': 4, 'law': 4, 'replac': 4, 'gener': 4, 'pass': 4, 'instead': 4, 'warn': 4, 'remain': 4, 'defeat': 4, 'front': 4, '27': 4, 'hard': 4, 'six': 4, 'guy': 4, 'name': 4, 'victim': 4, 'confid': 4, 'rank': 4, 'achiev': 4, 'tournament': 4, 'form': 4, 'suffer': 4, 'shot': 4, 'hand': 4, 'opportun': 4, 'club': 4, 'surpris': 4, 'noth': 4, 'johnson': 4, 'sign': 4, 'morient': 4, 'keeper': 4, 'lehmann': 4, 'mail': 4, 'st': 4, 'saint': 4, 'fast': 4, 'across': 4, 'woman': 4, 'via': 4, 'popular': 4, 'afford': 4, 'materi': 4, 'plant': 4, 'even': 4, 'research': 4, 'forum': 4, 'poor': 4, 'money': 4, 'steal': 4, 'awar': 4, 'practic': 4, 'danger': 4, 'ident': 4, 'expect': 3, 'cbo': 3, 'forecast': 3, 'fiscal': 3, 'market': 3, 'export': 3, 'declin': 3, 'investor': 3, 'econom': 3, 'septemb': 3, 'total': 3, 'project': 3, '8': 3, 'tax': 3, 'blame': 3, 'georg': 3, 'elect': 3, 'pledg': 3, 'nigerian': 3, 'announc': 3, '100': 3, 'crude': 3, 'touch': 3, 'forc': 3, 'turn': 3, 'indian': 3, 'visit': 3, 'sens': 3, 'economi': 3, 'push': 3, 'worldwid': 3, 'bpd': 3, 'dougla': 3, 'develop': 3, 'director': 3, 'depend': 3, 'partner': 3, 'late': 3, 'ambit': 3, 'boss': 3, 'protect': 3, 'hear': 3, 'argument': 3, '16': 3, 'televis': 3, 'david': 3, 'list': 3, 'sixth': 3, 'low': 3, 'mind': 3, 'insid': 3, 'favourit': 3, 'jame': 3, 'confirm': 3, 'elli': 3, 'book': 3, 'stage': 3, 'necessarili': 3, 'post': 3, 'secretari': 3, 'lesli': 3, 'read': 3, 'prime': 3, 'hous': 3, 'rather': 3, 'initi': 3, 'whose': 3, 'serv': 3, 'leader': 3, '2001': 3, 'paper': 3, 'famili': 3, 'ever': 3, 'disappoint': 3, 'entir': 3, 'ahead': 3, 'summer': 3, 'aid': 3, 'zealand': 3, 'sport': 3, 'woodward': 3, 'squad': 3, 'wide': 3, 'consid': 3, 'brian': 3, 'driscol': 3, 'hemispher': 3, 'fact': 3, 'caus': 3, 'tsunami': 3, 'miss': 3, 'affect': 3, 'sharapova': 3, 'zvonareva': 3, 'kuznetsova': 3, 'edg': 3, 'dementieva': 3, 'victori': 3, 'complet': 3, 'struggl': 3, 'singl': 3, 'bit': 3, 'everyth': 3, 'fight': 3, 'effort': 3, 'melzer': 3, 'jose': 3, 'andi': 3, 'fourth': 3, 'alway': 3, 'capabl': 3, 'much': 3, 'mourinho': 3, 'insist': 3, 'trophi': 3, 'difficult': 3, 'full': 3, 'ball': 3, 'respect': 3, 'robinson': 3, 'usual': 3, 'quick': 3, 'striker': 3, 'bid': 3, '28': 3, 'benitez': 3, 'attent': 3, 'anelka': 3, 'offer': 3, 'situat': 3, 'sensibl': 3, 'round': 3, 'faith': 3, 'almunia': 3, 'rosenborg': 3, 'sunday': 3, 'stori': 3, 'do': 3, 'mistak': 3, 'anoth': 3, 'gunner': 3, 'kirwan': 3, '17': 3, 'follow': 3, 'commit': 3, 'welsh': 3, 'union': 3, 'cross': 3, 'behind': 3, '200': 3, 'heat': 3, 'comfort': 3, '87': 3, 'medium': 3, 'web': 3, 'deer': 3, 'wild': 3, 'pig': 3, 'fee': 3, 'camera': 3, 'ranch': 3, 'live': 3, 'gun': 3, 'rig': 3, 'hunter': 3, 'overse': 3, 'stop': 3, 'facil': 3, 'design': 3, 'laptop': 3, 'receiv': 3, 'send': 3, 'recondit': 3, 'part': 3, 'keen': 3, 'support': 3, 'illeg': 3, 'probabl': 3, 'ad': 3, 'whole': 3, 'task': 3, 'architectur': 3, 'broadband': 3, 'infrastructur': 3, 'commun': 3, 'billion': 3, 'solut': 3, 'data': 3, 'credit': 3, 'offici': 2, 'shortfal': 2, '2005': 2, 'dollar': 2, 'size': 2, 'trade': 2, 'novemb': 2, 'gap': 2, 'twin': 2, '12': 2, '30': 2, '11': 2, 'iraq': 2, 'w': 2, 'bush': 2, 'within': 2, 'reduc': 2, 'charg': 2, 'administr': 2, 'ask': 2, 'addit': 2, 'fund': 2, 'africa': 2, 'merg': 2, 'west': 2, 'direct': 2, 'central': 2, 'consolid': 2, 'branch': 2, 'approv': 2, 'york': 2, 'base': 2, 'receipt': 2, 'del': 2, 'troubl': 2, 'rosneft': 2, 'aiyar': 2, 'trip': 2, 'putin': 2, 'consumpt': 2, 'price': 2, 'compar': 2, 'energi': 2, 'especi': 2, 'signific': 2, 'today': 2, 'petroleum': 2, 'field': 2, 'china': 2, 'rule': 2, 'bring': 2, 'partli': 2, 'battl': 2, 'bankruptci': 2, 'februari': 2, 'baywatch': 2, 'programm': 2, 'smith': 2, 'realiti': 2, 'broadcast': 2, '24': 2, 'falcon': 2, 'plu': 2, 'beauti': 2, 'jerri': 2, 'realis': 2, 'save': 2, 'thousand': 2, 'pound': 2, 'worth': 2, 'ticket': 2, 'hold': 2, 'balado': 2, 'green': 2, 'foo': 2, 'fighter': 2, 'kean': 2, 'proud': 2, 'excit': 2, 'deliv': 2, 'eight': 2, 'winner': 2, 'street': 2, 'main': 2, 'attract': 2, 'health': 2, 'constitut': 2, 'sit': 2, 'common': 2, 'legal': 2, 'judg': 2, 'independ': 2, 'holder': 2, 'debat': 2, 'crucial': 2, 'duti': 2, 'shadow': 2, 'domin': 2, 'griev': 2, 'criticis': 2, 'propos': 2, 'smash': 2, 'cabinet': 2, 'north': 2, 'role': 2, 'conserv': 2, 'leadership': 2, '43': 2, 'daili': 2, 'bench': 2, 'young': 2, 'write': 2, 'newspap': 2, 'determin': 2, 'senior': 2, 'educ': 2, 'opposit': 2, 'fortun': 2, '40': 2, 'career': 2, 'mayb': 2, 'irish': 2, 'fearsom': 2, 'oppon': 2, 'test': 2, 'awesom': 2, 'sir': 2, 'clive': 2, 'june': 2, 'talent': 2, 'particular': 2, 'northern': 2, 'host': 2, 'idea': 2, 'although': 2, 'fear': 2, 'featur': 2, 'chri': 2, 'easili': 2, 'approach': 2, 'involv': 2, 'franc': 2, 'rout': 2, 'elena': 2, 'group': 2, 'advanc': 2, 'semi': 2, 'davenport': 2, 'spend': 2, 'tenni': 2, 'centr': 2, 'beij': 2, 'atmospher': 2, 'posit': 2, 'andr': 2, 'often': 2, 'power': 2, 'exampl': 2, 'will': 2, 'leg': 2, 'tie': 2, 'nou': 2, 'camp': 2, 'decid': 2, 'mine': 2, 'moment': 2, 'cup': 2, 'ronaldinho': 2, 'citi': 2, 'dress': 2, 'room': 2, 'absenc': 2, 'fli': 2, 'wilkinson': 2, 'retir': 2, 'forward': 2, 'action': 2, 'pack': 2, 'youngster': 2, 'harri': 2, 'experi': 2, 'door': 2, 'join': 2, 'race': 2, 'spanish': 2, 'anfield': 2, 'rafa': 2, 'loan': 2, 'previous': 2, 'manchest': 2, 'rusedski': 2, 'rib': 2, 'unabl': 2, 'shock': 2, 'goalkeep': 2, 'spaniard': 2, 'jen': 2, 'period': 2, 'less': 2, 'seaman': 2, 'fantast': 2, 'deserv': 2, 'worri': 2, 'campbel': 2, 'contract': 2, 'competit': 2, 'henri': 2, 'perform': 2, 'despit': 2, 'goal': 2, 'everi': 2, 'troncon': 2, 'orquera': 2, 'defenc': 2, 'asid': 2, 'error': 2, 'train': 2, 'leed': 2, 'similar': 2, 'rival': 2, 'ian': 2, 'seriou': 2, 'connect': 2, 'code': 2, 'scott': 2, 'olymp': 2, 'heptathlon': 2, 'bronz': 2, 'medallist': 2, '50': 2, '21': 2, 'lambert': 2, 'settl': 2, 'paul': 2, 'luck': 2, 'turner': 2, '22': 2, 'though': 2, '49': 2, '05': 2, '800': 2, 'lie': 2, 'mcilroy': 2, 'deacon': 2, 'fraser': 2, 'distanc': 2, '23': 2, 'climb': 2, '25': 2, 'rey': 2, 'specul': 2, 'radio': 2, 'butragueno': 2, 'cope': 2, 'gradual': 2, 'dream': 2, 'antelop': 2, 'friend': 2, 'track': 2, 'speci': 2, 'rspca': 2, 'clean': 2, 'kill': 2, 'accept': 2, 'doubt': 2, 'wildlif': 2, 'cover': 2, 'hardwar': 2, 'softwar': 2, 'immedi': 2, 'activ': 2, 'environment': 2, 'check': 2, 'smuggl': 2, 'search': 2, 'upgrad': 2, 'transfer': 2, 'walk': 2, 'estim': 2, 'social': 2, 'benefit': 2, 'recycl': 2, 'landfil': 2, 'slowli': 2, '90': 2, 'oversea': 2, 'enjoy': 2, 'romania': 2, 'wage': 2, 'almost': 2, 'romanian': 2, 'advantag': 2, 'free': 2, 'equal': 2, 'chief': 2, 'ntl': 2, 'letter': 2, 'bpi': 2, 'scale': 2, 'busi': 2, 'mulligan': 2, 'perfect': 2, 'valuabl': 2, 'might': 2, 'actual': 2, 'client': 2, 'uniqu': 2, 'hardli': 2, 'popul': 2, 'chair': 2, 'engin': 2, 'voic': 2, 'voip': 2, 'cern': 2, 'evolut': 2, 'rate': 2, 'renew': 2, 'subscrib': 2, 'ipv4': 2, 'limit': 2, 'technic': 2, 'invis': 2, 'behaviour': 2, 'thompson': 2, 'arriv': 2, 'crimin': 2, 'gang': 2, 'simpl': 2, 'payment': 2, 'databas': 2, 'cours': 2, 'commerc': 2, 'rich': 2, 'memori': 2, 'usb': 2, 'wave': 2, 'intercept': 2, 'consequ': 2, 'cahoot': 2, 'abus': 2, 'seem': 2, '368bn': 1, '197bn': 1, 'factor': 1, '100bn': 1, 'red': 1, 'past': 1, 'congression': 1, '348bn': 1, 'weaken': 1, 'amid': 1, 'jitter': 1, 'widen': 1, '60bn': 1, 'envisag': 1, 'orderli': 1, 'greenback': 1, 'non': 1, 'partisan': 1, 'watchdog': 1, 'note': 1, '412bn': 1, '377bn': 1, '855bn': 1, '2006': 1, '2015': 1, 'trillion': 1, 'revamp': 1, 'pension': 1, 'extend': 1, 'cut': 1, 'worsen': 1, 'republican': 1, 'slow': 1, 'condit': 1, 'ongo': 1, 'afghanistan': 1, 'halv': 1, 'democrat': 1, 'accus': 1, 'exclud': 1, 'relat': 1, 'deni': 1, 'congress': 1, 'agre': 1, 'creat': 1, 'crowd': 1, 'sector': 1, 'merger': 1, 'nigeria': 1, 'term': 1, 'profit': 1, 'board': 1, 'separ': 1, 'yesterday': 1, 'arrang': 1, 'foreign': 1, 'global': 1, 'depositori': 1, '32': 1, 'banca': 1, 'nazional': 1, 'lavoro': 1, 'mont': 1, 'paschi': 1, 'di': 1, 'siena': 1, 'stake': 1, 'explor': 1, 'natur': 1, 'ga': 1, 'corp': 1, 'entiti': 1, 'opportuniti': 1, 'chairman': 1, 'subir': 1, 'raha': 1, 'local': 1, 'press': 1, '2bn': 1, '1bn': 1, 'massiv': 1, 'yuganskneftega': 1, '27bn': 1, 'unpaid': 1, 'taxi': 1, 'fine': 1, 'alon': 1, 'shankar': 1, 'discuss': 1, 'moscow': 1, 'topic': 1, 'vladimir': 1, 'delhi': 1, 'stagnat': 1, 'abroad': 1, 'suppli': 1, '70': 1, 'boom': 1, 'thirst': 1, '793': 1, 'barrel': 1, 'per': 1, '1990': 1, '474': 1, '1973': 1, 'dramat': 1, 'gulf': 1, 'exploit': 1, 'resourc': 1, 'slim': 1, '2020': 1, 'level': 1, 'vietnam': 1, 'sudan': 1, 'sakhalin': 1, 'siberian': 1, 'coast': 1, 'chines': 1, 'mention': 1, 'refus': 1, 'twist': 1, 'saga': 1, 'knee': 1, 'disput': 1, 'clampdown': 1, 'ex': 1, 'mikhail': 1, 'khodorkovski': 1, 'jail': 1, 'evas': 1, 'question': 1, 'surviv': 1, 'claw': 1, 'saysurf': 1, 'poll': 1, 'hasselhoff': 1, 'pamela': 1, 'anderson': 1, '140': 1, 'height': 1, 'anna': 1, 'nicol': 1, 'duke': 1, 'hazzard': 1, 'survey': 1, 'simpson': 1, 'dalla': 1, 'soap': 1, 'opera': 1, 'knot': 1, 'land': 1, 'crest': 1, 'bold': 1, 'transatlant': 1, 'howler': 1, 'springer': 1, 'fare': 1, 'rise': 1, 'numbingli': 1, 'predict': 1, 'script': 1, 'beachgoer': 1, 'drown': 1, 'makeov': 1, 'public': 1, 'plastic': 1, 'surgeri': 1, 'prais': 1, 'x': 1, 'luci': 1, 'peak': 1, 'trek': 1, '12th': 1, 'annual': 1, 'near': 1, 'kinross': 1, 'scot': 1, 'travi': 1, 'soulman': 1, 'brown': 1, '130': 1, 'geoff': 1, 'ceo': 1, 'ltd': 1, 'promis': 1, 'slightli': 1, 'beyond': 1, 'fan': 1, 'absolut': 1, '120': 1, 'weekend': 1, 'brit': 1, 'award': 1, 'killer': 1, 'danc': 1, 'prodigi': 1, '2002': 1, 'oasi': 1, 'basement': 1, 'jaxx': 1, 'headlin': 1, 'actgood': 1, 'strip': 1, 'judici': 1, 'function': 1, 'doctor': 1, 'christoph': 1, 'enter': 1, 'monday': 1, 'suprem': 1, 'panel': 1, 'decemb': 1, 'reject': 1, 'plea': 1, 'vote': 1, '229': 1, '206': 1, 'parliamentari': 1, 'impend': 1, 'irrelev': 1, 'affair': 1, 'conflict': 1, 'appropri': 1, 'unfetter': 1, 'discret': 1, 'attorney': 1, 'except': 1, 'judiciari': 1, 'piec': 1, 'convent': 1, 'nurtur': 1, 'celebr': 1, 'distrust': 1, 'dislik': 1, 'unless': 1, 'difficulti': 1, 'parliament': 1, 'hogg': 1, 'father': 1, 'grandfath': 1, 'unnecessari': 1, 'bureaucrat': 1, 'expens': 1, 'tori': 1, 'sleaford': 1, 'hykeham': 1, 'frozen': 1, 'aspic': 1, 'telegraph': 1, 'bore': 1, 'unfulfil': 1, 'step': 1, 'richmond': 1, 'wife': 1, 'ffion': 1, 'publish': 1, 'biographi': 1, 'pitt': 1, 'speech': 1, 'rush': 1, 'repli': 1, 'definit': 1, 'stay': 1, 'tim': 1, 'collin': 1, 'huge': 1, '36': 1, 'age': 1, 'cram': 1, 'liber': 1, 'misjudg': 1, 'thought': 1, 'sayblack': 1, 'tama': 1, 'irb': 1, 'seri': 1, 'reli': 1, 'heavili': 1, 'shape': 1, 'wrong': 1, 'xv': 1, 'disguis': 1, 'score': 1, 'fairli': 1, 'twickenham': 1, 'tip': 1, 'up': 1, '31': 1, 'immens': 1, 'ring': 1, 'rariti': 1, 'black': 1, 'weigh': 1, 'chariti': 1, 'gregan': 1, 'andrew': 1, 'mehrten': 1, 'latham': 1, 'valu': 1, 'proceed': 1, 'southern': 1, 'rod': 1, 'macqueen': 1, 'hesit': 1, 'thank': 1, 'tragedi': 1, 'horrif': 1, 'minor': 1, '1400': 1, 'gmt': 1, 'ameli': 1, 'maria': 1, 'lo': 1, 'angel': 1, 'vera': 1, '0': 1, 'wimbledon': 1, 'fellow': 1, 'svetlana': 1, 'serena': 1, 'split': 1, 'ninth': 1, 'row': 1, 'overtak': 1, 'lindsay': 1, 'usher': 1, 'obsess': 1, 'relax': 1, '54': 1, 'mad': 1, 'kim': 1, 'clijster': 1, 'crash': 1, 'stapl': 1, 'wednesday': 1, 'sometim': 1, 'streak': 1, '14': 1, 'unstopp': 1, 'debut': 1, 'laker': 1, 'basketbal': 1, 'right': 1, 'dimens': 1, 'comprehens': 1, 'jurgen': 1, 'quarter': 1, 'sap': 1, 'bamboozl': 1, 'austrian': 1, 'drop': 1, 'san': 1, 'roddick': 1, 'ralli': 1, 'sweden': 1, 'thoma': 1, 'enqvist': 1, 'unseed': 1, 'cyril': 1, 'saulnier': 1, 'vincent': 1, 'spadea': 1, 'tommi': 1, 'haa': 1, 'overcam': 1, 'eighth': 1, 'max': 1, 'mirnyi': 1, 'perfectli': 1, 'tough': 1, 'dog': 1, 'backhand': 1, 'sever': 1, 'loosen': 1, 'convert': 1, 'clash': 1, 'relish': 1, 'extra': 1, 'assist': 1, 'bobbi': 1, 'robson': 1, 'loui': 1, 'van': 1, 'gaal': 1, 'enviou': 1, 'jealou': 1, 'histori': 1, 'amount': 1, 'tactic': 1, 'counter': 1, 'possess': 1, 'nevertheless': 1, 'accustom': 1, 'special': 1, 'journalist': 1, 'jason': 1, 'jonni': 1, 'martin': 1, 'lock': 1, 'reflect': 1, 'influenc': 1, 'lack': 1, 'cohes': 1, 'reason': 1, 'assert': 1, 'breakdown': 1, 'wer': 1, 'stifl': 1, 'creativ': 1, 'depriv': 1, 'jami': 1, 'noon': 1, 'icon': 1, 'requisit': 1, 'anyth': 1, 'knock': 1, 'certainti': 1, 'handl': 1, 'newcastl': 1, 'fernando': 1, 'scupper': 1, 'snap': 1, 'echo': 1, 'avoid': 1, 'war': 1, 'nicola': 1, 'monaco': 1, 'suggest': 1, 'lift': 1, 'bow': 1, 'pleas': 1, 'statur': 1, 'elsewher': 1, 'everyon': 1, 'realist': 1, 'spoken': 1, 'appreci': 1, 'reluct': 1, 'gerard': 1, 'houlli': 1, 'seal': 1, 'perman': 1, 'switch': 1, 'greg': 1, 'withdraw': 1, 'marseil': 1, 'schedul': 1, 'sebastien': 1, 'de': 1, 'chaunac': 1, 'guillermo': 1, 'coria': 1, 'cage': 1, 'taylor': 1, 'dent': 1, 'nalbandian': 1, 'joachim': 1, 'johansson': 1, 'frenchman': 1, 'gill': 1, 'simon': 1, 'feliciano': 1, 'lopez': 1, 'ivo': 1, 'karlov': 1, 'slovakia': 1, 'karol': 1, 'beck': 1, 'croatian': 1, 'duo': 1, 'ivan': 1, 'ljubic': 1, 'mario': 1, 'ancic': 1, 'manuel': 1, 'crunch': 1, 'defin': 1, 'celta': 1, 'vigo': 1, 'denni': 1, 'bergkamp': 1, 'kanu': 1, 'everybodi': 1, 'trafford': 1, 'alarm': 1, 'birmingham': 1, 'either': 1, 'robot': 1, 'shorter': 1, 'harshli': 1, 'treat': 1, 'choic': 1, 'suspens': 1, 'inexperienc': 1, 'midfield': 1, 'pair': 1, 'mathieu': 1, 'flamini': 1, 'cesc': 1, 'fabrega': 1, 'learn': 1, 'mental': 1, 'workrat': 1, 'sol': 1, 'verg': 1, 'success': 1, 'thierri': 1, 'suspend': 1, 'patrick': 1, 'vieira': 1, 'seek': 1, 'requir': 1, 'fault': 1, 'encount': 1, 'italian': 1, 'mix': 1, 'afternoon': 1, 'recal': 1, 'scrum': 1, 'alessandro': 1, 'impress': 1, 'luciano': 1, 'boot': 1, 'incred': 1, 'kick': 1, 'courag': 1, 'sweep': 1, 'venu': 1, 'hong': 1, 'kong': 1, 'victoria': 1, 'exhibit': 1, 'grand': 1, 'slam': 1, 'display': 1, 'nice': 1, 'mostli': 1, 'unforc': 1, 'organ': 1, 'auction': 1, 'racket': 1, 'belong': 1, 'rais': 1, '115': 1, 'disast': 1, 'rhino': 1, 'clinic': 1, 'millward': 1, 'unlik': 1, 'portug': 1, 'consider': 1, 'obviou': 1, 'spat': 1, 'collaps': 1, 'kieron': 1, 'cunningham': 1, '500': 1, 'swansea': 1, 'iestyn': 1, 'cardiff': 1, 'bradford': 1, 'bull': 1, 'kel': 1, 'coslett': 1, 'famous': 1, '1960': 1, 'footbal': 1, 'griffith': 1, 'defens': 1, 'gibb': 1, '1994': 1, '96': 1, 'wembley': 1, '1996': 1, 'jade': 1, 'kelli': 1, 'norwich': 1, 'trial': 1, 'leap': 1, 'compet': 1, 'leapt': 1, 'foul': 1, 'pentathlon': 1, 'carolina': 1, 'kluft': 1, 'storm': 1, '01': 1, 'brizzel': 1, 'consol': 1, '94': 1, 'allyn': 1, 'condon': 1, 'macki': 1, 'disqualifi': 1, 'plenti': 1, 'hot': 1, '60': 1, 'hurdl': 1, 'vie': 1, 'olympian': 1, 'broke': 1, '58': 1, '82': 1, '83': 1, 'damien': 1, 'greav': 1, 'trio': 1, 'athlet': 1, 'clock': 1, 'surpass': 1, 'clithero': 1, 'agonisingli': 1, '00': 1, '73': 1, 'thie': 1, 'eas': 1, 'showdown': 1, 'sheffield': 1, 'watkin': 1, 'susan': 1, 'stole': 1, 'thunder': 1, '68': 1, 'outsid': 1, '67': 1, 'veteran': 1, '39': 1, 'fifth': 1, '77': 1, 'injur': 1, 'carl': 1, 'myerscough': 1, '64': 1, 'sale': 1, 'robert': 1, 'mitchel': 1, 'cm': 1, 'short': 1, 'temper': 1, 'slovenia': 1, 'pole': 1, 'vault': 1, 'bar': 1, '45': 1, 'ashley': 1, 'swain': 1, 'taniesha': 1, 'scanlon': 1, 'tripl': 1, 'antonio': 1, 'fall': 1, 'prank': 1, 'emilio': 1, 'allegedli': 1, 'berat': 1, 'mate': 1, 'wish': 1, 'cadena': 1, 'sevil': 1, 'frequent': 1, 'homesick': 1, 'begin': 1, 'superb': 1, 'maintain': 1, 'premiership': 1, 'none': 1, 'surfac': 1, 'giant': 1, 'describ': 1, 'flatter': 1, 'lunchtim': 1, 'angri': 1, 'imperson': 1, 'disc': 1, 'jockey': 1, 'disgrac': 1, 'foundat': 1, 'rumour': 1, 'newssoon': 1, 'roam': 1, '133': 1, 'hectar': 1, 'scheme': 1, 'practis': 1, 'ago': 1, 'watch': 1, 'webcam': 1, 'white': 1, 'tail': 1, 'buck': 1, 'light': 1, 'bulb': 1, 'head': 1, 'reuter': 1, 'result': 1, 'calibr': 1, 'conceal': 1, 'locat': 1, 'reserv': 1, 'varieti': 1, 'quickli': 1, '150': 1, 'meat': 1, 'taxidermi': 1, 'barbari': 1, 'corsican': 1, 'mouflon': 1, 'sheep': 1, 'blackbuck': 1, 'silhouett': 1, '95': 1, 'dvd': 1, 'handler': 1, 'fire': 1, 'rang': 1, 'disabl': 1, 'wood': 1, 'distant': 1, 'grave': 1, 'assum': 1, 'accur': 1, 'therefor': 1, 'intent': 1, 'unnecessarili': 1, 'mike': 1, 'berger': 1, 'depart': 1, 'statut': 1, 'regul': 1, 'nativ': 1, 'bird': 1, 'unregul': 1, 'monitor': 1, 'instal': 1, 'outdat': 1, 'hamper': 1, 'atom': 1, 'overlook': 1, 'method': 1, 'appeal': 1, 'updat': 1, 'overhaul': 1, 'livio': 1, 'costantini': 1, '900': 1, 'verifi': 1, 'instanc': 1, '1970': 1, 'ineffici': 1, 'anomali': 1, 'needl': 1, 'haystack': 1, 'inspect': 1, 'blueprint': 1, 'satellit': 1, 'imag': 1, 'analysi': 1, 'illicit': 1, 'specialist': 1, 'peter': 1, 'incorpor': 1, 'art': 1, 'visualis': 1, 'techniqu': 1, 'familiar': 1, 'video': 1, 'toolkit': 1, 'commerci': 1, 'virtual': 1, 'wall': 1, 'failur': 1, 'integr': 1, 'fulli': 1, 'compon': 1, 'risk': 1, 'environ': 1, 'divid': 1, 'collect': 1, 'rot': 1, 'approxim': 1, 'swap': 1, 'mass': 1, 'unrecycl': 1, 'discard': 1, 'equival': 1, 'tonn': 1, 'wast': 1, 'advis': 1, 'quit': 1, 'leak': 1, 'toxic': 1, 'leas': 1, 'particularli': 1, 'incom': 1, 'date': 1, 'depth': 1, 'crap': 1, 'fix': 1, 'desir': 1, 'rel': 1, 'shini': 1, 'barrier': 1, 'pre': 1, 'tend': 1, 'georgeta': 1, 'minciu': 1, 'normal': 1, 'parent': 1, 'daughter': 1, 'consum': 1, 'britain': 1, 'mountain': 1, 'captiv': 1, 'legitimaci': 1, 'share': 1, 'rage': 1, 'threat': 1, 'true': 1, 'nightmar': 1, 'myer': 1, 'wippit': 1, 'oxygen': 1, 'steadfastli': 1, 'copyright': 1, 'cash': 1, 'nat': 1, 'vodafon': 1, 'o2': 1, 'renault': 1, 'phonograph': 1, 'urg': 1, 'dump': 1, 'associ': 1, 'condemn': 1, 'establish': 1, 'bedfellow': 1, 'kazaa': 1, 'grokster': 1, 'facilit': 1, 'fileshar': 1, 'strongli': 1, 'reput': 1, 'revenu': 1, 'sharer': 1, 'complic': 1, 'jupit': 1, 'napster': 1, 'repres': 1, 'contact': 1, 'directli': 1, 'onetel': 1, 'respons': 1, 'typic': 1, 'investig': 1, 'affili': 1, 'knowledg': 1, 'polici': 1, 'discount': 1, 'request': 1, 'remov': 1, 'spokeswoman': 1, 'similarli': 1, 'telecommun': 1, 'strict': 1, 'instruct': 1, 'convinc': 1, 'explan': 1, 'alloc': 1, 'excus': 1, 'prevent': 1, 'leverag': 1, 'perhap': 1, 'senat': 1, 'kerri': 1, 'sam': 1, 'yagan': 1, 'distinct': 1, 'engag': 1, 'desk': 1, 'interact': 1, 'bodi': 1, 'evolv': 1, 'smooth': 1, 'telecom': 1, 'deepli': 1, 'distinguish': 1, 'ibm': 1, 'laboratori': 1, 'particl': 1, 'physic': 1, 'pioneer': 1, 'applic': 1, 'prioriti': 1, 'tcp': 1, 'transmiss': 1, 'vendor': 1, 'knit': 1, 'togeth': 1, 'effect': 1, 'glitch': 1, '2000': 1, 'phase': 1, 'buoy': 1, 'emerg': 1, 'uptak': 1, 'dsl': 1, 'doubl': 1, 'releas': 1, 'exist': 1, 'clearli': 1, 'version': 1, 'space': 1, 'vital': 1, 'complex': 1, 'averag': 1, 'notic': 1, 'london': 1, 'telephon': 1, 'deploy': 1, 'disappear': 1, 'human': 1, 'ignor': 1, 'along': 1, 'dark': 1, 'unfortun': 1, 'argu': 1, 'appli': 1, 'confidenti': 1, 'societi': 1, 'identiti': 1, 'arm': 1, 'fake': 1, 'appar': 1, 'easi': 1, 'overdraft': 1, 'someon': 1, 'els': 1, 'unwitt': 1, 'mess': 1, 'demand': 1, 'increasingli': 1, 'crime': 1, 'unshred': 1, 'rubbish': 1, 'properli': 1, 'suspect': 1, 'fsa': 1, 'bob': 1, 'cratchit': 1, 'underworld': 1, 'wonder': 1, 'amazon': 1, 'pick': 1, 'fraudster': 1, 'audit': 1, 'catch': 1, 'suppos': 1, 'unexpect': 1, 'transact': 1, 'log': 1, 'trace': 1, 'portabl': 1, 'flash': 1, 'plug': 1, 'slot': 1, 'suck': 1, 'securewav': 1, 'restrict': 1, 'port': 1, 'authoris': 1, 'devic': 1, 'individu': 1, 'wash': 1, 'highlight': 1, 'otherwis': 1, 'server': 1, 'transit': 1, 'shop': 1, 'hack': 1, 'case': 1, 'contain': 1, 'simpli': 1, 'tool': 1, 'cd': 1, 'univers': 1, 'powergen': 1, 'guess': 1, 'login': 1, 'extern': 1, 'hacker': 1, 'staff': 1, 'bind': 1, 'proper': 1, 'unauthoris': 1, 'disclosur': 1, 'penalti': 1, 'prosecut': 1, 'convolut': 1, 'worthless': 1, 'respond': 1, 'hassl': 1, 'other': 1, 'guarante': 1, 'option': 1, 'stringent': 1, 'civil': 1, 'lawsuit': 1, 'sloppi': 1, 'sue': 1, 'prefer': 1, 'regular': 1, 'comment': 1}), 'entertainment': Counter({'show': 6, 'year': 6, 'sell': 6, 'event': 6, 'festiv': 5, 'day': 5, 'time': 4, 'magazin': 4, 'among': 4, '10': 4, 'act': 4, 'tv': 3, 'list': 3, 'top': 3, 'well': 3, 'say': 3, 'juli': 3, 'organis': 3, 'last': 3, 'baywatch': 2, 'bad': 2, 'import': 2, 'star': 2, 'broadcast': 2, 'make': 2, 'jerri': 2, 'come': 2, 'way': 2, 'extrem': 2, 'ticket': 2, 'big': 2, 'park': 2, 'place': 2, 'balado': 2, 'line': 2, 'green': 2, 'foo': 2, 'fighter': 2, 'kean': 2, 'appear': 2, 'howev': 2, 'also': 2, 'elli': 2, 'yet': 2, 'play': 2, 'surf': 1, 'titl': 1, 'poll': 1, 'uk': 1, 'televis': 1, 'execut': 1, 'programm': 1, 'david': 1, 'hasselhoff': 1, 'pamela': 1, 'anderson': 1, '12': 1, 'run': 1, '140': 1, 'countri': 1, 'height': 1, 'model': 1, 'anna': 1, 'nicol': 1, 'smith': 1, 'realiti': 1, 'duke': 1, 'hazzard': 1, 'runner': 1, 'survey': 1, 'simpson': 1, 'dalla': 1, '24': 1, 'good': 1, 'we': 1, 'soap': 1, 'opera': 1, 'knot': 1, 'land': 1, 'falcon': 1, 'crest': 1, 'plu': 1, 'bold': 1, 'beauti': 1, 'transatlant': 1, 'howler': 1, 'springer': 1, 'sixth': 1, 'fare': 1, 'british': 1, 'never': 1, 'realis': 1, 'low': 1, 'could': 1, 'go': 1, 'rise': 1, 'mind': 1, 'numbingli': 1, 'predict': 1, 'script': 1, 'beachgoer': 1, 'save': 1, 'drown': 1, 'accord': 1, 'insid': 1, 'makeov': 1, 'see': 1, 'member': 1, 'public': 1, 'give': 1, 'thousand': 1, 'pound': 1, 'worth': 1, 'plastic': 1, 'surgeri': 1, 'american': 1, 'prais': 1, 'x': 1, 'file': 1, 'love': 1, 'luci': 1, 'twin': 1, 'peak': 1, 'trek': 1, 'scotland': 1, 'music': 1, 'record': 1, 'five': 1, 'month': 1, 'hold': 1, '12th': 1, 'annual': 1, 'take': 1, 'near': 1, 'kinross': 1, 'four': 1, 'announc': 1, 'alreadi': 1, 'reveal': 1, 'scot': 1, 'favourit': 1, 'travi': 1, 'soulman': 1, 'jame': 1, 'brown': 1, 'week': 1, 'confirm': 1, '130': 1, '000': 1, 'two': 1, 'geoff': 1, 'ceo': 1, 'ltd': 1, 'promis': 1, 'think': 1, 'would': 1, 'slightli': 1, 'earli': 1, 'beyond': 1, 'expect': 1, 'mr': 1, 'proud': 1, 'fan': 1, 'excit': 1, 'absolut': 1, 'sure': 1, 'book': 1, '2005': 1, 'deliv': 1, 'one': 1, 'great': 1, '120': 1, 'eight': 1, 'stage': 1, 'weekend': 1, '9': 1, 'brit': 1, 'award': 1, 'winner': 1, 'street': 1, 'main': 1, 'attract': 1, 'killer': 1, 'danc': 1, 'prodigi': 1, 'bill': 1, '2002': 1, 'oasi': 1, 'basement': 1, 'jaxx': 1, 'headlin': 1}), 'politics': Counter({'lord': 14, 'say': 14, 'mr': 10, 'chancellor': 9, 'minist': 9, 'hagu': 8, 'govern': 6, 'mp': 5, 'appoint': 4, 'tell': 4, 'reform': 4, 'bill': 4, 'whether': 4, 'also': 4, 'would': 4, 'parti': 4, 'job': 3, 'lawyer': 3, 'court': 3, 'post': 3, 'need': 3, 'secretari': 3, 'lesli': 3, 'prime': 3, 'hous': 3, 'peer': 3, 'leader': 3, 'polit': 3, 'front': 3, 'good': 2, 'person': 2, 'necessarili': 2, 'constitut': 2, 'law': 2, 'judg': 2, 'independ': 2, 'holder': 2, 'last': 2, 'gener': 2, 'elect': 2, 'get': 2, 'long': 2, 'shadow': 2, 'domin': 2, 'griev': 2, 'institut': 2, 'back': 2, 'remain': 2, 'member': 2, 'former': 2, 'cabinet': 2, 'north': 2, 'role': 2, 'conserv': 2, 'william': 2, 'stand': 2, 'leadership': 2, 'ambit': 2, 'return': 2, 'bench': 2, 'write': 2, 'feel': 2, 'strip': 1, 'judici': 1, 'function': 1, 'health': 1, 'doctor': 1, 'christoph': 1, 'enter': 1, 'second': 1, 'read': 1, 'monday': 1, 'abl': 1, 'sit': 1, 'common': 1, 'replac': 1, 'uk': 1, 'high': 1, 'legal': 1, 'author': 1, 'suprem': 1, 'panel': 1, 'rather': 1, 'decemb': 1, 'reject': 1, 'plea': 1, 'current': 1, 'falcon': 1, 'vote': 1, '229': 1, '206': 1, 'must': 1, 'debat': 1, 'carri': 1, 'parliamentari': 1, 'session': 1, 'impend': 1, 'time': 1, 'crucial': 1, 'pass': 1, 'irrelev': 1, 'call': 1, 'state': 1, 'affair': 1, 'matter': 1, 'conflict': 1, 'duti': 1, 'appropri': 1, 'unfetter': 1, 'discret': 1, 'attorney': 1, 'criticis': 1, 'plan': 1, 'chang': 1, 'except': 1, 'provid': 1, 'champion': 1, 'judiciari': 1, 'initi': 1, 'propos': 1, 'take': 1, 'smash': 1, 'piec': 1, 'convent': 1, 'nurtur': 1, 'celebr': 1, 'distrust': 1, 'dislik': 1, 'instead': 1, 'warn': 1, 'unless': 1, 'great': 1, 'difficulti': 1, 'parliament': 1, 'dougla': 1, 'hogg': 1, 'whose': 1, 'father': 1, 'grandfath': 1, 'serv': 1, 'larg': 1, 'unnecessari': 1, 'bureaucrat': 1, 'expens': 1, 'tori': 1, 'sleaford': 1, 'hykeham': 1, 'admit': 1, 'offic': 1, 'frozen': 1, 'aspic': 1, 'give': 1, '43': 1, 'daili': 1, 'telegraph': 1, 'find': 1, 'life': 1, 'bore': 1, 'unfulfil': 1, 'step': 1, '2001': 1, 'defeat': 1, 'rule': 1, 'paper': 1, 'hope': 1, 'richmond': 1, 'york': 1, 'start': 1, 'famili': 1, 'wife': 1, 'ffion': 1, 'recent': 1, 'publish': 1, 'biographi': 1, 'pitt': 1, 'young': 1, 'want': 1, 'continu': 1, 'book': 1, 'speech': 1, 'newspap': 1, 'know': 1, 'ever': 1, 'go': 1, 'rush': 1, 'ask': 1, 'repli': 1, 'definit': 1, 'determin': 1, 'stay': 1, 'away': 1, 'central': 1, 'disappoint': 1, 'senior': 1, 'tim': 1, 'collin': 1, 'educ': 1, 'week': 1, 'huge': 1, 'boost': 1, 'becom': 1, '27': 1, 'opposit': 1, '36': 1, 'fortun': 1, 'age': 1, '40': 1, 'cram': 1, 'entir': 1, 'career': 1, 'branch': 1, 'thing': 1, 'liber': 1, 'add': 1, 'may': 1, 'misjudg': 1, 'mayb': 1, 'drive': 1, 'thought': 1}), 'sport': Counter({'play': 28, '6': 28, 'good': 25, 'say': 23, 'm': 21, 'game': 18, 'match': 17, '7': 15, 'win': 14, 'year': 14, 'go': 14, 'one': 14, 'champion': 14, 'madrid': 14, 'player': 13, 'two': 13, 'last': 12, 'second': 12, 'season': 12, 'qualifi': 12, 'wale': 11, 'time': 11, 'european': 11, 'arsen': 11, 'first': 10, 'lose': 10, '2': 10, 'team': 10, 'england': 9, 'back': 9, 'get': 9, 'big': 9, 'add': 9, 'final': 9, 'want': 9, 'real': 9, 'titl': 9, 'british': 8, 'lion': 8, 'believ': 8, 'lot': 8, 'make': 8, 'great': 8, 'like': 8, 'old': 8, '5': 8, 'number': 8, '3': 8, 'leagu': 8, 'mark': 8, 'three': 7, 'way': 7, 'set': 7, 'former': 7, 'ireland': 7, 'coach': 7, 'give': 7, 'william': 7, 'take': 7, 'seed': 7, 'finish': 7, 'think': 7, 'captain': 6, 'umaga': 6, 'saturday': 6, 'rugbi': 6, 'new': 6, 'come': 6, 'beat': 6, 'next': 6, 'tri': 6, 'admit': 6, 'side': 6, 'injuri': 6, 'report': 6, 'mauresmo': 6, 'open': 6, 'week': 6, 'put': 6, 'defend': 6, 'person': 6, 'liverpool': 6, 'could': 6, 'man': 6, 'claim': 6, 'aaa': 6, 'tour': 5, 'also': 5, 'tell': 5, 'nation': 5, 'know': 5, 'peopl': 5, 'championship': 5, 'five': 5, 'point': 5, 'pressur': 5, 'start': 5, 'well': 5, 'happi': 5, 'agassi': 5, 'chelsea': 5, 'barcelona': 5, 'moor': 5, 'move': 5, 'wenger': 5, 'helen': 5, 'sotherton': 5, 'indoor': 5, 'six': 4, 'guy': 4, 'meet': 4, 'lead': 4, 'interest': 4, 'thing': 4, 'sinc': 4, 'enough': 4, 'clear': 4, 'long': 4, '1': 4, '4': 4, 'event': 4, 'confid': 4, 'court': 4, 'rank': 4, 'minut': 4, 'achiev': 4, 'tournament': 4, 'form': 4, 'day': 4, 'manag': 4, 'club': 4, 'europ': 4, 'half': 4, 'johnson': 4, 'morient': 4, 'high': 4, 'happen': 4, '13': 4, 'keeper': 4, 'lehmann': 4, 'challeng': 4, 'st': 4, 'saint': 4, 'jump': 4, 'woman': 4, 'ahead': 3, 'summer': 3, 'aid': 3, 'zealand': 3, 'bbc': 3, 'line': 3, 'we': 3, 'woodward': 3, 'squad': 3, 'month': 3, 'would': 3, 'hard': 3, 'driscol': 3, 'hemispher': 3, 'call': 3, 'us': 3, 'victim': 3, 'tsunami': 3, 'news': 3, 'affect': 3, 'still': 3, 'someth': 3, 'sharapova': 3, 'zvonareva': 3, 'russian': 3, 'kuznetsova': 3, 'american': 3, 'edg': 3, 'dementieva': 3, 'victori': 3, 'four': 3, 'top': 3, 'spot': 3, 'struggl': 3, 'return': 3, 'fail': 3, 'runner': 3, 'fight': 3, 'import': 3, 'love': 3, 'hope': 3, 'effort': 3, 'realli': 3, 'defeat': 3, 'melzer': 3, 'jose': 3, 'andi': 3, 'fourth': 3, 'alway': 3, 'run': 3, 'chanc': 3, 'capabl': 3, 'mourinho': 3, 'noth': 3, 'trophi': 3, 'full': 3, 'see': 3, 'strong': 3, 'attack': 3, 'ball': 3, 'face': 3, 'robinson': 3, 'world': 3, 'close': 3, 'mean': 3, 'itali': 3, 'scotland': 3, 'look': 3, 'sign': 3, 'striker': 3, 'bid': 3, '28': 3, 'benitez': 3, 'anelka': 3, 'deal': 3, 'tuesday': 3, 'situat': 3, 'third': 3, 'faith': 3, 'almunia': 3, 'rosenborg': 3, 'sunday': 3, 'stori': 3, '27': 3, 'matter': 3, 'gunner': 3, 'place': 3, 'kirwan': 3, '17': 3, '000': 3, 'alreadi': 3, 'welsh': 3, 'union': 3, '200': 3, 'heat': 3, '87': 3, 'standard': 3, 'throw': 3, 'bad': 3, 'link': 3, 'black': 2, 'irish': 2, 'fearsom': 2, 'oppon': 2, 'yet': 2, 'test': 2, 'sport': 2, 'awesom': 2, 'boss': 2, 'sir': 2, 'clive': 2, 'june': 2, 'push': 2, 'talent': 2, 'sure': 2, 'brian': 2, 'northern': 2, 'host': 2, 'earli': 2, 'although': 2, 'chang': 2, 'hit': 2, 'talk': 2, 'countri': 2, 'mind': 2, 'name': 2, 'chri': 2, 'caus': 2, 'easili': 2, 'approach': 2, 'miss': 2, 'mani': 2, 'help': 2, 'televis': 2, 'franc': 2, 'elena': 2, 'group': 2, 'semi': 2, 'davenport': 2, 'feel': 2, 'differ': 2, 'complet': 2, 'break': 2, 'littl': 2, 'tenni': 2, 'far': 2, 'centr': 2, 'everyth': 2, 'work': 2, '100': 2, 'beij': 2, 'atmospher': 2, 'posit': 2, 'andr': 2, 'plan': 2, 'hand': 2, 'will': 2, 'opportun': 2, 'leg': 2, 'tie': 2, '16': 2, 'nou': 2, 'camp': 2, 'decid': 2, 'mine': 2, 'insist': 2, 'cup': 2, 'star': 2, 'ronaldinho': 2, 'keep': 2, 'citi': 2, 'dress': 2, 'room': 2, 'respect': 2, 'absenc': 2, 'fli': 2, 'wilkinson': 2, 'retir': 2, 'forward': 2, 'action': 2, 'need': 2, 'pack': 2, 'usual': 2, 'quick': 2, 'harri': 2, 'experi': 2, 'problem': 2, 'intern': 2, 'join': 2, 'race': 2, 'spanish': 2, 'anfield': 2, 'rafa': 2, 'instead': 2, 'turn': 2, 'attent': 2, 'must': 2, 'pledg': 2, 'previous': 2, 'manchest': 2, 'rusedski': 2, 'thursday': 2, 'rib': 2, 'round': 2, 'leav': 2, 'shock': 2, 'david': 2, 'sixth': 2, 'stand': 2, 'goalkeep': 2, 'spaniard': 2, 'jen': 2, 'mistak': 2, 'period': 2, 'seaman': 2, 'deserv': 2, 'campbel': 2, 'current': 2, 'contract': 2, 'carri': 2, 'competit': 2, 'meanwhil': 2, 'henri': 2, 'stage': 2, 'perform': 2, 'produc': 2, 'despit': 2, 'confirm': 2, 'show': 2, 'troncon': 2, 'orquera': 2, 'defenc': 2, 'follow': 2, 'disappoint': 2, 'commit': 2, 'error': 2, 'train': 2, 'leed': 2, 'similar': 2, 'rival': 2, 'ian': 2, '2001': 2, 'cross': 2, 'code': 2, 'initi': 2, 'scott': 2, 'olymp': 2, 'heptathlon': 2, 'bronz': 2, 'medallist': 2, '50': 2, '21': 2, 'lambert': 2, '20': 2, 'luck': 2, 'turner': 2, 'though': 2, '49': 2, '9': 2, '05': 2, '800': 2, 'fast': 2, 'mcilroy': 2, 'deacon': 2, 'fraser': 2, 'distanc': 2, '23': 2, 'shoot': 2, 'climb': 2, 'rey': 2, 'specul': 2, 'radio': 2, 'butragueno': 2, 'tama': 1, 'warn': 1, 'irb': 1, 'seri': 1, 'potenti': 1, 'ever': 1, 'announc': 1, 'juli': 1, 'appoint': 1, 'wide': 1, 'reli': 1, 'heavili': 1, 'consid': 1, 'shape': 1, 'wrong': 1, 'xv': 1, 'disguis': 1, 'particular': 1, 'score': 1, 'fairli': 1, 'twickenham': 1, 'among': 1, 'tip': 1, 'up': 1, 'idea': 1, '31': 1, 'immens': 1, 'lord': 1, 'ring': 1, 'drive': 1, 'rariti': 1, 'fact': 1, 'fear': 1, 'weigh': 1, 'chariti': 1, 'featur': 1, 'includ': 1, 'georg': 1, 'gregan': 1, 'andrew': 1, 'mehrten': 1, 'latham': 1, 'valu': 1, 'proceed': 1, 'southern': 1, 'rod': 1, 'macqueen': 1, 'hesit': 1, 'thank': 1, 'anyon': 1, 'involv': 1, 'tragedi': 1, 'horrif': 1, 'minor': 1, '1400': 1, 'gmt': 1, 'ameli': 1, 'maria': 1, 'lo': 1, 'angel': 1, 'rout': 1, 'vera': 1, '0': 1, 'wimbledon': 1, 'winner': 1, 'fellow': 1, 'svetlana': 1, 'serena': 1, 'split': 1, 'advanc': 1, 'ninth': 1, 'row': 1, 'overtak': 1, 'lindsay': 1, 'spend': 1, 'usher': 1, 'front': 1, 'obsess': 1, 'relax': 1, 'end': 1, '54': 1, 'russia': 1, 'serv': 1, 'singl': 1, 'mad': 1, 'bit': 1, 'kim': 1, 'clijster': 1, 'crash': 1, 'stapl': 1, 'wednesday': 1, 'sometim': 1, 'mayb': 1, 'septemb': 1, 'streak': 1, '14': 1, 'unstopp': 1, 'debut': 1, 'laker': 1, 'excit': 1, 'basketbal': 1, 'remain': 1, 'right': 1, 'today': 1, 'dimens': 1, 'suffer': 1, 'comprehens': 1, 'jurgen': 1, 'quarter': 1, 'sap': 1, 'often': 1, 'bamboozl': 1, 'austrian': 1, 'drop': 1, 'shot': 1, 'san': 1, 'roddick': 1, 'ralli': 1, 'sweden': 1, 'thoma': 1, 'enqvist': 1, '8': 1, 'unseed': 1, 'cyril': 1, 'saulnier': 1, 'vincent': 1, 'spadea': 1, 'tommi': 1, 'haa': 1, 'overcam': 1, 'eighth': 1, 'max': 1, 'mirnyi': 1, 'execut': 1, 'perfectli': 1, 'tough': 1, 'dog': 1, 'power': 1, 'backhand': 1, 'exampl': 1, 'sever': 1, 'much': 1, 'loosen': 1, 'convert': 1, 'expect': 1, 'clash': 1, 'relish': 1, 'surpris': 1, 'extra': 1, 'moment': 1, 'never': 1, 'assist': 1, 'bobbi': 1, 'robson': 1, 'loui': 1, 'van': 1, 'gaal': 1, 'enviou': 1, 'jealou': 1, 'histori': 1, 'amount': 1, 'difficult': 1, 'tactic': 1, 'counter': 1, 'possess': 1, 'nevertheless': 1, 'accustom': 1, 'special': 1, 'journalist': 1, 'insid': 1, 'opposit': 1, 'jason': 1, 'jonni': 1, 'martin': 1, 'lock': 1, 'away': 1, 'reflect': 1, 'influenc': 1, 'lack': 1, 'cohes': 1, 'reason': 1, 'assert': 1, 'breakdown': 1, 'explain': 1, 'wer': 1, 'e': 1, 'stifl': 1, 'creativ': 1, 'depend': 1, 'depriv': 1, 'key': 1, 'youngster': 1, 'elli': 1, 'jami': 1, 'noon': 1, 'around': 1, 'replac': 1, 'icon': 1, 'requisit': 1, 'anyth': 1, 'knock': 1, 'door': 1, 'certainti': 1, 'handl': 1, 'newcastl': 1, 'fernando': 1, 'scupper': 1, 'snap': 1, 'accord': 1, 'echo': 1, 'newspap': 1, 'avoid': 1, 'war': 1, 'nicola': 1, 'sell': 1, 'monaco': 1, 'loan': 1, 'suggest': 1, 'lift': 1, 'offer': 1, 'bow': 1, 'pleas': 1, 'statur': 1, 'buy': 1, 'sort': 1, 'sensibl': 1, 'elsewher': 1, 'everyon': 1, 'realist': 1, 'spoken': 1, 'appreci': 1, 'young': 1, 'reluct': 1, 'futur': 1, 'gerard': 1, 'houlli': 1, 'seal': 1, 'perman': 1, 'switch': 1, 'greg': 1, 'forc': 1, 'withdraw': 1, 'marseil': 1, 'schedul': 1, 'sebastien': 1, 'de': 1, 'chaunac': 1, 'guillermo': 1, 'coria': 1, 'unabl': 1, 'cage': 1, 'taylor': 1, 'dent': 1, 'nalbandian': 1, 'joachim': 1, 'johansson': 1, 'frenchman': 1, 'gill': 1, 'simon': 1, 'feliciano': 1, 'lopez': 1, 'ivo': 1, 'karlov': 1, 'slovakia': 1, 'karol': 1, 'beck': 1, 'croatian': 1, 'duo': 1, 'ivan': 1, 'ljubic': 1, 'mario': 1, 'ancic': 1, 'manuel': 1, 'crunch': 1, 'defin': 1, 'celta': 1, 'vigo': 1, 'career': 1, 'do': 1, 'denni': 1, 'bergkamp': 1, 'kanu': 1, 'everybodi': 1, 'trafford': 1, 'alarm': 1, 'birmingham': 1, 'either': 1, 'robot': 1, 'less': 1, 'shorter': 1, 'harshli': 1, 'treat': 1, 'daili': 1, 'mail': 1, 'fantast': 1, 'anoth': 1, 'choic': 1, 'suspens': 1, 'inexperienc': 1, 'midfield': 1, 'pair': 1, 'mathieu': 1, 'flamini': 1, 'cesc': 1, 'fabrega': 1, 'prove': 1, 'learn': 1, 'process': 1, 'worri': 1, 'mental': 1, 'workrat': 1, 'boost': 1, 'sol': 1, 'verg': 1, '30': 1, 'whose': 1, 'determin': 1, 'success': 1, 'thierri': 1, 'blame': 1, 'suspend': 1, 'patrick': 1, 'vieira': 1, 'seek': 1, 'requir': 1, 'fault': 1, 'criticis': 1, 'john': 1, 'encount': 1, 'italian': 1, 'continu': 1, 'improv': 1, 'goal': 1, 'everi': 1, 'build': 1, 'mix': 1, 'afternoon': 1, 'recal': 1, 'scrum': 1, 'alessandro': 1, 'impress': 1, 'luciano': 1, 'boot': 1, 'incred': 1, 'kick': 1, 'courag': 1, 'sweep': 1, 'asid': 1, 'venu': 1, 'hong': 1, 'kong': 1, 'servic': 1, 'save': 1, 'victoria': 1, 'park': 1, 'whether': 1, 'exhibit': 1, 'grand': 1, 'slam': 1, '24': 1, 'display': 1, 'nice': 1, 'mostli': 1, 'unforc': 1, 'organ': 1, 'auction': 1, 'racket': 1, 'belong': 1, 'rais': 1, '115': 1, 'disast': 1, 'session': 1, 'rhino': 1, 'clinic': 1, 'millward': 1, 'approv': 1, 'unlik': 1, 'portug': 1, 'februari': 1, 'spokesman': 1, 'seriou': 1, 'consider': 1, 'proud': 1, 'connect': 1, 'obviou': 1, 'partner': 1, 'spat': 1, 'collaps': 1, 'kieron': 1, 'cunningham': 1, 'propos': 1, '500': 1, 'swansea': 1, 'iestyn': 1, 'cardiff': 1, 'bradford': 1, 'bull': 1, 'kel': 1, 'coslett': 1, 'famous': 1, '1960': 1, 'footbal': 1, 'griffith': 1, 'defens': 1, 'behind': 1, 'late': 1, 'gibb': 1, '1994': 1, '96': 1, 'wembley': 1, '1996': 1, 'jade': 1, 'kelli': 1, 'norwich': 1, 'trial': 1, 'leap': 1, '43': 1, 'compet': 1, 'leapt': 1, 'life': 1, 'foul': 1, 'pass': 1, 'main': 1, 'aim': 1, 'pentathlon': 1, 'carolina': 1, 'kluft': 1, 'deliv': 1, 'storm': 1, 'major': 1, '01': 1, 'favourit': 1, 'settl': 1, 'paul': 1, 'brizzel': 1, 'consol': 1, '94': 1, 'allyn': 1, 'condon': 1, 'macki': 1, 'disqualifi': 1, 'plenti': 1, 'hot': 1, '60': 1, 'hurdl': 1, 'vie': 1, 'olympian': 1, '22': 1, 'smash': 1, 'broke': 1, '58': 1, '82': 1, '83': 1, 'damien': 1, 'greav': 1, 'trio': 1, 'athlet': 1, 'reach': 1, 'comfort': 1, 'clock': 1, 'eight': 1, 'surpass': 1, 'clithero': 1, 'agonisingli': 1, '00': 1, '73': 1, 'lie': 1, 'jame': 1, 'thie': 1, 'eas': 1, 'across': 1, 'showdown': 1, 'sheffield': 1, 'watkin': 1, 'susan': 1, 'stole': 1, 'thunder': 1, 'becom': 1, '68': 1, 'outsid': 1, '67': 1, 'veteran': 1, '15': 1, '39': 1, 'book': 1, 'fifth': 1, '77': 1, 'injur': 1, 'carl': 1, 'myerscough': 1, '64': 1, 'sale': 1, 'robert': 1, 'mitchel': 1, 'cm': 1, 'short': 1, 'temper': 1, 'slovenia': 1, 'pole': 1, 'vault': 1, 'bar': 1, '45': 1, 'ashley': 1, 'swain': 1, '25': 1, 'taniesha': 1, 'scanlon': 1, 'record': 1, 'tripl': 1, 'antonio': 1, 'fall': 1, 'prank': 1, 'director': 1, 'emilio': 1, 'allegedli': 1, 'berat': 1, 'mate': 1, 'wish': 1, 'cadena': 1, 'cope': 1, 'sevil': 1, '2004': 1, 'frequent': 1, 'homesick': 1, 'begin': 1, 'superb': 1, 'maintain': 1, 'gradual': 1, 'premiership': 1, 'unit': 1, 'none': 1, 'dream': 1, 'surfac': 1, 'giant': 1, 'issu': 1, 'statement': 1, 'describ': 1, 'flatter': 1, 'medium': 1, 'lunchtim': 1, 'angri': 1, 'imperson': 1, 'disc': 1, 'jockey': 1, 'disgrac': 1, 'foundat': 1, 'care': 1, 'rumour': 1, 'appear': 1}), 'tech': Counter({'say': 39, 'net': 23, 'phone': 20, 'peopl': 19, 'make': 17, 'use': 16, 'year': 13, 'mobil': 13, 'network': 13, 'system': 12, 'advertis': 12, 'bank': 12, 'shoot': 11, 'mr': 11, 'work': 11, 'would': 11, 'secur': 11, 'like': 11, 'standard': 11, 'get': 10, 'peer': 10, 'could': 9, 'go': 9, 'hunt': 9, 'compani': 9, 'take': 9, 'one': 9, 'old': 9, 'well': 9, 'brand': 9, 'carpent': 9, 'account': 9, 'site': 8, 'statement': 8, 'handset': 8, 'million': 8, 'servic': 8, 'dr': 8, 'let': 7, 'remot': 7, 'control': 7, 'anim': 7, 'look': 7, 'agenc': 7, 'allow': 7, 'onlin': 7, 'world': 7, 'datum': 7, 'know': 7, 'sure': 7, 'internet': 6, 'underwood': 6, 'someth': 6, 'person': 6, 'nuclear': 6, 'inspector': 6, 'inform': 6, 'access': 6, 'new': 6, 'reach': 6, 'goodman': 6, 'end': 6, 'music': 6, 'theft': 6, 'open': 6, 'big': 6, 'address': 6, 'card': 6, 'texa': 5, 'user': 5, 'rifl': 5, 'game': 5, 'websit': 5, 'target': 5, 'news': 5, 'also': 5, 'need': 5, 'process': 5, 'way': 5, 'ensur': 5, 'comput': 5, 'iaea': 5, 'technolog': 5, 'report': 5, 'start': 5, 'good': 5, 'digit': 5, 'mani': 5, 'real': 5, 'download': 5, 'audienc': 5, 'edonkey': 5, 'last': 5, 'advert': 5, 'custom': 5, 'growth': 5, 'ietf': 5, 'challeng': 5, 'protocol': 5, 'ipv6': 5, 'ip': 5, 'leav': 5, 'e': 5, 'detail': 5, 'via': 4, 'small': 4, 'around': 4, 'come': 4, '10': 4, 'put': 4, 'aim': 4, 'session': 4, 'cost': 4, 'popular': 4, 'afford': 4, 'current': 4, 'import': 4, 'spokesman': 4, 'intern': 4, 'materi': 4, 'plant': 4, 'larg': 4, 'organis': 4, 'provid': 4, 'even': 4, 'nation': 4, 'see': 4, 'move': 4, 'problem': 4, 'far': 4, 'research': 4, 'forum': 4, 'futur': 4, 'mean': 4, 'poor': 4, 'model': 4, 'grow': 4, 'two': 4, 'prove': 4, 'pay': 4, 'time': 4, 'may': 4, 'money': 4, 'care': 4, 'give': 4, 'steal': 4, 'issu': 4, 'long': 4, 'bbc': 4, 'awar': 4, 'place': 4, 'anyon': 4, 'number': 4, 'practic': 4, 'danger': 4, 'financi': 4, 'sort': 4, 'ident': 4, 'web': 3, 'deer': 3, 'wild': 3, 'pig': 3, 'fee': 3, 'camera': 3, 'spot': 3, 'ranch': 3, 'live': 3, 'shot': 3, 'gun': 3, 'littl': 3, 'tell': 3, '000': 3, 'rig': 3, 'hunter': 3, 'includ': 3, '20': 3, 'record': 3, 'overse': 3, 'stop': 3, 'concern': 3, 'without': 3, 'suffer': 3, 'facil': 3, 'design': 3, 'possibl': 3, 'help': 3, 'countri': 3, 'laptop': 3, 'receiv': 3, 'find': 3, 'close': 3, 'second': 3, 'life': 3, 'firm': 3, 'author': 3, 'back': 3, 'oper': 3, 'send': 3, 'want': 3, 'keep': 3, 'recondit': 3, 'interest': 3, 'third': 3, 'part': 3, 'add': 3, 'keen': 3, 'file': 3, 'believ': 3, 'support': 3, 'illeg': 3, 'surpris': 3, 'becom': 3, 'probabl': 3, 'lot': 3, 'ad': 3, 'matter': 3, 'howev': 3, 'happen': 3, 'think': 3, 'whole': 3, 'task': 3, 'architectur': 3, 'broadband': 3, 'infrastructur': 3, 'next': 3, 'across': 3, 'job': 3, 'commun': 3, 'billion': 3, 'solut': 3, 'differ': 3, 'never': 3, 'mail': 3, 'data': 3, 'bill': 3, 'credit': 3, 'feel': 3, 'fraud': 3, 'consid': 2, 'antelop': 2, 'behind': 2, 'alreadi': 2, 'john': 2, 'anoth': 2, 'friend': 2, 'fast': 2, 'track': 2, 'pass': 2, 'speci': 2, 'paper': 2, 'rspca': 2, 'extrem': 2, 'difficult': 2, 'clean': 2, 'kill': 2, 'accept': 2, 'doubt': 2, 'wildlif': 2, 'cover': 2, 'state': 2, 'law': 2, 'worldwid': 2, 'hardwar': 2, 'softwar': 2, 'major': 2, 'immedi': 2, 'project': 2, 'visit': 2, 'activ': 2, 'carri': 2, 'environment': 2, 'check': 2, 'smuggl': 2, 'build': 2, 'search': 2, 'upgrad': 2, 'link': 2, 'potenti': 2, 'transfer': 2, 'accord': 2, 'abl': 2, 'walk': 2, 'estim': 2, 'four': 2, 'm': 2, 'us': 2, 'uk': 2, 'replac': 2, 'social': 2, 'benefit': 2, 'develop': 2, 'low': 2, 'recycl': 2, 'do': 2, 'rather': 2, 'landfil': 2, 'reveal': 2, '15': 2, 'slowli': 2, '90': 2, 'wide': 2, 'hand': 2, 'oversea': 2, 'enjoy': 2, 'hear': 2, 'argument': 2, 'touch': 2, 'famili': 2, 'buy': 2, 'romania': 2, 'realli': 2, 'line': 2, 'wage': 2, 'almost': 2, 'romanian': 2, 'singl': 2, 'advantag': 2, 'free': 2, 'equal': 2, 'industri': 2, 'continu': 2, 'meanwhil': 2, 'chief': 2, 'execut': 2, 'first': 2, 'ntl': 2, 'letter': 2, 'month': 2, 'lead': 2, 'bpi': 2, 'scale': 2, 'busi': 2, 'mulligan': 2, 'analyst': 2, 'sinc': 2, 'perfect': 2, 'valuabl': 2, 'appear': 2, 'week': 2, 'read': 2, 'medium': 2, 'parti': 2, 'entir': 2, 'might': 2, 'actual': 2, 'face': 2, 'opportun': 2, 'client': 2, 'offer': 2, 'uniqu': 2, 'comfort': 2, 'sens': 2, 'hardli': 2, 'popul': 2, 'chair': 2, 'engin': 2, 'voic': 2, 'voip': 2, 'call': 2, 'cern': 2, 'gener': 2, 'evolut': 2, 'explain': 2, 'rate': 2, 'bit': 2, 'clear': 2, 'renew': 2, 'subscrib': 2, 'ipv4': 2, 'limit': 2, 'enough': 2, 'technic': 2, 'much': 2, 'invis': 2, 'behaviour': 2, 'sensibl': 2, 'improv': 2, 'thompson': 2, 'arriv': 2, 'warn': 2, 'institut': 2, 'crimin': 2, 'gang': 2, 'name': 2, 'simpl': 2, 'payment': 2, 'databas': 2, 'break': 2, 'fact': 2, 'cours': 2, 'commerc': 2, 'must': 2, 'rich': 2, 'memori': 2, 'offic': 2, 'usb': 2, 'wave': 2, 'intercept': 2, 'consequ': 2, 'cahoot': 2, 'abus': 2, 'protect': 2, 'act': 2, 'market': 2, 'seem': 2, 'soon': 1, 'roam': 1, '133': 1, 'hectar': 1, 'scheme': 1, 'practis': 1, 'man': 1, 'idea': 1, 'ago': 1, 'watch': 1, 'webcam': 1, 'beauti': 1, 'white': 1, 'tail': 1, 'buck': 1, 'light': 1, 'bulb': 1, 'head': 1, 'reuter': 1, 'result': 1, 'sit': 1, '22': 1, 'calibr': 1, 'plan': 1, 'conceal': 1, 'locat': 1, 'reserv': 1, 'varieti': 1, 'connect': 1, 'quickli': 1, '150': 1, 'addit': 1, 'meat': 1, 'taxidermi': 1, 'barbari': 1, 'corsican': 1, 'mouflon': 1, 'sheep': 1, 'blackbuck': 1, 'round': 1, 'silhouett': 1, '5': 1, '95': 1, 'minut': 1, 'dvd': 1, 'handler': 1, 'fire': 1, 'rang': 1, 'disabl': 1, 'unabl': 1, 'wood': 1, 'distant': 1, 'trip': 1, 'grave': 1, 'assum': 1, 'accur': 1, 'therefor': 1, 'intent': 1, 'sport': 1, 'hit': 1, 'caus': 1, 'unnecessarili': 1, 'mike': 1, 'berger': 1, 'director': 1, 'park': 1, 'depart': 1, 'statut': 1, 'regul': 1, 'nativ': 1, 'bird': 1, 'noth': 1, 'unregul': 1, 'monitor': 1, 'power': 1, 'instal': 1, 'outdat': 1, 'hamper': 1, 'atom': 1, 'energi': 1, 'key': 1, 'overlook': 1, 'method': 1, 'appeal': 1, 'fund': 1, 'updat': 1, 'overhaul': 1, 'manag': 1, 'livio': 1, 'costantini': 1, '3': 1, '900': 1, 'verifi': 1, 'offici': 1, 'sign': 1, 'compar': 1, 'earli': 1, 'instanc': 1, '1970': 1, 'base': 1, 'ineffici': 1, 'anomali': 1, 'needl': 1, 'haystack': 1, 'novemb': 1, 'field': 1, 'previou': 1, 'inspect': 1, 'blueprint': 1, 'satellit': 1, 'imag': 1, 'hope': 1, 'export': 1, 'analysi': 1, 'illicit': 1, 'specialist': 1, 'peter': 1, 'smith': 1, 'incorpor': 1, 'art': 1, 'visualis': 1, 'techniqu': 1, 'familiar': 1, 'video': 1, 'player': 1, 'toolkit': 1, 'commerci': 1, 'virtual': 1, 'door': 1, 'wall': 1, 'total': 1, '40': 1, '11': 1, 'failur': 1, 'integr': 1, 'fulli': 1, 'compon': 1, 'risk': 1, 'environ': 1, 'divid': 1, 'collect': 1, 'rot': 1, 'approxim': 1, 'everi': 1, 'swap': 1, '25': 1, 'return': 1, 'mass': 1, 'unrecycl': 1, 'discard': 1, 'equival': 1, '9': 1, 'tonn': 1, 'wast': 1, 'jame': 1, 'senior': 1, 'advis': 1, 'quit': 1, 'common': 1, 'three': 1, 'lie': 1, 'leak': 1, 'toxic': 1, 'leas': 1, 'strong': 1, 'particularli': 1, 'incom': 1, 'date': 1, 'depth': 1, 'crap': 1, 'fix': 1, 'desir': 1, 'rel': 1, 'europ': 1, 'shini': 1, 'barrier': 1, 'boost': 1, 'pre': 1, 'tend': 1, 'price': 1, 'georgeta': 1, 'minciu': 1, 'normal': 1, 'parent': 1, 'daughter': 1, 'consum': 1, 'britain': 1, 'mountain': 1, 'youngster': 1, 'captiv': 1, 'debat': 1, 'legitimaci': 1, 'share': 1, 'rage': 1, 'threat': 1, 'dream': 1, 'true': 1, 'nightmar': 1, 'paul': 1, 'myer': 1, 'wippit': 1, 'oxygen': 1, 'steadfastli': 1, 'copyright': 1, 'cash': 1, 'nat': 1, 'west': 1, 'vodafon': 1, 'o2': 1, 'direct': 1, 'renault': 1, 'british': 1, 'phonograph': 1, 'urg': 1, 'follow': 1, 'dump': 1, 'associ': 1, 'quick': 1, 'condemn': 1, 'establish': 1, 'bedfellow': 1, 'kazaa': 1, 'grokster': 1, 'facilit': 1, 'fileshar': 1, 'strongli': 1, 'reput': 1, 'revenu': 1, 'sharer': 1, 'pound': 1, 'worth': 1, 'often': 1, 'complic': 1, 'mark': 1, 'jupit': 1, 'ever': 1, 'day': 1, 'napster': 1, 'realiti': 1, 'repres': 1, 'attract': 1, 'less': 1, 'respect': 1, 'legal': 1, 'asid': 1, 'miss': 1, 'contact': 1, 'insist': 1, 'directli': 1, 'onetel': 1, 'respons': 1, 'typic': 1, 'investig': 1, 'affili': 1, 'partner': 1, 'knowledg': 1, 'polici': 1, 'discount': 1, 'request': 1, 'remov': 1, 'spokeswoman': 1, 'similarli': 1, 'telecommun': 1, 'blame': 1, 'featur': 1, 'thousand': 1, 'bring': 1, 'attent': 1, 'strict': 1, 'instruct': 1, 'convinc': 1, 'explan': 1, 'necessarili': 1, 'alloc': 1, 'excus': 1, 'prevent': 1, 'moment': 1, 'leverag': 1, 'perhap': 1, 'senat': 1, 'kerri': 1, 'presid': 1, 'georg': 1, 'w': 1, 'bush': 1, 'sam': 1, 'yagan': 1, 'distinct': 1, 'engag': 1, 'desk': 1, 'interact': 1, 'favourit': 1, 'bodi': 1, 'evolv': 1, 'cope': 1, 'forc': 1, 'brian': 1, 'smooth': 1, 'run': 1, 'tv': 1, 'telecom': 1, 'deepli': 1, 'distinguish': 1, 'ibm': 1, 'spend': 1, 'european': 1, 'laboratori': 1, 'particl': 1, 'physic': 1, 'rout': 1, 'pioneer': 1, 'advanc': 1, 'applic': 1, 'depend': 1, 'talk': 1, 'crucial': 1, 'top': 1, 'prioriti': 1, 'tcp': 1, 'transmiss': 1, 'vendor': 1, 'knit': 1, 'togeth': 1, 'gap': 1, 'effect': 1, 'fantast': 1, 'glitch': 1, '2000': 1, 'phase': 1, 'consolid': 1, 'buoy': 1, 'emerg': 1, 'economi': 1, 'china': 1, 'show': 1, 'uptak': 1, 'dsl': 1, 'doubl': 1, '13': 1, 'figur': 1, 'releas': 1, '2004': 1, 'produc': 1, 'exist': 1, 'gradual': 1, 'clearli': 1, 'serv': 1, 'version': 1, 'space': 1, 'vital': 1, 'complex': 1, 'averag': 1, 'goal': 1, 'notic': 1, 'london': 1, 'telephon': 1, 'usual': 1, 'deploy': 1, 'settl': 1, 'disappear': 1, 'complet': 1, 'human': 1, 'educ': 1, 'ignor': 1, 'claim': 1, 'bad': 1, 'remain': 1, 'along': 1, 'dark': 1, 'street': 1, 'battl': 1, 'still': 1, 'worri': 1, 'unfortun': 1, 'duti': 1, 'cross': 1, 'argu': 1, 'member': 1, 'appli': 1, 'confidenti': 1, 'fear': 1, 'instead': 1, 'societi': 1, 'identiti': 1, 'arm': 1, 'hold': 1, 'plu': 1, 'fake': 1, 'appar': 1, 'easi': 1, 'loan': 1, 'overdraft': 1, 'someon': 1, 'els': 1, 'unwitt': 1, 'victim': 1, 'mess': 1, 'demand': 1, 'increasingli': 1, 'signific': 1, 'econom': 1, 'crime': 1, 'receipt': 1, 'unshred': 1, 'rubbish': 1, 'trust': 1, 'properli': 1, 'troubl': 1, 'realis': 1, 'insid': 1, 'suspect': 1, 'fsa': 1, 'late': 1, 'particular': 1, 'thing': 1, 'bob': 1, 'cratchit': 1, 'underworld': 1, 'wonder': 1, 'health': 1, 'govern': 1, 'amazon': 1, 'pick': 1, 'fraudster': 1, 'audit': 1, 'catch': 1, 'suppos': 1, 'unexpect': 1, 'transact': 1, 'log': 1, 'trace': 1, 'fortun': 1, 'involv': 1, 'portabl': 1, 'hard': 1, 'drive': 1, 'flash': 1, 'plug': 1, 'slot': 1, 'suck': 1, 'securewav': 1, 'exampl': 1, 'restrict': 1, 'port': 1, 'authoris': 1, 'devic': 1, 'individu': 1, 'wash': 1, 'away': 1, 'highlight': 1, 'trade': 1, 'otherwis': 1, 'server': 1, 'transit': 1, 'shop': 1, 'deal': 1, 'hack': 1, 'case': 1, 'contain': 1, 'simpli': 1, 'tool': 1, 'commit': 1, 'cd': 1, 'univers': 1, 'powergen': 1, 'admit': 1, 'guess': 1, 'login': 1, 'whether': 1, 'extern': 1, 'hacker': 1, 'staff': 1, 'bind': 1, 'proper': 1, 'unauthoris': 1, 'disclosur': 1, 'penalti': 1, 'prosecut': 1, 'convolut': 1, 'worthless': 1, 'seriou': 1, 'respond': 1, 'hassl': 1, 'other': 1, 'especi': 1, 'guarante': 1, 'mistak': 1, 'option': 1, 'stringent': 1, 'pressur': 1, 'civil': 1, 'lawsuit': 1, 'sloppi': 1, 'whose': 1, 'sue': 1, 'everyth': 1, 'partli': 1, 'lawyer': 1, 'prefer': 1, 'regular': 1, 'comment': 1, 'programm': 1})}\n"
          ]
        }
      ],
      "source": [
        "print(count_content)"
      ]
    },
    {
      "cell_type": "markdown",
      "metadata": {
        "id": "gFpdwTJDPMOH"
      },
      "source": [
        "##Top 30 most frequent tokens in business"
      ]
    },
    {
      "cell_type": "code",
      "execution_count": 12,
      "metadata": {
        "colab": {
          "base_uri": "https://localhost:8080/",
          "height": 592
        },
        "id": "Kh6mZiXTQG3G",
        "outputId": "76925934-d406-4503-f92b-ae61c840104a"
      },
      "outputs": [
        {
          "output_type": "display_data",
          "data": {
            "text/plain": [
              "<Figure size 1100x600 with 1 Axes>"
            ],
            "image/png": "[encoded data removed]"
          },
          "metadata": {}
        }
      ],
      "source": [
        "top_n = 30\n",
        "fontsize = 12\n",
        "title_business = 'Top {} Most Frequent Tokens in business'.format(top_n)\n",
        "plot_h_most_common_words(top_n, count_content, 'business', title_business, fontsize)\n",
        "# common_words_business = get_top_n_words(top_n, count_content['business'])\n",
        "# print(common_words_business)"
      ]
    },
    {
      "cell_type": "markdown",
      "metadata": {
        "id": "lhd3eBeL8pcG"
      },
      "source": [
        "##Top 30 most frequent tokens in entertainment\n",
        "\n",
        "\n"
      ]
    },
    {
      "cell_type": "code",
      "execution_count": 13,
      "metadata": {
        "colab": {
          "base_uri": "https://localhost:8080/",
          "height": 592
        },
        "id": "HZVpHP-6PWlf",
        "outputId": "5998f2b9-f1c5-4b09-c794-71cecfd4b1c0"
      },
      "outputs": [
        {
          "output_type": "display_data",
          "data": {
            "text/plain": [
              "<Figure size 1100x600 with 1 Axes>"
            ],
            "image/png": "[encoded data removed]"
          },
          "metadata": {}
        }
      ],
      "source": [
        "top_n = 10\n",
        "fontsize = 12\n",
        "title_entertainment = 'Top {} Most Frequent Tokens in entertainment'.format(top_n)\n",
        "plot_h_most_common_words(top_n, count_content, 'entertainment', title_entertainment, fontsize)\n",
        "# common_words_entertainment = get_top_n_words(top_n, count_content['entertainment'])\n",
        "# print(common_words_entertainment)"
      ]
    },
    {
      "cell_type": "markdown",
      "metadata": {
        "id": "CqB7tDnRQbwN"
      },
      "source": [
        "##Top 30 most frequent tokens in politics"
      ]
    },
    {
      "cell_type": "code",
      "execution_count": 14,
      "metadata": {
        "colab": {
          "base_uri": "https://localhost:8080/",
          "height": 592
        },
        "id": "BbOt234YQzzd",
        "outputId": "9ed4074b-538c-4d89-d0ab-dc3908c381de"
      },
      "outputs": [
        {
          "output_type": "display_data",
          "data": {
            "text/plain": [
              "<Figure size 1100x600 with 1 Axes>"
            ],
            "image/png": "[encoded data removed]"
          },
          "metadata": {}
        }
      ],
      "source": [
        "top_n = 10\n",
        "fontsize = 12\n",
        "title_politics = 'Top {} Most Frequent Tokens in politics'.format(top_n)\n",
        "plot_h_most_common_words(top_n, count_content, 'politics', title_politics, fontsize)\n",
        "# common_words_politics = get_top_n_words(top_n, count_content['politics'])\n",
        "# print(common_words_politics)"
      ]
    },
    {
      "cell_type": "markdown",
      "metadata": {
        "id": "GKmlR8i4RDwe"
      },
      "source": [
        "##Top 30 most frequent tokens in sport"
      ]
    },
    {
      "cell_type": "code",
      "execution_count": 15,
      "metadata": {
        "colab": {
          "base_uri": "https://localhost:8080/",
          "height": 592
        },
        "id": "L8sfSDMSRJrx",
        "outputId": "0a059bb8-de46-45c2-edf2-e4cb7e2aa285"
      },
      "outputs": [
        {
          "output_type": "display_data",
          "data": {
            "text/plain": [
              "<Figure size 1100x600 with 1 Axes>"
            ],
            "image/png": "[encoded data removed]"
          },
          "metadata": {}
        }
      ],
      "source": [
        "top_n = 10\n",
        "fontsize = 12\n",
        "title_sport = 'Top {} Most Frequent Tokens in sport'.format(top_n)\n",
        "plot_h_most_common_words(top_n, count_content, 'sport', title_sport, fontsize)\n",
        "# common_words_sport = get_top_n_words(top_n, count_content['sport'])\n",
        "# print(common_words_sport)"
      ]
    },
    {
      "cell_type": "markdown",
      "metadata": {
        "id": "IZBOky7ZRSAW"
      },
      "source": [
        "##Top 30 most frequent tokens in tech"
      ]
    },
    {
      "cell_type": "code",
      "execution_count": 16,
      "metadata": {
        "colab": {
          "base_uri": "https://localhost:8080/",
          "height": 592
        },
        "id": "hvIr63qeRX3J",
        "outputId": "b22799bc-380b-4997-c510-bc8b6afca5d5"
      },
      "outputs": [
        {
          "output_type": "display_data",
          "data": {
            "text/plain": [
              "<Figure size 1100x600 with 1 Axes>"
            ],
            "image/png": "[encoded data removed]"
          },
          "metadata": {}
        }
      ],
      "source": [
        "top_n = 10\n",
        "fontsize = 12\n",
        "title_tech = 'Top {} Most Frequent Tokens in tech'.format(top_n)\n",
        "plot_h_most_common_words(top_n, count_content, 'tech', title_tech, fontsize)\n",
        "# common_words_tech = get_top_n_words(top_n, count_content['tech'])\n",
        "# print(common_words_politics)"
      ]
    },
    {
      "cell_type": "markdown",
      "metadata": {
        "id": "hF5oILDCfS3T"
      },
      "source": [
        "##Top 30 most frequent tokens in all dataset"
      ]
    },
    {
      "cell_type": "code",
      "execution_count": 17,
      "metadata": {
        "colab": {
          "base_uri": "https://localhost:8080/",
          "height": 592
        },
        "id": "9qAcNZ6IfXOu",
        "outputId": "3db21e8d-ada1-485c-846c-7afaa07ee46d"
      },
      "outputs": [
        {
          "output_type": "display_data",
          "data": {
            "text/plain": [
              "<Figure size 1100x600 with 1 Axes>"
            ],
            "image/png": "[encoded data removed]"
          },
          "metadata": {}
        }
      ],
      "source": [
        "top_n = 10\n",
        "fontsize = 12\n",
        "title_all = 'Top {} Most Frequent Tokens in all'.format(top_n)\n",
        "plot_h_most_common_words(top_n, count_content, 'all', title_all, fontsize)\n",
        "# common_words_all = get_top_n_words(top_n, count_content['all'])\n",
        "# print(common_words_all)"
      ]
    },
    {
      "cell_type": "markdown",
      "metadata": {
        "id": "28WmDplBkFoQ"
      },
      "source": [
        "#Frequency of class by word"
      ]
    },
    {
      "cell_type": "code",
      "execution_count": 18,
      "metadata": {
        "colab": {
          "base_uri": "https://localhost:8080/"
        },
        "id": "ZtDqJOv6s05t",
        "outputId": "129483b0-a5ad-4ca7-f29f-3d63f5509d9c"
      },
      "outputs": [
        {
          "output_type": "stream",
          "name": "stdout",
          "text": [
            "random words:  ['time', 'sell', 'nevertheless']\n",
            "{'time': {'business': 1, 'all': 21, 'entertainment': 4, 'politics': 1, 'sport': 11, 'tech': 4}, 'sell': {'business': 1, 'all': 8, 'entertainment': 6, 'sport': 1}, 'nevertheless': {'all': 1, 'sport': 1}}\n"
          ]
        }
      ],
      "source": [
        "import random\n",
        "\n",
        "#Choose 10 random tokens in all content of news\n",
        "random_words = random.sample(dict_content['all'].split(), 3)\n",
        "print(\"random words: \", random_words)\n",
        "\n",
        "def get_counts_by_genre(word, count_genres):\n",
        "    counts_by_genre = {}  #Dictionary to store word count in each class\n",
        "    for genre, content_counter in count_genres.items():\n",
        "        if word in content_counter:\n",
        "            counts_by_genre[genre] = content_counter[word]  # Adds the word count in the class to the dictionary\n",
        "    return counts_by_genre\n",
        "\n",
        "\n",
        "def get_frequency_class_by_word(selected_words, count_genres):\n",
        "    dict_frequency = {}\n",
        "    for word in selected_words:\n",
        "        dict_frequency[word] = get_counts_by_genre(word, count_genres)\n",
        "    return dict_frequency\n",
        "\n",
        "\n",
        "dict_frequency = get_frequency_class_by_word(random_words, count_content)\n",
        "print(dict_frequency)"
      ]
    },
    {
      "cell_type": "code",
      "execution_count": 19,
      "metadata": {
        "colab": {
          "base_uri": "https://localhost:8080/",
          "height": 112
        },
        "id": "MxteJpUKCIfI",
        "outputId": "2fa9d07e-8de6-4fca-8e5f-8b64f7c59a23"
      },
      "outputs": [
        {
          "output_type": "execute_result",
          "data": {
            "text/plain": [
              "      genre  filename                             title  \\\n",
              "5  politics  1168.txt   'Best person' for top legal job   \n",
              "6  politics   978.txt  Hague 'given up' his PM ambition   \n",
              "\n",
              "                                             content  \n",
              "5  good person job appoint lord chancellor necess...  \n",
              "6  former conserv leader william hagu say stand l...  "
            ],
            "text/html": [
              "\n",
              "  <div id=\"df-387fc6f4-8b4f-42d9-b8b3-4d44df6ebf08\" class=\"colab-df-container\">\n",
              "    <div>\n",
              "<style scoped>\n",
              "    .dataframe tbody tr th:only-of-type {\n",
              "        vertical-align: middle;\n",
              "    }\n",
              "\n",
              "    .dataframe tbody tr th {\n",
              "        vertical-align: top;\n",
              "    }\n",
              "\n",
              "    .dataframe thead th {\n",
              "        text-align: right;\n",
              "    }\n",
              "</style>\n",
              "<table border=\"1\" class=\"dataframe\">\n",
              "  <thead>\n",
              "    <tr style=\"text-align: right;\">\n",
              "      <th></th>\n",
              "      <th>genre</th>\n",
              "      <th>filename</th>\n",
              "      <th>title</th>\n",
              "      <th>content</th>\n",
              "    </tr>\n",
              "  </thead>\n",
              "  <tbody>\n",
              "    <tr>\n",
              "      <th>5</th>\n",
              "      <td>politics</td>\n",
              "      <td>1168.txt</td>\n",
              "      <td>'Best person' for top legal job</td>\n",
              "      <td>good person job appoint lord chancellor necess...</td>\n",
              "    </tr>\n",
              "    <tr>\n",
              "      <th>6</th>\n",
              "      <td>politics</td>\n",
              "      <td>978.txt</td>\n",
              "      <td>Hague 'given up' his PM ambition</td>\n",
              "      <td>former conserv leader william hagu say stand l...</td>\n",
              "    </tr>\n",
              "  </tbody>\n",
              "</table>\n",
              "</div>\n",
              "    <div class=\"colab-df-buttons\">\n",
              "\n",
              "  <div class=\"colab-df-container\">\n",
              "    <button class=\"colab-df-convert\" onclick=\"convertToInteractive('df-387fc6f4-8b4f-42d9-b8b3-4d44df6ebf08')\"\n",
              "            title=\"Convert this dataframe to an interactive table.\"\n",
              "            style=\"display:none;\">\n",
              "\n",
              "  <svg xmlns=\"http://www.w3.org/2000/svg\" height=\"24px\" viewBox=\"0 -960 960 960\">\n",
              "    <path d=\"M120-120v-720h720v720H120Zm60-500h600v-160H180v160Zm220 220h160v-160H400v160Zm0 220h160v-160H400v160ZM180-400h160v-160H180v160Zm440 0h160v-160H620v160ZM180-180h160v-160H180v160Zm440 0h160v-160H620v160Z\"/>\n",
              "  </svg>\n",
              "    </button>\n",
              "\n",
              "  <style>\n",
              "    .colab-df-container {\n",
              "      display:flex;\n",
              "      gap: 12px;\n",
              "    }\n",
              "\n",
              "    .colab-df-convert {\n",
              "      background-color: #E8F0FE;\n",
              "      border: none;\n",
              "      border-radius: 50%;\n",
              "      cursor: pointer;\n",
              "      display: none;\n",
              "      fill: #1967D2;\n",
              "      height: 32px;\n",
              "      padding: 0 0 0 0;\n",
              "      width: 32px;\n",
              "    }\n",
              "\n",
              "    .colab-df-convert:hover {\n",
              "      background-color: #E2EBFA;\n",
              "      box-shadow: 0px 1px 2px rgba(60, 64, 67, 0.3), 0px 1px 3px 1px rgba(60, 64, 67, 0.15);\n",
              "      fill: #174EA6;\n",
              "    }\n",
              "\n",
              "    .colab-df-buttons div {\n",
              "      margin-bottom: 4px;\n",
              "    }\n",
              "\n",
              "    [theme=dark] .colab-df-convert {\n",
              "      background-color: #3B4455;\n",
              "      fill: #D2E3FC;\n",
              "    }\n",
              "\n",
              "    [theme=dark] .colab-df-convert:hover {\n",
              "      background-color: #434B5C;\n",
              "      box-shadow: 0px 1px 3px 1px rgba(0, 0, 0, 0.15);\n",
              "      filter: drop-shadow(0px 1px 2px rgba(0, 0, 0, 0.3));\n",
              "      fill: #FFFFFF;\n",
              "    }\n",
              "  </style>\n",
              "\n",
              "    <script>\n",
              "      const buttonEl =\n",
              "        document.querySelector('#df-387fc6f4-8b4f-42d9-b8b3-4d44df6ebf08 button.colab-df-convert');\n",
              "      buttonEl.style.display =\n",
              "        google.colab.kernel.accessAllowed ? 'block' : 'none';\n",
              "\n",
              "      async function convertToInteractive(key) {\n",
              "        const element = document.querySelector('#df-387fc6f4-8b4f-42d9-b8b3-4d44df6ebf08');\n",
              "        const dataTable =\n",
              "          await google.colab.kernel.invokeFunction('convertToInteractive',\n",
              "                                                    [key], {});\n",
              "        if (!dataTable) return;\n",
              "\n",
              "        const docLinkHtml = 'Like what you see? Visit the ' +\n",
              "          '<a target=\"_blank\" href=https://colab.research.google.com/notebooks/data_table.ipynb>data table notebook</a>'\n",
              "          + ' to learn more about interactive tables.';\n",
              "        element.innerHTML = '';\n",
              "        dataTable['output_type'] = 'display_data';\n",
              "        await google.colab.output.renderOutput(dataTable, element);\n",
              "        const docLink = document.createElement('div');\n",
              "        docLink.innerHTML = docLinkHtml;\n",
              "        element.appendChild(docLink);\n",
              "      }\n",
              "    </script>\n",
              "  </div>\n",
              "\n",
              "\n",
              "<div id=\"df-9f996474-071f-491a-8b08-211addd8fc99\">\n",
              "  <button class=\"colab-df-quickchart\" onclick=\"quickchart('df-9f996474-071f-491a-8b08-211addd8fc99')\"\n",
              "            title=\"Suggest charts\"\n",
              "            style=\"display:none;\">\n",
              "\n",
              "<svg xmlns=\"http://www.w3.org/2000/svg\" height=\"24px\"viewBox=\"0 0 24 24\"\n",
              "     width=\"24px\">\n",
              "    <g>\n",
              "        <path d=\"M19 3H5c-1.1 0-2 .9-2 2v14c0 1.1.9 2 2 2h14c1.1 0 2-.9 2-2V5c0-1.1-.9-2-2-2zM9 17H7v-7h2v7zm4 0h-2V7h2v10zm4 0h-2v-4h2v4z\"/>\n",
              "    </g>\n",
              "</svg>\n",
              "  </button>\n",
              "\n",
              "<style>\n",
              "  .colab-df-quickchart {\n",
              "      --bg-color: #E8F0FE;\n",
              "      --fill-color: #1967D2;\n",
              "      --hover-bg-color: #E2EBFA;\n",
              "      --hover-fill-color: #174EA6;\n",
              "      --disabled-fill-color: #AAA;\n",
              "      --disabled-bg-color: #DDD;\n",
              "  }\n",
              "\n",
              "  [theme=dark] .colab-df-quickchart {\n",
              "      --bg-color: #3B4455;\n",
              "      --fill-color: #D2E3FC;\n",
              "      --hover-bg-color: #434B5C;\n",
              "      --hover-fill-color: #FFFFFF;\n",
              "      --disabled-bg-color: #3B4455;\n",
              "      --disabled-fill-color: #666;\n",
              "  }\n",
              "\n",
              "  .colab-df-quickchart {\n",
              "    background-color: var(--bg-color);\n",
              "    border: none;\n",
              "    border-radius: 50%;\n",
              "    cursor: pointer;\n",
              "    display: none;\n",
              "    fill: var(--fill-color);\n",
              "    height: 32px;\n",
              "    padding: 0;\n",
              "    width: 32px;\n",
              "  }\n",
              "\n",
              "  .colab-df-quickchart:hover {\n",
              "    background-color: var(--hover-bg-color);\n",
              "    box-shadow: 0 1px 2px rgba(60, 64, 67, 0.3), 0 1px 3px 1px rgba(60, 64, 67, 0.15);\n",
              "    fill: var(--button-hover-fill-color);\n",
              "  }\n",
              "\n",
              "  .colab-df-quickchart-complete:disabled,\n",
              "  .colab-df-quickchart-complete:disabled:hover {\n",
              "    background-color: var(--disabled-bg-color);\n",
              "    fill: var(--disabled-fill-color);\n",
              "    box-shadow: none;\n",
              "  }\n",
              "\n",
              "  .colab-df-spinner {\n",
              "    border: 2px solid var(--fill-color);\n",
              "    border-color: transparent;\n",
              "    border-bottom-color: var(--fill-color);\n",
              "    animation:\n",
              "      spin 1s steps(1) infinite;\n",
              "  }\n",
              "\n",
              "  @keyframes spin {\n",
              "    0% {\n",
              "      border-color: transparent;\n",
              "      border-bottom-color: var(--fill-color);\n",
              "      border-left-color: var(--fill-color);\n",
              "    }\n",
              "    20% {\n",
              "      border-color: transparent;\n",
              "      border-left-color: var(--fill-color);\n",
              "      border-top-color: var(--fill-color);\n",
              "    }\n",
              "    30% {\n",
              "      border-color: transparent;\n",
              "      border-left-color: var(--fill-color);\n",
              "      border-top-color: var(--fill-color);\n",
              "      border-right-color: var(--fill-color);\n",
              "    }\n",
              "    40% {\n",
              "      border-color: transparent;\n",
              "      border-right-color: var(--fill-color);\n",
              "      border-top-color: var(--fill-color);\n",
              "    }\n",
              "    60% {\n",
              "      border-color: transparent;\n",
              "      border-right-color: var(--fill-color);\n",
              "    }\n",
              "    80% {\n",
              "      border-color: transparent;\n",
              "      border-right-color: var(--fill-color);\n",
              "      border-bottom-color: var(--fill-color);\n",
              "    }\n",
              "    90% {\n",
              "      border-color: transparent;\n",
              "      border-bottom-color: var(--fill-color);\n",
              "    }\n",
              "  }\n",
              "</style>\n",
              "\n",
              "  <script>\n",
              "    async function quickchart(key) {\n",
              "      const quickchartButtonEl =\n",
              "        document.querySelector('#' + key + ' button');\n",
              "      quickchartButtonEl.disabled = true;  // To prevent multiple clicks.\n",
              "      quickchartButtonEl.classList.add('colab-df-spinner');\n",
              "      try {\n",
              "        const charts = await google.colab.kernel.invokeFunction(\n",
              "            'suggestCharts', [key], {});\n",
              "      } catch (error) {\n",
              "        console.error('Error during call to suggestCharts:', error);\n",
              "      }\n",
              "      quickchartButtonEl.classList.remove('colab-df-spinner');\n",
              "      quickchartButtonEl.classList.add('colab-df-quickchart-complete');\n",
              "    }\n",
              "    (() => {\n",
              "      let quickchartButtonEl =\n",
              "        document.querySelector('#df-9f996474-071f-491a-8b08-211addd8fc99 button');\n",
              "      quickchartButtonEl.style.display =\n",
              "        google.colab.kernel.accessAllowed ? 'block' : 'none';\n",
              "    })();\n",
              "  </script>\n",
              "</div>\n",
              "    </div>\n",
              "  </div>\n"
            ],
            "application/vnd.google.colaboratory.intrinsic+json": {
              "type": "dataframe",
              "summary": "{\n  \"name\": \"df[df['genre']=='politics']\",\n  \"rows\": 2,\n  \"fields\": [\n    {\n      \"column\": \"genre\",\n      \"properties\": {\n        \"dtype\": \"string\",\n        \"num_unique_values\": 1,\n        \"samples\": [\n          \"politics\"\n        ],\n        \"semantic_type\": \"\",\n        \"description\": \"\"\n      }\n    },\n    {\n      \"column\": \"filename\",\n      \"properties\": {\n        \"dtype\": \"string\",\n        \"num_unique_values\": 2,\n        \"samples\": [\n          \"978.txt\"\n        ],\n        \"semantic_type\": \"\",\n        \"description\": \"\"\n      }\n    },\n    {\n      \"column\": \"title\",\n      \"properties\": {\n        \"dtype\": \"string\",\n        \"num_unique_values\": 2,\n        \"samples\": [\n          \"Hague 'given up' his PM ambition\"\n        ],\n        \"semantic_type\": \"\",\n        \"description\": \"\"\n      }\n    },\n    {\n      \"column\": \"content\",\n      \"properties\": {\n        \"dtype\": \"string\",\n        \"num_unique_values\": 2,\n        \"samples\": [\n          \"former conserv leader william hagu say stand leadership give ambit prime minist mr hagu 43 tell daili telegraph would find life domin polit bore unfulfil mr hagu step parti 2001 elect defeat rule return front bench also tell paper hope remain mp richmond north york start famili wife ffion mr hagu recent publish biographi william pitt young also say want continu write book speech write tell newspap know whether ever go back front rush ask would stand leadership mr hagu repli definit determin stay away central role disappoint senior conserv member say parti need tim collin shadow educ secretari say last week would huge boost parti mr hagu return front bench mr hagu becom mp 27 leader opposit 36 say feel fortun age 40 cram entir polit career cabinet leader parti branch thing liber feel mr hagu add may misjudg ambit prime minist mayb drive polit thought say\"\n        ],\n        \"semantic_type\": \"\",\n        \"description\": \"\"\n      }\n    }\n  ]\n}"
            }
          },
          "metadata": {},
          "execution_count": 19
        }
      ],
      "source": [
        "#Testing\n",
        "df[df['genre']=='politics']"
      ]
    },
    {
      "cell_type": "markdown",
      "metadata": {
        "id": "nnkoeJFn9jIF"
      },
      "source": [
        "# Frequency of words by documents"
      ]
    },
    {
      "cell_type": "code",
      "execution_count": 20,
      "metadata": {
        "colab": {
          "base_uri": "https://localhost:8080/"
        },
        "id": "1uIYZQTY9t0o",
        "outputId": "cabd81a4-56c8-46e9-9a1d-1b26a7fa46e6"
      },
      "outputs": [
        {
          "output_type": "stream",
          "name": "stdout",
          "text": [
            "{'487.txt': {'us': 3, 'budget': 6, 'deficit': 8, 'set': 1, 'hit': 2, 'bad': 1, 'expect': 1, '368bn': 1, '197bn': 1, 'year': 6, 'offici': 1, 'say': 5, 'tuesday': 2, 'cost': 4, 'militari': 4, 'oper': 3, 'still': 1, 'need': 1, 'factor': 1, 'analyst': 2, 'could': 2, 'end': 1, '100bn': 1, 'red': 1, 'past': 1, 'congression': 1, 'offic': 1, 'cbo': 3, 'forecast': 2, 'would': 1, '348bn': 1, 'shortfal': 2, '2005': 1, 'fiscal': 3, 'recent': 1, 'month': 2, 'dollar': 2, 'weaken': 1, 'amid': 1, 'market': 1, 'jitter': 1, 'size': 2, 'trade': 1, 'novemb': 1, 'gap': 1, 'export': 2, 'import': 1, 'widen': 1, '60bn': 1, 'record': 2, 'figur': 3, 'envisag': 1, 'orderli': 1, 'declin': 2, 'greenback': 1, 'next': 1, 'two': 1, 'twin': 1, 'drive': 1, 'investor': 1, 'away': 1, 'non': 1, 'partisan': 1, 'watchdog': 1, 'note': 1, 'help': 1, 'boost': 1, 'we': 1, 'econom': 2, 'growth': 1, '412bn': 1, '12': 1, '30': 1, 'septemb': 2, '2004': 1, 'reach': 1, '377bn': 1, 'previou': 3, 'also': 2, 'total': 1, '855bn': 1, '2006': 1, '2015': 1, 'improv': 1, 'project': 1, 'howev': 1, 'new': 1, 'fail': 1, 'take': 1, 'account': 1, 'potenti': 1, '2': 1, '3': 1, '8': 1, 'trillion': 1, 'presid': 3, 'plan': 1, 'revamp': 1, 'state': 1, 'pension': 1, 'extend': 1, 'tax': 1, 'cut': 1, 'worsen': 1, 'republican': 1, 'blame': 1, 'slow': 1, 'condit': 1, '11': 1, 'attack': 1, 'ongo': 1, 'iraq': 2, 'afghanistan': 1, 'one': 1, 'georg': 1, 'w': 1, 'bush': 1, 'elect': 1, 'pledg': 1, 'halv': 1, 'within': 1, 'five': 1, 'democrat': 1, 'accus': 1, 'exclud': 1, 'relat': 1, 'meet': 1, 'aim': 1, 'reduc': 1, 'charg': 1, 'administr': 2, 'deni': 1, 'ask': 1, 'congress': 1, 'addit': 1, 'fund': 1}, '472.txt': {'nigerian': 3, 'bank': 9, 'unit': 4, 'africa': 2, 'standard': 6, 'trust': 6, 'agre': 1, 'plan': 1, 'merg': 2, 'creat': 1, 'big': 2, 'west': 1, 'deal': 1, 'also': 1, 'line': 1, '2004': 1, 'direct': 1, 'central': 1, 'call': 1, 'consolid': 1, 'nation': 1, 'crowd': 1, 'sector': 1, 'merger': 1, 'announc': 1, 'statement': 1, 'websit': 1, 'tuesday': 1, 'financi': 1, 'detail': 1, 'reveal': 1, 'third': 1, 'nigeria': 1, 'term': 1, 'number': 1, 'branch': 1, 'small': 1, 'profit': 1, 'board': 1, 'separ': 1, 'meet': 1, 'yesterday': 1, 'approv': 1, 'arrang': 1, 'institut': 1, 'say': 1, '100': 1, 'own': 1, 'foreign': 1, 'investor': 1, 'includ': 1, 'new': 1, 'york': 1, 'base': 1, 'global': 1, 'depositori': 1, 'receipt': 1, '32': 1, '8': 1, 'banca': 1, 'nazional': 1, 'del': 2, 'lavoro': 1, 'mont': 1, 'paschi': 1, 'di': 1, 'siena': 1, 'itali': 1, '2': 1, '4': 1, 'stake': 1}, '398.txt': {'india': 7, 'big': 2, 'oil': 15, 'explor': 1, 'firm': 3, 'natur': 1, 'ga': 1, 'corp': 1, 'ongc': 8, 'say': 8, 'talk': 1, 'buy': 4, 'former': 2, 'asset': 4, 'troubl': 1, 'russian': 5, 'crude': 3, 'produc': 4, 'yuko': 8, 'touch': 1, 'concern': 1, 'entiti': 1, 'opportuniti': 1, 'russia': 4, 'chairman': 1, 'subir': 1, 'raha': 1, 'local': 1, 'press': 1, 'report': 1, 'look': 2, '15': 1, 'key': 2, 'product': 5, 'unit': 2, '2bn': 1, '1bn': 1, 'break': 1, 'author': 2, 'pay': 1, 'massiv': 1, 'tax': 2, 'bill': 2, 'forc': 1, 'sell': 1, 'yuganskneftega': 1, 'yugansk': 5, 'last': 2, 'month': 1, 'hit': 1, '27bn': 1, 'unpaid': 1, 'taxi': 1, 'fine': 1, 'state': 3, 'own': 3, 'rosneft': 2, 'turn': 1, 'stand': 1, 'alon': 1, 'indian': 3, 'minist': 1, 'mani': 1, 'shankar': 1, 'aiyar': 2, 'discuss': 1, 'plan': 1, 'trip': 1, 'moscow': 1, 'year': 3, 'topic': 1, 'come': 1, 'presid': 2, 'vladimir': 1, 'putin': 2, 'recent': 2, 'visit': 1, 'new': 1, 'delhi': 1, 'would': 2, 'make': 1, 'great': 1, 'sens': 1, 'we': 2, 'build': 1, 'mr': 3, 'stagnat': 1, 'abroad': 1, 'secur': 1, 'futur': 1, 'suppli': 1, 'import': 2, '70': 1, 'total': 1, 'consumpt': 2, 'time': 1, 'economi': 2, 'boom': 1, 'countri': 3, 'thirst': 1, 'strong': 1, 'help': 1, 'push': 1, 'price': 1, 'worldwid': 1, '793': 1, '000': 2, 'barrel': 1, 'per': 1, 'day': 1, 'bpd': 3, 'littl': 2, 'chang': 1, 'sinc': 1, 'start': 1, '1990': 1, 'accord': 1, 'industri': 2, 'analyst': 4, 'dougla': 2, 'westwood': 5, 'meanwhil': 1, 'jump': 1, '2': 1, '4': 1, 'million': 1, 'compar': 1, '474': 1, '1973': 1, 'develop': 1, 'access': 2, 'energi': 1, 'john': 1, 'manag': 1, 'director': 1, 'dramat': 1, 'grow': 1, 'must': 1, 'abl': 1, 'reduc': 1, 'depend': 1, 'gulf': 1, 'explain': 1, 'especi': 1, 'chanc': 2, 'find': 1, 'exploit': 1, 'resourc': 1, 'within': 1, 'slim': 1, 'forecast': 1, 'go': 1, 'signific': 1, 'declin': 1, '2020': 1, 'may': 1, 'half': 1, 'today': 1, 'level': 1, 'major': 1, 'alreadi': 1, 'petroleum': 2, 'includ': 1, 'vietnam': 1, 'sudan': 1, 'compani': 2, 'partner': 1, 'sakhalin': 1, '1': 1, 'field': 1, 'siberian': 1, 'coast': 1, 'howev': 1, 'interest': 3, 'chines': 1, 'china': 1, 'nation': 1, 'also': 1, 'mention': 1, 'possibl': 1, 'investor': 1, 'thursday': 2, 'itali': 1, 'refus': 1, 'rule': 1, 'late': 1, 'twist': 1, 'saga': 1, 'see': 1, 'one': 1, 'world': 1, 'bring': 1, 'knee': 1, 'disput': 1, 'partli': 1, 'drive': 1, 'clampdown': 1, 'polit': 1, 'ambit': 1, 'ex': 1, 'boss': 1, 'mikhail': 1, 'khodorkovski': 1, 'current': 1, 'jail': 1, 'charg': 1, 'fraud': 1, 'evas': 1, 'battl': 1, 'file': 1, 'bankruptci': 2, 'protect': 1, 'question': 1, 'long': 1, 'continu': 1, 'surviv': 1, 'without': 1, 'us': 1, 'court': 1, 'hear': 1, 'argument': 1, 'claim': 1, 'throw': 1, '16': 1, 'februari': 1, 'happen': 1, 'claw': 1, 'back': 1}, '726.txt': {'surf': 1, 'show': 6, 'baywatch': 2, 'titl': 1, 'bad': 2, 'tv': 3, 'import': 2, 'time': 3, 'poll': 1, 'uk': 1, 'televis': 1, 'execut': 1, 'programm': 1, 'star': 2, 'david': 1, 'hasselhoff': 1, 'pamela': 1, 'anderson': 1, '12': 1, 'year': 1, 'run': 1, '140': 1, 'countri': 1, 'height': 1, 'model': 1, 'anna': 1, 'nicol': 1, 'smith': 1, 'realiti': 1, 'duke': 1, 'hazzard': 1, 'runner': 1, 'broadcast': 2, 'magazin': 4, 'survey': 1, 'simpson': 1, 'dalla': 1, '24': 1, 'among': 1, 'list': 3, 'good': 1, 'we': 1, 'soap': 1, 'opera': 1, 'knot': 1, 'land': 1, 'falcon': 1, 'crest': 1, 'plu': 1, 'bold': 1, 'beauti': 1, 'make': 1, 'top': 3, '10': 2, 'transatlant': 1, 'howler': 1, 'jerri': 2, 'springer': 1, 'come': 2, 'sixth': 1, 'fare': 1, 'well': 1, 'say': 1, 'british': 1, 'never': 1, 'realis': 1, 'low': 1, 'could': 1, 'go': 1, 'way': 1, 'rise': 1, 'mind': 1, 'numbingli': 1, 'predict': 1, 'script': 1, 'beachgoer': 1, 'save': 1, 'drown': 1, 'accord': 1, 'insid': 1, 'extrem': 1, 'makeov': 1, 'see': 1, 'member': 1, 'public': 1, 'give': 1, 'thousand': 1, 'pound': 1, 'worth': 1, 'plastic': 1, 'surgeri': 1, 'american': 1, 'prais': 1, 'x': 1, 'file': 1, 'love': 1, 'luci': 1, 'twin': 1, 'peak': 1, 'trek': 1}, '776.txt': {'ticket': 2, 'scotland': 1, 'big': 2, 'music': 1, 'festiv': 5, 'sell': 6, 'record': 1, 'time': 1, 'five': 1, 'month': 1, 'event': 6, 'hold': 1, '12th': 1, 'annual': 1, 'park': 2, 'take': 1, 'place': 2, 'balado': 2, 'near': 1, 'kinross': 1, 'juli': 3, 'four': 1, 'day': 5, 'line': 2, 'announc': 1, 'green': 2, 'foo': 2, 'fighter': 2, 'kean': 2, 'among': 3, 'act': 4, 'alreadi': 1, 'appear': 2, 'howev': 2, 'organis': 3, 'reveal': 1, 'scot': 1, 'favourit': 1, 'travi': 1, 'well': 2, 'soulman': 1, 'jame': 1, 'brown': 1, 'also': 2, 'last': 3, 'year': 5, '10': 2, 'week': 1, 'confirm': 1, '130': 1, '000': 1, 'two': 1, 'geoff': 1, 'elli': 2, 'ceo': 1, 'ltd': 1, 'say': 2, 'promis': 1, 'yet': 2, 'think': 1, 'would': 1, 'slightli': 1, 'earli': 1, 'way': 1, 'beyond': 1, 'expect': 1, 'mr': 1, 'extrem': 1, 'proud': 1, 'fan': 1, 'excit': 1, 'make': 1, 'absolut': 1, 'sure': 1, 'book': 1, '2005': 1, 'deliv': 1, 'one': 1, 'great': 1, '120': 1, 'play': 2, 'eight': 1, 'stage': 1, 'weekend': 1, '9': 1, 'brit': 1, 'award': 1, 'winner': 1, 'street': 1, 'main': 1, 'attract': 1, 'killer': 1, 'danc': 1, 'prodigi': 1, 'bill': 1, '2002': 1, 'oasi': 1, 'basement': 1, 'jaxx': 1, 'headlin': 1}, '1168.txt': {'good': 2, 'person': 2, 'job': 3, 'appoint': 4, 'lord': 14, 'chancellor': 9, 'necessarili': 2, 'lawyer': 3, 'mp': 3, 'court': 3, 'minist': 7, 'tell': 1, 'reform': 4, 'post': 3, 'strip': 1, 'judici': 1, 'function': 1, 'need': 2, 'secretari': 2, 'health': 1, 'doctor': 1, 'say': 8, 'christoph': 1, 'lesli': 3, 'constitut': 2, 'bill': 4, 'enter': 1, 'second': 1, 'read': 1, 'monday': 1, 'mr': 3, 'prime': 1, 'abl': 1, 'whether': 3, 'sit': 1, 'hous': 3, 'common': 1, 'law': 2, 'also': 2, 'replac': 1, 'uk': 1, 'high': 1, 'legal': 1, 'author': 1, 'suprem': 1, 'judg': 2, 'independ': 2, 'panel': 1, 'rather': 1, 'decemb': 1, 'reject': 1, 'plea': 1, 'current': 1, 'falcon': 1, 'holder': 2, 'peer': 3, 'vote': 1, '229': 1, '206': 1, 'must': 1, 'debat': 1, 'carri': 1, 'last': 1, 'parliamentari': 1, 'session': 1, 'impend': 1, 'gener': 2, 'elect': 1, 'time': 1, 'crucial': 1, 'govern': 6, 'get': 2, 'pass': 1, 'irrelev': 1, 'call': 1, 'state': 1, 'affair': 1, 'matter': 1, 'long': 2, 'conflict': 1, 'duti': 1, 'appropri': 1, 'unfetter': 1, 'discret': 1, 'shadow': 1, 'attorney': 1, 'domin': 1, 'griev': 2, 'criticis': 1, 'plan': 1, 'chang': 1, 'except': 1, 'institut': 2, 'provid': 1, 'champion': 1, 'judiciari': 1, 'initi': 1, 'propos': 1, 'take': 1, 'smash': 1, 'piec': 1, 'convent': 1, 'nurtur': 1, 'celebr': 1, 'distrust': 1, 'dislik': 1, 'instead': 1, 'warn': 1, 'unless': 1, 'back': 1, 'remain': 1, 'member': 1, 'would': 1, 'great': 1, 'difficulti': 1, 'parliament': 1, 'former': 1, 'cabinet': 1, 'dougla': 1, 'hogg': 1, 'whose': 1, 'father': 1, 'grandfath': 1, 'serv': 1, 'larg': 1, 'unnecessari': 1, 'bureaucrat': 1, 'expens': 1, 'tori': 1, 'sleaford': 1, 'north': 1, 'hykeham': 1, 'admit': 1, 'role': 1, 'offic': 1, 'frozen': 1, 'aspic': 1}, '978.txt': {'former': 1, 'conserv': 2, 'leader': 3, 'william': 2, 'hagu': 8, 'say': 6, 'stand': 2, 'leadership': 2, 'give': 1, 'ambit': 2, 'prime': 2, 'minist': 2, 'mr': 7, '43': 1, 'tell': 3, 'daili': 1, 'telegraph': 1, 'would': 3, 'find': 1, 'life': 1, 'domin': 1, 'polit': 3, 'bore': 1, 'unfulfil': 1, 'step': 1, 'parti': 4, '2001': 1, 'elect': 1, 'defeat': 1, 'rule': 1, 'return': 2, 'front': 3, 'bench': 2, 'also': 2, 'paper': 1, 'hope': 1, 'remain': 1, 'mp': 2, 'richmond': 1, 'north': 1, 'york': 1, 'start': 1, 'famili': 1, 'wife': 1, 'ffion': 1, 'recent': 1, 'publish': 1, 'biographi': 1, 'pitt': 1, 'young': 1, 'want': 1, 'continu': 1, 'write': 2, 'book': 1, 'speech': 1, 'newspap': 1, 'know': 1, 'whether': 1, 'ever': 1, 'go': 1, 'back': 1, 'rush': 1, 'ask': 1, 'repli': 1, 'definit': 1, 'determin': 1, 'stay': 1, 'away': 1, 'central': 1, 'role': 1, 'disappoint': 1, 'senior': 1, 'member': 1, 'need': 1, 'tim': 1, 'collin': 1, 'shadow': 1, 'educ': 1, 'secretari': 1, 'last': 1, 'week': 1, 'huge': 1, 'boost': 1, 'becom': 1, '27': 1, 'opposit': 1, '36': 1, 'feel': 2, 'fortun': 1, 'age': 1, '40': 1, 'cram': 1, 'entir': 1, 'career': 1, 'cabinet': 1, 'branch': 1, 'thing': 1, 'liber': 1, 'add': 1, 'may': 1, 'misjudg': 1, 'mayb': 1, 'drive': 1, 'thought': 1}, '1641.txt': {'black': 2, 'captain': 2, 'tama': 1, 'umaga': 6, 'warn': 1, 'british': 1, 'irish': 2, 'lion': 7, 'fearsom': 2, 'oppon': 1, 'yet': 1, 'ahead': 2, 'summer': 1, 'tour': 3, 'england': 3, 'saturday': 4, 'irb': 1, 'rugbi': 3, 'aid': 3, 'match': 4, 'also': 1, 'back': 2, 'new': 3, 'zealand': 3, 'win': 1, 'three': 1, 'test': 2, 'seri': 1, 'tell': 1, 'bbc': 2, 'sport': 1, 'potenti': 1, 'line': 2, 'ever': 1, 'come': 2, 'awesom': 2, 'we': 3, 'way': 1, 'beat': 1, 'boss': 1, 'sir': 1, 'clive': 1, 'woodward': 3, 'set': 1, 'announc': 1, 'squad': 2, 'june': 2, 'juli': 1, 'next': 1, 'month': 1, 'appoint': 1, 'last': 1, 'year': 2, 'wide': 1, 'believ': 1, 'would': 1, 'reli': 1, 'heavili': 1, 'former': 1, 'player': 3, 'say': 2, 'hard': 1, 'push': 1, 'consid': 1, 'shape': 1, 'six': 1, 'nation': 1, 'get': 3, 'wrong': 1, 'lot': 2, 'talent': 1, 'guy': 2, 'sure': 1, 'make': 2, 'xv': 1, 'disguis': 1, 'wale': 1, 'ireland': 1, 'particular': 1, 'tri': 1, 'score': 1, 'great': 2, 'admit': 4, 'fairli': 1, 'like': 1, 'brian': 1, 'driscol': 3, 'meet': 1, 'twickenham': 1, 'lead': 1, 'northern': 2, 'hemispher': 3, 'side': 1, 'among': 1, 'host': 2, 'coach': 2, 'tip': 1, 'call': 2, 'up': 1, 'good': 2, 'earli': 1, 'idea': 1, 'although': 1, 'chang': 1, '31': 1, 'old': 1, 'interest': 1, 'immens': 1, 'big': 2, 'thing': 1, 'hit': 1, 'sinc': 1, 'lord': 1, 'ring': 1, 'add': 1, 'enough': 1, 'drive': 1, 'rariti': 1, 'play': 1, 'fact': 1, 'us': 1, 'talk': 1, 'countri': 1, 'fear': 1, 'injuri': 1, 'weigh': 1, 'mind': 1, 'chariti': 1, 'game': 1, 'featur': 1, 'name': 1, 'includ': 1, 'georg': 1, 'gregan': 1, 'andrew': 1, 'mehrten': 1, 'chri': 1, 'latham': 1, 'valu': 1, 'caus': 1, 'proceed': 1, 'go': 1, 'victim': 1, 'tsunami': 2, 'easili': 1, 'second': 1, 'southern': 1, 'rod': 1, 'macqueen': 1, 'approach': 1, 'hesit': 1, 'give': 1, 'clear': 1, 'thank': 1, 'know': 2, 'anyon': 1, 'involv': 1, 'tragedi': 1, 'miss': 1, 'horrif': 1, 'report': 1, 'news': 1, 'mani': 1, 'peopl': 1, 'affect': 3, 'still': 1, 'long': 1, 'time': 1, 'someth': 1, 'minor': 1, 'help': 1, 'televis': 1, 'one': 1, '1400': 1, 'gmt': 1}, '1786.txt': {'ameli': 1, 'mauresmo': 6, 'maria': 1, 'sharapova': 3, 'open': 2, 'match': 3, 'tour': 1, 'championship': 2, 'lo': 1, 'angel': 1, 'franc': 1, 'rout': 1, 'vera': 1, 'zvonareva': 3, '6': 9, '1': 2, '0': 1, 'wimbledon': 1, 'champion': 1, '4': 2, 'winner': 1, 'fellow': 1, 'russian': 2, 'svetlana': 1, 'kuznetsova': 3, 'american': 1, 'serena': 1, 'william': 3, 'also': 1, 'edg': 1, 'elena': 1, 'dementieva': 1, '7': 2, '5': 1, 'second': 1, 'victori': 1, 'event': 2, 'split': 1, 'two': 4, 'group': 1, 'four': 1, 'top': 1, 'advanc': 1, 'semi': 1, 'final': 2, 'win': 3, 'ninth': 1, 'row': 1, 'tri': 2, 'overtak': 1, 'lindsay': 1, 'davenport': 2, 'number': 3, 'one': 3, 'spot': 1, 'spend': 1, 'five': 1, 'week': 1, 'us': 1, 'injuri': 1, 'usher': 1, 'back': 2, 'front': 1, 'sinc': 1, 'feel': 2, 'confid': 1, 'court': 1, 'game': 3, 'want': 1, 'get': 3, 'rank': 1, 'differ': 1, 'obsess': 1, 'take': 1, 'relax': 1, 'way': 2, 'complet': 1, 'first': 1, 'season': 1, 'end': 1, '54': 1, 'minut': 1, 'russia': 1, 'struggl': 1, 'return': 1, 'serv': 1, 'fail': 1, 'achiev': 1, 'singl': 1, 'break': 1, 'point': 1, 'mad': 1, 'littl': 1, 'bit': 1, 'play': 2, 'great': 2, 'tenni': 1, 'say': 4, 'runner': 1, 'kim': 1, 'clijster': 1, 'last': 1, 'year': 1, 'lose': 2, 'far': 1, 'crash': 1, '2': 3, 'stapl': 1, 'centr': 1, 'wednesday': 1, 'sometim': 1, 'everyth': 1, 'work': 1, 'lot': 1, 'pressur': 2, 'mayb': 1, '100': 1, 'fight': 2, 'beij': 2, 'septemb': 1, 'come': 1, 'big': 1, 'streak': 1, '14': 1, 'unstopp': 1, 'time': 1, 'import': 1, 'start': 1, 'well': 1, 'put': 1, 'tournament': 1, 'debut': 1, 'add': 2, 'love': 2, 'atmospher': 1, 'laker': 1, 'excit': 1, 'basketbal': 1, 'admit': 1, 'still': 1, 'good': 2, 'form': 1, 'remain': 1, 'posit': 1, 'day': 1, 'hard': 1, 'go': 1, 'right': 1, 'hope': 1, 'make': 1, 'happi': 1, 'effort': 2, 'realli': 1, 'today': 1, 'new': 1, 'dimens': 1}, '1821.txt': {'second': 1, 'seed': 4, 'andr': 2, 'agassi': 5, 'suffer': 1, 'comprehens': 1, 'defeat': 1, 'jurgen': 1, 'melzer': 3, 'quarter': 1, 'final': 1, 'sap': 1, 'open': 1, 'often': 1, 'bamboozl': 1, 'austrian': 1, 'drop': 1, 'shot': 1, 'san': 1, 'jose': 1, 'lose': 1, '6': 10, '3': 3, '1': 1, 'defend': 1, 'champion': 1, 'top': 1, 'andi': 1, 'roddick': 1, 'ralli': 1, 'beat': 3, 'sweden': 1, 'thoma': 1, 'enqvist': 1, '7': 6, '8': 1, '5': 1, 'unseed': 1, 'cyril': 1, 'saulnier': 1, 'fourth': 1, 'vincent': 1, 'spadea': 1, '2': 3, '4': 1, 'tommi': 1, 'haa': 1, 'overcam': 1, 'eighth': 1, 'max': 1, 'mirnyi': 1, 'two': 2, 'three': 1, 'meet': 1, 'good': 1, 'game': 2, 'plan': 1, 'execut': 1, 'perfectli': 1, 'say': 3, 'alway': 1, 'tough': 1, 'come': 1, 'play': 3, 'want': 1, 'make': 1, 'run': 1, 'like': 1, 'dog': 1, 'court': 1, 'match': 1, 'power': 1, 'oppon': 1, 'hand': 1, 'backhand': 1, 'exampl': 1, 'sever': 1, 'player': 1, 'tour': 1, 'will': 1, 'take': 1, 'chanc': 1, 'lot': 1, 'guy': 1, 'capabl': 1, 'american': 1, 'much': 1, 'well': 1, 'time': 1, 'opportun': 1, 'loosen': 1, 'add': 1, 'convert': 1, 'big': 1, 'point': 1}, '1495.txt': {'chelsea': 3, 'manag': 3, 'jose': 1, 'mourinho': 3, 'expect': 1, 'champion': 3, 'leagu': 3, 'clash': 1, 'barcelona': 5, 'fight': 1, 'finish': 1, 'relish': 1, 'first': 1, 'leg': 2, 'tie': 1, 'former': 1, 'club': 1, 'last': 3, '16': 1, 'nou': 2, 'camp': 2, 'say': 1, 'surpris': 1, 'noth': 1, 'decid': 1, 'minut': 1, 'return': 1, 'match': 3, 'go': 2, 'extra': 1, 'time': 2, 'defend': 1, 'mine': 2, 'moment': 1, 'never': 1, 'coach': 1, 'assist': 1, 'sir': 1, 'bobbi': 1, 'robson': 1, 'loui': 1, 'van': 1, 'gaal': 1, 'enviou': 1, 'insist': 1, 'jealou': 1, '100': 1, 'year': 2, 'histori': 1, 'european': 1, 'cup': 1, 'five': 1, 'amount': 1, 'trophi': 1, 'name': 1, 'star': 2, 'ronaldinho': 2, 'admit': 1, 'think': 2, 'difficult': 1, 'us': 1, 'good': 2, 'team': 2, 'full': 1, 'big': 2, 'see': 1, 'televis': 1, 'tactic': 1, 'strong': 2, 'counter': 1, 'attack': 1, 'pressur': 1, 'well': 1, 'keep': 1, 'possess': 1, 'ball': 1, 'import': 1, 'play': 2, 'game': 3, 'believ': 1, 'two': 1, 'europ': 1, 'nevertheless': 1, 'accustom': 1, 'face': 1, 'like': 1, 'real': 1, 'madrid': 1, 'season': 1, 'special': 1, 'atmospher': 1, 'citi': 1, 'chang': 1, 'lot': 2, 'journalist': 1, 'insid': 1, 'dress': 1, 'room': 1, 'differ': 1, 'add': 1, 'win': 1, 'respect': 1, 'opposit': 1}, '1659.txt': {'brian': 1, 'moor': 5, 'believ': 2, 'england': 3, 'captain': 3, 'full': 2, 'back': 3, 'jason': 1, 'robinson': 3, 'lead': 1, 'team': 1, 'open': 1, 'three': 1, 'defeat': 1, 'six': 1, 'nation': 1, 'tournament': 2, 'absenc': 1, 'fli': 1, 'half': 1, 'jonni': 1, 'wilkinson': 2, 'world': 1, 'champion': 1, 'struggl': 1, 'sinc': 1, 'retir': 2, 'former': 2, 'martin': 1, 'johnson': 1, 'lock': 1, 'forward': 2, 'tell': 1, 'bbc': 1, 'far': 1, 'away': 1, 'action': 1, 'reflect': 1, 'person': 1, 'add': 2, 'think': 1, 'point': 1, 'influenc': 1, 'need': 1, 'move': 1, 'close': 1, 'pack': 2, 'game': 3, 'usual': 1, 'start': 1, 'finish': 1, 'say': 1, 'lack': 1, 'cohes': 1, 'one': 1, 'reason': 1, 'lose': 2, 'wale': 1, 'franc': 1, 'ireland': 1, 'year': 1, 'assert': 1, 'get': 3, 'enough': 1, 'peopl': 1, 'breakdown': 1, 'explain': 1, 'wer': 1, 'e': 1, 'quick': 2, 'ball': 2, 'mean': 1, 'stifl': 1, 'creativ': 1, 'depend': 1, 'injuri': 2, 'depriv': 1, 'key': 1, 'player': 3, 'like': 1, 'coach': 1, 'andi': 1, 'give': 1, 'youngster': 1, 'harri': 1, 'elli': 1, 'jami': 1, 'noon': 1, 'chanc': 1, 'last': 2, 'two': 2, 'itali': 1, 'scotland': 1, 'good': 1, 'opportun': 1, 'experi': 2, 'problem': 1, 'around': 1, 'replac': 1, 'icon': 1, 'requisit': 1, 'anyth': 1, 'play': 1, 'knock': 1, 'door': 1, 'time': 1, 'look': 1, 'noth': 1, 'go': 1, 'next': 1, 'season': 1, 'great': 1, 'certainti': 1, 'handl': 1, 'pressur': 1, 'intern': 1, 'rugbi': 1}, '1584.txt': {'newcastl': 1, 'join': 1, 'race': 2, 'sign': 1, 'real': 2, 'madrid': 4, 'striker': 1, 'fernando': 1, 'morient': 4, 'scupper': 1, 'liverpool': 6, 'bid': 3, 'snap': 1, 'player': 2, 'accord': 1, 'report': 3, '3': 1, '5': 2, 'm': 3, '28': 1, 'year': 1, 'old': 1, 'spanish': 1, 'intern': 1, 'week': 1, 'echo': 1, 'newspap': 1, 'say': 2, 'anfield': 2, 'boss': 1, 'rafa': 2, 'benitez': 3, 'avoid': 1, 'war': 1, 'instead': 1, 'turn': 2, 'attent': 2, 'nicola': 1, 'anelka': 3, 'believ': 1, 'still': 1, 'want': 5, '7': 1, 'sell': 1, 'monaco': 1, 'also': 1, 'loan': 1, 'last': 1, 'season': 1, 'suggest': 1, 'lift': 1, 'offer': 1, 'high': 1, 'will': 1, 'go': 1, 'bow': 1, 'deal': 1, 'tuesday': 1, 'like': 2, 'pleas': 1, 'club': 1, 'statur': 1, 'buy': 1, 'tell': 1, 'happen': 1, 'know': 2, 'situat': 2, 'must': 2, 'someth': 1, 'sort': 1, 'sensibl': 1, 'posit': 1, 'play': 3, 'look': 1, 'elsewher': 1, 'good': 1, 'interest': 1, 'everyon': 1, 'realist': 1, 'spoken': 1, 'alway': 1, 'appreci': 1, 'work': 1, 'would': 1, 'could': 1, 'yet': 1, 'young': 1, 'reluct': 1, 'pledg': 1, 'futur': 1, 'previous': 1, 'gerard': 1, 'houlli': 1, 'seal': 1, 'perman': 1, 'switch': 1, 'manchest': 1, 'citi': 1}, '1818.txt': {'greg': 1, 'rusedski': 2, 'forc': 1, 'withdraw': 1, 'open': 1, '13': 1, 'marseil': 1, 'thursday': 1, 'rib': 2, 'injuri': 1, 'british': 1, 'number': 2, 'two': 1, 'schedul': 1, 'play': 1, 'qualifi': 1, 'sebastien': 1, 'de': 1, 'chaunac': 1, 'beat': 2, 'world': 1, 'five': 1, 'guillermo': 1, 'coria': 1, '6': 5, '4': 1, '7': 3, '5': 1, 'round': 1, 'one': 1, 'unabl': 1, 'take': 1, 'court': 1, 'problem': 1, 'leav': 1, 'hand': 1, 'side': 1, 'cage': 1, 'american': 1, 'taylor': 1, 'dent': 1, 'caus': 1, 'shock': 1, '2': 1, 'victori': 1, 'second': 1, 'seed': 3, 'david': 1, 'nalbandian': 1, 'third': 1, 'joachim': 1, 'johansson': 1, 'make': 1, 'frenchman': 1, 'gill': 1, 'simon': 1, '3': 1, 'first': 1, 'match': 1, 'day': 1, 'sixth': 1, 'feliciano': 1, 'lopez': 1, 'defeat': 1, 'ivo': 1, 'karlov': 1, 'also': 1, 'win': 1, 'slovakia': 1, 'karol': 1, 'beck': 1, 'croatian': 1, 'duo': 1, 'ivan': 1, 'ljubic': 1, 'mario': 1, 'ancic': 1}, '1539.txt': {'arsen': 6, 'wenger': 5, 'pledg': 1, 'keep': 1, 'faith': 3, 'stand': 1, 'keeper': 4, 'manuel': 1, 'almunia': 3, 'crunch': 1, 'week': 2, 'could': 1, 'defin': 1, 'season': 1, 'start': 1, 'tuesday': 1, 'champion': 3, 'leagu': 3, 'group': 1, 'tie': 1, 'rosenborg': 3, 'like': 2, 'face': 1, 'chelsea': 1, 'sunday': 1, 'say': 4, 'think': 2, 'would': 1, 'take': 1, 'one': 3, 'goalkeep': 2, 'game': 3, 'give': 1, 'run': 2, 'want': 2, 'make': 3, 'stori': 1, 'big': 3, 'insist': 1, 'complet': 1, '27': 1, 'year': 2, 'old': 3, 'spaniard': 1, 'sign': 2, 'last': 1, 'summer': 2, 'celta': 1, 'vigo': 1, 'back': 1, 'jen': 2, 'lehmann': 4, 'look': 1, 'career': 1, 'see': 1, 'leav': 1, 'mani': 1, 'player': 1, 'long': 2, 'time': 1, 'do': 1, 'denni': 1, 'bergkamp': 1, 'kanu': 1, 'everybodi': 1, 'usual': 1, 'situat': 1, 'put': 3, 'good': 5, 'team': 4, 'matter': 2, 'mistak': 2, 'trafford': 1, 'alarm': 1, 'happen': 1, 'birmingham': 1, 'either': 1, 'noth': 1, 'great': 1, 'play': 4, 'peopl': 1, 'robot': 1, 'period': 2, 'less': 1, 'two': 1, 'three': 1, 'shorter': 1, 'mean': 2, 'lose': 1, 'former': 1, 'david': 1, 'seaman': 2, 'believ': 2, 'harshli': 1, 'treat': 1, 'tell': 1, 'daili': 1, 'mail': 1, 'fantast': 1, 'deserv': 2, 'anoth': 1, 'chanc': 1, 'form': 1, 'first': 2, 'choic': 1, 'hit': 1, 'injuri': 1, 'suspens': 1, 'inexperienc': 1, 'midfield': 1, 'pair': 1, 'mathieu': 1, 'flamini': 1, 'cesc': 1, 'fabrega': 1, 'line': 1, 'confid': 1, 'prove': 1, 'capabl': 1, 'lot': 2, 'pressur': 1, 'learn': 1, 'process': 1, 'worri': 1, 'mental': 1, 'strong': 1, 'need': 1, 'workrat': 1, 'gunner': 2, 'go': 4, 'boost': 1, 'news': 1, 'defend': 1, 'sol': 1, 'campbel': 2, 'verg': 1, 'new': 1, 'deal': 1, 'club': 1, '30': 1, 'whose': 1, 'current': 1, 'contract': 1, 'clear': 1, 'determin': 1, 'achiev': 1, 'success': 1, 'everyth': 1, 'carri': 1, 'competit': 2, 'europ': 1, 'guy': 1, 'tri': 1, 'win': 3, 'trophi': 1, 'thing': 1, 'mind': 1, 'meanwhil': 1, 'thierri': 1, 'henri': 2, 'blame': 1, 'fail': 1, 'qualifi': 1, 'next': 1, 'stage': 1, 'captain': 1, 'side': 1, 'place': 1, 'suspend': 1, 'patrick': 1, 'vieira': 1, 'seek': 1, 'requir': 1, 'victori': 1, 'striker': 1, 'fault': 1, 'way': 1, 'know': 1, 'criticis': 1}, '1617.txt': {'itali': 2, 'coach': 1, 'john': 1, 'kirwan': 3, 'challeng': 1, 'side': 2, 'match': 2, 'perform': 2, 'produc': 1, 'push': 1, 'ireland': 2, 'close': 1, 'meet': 1, 'wale': 2, 'saturday': 2, 'despit': 1, 'lose': 1, '28': 1, '17': 1, 'sunday': 1, 'six': 1, 'nation': 1, 'encount': 1, 'italian': 1, 'confirm': 1, 'continu': 1, 'improv': 1, 'goal': 1, 'everi': 1, 'face': 1, 'show': 2, 'could': 1, 'say': 2, 'import': 1, 'thing': 1, 'build': 1, 'play': 1, 'half': 3, 'back': 1, 'mix': 1, 'afternoon': 1, 'recal': 1, 'scrum': 1, 'alessandro': 1, 'troncon': 2, 'impress': 1, 'fli': 1, 'luciano': 1, 'orquera': 2, 'day': 1, 'boot': 1, 'happi': 1, 'incred': 1, 'game': 2, 'good': 1, 'attack': 1, 'defenc': 2, 'kick': 1, 'great': 1, 'courag': 1, 'also': 1, 'follow': 1, 'plan': 1, 'give': 1, 'confid': 1, 'capabl': 1, 'well': 1}, '1768.txt': {'elena': 1, 'dementieva': 2, 'sweep': 1, 'asid': 1, 'defend': 1, 'champion': 2, 'venu': 1, 'william': 4, '6': 2, '3': 1, '2': 1, 'win': 2, 'hong': 1, 'kong': 1, 'challeng': 1, 'event': 1, 'russian': 1, 'rank': 1, 'sixth': 1, 'world': 1, 'break': 1, 'three': 2, 'time': 1, 'first': 1, 'set': 1, 'lose': 2, 'servic': 1, 'save': 1, 'championship': 1, 'point': 2, 'match': 2, 'victoria': 1, 'park': 1, 'tenni': 1, 'court': 1, 'realli': 2, 'great': 1, 'start': 1, 'year': 1, 'matter': 1, 'whether': 1, 'exhibit': 1, 'tri': 2, 'play': 2, 'well': 1, 'say': 2, 'give': 1, 'confid': 1, 'grand': 1, 'slam': 1, 'hard': 1, 'tournament': 1, '24': 1, 'disappoint': 1, 'display': 1, 'nice': 1, 'mostli': 1, 'commit': 1, 'unforc': 1, 'error': 2, 'four': 1, 'five': 1, 'game': 1, 'organ': 1, 'auction': 1, 'racket': 1, 'belong': 1, 'player': 1, 'rais': 1, '115': 1, '000': 1, 'victim': 1, 'tsunami': 1, 'disast': 1}, '1669.txt': {'wale': 7, 'could': 1, 'follow': 1, 'england': 3, 'lead': 1, 'train': 2, 'rugbi': 2, 'leagu': 2, 'club': 1, 'alreadi': 1, 'three': 1, 'day': 1, 'session': 1, 'leed': 2, 'rhino': 1, 'think': 2, 'interest': 1, 'similar': 2, 'clinic': 1, 'rival': 1, 'st': 4, 'helen': 4, 'saint': 4, 'coach': 2, 'ian': 1, 'millward': 1, 'give': 2, 'approv': 1, 'happen': 1, 'unlik': 1, 'season': 1, 'week': 2, 'portug': 1, 'next': 1, 'play': 2, 'open': 1, 'six': 1, 'nation': 1, 'match': 1, '5': 1, 'februari': 1, 'approach': 1, 'confirm': 1, 'spokesman': 1, 'earli': 1, 'stage': 1, 'someth': 1, 'seriou': 1, 'consider': 1, 'proud': 1, 'welsh': 2, 'connect': 1, 'obviou': 1, 'partner': 1, 'union': 2, 'despit': 1, 'spat': 1, '2001': 2, 'collaps': 1, 'kieron': 1, 'cunningham': 1, 'propos': 1, '500': 1, '000': 1, 'move': 2, 'side': 1, 'swansea': 1, 'cross': 1, 'code': 2, 'deal': 1, 'take': 1, 'iestyn': 1, 'harri': 1, 'cardiff': 1, 'go': 1, 'talent': 1, 'stand': 1, 'return': 1, '13': 1, 'man': 2, 'bradford': 1, 'bull': 1, 'kel': 1, 'coslett': 1, 'famous': 1, '1960': 1, 'current': 1, 'footbal': 1, 'manag': 1, 'clive': 1, 'griffith': 1, 'defens': 1, 'former': 2, 'player': 1, 'behind': 1, 'late': 1, 'initi': 1, 'scott': 1, 'gibb': 1, 'lion': 1, 'centr': 1, '1994': 1, '96': 1, 'challeng': 1, 'cup': 1, 'win': 1, 'team': 1, 'wembley': 1, '1996': 1}, '1373.txt': {'jade': 1, 'johnson': 3, 'edg': 2, 'rival': 1, 'kelli': 1, 'sotherton': 5, 'last': 3, 'effort': 1, 'claim': 6, 'aaa': 6, 'long': 1, 'jump': 4, 'titl': 9, 'norwich': 1, 'union': 1, 'european': 10, 'indoor': 5, 'trial': 1, 'olymp': 2, 'heptathlon': 2, 'bronz': 2, 'medallist': 2, 'lead': 1, 'event': 1, 'first': 4, 'leap': 1, '6': 2, '43': 1, 'm': 17, 'person': 5, 'good': 10, 'compet': 1, 'five': 1, 'year': 3, 'leapt': 1, 'life': 1, 'time': 3, '50': 2, 'four': 1, 'foul': 1, 'pass': 1, 'championship': 2, 'qualifi': 10, 'mark': 8, 'although': 1, 'main': 1, 'aim': 1, 'madrid': 3, 'next': 2, 'month': 2, 'pentathlon': 1, 'take': 2, 'champion': 3, 'carolina': 1, 'kluft': 1, 'ireland': 3, 'deliv': 1, 'shock': 1, 'man': 4, '200': 3, 'storm': 1, 'major': 1, '21': 1, '01': 1, 'second': 8, 'british': 6, 'favourit': 1, 'chri': 1, 'lambert': 2, 'settl': 1, 'place': 2, 'defend': 2, 'paul': 1, 'brizzel': 1, 'third': 2, 'consol': 1, 'set': 5, '20': 2, '94': 1, 'round': 1, 'enough': 2, 'europ': 2, 'two': 2, 'allyn': 1, 'condon': 1, 'ian': 1, 'macki': 1, 'luck': 2, 'disqualifi': 1, 'heat': 3, 'plenti': 1, 'hot': 1, 'action': 1, '60': 1, 'hurdl': 1, 'scotland': 2, 'vie': 1, 'top': 1, 'spot': 2, 'olympian': 1, 'andi': 1, 'turner': 2, 'scott': 1, '22': 1, 'smash': 1, 'way': 1, 'final': 6, 'broke': 1, 'win': 1, '7': 3, '58': 1, 'finish': 5, '82': 1, 'previous': 1, '83': 1, 'semi': 1, 'damien': 1, 'greav': 1, 'trio': 1, 'athlet': 1, 'reach': 1, 'season': 5, 'though': 2, 'one': 5, 'miss': 1, 'call': 1, 'squad': 1, 'comfort': 1, '3': 2, '000': 1, 'clock': 1, 'eight': 1, 'minut': 2, '49': 2, '87': 3, 'easili': 1, 'surpass': 1, 'cross': 1, 'countri': 1, 'rank': 2, 'number': 3, 'go': 2, 'high': 2, 'hope': 1, 'helen': 1, 'clithero': 1, 'agonisingli': 1, 'close': 1, '9': 2, '05': 2, '00': 1, 'runner': 2, '73': 1, '800': 2, 'fast': 2, 'lie': 1, 'challeng': 1, 'form': 1, 'welsh': 1, 'attack': 1, 'come': 2, 'ahead': 1, 'jame': 1, 'thie': 1, 'mcilroy': 2, 'eas': 1, 'across': 1, '1': 1, 'showdown': 1, 'sunday': 1, 'sheffield': 1, 'watkin': 1, 'alreadi': 2, 'achiev': 2, 'susan': 1, 'deacon': 2, 'stole': 1, 'thunder': 1, 'woman': 4, 'fraser': 2, 'becom': 1, 'distanc': 2, '23': 2, '68': 1, 'outsid': 1, 'standard': 2, '67': 1, 'shoot': 2, 'put': 2, 'veteran': 1, 'fourth': 2, 'throw': 3, '15': 1, '27': 2, '39': 1, 'old': 2, 'book': 1, 'fifth': 1, 'produc': 1, '13': 2, '77': 1, 'absenc': 1, 'injur': 1, 'carl': 1, 'myerscough': 1, '17': 1, '64': 1, 'sale': 1, 'robert': 1, 'mitchel': 1, 'climb': 2, '2': 2, 'cm': 1, 'short': 1, 'could': 1, 'clear': 2, '16': 1, 'disappoint': 1, 'temper': 1, 'meet': 1, 'slovenia': 1, 'tuesday': 1, 'bad': 1, 'pole': 1, 'vault': 1, 'fail': 1, 'bar': 1, 'decid': 1, '5': 2, '45': 1, 'instead': 1, 'ashley': 1, 'swain': 1, '25': 1, 'taniesha': 1, 'scanlon': 1, 'new': 1, 'nation': 1, 'record': 1, '28': 1, 'tripl': 1}, '1466.txt': {'jose': 1, 'antonio': 1, 'rey': 2, 'add': 2, 'specul': 2, 'link': 3, 'move': 2, 'arsen': 5, 'real': 6, 'madrid': 6, 'fall': 1, 'victim': 1, 'radio': 2, 'prank': 1, 'spaniard': 1, 'believ': 1, 'talk': 1, 'sport': 1, 'director': 1, 'emilio': 1, 'butragueno': 2, 'allegedli': 1, 'berat': 1, 'team': 2, 'mate': 1, 'bad': 2, 'peopl': 2, 'wish': 1, 'play': 6, '21': 1, 'year': 1, 'old': 1, 'tell': 1, 'cadena': 1, 'cope': 1, 'hope': 1, 'could': 1, 'happen': 1, 'love': 1, 'way': 2, 'happi': 3, 'thing': 1, 'striker': 1, 'join': 1, 'gunner': 1, 'sevil': 1, '17': 1, 'm': 1, 'start': 1, '2004': 1, 'frequent': 1, 'report': 2, 'homesick': 1, 'begin': 1, 'season': 1, 'superb': 1, 'form': 1, 'struggl': 1, 'maintain': 1, 'high': 1, 'standard': 1, 'gradual': 1, 'lose': 1, 'premiership': 1, 'initi': 1, 'manchest': 1, 'unit': 1, 'chelsea': 1, 'go': 1, 'carri': 1, 'sure': 1, 'none': 1, 'dress': 1, 'room': 1, 'interest': 1, 'alway': 1, 'dream': 1, 'sinc': 1, 'littl': 1, 'stori': 2, 'surfac': 1, 'spanish': 1, 'giant': 1, 'issu': 1, 'statement': 1, 'describ': 1, 'flatter': 1, 'see': 1, 'medium': 1, 'say': 2, 'thursday': 1, 'lunchtim': 1, 'contract': 1, 'commit': 1, 'help': 1, 'win': 1, 'trophi': 1, 'meanwhil': 1, 'angri': 1, 'imperson': 1, 'disc': 1, 'jockey': 1, 'disgrac': 1, 'foundat': 1, 'player': 1, 'respect': 1, 'care': 1, 'rumour': 1, 'appear': 1, 'news': 1}, '2025.txt': {'soon': 1, 'could': 2, 'go': 3, 'hunt': 9, 'via': 3, 'net': 4, 'texa': 5, 'compani': 1, 'consid': 1, 'let': 6, 'web': 1, 'user': 3, 'use': 2, 'remot': 7, 'control': 6, 'rifl': 5, 'shoot': 11, 'deer': 3, 'antelop': 2, 'wild': 3, 'pig': 3, 'small': 2, 'fee': 3, 'take': 1, 'camera': 3, 'spot': 1, 'game': 4, 'anim': 7, 'roam': 1, 'around': 1, '133': 1, 'hectar': 1, 'ranch': 3, 'live': 3, 'shot': 3, 'websit': 2, 'behind': 2, 'scheme': 1, 'alreadi': 2, 'peopl': 6, 'practis': 1, 'target': 3, 'internet': 2, 'john': 1, 'underwood': 6, 'man': 1, 'say': 8, 'idea': 1, 'come': 2, 'year': 2, 'ago': 1, 'watch': 1, 'webcam': 1, 'anoth': 1, 'site': 2, 'look': 1, 'beauti': 1, 'white': 1, 'tail': 1, 'buck': 1, 'friend': 1, 'gun': 3, 'littl': 1, 'light': 1, 'bulb': 1, 'head': 1, 'mr': 5, 'tell': 1, 'reuter': 1, 'news': 1, 'agenc': 1, 'work': 2, '10': 2, '000': 1, 'result': 1, 'rig': 3, 'sit': 1, '22': 1, 'calibr': 1, 'plan': 1, 'put': 1, 'one': 1, 'conceal': 1, 'locat': 1, 'reserv': 1, 'varieti': 1, 'also': 2, 'need': 1, 'fast': 1, 'connect': 1, 'hunter': 3, 'quickli': 1, 'track': 1, 'aim': 2, 'pass': 1, 'session': 4, 'cost': 1, '150': 1, 'addit': 1, 'meat': 1, 'process': 1, 'taxidermi': 1, 'speci': 2, 'includ': 1, 'barbari': 1, 'corsican': 1, 'mouflon': 1, 'sheep': 1, 'blackbuck': 1, 'round': 1, 'paper': 1, 'silhouett': 1, '5': 1, '95': 1, '20': 1, 'minut': 1, 'get': 2, 'dvd': 1, 'record': 1, 'handler': 1, 'overse': 1, 'stop': 2, 'fire': 1, 'rang': 1, 'someth': 2, 'popular': 1, 'disabl': 1, 'unabl': 1, 'wood': 1, 'distant': 1, 'afford': 1, 'trip': 1, 'statement': 2, 'rspca': 2, 'grave': 1, 'concern': 1, 'allow': 1, 'onlin': 1, 'assum': 1, 'would': 3, 'extrem': 1, 'difficult': 2, 'accur': 1, 'way': 1, 'therefor': 1, 'ensur': 1, 'clean': 1, 'kill': 2, 'accept': 1, 'intent': 1, 'sport': 1, 'hit': 1, 'without': 1, 'doubt': 1, 'caus': 1, 'suffer': 1, 'unnecessarili': 1, 'mike': 1, 'berger': 1, 'wildlif': 2, 'director': 1, 'park': 1, 'depart': 1, 'current': 1, 'statut': 1, 'cover': 2, 'state': 1, 'law': 1, 'regul': 1, 'nativ': 1, 'bird': 1, 'noth': 1, 'unregul': 1, 'import': 1, 'person': 1}, '1928.txt': {'comput': 3, 'system': 7, 'use': 2, 'monitor': 1, 'world': 2, 'nuclear': 6, 'power': 1, 'instal': 1, 'outdat': 1, 'hamper': 1, 'work': 1, 'inspector': 6, 'spokesman': 3, 'intern': 1, 'atom': 1, 'energi': 1, 'agenc': 3, 'iaea': 5, 'say': 5, 'current': 2, 'technolog': 3, 'could': 4, 'allow': 2, 'key': 1, 'inform': 3, 'overlook': 1, '20': 1, 'year': 3, 'old': 1, 'method': 1, 'track': 1, 'materi': 3, 'worldwid': 2, 'appeal': 1, 'fund': 1, 'updat': 1, 'hardwar': 2, 'softwar': 2, 'major': 1, 'overhaul': 1, 'need': 1, 'immedi': 1, 'secur': 2, 'onlin': 2, 'access': 2, 'project': 2, 'manag': 1, 'livio': 1, 'costantini': 1, 'make': 2, 'around': 2, '3': 1, '000': 1, 'visit': 2, '900': 1, 'facil': 3, 'verifi': 1, 'offici': 1, 'report': 1, 'activ': 2, 'plant': 4, 'carri': 2, 'environment': 1, 'check': 1, 'also': 1, 'look': 2, 'sign': 1, 'smuggl': 2, 'compar': 1, 'datum': 2, 'earli': 1, 'instanc': 1, 'build': 1, '1970': 1, 'larg': 2, 'paper': 1, 'base': 1, 'extrem': 1, 'ineffici': 1, 'search': 2, 'anomali': 1, 'like': 2, 'needl': 1, 'haystack': 1, 'organis': 1, 'aim': 2, 'start': 1, 'upgrad': 2, 'novemb': 1, 'provid': 1, 'field': 1, 'previou': 1, 'inspect': 1, 'design': 1, 'blueprint': 1, 'even': 1, 'satellit': 1, 'imag': 1, 'possibl': 1, 'hope': 1, 'link': 1, 'nation': 1, 'record': 1, 'import': 1, 'export': 1, 'analysi': 1, 'help': 1, 'spot': 1, 'potenti': 1, 'illicit': 1, 'transfer': 1, 'countri': 1, 'accord': 1, 'specialist': 1, 'peter': 1, 'smith': 1, 'would': 1, 'abl': 1, 'incorpor': 1, 'state': 1, 'art': 1, 'visualis': 1, 'techniqu': 1, 'familiar': 1, 'video': 1, 'game': 1, 'player': 1, 'toolkit': 1, 'commerci': 1, 'see': 2, 'peopl': 1, 'move': 1, 'virtual': 1, 'laptop': 3, 'walk': 1, 'door': 1, 'wall': 1, 'problem': 1, 'estim': 1, 'total': 1, 'cost': 1, 'four': 1, '40': 1, 'm': 2, 'far': 1, 'receiv': 1, '11': 1, 'us': 1, 'uk': 1, 'failur': 1, 'replac': 1, 'integr': 1, 'fulli': 1, 'compon': 1, 'risk': 1, 'statement': 1}, '1840.txt': {'use': 9, 'old': 7, 'mobil': 13, 'phone': 18, 'good': 1, 'environ': 1, 'social': 2, 'benefit': 1, 'research': 2, 'find': 3, 'develop': 1, 'nation': 3, 'help': 1, 'close': 1, 'digit': 1, 'divid': 1, 'forum': 4, 'futur': 3, 'low': 2, 'cost': 1, 'recycl': 2, 'handset': 8, 'mean': 2, 'second': 2, 'life': 2, 'poor': 3, 'need': 2, 'do': 1, 'collect': 1, 'rather': 1, 'let': 1, 'rot': 1, 'landfil': 2, 'site': 2, 'report': 4, 'reveal': 2, 'approxim': 1, '15': 2, 'million': 3, 'go': 2, 'everi': 1, 'year': 3, 'uk': 1, 'swap': 1, 'new': 3, 'model': 2, '25': 1, 'get': 3, 'return': 1, 'firm': 1, 'slowli': 1, 'grow': 1, 'mass': 1, 'unrecycl': 1, 'discard': 1, 'reach': 1, '90': 1, 'equival': 1, '9': 1, '000': 1, 'tonn': 1, 'wast': 1, 'estim': 1, 'jame': 1, 'goodman': 6, 'author': 1, 'senior': 1, 'advis': 1, 'quit': 1, 'common': 1, 'peopl': 5, 'two': 1, 'three': 1, 'lie': 1, 'around': 1, 'say': 10, 'mr': 5, 'mani': 1, 'could': 1, 'end': 1, 'leak': 1, 'potenti': 1, 'toxic': 1, 'materi': 1, 'make': 2, 'wide': 1, 'world': 1, 'far': 1, 'well': 1, 'hand': 2, 'back': 2, 'oper': 2, 'send': 1, 'oversea': 2, 'enjoy': 1, 'leas': 1, 'hear': 1, 'environment': 1, 'argument': 2, 'strong': 1, 'prove': 2, 'particularli': 1, 'want': 2, 'keep': 2, 'touch': 2, 'friend': 1, 'famili': 1, 'incom': 1, 'buy': 1, 'date': 1, 'take': 2, 'depth': 1, 'look': 1, 'romania': 2, 'recondit': 3, 'popular': 1, 'interest': 1, 'countri': 2, 'realli': 1, 'crap': 1, 'fix': 1, 'line': 1, 'network': 1, 'real': 2, 'desir': 1, 'rel': 1, 'wage': 2, 'one': 4, 'europ': 1, 'afford': 3, 'shini': 1, 'barrier': 1, 'boost': 1, 'almost': 1, 'third': 2, 'romanian': 2, 'pre': 1, 'pay': 1, 'user': 1, 'tend': 1, 'price': 1, 'georgeta': 1, 'minciu': 1, 'part': 1, 'time': 1, 'clean': 1, 'normal': 1, 'would': 1, 'possibl': 1, 'singl': 1, 'parent': 1, 'daughter': 1, 'import': 1, 'way': 1, 'consum': 1, 'ensur': 1, 'britain': 1, 'mountain': 1, 'add': 1, 'keen': 1, 'accept': 1}, '2029.txt': {'music': 6, 'download': 5, 'network': 9, 'prove': 2, 'popular': 2, 'audienc': 5, 'youngster': 1, 'keen': 2, 'take': 1, 'advantag': 2, 'free': 1, 'advertis': 12, 'equal': 2, 'reach': 2, 'captiv': 1, 'debat': 1, 'legitimaci': 1, 'file': 2, 'share': 1, 'rage': 1, 'industri': 2, 'continu': 1, 'threat': 1, 'close': 1, 'servic': 4, 'good': 1, 'meanwhil': 2, 'million': 3, 'dream': 1, 'come': 1, 'true': 1, 'brand': 9, 'nightmar': 1, 'paul': 1, 'myer': 1, 'chief': 2, 'execut': 2, 'wippit': 1, 'peer': 10, 'provid': 2, 'pay': 2, 'believ': 3, 'time': 2, 'stop': 1, 'oxygen': 1, 'compani': 5, 'support': 3, 'illeg': 3, 'may': 1, 'surpris': 2, 'know': 4, 'current': 1, 'edonkey': 5, 'steadfastli': 1, 'copyright': 1, 'theft': 2, 'real': 1, 'cash': 1, 'money': 2, 'includ': 2, 'nat': 1, 'west': 1, 'vodafon': 1, 'o2': 1, 'first': 1, 'direct': 1, 'ntl': 2, 'renault': 1, 'say': 10, 'open': 1, 'letter': 1, 'british': 1, 'phonograph': 1, 'last': 2, 'month': 2, 'urg': 1, 'peopl': 1, 'follow': 1, 'lead': 1, 'dump': 1, 'associ': 1, 'bpi': 2, 'quick': 1, 'condemn': 1, 'establish': 1, 'becom': 1, 'bedfellow': 1, 'like': 1, 'kazaa': 1, 'grokster': 1, 'facilit': 1, 'fileshar': 1, 'strongli': 1, 'reput': 1, 'look': 1, 'care': 1, 'give': 1, 'revenu': 1, 'statement': 2, 'sharer': 1, 'steal': 1, 'pound': 1, 'worth': 1, 'sure': 2, 'would': 3, 'put': 3, 'scale': 1, 'busi': 1, 'issu': 2, 'often': 1, 'complic': 1, 'mark': 1, 'mulligan': 2, 'analyst': 1, 'jupit': 1, 'research': 1, 'problem': 1, 'long': 1, 'ever': 1, 'sinc': 2, 'day': 1, 'napster': 1, 'tell': 2, 'bbc': 3, 'news': 3, 'websit': 3, 'realiti': 1, 'repres': 1, 'attract': 1, 'probabl': 1, 'lot': 1, 'less': 1, 'ad': 3, 'respect': 1, 'site': 3, 'perfect': 1, 'target': 1, 'legal': 1, 'asid': 1, 'mean': 1, 'miss': 1, 'valuabl': 1, 'add': 1, 'contact': 1, 'insist': 1, 'directli': 1, 'awar': 2, 'appear': 2, 'onetel': 1, 'advert': 5, 'spot': 1, 'week': 1, 'respons': 1, 'typic': 1, 'investig': 1, 'matter': 2, 'one': 1, 'affili': 1, 'partner': 1, 'place': 2, 'without': 1, 'knowledg': 1, 'polici': 1, 'read': 1, 'discount': 1, 'phone': 1, 'firm': 2, 'request': 1, 'remov': 1, 'immedi': 1, 'spokeswoman': 1, 'similarli': 1, 'telecommun': 1, 'blame': 1, 'medium': 2, 'buy': 1, 'agenc': 2, 'third': 1, 'parti': 1, 'featur': 1, 'thousand': 1, 'bring': 1, 'attent': 1, 'strict': 1, 'instruct': 1, 'make': 1, 'spokesman': 1, 'howev': 1, 'mr': 1, 'entir': 1, 'convinc': 1, 'explan': 1, 'small': 1, 'might': 1, 'necessarili': 1, 'alloc': 1, 'onlin': 1, 'actual': 1, 'end': 1, 'excus': 1, 'well': 2, 'prevent': 1, 'happen': 1, 'moment': 1, 'enjoy': 1, 'benefit': 1, 'face': 1, 'mani': 1, 'big': 3, 'leverag': 1, 'opportun': 2, 'perhap': 1, 'two': 1, 'world': 1, 'senat': 1, 'john': 1, 'kerri': 1, 'presid': 1, 'georg': 1, 'w': 1, 'bush': 1, 'sam': 1, 'yagan': 1, 'distinct': 1, 'think': 1, 'client': 1, 'offer': 1, 'uniqu': 1, 'engag': 1, 'custom': 1, 'comfort': 1, 'desk': 1, 'interact': 1, 'favourit': 1, 'digit': 1}, '2189.txt': {'bodi': 1, 'overse': 2, 'net': 17, 'work': 8, 'grow': 3, 'evolv': 1, 'say': 6, 'cope': 1, 'well': 4, 'growth': 5, 'last': 2, '10': 2, 'year': 4, 'start': 3, 'sens': 2, 'hardli': 1, 'reach': 3, 'whole': 3, 'popul': 2, 'new': 3, 'chair': 2, 'internet': 4, 'engin': 2, 'task': 3, 'forc': 1, 'ietf': 5, 'brian': 1, 'carpent': 9, 'ensur': 3, 'smooth': 1, 'run': 1, 'organis': 1, 'architectur': 3, 'broadband': 3, 'take': 2, 'servic': 2, 'like': 3, 'voic': 2, 'tv': 1, 'open': 3, 'interest': 2, 'challeng': 5, 'think': 2, 'voip': 2, 'protocol': 5, 'allow': 3, 'phone': 1, 'call': 2, 'make': 8, 'import': 1, 'old': 1, 'cost': 1, 'model': 2, 'telecom': 1, 'dr': 8, 'second': 1, 'deepli': 1, 'busi': 1, 'provid': 1, 'lot': 2, 'infrastructur': 3, 'need': 1, 'littl': 1, 'distinguish': 1, 'ibm': 1, 'spend': 1, '20': 1, 'cern': 2, 'european': 1, 'laboratori': 1, 'particl': 1, 'physic': 1, 'next': 3, 'big': 2, 'ipv6': 5, 'gener': 2, 'standard': 11, 'inform': 3, 'transfer': 1, 'rout': 1, 'across': 3, 'web': 2, 'help': 1, 'pioneer': 1, 'advanc': 1, 'applic': 1, 'develop': 1, 'world': 2, 'wide': 1, 'place': 1, 'evolut': 2, 'depend': 1, 'talk': 1, 'crucial': 1, 'job': 1, 'top': 1, 'prioriti': 1, 'free': 1, 'anyon': 1, 'use': 2, 'build': 1, 'tcp': 1, 'ip': 5, 'mean': 1, 'transmiss': 1, 'control': 1, 'comput': 1, 'commun': 3, 'uniqu': 1, 'address': 6, 'send': 2, 'receiv': 2, 'larg': 2, 'intern': 1, 'network': 3, 'design': 2, 'oper': 1, 'vendor': 1, 'research': 1, 'way': 1, 'sure': 4, 'knit': 1, 'togeth': 1, 'leav': 1, 'gap': 1, 'see': 2, 'effect': 1, 'explain': 2, 'fantast': 1, 'rate': 2, 'end': 3, '90': 1, 'bit': 2, 'glitch': 1, '2000': 1, 'clear': 1, 'phase': 1, 'consolid': 1, 'renew': 2, 'also': 1, 'buoy': 1, 'emerg': 1, 'economi': 1, 'china': 1, 'show': 1, 'fast': 1, 'uptak': 1, 'technolog': 2, 'number': 3, 'subscrib': 2, 'via': 1, 'dsl': 1, 'digit': 1, 'line': 1, 'doubl': 1, '13': 1, 'million': 2, 'accord': 1, 'figur': 1, 'releas': 1, '2004': 1, 'face': 1, 'continu': 1, 'produc': 1, 'give': 2, 'do': 1, 'want': 1, 'scale': 1, 'replac': 1, 'exist': 1, 'ipv4': 2, 'billion': 3, 'gradual': 1, 'actual': 1, 'limit': 2, 'four': 1, 'clearli': 1, 'enough': 1, 'peopl': 5, 'serv': 1, 'technic': 2, 'solut': 2, 'version': 1, 'much': 1, 'space': 1, 'possibl': 1, 'practic': 1, 'vital': 1, 'someth': 2, 'complex': 1, 'differ': 3, 'averag': 1, 'user': 1, 'almost': 1, 'invis': 2, 'first': 1, 'goal': 1, 'notic': 1, 'london': 1, 'telephon': 1, 'get': 2, 'long': 1, 'process': 1, 'usual': 1, 'without': 1, 'know': 1, 'deploy': 1, 'settl': 1, 'one': 1, 'problem': 1, 'may': 1, 'never': 2, 'disappear': 1, 'complet': 1, 'secur': 4, 'come': 1, 'human': 1, 'behaviour': 2, 'educ': 1, 'sensibl': 1, 'ignor': 1, 'e': 1, 'mail': 1, 'claim': 1, 'go': 1, 'bad': 1, 'remain': 1, 'concern': 2, 'probabl': 1, 'would': 1, 'walk': 1, 'along': 1, 'dark': 1, 'street': 1, 'battl': 1, 'add': 1, 'even': 1, 'improv': 1, 'still': 1, 'worri': 1, 'unfortun': 1, 'part': 1, 'life': 1, 'duti': 1}, '1987.txt': {'real': 2, 'danger': 4, 'happen': 2, 'data': 3, 'cross': 1, 'net': 2, 'argu': 1, 'analyst': 1, 'bill': 3, 'thompson': 2, 'arriv': 2, 'end': 1, 'financi': 4, 'servic': 2, 'author': 2, 'warn': 2, 'bank': 12, 'institut': 2, 'member': 1, 'crimin': 2, 'gang': 2, 'may': 2, 'appli': 1, 'job': 2, 'give': 1, 'access': 4, 'confidenti': 1, 'custom': 4, 'datum': 5, 'fear': 1, 'steal': 3, 'money': 2, 'account': 9, 'instead': 1, 'someth': 2, 'far': 2, 'valuabl': 1, 'digit': 2, 'societi': 1, 'identiti': 1, 'arm': 1, 'person': 5, 'detail': 5, 'hold': 1, 'plu': 1, 'fake': 1, 'letter': 1, 'two': 2, 'appar': 1, 'easi': 1, 'get': 3, 'loan': 1, 'open': 2, 'overdraft': 1, 'credit': 3, 'card': 6, 'someon': 1, 'els': 1, 'name': 2, 'simpl': 2, 'matter': 1, 'move': 3, 'anoth': 1, 'leav': 4, 'unwitt': 1, 'victim': 1, 'sort': 4, 'mess': 1, 'statement': 3, 'demand': 1, 'payment': 2, 'start': 1, 'ident': 4, 'theft': 4, 'increasingli': 1, 'signific': 1, 'econom': 1, 'crime': 1, 'becom': 2, 'awar': 2, 'receipt': 1, 'unshred': 1, 'rubbish': 1, 'howev': 2, 'care': 3, 'organis': 2, 'trust': 1, 'abl': 1, 'look': 2, 'databas': 2, 'properli': 1, 'troubl': 1, 'surpris': 1, 'take': 3, 'long': 2, 'realis': 1, 'well': 2, 'place': 1, 'insid': 1, 'way': 2, 'break': 2, 'secur': 5, 'comput': 1, 'system': 5, 'fact': 2, 'suspect': 1, 'fsa': 1, 'probabl': 1, 'late': 1, 'particular': 1, 'parti': 1, 'thing': 1, 'go': 3, 'rather': 1, 'time': 1, 'anyon': 3, 'check': 1, 'bob': 1, 'cratchit': 1, 'famili': 1, 'link': 1, 'underworld': 1, 'wonder': 1, 'hardli': 1, 'like': 5, 'target': 1, 'health': 1, 'govern': 1, 'agenc': 1, 'cours': 2, 'big': 1, 'e': 4, 'commerc': 2, 'site': 1, 'amazon': 1, 'must': 2, 'also': 1, 'offer': 1, 'rich': 2, 'pick': 1, 'fraudster': 1, 'good': 3, 'news': 1, 'audit': 1, 'catch': 1, 'suppos': 1, 'unexpect': 1, 'transact': 1, 'enough': 1, 'record': 1, 'log': 1, 'trace': 1, 'peopl': 1, 'might': 1, 'fortun': 1, 'keep': 1, 'involv': 1, 'portabl': 1, 'hard': 1, 'drive': 1, 'flash': 1, 'memori': 2, 'offic': 2, 'plug': 1, 'usb': 2, 'slot': 1, 'suck': 1, 'file': 1, 'compani': 3, 'securewav': 1, 'exampl': 1, 'restrict': 1, 'use': 1, 'port': 1, 'authoris': 1, 'devic': 1, 'even': 2, 'individu': 1, 'solut': 1, 'perfect': 1, 'feel': 3, 'wave': 2, 'fraud': 3, 'wash': 1, 'away': 1, 'entir': 1, 'highlight': 1, 'one': 2, 'major': 1, 'issu': 2, 'onlin': 3, 'trade': 1, 'otherwis': 1, 'server': 1, 'make': 4, 'back': 1, 'clear': 1, 'year': 1, 'pay': 1, 'number': 1, 'intercept': 2, 'transit': 1, 'shop': 1, 'deal': 1, 'hack': 1, 'know': 2, 'singl': 1, 'case': 1, 'mail': 2, 'contain': 1, 'lead': 1, 'simpli': 1, 'mani': 3, 'pass': 1, 'sensibl': 1, 'tool': 1, 'commit': 1, 'cd': 1, 'univers': 1, 'powergen': 1, 'suffer': 2, 'consequ': 2, 'last': 1, 'week': 1, 'cahoot': 2, 'admit': 1, 'could': 2, 'read': 1, 'guess': 1, 'login': 1, 'whether': 1, 'extern': 1, 'hacker': 1, 'poor': 1, 'intern': 2, 'staff': 1, 'abus': 2, 'part': 1, 'sure': 1, 'process': 3, 'bind': 1, 'protect': 2, 'act': 2, 'proper': 1, 'unauthoris': 1, 'disclosur': 1, 'allow': 1, 'penalti': 1, 'small': 1, 'prosecut': 1, 'convolut': 1, 'worthless': 1, 'practic': 3, 'market': 2, 'seriou': 1, 'respond': 1, 'slowli': 1, 'would': 2, 'much': 1, 'hassl': 1, 'consid': 1, 'hear': 1, 'problem': 1, 'doubt': 1, 'other': 1, 'close': 1, 'especi': 1, 'littl': 1, 'guarante': 1, 'mistak': 1, 'futur': 1, 'option': 1, 'seem': 2, 'stringent': 1, 'law': 1, 'realli': 1, 'pressur': 1, 'improv': 1, 'civil': 1, 'lawsuit': 1, 'sloppi': 1, 'whose': 1, 'never': 1, 'comfort': 1, 'us': 1, 'sue': 1, 'everyth': 1, 'partli': 1, 'lawyer': 1, 'client': 1, 'prefer': 1, 'regular': 1, 'comment': 1, 'bbc': 1, 'world': 1, 'programm': 1}}\n"
          ]
        }
      ],
      "source": [
        "from collections import Counter\n",
        "\n",
        "def get_frequency(df):\n",
        "    frequency = {}\n",
        "    for index, row in df.iterrows():\n",
        "        filename = row['filename']\n",
        "        word_counts = dict(Counter(row['content'].split()))\n",
        "        if filename not in frequency:\n",
        "          frequency[filename] = word_counts\n",
        "    return frequency\n",
        "\n",
        "\n",
        "\n",
        "frequency = get_frequency(df)\n",
        "print(frequency)\n"
      ]
    },
    {
      "cell_type": "code",
      "execution_count": 21,
      "metadata": {
        "colab": {
          "base_uri": "https://localhost:8080/",
          "height": 53
        },
        "id": "KFz9rdOBNM18",
        "outputId": "bfcde635-4d42-40d7-aa38-ea2bf784dbaa"
      },
      "outputs": [
        {
          "output_type": "execute_result",
          "data": {
            "text/plain": [
              "Empty DataFrame\n",
              "Columns: [genre, filename, title, content]\n",
              "Index: []"
            ],
            "text/html": [
              "\n",
              "  <div id=\"df-36b0a411-1a4f-470b-b3ae-0c2f447515cf\" class=\"colab-df-container\">\n",
              "    <div>\n",
              "<style scoped>\n",
              "    .dataframe tbody tr th:only-of-type {\n",
              "        vertical-align: middle;\n",
              "    }\n",
              "\n",
              "    .dataframe tbody tr th {\n",
              "        vertical-align: top;\n",
              "    }\n",
              "\n",
              "    .dataframe thead th {\n",
              "        text-align: right;\n",
              "    }\n",
              "</style>\n",
              "<table border=\"1\" class=\"dataframe\">\n",
              "  <thead>\n",
              "    <tr style=\"text-align: right;\">\n",
              "      <th></th>\n",
              "      <th>genre</th>\n",
              "      <th>filename</th>\n",
              "      <th>title</th>\n",
              "      <th>content</th>\n",
              "    </tr>\n",
              "  </thead>\n",
              "  <tbody>\n",
              "  </tbody>\n",
              "</table>\n",
              "</div>\n",
              "    <div class=\"colab-df-buttons\">\n",
              "\n",
              "  <div class=\"colab-df-container\">\n",
              "    <button class=\"colab-df-convert\" onclick=\"convertToInteractive('df-36b0a411-1a4f-470b-b3ae-0c2f447515cf')\"\n",
              "            title=\"Convert this dataframe to an interactive table.\"\n",
              "            style=\"display:none;\">\n",
              "\n",
              "  <svg xmlns=\"http://www.w3.org/2000/svg\" height=\"24px\" viewBox=\"0 -960 960 960\">\n",
              "    <path d=\"M120-120v-720h720v720H120Zm60-500h600v-160H180v160Zm220 220h160v-160H400v160Zm0 220h160v-160H400v160ZM180-400h160v-160H180v160Zm440 0h160v-160H620v160ZM180-180h160v-160H180v160Zm440 0h160v-160H620v160Z\"/>\n",
              "  </svg>\n",
              "    </button>\n",
              "\n",
              "  <style>\n",
              "    .colab-df-container {\n",
              "      display:flex;\n",
              "      gap: 12px;\n",
              "    }\n",
              "\n",
              "    .colab-df-convert {\n",
              "      background-color: #E8F0FE;\n",
              "      border: none;\n",
              "      border-radius: 50%;\n",
              "      cursor: pointer;\n",
              "      display: none;\n",
              "      fill: #1967D2;\n",
              "      height: 32px;\n",
              "      padding: 0 0 0 0;\n",
              "      width: 32px;\n",
              "    }\n",
              "\n",
              "    .colab-df-convert:hover {\n",
              "      background-color: #E2EBFA;\n",
              "      box-shadow: 0px 1px 2px rgba(60, 64, 67, 0.3), 0px 1px 3px 1px rgba(60, 64, 67, 0.15);\n",
              "      fill: #174EA6;\n",
              "    }\n",
              "\n",
              "    .colab-df-buttons div {\n",
              "      margin-bottom: 4px;\n",
              "    }\n",
              "\n",
              "    [theme=dark] .colab-df-convert {\n",
              "      background-color: #3B4455;\n",
              "      fill: #D2E3FC;\n",
              "    }\n",
              "\n",
              "    [theme=dark] .colab-df-convert:hover {\n",
              "      background-color: #434B5C;\n",
              "      box-shadow: 0px 1px 3px 1px rgba(0, 0, 0, 0.15);\n",
              "      filter: drop-shadow(0px 1px 2px rgba(0, 0, 0, 0.3));\n",
              "      fill: #FFFFFF;\n",
              "    }\n",
              "  </style>\n",
              "\n",
              "    <script>\n",
              "      const buttonEl =\n",
              "        document.querySelector('#df-36b0a411-1a4f-470b-b3ae-0c2f447515cf button.colab-df-convert');\n",
              "      buttonEl.style.display =\n",
              "        google.colab.kernel.accessAllowed ? 'block' : 'none';\n",
              "\n",
              "      async function convertToInteractive(key) {\n",
              "        const element = document.querySelector('#df-36b0a411-1a4f-470b-b3ae-0c2f447515cf');\n",
              "        const dataTable =\n",
              "          await google.colab.kernel.invokeFunction('convertToInteractive',\n",
              "                                                    [key], {});\n",
              "        if (!dataTable) return;\n",
              "\n",
              "        const docLinkHtml = 'Like what you see? Visit the ' +\n",
              "          '<a target=\"_blank\" href=https://colab.research.google.com/notebooks/data_table.ipynb>data table notebook</a>'\n",
              "          + ' to learn more about interactive tables.';\n",
              "        element.innerHTML = '';\n",
              "        dataTable['output_type'] = 'display_data';\n",
              "        await google.colab.output.renderOutput(dataTable, element);\n",
              "        const docLink = document.createElement('div');\n",
              "        docLink.innerHTML = docLinkHtml;\n",
              "        element.appendChild(docLink);\n",
              "      }\n",
              "    </script>\n",
              "  </div>\n",
              "\n",
              "    </div>\n",
              "  </div>\n"
            ],
            "application/vnd.google.colaboratory.intrinsic+json": {
              "type": "dataframe",
              "repr_error": "Out of range float values are not JSON compliant: nan"
            }
          },
          "metadata": {},
          "execution_count": 21
        }
      ],
      "source": [
        "df[df['filename']=='253.txt']"
      ]
    },
    {
      "cell_type": "markdown",
      "metadata": {
        "id": "LlTi_s2pDwYF"
      },
      "source": [
        "# Word Index by documents\n",
        "\n",
        "\n",
        "\n"
      ]
    },
    {
      "cell_type": "code",
      "execution_count": 22,
      "metadata": {
        "colab": {
          "base_uri": "https://localhost:8080/"
        },
        "id": "ESeOMvwxzyQP",
        "outputId": "c58c7013-7550-430f-9e0e-be3a4b9747d7"
      },
      "outputs": [
        {
          "output_type": "stream",
          "name": "stdout",
          "text": [
            "{'us': {'487.txt': 3, '398.txt': 1, '1641.txt': 1, '1786.txt': 1, '1495.txt': 1, '1928.txt': 1, '1987.txt': 1}, 'budget': {'487.txt': 6}, 'deficit': {'487.txt': 8}, 'set': {'487.txt': 1, '1641.txt': 1, '1768.txt': 1, '1373.txt': 5}, 'hit': {'487.txt': 2, '398.txt': 1, '1641.txt': 1, '1539.txt': 1, '2025.txt': 1}, 'bad': {'487.txt': 1, '726.txt': 2, '1373.txt': 1, '1466.txt': 2, '2189.txt': 1}, 'expect': {'487.txt': 1, '776.txt': 1, '1495.txt': 1}, '368bn': {'487.txt': 1}, '197bn': {'487.txt': 1}, 'year': {'487.txt': 6, '398.txt': 3, '726.txt': 1, '776.txt': 5, '1641.txt': 2, '1786.txt': 1, '1495.txt': 2, '1659.txt': 1, '1584.txt': 1, '1539.txt': 2, '1768.txt': 1, '1373.txt': 3, '1466.txt': 1, '2025.txt': 2, '1928.txt': 3, '1840.txt': 3, '2189.txt': 4, '1987.txt': 1}, 'offici': {'487.txt': 1, '1928.txt': 1}, 'say': {'487.txt': 5, '472.txt': 1, '398.txt': 8, '726.txt': 1, '776.txt': 2, '1168.txt': 8, '978.txt': 6, '1641.txt': 2, '1786.txt': 4, '1821.txt': 3, '1495.txt': 1, '1659.txt': 1, '1584.txt': 2, '1539.txt': 4, '1617.txt': 2, '1768.txt': 2, '1466.txt': 2, '2025.txt': 8, '1928.txt': 5, '1840.txt': 10, '2029.txt': 10, '2189.txt': 6}, 'tuesday': {'487.txt': 2, '472.txt': 1, '1584.txt': 1, '1539.txt': 1, '1373.txt': 1}, 'cost': {'487.txt': 4, '2025.txt': 1, '1928.txt': 1, '1840.txt': 1, '2189.txt': 1}, 'militari': {'487.txt': 4}, 'oper': {'487.txt': 3, '1840.txt': 2, '2189.txt': 1}, 'still': {'487.txt': 1, '1641.txt': 1, '1786.txt': 1, '1584.txt': 1, '2189.txt': 1}, 'need': {'487.txt': 1, '1168.txt': 2, '978.txt': 1, '1659.txt': 1, '1539.txt': 1, '2025.txt': 1, '1928.txt': 1, '1840.txt': 2, '2189.txt': 1}, 'factor': {'487.txt': 1}, 'analyst': {'487.txt': 2, '398.txt': 4, '2029.txt': 1, '1987.txt': 1}, 'could': {'487.txt': 2, '726.txt': 1, '1584.txt': 1, '1539.txt': 1, '1617.txt': 1, '1669.txt': 1, '1373.txt': 1, '1466.txt': 1, '2025.txt': 2, '1928.txt': 4, '1840.txt': 1, '1987.txt': 2}, 'end': {'487.txt': 1, '1786.txt': 1, '1840.txt': 1, '2029.txt': 1, '2189.txt': 3, '1987.txt': 1}, '100bn': {'487.txt': 1}, 'red': {'487.txt': 1}, 'past': {'487.txt': 1}, 'congression': {'487.txt': 1}, 'offic': {'487.txt': 1, '1168.txt': 1, '1987.txt': 2}, 'cbo': {'487.txt': 3}, 'forecast': {'487.txt': 2, '398.txt': 1}, 'would': {'487.txt': 1, '398.txt': 2, '776.txt': 1, '1168.txt': 1, '978.txt': 3, '1641.txt': 1, '1584.txt': 1, '1539.txt': 1, '2025.txt': 3, '1928.txt': 1, '1840.txt': 1, '2029.txt': 3, '2189.txt': 1, '1987.txt': 2}, '348bn': {'487.txt': 1}, 'shortfal': {'487.txt': 2}, '2005': {'487.txt': 1, '776.txt': 1}, 'fiscal': {'487.txt': 3}, 'recent': {'487.txt': 1, '398.txt': 2, '978.txt': 1}, 'month': {'487.txt': 2, '398.txt': 1, '776.txt': 1, '1641.txt': 1, '1373.txt': 2, '2029.txt': 2}, 'dollar': {'487.txt': 2}, 'weaken': {'487.txt': 1}, 'amid': {'487.txt': 1}, 'market': {'487.txt': 1, '1987.txt': 2}, 'jitter': {'487.txt': 1}, 'size': {'487.txt': 2}, 'trade': {'487.txt': 1, '1987.txt': 1}, 'novemb': {'487.txt': 1, '1928.txt': 1}, 'gap': {'487.txt': 1, '2189.txt': 1}, 'export': {'487.txt': 2, '1928.txt': 1}, 'import': {'487.txt': 1, '398.txt': 2, '726.txt': 2, '1786.txt': 1, '1495.txt': 1, '1617.txt': 1, '2025.txt': 1, '1928.txt': 1, '1840.txt': 1, '2189.txt': 1}, 'widen': {'487.txt': 1}, '60bn': {'487.txt': 1}, 'record': {'487.txt': 2, '776.txt': 1, '1373.txt': 1, '2025.txt': 1, '1928.txt': 1, '1987.txt': 1}, 'figur': {'487.txt': 3, '2189.txt': 1}, 'envisag': {'487.txt': 1}, 'orderli': {'487.txt': 1}, 'declin': {'487.txt': 2, '398.txt': 1}, 'greenback': {'487.txt': 1}, 'next': {'487.txt': 1, '1641.txt': 1, '1659.txt': 1, '1539.txt': 1, '1669.txt': 1, '1373.txt': 2, '2189.txt': 3}, 'two': {'487.txt': 1, '776.txt': 1, '1786.txt': 4, '1821.txt': 2, '1495.txt': 1, '1659.txt': 2, '1818.txt': 1, '1539.txt': 1, '1373.txt': 2, '1840.txt': 1, '2029.txt': 1, '1987.txt': 2}, 'twin': {'487.txt': 1, '726.txt': 1}, 'drive': {'487.txt': 1, '398.txt': 1, '978.txt': 1, '1641.txt': 1, '1987.txt': 1}, 'investor': {'487.txt': 1, '472.txt': 1, '398.txt': 1}, 'away': {'487.txt': 1, '978.txt': 1, '1659.txt': 1, '1987.txt': 1}, 'non': {'487.txt': 1}, 'partisan': {'487.txt': 1}, 'watchdog': {'487.txt': 1}, 'note': {'487.txt': 1}, 'help': {'487.txt': 1, '398.txt': 1, '1641.txt': 1, '1466.txt': 1, '1928.txt': 1, '1840.txt': 1, '2189.txt': 1}, 'boost': {'487.txt': 1, '978.txt': 1, '1539.txt': 1, '1840.txt': 1}, 'we': {'487.txt': 1, '398.txt': 2, '726.txt': 1, '1641.txt': 3}, 'econom': {'487.txt': 2, '1987.txt': 1}, 'growth': {'487.txt': 1, '2189.txt': 5}, '412bn': {'487.txt': 1}, '12': {'487.txt': 1, '726.txt': 1}, '30': {'487.txt': 1, '1539.txt': 1}, 'septemb': {'487.txt': 2, '1786.txt': 1}, '2004': {'487.txt': 1, '472.txt': 1, '1466.txt': 1, '2189.txt': 1}, 'reach': {'487.txt': 1, '1373.txt': 1, '1840.txt': 1, '2029.txt': 2, '2189.txt': 3}, '377bn': {'487.txt': 1}, 'previou': {'487.txt': 3, '1928.txt': 1}, 'also': {'487.txt': 2, '472.txt': 1, '398.txt': 1, '776.txt': 2, '1168.txt': 2, '978.txt': 2, '1641.txt': 1, '1786.txt': 1, '1584.txt': 1, '1818.txt': 1, '1617.txt': 1, '2025.txt': 2, '1928.txt': 1, '2189.txt': 1, '1987.txt': 1}, 'total': {'487.txt': 1, '398.txt': 1, '1928.txt': 1}, '855bn': {'487.txt': 1}, '2006': {'487.txt': 1}, '2015': {'487.txt': 1}, 'improv': {'487.txt': 1, '1617.txt': 1, '2189.txt': 1, '1987.txt': 1}, 'project': {'487.txt': 1, '1928.txt': 2}, 'howev': {'487.txt': 1, '398.txt': 1, '776.txt': 2, '2029.txt': 1, '1987.txt': 2}, 'new': {'487.txt': 1, '472.txt': 1, '398.txt': 1, '1641.txt': 3, '1786.txt': 1, '1539.txt': 1, '1373.txt': 1, '1840.txt': 3, '2189.txt': 3}, 'fail': {'487.txt': 1, '1786.txt': 1, '1539.txt': 1, '1373.txt': 1}, 'take': {'487.txt': 1, '776.txt': 1, '1168.txt': 1, '1786.txt': 1, '1821.txt': 1, '1818.txt': 1, '1539.txt': 1, '1669.txt': 1, '1373.txt': 2, '2025.txt': 1, '1840.txt': 2, '2029.txt': 1, '2189.txt': 2, '1987.txt': 3}, 'account': {'487.txt': 1, '1987.txt': 9}, 'potenti': {'487.txt': 1, '1641.txt': 1, '1928.txt': 1, '1840.txt': 1}, '2': {'487.txt': 1, '472.txt': 1, '398.txt': 1, '1786.txt': 3, '1821.txt': 3, '1818.txt': 1, '1768.txt': 1, '1373.txt': 2}, '3': {'487.txt': 1, '1821.txt': 3, '1584.txt': 1, '1818.txt': 1, '1768.txt': 1, '1373.txt': 2, '1928.txt': 1}, '8': {'487.txt': 1, '472.txt': 1, '1821.txt': 1}, 'trillion': {'487.txt': 1}, 'presid': {'487.txt': 3, '398.txt': 2, '2029.txt': 1}, 'plan': {'487.txt': 1, '472.txt': 1, '398.txt': 1, '1168.txt': 1, '1821.txt': 1, '1617.txt': 1, '2025.txt': 1}, 'revamp': {'487.txt': 1}, 'state': {'487.txt': 1, '398.txt': 3, '1168.txt': 1, '2025.txt': 1, '1928.txt': 1}, 'pension': {'487.txt': 1}, 'extend': {'487.txt': 1}, 'tax': {'487.txt': 1, '398.txt': 2}, 'cut': {'487.txt': 1}, 'worsen': {'487.txt': 1}, 'republican': {'487.txt': 1}, 'blame': {'487.txt': 1, '1539.txt': 1, '2029.txt': 1}, 'slow': {'487.txt': 1}, 'condit': {'487.txt': 1}, '11': {'487.txt': 1, '1928.txt': 1}, 'attack': {'487.txt': 1, '1495.txt': 1, '1617.txt': 1, '1373.txt': 1}, 'ongo': {'487.txt': 1}, 'iraq': {'487.txt': 2}, 'afghanistan': {'487.txt': 1}, 'one': {'487.txt': 1, '398.txt': 1, '776.txt': 1, '1641.txt': 1, '1786.txt': 3, '1659.txt': 1, '1818.txt': 1, '1539.txt': 3, '1373.txt': 5, '2025.txt': 1, '1840.txt': 4, '2029.txt': 1, '2189.txt': 1, '1987.txt': 2}, 'georg': {'487.txt': 1, '1641.txt': 1, '2029.txt': 1}, 'w': {'487.txt': 1, '2029.txt': 1}, 'bush': {'487.txt': 1, '2029.txt': 1}, 'elect': {'487.txt': 1, '1168.txt': 1, '978.txt': 1}, 'pledg': {'487.txt': 1, '1584.txt': 1, '1539.txt': 1}, 'halv': {'487.txt': 1}, 'within': {'487.txt': 1, '398.txt': 1}, 'five': {'487.txt': 1, '776.txt': 1, '1786.txt': 1, '1495.txt': 1, '1818.txt': 1, '1768.txt': 1, '1373.txt': 1}, 'democrat': {'487.txt': 1}, 'accus': {'487.txt': 1}, 'exclud': {'487.txt': 1}, 'relat': {'487.txt': 1}, 'meet': {'487.txt': 1, '472.txt': 1, '1641.txt': 1, '1821.txt': 1, '1617.txt': 1, '1373.txt': 1}, 'aim': {'487.txt': 1, '1373.txt': 1, '2025.txt': 2, '1928.txt': 2}, 'reduc': {'487.txt': 1, '398.txt': 1}, 'charg': {'487.txt': 1, '398.txt': 1}, 'administr': {'487.txt': 2}, 'deni': {'487.txt': 1}, 'ask': {'487.txt': 1, '978.txt': 1}, 'congress': {'487.txt': 1}, 'addit': {'487.txt': 1, '2025.txt': 1}, 'fund': {'487.txt': 1, '1928.txt': 1}, 'nigerian': {'472.txt': 3}, 'bank': {'472.txt': 9, '1987.txt': 12}, 'unit': {'472.txt': 4, '398.txt': 2, '1466.txt': 1}, 'africa': {'472.txt': 2}, 'standard': {'472.txt': 6, '1373.txt': 2, '1466.txt': 1, '2189.txt': 11}, 'trust': {'472.txt': 6, '1987.txt': 1}, 'agre': {'472.txt': 1}, 'merg': {'472.txt': 2}, 'creat': {'472.txt': 1}, 'big': {'472.txt': 2, '398.txt': 2, '776.txt': 2, '1641.txt': 2, '1786.txt': 1, '1821.txt': 1, '1495.txt': 2, '1539.txt': 3, '2029.txt': 3, '2189.txt': 2, '1987.txt': 1}, 'west': {'472.txt': 1, '2029.txt': 1}, 'deal': {'472.txt': 1, '1584.txt': 1, '1539.txt': 1, '1669.txt': 1, '1987.txt': 1}, 'line': {'472.txt': 1, '776.txt': 2, '1641.txt': 2, '1539.txt': 1, '1840.txt': 1, '2189.txt': 1}, 'direct': {'472.txt': 1, '2029.txt': 1}, 'central': {'472.txt': 1, '978.txt': 1}, 'call': {'472.txt': 1, '1168.txt': 1, '1641.txt': 2, '1373.txt': 1, '2189.txt': 2}, 'consolid': {'472.txt': 1, '2189.txt': 1}, 'nation': {'472.txt': 1, '398.txt': 1, '1641.txt': 1, '1659.txt': 1, '1617.txt': 1, '1669.txt': 1, '1373.txt': 1, '1928.txt': 1, '1840.txt': 3}, 'crowd': {'472.txt': 1}, 'sector': {'472.txt': 1}, 'merger': {'472.txt': 1}, 'announc': {'472.txt': 1, '776.txt': 1, '1641.txt': 1}, 'statement': {'472.txt': 1, '1466.txt': 1, '2025.txt': 2, '1928.txt': 1, '2029.txt': 2, '1987.txt': 3}, 'websit': {'472.txt': 1, '2025.txt': 2, '2029.txt': 3}, 'financi': {'472.txt': 1, '1987.txt': 4}, 'detail': {'472.txt': 1, '1987.txt': 5}, 'reveal': {'472.txt': 1, '776.txt': 1, '1840.txt': 2}, 'third': {'472.txt': 1, '1818.txt': 1, '1373.txt': 2, '1840.txt': 2, '2029.txt': 1}, 'nigeria': {'472.txt': 1}, 'term': {'472.txt': 1}, 'number': {'472.txt': 1, '1786.txt': 3, '1818.txt': 2, '1373.txt': 3, '2189.txt': 3, '1987.txt': 1}, 'branch': {'472.txt': 1, '978.txt': 1}, 'small': {'472.txt': 1, '2025.txt': 2, '2029.txt': 1, '1987.txt': 1}, 'profit': {'472.txt': 1}, 'board': {'472.txt': 1}, 'separ': {'472.txt': 1}, 'yesterday': {'472.txt': 1}, 'approv': {'472.txt': 1, '1669.txt': 1}, 'arrang': {'472.txt': 1}, 'institut': {'472.txt': 1, '1168.txt': 2, '1987.txt': 2}, '100': {'472.txt': 1, '1786.txt': 1, '1495.txt': 1}, 'own': {'472.txt': 1, '398.txt': 3}, 'foreign': {'472.txt': 1}, 'includ': {'472.txt': 1, '398.txt': 1, '1641.txt': 1, '2025.txt': 1, '2029.txt': 2}, 'york': {'472.txt': 1, '978.txt': 1}, 'base': {'472.txt': 1, '1928.txt': 1}, 'global': {'472.txt': 1}, 'depositori': {'472.txt': 1}, 'receipt': {'472.txt': 1, '1987.txt': 1}, '32': {'472.txt': 1}, 'banca': {'472.txt': 1}, 'nazional': {'472.txt': 1}, 'del': {'472.txt': 2}, 'lavoro': {'472.txt': 1}, 'mont': {'472.txt': 1}, 'paschi': {'472.txt': 1}, 'di': {'472.txt': 1}, 'siena': {'472.txt': 1}, 'itali': {'472.txt': 1, '398.txt': 1, '1659.txt': 1, '1617.txt': 2}, '4': {'472.txt': 1, '398.txt': 1, '1786.txt': 2, '1821.txt': 1, '1818.txt': 1}, 'stake': {'472.txt': 1}, 'india': {'398.txt': 7}, 'oil': {'398.txt': 15}, 'explor': {'398.txt': 1}, 'firm': {'398.txt': 3, '1840.txt': 1, '2029.txt': 2}, 'natur': {'398.txt': 1}, 'ga': {'398.txt': 1}, 'corp': {'398.txt': 1}, 'ongc': {'398.txt': 8}, 'talk': {'398.txt': 1, '1641.txt': 1, '1466.txt': 1, '2189.txt': 1}, 'buy': {'398.txt': 4, '1584.txt': 1, '1840.txt': 1, '2029.txt': 1}, 'former': {'398.txt': 2, '1168.txt': 1, '978.txt': 1, '1641.txt': 1, '1495.txt': 1, '1659.txt': 2, '1539.txt': 1, '1669.txt': 2}, 'asset': {'398.txt': 4}, 'troubl': {'398.txt': 1, '1987.txt': 1}, 'russian': {'398.txt': 5, '1786.txt': 2, '1768.txt': 1}, 'crude': {'398.txt': 3}, 'produc': {'398.txt': 4, '1617.txt': 1, '1373.txt': 1, '2189.txt': 1}, 'yuko': {'398.txt': 8}, 'touch': {'398.txt': 1, '1840.txt': 2}, 'concern': {'398.txt': 1, '2025.txt': 1, '2189.txt': 2}, 'entiti': {'398.txt': 1}, 'opportuniti': {'398.txt': 1}, 'russia': {'398.txt': 4, '1786.txt': 1}, 'chairman': {'398.txt': 1}, 'subir': {'398.txt': 1}, 'raha': {'398.txt': 1}, 'local': {'398.txt': 1}, 'press': {'398.txt': 1}, 'report': {'398.txt': 1, '1641.txt': 1, '1584.txt': 3, '1466.txt': 2, '1928.txt': 1, '1840.txt': 4}, 'look': {'398.txt': 2, '1659.txt': 1, '1584.txt': 1, '1539.txt': 1, '2025.txt': 1, '1928.txt': 2, '1840.txt': 1, '2029.txt': 1, '1987.txt': 2}, '15': {'398.txt': 1, '1373.txt': 1, '1840.txt': 2}, 'key': {'398.txt': 2, '1659.txt': 1, '1928.txt': 1}, 'product': {'398.txt': 5}, '2bn': {'398.txt': 1}, '1bn': {'398.txt': 1}, 'break': {'398.txt': 1, '1786.txt': 1, '1768.txt': 1, '1987.txt': 2}, 'author': {'398.txt': 2, '1168.txt': 1, '1840.txt': 1, '1987.txt': 2}, 'pay': {'398.txt': 1, '1840.txt': 1, '2029.txt': 2, '1987.txt': 1}, 'massiv': {'398.txt': 1}, 'bill': {'398.txt': 2, '776.txt': 1, '1168.txt': 4, '1987.txt': 3}, 'forc': {'398.txt': 1, '1818.txt': 1, '2189.txt': 1}, 'sell': {'398.txt': 1, '776.txt': 6, '1584.txt': 1}, 'yuganskneftega': {'398.txt': 1}, 'yugansk': {'398.txt': 5}, 'last': {'398.txt': 2, '776.txt': 3, '1168.txt': 1, '978.txt': 1, '1641.txt': 1, '1786.txt': 1, '1495.txt': 3, '1659.txt': 2, '1584.txt': 1, '1539.txt': 1, '1373.txt': 3, '2029.txt': 2, '2189.txt': 2, '1987.txt': 1}, '27bn': {'398.txt': 1}, 'unpaid': {'398.txt': 1}, 'taxi': {'398.txt': 1}, 'fine': {'398.txt': 1}, 'rosneft': {'398.txt': 2}, 'turn': {'398.txt': 1, '1584.txt': 2}, 'stand': {'398.txt': 1, '978.txt': 2, '1539.txt': 1, '1669.txt': 1}, 'alon': {'398.txt': 1}, 'indian': {'398.txt': 3}, 'minist': {'398.txt': 1, '1168.txt': 7, '978.txt': 2}, 'mani': {'398.txt': 1, '1641.txt': 1, '1539.txt': 1, '1840.txt': 1, '2029.txt': 1, '1987.txt': 3}, 'shankar': {'398.txt': 1}, 'aiyar': {'398.txt': 2}, 'discuss': {'398.txt': 1}, 'trip': {'398.txt': 1, '2025.txt': 1}, 'moscow': {'398.txt': 1}, 'topic': {'398.txt': 1}, 'come': {'398.txt': 1, '726.txt': 2, '1641.txt': 2, '1786.txt': 1, '1821.txt': 1, '1373.txt': 2, '2025.txt': 2, '2029.txt': 1, '2189.txt': 1}, 'vladimir': {'398.txt': 1}, 'putin': {'398.txt': 2}, 'visit': {'398.txt': 1, '1928.txt': 2}, 'delhi': {'398.txt': 1}, 'make': {'398.txt': 1, '726.txt': 1, '776.txt': 1, '1641.txt': 2, '1786.txt': 1, '1821.txt': 1, '1818.txt': 1, '1539.txt': 3, '1928.txt': 2, '1840.txt': 2, '2029.txt': 1, '2189.txt': 8, '1987.txt': 4}, 'great': {'398.txt': 1, '776.txt': 1, '1168.txt': 1, '1641.txt': 2, '1786.txt': 2, '1659.txt': 1, '1539.txt': 1, '1617.txt': 1, '1768.txt': 1}, 'sens': {'398.txt': 1, '2189.txt': 2}, 'build': {'398.txt': 1, '1617.txt': 1, '1928.txt': 1, '2189.txt': 1}, 'mr': {'398.txt': 3, '776.txt': 1, '1168.txt': 3, '978.txt': 7, '2025.txt': 5, '1840.txt': 5, '2029.txt': 1}, 'stagnat': {'398.txt': 1}, 'abroad': {'398.txt': 1}, 'secur': {'398.txt': 1, '1928.txt': 2, '2189.txt': 4, '1987.txt': 5}, 'futur': {'398.txt': 1, '1584.txt': 1, '1840.txt': 3, '1987.txt': 1}, 'suppli': {'398.txt': 1}, '70': {'398.txt': 1}, 'consumpt': {'398.txt': 2}, 'time': {'398.txt': 1, '726.txt': 3, '776.txt': 1, '1168.txt': 1, '1641.txt': 1, '1786.txt': 1, '1821.txt': 1, '1495.txt': 2, '1659.txt': 1, '1539.txt': 1, '1768.txt': 1, '1373.txt': 3, '1840.txt': 1, '2029.txt': 2, '1987.txt': 1}, 'economi': {'398.txt': 2, '2189.txt': 1}, 'boom': {'398.txt': 1}, 'countri': {'398.txt': 3, '726.txt': 1, '1641.txt': 1, '1373.txt': 1, '1928.txt': 1, '1840.txt': 2}, 'thirst': {'398.txt': 1}, 'strong': {'398.txt': 1, '1495.txt': 2, '1539.txt': 1, '1840.txt': 1}, 'push': {'398.txt': 1, '1641.txt': 1, '1617.txt': 1}, 'price': {'398.txt': 1, '1840.txt': 1}, 'worldwid': {'398.txt': 1, '1928.txt': 2}, '793': {'398.txt': 1}, '000': {'398.txt': 2, '776.txt': 1, '1768.txt': 1, '1669.txt': 1, '1373.txt': 1, '2025.txt': 1, '1928.txt': 1, '1840.txt': 1}, 'barrel': {'398.txt': 1}, 'per': {'398.txt': 1}, 'day': {'398.txt': 1, '776.txt': 5, '1786.txt': 1, '1818.txt': 1, '1617.txt': 1, '1669.txt': 1, '2029.txt': 1}, 'bpd': {'398.txt': 3}, 'littl': {'398.txt': 2, '1786.txt': 1, '1466.txt': 1, '2025.txt': 1, '2189.txt': 1, '1987.txt': 1}, 'chang': {'398.txt': 1, '1168.txt': 1, '1641.txt': 1, '1495.txt': 1}, 'sinc': {'398.txt': 1, '1641.txt': 1, '1786.txt': 1, '1659.txt': 1, '1466.txt': 1, '2029.txt': 2}, 'start': {'398.txt': 1, '978.txt': 1, '1786.txt': 1, '1659.txt': 1, '1539.txt': 1, '1768.txt': 1, '1466.txt': 1, '1928.txt': 1, '2189.txt': 3, '1987.txt': 1}, '1990': {'398.txt': 1}, 'accord': {'398.txt': 1, '726.txt': 1, '1584.txt': 1, '1928.txt': 1, '2189.txt': 1}, 'industri': {'398.txt': 2, '2029.txt': 2}, 'dougla': {'398.txt': 2, '1168.txt': 1}, 'westwood': {'398.txt': 5}, 'meanwhil': {'398.txt': 1, '1539.txt': 1, '1466.txt': 1, '2029.txt': 2}, 'jump': {'398.txt': 1, '1373.txt': 4}, 'million': {'398.txt': 1, '1840.txt': 3, '2029.txt': 3, '2189.txt': 2}, 'compar': {'398.txt': 1, '1928.txt': 1}, '474': {'398.txt': 1}, '1973': {'398.txt': 1}, 'develop': {'398.txt': 1, '1840.txt': 1, '2189.txt': 1}, 'access': {'398.txt': 2, '1928.txt': 2, '1987.txt': 4}, 'energi': {'398.txt': 1, '1928.txt': 1}, 'john': {'398.txt': 1, '1617.txt': 1, '2025.txt': 1, '2029.txt': 1}, 'manag': {'398.txt': 1, '1495.txt': 3, '1669.txt': 1, '1928.txt': 1}, 'director': {'398.txt': 1, '1466.txt': 1, '2025.txt': 1}, 'dramat': {'398.txt': 1}, 'grow': {'398.txt': 1, '1840.txt': 1, '2189.txt': 3}, 'must': {'398.txt': 1, '1168.txt': 1, '1584.txt': 2, '1987.txt': 2}, 'abl': {'398.txt': 1, '1168.txt': 1, '1928.txt': 1, '1987.txt': 1}, 'depend': {'398.txt': 1, '1659.txt': 1, '2189.txt': 1}, 'gulf': {'398.txt': 1}, 'explain': {'398.txt': 1, '1659.txt': 1, '2189.txt': 2}, 'especi': {'398.txt': 1, '1987.txt': 1}, 'chanc': {'398.txt': 2, '1821.txt': 1, '1659.txt': 1, '1539.txt': 1}, 'find': {'398.txt': 1, '978.txt': 1, '1840.txt': 3}, 'exploit': {'398.txt': 1}, 'resourc': {'398.txt': 1}, 'slim': {'398.txt': 1}, 'go': {'398.txt': 1, '726.txt': 1, '978.txt': 1, '1641.txt': 1, '1786.txt': 1, '1495.txt': 2, '1659.txt': 1, '1584.txt': 1, '1539.txt': 4, '1669.txt': 1, '1373.txt': 2, '1466.txt': 1, '2025.txt': 3, '1840.txt': 2, '2189.txt': 1, '1987.txt': 3}, 'signific': {'398.txt': 1, '1987.txt': 1}, '2020': {'398.txt': 1}, 'may': {'398.txt': 1, '978.txt': 1, '2029.txt': 1, '2189.txt': 1, '1987.txt': 2}, 'half': {'398.txt': 1, '1659.txt': 1, '1617.txt': 3}, 'today': {'398.txt': 1, '1786.txt': 1}, 'level': {'398.txt': 1}, 'major': {'398.txt': 1, '1373.txt': 1, '1928.txt': 1, '1987.txt': 1}, 'alreadi': {'398.txt': 1, '776.txt': 1, '1669.txt': 1, '1373.txt': 2, '2025.txt': 2}, 'petroleum': {'398.txt': 2}, 'vietnam': {'398.txt': 1}, 'sudan': {'398.txt': 1}, 'compani': {'398.txt': 2, '2025.txt': 1, '2029.txt': 5, '1987.txt': 3}, 'partner': {'398.txt': 1, '1669.txt': 1, '2029.txt': 1}, 'sakhalin': {'398.txt': 1}, '1': {'398.txt': 1, '1786.txt': 2, '1821.txt': 1, '1373.txt': 1}, 'field': {'398.txt': 1, '1928.txt': 1}, 'siberian': {'398.txt': 1}, 'coast': {'398.txt': 1}, 'interest': {'398.txt': 3, '1641.txt': 1, '1584.txt': 1, '1669.txt': 1, '1466.txt': 1, '1840.txt': 1, '2189.txt': 2}, 'chines': {'398.txt': 1}, 'china': {'398.txt': 1, '2189.txt': 1}, 'mention': {'398.txt': 1}, 'possibl': {'398.txt': 1, '1928.txt': 1, '1840.txt': 1, '2189.txt': 1}, 'thursday': {'398.txt': 2, '1818.txt': 1, '1466.txt': 1}, 'refus': {'398.txt': 1}, 'rule': {'398.txt': 1, '978.txt': 1}, 'late': {'398.txt': 1, '1669.txt': 1, '1987.txt': 1}, 'twist': {'398.txt': 1}, 'saga': {'398.txt': 1}, 'see': {'398.txt': 1, '726.txt': 1, '1495.txt': 1, '1539.txt': 1, '1466.txt': 1, '1928.txt': 2, '2189.txt': 2}, 'world': {'398.txt': 1, '1659.txt': 1, '1818.txt': 1, '1768.txt': 1, '1928.txt': 2, '1840.txt': 1, '2029.txt': 1, '2189.txt': 2, '1987.txt': 1}, 'bring': {'398.txt': 1, '2029.txt': 1}, 'knee': {'398.txt': 1}, 'disput': {'398.txt': 1}, 'partli': {'398.txt': 1, '1987.txt': 1}, 'clampdown': {'398.txt': 1}, 'polit': {'398.txt': 1, '978.txt': 3}, 'ambit': {'398.txt': 1, '978.txt': 2}, 'ex': {'398.txt': 1}, 'boss': {'398.txt': 1, '1641.txt': 1, '1584.txt': 1}, 'mikhail': {'398.txt': 1}, 'khodorkovski': {'398.txt': 1}, 'current': {'398.txt': 1, '1168.txt': 1, '1539.txt': 1, '1669.txt': 1, '2025.txt': 1, '1928.txt': 2, '2029.txt': 1}, 'jail': {'398.txt': 1}, 'fraud': {'398.txt': 1, '1987.txt': 3}, 'evas': {'398.txt': 1}, 'battl': {'398.txt': 1, '2189.txt': 1}, 'file': {'398.txt': 1, '726.txt': 1, '2029.txt': 2, '1987.txt': 1}, 'bankruptci': {'398.txt': 2}, 'protect': {'398.txt': 1, '1987.txt': 2}, 'question': {'398.txt': 1}, 'long': {'398.txt': 1, '1168.txt': 2, '1641.txt': 1, '1539.txt': 2, '1373.txt': 1, '2029.txt': 1, '2189.txt': 1, '1987.txt': 2}, 'continu': {'398.txt': 1, '978.txt': 1, '1617.txt': 1, '2029.txt': 1, '2189.txt': 1}, 'surviv': {'398.txt': 1}, 'without': {'398.txt': 1, '2025.txt': 1, '2029.txt': 1, '2189.txt': 1}, 'court': {'398.txt': 1, '1168.txt': 3, '1786.txt': 1, '1821.txt': 1, '1818.txt': 1, '1768.txt': 1}, 'hear': {'398.txt': 1, '1840.txt': 1, '1987.txt': 1}, 'argument': {'398.txt': 1, '1840.txt': 2}, 'claim': {'398.txt': 1, '1373.txt': 6, '2189.txt': 1}, 'throw': {'398.txt': 1, '1373.txt': 3}, '16': {'398.txt': 1, '1495.txt': 1, '1373.txt': 1}, 'februari': {'398.txt': 1, '1669.txt': 1}, 'happen': {'398.txt': 1, '1584.txt': 1, '1539.txt': 1, '1669.txt': 1, '1466.txt': 1, '2029.txt': 1, '1987.txt': 2}, 'claw': {'398.txt': 1}, 'back': {'398.txt': 1, '1168.txt': 1, '978.txt': 1, '1641.txt': 2, '1786.txt': 2, '1659.txt': 3, '1539.txt': 1, '1617.txt': 1, '1840.txt': 2, '1987.txt': 1}, 'surf': {'726.txt': 1}, 'show': {'726.txt': 6, '1617.txt': 2, '2189.txt': 1}, 'baywatch': {'726.txt': 2}, 'titl': {'726.txt': 1, '1373.txt': 9}, 'tv': {'726.txt': 3, '2189.txt': 1}, 'poll': {'726.txt': 1}, 'uk': {'726.txt': 1, '1168.txt': 1, '1928.txt': 1, '1840.txt': 1}, 'televis': {'726.txt': 1, '1641.txt': 1, '1495.txt': 1}, 'execut': {'726.txt': 1, '1821.txt': 1, '2029.txt': 2}, 'programm': {'726.txt': 1, '1987.txt': 1}, 'star': {'726.txt': 2, '1495.txt': 2}, 'david': {'726.txt': 1, '1818.txt': 1, '1539.txt': 1}, 'hasselhoff': {'726.txt': 1}, 'pamela': {'726.txt': 1}, 'anderson': {'726.txt': 1}, 'run': {'726.txt': 1, '1821.txt': 1, '1539.txt': 2, '2189.txt': 1}, '140': {'726.txt': 1}, 'height': {'726.txt': 1}, 'model': {'726.txt': 1, '1840.txt': 2, '2189.txt': 2}, 'anna': {'726.txt': 1}, 'nicol': {'726.txt': 1}, 'smith': {'726.txt': 1, '1928.txt': 1}, 'realiti': {'726.txt': 1, '2029.txt': 1}, 'duke': {'726.txt': 1}, 'hazzard': {'726.txt': 1}, 'runner': {'726.txt': 1, '1786.txt': 1, '1373.txt': 2}, 'broadcast': {'726.txt': 2}, 'magazin': {'726.txt': 4}, 'survey': {'726.txt': 1}, 'simpson': {'726.txt': 1}, 'dalla': {'726.txt': 1}, '24': {'726.txt': 1, '1768.txt': 1}, 'among': {'726.txt': 1, '776.txt': 3, '1641.txt': 1}, 'list': {'726.txt': 3}, 'good': {'726.txt': 1, '1168.txt': 2, '1641.txt': 2, '1786.txt': 2, '1821.txt': 1, '1495.txt': 2, '1659.txt': 1, '1584.txt': 1, '1539.txt': 5, '1617.txt': 1, '1373.txt': 10, '1840.txt': 1, '2029.txt': 1, '1987.txt': 3}, 'soap': {'726.txt': 1}, 'opera': {'726.txt': 1}, 'knot': {'726.txt': 1}, 'land': {'726.txt': 1}, 'falcon': {'726.txt': 1, '1168.txt': 1}, 'crest': {'726.txt': 1}, 'plu': {'726.txt': 1, '1987.txt': 1}, 'bold': {'726.txt': 1}, 'beauti': {'726.txt': 1, '2025.txt': 1}, 'top': {'726.txt': 3, '1786.txt': 1, '1821.txt': 1, '1373.txt': 1, '2189.txt': 1}, '10': {'726.txt': 2, '776.txt': 2, '2025.txt': 2, '2189.txt': 2}, 'transatlant': {'726.txt': 1}, 'howler': {'726.txt': 1}, 'jerri': {'726.txt': 2}, 'springer': {'726.txt': 1}, 'sixth': {'726.txt': 1, '1818.txt': 1, '1768.txt': 1}, 'fare': {'726.txt': 1}, 'well': {'726.txt': 1, '776.txt': 2, '1786.txt': 1, '1821.txt': 1, '1495.txt': 1, '1617.txt': 1, '1768.txt': 1, '1840.txt': 1, '2029.txt': 2, '2189.txt': 4, '1987.txt': 2}, 'british': {'726.txt': 1, '1641.txt': 1, '1818.txt': 1, '1373.txt': 6, '2029.txt': 1}, 'never': {'726.txt': 1, '1495.txt': 1, '2189.txt': 2, '1987.txt': 1}, 'realis': {'726.txt': 1, '1987.txt': 1}, 'low': {'726.txt': 1, '1840.txt': 2}, 'way': {'726.txt': 1, '776.txt': 1, '1641.txt': 1, '1786.txt': 2, '1539.txt': 1, '1373.txt': 1, '1466.txt': 2, '2025.txt': 1, '1840.txt': 1, '2189.txt': 1, '1987.txt': 2}, 'rise': {'726.txt': 1}, 'mind': {'726.txt': 1, '1641.txt': 1, '1539.txt': 1}, 'numbingli': {'726.txt': 1}, 'predict': {'726.txt': 1}, 'script': {'726.txt': 1}, 'beachgoer': {'726.txt': 1}, 'save': {'726.txt': 1, '1768.txt': 1}, 'drown': {'726.txt': 1}, 'insid': {'726.txt': 1, '1495.txt': 1, '1987.txt': 1}, 'extrem': {'726.txt': 1, '776.txt': 1, '2025.txt': 1, '1928.txt': 1}, 'makeov': {'726.txt': 1}, 'member': {'726.txt': 1, '1168.txt': 1, '978.txt': 1, '1987.txt': 1}, 'public': {'726.txt': 1}, 'give': {'726.txt': 1, '978.txt': 1, '1641.txt': 1, '1659.txt': 1, '1539.txt': 1, '1617.txt': 1, '1768.txt': 1, '1669.txt': 2, '2029.txt': 1, '2189.txt': 2, '1987.txt': 1}, 'thousand': {'726.txt': 1, '2029.txt': 1}, 'pound': {'726.txt': 1, '2029.txt': 1}, 'worth': {'726.txt': 1, '2029.txt': 1}, 'plastic': {'726.txt': 1}, 'surgeri': {'726.txt': 1}, 'american': {'726.txt': 1, '1786.txt': 1, '1821.txt': 1, '1818.txt': 1}, 'prais': {'726.txt': 1}, 'x': {'726.txt': 1}, 'love': {'726.txt': 1, '1786.txt': 2, '1466.txt': 1}, 'luci': {'726.txt': 1}, 'peak': {'726.txt': 1}, 'trek': {'726.txt': 1}, 'ticket': {'776.txt': 2}, 'scotland': {'776.txt': 1, '1659.txt': 1, '1373.txt': 2}, 'music': {'776.txt': 1, '2029.txt': 6}, 'festiv': {'776.txt': 5}, 'event': {'776.txt': 6, '1786.txt': 2, '1768.txt': 1, '1373.txt': 1}, 'hold': {'776.txt': 1, '1987.txt': 1}, '12th': {'776.txt': 1}, 'annual': {'776.txt': 1}, 'park': {'776.txt': 2, '1768.txt': 1, '2025.txt': 1}, 'place': {'776.txt': 2, '1539.txt': 1, '1373.txt': 2, '2029.txt': 2, '2189.txt': 1, '1987.txt': 1}, 'balado': {'776.txt': 2}, 'near': {'776.txt': 1}, 'kinross': {'776.txt': 1}, 'juli': {'776.txt': 3, '1641.txt': 1}, 'four': {'776.txt': 1, '1786.txt': 1, '1768.txt': 1, '1373.txt': 1, '1928.txt': 1, '2189.txt': 1}, 'green': {'776.txt': 2}, 'foo': {'776.txt': 2}, 'fighter': {'776.txt': 2}, 'kean': {'776.txt': 2}, 'act': {'776.txt': 4, '1987.txt': 2}, 'appear': {'776.txt': 2, '1466.txt': 1, '2029.txt': 2}, 'organis': {'776.txt': 3, '1928.txt': 1, '2189.txt': 1, '1987.txt': 2}, 'scot': {'776.txt': 1}, 'favourit': {'776.txt': 1, '1373.txt': 1, '2029.txt': 1}, 'travi': {'776.txt': 1}, 'soulman': {'776.txt': 1}, 'jame': {'776.txt': 1, '1373.txt': 1, '1840.txt': 1}, 'brown': {'776.txt': 1}, 'week': {'776.txt': 1, '978.txt': 1, '1786.txt': 1, '1584.txt': 1, '1539.txt': 2, '1669.txt': 2, '2029.txt': 1, '1987.txt': 1}, 'confirm': {'776.txt': 1, '1617.txt': 1, '1669.txt': 1}, '130': {'776.txt': 1}, 'geoff': {'776.txt': 1}, 'elli': {'776.txt': 2, '1659.txt': 1}, 'ceo': {'776.txt': 1}, 'ltd': {'776.txt': 1}, 'promis': {'776.txt': 1}, 'yet': {'776.txt': 2, '1641.txt': 1, '1584.txt': 1}, 'think': {'776.txt': 1, '1495.txt': 2, '1659.txt': 1, '1539.txt': 2, '1669.txt': 2, '2029.txt': 1, '2189.txt': 2}, 'slightli': {'776.txt': 1}, 'earli': {'776.txt': 1, '1641.txt': 1, '1669.txt': 1, '1928.txt': 1}, 'beyond': {'776.txt': 1}, 'proud': {'776.txt': 1, '1669.txt': 1}, 'fan': {'776.txt': 1}, 'excit': {'776.txt': 1, '1786.txt': 1}, 'absolut': {'776.txt': 1}, 'sure': {'776.txt': 1, '1641.txt': 1, '1466.txt': 1, '2029.txt': 2, '2189.txt': 4, '1987.txt': 1}, 'book': {'776.txt': 1, '978.txt': 1, '1373.txt': 1}, 'deliv': {'776.txt': 1, '1373.txt': 1}, '120': {'776.txt': 1}, 'play': {'776.txt': 2, '1641.txt': 1, '1786.txt': 2, '1821.txt': 3, '1495.txt': 2, '1659.txt': 1, '1584.txt': 3, '1818.txt': 1, '1539.txt': 4, '1617.txt': 1, '1768.txt': 2, '1669.txt': 2, '1466.txt': 6}, 'eight': {'776.txt': 1, '1373.txt': 1}, 'stage': {'776.txt': 1, '1539.txt': 1, '1669.txt': 1}, 'weekend': {'776.txt': 1}, '9': {'776.txt': 1, '1373.txt': 2, '1840.txt': 1}, 'brit': {'776.txt': 1}, 'award': {'776.txt': 1}, 'winner': {'776.txt': 1, '1786.txt': 1}, 'street': {'776.txt': 1, '2189.txt': 1}, 'main': {'776.txt': 1, '1373.txt': 1}, 'attract': {'776.txt': 1, '2029.txt': 1}, 'killer': {'776.txt': 1}, 'danc': {'776.txt': 1}, 'prodigi': {'776.txt': 1}, '2002': {'776.txt': 1}, 'oasi': {'776.txt': 1}, 'basement': {'776.txt': 1}, 'jaxx': {'776.txt': 1}, 'headlin': {'776.txt': 1}, 'person': {'1168.txt': 2, '1659.txt': 1, '1373.txt': 5, '2025.txt': 1, '1987.txt': 5}, 'job': {'1168.txt': 3, '2189.txt': 1, '1987.txt': 2}, 'appoint': {'1168.txt': 4, '1641.txt': 1}, 'lord': {'1168.txt': 14, '1641.txt': 1}, 'chancellor': {'1168.txt': 9}, 'necessarili': {'1168.txt': 2, '2029.txt': 1}, 'lawyer': {'1168.txt': 3, '1987.txt': 1}, 'mp': {'1168.txt': 3, '978.txt': 2}, 'tell': {'1168.txt': 1, '978.txt': 3, '1641.txt': 1, '1659.txt': 1, '1584.txt': 1, '1539.txt': 1, '1466.txt': 1, '2025.txt': 1, '2029.txt': 2}, 'reform': {'1168.txt': 4}, 'post': {'1168.txt': 3}, 'strip': {'1168.txt': 1}, 'judici': {'1168.txt': 1}, 'function': {'1168.txt': 1}, 'secretari': {'1168.txt': 2, '978.txt': 1}, 'health': {'1168.txt': 1, '1987.txt': 1}, 'doctor': {'1168.txt': 1}, 'christoph': {'1168.txt': 1}, 'lesli': {'1168.txt': 3}, 'constitut': {'1168.txt': 2}, 'enter': {'1168.txt': 1}, 'second': {'1168.txt': 1, '1641.txt': 1, '1786.txt': 1, '1821.txt': 1, '1818.txt': 1, '1373.txt': 8, '1840.txt': 2, '2189.txt': 1}, 'read': {'1168.txt': 1, '2029.txt': 1, '1987.txt': 1}, 'monday': {'1168.txt': 1}, 'prime': {'1168.txt': 1, '978.txt': 2}, 'whether': {'1168.txt': 3, '978.txt': 1, '1768.txt': 1, '1987.txt': 1}, 'sit': {'1168.txt': 1, '2025.txt': 1}, 'hous': {'1168.txt': 3}, 'common': {'1168.txt': 1, '1840.txt': 1}, 'law': {'1168.txt': 2, '2025.txt': 1, '1987.txt': 1}, 'replac': {'1168.txt': 1, '1659.txt': 1, '1928.txt': 1, '2189.txt': 1}, 'high': {'1168.txt': 1, '1584.txt': 1, '1373.txt': 2, '1466.txt': 1}, 'legal': {'1168.txt': 1, '2029.txt': 1}, 'suprem': {'1168.txt': 1}, 'judg': {'1168.txt': 2}, 'independ': {'1168.txt': 2}, 'panel': {'1168.txt': 1}, 'rather': {'1168.txt': 1, '1840.txt': 1, '1987.txt': 1}, 'decemb': {'1168.txt': 1}, 'reject': {'1168.txt': 1}, 'plea': {'1168.txt': 1}, 'holder': {'1168.txt': 2}, 'peer': {'1168.txt': 3, '2029.txt': 10}, 'vote': {'1168.txt': 1}, '229': {'1168.txt': 1}, '206': {'1168.txt': 1}, 'debat': {'1168.txt': 1, '2029.txt': 1}, 'carri': {'1168.txt': 1, '1539.txt': 1, '1466.txt': 1, '1928.txt': 2}, 'parliamentari': {'1168.txt': 1}, 'session': {'1168.txt': 1, '1669.txt': 1, '2025.txt': 4}, 'impend': {'1168.txt': 1}, 'gener': {'1168.txt': 2, '2189.txt': 2}, 'crucial': {'1168.txt': 1, '2189.txt': 1}, 'govern': {'1168.txt': 6, '1987.txt': 1}, 'get': {'1168.txt': 2, '1641.txt': 3, '1786.txt': 3, '1659.txt': 3, '2025.txt': 2, '1840.txt': 3, '2189.txt': 2, '1987.txt': 3}, 'pass': {'1168.txt': 1, '1373.txt': 1, '2025.txt': 1, '1987.txt': 1}, 'irrelev': {'1168.txt': 1}, 'affair': {'1168.txt': 1}, 'matter': {'1168.txt': 1, '1539.txt': 2, '1768.txt': 1, '2029.txt': 2, '1987.txt': 1}, 'conflict': {'1168.txt': 1}, 'duti': {'1168.txt': 1, '2189.txt': 1}, 'appropri': {'1168.txt': 1}, 'unfetter': {'1168.txt': 1}, 'discret': {'1168.txt': 1}, 'shadow': {'1168.txt': 1, '978.txt': 1}, 'attorney': {'1168.txt': 1}, 'domin': {'1168.txt': 1, '978.txt': 1}, 'griev': {'1168.txt': 2}, 'criticis': {'1168.txt': 1, '1539.txt': 1}, 'except': {'1168.txt': 1}, 'provid': {'1168.txt': 1, '1928.txt': 1, '2029.txt': 2, '2189.txt': 1}, 'champion': {'1168.txt': 1, '1786.txt': 1, '1821.txt': 1, '1495.txt': 3, '1659.txt': 1, '1539.txt': 3, '1768.txt': 2, '1373.txt': 3}, 'judiciari': {'1168.txt': 1}, 'initi': {'1168.txt': 1, '1669.txt': 1, '1466.txt': 1}, 'propos': {'1168.txt': 1, '1669.txt': 1}, 'smash': {'1168.txt': 1, '1373.txt': 1}, 'piec': {'1168.txt': 1}, 'convent': {'1168.txt': 1}, 'nurtur': {'1168.txt': 1}, 'celebr': {'1168.txt': 1}, 'distrust': {'1168.txt': 1}, 'dislik': {'1168.txt': 1}, 'instead': {'1168.txt': 1, '1584.txt': 1, '1373.txt': 1, '1987.txt': 1}, 'warn': {'1168.txt': 1, '1641.txt': 1, '1987.txt': 2}, 'unless': {'1168.txt': 1}, 'remain': {'1168.txt': 1, '978.txt': 1, '1786.txt': 1, '2189.txt': 1}, 'difficulti': {'1168.txt': 1}, 'parliament': {'1168.txt': 1}, 'cabinet': {'1168.txt': 1, '978.txt': 1}, 'hogg': {'1168.txt': 1}, 'whose': {'1168.txt': 1, '1539.txt': 1, '1987.txt': 1}, 'father': {'1168.txt': 1}, 'grandfath': {'1168.txt': 1}, 'serv': {'1168.txt': 1, '1786.txt': 1, '2189.txt': 1}, 'larg': {'1168.txt': 1, '1928.txt': 2, '2189.txt': 2}, 'unnecessari': {'1168.txt': 1}, 'bureaucrat': {'1168.txt': 1}, 'expens': {'1168.txt': 1}, 'tori': {'1168.txt': 1}, 'sleaford': {'1168.txt': 1}, 'north': {'1168.txt': 1, '978.txt': 1}, 'hykeham': {'1168.txt': 1}, 'admit': {'1168.txt': 1, '1641.txt': 4, '1786.txt': 1, '1495.txt': 1, '1987.txt': 1}, 'role': {'1168.txt': 1, '978.txt': 1}, 'frozen': {'1168.txt': 1}, 'aspic': {'1168.txt': 1}, 'conserv': {'978.txt': 2}, 'leader': {'978.txt': 3}, 'william': {'978.txt': 2, '1786.txt': 3, '1768.txt': 4}, 'hagu': {'978.txt': 8}, 'leadership': {'978.txt': 2}, '43': {'978.txt': 1, '1373.txt': 1}, 'daili': {'978.txt': 1, '1539.txt': 1}, 'telegraph': {'978.txt': 1}, 'life': {'978.txt': 1, '1373.txt': 1, '1840.txt': 2, '2189.txt': 1}, 'bore': {'978.txt': 1}, 'unfulfil': {'978.txt': 1}, 'step': {'978.txt': 1}, 'parti': {'978.txt': 4, '2029.txt': 1, '1987.txt': 1}, '2001': {'978.txt': 1, '1669.txt': 2}, 'defeat': {'978.txt': 1, '1821.txt': 1, '1659.txt': 1, '1818.txt': 1}, 'return': {'978.txt': 2, '1786.txt': 1, '1495.txt': 1, '1669.txt': 1, '1840.txt': 1}, 'front': {'978.txt': 3, '1786.txt': 1}, 'bench': {'978.txt': 2}, 'paper': {'978.txt': 1, '2025.txt': 1, '1928.txt': 1}, 'hope': {'978.txt': 1, '1786.txt': 1, '1373.txt': 1, '1466.txt': 1, '1928.txt': 1}, 'richmond': {'978.txt': 1}, 'famili': {'978.txt': 1, '1840.txt': 1, '1987.txt': 1}, 'wife': {'978.txt': 1}, 'ffion': {'978.txt': 1}, 'publish': {'978.txt': 1}, 'biographi': {'978.txt': 1}, 'pitt': {'978.txt': 1}, 'young': {'978.txt': 1, '1584.txt': 1}, 'want': {'978.txt': 1, '1786.txt': 1, '1821.txt': 1, '1584.txt': 5, '1539.txt': 2, '1840.txt': 2, '2189.txt': 1}, 'write': {'978.txt': 2}, 'speech': {'978.txt': 1}, 'newspap': {'978.txt': 1, '1584.txt': 1}, 'know': {'978.txt': 1, '1641.txt': 2, '1584.txt': 2, '1539.txt': 1, '2029.txt': 4, '2189.txt': 1, '1987.txt': 2}, 'ever': {'978.txt': 1, '1641.txt': 1, '2029.txt': 1}, 'rush': {'978.txt': 1}, 'repli': {'978.txt': 1}, 'definit': {'978.txt': 1}, 'determin': {'978.txt': 1, '1539.txt': 1}, 'stay': {'978.txt': 1}, 'disappoint': {'978.txt': 1, '1768.txt': 1, '1373.txt': 1}, 'senior': {'978.txt': 1, '1840.txt': 1}, 'tim': {'978.txt': 1}, 'collin': {'978.txt': 1}, 'educ': {'978.txt': 1, '2189.txt': 1}, 'huge': {'978.txt': 1}, 'becom': {'978.txt': 1, '1373.txt': 1, '2029.txt': 1, '1987.txt': 2}, '27': {'978.txt': 1, '1539.txt': 1, '1373.txt': 2}, 'opposit': {'978.txt': 1, '1495.txt': 1}, '36': {'978.txt': 1}, 'feel': {'978.txt': 2, '1786.txt': 2, '1987.txt': 3}, 'fortun': {'978.txt': 1, '1987.txt': 1}, 'age': {'978.txt': 1}, '40': {'978.txt': 1, '1928.txt': 1}, 'cram': {'978.txt': 1}, 'entir': {'978.txt': 1, '2029.txt': 1, '1987.txt': 1}, 'career': {'978.txt': 1, '1539.txt': 1}, 'thing': {'978.txt': 1, '1641.txt': 1, '1539.txt': 1, '1617.txt': 1, '1466.txt': 1, '1987.txt': 1}, 'liber': {'978.txt': 1}, 'add': {'978.txt': 1, '1641.txt': 1, '1786.txt': 2, '1821.txt': 1, '1495.txt': 1, '1659.txt': 2, '1466.txt': 2, '1840.txt': 1, '2029.txt': 1, '2189.txt': 1}, 'misjudg': {'978.txt': 1}, 'mayb': {'978.txt': 1, '1786.txt': 1}, 'thought': {'978.txt': 1}, 'black': {'1641.txt': 2}, 'captain': {'1641.txt': 2, '1659.txt': 3, '1539.txt': 1}, 'tama': {'1641.txt': 1}, 'umaga': {'1641.txt': 6}, 'irish': {'1641.txt': 2}, 'lion': {'1641.txt': 7, '1669.txt': 1}, 'fearsom': {'1641.txt': 2}, 'oppon': {'1641.txt': 1, '1821.txt': 1}, 'ahead': {'1641.txt': 2, '1373.txt': 1}, 'summer': {'1641.txt': 1, '1539.txt': 2}, 'tour': {'1641.txt': 3, '1786.txt': 1, '1821.txt': 1}, 'england': {'1641.txt': 3, '1659.txt': 3, '1669.txt': 3}, 'saturday': {'1641.txt': 4, '1617.txt': 2}, 'irb': {'1641.txt': 1}, 'rugbi': {'1641.txt': 3, '1659.txt': 1, '1669.txt': 2}, 'aid': {'1641.txt': 3}, 'match': {'1641.txt': 4, '1786.txt': 3, '1821.txt': 1, '1495.txt': 3, '1818.txt': 1, '1617.txt': 2, '1768.txt': 2, '1669.txt': 1}, 'zealand': {'1641.txt': 3}, 'win': {'1641.txt': 1, '1786.txt': 3, '1495.txt': 1, '1818.txt': 1, '1539.txt': 3, '1768.txt': 2, '1669.txt': 1, '1373.txt': 1, '1466.txt': 1}, 'three': {'1641.txt': 1, '1821.txt': 1, '1659.txt': 1, '1539.txt': 1, '1768.txt': 2, '1669.txt': 1, '1840.txt': 1}, 'test': {'1641.txt': 2}, 'seri': {'1641.txt': 1}, 'bbc': {'1641.txt': 2, '1659.txt': 1, '2029.txt': 3, '1987.txt': 1}, 'sport': {'1641.txt': 1, '1466.txt': 1, '2025.txt': 1}, 'awesom': {'1641.txt': 2}, 'beat': {'1641.txt': 1, '1821.txt': 3, '1818.txt': 2}, 'sir': {'1641.txt': 1, '1495.txt': 1}, 'clive': {'1641.txt': 1, '1669.txt': 1}, 'woodward': {'1641.txt': 3}, 'squad': {'1641.txt': 2, '1373.txt': 1}, 'june': {'1641.txt': 2}, 'wide': {'1641.txt': 1, '1840.txt': 1, '2189.txt': 1}, 'believ': {'1641.txt': 1, '1495.txt': 1, '1659.txt': 2, '1584.txt': 1, '1539.txt': 2, '1466.txt': 1, '2029.txt': 3}, 'reli': {'1641.txt': 1}, 'heavili': {'1641.txt': 1}, 'player': {'1641.txt': 3, '1821.txt': 1, '1659.txt': 3, '1584.txt': 2, '1539.txt': 1, '1768.txt': 1, '1669.txt': 1, '1466.txt': 1, '1928.txt': 1}, 'hard': {'1641.txt': 1, '1786.txt': 1, '1768.txt': 1, '1987.txt': 1}, 'consid': {'1641.txt': 1, '2025.txt': 1, '1987.txt': 1}, 'shape': {'1641.txt': 1}, 'six': {'1641.txt': 1, '1659.txt': 1, '1617.txt': 1, '1669.txt': 1}, 'wrong': {'1641.txt': 1}, 'lot': {'1641.txt': 2, '1786.txt': 1, '1821.txt': 1, '1495.txt': 2, '1539.txt': 2, '2029.txt': 1, '2189.txt': 2}, 'talent': {'1641.txt': 1, '1669.txt': 1}, 'guy': {'1641.txt': 2, '1821.txt': 1, '1539.txt': 1}, 'xv': {'1641.txt': 1}, 'disguis': {'1641.txt': 1}, 'wale': {'1641.txt': 1, '1659.txt': 1, '1617.txt': 2, '1669.txt': 7}, 'ireland': {'1641.txt': 1, '1659.txt': 1, '1617.txt': 2, '1373.txt': 3}, 'particular': {'1641.txt': 1, '1987.txt': 1}, 'tri': {'1641.txt': 1, '1786.txt': 2, '1539.txt': 1, '1768.txt': 2}, 'score': {'1641.txt': 1}, 'fairli': {'1641.txt': 1}, 'like': {'1641.txt': 1, '1821.txt': 1, '1495.txt': 1, '1659.txt': 1, '1584.txt': 2, '1539.txt': 2, '1928.txt': 2, '2029.txt': 1, '2189.txt': 3, '1987.txt': 5}, 'brian': {'1641.txt': 1, '1659.txt': 1, '2189.txt': 1}, 'driscol': {'1641.txt': 3}, 'twickenham': {'1641.txt': 1}, 'lead': {'1641.txt': 1, '1659.txt': 1, '1669.txt': 1, '1373.txt': 1, '2029.txt': 1, '1987.txt': 1}, 'northern': {'1641.txt': 2}, 'hemispher': {'1641.txt': 3}, 'side': {'1641.txt': 1, '1818.txt': 1, '1539.txt': 1, '1617.txt': 2, '1669.txt': 1}, 'host': {'1641.txt': 2}, 'coach': {'1641.txt': 2, '1495.txt': 1, '1659.txt': 1, '1617.txt': 1, '1669.txt': 2}, 'tip': {'1641.txt': 1}, 'up': {'1641.txt': 1}, 'idea': {'1641.txt': 1, '2025.txt': 1}, 'although': {'1641.txt': 1, '1373.txt': 1}, '31': {'1641.txt': 1}, 'old': {'1641.txt': 1, '1584.txt': 1, '1539.txt': 3, '1373.txt': 2, '1466.txt': 1, '1928.txt': 1, '1840.txt': 7, '2189.txt': 1}, 'immens': {'1641.txt': 1}, 'ring': {'1641.txt': 1}, 'enough': {'1641.txt': 1, '1659.txt': 1, '1373.txt': 2, '2189.txt': 1, '1987.txt': 1}, 'rariti': {'1641.txt': 1}, 'fact': {'1641.txt': 1, '1987.txt': 2}, 'fear': {'1641.txt': 1, '1987.txt': 1}, 'injuri': {'1641.txt': 1, '1786.txt': 1, '1659.txt': 2, '1818.txt': 1, '1539.txt': 1}, 'weigh': {'1641.txt': 1}, 'chariti': {'1641.txt': 1}, 'game': {'1641.txt': 1, '1786.txt': 3, '1821.txt': 2, '1495.txt': 3, '1659.txt': 3, '1539.txt': 3, '1617.txt': 2, '1768.txt': 1, '2025.txt': 4, '1928.txt': 1}, 'featur': {'1641.txt': 1, '2029.txt': 1}, 'name': {'1641.txt': 1, '1495.txt': 1, '1987.txt': 2}, 'gregan': {'1641.txt': 1}, 'andrew': {'1641.txt': 1}, 'mehrten': {'1641.txt': 1}, 'chri': {'1641.txt': 1, '1373.txt': 1}, 'latham': {'1641.txt': 1}, 'valu': {'1641.txt': 1}, 'caus': {'1641.txt': 1, '1818.txt': 1, '2025.txt': 1}, 'proceed': {'1641.txt': 1}, 'victim': {'1641.txt': 1, '1768.txt': 1, '1466.txt': 1, '1987.txt': 1}, 'tsunami': {'1641.txt': 2, '1768.txt': 1}, 'easili': {'1641.txt': 1, '1373.txt': 1}, 'southern': {'1641.txt': 1}, 'rod': {'1641.txt': 1}, 'macqueen': {'1641.txt': 1}, 'approach': {'1641.txt': 1, '1669.txt': 1}, 'hesit': {'1641.txt': 1}, 'clear': {'1641.txt': 1, '1539.txt': 1, '1373.txt': 2, '2189.txt': 1, '1987.txt': 1}, 'thank': {'1641.txt': 1}, 'anyon': {'1641.txt': 1, '2189.txt': 1, '1987.txt': 3}, 'involv': {'1641.txt': 1, '1987.txt': 1}, 'tragedi': {'1641.txt': 1}, 'miss': {'1641.txt': 1, '1373.txt': 1, '2029.txt': 1}, 'horrif': {'1641.txt': 1}, 'news': {'1641.txt': 1, '1539.txt': 1, '1466.txt': 1, '2025.txt': 1, '2029.txt': 3, '1987.txt': 1}, 'peopl': {'1641.txt': 1, '1659.txt': 1, '1539.txt': 1, '1466.txt': 2, '2025.txt': 6, '1928.txt': 1, '1840.txt': 5, '2029.txt': 1, '2189.txt': 5, '1987.txt': 1}, 'affect': {'1641.txt': 3}, 'someth': {'1641.txt': 1, '1584.txt': 1, '1669.txt': 1, '2025.txt': 2, '2189.txt': 2, '1987.txt': 2}, 'minor': {'1641.txt': 1}, '1400': {'1641.txt': 1}, 'gmt': {'1641.txt': 1}, 'ameli': {'1786.txt': 1}, 'mauresmo': {'1786.txt': 6}, 'maria': {'1786.txt': 1}, 'sharapova': {'1786.txt': 3}, 'open': {'1786.txt': 2, '1821.txt': 1, '1659.txt': 1, '1818.txt': 1, '1669.txt': 1, '2029.txt': 1, '2189.txt': 3, '1987.txt': 2}, 'championship': {'1786.txt': 2, '1768.txt': 1, '1373.txt': 2}, 'lo': {'1786.txt': 1}, 'angel': {'1786.txt': 1}, 'franc': {'1786.txt': 1, '1659.txt': 1}, 'rout': {'1786.txt': 1, '2189.txt': 1}, 'vera': {'1786.txt': 1}, 'zvonareva': {'1786.txt': 3}, '6': {'1786.txt': 9, '1821.txt': 10, '1818.txt': 5, '1768.txt': 2, '1373.txt': 2}, '0': {'1786.txt': 1}, 'wimbledon': {'1786.txt': 1}, 'fellow': {'1786.txt': 1}, 'svetlana': {'1786.txt': 1}, 'kuznetsova': {'1786.txt': 3}, 'serena': {'1786.txt': 1}, 'edg': {'1786.txt': 1, '1373.txt': 2}, 'elena': {'1786.txt': 1, '1768.txt': 1}, 'dementieva': {'1786.txt': 1, '1768.txt': 2}, '7': {'1786.txt': 2, '1821.txt': 6, '1584.txt': 1, '1818.txt': 3, '1373.txt': 3}, '5': {'1786.txt': 1, '1821.txt': 1, '1584.txt': 2, '1818.txt': 1, '1669.txt': 1, '1373.txt': 2, '2025.txt': 1}, 'victori': {'1786.txt': 1, '1818.txt': 1, '1539.txt': 1}, 'split': {'1786.txt': 1}, 'group': {'1786.txt': 1, '1539.txt': 1}, 'advanc': {'1786.txt': 1, '2189.txt': 1}, 'semi': {'1786.txt': 1, '1373.txt': 1}, 'final': {'1786.txt': 2, '1821.txt': 1, '1373.txt': 6}, 'ninth': {'1786.txt': 1}, 'row': {'1786.txt': 1}, 'overtak': {'1786.txt': 1}, 'lindsay': {'1786.txt': 1}, 'davenport': {'1786.txt': 2}, 'spot': {'1786.txt': 1, '1373.txt': 2, '2025.txt': 1, '1928.txt': 1, '2029.txt': 1}, 'spend': {'1786.txt': 1, '2189.txt': 1}, 'usher': {'1786.txt': 1}, 'confid': {'1786.txt': 1, '1539.txt': 1, '1617.txt': 1, '1768.txt': 1}, 'rank': {'1786.txt': 1, '1768.txt': 1, '1373.txt': 2}, 'differ': {'1786.txt': 1, '1495.txt': 1, '2189.txt': 3}, 'obsess': {'1786.txt': 1}, 'relax': {'1786.txt': 1}, 'complet': {'1786.txt': 1, '1539.txt': 1, '2189.txt': 1}, 'first': {'1786.txt': 1, '1495.txt': 1, '1818.txt': 1, '1539.txt': 2, '1768.txt': 1, '1373.txt': 4, '2029.txt': 1, '2189.txt': 1}, 'season': {'1786.txt': 1, '1495.txt': 1, '1659.txt': 1, '1584.txt': 1, '1539.txt': 1, '1669.txt': 1, '1373.txt': 5, '1466.txt': 1}, '54': {'1786.txt': 1}, 'minut': {'1786.txt': 1, '1495.txt': 1, '1373.txt': 2, '2025.txt': 1}, 'struggl': {'1786.txt': 1, '1659.txt': 1, '1466.txt': 1}, 'achiev': {'1786.txt': 1, '1539.txt': 1, '1373.txt': 2}, 'singl': {'1786.txt': 1, '1840.txt': 1, '1987.txt': 1}, 'point': {'1786.txt': 1, '1821.txt': 1, '1659.txt': 1, '1768.txt': 2}, 'mad': {'1786.txt': 1}, 'bit': {'1786.txt': 1, '2189.txt': 2}, 'tenni': {'1786.txt': 1, '1768.txt': 1}, 'kim': {'1786.txt': 1}, 'clijster': {'1786.txt': 1}, 'lose': {'1786.txt': 2, '1821.txt': 1, '1659.txt': 2, '1539.txt': 1, '1617.txt': 1, '1768.txt': 2, '1466.txt': 1}, 'far': {'1786.txt': 1, '1659.txt': 1, '1928.txt': 1, '1840.txt': 1, '1987.txt': 2}, 'crash': {'1786.txt': 1}, 'stapl': {'1786.txt': 1}, 'centr': {'1786.txt': 1, '1669.txt': 1}, 'wednesday': {'1786.txt': 1}, 'sometim': {'1786.txt': 1}, 'everyth': {'1786.txt': 1, '1539.txt': 1, '1987.txt': 1}, 'work': {'1786.txt': 1, '1584.txt': 1, '2025.txt': 2, '1928.txt': 1, '2189.txt': 8}, 'pressur': {'1786.txt': 2, '1495.txt': 1, '1659.txt': 1, '1539.txt': 1, '1987.txt': 1}, 'fight': {'1786.txt': 2, '1495.txt': 1}, 'beij': {'1786.txt': 2}, 'streak': {'1786.txt': 1}, '14': {'1786.txt': 1}, 'unstopp': {'1786.txt': 1}, 'put': {'1786.txt': 1, '1539.txt': 3, '1373.txt': 2, '2025.txt': 1, '2029.txt': 3}, 'tournament': {'1786.txt': 1, '1659.txt': 2, '1768.txt': 1}, 'debut': {'1786.txt': 1}, 'atmospher': {'1786.txt': 1, '1495.txt': 1}, 'laker': {'1786.txt': 1}, 'basketbal': {'1786.txt': 1}, 'form': {'1786.txt': 1, '1539.txt': 1, '1373.txt': 1, '1466.txt': 1}, 'posit': {'1786.txt': 1, '1584.txt': 1}, 'right': {'1786.txt': 1}, 'happi': {'1786.txt': 1, '1617.txt': 1, '1466.txt': 3}, 'effort': {'1786.txt': 2, '1373.txt': 1}, 'realli': {'1786.txt': 1, '1768.txt': 2, '1840.txt': 1, '1987.txt': 1}, 'dimens': {'1786.txt': 1}, 'seed': {'1821.txt': 4, '1818.txt': 3}, 'andr': {'1821.txt': 2}, 'agassi': {'1821.txt': 5}, 'suffer': {'1821.txt': 1, '2025.txt': 1, '1987.txt': 2}, 'comprehens': {'1821.txt': 1}, 'jurgen': {'1821.txt': 1}, 'melzer': {'1821.txt': 3}, 'quarter': {'1821.txt': 1}, 'sap': {'1821.txt': 1}, 'often': {'1821.txt': 1, '2029.txt': 1}, 'bamboozl': {'1821.txt': 1}, 'austrian': {'1821.txt': 1}, 'drop': {'1821.txt': 1}, 'shot': {'1821.txt': 1, '2025.txt': 3}, 'san': {'1821.txt': 1}, 'jose': {'1821.txt': 1, '1495.txt': 1, '1466.txt': 1}, 'defend': {'1821.txt': 1, '1495.txt': 1, '1539.txt': 1, '1768.txt': 1, '1373.txt': 2}, 'andi': {'1821.txt': 1, '1659.txt': 1, '1373.txt': 1}, 'roddick': {'1821.txt': 1}, 'ralli': {'1821.txt': 1}, 'sweden': {'1821.txt': 1}, 'thoma': {'1821.txt': 1}, 'enqvist': {'1821.txt': 1}, 'unseed': {'1821.txt': 1}, 'cyril': {'1821.txt': 1}, 'saulnier': {'1821.txt': 1}, 'fourth': {'1821.txt': 1, '1373.txt': 2}, 'vincent': {'1821.txt': 1}, 'spadea': {'1821.txt': 1}, 'tommi': {'1821.txt': 1}, 'haa': {'1821.txt': 1}, 'overcam': {'1821.txt': 1}, 'eighth': {'1821.txt': 1}, 'max': {'1821.txt': 1}, 'mirnyi': {'1821.txt': 1}, 'perfectli': {'1821.txt': 1}, 'alway': {'1821.txt': 1, '1584.txt': 1, '1466.txt': 1}, 'tough': {'1821.txt': 1}, 'dog': {'1821.txt': 1}, 'power': {'1821.txt': 1, '1928.txt': 1}, 'hand': {'1821.txt': 1, '1818.txt': 1, '1840.txt': 2}, 'backhand': {'1821.txt': 1}, 'exampl': {'1821.txt': 1, '1987.txt': 1}, 'sever': {'1821.txt': 1}, 'will': {'1821.txt': 1, '1584.txt': 1}, 'capabl': {'1821.txt': 1, '1539.txt': 1, '1617.txt': 1}, 'much': {'1821.txt': 1, '2189.txt': 1, '1987.txt': 1}, 'opportun': {'1821.txt': 1, '1659.txt': 1, '2029.txt': 2}, 'loosen': {'1821.txt': 1}, 'convert': {'1821.txt': 1}, 'chelsea': {'1495.txt': 3, '1539.txt': 1, '1466.txt': 1}, 'mourinho': {'1495.txt': 3}, 'leagu': {'1495.txt': 3, '1539.txt': 3, '1669.txt': 2}, 'clash': {'1495.txt': 1}, 'barcelona': {'1495.txt': 5}, 'finish': {'1495.txt': 1, '1659.txt': 1, '1373.txt': 5}, 'relish': {'1495.txt': 1}, 'leg': {'1495.txt': 2}, 'tie': {'1495.txt': 1, '1539.txt': 1}, 'club': {'1495.txt': 1, '1584.txt': 1, '1539.txt': 1, '1669.txt': 1}, 'nou': {'1495.txt': 2}, 'camp': {'1495.txt': 2}, 'surpris': {'1495.txt': 1, '2029.txt': 2, '1987.txt': 1}, 'noth': {'1495.txt': 1, '1659.txt': 1, '1539.txt': 1, '2025.txt': 1}, 'decid': {'1495.txt': 1, '1373.txt': 1}, 'extra': {'1495.txt': 1}, 'mine': {'1495.txt': 2}, 'moment': {'1495.txt': 1, '2029.txt': 1}, 'assist': {'1495.txt': 1}, 'bobbi': {'1495.txt': 1}, 'robson': {'1495.txt': 1}, 'loui': {'1495.txt': 1}, 'van': {'1495.txt': 1}, 'gaal': {'1495.txt': 1}, 'enviou': {'1495.txt': 1}, 'insist': {'1495.txt': 1, '1539.txt': 1, '2029.txt': 1}, 'jealou': {'1495.txt': 1}, 'histori': {'1495.txt': 1}, 'european': {'1495.txt': 1, '1373.txt': 10, '2189.txt': 1}, 'cup': {'1495.txt': 1, '1669.txt': 1}, 'amount': {'1495.txt': 1}, 'trophi': {'1495.txt': 1, '1539.txt': 1, '1466.txt': 1}, 'ronaldinho': {'1495.txt': 2}, 'difficult': {'1495.txt': 1, '2025.txt': 2}, 'team': {'1495.txt': 2, '1659.txt': 1, '1539.txt': 4, '1669.txt': 1, '1466.txt': 2}, 'full': {'1495.txt': 1, '1659.txt': 2}, 'tactic': {'1495.txt': 1}, 'counter': {'1495.txt': 1}, 'keep': {'1495.txt': 1, '1539.txt': 1, '1840.txt': 2, '1987.txt': 1}, 'possess': {'1495.txt': 1}, 'ball': {'1495.txt': 1, '1659.txt': 2}, 'europ': {'1495.txt': 1, '1539.txt': 1, '1373.txt': 2, '1840.txt': 1}, 'nevertheless': {'1495.txt': 1}, 'accustom': {'1495.txt': 1}, 'face': {'1495.txt': 1, '1539.txt': 1, '1617.txt': 1, '2029.txt': 1, '2189.txt': 1}, 'real': {'1495.txt': 1, '1584.txt': 2, '1466.txt': 6, '1840.txt': 2, '2029.txt': 1, '1987.txt': 2}, 'madrid': {'1495.txt': 1, '1584.txt': 4, '1373.txt': 3, '1466.txt': 6}, 'special': {'1495.txt': 1}, 'citi': {'1495.txt': 1, '1584.txt': 1}, 'journalist': {'1495.txt': 1}, 'dress': {'1495.txt': 1, '1466.txt': 1}, 'room': {'1495.txt': 1, '1466.txt': 1}, 'respect': {'1495.txt': 1, '1466.txt': 1, '2029.txt': 1}, 'moor': {'1659.txt': 5}, 'jason': {'1659.txt': 1}, 'robinson': {'1659.txt': 3}, 'absenc': {'1659.txt': 1, '1373.txt': 1}, 'fli': {'1659.txt': 1, '1617.txt': 1}, 'jonni': {'1659.txt': 1}, 'wilkinson': {'1659.txt': 2}, 'retir': {'1659.txt': 2}, 'martin': {'1659.txt': 1}, 'johnson': {'1659.txt': 1, '1373.txt': 3}, 'lock': {'1659.txt': 1}, 'forward': {'1659.txt': 2}, 'action': {'1659.txt': 1, '1373.txt': 1}, 'reflect': {'1659.txt': 1}, 'influenc': {'1659.txt': 1}, 'move': {'1659.txt': 1, '1669.txt': 2, '1466.txt': 2, '1928.txt': 1, '1987.txt': 3}, 'close': {'1659.txt': 1, '1617.txt': 1, '1373.txt': 1, '1840.txt': 1, '2029.txt': 1, '1987.txt': 1}, 'pack': {'1659.txt': 2}, 'usual': {'1659.txt': 1, '1539.txt': 1, '2189.txt': 1}, 'lack': {'1659.txt': 1}, 'cohes': {'1659.txt': 1}, 'reason': {'1659.txt': 1}, 'assert': {'1659.txt': 1}, 'breakdown': {'1659.txt': 1}, 'wer': {'1659.txt': 1}, 'e': {'1659.txt': 1, '2189.txt': 1, '1987.txt': 4}, 'quick': {'1659.txt': 2, '2029.txt': 1}, 'mean': {'1659.txt': 1, '1539.txt': 2, '1840.txt': 2, '2029.txt': 1, '2189.txt': 1}, 'stifl': {'1659.txt': 1}, 'creativ': {'1659.txt': 1}, 'depriv': {'1659.txt': 1}, 'youngster': {'1659.txt': 1, '2029.txt': 1}, 'harri': {'1659.txt': 1, '1669.txt': 1}, 'jami': {'1659.txt': 1}, 'noon': {'1659.txt': 1}, 'experi': {'1659.txt': 2}, 'problem': {'1659.txt': 1, '1818.txt': 1, '1928.txt': 1, '2029.txt': 1, '2189.txt': 1, '1987.txt': 1}, 'around': {'1659.txt': 1, '2025.txt': 1, '1928.txt': 2, '1840.txt': 1}, 'icon': {'1659.txt': 1}, 'requisit': {'1659.txt': 1}, 'anyth': {'1659.txt': 1}, 'knock': {'1659.txt': 1}, 'door': {'1659.txt': 1, '1928.txt': 1}, 'certainti': {'1659.txt': 1}, 'handl': {'1659.txt': 1}, 'intern': {'1659.txt': 1, '1584.txt': 1, '1928.txt': 1, '2189.txt': 1, '1987.txt': 2}, 'newcastl': {'1584.txt': 1}, 'join': {'1584.txt': 1, '1466.txt': 1}, 'race': {'1584.txt': 2}, 'sign': {'1584.txt': 1, '1539.txt': 2, '1928.txt': 1}, 'striker': {'1584.txt': 1, '1539.txt': 1, '1466.txt': 1}, 'fernando': {'1584.txt': 1}, 'morient': {'1584.txt': 4}, 'scupper': {'1584.txt': 1}, 'liverpool': {'1584.txt': 6}, 'bid': {'1584.txt': 3}, 'snap': {'1584.txt': 1}, 'm': {'1584.txt': 3, '1373.txt': 17, '1466.txt': 1, '1928.txt': 2}, '28': {'1584.txt': 1, '1617.txt': 1, '1373.txt': 1}, 'spanish': {'1584.txt': 1, '1466.txt': 1}, 'echo': {'1584.txt': 1}, 'anfield': {'1584.txt': 2}, 'rafa': {'1584.txt': 2}, 'benitez': {'1584.txt': 3}, 'avoid': {'1584.txt': 1}, 'war': {'1584.txt': 1}, 'attent': {'1584.txt': 2, '2029.txt': 1}, 'nicola': {'1584.txt': 1}, 'anelka': {'1584.txt': 3}, 'monaco': {'1584.txt': 1}, 'loan': {'1584.txt': 1, '1987.txt': 1}, 'suggest': {'1584.txt': 1}, 'lift': {'1584.txt': 1}, 'offer': {'1584.txt': 1, '2029.txt': 1, '1987.txt': 1}, 'bow': {'1584.txt': 1}, 'pleas': {'1584.txt': 1}, 'statur': {'1584.txt': 1}, 'situat': {'1584.txt': 2, '1539.txt': 1}, 'sort': {'1584.txt': 1, '1987.txt': 4}, 'sensibl': {'1584.txt': 1, '2189.txt': 1, '1987.txt': 1}, 'elsewher': {'1584.txt': 1}, 'everyon': {'1584.txt': 1}, 'realist': {'1584.txt': 1}, 'spoken': {'1584.txt': 1}, 'appreci': {'1584.txt': 1}, 'reluct': {'1584.txt': 1}, 'previous': {'1584.txt': 1, '1373.txt': 1}, 'gerard': {'1584.txt': 1}, 'houlli': {'1584.txt': 1}, 'seal': {'1584.txt': 1}, 'perman': {'1584.txt': 1}, 'switch': {'1584.txt': 1}, 'manchest': {'1584.txt': 1, '1466.txt': 1}, 'greg': {'1818.txt': 1}, 'rusedski': {'1818.txt': 2}, 'withdraw': {'1818.txt': 1}, '13': {'1818.txt': 1, '1669.txt': 1, '1373.txt': 2, '2189.txt': 1}, 'marseil': {'1818.txt': 1}, 'rib': {'1818.txt': 2}, 'schedul': {'1818.txt': 1}, 'qualifi': {'1818.txt': 1, '1539.txt': 1, '1373.txt': 10}, 'sebastien': {'1818.txt': 1}, 'de': {'1818.txt': 1}, 'chaunac': {'1818.txt': 1}, 'guillermo': {'1818.txt': 1}, 'coria': {'1818.txt': 1}, 'round': {'1818.txt': 1, '1373.txt': 1, '2025.txt': 1}, 'unabl': {'1818.txt': 1, '2025.txt': 1}, 'leav': {'1818.txt': 1, '1539.txt': 1, '2189.txt': 1, '1987.txt': 4}, 'cage': {'1818.txt': 1}, 'taylor': {'1818.txt': 1}, 'dent': {'1818.txt': 1}, 'shock': {'1818.txt': 1, '1373.txt': 1}, 'nalbandian': {'1818.txt': 1}, 'joachim': {'1818.txt': 1}, 'johansson': {'1818.txt': 1}, 'frenchman': {'1818.txt': 1}, 'gill': {'1818.txt': 1}, 'simon': {'1818.txt': 1}, 'feliciano': {'1818.txt': 1}, 'lopez': {'1818.txt': 1}, 'ivo': {'1818.txt': 1}, 'karlov': {'1818.txt': 1}, 'slovakia': {'1818.txt': 1}, 'karol': {'1818.txt': 1}, 'beck': {'1818.txt': 1}, 'croatian': {'1818.txt': 1}, 'duo': {'1818.txt': 1}, 'ivan': {'1818.txt': 1}, 'ljubic': {'1818.txt': 1}, 'mario': {'1818.txt': 1}, 'ancic': {'1818.txt': 1}, 'arsen': {'1539.txt': 6, '1466.txt': 5}, 'wenger': {'1539.txt': 5}, 'faith': {'1539.txt': 3}, 'keeper': {'1539.txt': 4}, 'manuel': {'1539.txt': 1}, 'almunia': {'1539.txt': 3}, 'crunch': {'1539.txt': 1}, 'defin': {'1539.txt': 1}, 'rosenborg': {'1539.txt': 3}, 'sunday': {'1539.txt': 1, '1617.txt': 1, '1373.txt': 1}, 'goalkeep': {'1539.txt': 2}, 'stori': {'1539.txt': 1, '1466.txt': 2}, 'spaniard': {'1539.txt': 1, '1466.txt': 1}, 'celta': {'1539.txt': 1}, 'vigo': {'1539.txt': 1}, 'jen': {'1539.txt': 2}, 'lehmann': {'1539.txt': 4}, 'do': {'1539.txt': 1, '1840.txt': 1, '2189.txt': 1}, 'denni': {'1539.txt': 1}, 'bergkamp': {'1539.txt': 1}, 'kanu': {'1539.txt': 1}, 'everybodi': {'1539.txt': 1}, 'mistak': {'1539.txt': 2, '1987.txt': 1}, 'trafford': {'1539.txt': 1}, 'alarm': {'1539.txt': 1}, 'birmingham': {'1539.txt': 1}, 'either': {'1539.txt': 1}, 'robot': {'1539.txt': 1}, 'period': {'1539.txt': 2}, 'less': {'1539.txt': 1, '2029.txt': 1}, 'shorter': {'1539.txt': 1}, 'seaman': {'1539.txt': 2}, 'harshli': {'1539.txt': 1}, 'treat': {'1539.txt': 1}, 'mail': {'1539.txt': 1, '2189.txt': 1, '1987.txt': 2}, 'fantast': {'1539.txt': 1, '2189.txt': 1}, 'deserv': {'1539.txt': 2}, 'anoth': {'1539.txt': 1, '2025.txt': 1, '1987.txt': 1}, 'choic': {'1539.txt': 1}, 'suspens': {'1539.txt': 1}, 'inexperienc': {'1539.txt': 1}, 'midfield': {'1539.txt': 1}, 'pair': {'1539.txt': 1}, 'mathieu': {'1539.txt': 1}, 'flamini': {'1539.txt': 1}, 'cesc': {'1539.txt': 1}, 'fabrega': {'1539.txt': 1}, 'prove': {'1539.txt': 1, '1840.txt': 2, '2029.txt': 2}, 'learn': {'1539.txt': 1}, 'process': {'1539.txt': 1, '2025.txt': 1, '2189.txt': 1, '1987.txt': 3}, 'worri': {'1539.txt': 1, '2189.txt': 1}, 'mental': {'1539.txt': 1}, 'workrat': {'1539.txt': 1}, 'gunner': {'1539.txt': 2, '1466.txt': 1}, 'sol': {'1539.txt': 1}, 'campbel': {'1539.txt': 2}, 'verg': {'1539.txt': 1}, 'contract': {'1539.txt': 1, '1466.txt': 1}, 'success': {'1539.txt': 1}, 'competit': {'1539.txt': 2}, 'thierri': {'1539.txt': 1}, 'henri': {'1539.txt': 2}, 'suspend': {'1539.txt': 1}, 'patrick': {'1539.txt': 1}, 'vieira': {'1539.txt': 1}, 'seek': {'1539.txt': 1}, 'requir': {'1539.txt': 1}, 'fault': {'1539.txt': 1}, 'kirwan': {'1617.txt': 3}, 'challeng': {'1617.txt': 1, '1768.txt': 1, '1669.txt': 1, '1373.txt': 1, '2189.txt': 5}, 'perform': {'1617.txt': 2}, 'despit': {'1617.txt': 1, '1669.txt': 1}, '17': {'1617.txt': 1, '1373.txt': 1, '1466.txt': 1}, 'encount': {'1617.txt': 1}, 'italian': {'1617.txt': 1}, 'goal': {'1617.txt': 1, '2189.txt': 1}, 'everi': {'1617.txt': 1, '1840.txt': 1}, 'mix': {'1617.txt': 1}, 'afternoon': {'1617.txt': 1}, 'recal': {'1617.txt': 1}, 'scrum': {'1617.txt': 1}, 'alessandro': {'1617.txt': 1}, 'troncon': {'1617.txt': 2}, 'impress': {'1617.txt': 1}, 'luciano': {'1617.txt': 1}, 'orquera': {'1617.txt': 2}, 'boot': {'1617.txt': 1}, 'incred': {'1617.txt': 1}, 'defenc': {'1617.txt': 2}, 'kick': {'1617.txt': 1}, 'courag': {'1617.txt': 1}, 'follow': {'1617.txt': 1, '1669.txt': 1, '2029.txt': 1}, 'sweep': {'1768.txt': 1}, 'asid': {'1768.txt': 1, '2029.txt': 1}, 'venu': {'1768.txt': 1}, 'hong': {'1768.txt': 1}, 'kong': {'1768.txt': 1}, 'servic': {'1768.txt': 1, '2029.txt': 4, '2189.txt': 2, '1987.txt': 2}, 'victoria': {'1768.txt': 1}, 'exhibit': {'1768.txt': 1}, 'grand': {'1768.txt': 1}, 'slam': {'1768.txt': 1}, 'display': {'1768.txt': 1}, 'nice': {'1768.txt': 1}, 'mostli': {'1768.txt': 1}, 'commit': {'1768.txt': 1, '1466.txt': 1, '1987.txt': 1}, 'unforc': {'1768.txt': 1}, 'error': {'1768.txt': 2}, 'organ': {'1768.txt': 1}, 'auction': {'1768.txt': 1}, 'racket': {'1768.txt': 1}, 'belong': {'1768.txt': 1}, 'rais': {'1768.txt': 1}, '115': {'1768.txt': 1}, 'disast': {'1768.txt': 1}, 'train': {'1669.txt': 2}, 'leed': {'1669.txt': 2}, 'rhino': {'1669.txt': 1}, 'similar': {'1669.txt': 2}, 'clinic': {'1669.txt': 1}, 'rival': {'1669.txt': 1, '1373.txt': 1}, 'st': {'1669.txt': 4}, 'helen': {'1669.txt': 4, '1373.txt': 1}, 'saint': {'1669.txt': 4}, 'ian': {'1669.txt': 1, '1373.txt': 1}, 'millward': {'1669.txt': 1}, 'unlik': {'1669.txt': 1}, 'portug': {'1669.txt': 1}, 'spokesman': {'1669.txt': 1, '1928.txt': 3, '2029.txt': 1}, 'seriou': {'1669.txt': 1, '1987.txt': 1}, 'consider': {'1669.txt': 1}, 'welsh': {'1669.txt': 2, '1373.txt': 1}, 'connect': {'1669.txt': 1, '2025.txt': 1}, 'obviou': {'1669.txt': 1}, 'union': {'1669.txt': 2, '1373.txt': 1}, 'spat': {'1669.txt': 1}, 'collaps': {'1669.txt': 1}, 'kieron': {'1669.txt': 1}, 'cunningham': {'1669.txt': 1}, '500': {'1669.txt': 1}, 'swansea': {'1669.txt': 1}, 'cross': {'1669.txt': 1, '1373.txt': 1, '1987.txt': 1}, 'code': {'1669.txt': 2}, 'iestyn': {'1669.txt': 1}, 'cardiff': {'1669.txt': 1}, 'man': {'1669.txt': 2, '1373.txt': 4, '2025.txt': 1}, 'bradford': {'1669.txt': 1}, 'bull': {'1669.txt': 1}, 'kel': {'1669.txt': 1}, 'coslett': {'1669.txt': 1}, 'famous': {'1669.txt': 1}, '1960': {'1669.txt': 1}, 'footbal': {'1669.txt': 1}, 'griffith': {'1669.txt': 1}, 'defens': {'1669.txt': 1}, 'behind': {'1669.txt': 1, '2025.txt': 2}, 'scott': {'1669.txt': 1, '1373.txt': 1}, 'gibb': {'1669.txt': 1}, '1994': {'1669.txt': 1}, '96': {'1669.txt': 1}, 'wembley': {'1669.txt': 1}, '1996': {'1669.txt': 1}, 'jade': {'1373.txt': 1}, 'kelli': {'1373.txt': 1}, 'sotherton': {'1373.txt': 5}, 'aaa': {'1373.txt': 6}, 'norwich': {'1373.txt': 1}, 'indoor': {'1373.txt': 5}, 'trial': {'1373.txt': 1}, 'olymp': {'1373.txt': 2}, 'heptathlon': {'1373.txt': 2}, 'bronz': {'1373.txt': 2}, 'medallist': {'1373.txt': 2}, 'leap': {'1373.txt': 1}, 'compet': {'1373.txt': 1}, 'leapt': {'1373.txt': 1}, '50': {'1373.txt': 2}, 'foul': {'1373.txt': 1}, 'mark': {'1373.txt': 8, '2029.txt': 1}, 'pentathlon': {'1373.txt': 1}, 'carolina': {'1373.txt': 1}, 'kluft': {'1373.txt': 1}, '200': {'1373.txt': 3}, 'storm': {'1373.txt': 1}, '21': {'1373.txt': 1, '1466.txt': 1}, '01': {'1373.txt': 1}, 'lambert': {'1373.txt': 2}, 'settl': {'1373.txt': 1, '2189.txt': 1}, 'paul': {'1373.txt': 1, '2029.txt': 1}, 'brizzel': {'1373.txt': 1}, 'consol': {'1373.txt': 1}, '20': {'1373.txt': 2, '2025.txt': 1, '1928.txt': 1, '2189.txt': 1}, '94': {'1373.txt': 1}, 'allyn': {'1373.txt': 1}, 'condon': {'1373.txt': 1}, 'macki': {'1373.txt': 1}, 'luck': {'1373.txt': 2}, 'disqualifi': {'1373.txt': 1}, 'heat': {'1373.txt': 3}, 'plenti': {'1373.txt': 1}, 'hot': {'1373.txt': 1}, '60': {'1373.txt': 1}, 'hurdl': {'1373.txt': 1}, 'vie': {'1373.txt': 1}, 'olympian': {'1373.txt': 1}, 'turner': {'1373.txt': 2}, '22': {'1373.txt': 1, '2025.txt': 1}, 'broke': {'1373.txt': 1}, '58': {'1373.txt': 1}, '82': {'1373.txt': 1}, '83': {'1373.txt': 1}, 'damien': {'1373.txt': 1}, 'greav': {'1373.txt': 1}, 'trio': {'1373.txt': 1}, 'athlet': {'1373.txt': 1}, 'though': {'1373.txt': 2}, 'comfort': {'1373.txt': 1, '2029.txt': 1, '1987.txt': 1}, 'clock': {'1373.txt': 1}, '49': {'1373.txt': 2}, '87': {'1373.txt': 3}, 'surpass': {'1373.txt': 1}, 'clithero': {'1373.txt': 1}, 'agonisingli': {'1373.txt': 1}, '05': {'1373.txt': 2}, '00': {'1373.txt': 1}, '73': {'1373.txt': 1}, '800': {'1373.txt': 2}, 'fast': {'1373.txt': 2, '2025.txt': 1, '2189.txt': 1}, 'lie': {'1373.txt': 1, '1840.txt': 1}, 'thie': {'1373.txt': 1}, 'mcilroy': {'1373.txt': 2}, 'eas': {'1373.txt': 1}, 'across': {'1373.txt': 1, '2189.txt': 3}, 'showdown': {'1373.txt': 1}, 'sheffield': {'1373.txt': 1}, 'watkin': {'1373.txt': 1}, 'susan': {'1373.txt': 1}, 'deacon': {'1373.txt': 2}, 'stole': {'1373.txt': 1}, 'thunder': {'1373.txt': 1}, 'woman': {'1373.txt': 4}, 'fraser': {'1373.txt': 2}, 'distanc': {'1373.txt': 2}, '23': {'1373.txt': 2}, '68': {'1373.txt': 1}, 'outsid': {'1373.txt': 1}, '67': {'1373.txt': 1}, 'shoot': {'1373.txt': 2, '2025.txt': 11}, 'veteran': {'1373.txt': 1}, '39': {'1373.txt': 1}, 'fifth': {'1373.txt': 1}, '77': {'1373.txt': 1}, 'injur': {'1373.txt': 1}, 'carl': {'1373.txt': 1}, 'myerscough': {'1373.txt': 1}, '64': {'1373.txt': 1}, 'sale': {'1373.txt': 1}, 'robert': {'1373.txt': 1}, 'mitchel': {'1373.txt': 1}, 'climb': {'1373.txt': 2}, 'cm': {'1373.txt': 1}, 'short': {'1373.txt': 1}, 'temper': {'1373.txt': 1}, 'slovenia': {'1373.txt': 1}, 'pole': {'1373.txt': 1}, 'vault': {'1373.txt': 1}, 'bar': {'1373.txt': 1}, '45': {'1373.txt': 1}, 'ashley': {'1373.txt': 1}, 'swain': {'1373.txt': 1}, '25': {'1373.txt': 1, '1840.txt': 1}, 'taniesha': {'1373.txt': 1}, 'scanlon': {'1373.txt': 1}, 'tripl': {'1373.txt': 1}, 'antonio': {'1466.txt': 1}, 'rey': {'1466.txt': 2}, 'specul': {'1466.txt': 2}, 'link': {'1466.txt': 3, '1928.txt': 1, '1987.txt': 1}, 'fall': {'1466.txt': 1}, 'radio': {'1466.txt': 2}, 'prank': {'1466.txt': 1}, 'emilio': {'1466.txt': 1}, 'butragueno': {'1466.txt': 2}, 'allegedli': {'1466.txt': 1}, 'berat': {'1466.txt': 1}, 'mate': {'1466.txt': 1}, 'wish': {'1466.txt': 1}, 'cadena': {'1466.txt': 1}, 'cope': {'1466.txt': 1, '2189.txt': 1}, 'sevil': {'1466.txt': 1}, 'frequent': {'1466.txt': 1}, 'homesick': {'1466.txt': 1}, 'begin': {'1466.txt': 1}, 'superb': {'1466.txt': 1}, 'maintain': {'1466.txt': 1}, 'gradual': {'1466.txt': 1, '2189.txt': 1}, 'premiership': {'1466.txt': 1}, 'none': {'1466.txt': 1}, 'dream': {'1466.txt': 1, '2029.txt': 1}, 'surfac': {'1466.txt': 1}, 'giant': {'1466.txt': 1}, 'issu': {'1466.txt': 1, '2029.txt': 2, '1987.txt': 2}, 'describ': {'1466.txt': 1}, 'flatter': {'1466.txt': 1}, 'medium': {'1466.txt': 1, '2029.txt': 2}, 'lunchtim': {'1466.txt': 1}, 'angri': {'1466.txt': 1}, 'imperson': {'1466.txt': 1}, 'disc': {'1466.txt': 1}, 'jockey': {'1466.txt': 1}, 'disgrac': {'1466.txt': 1}, 'foundat': {'1466.txt': 1}, 'care': {'1466.txt': 1, '2029.txt': 1, '1987.txt': 3}, 'rumour': {'1466.txt': 1}, 'soon': {'2025.txt': 1}, 'hunt': {'2025.txt': 9}, 'via': {'2025.txt': 3, '2189.txt': 1}, 'net': {'2025.txt': 4, '2189.txt': 17, '1987.txt': 2}, 'texa': {'2025.txt': 5}, 'let': {'2025.txt': 6, '1840.txt': 1}, 'web': {'2025.txt': 1, '2189.txt': 2}, 'user': {'2025.txt': 3, '1840.txt': 1, '2189.txt': 1}, 'use': {'2025.txt': 2, '1928.txt': 2, '1840.txt': 9, '2189.txt': 2, '1987.txt': 1}, 'remot': {'2025.txt': 7}, 'control': {'2025.txt': 6, '2189.txt': 1}, 'rifl': {'2025.txt': 5}, 'deer': {'2025.txt': 3}, 'antelop': {'2025.txt': 2}, 'wild': {'2025.txt': 3}, 'pig': {'2025.txt': 3}, 'fee': {'2025.txt': 3}, 'camera': {'2025.txt': 3}, 'anim': {'2025.txt': 7}, 'roam': {'2025.txt': 1}, '133': {'2025.txt': 1}, 'hectar': {'2025.txt': 1}, 'ranch': {'2025.txt': 3}, 'live': {'2025.txt': 3}, 'scheme': {'2025.txt': 1}, 'practis': {'2025.txt': 1}, 'target': {'2025.txt': 3, '2029.txt': 1, '1987.txt': 1}, 'internet': {'2025.txt': 2, '2189.txt': 4}, 'underwood': {'2025.txt': 6}, 'ago': {'2025.txt': 1}, 'watch': {'2025.txt': 1}, 'webcam': {'2025.txt': 1}, 'site': {'2025.txt': 2, '1840.txt': 2, '2029.txt': 3, '1987.txt': 1}, 'white': {'2025.txt': 1}, 'tail': {'2025.txt': 1}, 'buck': {'2025.txt': 1}, 'friend': {'2025.txt': 1, '1840.txt': 1}, 'gun': {'2025.txt': 3}, 'light': {'2025.txt': 1}, 'bulb': {'2025.txt': 1}, 'head': {'2025.txt': 1}, 'reuter': {'2025.txt': 1}, 'agenc': {'2025.txt': 1, '1928.txt': 3, '2029.txt': 2, '1987.txt': 1}, 'result': {'2025.txt': 1}, 'rig': {'2025.txt': 3}, 'calibr': {'2025.txt': 1}, 'conceal': {'2025.txt': 1}, 'locat': {'2025.txt': 1}, 'reserv': {'2025.txt': 1}, 'varieti': {'2025.txt': 1}, 'hunter': {'2025.txt': 3}, 'quickli': {'2025.txt': 1}, 'track': {'2025.txt': 1, '1928.txt': 1}, '150': {'2025.txt': 1}, 'meat': {'2025.txt': 1}, 'taxidermi': {'2025.txt': 1}, 'speci': {'2025.txt': 2}, 'barbari': {'2025.txt': 1}, 'corsican': {'2025.txt': 1}, 'mouflon': {'2025.txt': 1}, 'sheep': {'2025.txt': 1}, 'blackbuck': {'2025.txt': 1}, 'silhouett': {'2025.txt': 1}, '95': {'2025.txt': 1}, 'dvd': {'2025.txt': 1}, 'handler': {'2025.txt': 1}, 'overse': {'2025.txt': 1, '2189.txt': 2}, 'stop': {'2025.txt': 2, '2029.txt': 1}, 'fire': {'2025.txt': 1}, 'rang': {'2025.txt': 1}, 'popular': {'2025.txt': 1, '1840.txt': 1, '2029.txt': 2}, 'disabl': {'2025.txt': 1}, 'wood': {'2025.txt': 1}, 'distant': {'2025.txt': 1}, 'afford': {'2025.txt': 1, '1840.txt': 3}, 'rspca': {'2025.txt': 2}, 'grave': {'2025.txt': 1}, 'allow': {'2025.txt': 1, '1928.txt': 2, '2189.txt': 3, '1987.txt': 1}, 'onlin': {'2025.txt': 1, '1928.txt': 2, '2029.txt': 1, '1987.txt': 3}, 'assum': {'2025.txt': 1}, 'accur': {'2025.txt': 1}, 'therefor': {'2025.txt': 1}, 'ensur': {'2025.txt': 1, '1840.txt': 1, '2189.txt': 3}, 'clean': {'2025.txt': 1, '1840.txt': 1}, 'kill': {'2025.txt': 2}, 'accept': {'2025.txt': 1, '1840.txt': 1}, 'intent': {'2025.txt': 1}, 'doubt': {'2025.txt': 1, '1987.txt': 1}, 'unnecessarili': {'2025.txt': 1}, 'mike': {'2025.txt': 1}, 'berger': {'2025.txt': 1}, 'wildlif': {'2025.txt': 2}, 'depart': {'2025.txt': 1}, 'statut': {'2025.txt': 1}, 'cover': {'2025.txt': 2}, 'regul': {'2025.txt': 1}, 'nativ': {'2025.txt': 1}, 'bird': {'2025.txt': 1}, 'unregul': {'2025.txt': 1}, 'comput': {'1928.txt': 3, '2189.txt': 1, '1987.txt': 1}, 'system': {'1928.txt': 7, '1987.txt': 5}, 'monitor': {'1928.txt': 1}, 'nuclear': {'1928.txt': 6}, 'instal': {'1928.txt': 1}, 'outdat': {'1928.txt': 1}, 'hamper': {'1928.txt': 1}, 'inspector': {'1928.txt': 6}, 'atom': {'1928.txt': 1}, 'iaea': {'1928.txt': 5}, 'technolog': {'1928.txt': 3, '2189.txt': 2}, 'inform': {'1928.txt': 3, '2189.txt': 3}, 'overlook': {'1928.txt': 1}, 'method': {'1928.txt': 1}, 'materi': {'1928.txt': 3, '1840.txt': 1}, 'appeal': {'1928.txt': 1}, 'updat': {'1928.txt': 1}, 'hardwar': {'1928.txt': 2}, 'softwar': {'1928.txt': 2}, 'overhaul': {'1928.txt': 1}, 'immedi': {'1928.txt': 1, '2029.txt': 1}, 'livio': {'1928.txt': 1}, 'costantini': {'1928.txt': 1}, '900': {'1928.txt': 1}, 'facil': {'1928.txt': 3}, 'verifi': {'1928.txt': 1}, 'activ': {'1928.txt': 2}, 'plant': {'1928.txt': 4}, 'environment': {'1928.txt': 1, '1840.txt': 1}, 'check': {'1928.txt': 1, '1987.txt': 1}, 'smuggl': {'1928.txt': 2}, 'datum': {'1928.txt': 2, '1987.txt': 5}, 'instanc': {'1928.txt': 1}, '1970': {'1928.txt': 1}, 'ineffici': {'1928.txt': 1}, 'search': {'1928.txt': 2}, 'anomali': {'1928.txt': 1}, 'needl': {'1928.txt': 1}, 'haystack': {'1928.txt': 1}, 'upgrad': {'1928.txt': 2}, 'inspect': {'1928.txt': 1}, 'design': {'1928.txt': 1, '2189.txt': 2}, 'blueprint': {'1928.txt': 1}, 'even': {'1928.txt': 1, '2189.txt': 1, '1987.txt': 2}, 'satellit': {'1928.txt': 1}, 'imag': {'1928.txt': 1}, 'analysi': {'1928.txt': 1}, 'illicit': {'1928.txt': 1}, 'transfer': {'1928.txt': 1, '2189.txt': 1}, 'specialist': {'1928.txt': 1}, 'peter': {'1928.txt': 1}, 'incorpor': {'1928.txt': 1}, 'art': {'1928.txt': 1}, 'visualis': {'1928.txt': 1}, 'techniqu': {'1928.txt': 1}, 'familiar': {'1928.txt': 1}, 'video': {'1928.txt': 1}, 'toolkit': {'1928.txt': 1}, 'commerci': {'1928.txt': 1}, 'virtual': {'1928.txt': 1}, 'laptop': {'1928.txt': 3}, 'walk': {'1928.txt': 1, '2189.txt': 1}, 'wall': {'1928.txt': 1}, 'estim': {'1928.txt': 1, '1840.txt': 1}, 'receiv': {'1928.txt': 1, '2189.txt': 2}, 'failur': {'1928.txt': 1}, 'integr': {'1928.txt': 1}, 'fulli': {'1928.txt': 1}, 'compon': {'1928.txt': 1}, 'risk': {'1928.txt': 1}, 'mobil': {'1840.txt': 13}, 'phone': {'1840.txt': 18, '2029.txt': 1, '2189.txt': 1}, 'environ': {'1840.txt': 1}, 'social': {'1840.txt': 2}, 'benefit': {'1840.txt': 1, '2029.txt': 1}, 'research': {'1840.txt': 2, '2029.txt': 1, '2189.txt': 1}, 'digit': {'1840.txt': 1, '2029.txt': 1, '2189.txt': 1, '1987.txt': 2}, 'divid': {'1840.txt': 1}, 'forum': {'1840.txt': 4}, 'recycl': {'1840.txt': 2}, 'handset': {'1840.txt': 8}, 'poor': {'1840.txt': 3, '1987.txt': 1}, 'collect': {'1840.txt': 1}, 'rot': {'1840.txt': 1}, 'landfil': {'1840.txt': 2}, 'approxim': {'1840.txt': 1}, 'swap': {'1840.txt': 1}, 'slowli': {'1840.txt': 1, '1987.txt': 1}, 'mass': {'1840.txt': 1}, 'unrecycl': {'1840.txt': 1}, 'discard': {'1840.txt': 1}, '90': {'1840.txt': 1, '2189.txt': 1}, 'equival': {'1840.txt': 1}, 'tonn': {'1840.txt': 1}, 'wast': {'1840.txt': 1}, 'goodman': {'1840.txt': 6}, 'advis': {'1840.txt': 1}, 'quit': {'1840.txt': 1}, 'leak': {'1840.txt': 1}, 'toxic': {'1840.txt': 1}, 'send': {'1840.txt': 1, '2189.txt': 2}, 'oversea': {'1840.txt': 2}, 'enjoy': {'1840.txt': 1, '2029.txt': 1}, 'leas': {'1840.txt': 1}, 'particularli': {'1840.txt': 1}, 'incom': {'1840.txt': 1}, 'date': {'1840.txt': 1}, 'depth': {'1840.txt': 1}, 'romania': {'1840.txt': 2}, 'recondit': {'1840.txt': 3}, 'crap': {'1840.txt': 1}, 'fix': {'1840.txt': 1}, 'network': {'1840.txt': 1, '2029.txt': 9, '2189.txt': 3}, 'desir': {'1840.txt': 1}, 'rel': {'1840.txt': 1}, 'wage': {'1840.txt': 2}, 'shini': {'1840.txt': 1}, 'barrier': {'1840.txt': 1}, 'almost': {'1840.txt': 1, '2189.txt': 1}, 'romanian': {'1840.txt': 2}, 'pre': {'1840.txt': 1}, 'tend': {'1840.txt': 1}, 'georgeta': {'1840.txt': 1}, 'minciu': {'1840.txt': 1}, 'part': {'1840.txt': 1, '2189.txt': 1, '1987.txt': 1}, 'normal': {'1840.txt': 1}, 'parent': {'1840.txt': 1}, 'daughter': {'1840.txt': 1}, 'consum': {'1840.txt': 1}, 'britain': {'1840.txt': 1}, 'mountain': {'1840.txt': 1}, 'keen': {'1840.txt': 1, '2029.txt': 2}, 'download': {'2029.txt': 5}, 'audienc': {'2029.txt': 5}, 'advantag': {'2029.txt': 2}, 'free': {'2029.txt': 1, '2189.txt': 1}, 'advertis': {'2029.txt': 12}, 'equal': {'2029.txt': 2}, 'captiv': {'2029.txt': 1}, 'legitimaci': {'2029.txt': 1}, 'share': {'2029.txt': 1}, 'rage': {'2029.txt': 1}, 'threat': {'2029.txt': 1}, 'true': {'2029.txt': 1}, 'brand': {'2029.txt': 9}, 'nightmar': {'2029.txt': 1}, 'myer': {'2029.txt': 1}, 'chief': {'2029.txt': 2}, 'wippit': {'2029.txt': 1}, 'oxygen': {'2029.txt': 1}, 'support': {'2029.txt': 3}, 'illeg': {'2029.txt': 3}, 'edonkey': {'2029.txt': 5}, 'steadfastli': {'2029.txt': 1}, 'copyright': {'2029.txt': 1}, 'theft': {'2029.txt': 2, '1987.txt': 4}, 'cash': {'2029.txt': 1}, 'money': {'2029.txt': 2, '1987.txt': 2}, 'nat': {'2029.txt': 1}, 'vodafon': {'2029.txt': 1}, 'o2': {'2029.txt': 1}, 'ntl': {'2029.txt': 2}, 'renault': {'2029.txt': 1}, 'letter': {'2029.txt': 1, '1987.txt': 1}, 'phonograph': {'2029.txt': 1}, 'urg': {'2029.txt': 1}, 'dump': {'2029.txt': 1}, 'associ': {'2029.txt': 1}, 'bpi': {'2029.txt': 2}, 'condemn': {'2029.txt': 1}, 'establish': {'2029.txt': 1}, 'bedfellow': {'2029.txt': 1}, 'kazaa': {'2029.txt': 1}, 'grokster': {'2029.txt': 1}, 'facilit': {'2029.txt': 1}, 'fileshar': {'2029.txt': 1}, 'strongli': {'2029.txt': 1}, 'reput': {'2029.txt': 1}, 'revenu': {'2029.txt': 1}, 'sharer': {'2029.txt': 1}, 'steal': {'2029.txt': 1, '1987.txt': 3}, 'scale': {'2029.txt': 1, '2189.txt': 1}, 'busi': {'2029.txt': 1, '2189.txt': 1}, 'complic': {'2029.txt': 1}, 'mulligan': {'2029.txt': 2}, 'jupit': {'2029.txt': 1}, 'napster': {'2029.txt': 1}, 'repres': {'2029.txt': 1}, 'probabl': {'2029.txt': 1, '2189.txt': 1, '1987.txt': 1}, 'ad': {'2029.txt': 3}, 'perfect': {'2029.txt': 1, '1987.txt': 1}, 'valuabl': {'2029.txt': 1, '1987.txt': 1}, 'contact': {'2029.txt': 1}, 'directli': {'2029.txt': 1}, 'awar': {'2029.txt': 2, '1987.txt': 2}, 'onetel': {'2029.txt': 1}, 'advert': {'2029.txt': 5}, 'respons': {'2029.txt': 1}, 'typic': {'2029.txt': 1}, 'investig': {'2029.txt': 1}, 'affili': {'2029.txt': 1}, 'knowledg': {'2029.txt': 1}, 'polici': {'2029.txt': 1}, 'discount': {'2029.txt': 1}, 'request': {'2029.txt': 1}, 'remov': {'2029.txt': 1}, 'spokeswoman': {'2029.txt': 1}, 'similarli': {'2029.txt': 1}, 'telecommun': {'2029.txt': 1}, 'strict': {'2029.txt': 1}, 'instruct': {'2029.txt': 1}, 'convinc': {'2029.txt': 1}, 'explan': {'2029.txt': 1}, 'might': {'2029.txt': 1, '1987.txt': 1}, 'alloc': {'2029.txt': 1}, 'actual': {'2029.txt': 1, '2189.txt': 1}, 'excus': {'2029.txt': 1}, 'prevent': {'2029.txt': 1}, 'leverag': {'2029.txt': 1}, 'perhap': {'2029.txt': 1}, 'senat': {'2029.txt': 1}, 'kerri': {'2029.txt': 1}, 'sam': {'2029.txt': 1}, 'yagan': {'2029.txt': 1}, 'distinct': {'2029.txt': 1}, 'client': {'2029.txt': 1, '1987.txt': 1}, 'uniqu': {'2029.txt': 1, '2189.txt': 1}, 'engag': {'2029.txt': 1}, 'custom': {'2029.txt': 1, '1987.txt': 4}, 'desk': {'2029.txt': 1}, 'interact': {'2029.txt': 1}, 'bodi': {'2189.txt': 1}, 'evolv': {'2189.txt': 1}, 'hardli': {'2189.txt': 1, '1987.txt': 1}, 'whole': {'2189.txt': 3}, 'popul': {'2189.txt': 2}, 'chair': {'2189.txt': 2}, 'engin': {'2189.txt': 2}, 'task': {'2189.txt': 3}, 'ietf': {'2189.txt': 5}, 'carpent': {'2189.txt': 9}, 'smooth': {'2189.txt': 1}, 'architectur': {'2189.txt': 3}, 'broadband': {'2189.txt': 3}, 'voic': {'2189.txt': 2}, 'voip': {'2189.txt': 2}, 'protocol': {'2189.txt': 5}, 'telecom': {'2189.txt': 1}, 'dr': {'2189.txt': 8}, 'deepli': {'2189.txt': 1}, 'infrastructur': {'2189.txt': 3}, 'distinguish': {'2189.txt': 1}, 'ibm': {'2189.txt': 1}, 'cern': {'2189.txt': 2}, 'laboratori': {'2189.txt': 1}, 'particl': {'2189.txt': 1}, 'physic': {'2189.txt': 1}, 'ipv6': {'2189.txt': 5}, 'pioneer': {'2189.txt': 1}, 'applic': {'2189.txt': 1}, 'evolut': {'2189.txt': 2}, 'prioriti': {'2189.txt': 1}, 'tcp': {'2189.txt': 1}, 'ip': {'2189.txt': 5}, 'transmiss': {'2189.txt': 1}, 'commun': {'2189.txt': 3}, 'address': {'2189.txt': 6}, 'vendor': {'2189.txt': 1}, 'knit': {'2189.txt': 1}, 'togeth': {'2189.txt': 1}, 'effect': {'2189.txt': 1}, 'rate': {'2189.txt': 2}, 'glitch': {'2189.txt': 1}, '2000': {'2189.txt': 1}, 'phase': {'2189.txt': 1}, 'renew': {'2189.txt': 2}, 'buoy': {'2189.txt': 1}, 'emerg': {'2189.txt': 1}, 'uptak': {'2189.txt': 1}, 'subscrib': {'2189.txt': 2}, 'dsl': {'2189.txt': 1}, 'doubl': {'2189.txt': 1}, 'releas': {'2189.txt': 1}, 'exist': {'2189.txt': 1}, 'ipv4': {'2189.txt': 2}, 'billion': {'2189.txt': 3}, 'limit': {'2189.txt': 2}, 'clearli': {'2189.txt': 1}, 'technic': {'2189.txt': 2}, 'solut': {'2189.txt': 2, '1987.txt': 1}, 'version': {'2189.txt': 1}, 'space': {'2189.txt': 1}, 'practic': {'2189.txt': 1, '1987.txt': 3}, 'vital': {'2189.txt': 1}, 'complex': {'2189.txt': 1}, 'averag': {'2189.txt': 1}, 'invis': {'2189.txt': 2}, 'notic': {'2189.txt': 1}, 'london': {'2189.txt': 1}, 'telephon': {'2189.txt': 1}, 'deploy': {'2189.txt': 1}, 'disappear': {'2189.txt': 1}, 'human': {'2189.txt': 1}, 'behaviour': {'2189.txt': 2}, 'ignor': {'2189.txt': 1}, 'along': {'2189.txt': 1}, 'dark': {'2189.txt': 1}, 'unfortun': {'2189.txt': 1}, 'danger': {'1987.txt': 4}, 'data': {'1987.txt': 3}, 'argu': {'1987.txt': 1}, 'thompson': {'1987.txt': 2}, 'arriv': {'1987.txt': 2}, 'crimin': {'1987.txt': 2}, 'gang': {'1987.txt': 2}, 'appli': {'1987.txt': 1}, 'confidenti': {'1987.txt': 1}, 'societi': {'1987.txt': 1}, 'identiti': {'1987.txt': 1}, 'arm': {'1987.txt': 1}, 'fake': {'1987.txt': 1}, 'appar': {'1987.txt': 1}, 'easi': {'1987.txt': 1}, 'overdraft': {'1987.txt': 1}, 'credit': {'1987.txt': 3}, 'card': {'1987.txt': 6}, 'someon': {'1987.txt': 1}, 'els': {'1987.txt': 1}, 'simpl': {'1987.txt': 2}, 'unwitt': {'1987.txt': 1}, 'mess': {'1987.txt': 1}, 'demand': {'1987.txt': 1}, 'payment': {'1987.txt': 2}, 'ident': {'1987.txt': 4}, 'increasingli': {'1987.txt': 1}, 'crime': {'1987.txt': 1}, 'unshred': {'1987.txt': 1}, 'rubbish': {'1987.txt': 1}, 'databas': {'1987.txt': 2}, 'properli': {'1987.txt': 1}, 'suspect': {'1987.txt': 1}, 'fsa': {'1987.txt': 1}, 'bob': {'1987.txt': 1}, 'cratchit': {'1987.txt': 1}, 'underworld': {'1987.txt': 1}, 'wonder': {'1987.txt': 1}, 'cours': {'1987.txt': 2}, 'commerc': {'1987.txt': 2}, 'amazon': {'1987.txt': 1}, 'rich': {'1987.txt': 2}, 'pick': {'1987.txt': 1}, 'fraudster': {'1987.txt': 1}, 'audit': {'1987.txt': 1}, 'catch': {'1987.txt': 1}, 'suppos': {'1987.txt': 1}, 'unexpect': {'1987.txt': 1}, 'transact': {'1987.txt': 1}, 'log': {'1987.txt': 1}, 'trace': {'1987.txt': 1}, 'portabl': {'1987.txt': 1}, 'flash': {'1987.txt': 1}, 'memori': {'1987.txt': 2}, 'plug': {'1987.txt': 1}, 'usb': {'1987.txt': 2}, 'slot': {'1987.txt': 1}, 'suck': {'1987.txt': 1}, 'securewav': {'1987.txt': 1}, 'restrict': {'1987.txt': 1}, 'port': {'1987.txt': 1}, 'authoris': {'1987.txt': 1}, 'devic': {'1987.txt': 1}, 'individu': {'1987.txt': 1}, 'wave': {'1987.txt': 2}, 'wash': {'1987.txt': 1}, 'highlight': {'1987.txt': 1}, 'otherwis': {'1987.txt': 1}, 'server': {'1987.txt': 1}, 'intercept': {'1987.txt': 2}, 'transit': {'1987.txt': 1}, 'shop': {'1987.txt': 1}, 'hack': {'1987.txt': 1}, 'case': {'1987.txt': 1}, 'contain': {'1987.txt': 1}, 'simpli': {'1987.txt': 1}, 'tool': {'1987.txt': 1}, 'cd': {'1987.txt': 1}, 'univers': {'1987.txt': 1}, 'powergen': {'1987.txt': 1}, 'consequ': {'1987.txt': 2}, 'cahoot': {'1987.txt': 2}, 'guess': {'1987.txt': 1}, 'login': {'1987.txt': 1}, 'extern': {'1987.txt': 1}, 'hacker': {'1987.txt': 1}, 'staff': {'1987.txt': 1}, 'abus': {'1987.txt': 2}, 'bind': {'1987.txt': 1}, 'proper': {'1987.txt': 1}, 'unauthoris': {'1987.txt': 1}, 'disclosur': {'1987.txt': 1}, 'penalti': {'1987.txt': 1}, 'prosecut': {'1987.txt': 1}, 'convolut': {'1987.txt': 1}, 'worthless': {'1987.txt': 1}, 'respond': {'1987.txt': 1}, 'hassl': {'1987.txt': 1}, 'other': {'1987.txt': 1}, 'guarante': {'1987.txt': 1}, 'option': {'1987.txt': 1}, 'seem': {'1987.txt': 2}, 'stringent': {'1987.txt': 1}, 'civil': {'1987.txt': 1}, 'lawsuit': {'1987.txt': 1}, 'sloppi': {'1987.txt': 1}, 'sue': {'1987.txt': 1}, 'prefer': {'1987.txt': 1}, 'regular': {'1987.txt': 1}, 'comment': {'1987.txt': 1}}\n"
          ]
        }
      ],
      "source": [
        "def create_word_index(df):\n",
        "    h = {}\n",
        "    for index, row in df.iterrows():\n",
        "        filename = row['filename']\n",
        "        content = row['content']\n",
        "        words = content.split()\n",
        "        for word in words:\n",
        "            if word not in h:\n",
        "                h[word] = {}\n",
        "\n",
        "            if filename not in h[word]:\n",
        "                h[word][filename] = 1\n",
        "            else:\n",
        "                h[word][filename] += 1\n",
        "    return h\n",
        "\n",
        "word_index = create_word_index(df)\n",
        "print(word_index)"
      ]
    },
    {
      "cell_type": "code",
      "execution_count": 23,
      "metadata": {
        "colab": {
          "base_uri": "https://localhost:8080/",
          "height": 53
        },
        "id": "dTkCv9fe5V-9",
        "outputId": "45b3da67-5cc4-41b2-fcb9-a86f76f16a07"
      },
      "outputs": [
        {
          "output_type": "execute_result",
          "data": {
            "text/plain": [
              "Empty DataFrame\n",
              "Columns: [genre, filename, title, content]\n",
              "Index: []"
            ],
            "text/html": [
              "\n",
              "  <div id=\"df-c39fcb01-ddc7-47ae-9961-b748ba57bb1c\" class=\"colab-df-container\">\n",
              "    <div>\n",
              "<style scoped>\n",
              "    .dataframe tbody tr th:only-of-type {\n",
              "        vertical-align: middle;\n",
              "    }\n",
              "\n",
              "    .dataframe tbody tr th {\n",
              "        vertical-align: top;\n",
              "    }\n",
              "\n",
              "    .dataframe thead th {\n",
              "        text-align: right;\n",
              "    }\n",
              "</style>\n",
              "<table border=\"1\" class=\"dataframe\">\n",
              "  <thead>\n",
              "    <tr style=\"text-align: right;\">\n",
              "      <th></th>\n",
              "      <th>genre</th>\n",
              "      <th>filename</th>\n",
              "      <th>title</th>\n",
              "      <th>content</th>\n",
              "    </tr>\n",
              "  </thead>\n",
              "  <tbody>\n",
              "  </tbody>\n",
              "</table>\n",
              "</div>\n",
              "    <div class=\"colab-df-buttons\">\n",
              "\n",
              "  <div class=\"colab-df-container\">\n",
              "    <button class=\"colab-df-convert\" onclick=\"convertToInteractive('df-c39fcb01-ddc7-47ae-9961-b748ba57bb1c')\"\n",
              "            title=\"Convert this dataframe to an interactive table.\"\n",
              "            style=\"display:none;\">\n",
              "\n",
              "  <svg xmlns=\"http://www.w3.org/2000/svg\" height=\"24px\" viewBox=\"0 -960 960 960\">\n",
              "    <path d=\"M120-120v-720h720v720H120Zm60-500h600v-160H180v160Zm220 220h160v-160H400v160Zm0 220h160v-160H400v160ZM180-400h160v-160H180v160Zm440 0h160v-160H620v160ZM180-180h160v-160H180v160Zm440 0h160v-160H620v160Z\"/>\n",
              "  </svg>\n",
              "    </button>\n",
              "\n",
              "  <style>\n",
              "    .colab-df-container {\n",
              "      display:flex;\n",
              "      gap: 12px;\n",
              "    }\n",
              "\n",
              "    .colab-df-convert {\n",
              "      background-color: #E8F0FE;\n",
              "      border: none;\n",
              "      border-radius: 50%;\n",
              "      cursor: pointer;\n",
              "      display: none;\n",
              "      fill: #1967D2;\n",
              "      height: 32px;\n",
              "      padding: 0 0 0 0;\n",
              "      width: 32px;\n",
              "    }\n",
              "\n",
              "    .colab-df-convert:hover {\n",
              "      background-color: #E2EBFA;\n",
              "      box-shadow: 0px 1px 2px rgba(60, 64, 67, 0.3), 0px 1px 3px 1px rgba(60, 64, 67, 0.15);\n",
              "      fill: #174EA6;\n",
              "    }\n",
              "\n",
              "    .colab-df-buttons div {\n",
              "      margin-bottom: 4px;\n",
              "    }\n",
              "\n",
              "    [theme=dark] .colab-df-convert {\n",
              "      background-color: #3B4455;\n",
              "      fill: #D2E3FC;\n",
              "    }\n",
              "\n",
              "    [theme=dark] .colab-df-convert:hover {\n",
              "      background-color: #434B5C;\n",
              "      box-shadow: 0px 1px 3px 1px rgba(0, 0, 0, 0.15);\n",
              "      filter: drop-shadow(0px 1px 2px rgba(0, 0, 0, 0.3));\n",
              "      fill: #FFFFFF;\n",
              "    }\n",
              "  </style>\n",
              "\n",
              "    <script>\n",
              "      const buttonEl =\n",
              "        document.querySelector('#df-c39fcb01-ddc7-47ae-9961-b748ba57bb1c button.colab-df-convert');\n",
              "      buttonEl.style.display =\n",
              "        google.colab.kernel.accessAllowed ? 'block' : 'none';\n",
              "\n",
              "      async function convertToInteractive(key) {\n",
              "        const element = document.querySelector('#df-c39fcb01-ddc7-47ae-9961-b748ba57bb1c');\n",
              "        const dataTable =\n",
              "          await google.colab.kernel.invokeFunction('convertToInteractive',\n",
              "                                                    [key], {});\n",
              "        if (!dataTable) return;\n",
              "\n",
              "        const docLinkHtml = 'Like what you see? Visit the ' +\n",
              "          '<a target=\"_blank\" href=https://colab.research.google.com/notebooks/data_table.ipynb>data table notebook</a>'\n",
              "          + ' to learn more about interactive tables.';\n",
              "        element.innerHTML = '';\n",
              "        dataTable['output_type'] = 'display_data';\n",
              "        await google.colab.output.renderOutput(dataTable, element);\n",
              "        const docLink = document.createElement('div');\n",
              "        docLink.innerHTML = docLinkHtml;\n",
              "        element.appendChild(docLink);\n",
              "      }\n",
              "    </script>\n",
              "  </div>\n",
              "\n",
              "    </div>\n",
              "  </div>\n"
            ],
            "application/vnd.google.colaboratory.intrinsic+json": {
              "type": "dataframe",
              "repr_error": "Out of range float values are not JSON compliant: nan"
            }
          },
          "metadata": {},
          "execution_count": 23
        }
      ],
      "source": [
        "df[df['filename']=='253.txt']"
      ]
    },
    {
      "cell_type": "markdown",
      "metadata": {
        "id": "6pmPXv4SCdX2"
      },
      "source": [
        "# Seach"
      ]
    },
    {
      "cell_type": "markdown",
      "metadata": {
        "id": "vVvrnrpICifY"
      },
      "source": [
        "## Pre processing in seach query"
      ]
    },
    {
      "cell_type": "code",
      "execution_count": 24,
      "metadata": {
        "colab": {
          "base_uri": "https://localhost:8080/"
        },
        "id": "ttZwmN0FCdCB",
        "outputId": "5aca08ef-6229-44b0-db7d-3e2cfa7d470b"
      },
      "outputs": [
        {
          "output_type": "stream",
          "name": "stdout",
          "text": [
            "russian movi\n"
          ]
        }
      ],
      "source": [
        "query = 'russian movie'\n",
        "query = pre_processing_aux(query)\n",
        "print(query)"
      ]
    },
    {
      "cell_type": "markdown",
      "metadata": {
        "id": "7Ffk7QyGEXXa"
      },
      "source": [
        "## Search query"
      ]
    },
    {
      "cell_type": "code",
      "execution_count": 25,
      "metadata": {
        "colab": {
          "base_uri": "https://localhost:8080/"
        },
        "id": "8OccU6ZoEcIS",
        "outputId": "7a2fb6da-d4ee-41f6-e199-17ea72f790c7"
      },
      "outputs": [
        {
          "output_type": "stream",
          "name": "stdout",
          "text": [
            "{'russian': {'398.txt': 5, '1786.txt': 2, '1768.txt': 1}}\n",
            "{'398.txt': 5, '1786.txt': 2, '1768.txt': 1}\n"
          ]
        }
      ],
      "source": [
        "def get_frequency_query(query, word_index):\n",
        "    query_index = {}\n",
        "    for word in query.split():\n",
        "        if word in word_index:\n",
        "            query_index[word] = word_index[word]\n",
        "    return query_index\n",
        "\n",
        "\n",
        "index_query = get_frequency_query(query, word_index)\n",
        "print(index_query)\n",
        "\n",
        "\n",
        "def sum_occurrences(index_query):\n",
        "    f = {}\n",
        "    for word_dict in index_query.values():\n",
        "        for filename, count in word_dict.items():\n",
        "            if filename not in f:\n",
        "                f[filename] = count\n",
        "            else:\n",
        "                f[filename] += count\n",
        "\n",
        "    return f\n",
        "\n",
        "occurrences = sum_occurrences(index_query)\n",
        "print(occurrences)"
      ]
    },
    {
      "cell_type": "code",
      "execution_count": 26,
      "metadata": {
        "colab": {
          "base_uri": "https://localhost:8080/"
        },
        "id": "Tr4cvw2fJ9WH",
        "outputId": "d5b91904-4da4-4506-ca67-9577467c73f7"
      },
      "outputs": [
        {
          "output_type": "stream",
          "name": "stdout",
          "text": [
            "[('398.txt', 5), ('1786.txt', 2), ('1768.txt', 1)]\n",
            "['398.txt', '1786.txt', '1768.txt']\n"
          ]
        }
      ],
      "source": [
        "def sort_sum_occurrences(occurrences):\n",
        "  sorted_occurences = sorted(occurrences.items(), key=lambda x : x[1], reverse=True) #reverse is descr order\n",
        "  return sorted_occurences\n",
        "\n",
        "\n",
        "def get_top_n_docs(occurences, top_n):\n",
        "  occurences = dict(occurences)\n",
        "  docs = list(occurences.keys())[:top_n]\n",
        "  return docs\n",
        "\n",
        "sorted_occurences = sort_sum_occurrences(occurrences)\n",
        "print(sorted_occurences)\n",
        "\n",
        "top_n = 5\n",
        "docs = get_top_n_docs(sorted_occurences, top_n)\n",
        "print(docs)"
      ]
    },
    {
      "cell_type": "markdown",
      "metadata": {
        "id": "0RIERyBbfmNf"
      },
      "source": [
        "# Classifier"
      ]
    },
    {
      "cell_type": "markdown",
      "metadata": {
        "id": "uxBMymm0gDFY"
      },
      "source": [
        "## Define test and training set"
      ]
    },
    {
      "cell_type": "code",
      "execution_count": 27,
      "metadata": {
        "id": "aLwFFONZg3C-"
      },
      "outputs": [],
      "source": [
        "from sklearn.model_selection import train_test_split\n",
        "\n",
        "def create_test_training_split(df, percent):\n",
        "    train_dfs = []\n",
        "    test_dfs = []\n",
        "    grouped = df.groupby('genre')\n",
        "    for genre, group_df in grouped:\n",
        "        train_df, test_df = train_test_split(group_df, test_size=percent, random_state=42)\n",
        "        train_dfs.append(train_df)\n",
        "        test_dfs.append(test_df)\n",
        "\n",
        "    train_df = pd.concat(train_dfs).reset_index(drop=True)\n",
        "    test_df = pd.concat(test_dfs).reset_index(drop=True)\n",
        "    X_train = train_df.drop('genre', axis=1)\n",
        "    y_train = train_df['genre']\n",
        "    X_test = test_df.drop('genre', axis=1)\n",
        "    y_test = test_df['genre']\n",
        "\n",
        "    # return train_df, test_df\n",
        "    return X_train, y_train, X_test, y_test\n",
        "\n",
        "\n",
        "\n",
        "percent_test = 0.2\n",
        "# train_df, test_df = create_test_training_split(df, percent_test)\n",
        "X_df_train, y_df_train, X_df_test, y_df_test = create_test_training_split(df, percent_test)\n",
        "\n"
      ]
    },
    {
      "cell_type": "code",
      "source": [
        "X_df_train.head()\n",
        "# X_df_train.shape[0]"
      ],
      "metadata": {
        "colab": {
          "base_uri": "https://localhost:8080/",
          "height": 206
        },
        "id": "cJlIBZ7vQZFu",
        "outputId": "5bd80f69-8127-41b1-c033-e56b90b6c16d"
      },
      "execution_count": 51,
      "outputs": [
        {
          "output_type": "execute_result",
          "data": {
            "text/plain": [
              "   filename                              title  \\\n",
              "0   472.txt    Two Nigerian banks set to merge   \n",
              "1   398.txt  Indian oil firm eyes Yukos assets   \n",
              "2   726.txt  Baywatch dubbed 'worst TV import'   \n",
              "3  1168.txt    'Best person' for top legal job   \n",
              "4  1617.txt   Kirwan demands Italy consistency   \n",
              "\n",
              "                                             content  \n",
              "0  nigerian bank unit bank africa standard trust ...  \n",
              "1  india big oil explor firm oil natur ga corp on...  \n",
              "2  surf show baywatch titl bad tv import time pol...  \n",
              "3  good person job appoint lord chancellor necess...  \n",
              "4  itali coach john kirwan challeng side match pe...  "
            ],
            "text/html": [
              "\n",
              "  <div id=\"df-56749d5c-02b2-4637-949a-9b2d37d0c74d\" class=\"colab-df-container\">\n",
              "    <div>\n",
              "<style scoped>\n",
              "    .dataframe tbody tr th:only-of-type {\n",
              "        vertical-align: middle;\n",
              "    }\n",
              "\n",
              "    .dataframe tbody tr th {\n",
              "        vertical-align: top;\n",
              "    }\n",
              "\n",
              "    .dataframe thead th {\n",
              "        text-align: right;\n",
              "    }\n",
              "</style>\n",
              "<table border=\"1\" class=\"dataframe\">\n",
              "  <thead>\n",
              "    <tr style=\"text-align: right;\">\n",
              "      <th></th>\n",
              "      <th>filename</th>\n",
              "      <th>title</th>\n",
              "      <th>content</th>\n",
              "    </tr>\n",
              "  </thead>\n",
              "  <tbody>\n",
              "    <tr>\n",
              "      <th>0</th>\n",
              "      <td>472.txt</td>\n",
              "      <td>Two Nigerian banks set to merge</td>\n",
              "      <td>nigerian bank unit bank africa standard trust ...</td>\n",
              "    </tr>\n",
              "    <tr>\n",
              "      <th>1</th>\n",
              "      <td>398.txt</td>\n",
              "      <td>Indian oil firm eyes Yukos assets</td>\n",
              "      <td>india big oil explor firm oil natur ga corp on...</td>\n",
              "    </tr>\n",
              "    <tr>\n",
              "      <th>2</th>\n",
              "      <td>726.txt</td>\n",
              "      <td>Baywatch dubbed 'worst TV import'</td>\n",
              "      <td>surf show baywatch titl bad tv import time pol...</td>\n",
              "    </tr>\n",
              "    <tr>\n",
              "      <th>3</th>\n",
              "      <td>1168.txt</td>\n",
              "      <td>'Best person' for top legal job</td>\n",
              "      <td>good person job appoint lord chancellor necess...</td>\n",
              "    </tr>\n",
              "    <tr>\n",
              "      <th>4</th>\n",
              "      <td>1617.txt</td>\n",
              "      <td>Kirwan demands Italy consistency</td>\n",
              "      <td>itali coach john kirwan challeng side match pe...</td>\n",
              "    </tr>\n",
              "  </tbody>\n",
              "</table>\n",
              "</div>\n",
              "    <div class=\"colab-df-buttons\">\n",
              "\n",
              "  <div class=\"colab-df-container\">\n",
              "    <button class=\"colab-df-convert\" onclick=\"convertToInteractive('df-56749d5c-02b2-4637-949a-9b2d37d0c74d')\"\n",
              "            title=\"Convert this dataframe to an interactive table.\"\n",
              "            style=\"display:none;\">\n",
              "\n",
              "  <svg xmlns=\"http://www.w3.org/2000/svg\" height=\"24px\" viewBox=\"0 -960 960 960\">\n",
              "    <path d=\"M120-120v-720h720v720H120Zm60-500h600v-160H180v160Zm220 220h160v-160H400v160Zm0 220h160v-160H400v160ZM180-400h160v-160H180v160Zm440 0h160v-160H620v160ZM180-180h160v-160H180v160Zm440 0h160v-160H620v160Z\"/>\n",
              "  </svg>\n",
              "    </button>\n",
              "\n",
              "  <style>\n",
              "    .colab-df-container {\n",
              "      display:flex;\n",
              "      gap: 12px;\n",
              "    }\n",
              "\n",
              "    .colab-df-convert {\n",
              "      background-color: #E8F0FE;\n",
              "      border: none;\n",
              "      border-radius: 50%;\n",
              "      cursor: pointer;\n",
              "      display: none;\n",
              "      fill: #1967D2;\n",
              "      height: 32px;\n",
              "      padding: 0 0 0 0;\n",
              "      width: 32px;\n",
              "    }\n",
              "\n",
              "    .colab-df-convert:hover {\n",
              "      background-color: #E2EBFA;\n",
              "      box-shadow: 0px 1px 2px rgba(60, 64, 67, 0.3), 0px 1px 3px 1px rgba(60, 64, 67, 0.15);\n",
              "      fill: #174EA6;\n",
              "    }\n",
              "\n",
              "    .colab-df-buttons div {\n",
              "      margin-bottom: 4px;\n",
              "    }\n",
              "\n",
              "    [theme=dark] .colab-df-convert {\n",
              "      background-color: #3B4455;\n",
              "      fill: #D2E3FC;\n",
              "    }\n",
              "\n",
              "    [theme=dark] .colab-df-convert:hover {\n",
              "      background-color: #434B5C;\n",
              "      box-shadow: 0px 1px 3px 1px rgba(0, 0, 0, 0.15);\n",
              "      filter: drop-shadow(0px 1px 2px rgba(0, 0, 0, 0.3));\n",
              "      fill: #FFFFFF;\n",
              "    }\n",
              "  </style>\n",
              "\n",
              "    <script>\n",
              "      const buttonEl =\n",
              "        document.querySelector('#df-56749d5c-02b2-4637-949a-9b2d37d0c74d button.colab-df-convert');\n",
              "      buttonEl.style.display =\n",
              "        google.colab.kernel.accessAllowed ? 'block' : 'none';\n",
              "\n",
              "      async function convertToInteractive(key) {\n",
              "        const element = document.querySelector('#df-56749d5c-02b2-4637-949a-9b2d37d0c74d');\n",
              "        const dataTable =\n",
              "          await google.colab.kernel.invokeFunction('convertToInteractive',\n",
              "                                                    [key], {});\n",
              "        if (!dataTable) return;\n",
              "\n",
              "        const docLinkHtml = 'Like what you see? Visit the ' +\n",
              "          '<a target=\"_blank\" href=https://colab.research.google.com/notebooks/data_table.ipynb>data table notebook</a>'\n",
              "          + ' to learn more about interactive tables.';\n",
              "        element.innerHTML = '';\n",
              "        dataTable['output_type'] = 'display_data';\n",
              "        await google.colab.output.renderOutput(dataTable, element);\n",
              "        const docLink = document.createElement('div');\n",
              "        docLink.innerHTML = docLinkHtml;\n",
              "        element.appendChild(docLink);\n",
              "      }\n",
              "    </script>\n",
              "  </div>\n",
              "\n",
              "\n",
              "<div id=\"df-dd761fd6-eb86-4087-833f-9b616feb778c\">\n",
              "  <button class=\"colab-df-quickchart\" onclick=\"quickchart('df-dd761fd6-eb86-4087-833f-9b616feb778c')\"\n",
              "            title=\"Suggest charts\"\n",
              "            style=\"display:none;\">\n",
              "\n",
              "<svg xmlns=\"http://www.w3.org/2000/svg\" height=\"24px\"viewBox=\"0 0 24 24\"\n",
              "     width=\"24px\">\n",
              "    <g>\n",
              "        <path d=\"M19 3H5c-1.1 0-2 .9-2 2v14c0 1.1.9 2 2 2h14c1.1 0 2-.9 2-2V5c0-1.1-.9-2-2-2zM9 17H7v-7h2v7zm4 0h-2V7h2v10zm4 0h-2v-4h2v4z\"/>\n",
              "    </g>\n",
              "</svg>\n",
              "  </button>\n",
              "\n",
              "<style>\n",
              "  .colab-df-quickchart {\n",
              "      --bg-color: #E8F0FE;\n",
              "      --fill-color: #1967D2;\n",
              "      --hover-bg-color: #E2EBFA;\n",
              "      --hover-fill-color: #174EA6;\n",
              "      --disabled-fill-color: #AAA;\n",
              "      --disabled-bg-color: #DDD;\n",
              "  }\n",
              "\n",
              "  [theme=dark] .colab-df-quickchart {\n",
              "      --bg-color: #3B4455;\n",
              "      --fill-color: #D2E3FC;\n",
              "      --hover-bg-color: #434B5C;\n",
              "      --hover-fill-color: #FFFFFF;\n",
              "      --disabled-bg-color: #3B4455;\n",
              "      --disabled-fill-color: #666;\n",
              "  }\n",
              "\n",
              "  .colab-df-quickchart {\n",
              "    background-color: var(--bg-color);\n",
              "    border: none;\n",
              "    border-radius: 50%;\n",
              "    cursor: pointer;\n",
              "    display: none;\n",
              "    fill: var(--fill-color);\n",
              "    height: 32px;\n",
              "    padding: 0;\n",
              "    width: 32px;\n",
              "  }\n",
              "\n",
              "  .colab-df-quickchart:hover {\n",
              "    background-color: var(--hover-bg-color);\n",
              "    box-shadow: 0 1px 2px rgba(60, 64, 67, 0.3), 0 1px 3px 1px rgba(60, 64, 67, 0.15);\n",
              "    fill: var(--button-hover-fill-color);\n",
              "  }\n",
              "\n",
              "  .colab-df-quickchart-complete:disabled,\n",
              "  .colab-df-quickchart-complete:disabled:hover {\n",
              "    background-color: var(--disabled-bg-color);\n",
              "    fill: var(--disabled-fill-color);\n",
              "    box-shadow: none;\n",
              "  }\n",
              "\n",
              "  .colab-df-spinner {\n",
              "    border: 2px solid var(--fill-color);\n",
              "    border-color: transparent;\n",
              "    border-bottom-color: var(--fill-color);\n",
              "    animation:\n",
              "      spin 1s steps(1) infinite;\n",
              "  }\n",
              "\n",
              "  @keyframes spin {\n",
              "    0% {\n",
              "      border-color: transparent;\n",
              "      border-bottom-color: var(--fill-color);\n",
              "      border-left-color: var(--fill-color);\n",
              "    }\n",
              "    20% {\n",
              "      border-color: transparent;\n",
              "      border-left-color: var(--fill-color);\n",
              "      border-top-color: var(--fill-color);\n",
              "    }\n",
              "    30% {\n",
              "      border-color: transparent;\n",
              "      border-left-color: var(--fill-color);\n",
              "      border-top-color: var(--fill-color);\n",
              "      border-right-color: var(--fill-color);\n",
              "    }\n",
              "    40% {\n",
              "      border-color: transparent;\n",
              "      border-right-color: var(--fill-color);\n",
              "      border-top-color: var(--fill-color);\n",
              "    }\n",
              "    60% {\n",
              "      border-color: transparent;\n",
              "      border-right-color: var(--fill-color);\n",
              "    }\n",
              "    80% {\n",
              "      border-color: transparent;\n",
              "      border-right-color: var(--fill-color);\n",
              "      border-bottom-color: var(--fill-color);\n",
              "    }\n",
              "    90% {\n",
              "      border-color: transparent;\n",
              "      border-bottom-color: var(--fill-color);\n",
              "    }\n",
              "  }\n",
              "</style>\n",
              "\n",
              "  <script>\n",
              "    async function quickchart(key) {\n",
              "      const quickchartButtonEl =\n",
              "        document.querySelector('#' + key + ' button');\n",
              "      quickchartButtonEl.disabled = true;  // To prevent multiple clicks.\n",
              "      quickchartButtonEl.classList.add('colab-df-spinner');\n",
              "      try {\n",
              "        const charts = await google.colab.kernel.invokeFunction(\n",
              "            'suggestCharts', [key], {});\n",
              "      } catch (error) {\n",
              "        console.error('Error during call to suggestCharts:', error);\n",
              "      }\n",
              "      quickchartButtonEl.classList.remove('colab-df-spinner');\n",
              "      quickchartButtonEl.classList.add('colab-df-quickchart-complete');\n",
              "    }\n",
              "    (() => {\n",
              "      let quickchartButtonEl =\n",
              "        document.querySelector('#df-dd761fd6-eb86-4087-833f-9b616feb778c button');\n",
              "      quickchartButtonEl.style.display =\n",
              "        google.colab.kernel.accessAllowed ? 'block' : 'none';\n",
              "    })();\n",
              "  </script>\n",
              "</div>\n",
              "    </div>\n",
              "  </div>\n"
            ],
            "application/vnd.google.colaboratory.intrinsic+json": {
              "type": "dataframe",
              "summary": "{\n  \"name\": \"# X_df_train\",\n  \"rows\": 5,\n  \"fields\": [\n    {\n      \"column\": \"filename\",\n      \"properties\": {\n        \"dtype\": \"string\",\n        \"num_unique_values\": 5,\n        \"samples\": [\n          \"398.txt\",\n          \"1617.txt\",\n          \"726.txt\"\n        ],\n        \"semantic_type\": \"\",\n        \"description\": \"\"\n      }\n    },\n    {\n      \"column\": \"title\",\n      \"properties\": {\n        \"dtype\": \"string\",\n        \"num_unique_values\": 5,\n        \"samples\": [\n          \"Indian oil firm eyes Yukos assets\",\n          \"Kirwan demands Italy consistency\",\n          \"Baywatch dubbed 'worst TV import'\"\n        ],\n        \"semantic_type\": \"\",\n        \"description\": \"\"\n      }\n    },\n    {\n      \"column\": \"content\",\n      \"properties\": {\n        \"dtype\": \"string\",\n        \"num_unique_values\": 5,\n        \"samples\": [\n          \"india big oil explor firm oil natur ga corp ongc say talk buy former asset troubl russian crude produc yuko touch concern russian entiti yuko asset opportuniti russia say ongc chairman subir raha local press report ongc look buy 15 yuko former key oil product unit 2bn 1bn yuko break russian author pay massiv tax bill forc sell key product unit yuganskneftega yugansk last month hit bill 27bn unpaid taxi fine state own rosneft own yugansk russia say turn oil produc stand alon firm indian oil minist mani shankar aiyar discuss ongc plan trip moscow last year topic come russian presid vladimir putin recent visit new delhi would make great sens we build say mr aiyar india oil product stagnat recent year look abroad secur futur suppli india import 70 total oil consumpt time india economi boom countri thirst oil strong help push price crude worldwid india produc 793 000 barrel oil per day bpd littl chang sinc start 1990 accord oil industri analyst dougla westwood consumpt meanwhil jump 2 4 million bpd compar 474 000 bpd 1973 countri develop access energi say john westwood manag director oil industri analyst dougla westwood india dramat grow economi must access oil buy yugansk ongc would abl reduc depend gulf state oil import mr westwood explain especi chanc find exploit resourc within india slim forecast indian product go signific declin mr westwood say 2020 product may half today level ongc major own indian state alreadi buy petroleum asset countri includ vietnam sudan russia compani partner rosneft sakhalin 1 oil field russia siberian coast ongc howev firm interest yugansk chines crude compani china nation petroleum also mention possibl investor thursday itali refus rule interest ongc interest late twist saga see one world big oil produc bring knee disput partli drive presid putin clampdown polit ambit ex yuko boss mikhail khodorkovski current jail charg fraud tax evas yuko battl russian author year file bankruptci protect we analyst question long continu surviv without yugansk thursday us court say hear argument yuko bankruptci claim throw 16 februari happen yuko littl chanc claw back asset analyst say\",\n          \"itali coach john kirwan challeng side match perform produc push ireland close meet wale saturday despit lose 28 17 sunday six nation encount italian confirm continu improv goal match everi side face ireland show could say kirwan import thing build perform play wale saturday itali half back mix afternoon recal scrum half alessandro troncon impress fli half luciano orquera day boot kirwan say happi troncon incred game good attack defenc orquera kick show great courag defenc also follow game plan give confid capabl well\",\n          \"surf show baywatch titl bad tv import time poll uk televis execut programm star david hasselhoff pamela anderson 12 year run show 140 countri height model anna nicol smith realiti show duke hazzard runner broadcast magazin survey simpson dalla 24 among magazin list good time import we soap opera knot land falcon crest plu bold beauti make top 10 transatlant tv howler jerri springer show come sixth list fare well broadcast magazin say british tv never realis low could go jerri show way baywatch rise top list mind numbingli predict script beachgoer save drown accord magazin insid time bad top 10 come extrem makeov see member public give thousand pound worth plastic surgeri american show prais x file love luci twin peak star trek\"\n        ],\n        \"semantic_type\": \"\",\n        \"description\": \"\"\n      }\n    }\n  ]\n}"
            }
          },
          "metadata": {},
          "execution_count": 51
        }
      ]
    },
    {
      "cell_type": "code",
      "execution_count": 29,
      "metadata": {
        "id": "l0x7ahGvpQgB"
      },
      "outputs": [],
      "source": [
        "# train_df, test_df = create_test_training_split(df, percent_test)"
      ]
    },
    {
      "cell_type": "markdown",
      "metadata": {
        "id": "ThBMwnp1xbkj"
      },
      "source": [
        "## Create dictionary for different words in training set"
      ]
    },
    {
      "cell_type": "code",
      "execution_count": 32,
      "metadata": {
        "id": "7KKOADGKsUPN",
        "colab": {
          "base_uri": "https://localhost:8080/"
        },
        "outputId": "8a2d58ec-8e26-4e4d-9ade-c723599c2b8c"
      },
      "outputs": [
        {
          "output_type": "stream",
          "name": "stdout",
          "text": [
            "{'nigerian': 0, 'bank': 1, 'unit': 2, 'africa': 3, 'standard': 4, 'trust': 5, 'agre': 6, 'plan': 7, 'merg': 8, 'creat': 9, 'big': 10, 'west': 11, 'deal': 12, 'also': 13, 'line': 14, '2004': 15, 'direct': 16, 'central': 17, 'call': 18, 'consolid': 19, 'nation': 20, 'crowd': 21, 'sector': 22, 'merger': 23, 'announc': 24, 'statement': 25, 'websit': 26, 'tuesday': 27, 'financi': 28, 'detail': 29, 'reveal': 30, 'third': 31, 'nigeria': 32, 'term': 33, 'number': 34, 'branch': 35, 'small': 36, 'profit': 37, 'board': 38, 'separ': 39, 'meet': 40, 'yesterday': 41, 'approv': 42, 'arrang': 43, 'institut': 44, 'say': 45, '100': 46, 'own': 47, 'foreign': 48, 'investor': 49, 'includ': 50, 'new': 51, 'york': 52, 'base': 53, 'global': 54, 'depositori': 55, 'receipt': 56, '32': 57, '8': 58, 'banca': 59, 'nazional': 60, 'del': 61, 'lavoro': 62, 'mont': 63, 'paschi': 64, 'di': 65, 'siena': 66, 'itali': 67, '2': 68, '4': 69, 'stake': 70, 'india': 71, 'oil': 72, 'explor': 73, 'firm': 74, 'natur': 75, 'ga': 76, 'corp': 77, 'ongc': 78, 'talk': 79, 'buy': 80, 'former': 81, 'asset': 82, 'troubl': 83, 'russian': 84, 'crude': 85, 'produc': 86, 'yuko': 87, 'touch': 88, 'concern': 89, 'entiti': 90, 'opportuniti': 91, 'russia': 92, 'chairman': 93, 'subir': 94, 'raha': 95, 'local': 96, 'press': 97, 'report': 98, 'look': 99, '15': 100, 'key': 101, 'product': 102, '2bn': 103, '1bn': 104, 'break': 105, 'author': 106, 'pay': 107, 'massiv': 108, 'tax': 109, 'bill': 110, 'forc': 111, 'sell': 112, 'yuganskneftega': 113, 'yugansk': 114, 'last': 115, 'month': 116, 'hit': 117, '27bn': 118, 'unpaid': 119, 'taxi': 120, 'fine': 121, 'state': 122, 'rosneft': 123, 'turn': 124, 'stand': 125, 'alon': 126, 'indian': 127, 'minist': 128, 'mani': 129, 'shankar': 130, 'aiyar': 131, 'discuss': 132, 'trip': 133, 'moscow': 134, 'year': 135, 'topic': 136, 'come': 137, 'presid': 138, 'vladimir': 139, 'putin': 140, 'recent': 141, 'visit': 142, 'delhi': 143, 'would': 144, 'make': 145, 'great': 146, 'sens': 147, 'we': 148, 'build': 149, 'mr': 150, 'stagnat': 151, 'abroad': 152, 'secur': 153, 'futur': 154, 'suppli': 155, 'import': 156, '70': 157, 'total': 158, 'consumpt': 159, 'time': 160, 'economi': 161, 'boom': 162, 'countri': 163, 'thirst': 164, 'strong': 165, 'help': 166, 'push': 167, 'price': 168, 'worldwid': 169, '793': 170, '000': 171, 'barrel': 172, 'per': 173, 'day': 174, 'bpd': 175, 'littl': 176, 'chang': 177, 'sinc': 178, 'start': 179, '1990': 180, 'accord': 181, 'industri': 182, 'analyst': 183, 'dougla': 184, 'westwood': 185, 'meanwhil': 186, 'jump': 187, 'million': 188, 'compar': 189, '474': 190, '1973': 191, 'develop': 192, 'access': 193, 'energi': 194, 'john': 195, 'manag': 196, 'director': 197, 'dramat': 198, 'grow': 199, 'must': 200, 'abl': 201, 'reduc': 202, 'depend': 203, 'gulf': 204, 'explain': 205, 'especi': 206, 'chanc': 207, 'find': 208, 'exploit': 209, 'resourc': 210, 'within': 211, 'slim': 212, 'forecast': 213, 'go': 214, 'signific': 215, 'declin': 216, '2020': 217, 'may': 218, 'half': 219, 'today': 220, 'level': 221, 'major': 222, 'alreadi': 223, 'petroleum': 224, 'vietnam': 225, 'sudan': 226, 'compani': 227, 'partner': 228, 'sakhalin': 229, '1': 230, 'field': 231, 'siberian': 232, 'coast': 233, 'howev': 234, 'interest': 235, 'chines': 236, 'china': 237, 'mention': 238, 'possibl': 239, 'thursday': 240, 'refus': 241, 'rule': 242, 'late': 243, 'twist': 244, 'saga': 245, 'see': 246, 'one': 247, 'world': 248, 'bring': 249, 'knee': 250, 'disput': 251, 'partli': 252, 'drive': 253, 'clampdown': 254, 'polit': 255, 'ambit': 256, 'ex': 257, 'boss': 258, 'mikhail': 259, 'khodorkovski': 260, 'current': 261, 'jail': 262, 'charg': 263, 'fraud': 264, 'evas': 265, 'battl': 266, 'file': 267, 'bankruptci': 268, 'protect': 269, 'question': 270, 'long': 271, 'continu': 272, 'surviv': 273, 'without': 274, 'us': 275, 'court': 276, 'hear': 277, 'argument': 278, 'claim': 279, 'throw': 280, '16': 281, 'februari': 282, 'happen': 283, 'claw': 284, 'back': 285, 'surf': 286, 'show': 287, 'baywatch': 288, 'titl': 289, 'bad': 290, 'tv': 291, 'poll': 292, 'uk': 293, 'televis': 294, 'execut': 295, 'programm': 296, 'star': 297, 'david': 298, 'hasselhoff': 299, 'pamela': 300, 'anderson': 301, '12': 302, 'run': 303, '140': 304, 'height': 305, 'model': 306, 'anna': 307, 'nicol': 308, 'smith': 309, 'realiti': 310, 'duke': 311, 'hazzard': 312, 'runner': 313, 'broadcast': 314, 'magazin': 315, 'survey': 316, 'simpson': 317, 'dalla': 318, '24': 319, 'among': 320, 'list': 321, 'good': 322, 'soap': 323, 'opera': 324, 'knot': 325, 'land': 326, 'falcon': 327, 'crest': 328, 'plu': 329, 'bold': 330, 'beauti': 331, 'top': 332, '10': 333, 'transatlant': 334, 'howler': 335, 'jerri': 336, 'springer': 337, 'sixth': 338, 'fare': 339, 'well': 340, 'british': 341, 'never': 342, 'realis': 343, 'low': 344, 'could': 345, 'way': 346, 'rise': 347, 'mind': 348, 'numbingli': 349, 'predict': 350, 'script': 351, 'beachgoer': 352, 'save': 353, 'drown': 354, 'insid': 355, 'extrem': 356, 'makeov': 357, 'member': 358, 'public': 359, 'give': 360, 'thousand': 361, 'pound': 362, 'worth': 363, 'plastic': 364, 'surgeri': 365, 'american': 366, 'prais': 367, 'x': 368, 'love': 369, 'luci': 370, 'twin': 371, 'peak': 372, 'trek': 373, 'person': 374, 'job': 375, 'appoint': 376, 'lord': 377, 'chancellor': 378, 'necessarili': 379, 'lawyer': 380, 'mp': 381, 'tell': 382, 'reform': 383, 'post': 384, 'strip': 385, 'judici': 386, 'function': 387, 'need': 388, 'secretari': 389, 'health': 390, 'doctor': 391, 'christoph': 392, 'lesli': 393, 'constitut': 394, 'enter': 395, 'second': 396, 'read': 397, 'monday': 398, 'prime': 399, 'whether': 400, 'sit': 401, 'hous': 402, 'common': 403, 'law': 404, 'replac': 405, 'high': 406, 'legal': 407, 'suprem': 408, 'judg': 409, 'independ': 410, 'panel': 411, 'rather': 412, 'decemb': 413, 'reject': 414, 'plea': 415, 'holder': 416, 'peer': 417, 'vote': 418, '229': 419, '206': 420, 'debat': 421, 'carri': 422, 'parliamentari': 423, 'session': 424, 'impend': 425, 'gener': 426, 'elect': 427, 'crucial': 428, 'govern': 429, 'get': 430, 'pass': 431, 'irrelev': 432, 'affair': 433, 'matter': 434, 'conflict': 435, 'duti': 436, 'appropri': 437, 'unfetter': 438, 'discret': 439, 'shadow': 440, 'attorney': 441, 'domin': 442, 'griev': 443, 'criticis': 444, 'except': 445, 'provid': 446, 'champion': 447, 'judiciari': 448, 'initi': 449, 'propos': 450, 'take': 451, 'smash': 452, 'piec': 453, 'convent': 454, 'nurtur': 455, 'celebr': 456, 'distrust': 457, 'dislik': 458, 'instead': 459, 'warn': 460, 'unless': 461, 'remain': 462, 'difficulti': 463, 'parliament': 464, 'cabinet': 465, 'hogg': 466, 'whose': 467, 'father': 468, 'grandfath': 469, 'serv': 470, 'larg': 471, 'unnecessari': 472, 'bureaucrat': 473, 'expens': 474, 'tori': 475, 'sleaford': 476, 'north': 477, 'hykeham': 478, 'admit': 479, 'role': 480, 'offic': 481, 'frozen': 482, 'aspic': 483, 'coach': 484, 'kirwan': 485, 'challeng': 486, 'side': 487, 'match': 488, 'perform': 489, 'ireland': 490, 'close': 491, 'wale': 492, 'saturday': 493, 'despit': 494, 'lose': 495, '28': 496, '17': 497, 'sunday': 498, 'six': 499, 'encount': 500, 'italian': 501, 'confirm': 502, 'improv': 503, 'goal': 504, 'everi': 505, 'face': 506, 'thing': 507, 'play': 508, 'mix': 509, 'afternoon': 510, 'recal': 511, 'scrum': 512, 'alessandro': 513, 'troncon': 514, 'impress': 515, 'fli': 516, 'luciano': 517, 'orquera': 518, 'boot': 519, 'happi': 520, 'incred': 521, 'game': 522, 'attack': 523, 'defenc': 524, 'kick': 525, 'courag': 526, 'follow': 527, 'confid': 528, 'capabl': 529, 'newcastl': 530, 'join': 531, 'race': 532, 'sign': 533, 'real': 534, 'madrid': 535, 'striker': 536, 'fernando': 537, 'morient': 538, 'scupper': 539, 'liverpool': 540, 'bid': 541, 'snap': 542, 'player': 543, '3': 544, '5': 545, 'm': 546, 'old': 547, 'spanish': 548, 'intern': 549, 'week': 550, 'echo': 551, 'newspap': 552, 'anfield': 553, 'rafa': 554, 'benitez': 555, 'avoid': 556, 'war': 557, 'attent': 558, 'nicola': 559, 'anelka': 560, 'believ': 561, 'still': 562, 'want': 563, '7': 564, 'monaco': 565, 'loan': 566, 'season': 567, 'suggest': 568, 'lift': 569, 'offer': 570, 'will': 571, 'bow': 572, 'like': 573, 'pleas': 574, 'club': 575, 'statur': 576, 'know': 577, 'situat': 578, 'someth': 579, 'sort': 580, 'sensibl': 581, 'posit': 582, 'elsewher': 583, 'everyon': 584, 'realist': 585, 'spoken': 586, 'alway': 587, 'appreci': 588, 'work': 589, 'yet': 590, 'young': 591, 'reluct': 592, 'pledg': 593, 'previous': 594, 'gerard': 595, 'houlli': 596, 'seal': 597, 'perman': 598, 'switch': 599, 'manchest': 600, 'citi': 601, 'seed': 602, 'andr': 603, 'agassi': 604, 'suffer': 605, 'comprehens': 606, 'defeat': 607, 'jurgen': 608, 'melzer': 609, 'quarter': 610, 'final': 611, 'sap': 612, 'open': 613, 'often': 614, 'bamboozl': 615, 'austrian': 616, 'drop': 617, 'shot': 618, 'san': 619, 'jose': 620, '6': 621, 'defend': 622, 'andi': 623, 'roddick': 624, 'ralli': 625, 'beat': 626, 'sweden': 627, 'thoma': 628, 'enqvist': 629, 'unseed': 630, 'cyril': 631, 'saulnier': 632, 'fourth': 633, 'vincent': 634, 'spadea': 635, 'tommi': 636, 'haa': 637, 'overcam': 638, 'eighth': 639, 'max': 640, 'mirnyi': 641, 'two': 642, 'three': 643, 'perfectli': 644, 'tough': 645, 'dog': 646, 'power': 647, 'oppon': 648, 'hand': 649, 'backhand': 650, 'exampl': 651, 'sever': 652, 'tour': 653, 'lot': 654, 'guy': 655, 'much': 656, 'opportun': 657, 'loosen': 658, 'add': 659, 'convert': 660, 'point': 661, 'ameli': 662, 'mauresmo': 663, 'maria': 664, 'sharapova': 665, 'championship': 666, 'lo': 667, 'angel': 668, 'franc': 669, 'rout': 670, 'vera': 671, 'zvonareva': 672, '0': 673, 'wimbledon': 674, 'winner': 675, 'fellow': 676, 'svetlana': 677, 'kuznetsova': 678, 'serena': 679, 'william': 680, 'edg': 681, 'elena': 682, 'dementieva': 683, 'victori': 684, 'event': 685, 'split': 686, 'group': 687, 'four': 688, 'advanc': 689, 'semi': 690, 'win': 691, 'ninth': 692, 'row': 693, 'tri': 694, 'overtak': 695, 'lindsay': 696, 'davenport': 697, 'spot': 698, 'spend': 699, 'five': 700, 'injuri': 701, 'usher': 702, 'front': 703, 'feel': 704, 'rank': 705, 'differ': 706, 'obsess': 707, 'relax': 708, 'complet': 709, 'first': 710, 'end': 711, '54': 712, 'minut': 713, 'struggl': 714, 'return': 715, 'fail': 716, 'achiev': 717, 'singl': 718, 'mad': 719, 'bit': 720, 'tenni': 721, 'kim': 722, 'clijster': 723, 'far': 724, 'crash': 725, 'stapl': 726, 'centr': 727, 'wednesday': 728, 'sometim': 729, 'everyth': 730, 'pressur': 731, 'mayb': 732, 'fight': 733, 'beij': 734, 'septemb': 735, 'streak': 736, '14': 737, 'unstopp': 738, 'put': 739, 'tournament': 740, 'debut': 741, 'atmospher': 742, 'laker': 743, 'excit': 744, 'basketbal': 745, 'form': 746, 'hard': 747, 'right': 748, 'hope': 749, 'effort': 750, 'realli': 751, 'dimens': 752, 'antonio': 753, 'rey': 754, 'specul': 755, 'link': 756, 'move': 757, 'arsen': 758, 'fall': 759, 'victim': 760, 'radio': 761, 'prank': 762, 'spaniard': 763, 'sport': 764, 'emilio': 765, 'butragueno': 766, 'allegedli': 767, 'berat': 768, 'team': 769, 'mate': 770, 'peopl': 771, 'wish': 772, '21': 773, 'cadena': 774, 'cope': 775, 'gunner': 776, 'sevil': 777, 'frequent': 778, 'homesick': 779, 'begin': 780, 'superb': 781, 'maintain': 782, 'gradual': 783, 'premiership': 784, 'chelsea': 785, 'sure': 786, 'none': 787, 'dress': 788, 'room': 789, 'dream': 790, 'stori': 791, 'surfac': 792, 'giant': 793, 'issu': 794, 'describ': 795, 'flatter': 796, 'medium': 797, 'lunchtim': 798, 'contract': 799, 'commit': 800, 'trophi': 801, 'angri': 802, 'imperson': 803, 'disc': 804, 'jockey': 805, 'disgrac': 806, 'foundat': 807, 'respect': 808, 'care': 809, 'rumour': 810, 'appear': 811, 'news': 812, 'brian': 813, 'moor': 814, 'england': 815, 'captain': 816, 'full': 817, 'jason': 818, 'robinson': 819, 'lead': 820, 'absenc': 821, 'jonni': 822, 'wilkinson': 823, 'retir': 824, 'martin': 825, 'johnson': 826, 'lock': 827, 'forward': 828, 'bbc': 829, 'away': 830, 'action': 831, 'reflect': 832, 'think': 833, 'influenc': 834, 'pack': 835, 'usual': 836, 'finish': 837, 'lack': 838, 'cohes': 839, 'reason': 840, 'assert': 841, 'enough': 842, 'breakdown': 843, 'wer': 844, 'e': 845, 'quick': 846, 'ball': 847, 'mean': 848, 'stifl': 849, 'creativ': 850, 'depriv': 851, 'youngster': 852, 'harri': 853, 'elli': 854, 'jami': 855, 'noon': 856, 'scotland': 857, 'experi': 858, 'problem': 859, 'around': 860, 'icon': 861, 'requisit': 862, 'anyth': 863, 'knock': 864, 'door': 865, 'noth': 866, 'next': 867, 'certainti': 868, 'handl': 869, 'rugbi': 870, 'wenger': 871, 'keep': 872, 'faith': 873, 'keeper': 874, 'manuel': 875, 'almunia': 876, 'crunch': 877, 'defin': 878, 'leagu': 879, 'tie': 880, 'rosenborg': 881, 'goalkeep': 882, 'insist': 883, '27': 884, 'summer': 885, 'celta': 886, 'vigo': 887, 'jen': 888, 'lehmann': 889, 'career': 890, 'leav': 891, 'do': 892, 'denni': 893, 'bergkamp': 894, 'kanu': 895, 'everybodi': 896, 'mistak': 897, 'trafford': 898, 'alarm': 899, 'birmingham': 900, 'either': 901, 'robot': 902, 'period': 903, 'less': 904, 'shorter': 905, 'seaman': 906, 'harshli': 907, 'treat': 908, 'daili': 909, 'mail': 910, 'fantast': 911, 'deserv': 912, 'anoth': 913, 'choic': 914, 'suspens': 915, 'inexperienc': 916, 'midfield': 917, 'pair': 918, 'mathieu': 919, 'flamini': 920, 'cesc': 921, 'fabrega': 922, 'prove': 923, 'learn': 924, 'process': 925, 'worri': 926, 'mental': 927, 'workrat': 928, 'boost': 929, 'sol': 930, 'campbel': 931, 'verg': 932, '30': 933, 'clear': 934, 'determin': 935, 'success': 936, 'competit': 937, 'europ': 938, 'thierri': 939, 'henri': 940, 'blame': 941, 'qualifi': 942, 'stage': 943, 'place': 944, 'suspend': 945, 'patrick': 946, 'vieira': 947, 'seek': 948, 'requir': 949, 'fault': 950, 'train': 951, 'leed': 952, 'rhino': 953, 'similar': 954, 'clinic': 955, 'rival': 956, 'st': 957, 'helen': 958, 'saint': 959, 'ian': 960, 'millward': 961, 'unlik': 962, 'portug': 963, 'approach': 964, 'spokesman': 965, 'earli': 966, 'seriou': 967, 'consider': 968, 'proud': 969, 'welsh': 970, 'connect': 971, 'obviou': 972, 'union': 973, 'spat': 974, '2001': 975, 'collaps': 976, 'kieron': 977, 'cunningham': 978, '500': 979, 'swansea': 980, 'cross': 981, 'code': 982, 'iestyn': 983, 'cardiff': 984, 'talent': 985, '13': 986, 'man': 987, 'bradford': 988, 'bull': 989, 'kel': 990, 'coslett': 991, 'famous': 992, '1960': 993, 'footbal': 994, 'clive': 995, 'griffith': 996, 'defens': 997, 'behind': 998, 'scott': 999, 'gibb': 1000, 'lion': 1001, '1994': 1002, '96': 1003, 'cup': 1004, 'wembley': 1005, '1996': 1006, 'mourinho': 1007, 'expect': 1008, 'clash': 1009, 'barcelona': 1010, 'relish': 1011, 'leg': 1012, 'nou': 1013, 'camp': 1014, 'surpris': 1015, 'decid': 1016, 'extra': 1017, 'mine': 1018, 'moment': 1019, 'assist': 1020, 'sir': 1021, 'bobbi': 1022, 'robson': 1023, 'loui': 1024, 'van': 1025, 'gaal': 1026, 'enviou': 1027, 'jealou': 1028, 'histori': 1029, 'european': 1030, 'amount': 1031, 'name': 1032, 'ronaldinho': 1033, 'difficult': 1034, 'tactic': 1035, 'counter': 1036, 'possess': 1037, 'nevertheless': 1038, 'accustom': 1039, 'special': 1040, 'journalist': 1041, 'opposit': 1042, 'greg': 1043, 'rusedski': 1044, 'withdraw': 1045, 'marseil': 1046, 'rib': 1047, 'schedul': 1048, 'sebastien': 1049, 'de': 1050, 'chaunac': 1051, 'guillermo': 1052, 'coria': 1053, 'round': 1054, 'unabl': 1055, 'cage': 1056, 'taylor': 1057, 'dent': 1058, 'caus': 1059, 'shock': 1060, 'nalbandian': 1061, 'joachim': 1062, 'johansson': 1063, 'frenchman': 1064, 'gill': 1065, 'simon': 1066, 'feliciano': 1067, 'lopez': 1068, 'ivo': 1069, 'karlov': 1070, 'slovakia': 1071, 'karol': 1072, 'beck': 1073, 'croatian': 1074, 'duo': 1075, 'ivan': 1076, 'ljubic': 1077, 'mario': 1078, 'ancic': 1079, 'danger': 1080, 'data': 1081, 'net': 1082, 'argu': 1083, 'thompson': 1084, 'arriv': 1085, 'servic': 1086, 'crimin': 1087, 'gang': 1088, 'appli': 1089, 'confidenti': 1090, 'custom': 1091, 'datum': 1092, 'fear': 1093, 'steal': 1094, 'money': 1095, 'account': 1096, 'valuabl': 1097, 'digit': 1098, 'societi': 1099, 'identiti': 1100, 'arm': 1101, 'hold': 1102, 'fake': 1103, 'letter': 1104, 'appar': 1105, 'easi': 1106, 'overdraft': 1107, 'credit': 1108, 'card': 1109, 'someon': 1110, 'els': 1111, 'simpl': 1112, 'unwitt': 1113, 'mess': 1114, 'demand': 1115, 'payment': 1116, 'ident': 1117, 'theft': 1118, 'increasingli': 1119, 'econom': 1120, 'crime': 1121, 'becom': 1122, 'awar': 1123, 'unshred': 1124, 'rubbish': 1125, 'organis': 1126, 'databas': 1127, 'properli': 1128, 'comput': 1129, 'system': 1130, 'fact': 1131, 'suspect': 1132, 'fsa': 1133, 'probabl': 1134, 'particular': 1135, 'parti': 1136, 'anyon': 1137, 'check': 1138, 'bob': 1139, 'cratchit': 1140, 'famili': 1141, 'underworld': 1142, 'wonder': 1143, 'hardli': 1144, 'target': 1145, 'agenc': 1146, 'cours': 1147, 'commerc': 1148, 'site': 1149, 'amazon': 1150, 'rich': 1151, 'pick': 1152, 'fraudster': 1153, 'audit': 1154, 'catch': 1155, 'suppos': 1156, 'unexpect': 1157, 'transact': 1158, 'record': 1159, 'log': 1160, 'trace': 1161, 'might': 1162, 'fortun': 1163, 'involv': 1164, 'portabl': 1165, 'flash': 1166, 'memori': 1167, 'plug': 1168, 'usb': 1169, 'slot': 1170, 'suck': 1171, 'securewav': 1172, 'restrict': 1173, 'use': 1174, 'port': 1175, 'authoris': 1176, 'devic': 1177, 'even': 1178, 'individu': 1179, 'solut': 1180, 'perfect': 1181, 'wave': 1182, 'wash': 1183, 'entir': 1184, 'highlight': 1185, 'onlin': 1186, 'trade': 1187, 'otherwis': 1188, 'server': 1189, 'intercept': 1190, 'transit': 1191, 'shop': 1192, 'hack': 1193, 'case': 1194, 'contain': 1195, 'simpli': 1196, 'tool': 1197, 'cd': 1198, 'univers': 1199, 'powergen': 1200, 'consequ': 1201, 'cahoot': 1202, 'guess': 1203, 'login': 1204, 'extern': 1205, 'hacker': 1206, 'poor': 1207, 'staff': 1208, 'abus': 1209, 'part': 1210, 'bind': 1211, 'act': 1212, 'proper': 1213, 'unauthoris': 1214, 'disclosur': 1215, 'allow': 1216, 'penalti': 1217, 'prosecut': 1218, 'convolut': 1219, 'worthless': 1220, 'practic': 1221, 'market': 1222, 'respond': 1223, 'slowli': 1224, 'hassl': 1225, 'consid': 1226, 'doubt': 1227, 'other': 1228, 'guarante': 1229, 'option': 1230, 'seem': 1231, 'stringent': 1232, 'civil': 1233, 'lawsuit': 1234, 'sloppi': 1235, 'comfort': 1236, 'sue': 1237, 'client': 1238, 'prefer': 1239, 'regular': 1240, 'comment': 1241, 'mobil': 1242, 'phone': 1243, 'environ': 1244, 'social': 1245, 'benefit': 1246, 'research': 1247, 'divid': 1248, 'forum': 1249, 'cost': 1250, 'recycl': 1251, 'handset': 1252, 'life': 1253, 'collect': 1254, 'let': 1255, 'rot': 1256, 'landfil': 1257, 'approxim': 1258, 'swap': 1259, '25': 1260, 'mass': 1261, 'unrecycl': 1262, 'discard': 1263, 'reach': 1264, '90': 1265, 'equival': 1266, '9': 1267, 'tonn': 1268, 'wast': 1269, 'estim': 1270, 'jame': 1271, 'goodman': 1272, 'senior': 1273, 'advis': 1274, 'quit': 1275, 'lie': 1276, 'leak': 1277, 'potenti': 1278, 'toxic': 1279, 'materi': 1280, 'wide': 1281, 'oper': 1282, 'send': 1283, 'oversea': 1284, 'enjoy': 1285, 'leas': 1286, 'environment': 1287, 'particularli': 1288, 'friend': 1289, 'incom': 1290, 'date': 1291, 'depth': 1292, 'romania': 1293, 'recondit': 1294, 'popular': 1295, 'crap': 1296, 'fix': 1297, 'network': 1298, 'desir': 1299, 'rel': 1300, 'wage': 1301, 'afford': 1302, 'shini': 1303, 'barrier': 1304, 'almost': 1305, 'romanian': 1306, 'pre': 1307, 'user': 1308, 'tend': 1309, 'georgeta': 1310, 'minciu': 1311, 'clean': 1312, 'normal': 1313, 'parent': 1314, 'daughter': 1315, 'consum': 1316, 'ensur': 1317, 'britain': 1318, 'mountain': 1319, 'keen': 1320, 'accept': 1321, 'bodi': 1322, 'overse': 1323, 'evolv': 1324, 'growth': 1325, 'whole': 1326, 'popul': 1327, 'chair': 1328, 'internet': 1329, 'engin': 1330, 'task': 1331, 'ietf': 1332, 'carpent': 1333, 'smooth': 1334, 'architectur': 1335, 'broadband': 1336, 'voic': 1337, 'voip': 1338, 'protocol': 1339, 'telecom': 1340, 'dr': 1341, 'deepli': 1342, 'busi': 1343, 'infrastructur': 1344, 'distinguish': 1345, 'ibm': 1346, '20': 1347, 'cern': 1348, 'laboratori': 1349, 'particl': 1350, 'physic': 1351, 'ipv6': 1352, 'inform': 1353, 'transfer': 1354, 'across': 1355, 'web': 1356, 'pioneer': 1357, 'applic': 1358, 'evolut': 1359, 'prioriti': 1360, 'free': 1361, 'tcp': 1362, 'ip': 1363, 'transmiss': 1364, 'control': 1365, 'commun': 1366, 'uniqu': 1367, 'address': 1368, 'receiv': 1369, 'design': 1370, 'vendor': 1371, 'knit': 1372, 'togeth': 1373, 'gap': 1374, 'effect': 1375, 'rate': 1376, 'glitch': 1377, '2000': 1378, 'phase': 1379, 'renew': 1380, 'buoy': 1381, 'emerg': 1382, 'fast': 1383, 'uptak': 1384, 'technolog': 1385, 'subscrib': 1386, 'via': 1387, 'dsl': 1388, 'doubl': 1389, 'figur': 1390, 'releas': 1391, 'scale': 1392, 'exist': 1393, 'ipv4': 1394, 'billion': 1395, 'actual': 1396, 'limit': 1397, 'clearli': 1398, 'technic': 1399, 'version': 1400, 'space': 1401, 'vital': 1402, 'complex': 1403, 'averag': 1404, 'invis': 1405, 'notic': 1406, 'london': 1407, 'telephon': 1408, 'deploy': 1409, 'settl': 1410, 'disappear': 1411, 'human': 1412, 'behaviour': 1413, 'educ': 1414, 'ignor': 1415, 'walk': 1416, 'along': 1417, 'dark': 1418, 'street': 1419, 'unfortun': 1420, 'music': 1421, 'download': 1422, 'audienc': 1423, 'advantag': 1424, 'advertis': 1425, 'equal': 1426, 'captiv': 1427, 'legitimaci': 1428, 'share': 1429, 'rage': 1430, 'threat': 1431, 'true': 1432, 'brand': 1433, 'nightmar': 1434, 'paul': 1435, 'myer': 1436, 'chief': 1437, 'wippit': 1438, 'stop': 1439, 'oxygen': 1440, 'support': 1441, 'illeg': 1442, 'edonkey': 1443, 'steadfastli': 1444, 'copyright': 1445, 'cash': 1446, 'nat': 1447, 'vodafon': 1448, 'o2': 1449, 'ntl': 1450, 'renault': 1451, 'phonograph': 1452, 'urg': 1453, 'dump': 1454, 'associ': 1455, 'bpi': 1456, 'condemn': 1457, 'establish': 1458, 'bedfellow': 1459, 'kazaa': 1460, 'grokster': 1461, 'facilit': 1462, 'fileshar': 1463, 'strongli': 1464, 'reput': 1465, 'revenu': 1466, 'sharer': 1467, 'complic': 1468, 'mark': 1469, 'mulligan': 1470, 'jupit': 1471, 'ever': 1472, 'napster': 1473, 'repres': 1474, 'attract': 1475, 'ad': 1476, 'asid': 1477, 'miss': 1478, 'contact': 1479, 'directli': 1480, 'onetel': 1481, 'advert': 1482, 'respons': 1483, 'typic': 1484, 'investig': 1485, 'affili': 1486, 'knowledg': 1487, 'polici': 1488, 'discount': 1489, 'request': 1490, 'remov': 1491, 'immedi': 1492, 'spokeswoman': 1493, 'similarli': 1494, 'telecommun': 1495, 'featur': 1496, 'strict': 1497, 'instruct': 1498, 'convinc': 1499, 'explan': 1500, 'alloc': 1501, 'excus': 1502, 'prevent': 1503, 'leverag': 1504, 'perhap': 1505, 'senat': 1506, 'kerri': 1507, 'georg': 1508, 'w': 1509, 'bush': 1510, 'sam': 1511, 'yagan': 1512, 'distinct': 1513, 'engag': 1514, 'desk': 1515, 'interact': 1516, 'favourit': 1517}\n",
            "len unique_words: 1518\n"
          ]
        }
      ],
      "source": [
        "def create_unique_words(content):\n",
        "  words = content.split()\n",
        "\n",
        "  # dict_words é um dicionário que mapeia uma palavra em um índice\n",
        "  # agua -> 0\n",
        "  # casa -> 1\n",
        "  # bola -> 2\n",
        "  # ...\n",
        "  dict_words = {}\n",
        "\n",
        "  for word in words:\n",
        "    if word not in dict_words:\n",
        "      dict_words[word] = len(dict_words)\n",
        "\n",
        "  return dict_words\n",
        "\n",
        "\n",
        "content_train = X_df_train['content'].str.cat(sep=' ')\n",
        "unique_words_set_train = create_unique_words(content_train)\n",
        "\n",
        "print(unique_words_set_train)\n",
        "print(f\"len unique_words: {len(unique_words_set_train)}\")"
      ]
    },
    {
      "cell_type": "markdown",
      "source": [],
      "metadata": {
        "id": "Zqcm6HtAYEIa"
      }
    },
    {
      "cell_type": "markdown",
      "metadata": {
        "id": "V3jjSleLF1BN"
      },
      "source": [
        "## Tranform each doc in a vector"
      ]
    },
    {
      "cell_type": "markdown",
      "metadata": {
        "id": "D0bqFXcMF6wj"
      },
      "source": [
        "## Binary"
      ]
    },
    {
      "cell_type": "code",
      "execution_count": 87,
      "metadata": {
        "id": "Z8xrW5fcFzDD",
        "colab": {
          "base_uri": "https://localhost:8080/"
        },
        "outputId": "eae8936c-e341-4a88-8b7e-cbd3afef0a12"
      },
      "outputs": [
        {
          "output_type": "stream",
          "name": "stdout",
          "text": [
            "[array([1., 1., 1., ..., 0., 0., 0.]), array([0., 0., 1., ..., 0., 0., 0.]), array([0., 0., 0., ..., 0., 0., 0.]), array([0., 0., 0., ..., 0., 0., 0.]), array([0., 0., 0., ..., 0., 0., 0.]), array([0., 0., 0., ..., 0., 0., 0.]), array([0., 0., 0., ..., 0., 0., 0.]), array([0., 0., 0., ..., 0., 0., 0.]), array([0., 0., 1., ..., 0., 0., 0.]), array([0., 0., 0., ..., 0., 0., 0.]), array([0., 0., 0., ..., 0., 0., 0.]), array([0., 0., 0., ..., 0., 0., 0.]), array([0., 0., 0., ..., 0., 0., 0.]), array([0., 0., 0., ..., 0., 0., 0.]), array([0., 1., 0., ..., 0., 0., 0.]), array([0., 0., 0., ..., 0., 0., 0.]), array([0., 0., 0., ..., 0., 0., 0.]), array([0., 0., 0., ..., 1., 1., 1.])]\n",
            "len of binary_words_docs: 18\n"
          ]
        }
      ],
      "source": [
        "import numpy as np\n",
        "\n",
        "def create_binary_array_doc_aux(content, unique_words):\n",
        "    tokens = content.split()\n",
        "    binary_array = np.zeros((len(unique_words), ))\n",
        "    for word in tokens:\n",
        "        if word in unique_words:  # O(1)\n",
        "            idx =  unique_words[word]\n",
        "            binary_array[idx] = 1\n",
        "\n",
        "    return binary_array\n",
        "\n",
        "\n",
        "def create_binary_array_doc(df, unique_words):\n",
        "    binary_words = []\n",
        "    for index, row in df.iterrows():\n",
        "        content = row['content']\n",
        "        binary_array = create_binary_array_doc_aux(content, unique_words)\n",
        "        binary_words.append(binary_array)\n",
        "\n",
        "    return binary_words\n",
        "\n",
        "\n",
        "\n",
        "#Each line represents a docs and its columns represents if there is the respective unique_word in the docs\n",
        "binary_words_docs = create_binary_array_doc(X_df_train, unique_words_set_train)\n",
        "\n",
        "print(binary_words_docs)\n",
        "print(f\"len of binary_words_docs: {len(binary_words_docs)}\") # Must be igual to the number of docs"
      ]
    },
    {
      "cell_type": "code",
      "execution_count": 88,
      "metadata": {
        "colab": {
          "base_uri": "https://localhost:8080/"
        },
        "id": "Ep6LKEHjR_Ou",
        "outputId": "628b6eab-eb1c-4988-c29e-35af15b23920"
      },
      "outputs": [
        {
          "output_type": "stream",
          "name": "stdout",
          "text": [
            "Binary array of 472.txt file: [1.0, 1.0, 1.0, 1.0, 1.0, 1.0, 1.0, 1.0, 1.0, 1.0, 1.0, 1.0, 1.0, 1.0, 1.0, 1.0, 1.0, 1.0, 1.0, 1.0, 1.0, 1.0, 1.0, 1.0, 1.0, 1.0, 1.0, 1.0, 1.0, 1.0, 1.0, 1.0, 1.0, 1.0, 1.0, 1.0, 1.0, 1.0, 1.0, 1.0, 1.0, 1.0, 1.0, 1.0, 1.0, 1.0, 1.0, 1.0, 1.0, 1.0, 1.0, 1.0, 1.0, 1.0, 1.0, 1.0, 1.0, 1.0, 1.0, 1.0, 1.0, 1.0, 1.0, 1.0, 1.0, 1.0, 1.0, 1.0, 1.0, 1.0, 1.0, 0.0, 0.0, 0.0, 0.0, 0.0, 0.0, 0.0, 0.0, 0.0, 0.0, 0.0, 0.0, 0.0, 0.0, 0.0, 0.0, 0.0, 0.0, 0.0, 0.0, 0.0, 0.0, 0.0, 0.0, 0.0, 0.0, 0.0, 0.0, 0.0, 0.0, 0.0, 0.0, 0.0, 0.0, 0.0, 0.0, 0.0, 0.0, 0.0, 0.0, 0.0, 0.0, 0.0, 0.0, 0.0, 0.0, 0.0, 0.0, 0.0, 0.0, 0.0, 0.0, 0.0, 0.0, 0.0, 0.0, 0.0, 0.0, 0.0, 0.0, 0.0, 0.0, 0.0, 0.0, 0.0, 0.0, 0.0, 0.0, 0.0, 0.0, 0.0, 0.0, 0.0, 0.0, 0.0, 0.0, 0.0, 0.0, 0.0, 0.0, 0.0, 0.0, 0.0, 0.0, 0.0, 0.0, 0.0, 0.0, 0.0, 0.0, 0.0, 0.0, 0.0, 0.0, 0.0, 0.0, 0.0, 0.0, 0.0, 0.0, 0.0, 0.0, 0.0, 0.0, 0.0, 0.0, 0.0, 0.0, 0.0, 0.0, 0.0, 0.0, 0.0, 0.0, 0.0, 0.0, 0.0, 0.0, 0.0, 0.0, 0.0, 0.0, 0.0, 0.0, 0.0, 0.0, 0.0, 0.0, 0.0, 0.0, 0.0, 0.0, 0.0, 0.0, 0.0, 0.0, 0.0, 0.0, 0.0, 0.0, 0.0, 0.0, 0.0, 0.0, 0.0, 0.0, 0.0, 0.0, 0.0, 0.0, 0.0, 0.0, 0.0, 0.0, 0.0, 0.0, 0.0, 0.0, 0.0, 0.0, 0.0, 0.0, 0.0, 0.0, 0.0, 0.0, 0.0, 0.0, 0.0, 0.0, 0.0, 0.0, 0.0, 0.0, 0.0, 0.0, 0.0, 0.0, 0.0, 0.0, 0.0, 0.0, 0.0, 0.0, 0.0, 0.0, 0.0, 0.0, 0.0, 0.0, 0.0, 0.0, 0.0, 0.0, 0.0, 0.0, 0.0, 0.0, 0.0, 0.0, 0.0, 0.0, 0.0, 0.0, 0.0, 0.0, 0.0, 0.0, 0.0, 0.0, 0.0, 0.0, 0.0, 0.0, 0.0, 0.0, 0.0, 0.0, 0.0, 0.0, 0.0, 0.0, 0.0, 0.0, 0.0, 0.0, 0.0, 0.0, 0.0, 0.0, 0.0, 0.0, 0.0, 0.0, 0.0, 0.0, 0.0, 0.0, 0.0, 0.0, 0.0, 0.0, 0.0, 0.0, 0.0, 0.0, 0.0, 0.0, 0.0, 0.0, 0.0, 0.0, 0.0, 0.0, 0.0, 0.0, 0.0, 0.0, 0.0, 0.0, 0.0, 0.0, 0.0, 0.0, 0.0, 0.0, 0.0, 0.0, 0.0, 0.0, 0.0, 0.0, 0.0, 0.0, 0.0, 0.0, 0.0, 0.0, 0.0, 0.0, 0.0, 0.0, 0.0, 0.0, 0.0, 0.0, 0.0, 0.0, 0.0, 0.0, 0.0, 0.0, 0.0, 0.0, 0.0, 0.0, 0.0, 0.0, 0.0, 0.0, 0.0, 0.0, 0.0, 0.0, 0.0, 0.0, 0.0, 0.0, 0.0, 0.0, 0.0, 0.0, 0.0, 0.0, 0.0, 0.0, 0.0, 0.0, 0.0, 0.0, 0.0, 0.0, 0.0, 0.0, 0.0, 0.0, 0.0, 0.0, 0.0, 0.0, 0.0, 0.0, 0.0, 0.0, 0.0, 0.0, 0.0, 0.0, 0.0, 0.0, 0.0, 0.0, 0.0, 0.0, 0.0, 0.0, 0.0, 0.0, 0.0, 0.0, 0.0, 0.0, 0.0, 0.0, 0.0, 0.0, 0.0, 0.0, 0.0, 0.0, 0.0, 0.0, 0.0, 0.0, 0.0, 0.0, 0.0, 0.0, 0.0, 0.0, 0.0, 0.0, 0.0, 0.0, 0.0, 0.0, 0.0, 0.0, 0.0, 0.0, 0.0, 0.0, 0.0, 0.0, 0.0, 0.0, 0.0, 0.0, 0.0, 0.0, 0.0, 0.0, 0.0, 0.0, 0.0, 0.0, 0.0, 0.0, 0.0, 0.0, 0.0, 0.0, 0.0, 0.0, 0.0, 0.0, 0.0, 0.0, 0.0, 0.0, 0.0, 0.0, 0.0, 0.0, 0.0, 0.0, 0.0, 0.0, 0.0, 0.0, 0.0, 0.0, 0.0, 0.0, 0.0, 0.0, 0.0, 0.0, 0.0, 0.0, 0.0, 0.0, 0.0, 0.0, 0.0, 0.0, 0.0, 0.0, 0.0, 0.0, 0.0, 0.0, 0.0, 0.0, 0.0, 0.0, 0.0, 0.0, 0.0, 0.0, 0.0, 0.0, 0.0, 0.0, 0.0, 0.0, 0.0, 0.0, 0.0, 0.0, 0.0, 0.0, 0.0, 0.0, 0.0, 0.0, 0.0, 0.0, 0.0, 0.0, 0.0, 0.0, 0.0, 0.0, 0.0, 0.0, 0.0, 0.0, 0.0, 0.0, 0.0, 0.0, 0.0, 0.0, 0.0, 0.0, 0.0, 0.0, 0.0, 0.0, 0.0, 0.0, 0.0, 0.0, 0.0, 0.0, 0.0, 0.0, 0.0, 0.0, 0.0, 0.0, 0.0, 0.0, 0.0, 0.0, 0.0, 0.0, 0.0, 0.0, 0.0, 0.0, 0.0, 0.0, 0.0, 0.0, 0.0, 0.0, 0.0, 0.0, 0.0, 0.0, 0.0, 0.0, 0.0, 0.0, 0.0, 0.0, 0.0, 0.0, 0.0, 0.0, 0.0, 0.0, 0.0, 0.0, 0.0, 0.0, 0.0, 0.0, 0.0, 0.0, 0.0, 0.0, 0.0, 0.0, 0.0, 0.0, 0.0, 0.0, 0.0, 0.0, 0.0, 0.0, 0.0, 0.0, 0.0, 0.0, 0.0, 0.0, 0.0, 0.0, 0.0, 0.0, 0.0, 0.0, 0.0, 0.0, 0.0, 0.0, 0.0, 0.0, 0.0, 0.0, 0.0, 0.0, 0.0, 0.0, 0.0, 0.0, 0.0, 0.0, 0.0, 0.0, 0.0, 0.0, 0.0, 0.0, 0.0, 0.0, 0.0, 0.0, 0.0, 0.0, 0.0, 0.0, 0.0, 0.0, 0.0, 0.0, 0.0, 0.0, 0.0, 0.0, 0.0, 0.0, 0.0, 0.0, 0.0, 0.0, 0.0, 0.0, 0.0, 0.0, 0.0, 0.0, 0.0, 0.0, 0.0, 0.0, 0.0, 0.0, 0.0, 0.0, 0.0, 0.0, 0.0, 0.0, 0.0, 0.0, 0.0, 0.0, 0.0, 0.0, 0.0, 0.0, 0.0, 0.0, 0.0, 0.0, 0.0, 0.0, 0.0, 0.0, 0.0, 0.0, 0.0, 0.0, 0.0, 0.0, 0.0, 0.0, 0.0, 0.0, 0.0, 0.0, 0.0, 0.0, 0.0, 0.0, 0.0, 0.0, 0.0, 0.0, 0.0, 0.0, 0.0, 0.0, 0.0, 0.0, 0.0, 0.0, 0.0, 0.0, 0.0, 0.0, 0.0, 0.0, 0.0, 0.0, 0.0, 0.0, 0.0, 0.0, 0.0, 0.0, 0.0, 0.0, 0.0, 0.0, 0.0, 0.0, 0.0, 0.0, 0.0, 0.0, 0.0, 0.0, 0.0, 0.0, 0.0, 0.0, 0.0, 0.0, 0.0, 0.0, 0.0, 0.0, 0.0, 0.0, 0.0, 0.0, 0.0, 0.0, 0.0, 0.0, 0.0, 0.0, 0.0, 0.0, 0.0, 0.0, 0.0, 0.0, 0.0, 0.0, 0.0, 0.0, 0.0, 0.0, 0.0, 0.0, 0.0, 0.0, 0.0, 0.0, 0.0, 0.0, 0.0, 0.0, 0.0, 0.0, 0.0, 0.0, 0.0, 0.0, 0.0, 0.0, 0.0, 0.0, 0.0, 0.0, 0.0, 0.0, 0.0, 0.0, 0.0, 0.0, 0.0, 0.0, 0.0, 0.0, 0.0, 0.0, 0.0, 0.0, 0.0, 0.0, 0.0, 0.0, 0.0, 0.0, 0.0, 0.0, 0.0, 0.0, 0.0, 0.0, 0.0, 0.0, 0.0, 0.0, 0.0, 0.0, 0.0, 0.0, 0.0, 0.0, 0.0, 0.0, 0.0, 0.0, 0.0, 0.0, 0.0, 0.0, 0.0, 0.0, 0.0, 0.0, 0.0, 0.0, 0.0, 0.0, 0.0, 0.0, 0.0, 0.0, 0.0, 0.0, 0.0, 0.0, 0.0, 0.0, 0.0, 0.0, 0.0, 0.0, 0.0, 0.0, 0.0, 0.0, 0.0, 0.0, 0.0, 0.0, 0.0, 0.0, 0.0, 0.0, 0.0, 0.0, 0.0, 0.0, 0.0, 0.0, 0.0, 0.0, 0.0, 0.0, 0.0, 0.0, 0.0, 0.0, 0.0, 0.0, 0.0, 0.0, 0.0, 0.0, 0.0, 0.0, 0.0, 0.0, 0.0, 0.0, 0.0, 0.0, 0.0, 0.0, 0.0, 0.0, 0.0, 0.0, 0.0, 0.0, 0.0, 0.0, 0.0, 0.0, 0.0, 0.0, 0.0, 0.0, 0.0, 0.0, 0.0, 0.0, 0.0, 0.0, 0.0, 0.0, 0.0, 0.0, 0.0, 0.0, 0.0, 0.0, 0.0, 0.0, 0.0, 0.0, 0.0, 0.0, 0.0, 0.0, 0.0, 0.0, 0.0, 0.0, 0.0, 0.0, 0.0, 0.0, 0.0, 0.0, 0.0, 0.0, 0.0, 0.0, 0.0, 0.0, 0.0, 0.0, 0.0, 0.0, 0.0, 0.0, 0.0, 0.0, 0.0, 0.0, 0.0, 0.0, 0.0, 0.0, 0.0, 0.0, 0.0, 0.0, 0.0, 0.0, 0.0, 0.0, 0.0, 0.0, 0.0, 0.0, 0.0, 0.0, 0.0, 0.0, 0.0, 0.0, 0.0, 0.0, 0.0, 0.0, 0.0, 0.0, 0.0, 0.0, 0.0, 0.0, 0.0, 0.0, 0.0, 0.0, 0.0, 0.0, 0.0, 0.0, 0.0, 0.0, 0.0, 0.0, 0.0, 0.0, 0.0, 0.0, 0.0, 0.0, 0.0, 0.0, 0.0, 0.0, 0.0, 0.0, 0.0, 0.0, 0.0, 0.0, 0.0, 0.0, 0.0, 0.0, 0.0, 0.0, 0.0, 0.0, 0.0, 0.0, 0.0, 0.0, 0.0, 0.0, 0.0, 0.0, 0.0, 0.0, 0.0, 0.0, 0.0, 0.0, 0.0, 0.0, 0.0, 0.0, 0.0, 0.0, 0.0, 0.0, 0.0, 0.0, 0.0, 0.0, 0.0, 0.0, 0.0, 0.0, 0.0, 0.0, 0.0, 0.0, 0.0, 0.0, 0.0, 0.0, 0.0, 0.0, 0.0, 0.0, 0.0, 0.0, 0.0, 0.0, 0.0, 0.0, 0.0, 0.0, 0.0, 0.0, 0.0, 0.0, 0.0, 0.0, 0.0, 0.0, 0.0, 0.0, 0.0, 0.0, 0.0, 0.0, 0.0, 0.0, 0.0, 0.0, 0.0, 0.0, 0.0, 0.0, 0.0, 0.0, 0.0, 0.0, 0.0, 0.0, 0.0, 0.0, 0.0, 0.0, 0.0, 0.0, 0.0, 0.0, 0.0, 0.0, 0.0, 0.0, 0.0, 0.0, 0.0, 0.0, 0.0, 0.0, 0.0, 0.0, 0.0, 0.0, 0.0, 0.0, 0.0, 0.0, 0.0, 0.0, 0.0, 0.0, 0.0, 0.0, 0.0, 0.0, 0.0, 0.0, 0.0, 0.0, 0.0, 0.0, 0.0, 0.0, 0.0, 0.0, 0.0, 0.0, 0.0, 0.0, 0.0, 0.0, 0.0, 0.0, 0.0, 0.0, 0.0, 0.0, 0.0, 0.0, 0.0, 0.0, 0.0, 0.0, 0.0, 0.0, 0.0, 0.0, 0.0, 0.0, 0.0, 0.0, 0.0, 0.0, 0.0, 0.0, 0.0, 0.0, 0.0, 0.0, 0.0, 0.0, 0.0, 0.0, 0.0, 0.0, 0.0, 0.0, 0.0, 0.0, 0.0, 0.0, 0.0, 0.0, 0.0, 0.0, 0.0, 0.0, 0.0, 0.0, 0.0, 0.0, 0.0, 0.0, 0.0, 0.0, 0.0, 0.0, 0.0, 0.0, 0.0, 0.0, 0.0, 0.0, 0.0, 0.0, 0.0, 0.0, 0.0, 0.0, 0.0, 0.0, 0.0, 0.0, 0.0, 0.0, 0.0, 0.0, 0.0, 0.0, 0.0, 0.0, 0.0, 0.0, 0.0, 0.0, 0.0, 0.0, 0.0, 0.0, 0.0, 0.0, 0.0, 0.0, 0.0, 0.0, 0.0, 0.0, 0.0, 0.0, 0.0, 0.0, 0.0, 0.0, 0.0, 0.0, 0.0, 0.0, 0.0, 0.0, 0.0, 0.0, 0.0, 0.0, 0.0, 0.0, 0.0, 0.0, 0.0, 0.0, 0.0, 0.0, 0.0, 0.0, 0.0, 0.0, 0.0, 0.0, 0.0, 0.0, 0.0, 0.0, 0.0, 0.0, 0.0, 0.0, 0.0, 0.0, 0.0, 0.0, 0.0, 0.0, 0.0, 0.0, 0.0, 0.0, 0.0, 0.0, 0.0, 0.0, 0.0, 0.0, 0.0, 0.0, 0.0, 0.0, 0.0, 0.0, 0.0, 0.0, 0.0, 0.0, 0.0, 0.0, 0.0, 0.0, 0.0, 0.0, 0.0, 0.0, 0.0, 0.0, 0.0, 0.0, 0.0, 0.0, 0.0, 0.0, 0.0, 0.0, 0.0, 0.0, 0.0, 0.0, 0.0, 0.0, 0.0, 0.0, 0.0, 0.0, 0.0, 0.0, 0.0, 0.0, 0.0, 0.0, 0.0, 0.0, 0.0, 0.0, 0.0, 0.0, 0.0, 0.0, 0.0, 0.0, 0.0, 0.0, 0.0, 0.0, 0.0, 0.0, 0.0, 0.0, 0.0, 0.0, 0.0, 0.0, 0.0, 0.0, 0.0, 0.0, 0.0, 0.0, 0.0, 0.0, 0.0, 0.0, 0.0, 0.0, 0.0, 0.0, 0.0, 0.0, 0.0, 0.0, 0.0, 0.0, 0.0, 0.0, 0.0, 0.0, 0.0, 0.0, 0.0, 0.0, 0.0, 0.0, 0.0, 0.0, 0.0, 0.0, 0.0, 0.0, 0.0, 0.0, 0.0, 0.0, 0.0, 0.0, 0.0, 0.0, 0.0, 0.0, 0.0, 0.0, 0.0, 0.0, 0.0, 0.0, 0.0, 0.0, 0.0, 0.0, 0.0, 0.0, 0.0, 0.0, 0.0, 0.0, 0.0, 0.0, 0.0, 0.0, 0.0, 0.0, 0.0, 0.0, 0.0, 0.0, 0.0, 0.0, 0.0, 0.0, 0.0, 0.0, 0.0, 0.0, 0.0, 0.0, 0.0, 0.0, 0.0, 0.0, 0.0, 0.0, 0.0, 0.0, 0.0, 0.0, 0.0, 0.0, 0.0, 0.0, 0.0, 0.0, 0.0, 0.0, 0.0, 0.0, 0.0, 0.0, 0.0, 0.0, 0.0, 0.0, 0.0, 0.0, 0.0, 0.0, 0.0]\n",
            "Size of binary_word_vector of file 472.txt : 1518\n",
            "Size of unique_words_set_train : 1518\n",
            "Size of unique_words of file: 71\n",
            "Number of ones in the vector: 71\n"
          ]
        }
      ],
      "source": [
        "#################### Testing ###########################\n",
        "def count_ones(vector):\n",
        "  count = 0\n",
        "  for element in vector:\n",
        "    if element == 1:\n",
        "      count += 1\n",
        "  return count\n",
        "\n",
        "num = '472.txt'\n",
        "position = 0\n",
        "\n",
        "print(f\"Binary array of {num} file: { binary_words_docs[position].tolist() }\")\n",
        "\n",
        "# print len of binary_word_dict and unique_words_set_train. The size should be the same\n",
        "print(f\"Size of binary_word_vector of file {num} : {len(binary_words_docs[0])}\")\n",
        "print(f\"Size of unique_words_set_train : {len(unique_words_set_train)}\")\n",
        "\n",
        "content_file = X_df_train[X_df_train['filename'] == num]['content'].values[0]\n",
        "unique_words_file = create_unique_words(content_file)\n",
        "print(f\"Size of unique_words of file: {len(unique_words_file)}\")\n",
        "\n",
        "#The qtd of ones should be the same of unique_words file\n",
        "num_ones = count_ones(binary_words_docs[position] )\n",
        "print(f\"Number of ones in the vector: {num_ones}\")\n"
      ]
    },
    {
      "cell_type": "markdown",
      "source": [
        "## Frequency of word in docs"
      ],
      "metadata": {
        "id": "GDVx4QSTRObf"
      }
    },
    {
      "cell_type": "code",
      "source": [
        "def create_word_frequency_aux(content, unique_words):\n",
        "    tokens = content.split()\n",
        "\n",
        "    # cria um array de zeros do tamanho do dicionario de palavras diferentes\n",
        "    tamanho = (len(unique_words), ) # tupla com um elemento\n",
        "    word_frequency = np.zeros(tamanho)\n",
        "\n",
        "    for word in tokens: # para cada palavra no texto\n",
        "        if word in unique_words:  # se a palavra existe no dicionario de palavras unicas\n",
        "            idx =  unique_words[word] # recupera o indice da palavra\n",
        "            word_frequency[idx] += 1 # incrementa a frequencia (vimos a palavra mais uma vez)\n",
        "\n",
        "    return word_frequency\n",
        "\n",
        "\n",
        "def create_word_frequency(df, unique_words):\n",
        "  word_frequency = []\n",
        "  for index, row in df.iterrows():\n",
        "      content = row['content']\n",
        "      word_frequency.append(create_word_frequency_aux(content, unique_words))\n",
        "\n",
        "  return word_frequency"
      ],
      "metadata": {
        "id": "pqF60kM5RT3m"
      },
      "execution_count": 102,
      "outputs": []
    },
    {
      "cell_type": "code",
      "source": [
        "# Testing\n",
        "word_frequency_file = create_word_frequency_aux(content_file, unique_words_set_train)\n",
        "print(word_frequency_file.tolist())\n"
      ],
      "metadata": {
        "colab": {
          "base_uri": "https://localhost:8080/"
        },
        "id": "YWQ2nRjGi8nm",
        "outputId": "36b7e2f0-4b26-4f41-8376-2b6a3f0005c5"
      },
      "execution_count": 116,
      "outputs": [
        {
          "output_type": "stream",
          "name": "stdout",
          "text": [
            "[3.0, 9.0, 4.0, 2.0, 6.0, 6.0, 1.0, 1.0, 2.0, 1.0, 2.0, 1.0, 1.0, 1.0, 1.0, 1.0, 1.0, 1.0, 1.0, 1.0, 1.0, 1.0, 1.0, 1.0, 1.0, 1.0, 1.0, 1.0, 1.0, 1.0, 1.0, 1.0, 1.0, 1.0, 1.0, 1.0, 1.0, 1.0, 1.0, 1.0, 1.0, 1.0, 1.0, 1.0, 1.0, 1.0, 1.0, 1.0, 1.0, 1.0, 1.0, 1.0, 1.0, 1.0, 1.0, 1.0, 1.0, 1.0, 1.0, 1.0, 1.0, 2.0, 1.0, 1.0, 1.0, 1.0, 1.0, 1.0, 1.0, 1.0, 1.0, 0.0, 0.0, 0.0, 0.0, 0.0, 0.0, 0.0, 0.0, 0.0, 0.0, 0.0, 0.0, 0.0, 0.0, 0.0, 0.0, 0.0, 0.0, 0.0, 0.0, 0.0, 0.0, 0.0, 0.0, 0.0, 0.0, 0.0, 0.0, 0.0, 0.0, 0.0, 0.0, 0.0, 0.0, 0.0, 0.0, 0.0, 0.0, 0.0, 0.0, 0.0, 0.0, 0.0, 0.0, 0.0, 0.0, 0.0, 0.0, 0.0, 0.0, 0.0, 0.0, 0.0, 0.0, 0.0, 0.0, 0.0, 0.0, 0.0, 0.0, 0.0, 0.0, 0.0, 0.0, 0.0, 0.0, 0.0, 0.0, 0.0, 0.0, 0.0, 0.0, 0.0, 0.0, 0.0, 0.0, 0.0, 0.0, 0.0, 0.0, 0.0, 0.0, 0.0, 0.0, 0.0, 0.0, 0.0, 0.0, 0.0, 0.0, 0.0, 0.0, 0.0, 0.0, 0.0, 0.0, 0.0, 0.0, 0.0, 0.0, 0.0, 0.0, 0.0, 0.0, 0.0, 0.0, 0.0, 0.0, 0.0, 0.0, 0.0, 0.0, 0.0, 0.0, 0.0, 0.0, 0.0, 0.0, 0.0, 0.0, 0.0, 0.0, 0.0, 0.0, 0.0, 0.0, 0.0, 0.0, 0.0, 0.0, 0.0, 0.0, 0.0, 0.0, 0.0, 0.0, 0.0, 0.0, 0.0, 0.0, 0.0, 0.0, 0.0, 0.0, 0.0, 0.0, 0.0, 0.0, 0.0, 0.0, 0.0, 0.0, 0.0, 0.0, 0.0, 0.0, 0.0, 0.0, 0.0, 0.0, 0.0, 0.0, 0.0, 0.0, 0.0, 0.0, 0.0, 0.0, 0.0, 0.0, 0.0, 0.0, 0.0, 0.0, 0.0, 0.0, 0.0, 0.0, 0.0, 0.0, 0.0, 0.0, 0.0, 0.0, 0.0, 0.0, 0.0, 0.0, 0.0, 0.0, 0.0, 0.0, 0.0, 0.0, 0.0, 0.0, 0.0, 0.0, 0.0, 0.0, 0.0, 0.0, 0.0, 0.0, 0.0, 0.0, 0.0, 0.0, 0.0, 0.0, 0.0, 0.0, 0.0, 0.0, 0.0, 0.0, 0.0, 0.0, 0.0, 0.0, 0.0, 0.0, 0.0, 0.0, 0.0, 0.0, 0.0, 0.0, 0.0, 0.0, 0.0, 0.0, 0.0, 0.0, 0.0, 0.0, 0.0, 0.0, 0.0, 0.0, 0.0, 0.0, 0.0, 0.0, 0.0, 0.0, 0.0, 0.0, 0.0, 0.0, 0.0, 0.0, 0.0, 0.0, 0.0, 0.0, 0.0, 0.0, 0.0, 0.0, 0.0, 0.0, 0.0, 0.0, 0.0, 0.0, 0.0, 0.0, 0.0, 0.0, 0.0, 0.0, 0.0, 0.0, 0.0, 0.0, 0.0, 0.0, 0.0, 0.0, 0.0, 0.0, 0.0, 0.0, 0.0, 0.0, 0.0, 0.0, 0.0, 0.0, 0.0, 0.0, 0.0, 0.0, 0.0, 0.0, 0.0, 0.0, 0.0, 0.0, 0.0, 0.0, 0.0, 0.0, 0.0, 0.0, 0.0, 0.0, 0.0, 0.0, 0.0, 0.0, 0.0, 0.0, 0.0, 0.0, 0.0, 0.0, 0.0, 0.0, 0.0, 0.0, 0.0, 0.0, 0.0, 0.0, 0.0, 0.0, 0.0, 0.0, 0.0, 0.0, 0.0, 0.0, 0.0, 0.0, 0.0, 0.0, 0.0, 0.0, 0.0, 0.0, 0.0, 0.0, 0.0, 0.0, 0.0, 0.0, 0.0, 0.0, 0.0, 0.0, 0.0, 0.0, 0.0, 0.0, 0.0, 0.0, 0.0, 0.0, 0.0, 0.0, 0.0, 0.0, 0.0, 0.0, 0.0, 0.0, 0.0, 0.0, 0.0, 0.0, 0.0, 0.0, 0.0, 0.0, 0.0, 0.0, 0.0, 0.0, 0.0, 0.0, 0.0, 0.0, 0.0, 0.0, 0.0, 0.0, 0.0, 0.0, 0.0, 0.0, 0.0, 0.0, 0.0, 0.0, 0.0, 0.0, 0.0, 0.0, 0.0, 0.0, 0.0, 0.0, 0.0, 0.0, 0.0, 0.0, 0.0, 0.0, 0.0, 0.0, 0.0, 0.0, 0.0, 0.0, 0.0, 0.0, 0.0, 0.0, 0.0, 0.0, 0.0, 0.0, 0.0, 0.0, 0.0, 0.0, 0.0, 0.0, 0.0, 0.0, 0.0, 0.0, 0.0, 0.0, 0.0, 0.0, 0.0, 0.0, 0.0, 0.0, 0.0, 0.0, 0.0, 0.0, 0.0, 0.0, 0.0, 0.0, 0.0, 0.0, 0.0, 0.0, 0.0, 0.0, 0.0, 0.0, 0.0, 0.0, 0.0, 0.0, 0.0, 0.0, 0.0, 0.0, 0.0, 0.0, 0.0, 0.0, 0.0, 0.0, 0.0, 0.0, 0.0, 0.0, 0.0, 0.0, 0.0, 0.0, 0.0, 0.0, 0.0, 0.0, 0.0, 0.0, 0.0, 0.0, 0.0, 0.0, 0.0, 0.0, 0.0, 0.0, 0.0, 0.0, 0.0, 0.0, 0.0, 0.0, 0.0, 0.0, 0.0, 0.0, 0.0, 0.0, 0.0, 0.0, 0.0, 0.0, 0.0, 0.0, 0.0, 0.0, 0.0, 0.0, 0.0, 0.0, 0.0, 0.0, 0.0, 0.0, 0.0, 0.0, 0.0, 0.0, 0.0, 0.0, 0.0, 0.0, 0.0, 0.0, 0.0, 0.0, 0.0, 0.0, 0.0, 0.0, 0.0, 0.0, 0.0, 0.0, 0.0, 0.0, 0.0, 0.0, 0.0, 0.0, 0.0, 0.0, 0.0, 0.0, 0.0, 0.0, 0.0, 0.0, 0.0, 0.0, 0.0, 0.0, 0.0, 0.0, 0.0, 0.0, 0.0, 0.0, 0.0, 0.0, 0.0, 0.0, 0.0, 0.0, 0.0, 0.0, 0.0, 0.0, 0.0, 0.0, 0.0, 0.0, 0.0, 0.0, 0.0, 0.0, 0.0, 0.0, 0.0, 0.0, 0.0, 0.0, 0.0, 0.0, 0.0, 0.0, 0.0, 0.0, 0.0, 0.0, 0.0, 0.0, 0.0, 0.0, 0.0, 0.0, 0.0, 0.0, 0.0, 0.0, 0.0, 0.0, 0.0, 0.0, 0.0, 0.0, 0.0, 0.0, 0.0, 0.0, 0.0, 0.0, 0.0, 0.0, 0.0, 0.0, 0.0, 0.0, 0.0, 0.0, 0.0, 0.0, 0.0, 0.0, 0.0, 0.0, 0.0, 0.0, 0.0, 0.0, 0.0, 0.0, 0.0, 0.0, 0.0, 0.0, 0.0, 0.0, 0.0, 0.0, 0.0, 0.0, 0.0, 0.0, 0.0, 0.0, 0.0, 0.0, 0.0, 0.0, 0.0, 0.0, 0.0, 0.0, 0.0, 0.0, 0.0, 0.0, 0.0, 0.0, 0.0, 0.0, 0.0, 0.0, 0.0, 0.0, 0.0, 0.0, 0.0, 0.0, 0.0, 0.0, 0.0, 0.0, 0.0, 0.0, 0.0, 0.0, 0.0, 0.0, 0.0, 0.0, 0.0, 0.0, 0.0, 0.0, 0.0, 0.0, 0.0, 0.0, 0.0, 0.0, 0.0, 0.0, 0.0, 0.0, 0.0, 0.0, 0.0, 0.0, 0.0, 0.0, 0.0, 0.0, 0.0, 0.0, 0.0, 0.0, 0.0, 0.0, 0.0, 0.0, 0.0, 0.0, 0.0, 0.0, 0.0, 0.0, 0.0, 0.0, 0.0, 0.0, 0.0, 0.0, 0.0, 0.0, 0.0, 0.0, 0.0, 0.0, 0.0, 0.0, 0.0, 0.0, 0.0, 0.0, 0.0, 0.0, 0.0, 0.0, 0.0, 0.0, 0.0, 0.0, 0.0, 0.0, 0.0, 0.0, 0.0, 0.0, 0.0, 0.0, 0.0, 0.0, 0.0, 0.0, 0.0, 0.0, 0.0, 0.0, 0.0, 0.0, 0.0, 0.0, 0.0, 0.0, 0.0, 0.0, 0.0, 0.0, 0.0, 0.0, 0.0, 0.0, 0.0, 0.0, 0.0, 0.0, 0.0, 0.0, 0.0, 0.0, 0.0, 0.0, 0.0, 0.0, 0.0, 0.0, 0.0, 0.0, 0.0, 0.0, 0.0, 0.0, 0.0, 0.0, 0.0, 0.0, 0.0, 0.0, 0.0, 0.0, 0.0, 0.0, 0.0, 0.0, 0.0, 0.0, 0.0, 0.0, 0.0, 0.0, 0.0, 0.0, 0.0, 0.0, 0.0, 0.0, 0.0, 0.0, 0.0, 0.0, 0.0, 0.0, 0.0, 0.0, 0.0, 0.0, 0.0, 0.0, 0.0, 0.0, 0.0, 0.0, 0.0, 0.0, 0.0, 0.0, 0.0, 0.0, 0.0, 0.0, 0.0, 0.0, 0.0, 0.0, 0.0, 0.0, 0.0, 0.0, 0.0, 0.0, 0.0, 0.0, 0.0, 0.0, 0.0, 0.0, 0.0, 0.0, 0.0, 0.0, 0.0, 0.0, 0.0, 0.0, 0.0, 0.0, 0.0, 0.0, 0.0, 0.0, 0.0, 0.0, 0.0, 0.0, 0.0, 0.0, 0.0, 0.0, 0.0, 0.0, 0.0, 0.0, 0.0, 0.0, 0.0, 0.0, 0.0, 0.0, 0.0, 0.0, 0.0, 0.0, 0.0, 0.0, 0.0, 0.0, 0.0, 0.0, 0.0, 0.0, 0.0, 0.0, 0.0, 0.0, 0.0, 0.0, 0.0, 0.0, 0.0, 0.0, 0.0, 0.0, 0.0, 0.0, 0.0, 0.0, 0.0, 0.0, 0.0, 0.0, 0.0, 0.0, 0.0, 0.0, 0.0, 0.0, 0.0, 0.0, 0.0, 0.0, 0.0, 0.0, 0.0, 0.0, 0.0, 0.0, 0.0, 0.0, 0.0, 0.0, 0.0, 0.0, 0.0, 0.0, 0.0, 0.0, 0.0, 0.0, 0.0, 0.0, 0.0, 0.0, 0.0, 0.0, 0.0, 0.0, 0.0, 0.0, 0.0, 0.0, 0.0, 0.0, 0.0, 0.0, 0.0, 0.0, 0.0, 0.0, 0.0, 0.0, 0.0, 0.0, 0.0, 0.0, 0.0, 0.0, 0.0, 0.0, 0.0, 0.0, 0.0, 0.0, 0.0, 0.0, 0.0, 0.0, 0.0, 0.0, 0.0, 0.0, 0.0, 0.0, 0.0, 0.0, 0.0, 0.0, 0.0, 0.0, 0.0, 0.0, 0.0, 0.0, 0.0, 0.0, 0.0, 0.0, 0.0, 0.0, 0.0, 0.0, 0.0, 0.0, 0.0, 0.0, 0.0, 0.0, 0.0, 0.0, 0.0, 0.0, 0.0, 0.0, 0.0, 0.0, 0.0, 0.0, 0.0, 0.0, 0.0, 0.0, 0.0, 0.0, 0.0, 0.0, 0.0, 0.0, 0.0, 0.0, 0.0, 0.0, 0.0, 0.0, 0.0, 0.0, 0.0, 0.0, 0.0, 0.0, 0.0, 0.0, 0.0, 0.0, 0.0, 0.0, 0.0, 0.0, 0.0, 0.0, 0.0, 0.0, 0.0, 0.0, 0.0, 0.0, 0.0, 0.0, 0.0, 0.0, 0.0, 0.0, 0.0, 0.0, 0.0, 0.0, 0.0, 0.0, 0.0, 0.0, 0.0, 0.0, 0.0, 0.0, 0.0, 0.0, 0.0, 0.0, 0.0, 0.0, 0.0, 0.0, 0.0, 0.0, 0.0, 0.0, 0.0, 0.0, 0.0, 0.0, 0.0, 0.0, 0.0, 0.0, 0.0, 0.0, 0.0, 0.0, 0.0, 0.0, 0.0, 0.0, 0.0, 0.0, 0.0, 0.0, 0.0, 0.0, 0.0, 0.0, 0.0, 0.0, 0.0, 0.0, 0.0, 0.0, 0.0, 0.0, 0.0, 0.0, 0.0, 0.0, 0.0, 0.0, 0.0, 0.0, 0.0, 0.0, 0.0, 0.0, 0.0, 0.0, 0.0, 0.0, 0.0, 0.0, 0.0, 0.0, 0.0, 0.0, 0.0, 0.0, 0.0, 0.0, 0.0, 0.0, 0.0, 0.0, 0.0, 0.0, 0.0, 0.0, 0.0, 0.0, 0.0, 0.0, 0.0, 0.0, 0.0, 0.0, 0.0, 0.0, 0.0, 0.0, 0.0, 0.0, 0.0, 0.0, 0.0, 0.0, 0.0, 0.0, 0.0, 0.0, 0.0, 0.0, 0.0, 0.0, 0.0, 0.0, 0.0, 0.0, 0.0, 0.0, 0.0, 0.0, 0.0, 0.0, 0.0, 0.0, 0.0, 0.0, 0.0, 0.0, 0.0, 0.0, 0.0, 0.0, 0.0, 0.0, 0.0, 0.0, 0.0, 0.0, 0.0, 0.0, 0.0, 0.0, 0.0, 0.0, 0.0, 0.0, 0.0, 0.0, 0.0, 0.0, 0.0, 0.0, 0.0, 0.0, 0.0, 0.0, 0.0, 0.0, 0.0, 0.0, 0.0, 0.0, 0.0, 0.0, 0.0, 0.0, 0.0, 0.0, 0.0, 0.0, 0.0, 0.0, 0.0, 0.0, 0.0, 0.0, 0.0, 0.0, 0.0, 0.0, 0.0, 0.0, 0.0, 0.0, 0.0, 0.0, 0.0, 0.0, 0.0, 0.0, 0.0, 0.0, 0.0, 0.0, 0.0, 0.0, 0.0, 0.0, 0.0, 0.0, 0.0, 0.0, 0.0, 0.0, 0.0, 0.0, 0.0, 0.0, 0.0, 0.0, 0.0, 0.0, 0.0, 0.0, 0.0, 0.0, 0.0, 0.0, 0.0, 0.0, 0.0, 0.0, 0.0, 0.0, 0.0, 0.0, 0.0, 0.0, 0.0, 0.0, 0.0, 0.0, 0.0, 0.0, 0.0, 0.0, 0.0, 0.0, 0.0, 0.0, 0.0, 0.0, 0.0, 0.0, 0.0, 0.0, 0.0, 0.0, 0.0, 0.0, 0.0, 0.0, 0.0, 0.0, 0.0, 0.0, 0.0, 0.0, 0.0, 0.0, 0.0, 0.0, 0.0, 0.0, 0.0, 0.0, 0.0, 0.0, 0.0, 0.0, 0.0, 0.0, 0.0, 0.0, 0.0, 0.0, 0.0, 0.0, 0.0, 0.0, 0.0, 0.0, 0.0, 0.0, 0.0, 0.0, 0.0, 0.0, 0.0, 0.0, 0.0, 0.0, 0.0, 0.0, 0.0, 0.0, 0.0, 0.0, 0.0, 0.0, 0.0, 0.0, 0.0, 0.0, 0.0, 0.0, 0.0, 0.0, 0.0, 0.0, 0.0, 0.0, 0.0, 0.0, 0.0, 0.0, 0.0, 0.0, 0.0, 0.0, 0.0, 0.0, 0.0, 0.0, 0.0, 0.0, 0.0, 0.0, 0.0, 0.0, 0.0, 0.0, 0.0, 0.0, 0.0, 0.0, 0.0, 0.0, 0.0, 0.0, 0.0, 0.0, 0.0, 0.0, 0.0, 0.0, 0.0, 0.0, 0.0, 0.0, 0.0, 0.0, 0.0, 0.0, 0.0, 0.0, 0.0, 0.0, 0.0, 0.0, 0.0, 0.0, 0.0]\n"
          ]
        }
      ]
    },
    {
      "cell_type": "code",
      "source": [
        "content_file"
      ],
      "metadata": {
        "colab": {
          "base_uri": "https://localhost:8080/",
          "height": 91
        },
        "id": "jueD3miwkNfD",
        "outputId": "9e2367ae-0ad6-46e9-fbd1-f294f142e717"
      },
      "execution_count": 117,
      "outputs": [
        {
          "output_type": "execute_result",
          "data": {
            "text/plain": [
              "'nigerian bank unit bank africa standard trust bank agre plan merg creat big bank west africa deal also line 2004 direct nigerian central bank call consolid nation crowd bank sector merger announc statement standard trust websit tuesday financi detail reveal unit bank third big nigeria term number branch standard trust small profit board unit bank standard trust separ meet yesterday approv arrang merg institut standard trust say standard trust 100 nigerian own unit bank foreign investor includ new york base global depositori receipt 32 8 banca nazional del lavoro mont del paschi di siena itali 2 4 stake'"
            ],
            "application/vnd.google.colaboratory.intrinsic+json": {
              "type": "string"
            }
          },
          "metadata": {},
          "execution_count": 117
        }
      ]
    },
    {
      "cell_type": "code",
      "source": [
        "word_docs_frequency = create_word_frequency(X_df_train, unique_words_set_train)\n",
        "print(word_docs_frequency)\n",
        "print(f\"len of word_frequency_file {len(word_docs_frequency)}\")\n",
        "print(f\"unique_words in file: {create_unique_words(content_file)}\")\n",
        "print(f\"len of unique words in file {(len(create_unique_words(content_file)))}\")"
      ],
      "metadata": {
        "colab": {
          "base_uri": "https://localhost:8080/"
        },
        "id": "d3F6kZDCZ8x7",
        "outputId": "3f0d846e-ea48-41e7-e3f3-4f0103a5d4f8"
      },
      "execution_count": 118,
      "outputs": [
        {
          "output_type": "stream",
          "name": "stdout",
          "text": [
            "[array([3., 9., 4., ..., 0., 0., 0.]), array([0., 0., 2., ..., 0., 0., 0.]), array([0., 0., 0., ..., 0., 0., 0.]), array([0., 0., 0., ..., 0., 0., 0.]), array([0., 0., 0., ..., 0., 0., 0.]), array([0., 0., 0., ..., 0., 0., 0.]), array([0., 0., 0., ..., 0., 0., 0.]), array([0., 0., 0., ..., 0., 0., 0.]), array([0., 0., 1., ..., 0., 0., 0.]), array([0., 0., 0., ..., 0., 0., 0.]), array([0., 0., 0., ..., 0., 0., 0.]), array([0., 0., 0., ..., 0., 0., 0.]), array([0., 0., 0., ..., 0., 0., 0.]), array([0., 0., 0., ..., 0., 0., 0.]), array([ 0., 12.,  0., ...,  0.,  0.,  0.]), array([0., 0., 0., ..., 0., 0., 0.]), array([0., 0., 0., ..., 0., 0., 0.]), array([0., 0., 0., ..., 1., 1., 1.])]\n",
            "len of word_frequency_file 18\n",
            "unique_words in file: {'nigerian': 0, 'bank': 1, 'unit': 2, 'africa': 3, 'standard': 4, 'trust': 5, 'agre': 6, 'plan': 7, 'merg': 8, 'creat': 9, 'big': 10, 'west': 11, 'deal': 12, 'also': 13, 'line': 14, '2004': 15, 'direct': 16, 'central': 17, 'call': 18, 'consolid': 19, 'nation': 20, 'crowd': 21, 'sector': 22, 'merger': 23, 'announc': 24, 'statement': 25, 'websit': 26, 'tuesday': 27, 'financi': 28, 'detail': 29, 'reveal': 30, 'third': 31, 'nigeria': 32, 'term': 33, 'number': 34, 'branch': 35, 'small': 36, 'profit': 37, 'board': 38, 'separ': 39, 'meet': 40, 'yesterday': 41, 'approv': 42, 'arrang': 43, 'institut': 44, 'say': 45, '100': 46, 'own': 47, 'foreign': 48, 'investor': 49, 'includ': 50, 'new': 51, 'york': 52, 'base': 53, 'global': 54, 'depositori': 55, 'receipt': 56, '32': 57, '8': 58, 'banca': 59, 'nazional': 60, 'del': 61, 'lavoro': 62, 'mont': 63, 'paschi': 64, 'di': 65, 'siena': 66, 'itali': 67, '2': 68, '4': 69, 'stake': 70}\n",
            "len of unique words in file 71\n"
          ]
        }
      ]
    },
    {
      "cell_type": "markdown",
      "source": [
        "## TF-IDF"
      ],
      "metadata": {
        "id": "0Y-o-aH4gXcz"
      }
    },
    {
      "cell_type": "code",
      "source": [
        "from sklearn.feature_extraction.text import TfidfVectorizer\n",
        "\n",
        "def create_tfidf_aux(content, unique_words):\n",
        "    tfidf_vectorizer = TfidfVectorizer()\n",
        "    tfidf_vectorizer.fit(unique_words)\n",
        "    tfidf = tfidf_vectorizer.transform([content])\n",
        "    return tfidf\n",
        "\n",
        "\n",
        "# def create_tfidf(df, unique_words):\n",
        "#     tfidf_vectorizer = TfidfVectorizer(min_df=0)\n",
        "#     tfidf_matrix = []\n",
        "\n",
        "#     for index, row in df.iterrows():\n",
        "#         content = row['content']\n",
        "#         tfidf_array = create_tfidf_aux([content], tfidf_vectorizer)\n",
        "#         tfidf_matrix.append(tfidf_array[0])\n",
        "#     return tfidf_matrix\n",
        "\n",
        "\n",
        "\n",
        "# tf_idf_train = create_tfidf(train_df, unique_words_set_train)\n",
        "\n",
        "tfidf_train = create_tfidf_aux(content_file, unique_words_set_train)\n",
        "\n",
        "print(\"Len tfidf:\", tfidf_train )\n",
        "\n",
        "# train_docs = train_df['content']\n",
        "# test_docs = test_df['content']"
      ],
      "metadata": {
        "id": "gmbNj7hGhP4d"
      },
      "execution_count": null,
      "outputs": []
    },
    {
      "cell_type": "code",
      "source": [
        "def calcule_idf(frequency_matrix):\n",
        "  total_docs = len(frequency_matrix)\n",
        "  document_frequency = np.count_nonzero(frequency_matrix, axis=0)\n",
        "  idf = np.log(total_docs / (1 + document_frequency))\n",
        "  tfidf = frequency_matrix * idf\n",
        "  return tfidf\n",
        "\n",
        "\n",
        "tfidf = calcule_idf(word_docs_frequency)\n",
        "print(tfidf)\n",
        "print(len(tfidf[2]))"
      ],
      "metadata": {
        "colab": {
          "base_uri": "https://localhost:8080/"
        },
        "id": "rZNYHJVJqcL6",
        "outputId": "98b2109c-21a5-4138-c265-e267ccab4907"
      },
      "execution_count": 124,
      "outputs": [
        {
          "output_type": "stream",
          "name": "stdout",
          "text": [
            "[[ 6.59167373 16.12583522  6.01630959 ...  0.          0.\n",
            "   0.        ]\n",
            " [ 0.          0.          3.00815479 ...  0.          0.\n",
            "   0.        ]\n",
            " [ 0.          0.          0.         ...  0.          0.\n",
            "   0.        ]\n",
            " ...\n",
            " [ 0.          0.          0.         ...  0.          0.\n",
            "   0.        ]\n",
            " [ 0.          0.          0.         ...  0.          0.\n",
            "   0.        ]\n",
            " [ 0.          0.          0.         ...  2.19722458  2.19722458\n",
            "   2.19722458]]\n",
            "1518\n"
          ]
        }
      ]
    },
    {
      "cell_type": "markdown",
      "source": [
        "# Training classifiers"
      ],
      "metadata": {
        "id": "kuTHuhr11COy"
      }
    },
    {
      "cell_type": "code",
      "source": [
        "import numpy as np\n",
        "import matplotlib.pyplot as plt\n",
        "from matplotlib.colors import ListedColormap\n",
        "from sklearn.datasets import load_iris\n",
        "from sklearn.model_selection import train_test_split\n",
        "from sklearn.pipeline import make_pipeline\n",
        "from sklearn.preprocessing import StandardScaler\n",
        "from sklearn.neighbors import KNeighborsClassifier\n",
        "from sklearn.svm import SVC\n",
        "from sklearn.gaussian_process import GaussianProcessClassifier\n",
        "from sklearn.gaussian_process.kernels import RBF\n",
        "from sklearn.tree import DecisionTreeClassifier\n",
        "from sklearn.ensemble import RandomForestClassifier, AdaBoostClassifier\n",
        "from sklearn.neural_network import MLPClassifier\n",
        "from sklearn.naive_bayes import GaussianNB\n",
        "from sklearn.discriminant_analysis import QuadraticDiscriminantAnalysis\n",
        "from sklearn.metrics import accuracy_score\n",
        "\n",
        "from sklearn.preprocessing import LabelEncoder\n",
        "\n",
        "\n",
        "\n",
        "print(X_train)\n",
        "\n",
        "classifiers = [\n",
        "    KNeighborsClassifier(3),\n",
        "    SVC(kernel=\"linear\", C=0.025, random_state=42),\n",
        "    SVC(gamma=2, C=1, random_state=42),\n",
        "    GaussianProcessClassifier(1.0 * RBF(1.0), random_state=42),\n",
        "    DecisionTreeClassifier(max_depth=5, random_state=42),\n",
        "    RandomForestClassifier(\n",
        "        max_depth=5, n_estimators=10, max_features=1, random_state=42\n",
        "    ),\n",
        "    MLPClassifier(alpha=1, max_iter=1000, random_state=42),\n",
        "    AdaBoostClassifier(algorithm=\"SAMME\", random_state=42),\n",
        "    GaussianNB(),\n",
        "    QuadraticDiscriminantAnalysis(),\n",
        "]\n",
        "\n",
        "\n",
        "for clf in classifiers:\n",
        "    clf.fit(X_train, y_df_train)\n",
        "    train_score = clf.score(X_train, y_df_train)\n",
        "    test_score = clf.score(X_test, y_df_test)\n",
        "    print(\"Train score:\", train_score)\n",
        "    print(\"Test score:\", test_score)\n",
        "\n",
        "\n",
        "\n"
      ],
      "metadata": {
        "id": "lFFhwDvpAbLN"
      },
      "execution_count": null,
      "outputs": []
    }
  ],
  "metadata": {
    "colab": {
      "collapsed_sections": [
        "vYD1MuadaMje",
        "nnkoeJFn9jIF"
      ],
      "provenance": [],
      "include_colab_link": true
    },
    "kernelspec": {
      "display_name": "Python 3",
      "name": "python3"
    },
    "language_info": {
      "name": "python"
    }
  },
  "nbformat": 4,
  "nbformat_minor": 0
}