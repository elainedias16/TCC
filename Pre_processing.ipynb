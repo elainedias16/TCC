{
  "nbformat": 4,
  "nbformat_minor": 0,
  "metadata": {
    "colab": {
      "provenance": [],
      "authorship_tag": "ABX9TyMf3cbu/zbc4tS2J59nboYy",
      "include_colab_link": true
    },
    "kernelspec": {
      "name": "python3",
      "display_name": "Python 3"
    },
    "language_info": {
      "name": "python"
    }
  },
  "cells": [
    {
      "cell_type": "markdown",
      "metadata": {
        "id": "view-in-github",
        "colab_type": "text"
      },
      "source": [
        "<a href=\"https://colab.research.google.com/github/elainedias16/TCC/blob/main/Pre_processing.ipynb\" target=\"_parent\"><img src=\"https://colab.research.google.com/assets/colab-badge.svg\" alt=\"Open In Colab\"/></a>"
      ]
    },
    {
      "cell_type": "markdown",
      "source": [
        "# Pré processamento"
      ],
      "metadata": {
        "id": "6jlg7UjuJNWI"
      }
    },
    {
      "cell_type": "markdown",
      "source": [
        "## Motivação"
      ],
      "metadata": {
        "id": "PvHR_zqGJSlM"
      }
    },
    {
      "cell_type": "markdown",
      "source": [
        "O *pré processamento* é um conjunto de técnicas que tranforma dados brutos em um formato adequado para serem utilizados na área de ciência de dados. No contexto de Processamento de Linguagm Natural (NLP) envolve Remoção de caracateres não alfanuméricas, Remoção de acentos, Lowescasting, Remoção de Stop-words, Stemming e Lemmanização. Dependendo da aplicação, podem ser adicionadas ou removidas etapas do pré processamento. A importância da qualidade de dados é tão grande que gerou o famoso ditado \"Garbage in, garbage out\" (GIGO), que associa que a qualidade da saída de um modelo está instrinsecamente associada à qualidade da entrada, por isso realizar um bom pré-processamento é fundamento em ciência de dados."
      ],
      "metadata": {
        "id": "p28xC_YsMYl9"
      }
    },
    {
      "cell_type": "markdown",
      "source": [
        "## Fundamentação teórica"
      ],
      "metadata": {
        "id": "w878GFJGJUon"
      }
    },
    {
      "cell_type": "markdown",
      "source": [
        "O pré processamento tranforma dados brutos em dados passíveis de serem utilizados em inteligência artifical. Assim, dado uma base de dados, é na fase de pré processamento que é realizada a verificação de dados ausentes ou inconsistes, a normalização, padronização e tranformação dos dados. Como citado anteriormente, a quantidade de etapas do pré processamento pode variar de aplicação para aplicação, mas o conceito é o mesmo: transformar dados brutos em um formato adequado para serem utilizados.\n",
        "\n",
        "Neste laboratório, serão realizadas as seguintes etapas de pré processamento: Lowercasing , Tokenização, Remoção de caracteres não alfanuméricos , Remoção de acentos, Remoção de stop-words, Lemmanização e Stemming.\n",
        "\n",
        "## Lowercasing\n",
        "\n",
        "Lowercasing é o processo de transformar todos os caracteres de um conjunto de texto para lowercase, isto é, para caracteres minúsculos. Por exemplo, na sentença \"Hello World\", após o lowecasing, a sentença seria \"hello world\".\n",
        "\n",
        "O lowercasing é importante pois elimina a diferença entre caracteres maiúsculos e minúsculos, reduzindo o número de caracteres únicos. Em tarefas de classificação e busca, o lowercasing é muito importante pois elimina a diferença em palavras como \"Laranja\" e \"laranja\".\n",
        "\n",
        "## Tokenização\n",
        "\n",
        "\n"
      ],
      "metadata": {
        "id": "cPjkiua3WYcf"
      }
    },
    {
      "cell_type": "markdown",
      "source": [
        "## Resultados esperados"
      ],
      "metadata": {
        "id": "OM6vd8xqJcVE"
      }
    },
    {
      "cell_type": "markdown",
      "source": [
        "## Código"
      ],
      "metadata": {
        "id": "9cUPNehxJYL8"
      }
    },
    {
      "cell_type": "code",
      "execution_count": null,
      "metadata": {
        "id": "yrFlBMDsJJnx"
      },
      "outputs": [],
      "source": []
    },
    {
      "cell_type": "markdown",
      "source": [
        "## Referências"
      ],
      "metadata": {
        "id": "Z8w_sdk7Qk9T"
      }
    },
    {
      "cell_type": "markdown",
      "source": [
        "bla bla bla"
      ],
      "metadata": {
        "id": "H2hi3V2LQnzE"
      }
    }
  ]
}