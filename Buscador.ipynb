{
  "nbformat": 4,
  "nbformat_minor": 0,
  "metadata": {
    "colab": {
      "provenance": [],
      "authorship_tag": "ABX9TyOExNOg3dg/DY8cATpCVfkN",
      "include_colab_link": true
    },
    "kernelspec": {
      "name": "python3",
      "display_name": "Python 3"
    },
    "language_info": {
      "name": "python"
    }
  },
  "cells": [
    {
      "cell_type": "markdown",
      "metadata": {
        "id": "view-in-github",
        "colab_type": "text"
      },
      "source": [
        "<a href=\"https://colab.research.google.com/github/elainedias16/TCC/blob/main/Buscador.ipynb\" target=\"_parent\"><img src=\"https://colab.research.google.com/assets/colab-badge.svg\" alt=\"Open In Colab\"/></a>"
      ]
    },
    {
      "cell_type": "code",
      "execution_count": null,
      "metadata": {
        "id": "qXrx7l9lpIVO"
      },
      "outputs": [],
      "source": []
    },
    {
      "cell_type": "markdown",
      "source": [
        "# Buscador"
      ],
      "metadata": {
        "id": "vgJewafMpKGE"
      }
    },
    {
      "cell_type": "markdown",
      "source": [
        "## Motivação"
      ],
      "metadata": {
        "id": "UYXcaAfPpTge"
      }
    },
    {
      "cell_type": "markdown",
      "source": [
        "Um buscador é uma ferramenta que, a partir de uma consulta (query), retorna um conjunto de informações relevantes extraídas de uma base de dados previamente indexada. Diversos tipos de aplicações utilizam buscadores: navegadores, aplicativos de mensagens, plataformas de música, sites de compras, bibliotecas digitais, entre outros. Cada um desses buscadores é projetado para otimizar a experiência do usuário, permitindo o acesso rápido e eficiente às informações desejadas.\n",
        "\n",
        "A importância econômica dos buscadores é inegável. Quando um website aparece entre os primeiros resultados de um buscador web, a qualidade do tráfego recebido aumenta significativamente, o que, por sua vez, aumenta o retorno sobre investimento (ROI) dos negócios. [CITAR ARTIGO Search Engine Optimization ].\n",
        "\n",
        "\n",
        "Dada a onipresença dos buscadores em diversas aplicações, entender seu funcionamento é crucial. Eles não só facilitam o acesso à informação, mas também têm um impacto direto na visibilidade e lucratividade das empresas. A presença constante dos buscadores no mundo digital é tão significativa que eles possuem um ícone universalmente reconhecido: a famosa lupa, que simboliza a busca e descoberta de informações."
      ],
      "metadata": {
        "id": "N0UwU6AxsG-p"
      }
    },
    {
      "cell_type": "markdown",
      "source": [
        "## Fundamentação teórica"
      ],
      "metadata": {
        "id": "YaS407eWpVut"
      }
    },
    {
      "cell_type": "markdown",
      "source": [
        "## Resultados esperados"
      ],
      "metadata": {
        "id": "Q0O2ri1TpYoO"
      }
    },
    {
      "cell_type": "markdown",
      "source": [
        "É esperado que nesse laboratório, o aluno comprrenda o funcionamento de um buscador e que consiga implementar um na prática."
      ],
      "metadata": {
        "id": "0ItQ_rlIlSHj"
      }
    },
    {
      "cell_type": "markdown",
      "source": [
        "## Código"
      ],
      "metadata": {
        "id": "sxzkMU5KpcpH"
      }
    },
    {
      "cell_type": "markdown",
      "source": [
        "### índice de palavras por documento"
      ],
      "metadata": {
        "id": "Hk6iobwykK-x"
      }
    },
    {
      "cell_type": "markdown",
      "source": [
        "## Referências"
      ],
      "metadata": {
        "id": "ZEub9D2Ipexp"
      }
    },
    {
      "cell_type": "markdown",
      "source": [
        "https://d1wqtxts1xzle7.cloudfront.net/66254313/search_engine_optimization_IJERTV2IS110872-libre.pdf?1618306716=&response-content-disposition=inline%3B+filename%3DIJERT_Search_Engine_Optimization.pdf&Expires=1724440072&Signature=hNatEk-4hLaTpmnPBnak5sXAktKf~cay~lu5A3OMfpyqxTJtwv2TKhBdLh3e--KLDCTdNdC~lWNpvkqn2TjZsZCtR9WoJB3~SZMK~rXChADNOmG0sU--ELj817nSW~~QbBP~65tbTs3Za7XfxCmRtCw4o4u0rURfXPyjcsprLaOZOtIy-8nj~YjPFtAvEaTHY6YNky1FbAFSWM6MJcG~UdKpnANMCS3vm1ILVy7KULXCsvTv4Q5-osBHPkoPOvZfXgSqLn4cfY7O6jmIPF~nL2~dZ73d9JzITSvzd~CkvK5k8xduCNTA~p~fP~97hz81S9RGj8GuT8aNJt9THr4fnQ__&Key-Pair-Id=APKAJLOHF5GGSLRBV4ZA"
      ],
      "metadata": {
        "id": "m2Ch3EiAb3QI"
      }
    }
  ]
}