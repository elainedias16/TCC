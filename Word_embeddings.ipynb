{
  "nbformat": 4,
  "nbformat_minor": 0,
  "metadata": {
    "colab": {
      "provenance": [],
      "authorship_tag": "ABX9TyOoYgva5TtQPrkJ/J375sWl",
      "include_colab_link": true
    },
    "kernelspec": {
      "name": "python3",
      "display_name": "Python 3"
    },
    "language_info": {
      "name": "python"
    }
  },
  "cells": [
    {
      "cell_type": "markdown",
      "metadata": {
        "id": "view-in-github",
        "colab_type": "text"
      },
      "source": [
        "<a href=\"https://colab.research.google.com/github/elainedias16/TCC/blob/main/Word_embeddings.ipynb\" target=\"_parent\"><img src=\"https://colab.research.google.com/assets/colab-badge.svg\" alt=\"Open In Colab\"/></a>"
      ]
    },
    {
      "cell_type": "code",
      "execution_count": null,
      "metadata": {
        "id": "Ub-oiF76KtcO"
      },
      "outputs": [],
      "source": []
    },
    {
      "cell_type": "markdown",
      "source": [
        "#Motivação"
      ],
      "metadata": {
        "id": "MsHahzGrLUsx"
      }
    },
    {
      "cell_type": "markdown",
      "source": [
        "Word embedding é uma técnica fundamental em Processamento de Linguagem Natural (NLP) que consiste em representar palavras como vetores numéricos. Dessa forma, gerar word embeddings é essencial para criar a entrada de modelos de NLP, como tradução automática, chatbots, análise de sentimentos, sumarização, entre outros.\n",
        "\n",
        "Anteriormente,  na tarefa de classificação, foram vistas três formas de representar palavras por meio de vetores: Vetor Binário, Frequência de Palavras e TF-IDF. A diferença entre tais métodos e os word embeddings, é que os mesmos são capazes de captar a relação entre palavras de forma mais profunda.\n",
        "\n",
        "Dessa forma, estudar word embedding é essencial para utilizar, criar e implementar modelos de NLP na qual a base de dados textual esteja melhor representada matematicamente."
      ],
      "metadata": {
        "id": "-T0WCmcLLXwf"
      }
    },
    {
      "cell_type": "markdown",
      "source": [
        "# Fundamentação teórica"
      ],
      "metadata": {
        "id": "TqOuBiZxLkOB"
      }
    },
    {
      "cell_type": "markdown",
      "source": [],
      "metadata": {
        "id": "NdWjFPOkLnvN"
      }
    },
    {
      "cell_type": "markdown",
      "source": [
        "# Resultados Esperados"
      ],
      "metadata": {
        "id": "1C4U0lYbLY2F"
      }
    },
    {
      "cell_type": "markdown",
      "source": [],
      "metadata": {
        "id": "O7D934v1Lcxw"
      }
    },
    {
      "cell_type": "markdown",
      "source": [
        "# Referências"
      ],
      "metadata": {
        "id": "ld7DXnojZluT"
      }
    }
  ]
}