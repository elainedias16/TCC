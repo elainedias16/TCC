{
  "nbformat": 4,
  "nbformat_minor": 0,
  "metadata": {
    "colab": {
      "provenance": [],
      "authorship_tag": "ABX9TyPNEUbcwNSSAAaVcQUgMqRI",
      "include_colab_link": true
    },
    "kernelspec": {
      "name": "python3",
      "display_name": "Python 3"
    },
    "language_info": {
      "name": "python"
    }
  },
  "cells": [
    {
      "cell_type": "markdown",
      "metadata": {
        "id": "view-in-github",
        "colab_type": "text"
      },
      "source": [
        "<a href=\"https://colab.research.google.com/github/elainedias16/TCC/blob/main/API_Comercial.ipynb\" target=\"_parent\"><img src=\"https://colab.research.google.com/assets/colab-badge.svg\" alt=\"Open In Colab\"/></a>"
      ]
    },
    {
      "cell_type": "markdown",
      "source": [
        "## API Comercial"
      ],
      "metadata": {
        "id": "sZu4L8KwtFgg"
      }
    },
    {
      "cell_type": "markdown",
      "source": [
        "## Motivação"
      ],
      "metadata": {
        "id": "OuyIxkAQtOTH"
      }
    },
    {
      "cell_type": "markdown",
      "source": [
        "Os Large Language Models (LLMs) têm apresentado desempenhos notáveis em diversas tarefas, como resumo de textos, criação de conteúdo, correção gramatical, auxílio na criação de códigos e resposta a perguntas, entre outras tarefas. Devido a esses avanços, muitas empresas estão interessadas em utilizar LLMs para aumentar a eficiência operacional. No entanto, a criação e o treinamento de um modelo LLM exigem alta capacidade técnica, computacional e tempo. Por isso, muitas empresas optam por utilizar LLMs comerciais. Para uso geral, essas ferramentas podem ser acessadas diretamente através de navegadores. No entanto, para integrar LLMs comerciais com outras ferramentas e sistemas, é necessário a utilização de APIs, que permitem a conexão e a comunicação entre diferentes plataformas. Dessa forma, à medida que o uso de LLM comerciais no mercado de trabalho continua a crescer, aprender a utilizá-las por meio de APIs torna-se essencial."
      ],
      "metadata": {
        "id": "XtQJSlAR_uSr"
      }
    },
    {
      "cell_type": "markdown",
      "source": [
        "## Resultados Esperados"
      ],
      "metadata": {
        "id": "3AcBLqXJN7CL"
      }
    },
    {
      "cell_type": "markdown",
      "source": [
        "Neste laboratório, espera-se que o aluno compreenda o funcionamento básico de um web service e a utilização de Application Programming Interface (APIs) para LLMs comerciais, como as desenvolvidas pelo Google, OpenAI e Meta. Será apresentado um exemplo de código demonstrando o uso da API do Google. Em seguida, o aluno realizará variações das atividades mostradas utilizando as APIs da OpenAI ou da Meta."
      ],
      "metadata": {
        "id": "9DuV25L5OBN0"
      }
    },
    {
      "cell_type": "markdown",
      "source": [
        "## Fundamentação teórica"
      ],
      "metadata": {
        "id": "SG7DYtYmtQNd"
      }
    },
    {
      "cell_type": "markdown",
      "source": [],
      "metadata": {
        "id": "EXqTiYDgS5xn"
      }
    },
    {
      "cell_type": "markdown",
      "source": [
        "# Código"
      ],
      "metadata": {
        "id": "W2Qewmb4Syqr"
      }
    },
    {
      "cell_type": "code",
      "source": [
        "!pip install -U -q google-generativeai"
      ],
      "metadata": {
        "id": "4TP_1K5I394B"
      },
      "execution_count": null,
      "outputs": []
    },
    {
      "cell_type": "code",
      "execution_count": null,
      "metadata": {
        "id": "iStgdjM_V6wE"
      },
      "outputs": [],
      "source": [
        "import google.generativeai as genai\n",
        "from google.colab import userdata\n",
        "\n",
        "GOOGLE_API_KEY = userdata.get('api_gemini')\n",
        "\n",
        "genai.configure(api_key=GOOGLE_API_KEY)\n",
        "model = genai.GenerativeModel('gemini-1.5-flash')"
      ]
    },
    {
      "cell_type": "markdown",
      "source": [
        "## Chat"
      ],
      "metadata": {
        "id": "1N8s4KwFZS8w"
      }
    },
    {
      "cell_type": "code",
      "source": [
        "conversation_history = []\n",
        "\n",
        "def talk(user_input):\n",
        "  conversation_history.append({\"role\": \"user\", \"content\": user_input})\n",
        "\n",
        "  all_content = \"\"\n",
        "  for line in conversation_history:\n",
        "    content = 'role: ' + line['role'] + '\\ncontent: ' + line['content'] + '\\n'\n",
        "    all_content += content\n",
        "\n",
        "  response = model.generate_content(all_content)\n",
        "  conversation_history.append({\"role\": \"Gemini\", \"content\": response.text})\n",
        "\n",
        "  print(f\"Gemini: {response.text}\")\n",
        "\n",
        "\n",
        "\n",
        "while True:\n",
        "    user_input = input(\"You: \")\n",
        "    if user_input.lower() == \"exit\":\n",
        "        break\n",
        "    talk(user_input)"
      ],
      "metadata": {
        "collapsed": true,
        "id": "321uS-lDLgEL",
        "colab": {
          "base_uri": "https://localhost:8080/",
          "height": 679
        },
        "outputId": "e4cc9b57-a0df-4b7f-b4af-61fcb1fdeb8a"
      },
      "execution_count": null,
      "outputs": [
        {
          "name": "stdout",
          "output_type": "stream",
          "text": [
            "You: Image that you're Jane Auster and give us a resume of your new book.\n",
            "Gemini: ##  A Most Peculiar Proposition: A Novel \n",
            "\n",
            "**By Jane Austen**\n",
            "\n",
            "**Synopsis:**\n",
            "\n",
            "**A most peculiar proposition, indeed!**  When the eccentric and reclusive Miss Amelia Finch inherits her late aunt's sprawling estate, she finds herself entangled in a web of intrigue and romance.  The estate, Bleakworth Manor, is more than just a grand house - it houses a peculiar secret that has the potential to disrupt society's delicate balance.\n",
            "\n",
            "**Enter Mr. Charles Blackwood, a handsome and enigmatic gentleman** whose pursuit of Amelia's hand is more than just a matter of social standing.  His interest in Bleakworth Manor, and its hidden secret, is clear, but his motives remain shrouded in mystery.  \n",
            "\n",
            "**As Amelia navigates the complexities of her newfound wealth and position,** she finds herself caught between the expectations of society and her own desire for independence.  The arrival of her spirited cousin, Miss Eliza Thornton, throws Amelia's world into further disarray, as Eliza's wit and charm challenge Amelia's carefully constructed world.  \n",
            "\n",
            "**Amidst balls, scandals, and secret meetings, Amelia must unravel the truth behind Bleakworth Manor's secrets** and decide whether to succumb to the allure of the enigmatic Mr. Blackwood, or embrace a path of her own making.\n",
            "\n",
            "**Themes:**\n",
            "\n",
            "* **Family Secrets and Inheritance:**  The exploration of family secrets and the power of inherited wealth. \n",
            "* **Social Class and Gender Roles:**  A nuanced examination of the expectations placed upon women in society, and the ways they navigate these constraints.\n",
            "* **Love and Marriage:**  A complex portrayal of romantic relationships, exploring the intricacies of attraction, desire, and societal pressures.\n",
            "* **Individuality and Independence:**  A celebration of the individual's right to choose their own path, even when faced with societal pressures and expectations.\n",
            "\n",
            "**This novel is a captivating blend of wit, romance, and social commentary**, promising to delight readers with its engaging characters and intricate plot. It is a testament to Jane Austen's enduring mastery of storytelling, and a timely reminder of the enduring power of human relationships in a world of social change and complex societal structures.\n",
            "\n",
            "You: How would be Lizze in it?\n",
            "Gemini: Lizzie, in this new Austen novel, would be a character brimming with the same independent spirit and sharp wit that we know and love from \"Pride and Prejudice.\"  She would be a breath of fresh air in the stuffy world of Bleakworth Manor, challenging social norms and expectations with her outspoken nature. \n",
            "\n",
            "Here's how Lizzie might appear in the story:\n",
            "\n",
            "* **A Welcome Disruption:** Lizzie arrives at Bleakworth Manor as a guest, perhaps invited by Amelia to provide a counterpoint to the stifling atmosphere.  Her presence would immediately shake things up, injecting a dose of humor and pragmatism into the often-serious world of Amelia and Mr. Blackwood.\n",
            "* **A Sharp Observer:** Lizzie, with her keen eye for character, would quickly perceive the hidden tensions and secrets surrounding Bleakworth Manor. She'd notice Mr. Blackwood's hidden agenda and Amelia's inner struggles, offering insightful commentary and even a bit of playful teasing.\n",
            "* **A Confidante:** Lizzie would be a close confidante to Amelia, offering  support and guidance as Amelia navigates the complexities of her newfound wealth and position. Lizzie would help Amelia see through the facade of society and challenge her own assumptions about love and marriage. \n",
            "* **A Matchmaker, Perhaps?** Lizzie, ever the romantic, might even play a role in bringing Amelia and Mr. Blackwood closer, though she would likely do so with a mischievous twinkle in her eye, ensuring that the path to love is anything but smooth.\n",
            "\n",
            "Lizzie's presence would add a layer of playful tension and societal critique to the story, highlighting the complexities of female agency and the absurdity of certain social conventions.  Her sharp wit and independent spirit would be a welcome addition to the world of Bleakworth Manor, reminding us that even in a world of secrets and societal pressures, there is always room for a touch of Lizzy Bennet's delightful irreverence. \n",
            "\n",
            "You: exit\n"
          ]
        }
      ]
    },
    {
      "cell_type": "code",
      "source": [
        "text = \"You are a pirate chatbot who always responds in pirate speak!Who are you?\"\n",
        "response = model.generate_content(text)\n",
        "print(response.text)"
      ],
      "metadata": {
        "colab": {
          "base_uri": "https://localhost:8080/",
          "height": 52
        },
        "id": "Ezv69l1Gxqa1",
        "outputId": "50d364c5-fffb-4bdb-fe8a-20f02422e70a"
      },
      "execution_count": null,
      "outputs": [
        {
          "output_type": "stream",
          "name": "stdout",
          "text": [
            "Ahoy there, matey!  I be Captain Calico Jack, at yer service!  What be yer pleasure?  Shiver me timbers, I be ready for an adventure! \n",
            "\n"
          ]
        }
      ]
    },
    {
      "cell_type": "code",
      "source": [
        "text = \"Please, give me a image of a flower\"\n",
        "response = model.generate_content(text)\n",
        "print(response.text)"
      ],
      "metadata": {
        "colab": {
          "base_uri": "https://localhost:8080/",
          "height": 173
        },
        "id": "Y3OYzVGk8cgF",
        "outputId": "0b74e84d-5c31-48e2-bfa3-2fcb68c6ff0e"
      },
      "execution_count": null,
      "outputs": [
        {
          "output_type": "stream",
          "name": "stdout",
          "text": [
            "I am unable to provide images as I am a text-based AI. However, I can suggest some places where you can find images of flowers:\n",
            "\n",
            "* **Google Images:** Search for \"flowers\" and you'll find millions of images to choose from. \n",
            "* **Pinterest:** This platform is a treasure trove of beautiful images, including many flower photos.\n",
            "* **Free image websites:** Unsplash, Pexels, Pixabay, and Flickr offer free high-quality images. \n",
            "* **Stock photo websites:** Shutterstock, Adobe Stock, and iStockphoto offer a wide selection of images, though some require a paid subscription. \n",
            "\n",
            "I hope this helps! \n",
            "\n"
          ]
        }
      ]
    },
    {
      "cell_type": "code",
      "source": [
        "conditions = [\n",
        "    \"Does the text talk about sports?\",\n",
        "    \"Does the text talk about politics?\",\n",
        "    \"Does the text mention Lebron James?\",\n",
        "    \"Does the text refers to a conflict in which israel is participating?\",\n",
        "    \"The main point of the text is related to immigration?\",\n",
        "    \"Does the text mentions the score of a match?\",\n",
        "]\n",
        "\n",
        "texts = [\n",
        "    \"In the fifth game of the best-of-seven series, defending champions the Nuggets won a tense encounter 108-106. Jamal Murray scored 32 points, including the winner with just 3.6 seconds left when the scores were tied. James' 30 points and 11 assists were in vain for the Lakers. The NBA's all-time leading points scorer was chasing his fifth title and his first with the Lakers since 2020.\",\n",
        "\n",
        "    \"In the Western Conference, the Oklahoma City Thunder also progressed to the last eight with a 97-89 win over the New Orleans Pelicans. Jalen Williams scored 24 points and Shai Gilgeous-Alexander added 24 with 10 rebounds to complete a 4-0 series clean sweep. The Thunder had a slender 44-43 advantage at half-time, before the Pelicans took a 80-75 lead but could not cling on as they struggled defensively.\",\n",
        "\n",
        "    \"In the Eastern Conference, the Boston Celtics edged closer to the next round as they took a 3-1 advantage in their play-off series with the Miami Heat. They won the fourth match 102-88, but were dealt an injury concern as centre Kristaps Porzingis limped off the court with a calf strain shortly before half-time, and did not return. Derrick White's career-best 38 points helped the Celtics to victory, with the fifth match of the best-of-seven series taking place on Wednesday.\",\n",
        "\n",
        "    \"The number of people claiming asylum in Ireland has risen, with the Irish government claiming 80 percent have arrived from Northern Ireland. It has blamed the Rwanda policy - the fear of deportation - for the increase, and wants to send migrants back to the UK. Ireland's deputy leader said the 80 percent figure was not 'data-based' but is standing by the claim. British Prime Minister Rishi Sunak says 'the deterrent is... already having an impact'.BBC Verify has been looking at the rise in asylum claims in the Irish Republic and whether the Rwanda scheme is behind it.\",\n",
        "\n",
        "    \"The UK government has been urged not to deploy troops on the ground in Gaza to deliver aid, with one MP calling the idea 'completely insane'. The UK is understood to be considering tasking troops with driving trucks via an American-built floating pier onto a beach in Gaza. Ex-Immigration Minister Robert Jenrick said such a move would be 'unwise' and urged the government to rule it out. Defence Minister Leo Docherty said he would not comment on speculation.The US military is building a large floating causeway off the coast of Gaza to help deliver much-needed humanitarian aid to the area.\",\n",
        "\n",
        "    \"MP says he was deported from Africa over China criticism. A Conservative MP says he was deported during a trip to Djibouti because of the east African country's close ties to China. Tim Loughton, the MP for East Worthing and Shoreham, said he was detained for more than seven hours and barred from entry to Djibouti earlier this month. Mr Loughton, who was subjected to sanctions by China in 2021, described the experience as “very lonely and frightening”. China's foreign office said the accusations were baseless. Mr Loughton was in Djibouti for a 24-hour visit, which included a meeting with the British ambassador.\"\n",
        "]\n",
        "\n",
        "for i in range(len(conditions)):\n",
        "    t = texts[i]\n",
        "    c = conditions[i]\n",
        "    print(\"\\n\\n------------------\")\n",
        "    print(t)\n",
        "    print(\"\\n------------------\")\n",
        "    print(c)\n",
        "    print(\"\\n------------------\")\n",
        "    content = t + \"\\n\\n\" + c\n",
        "    response = model.generate_content(content)\n",
        "    print(response.text)\n",
        "    print(\"\\n\\n------------------\")\n",
        "\n",
        "\n",
        "# print(len(texts))"
      ],
      "metadata": {
        "colab": {
          "base_uri": "https://localhost:8080/",
          "height": 1000
        },
        "id": "3tUAdoSZZ_L2",
        "outputId": "4c0d5fdc-929b-4ac4-aa09-1eaa9272f38c"
      },
      "execution_count": null,
      "outputs": [
        {
          "output_type": "stream",
          "name": "stdout",
          "text": [
            "\n",
            "\n",
            "------------------\n",
            "In the fifth game of the best-of-seven series, defending champions the Nuggets won a tense encounter 108-106. Jamal Murray scored 32 points, including the winner with just 3.6 seconds left when the scores were tied. James' 30 points and 11 assists were in vain for the Lakers. The NBA's all-time leading points scorer was chasing his fifth title and his first with the Lakers since 2020.\n",
            "\n",
            "------------------\n",
            "Does the text talk about sports?\n",
            "\n",
            "------------------\n",
            "Yes, the text clearly talks about sports. It mentions a \"best-of-seven series,\" \"champions,\" \"points,\" \"assists,\" and a \"title,\" all of which are terms associated with sports, specifically basketball in this case. \n",
            "\n",
            "\n",
            "\n",
            "------------------\n",
            "\n",
            "\n",
            "------------------\n",
            "In the Western Conference, the Oklahoma City Thunder also progressed to the last eight with a 97-89 win over the New Orleans Pelicans. Jalen Williams scored 24 points and Shai Gilgeous-Alexander added 24 with 10 rebounds to complete a 4-0 series clean sweep. The Thunder had a slender 44-43 advantage at half-time, before the Pelicans took a 80-75 lead but could not cling on as they struggled defensively.\n",
            "\n",
            "------------------\n",
            "Does the text talk about politics?\n",
            "\n",
            "------------------\n",
            "No, the text does not talk about politics. It is a sports report discussing a basketball game between the Oklahoma City Thunder and the New Orleans Pelicans. \n",
            "\n",
            "\n",
            "\n",
            "------------------\n",
            "\n",
            "\n",
            "------------------\n",
            "In the Eastern Conference, the Boston Celtics edged closer to the next round as they took a 3-1 advantage in their play-off series with the Miami Heat. They won the fourth match 102-88, but were dealt an injury concern as centre Kristaps Porzingis limped off the court with a calf strain shortly before half-time, and did not return. Derrick White's career-best 38 points helped the Celtics to victory, with the fifth match of the best-of-seven series taking place on Wednesday.\n",
            "\n",
            "------------------\n",
            "Does the text mention Lebron James?\n",
            "\n",
            "------------------\n",
            "The text does not mention Lebron James. \n",
            "\n",
            "\n",
            "\n",
            "------------------\n",
            "\n",
            "\n",
            "------------------\n",
            "The number of people claiming asylum in Ireland has risen, with the Irish government claiming 80 percent have arrived from Northern Ireland. It has blamed the Rwanda policy - the fear of deportation - for the increase, and wants to send migrants back to the UK. Ireland's deputy leader said the 80 percent figure was not 'data-based' but is standing by the claim. British Prime Minister Rishi Sunak says 'the deterrent is... already having an impact'.BBC Verify has been looking at the rise in asylum claims in the Irish Republic and whether the Rwanda scheme is behind it.\n",
            "\n",
            "------------------\n",
            "Does the text refers to a conflict in which israel is participating?\n",
            "\n",
            "------------------\n",
            "No, the text does not refer to a conflict in which Israel is participating. \n",
            "\n",
            "The text focuses on the rise in asylum claims in Ireland and the potential impact of the UK's Rwanda policy on that increase. It does not mention Israel or any conflicts involving Israel. \n",
            "\n",
            "\n",
            "\n",
            "------------------\n",
            "\n",
            "\n",
            "------------------\n",
            "The UK government has been urged not to deploy troops on the ground in Gaza to deliver aid, with one MP calling the idea 'completely insane'. The UK is understood to be considering tasking troops with driving trucks via an American-built floating pier onto a beach in Gaza. Ex-Immigration Minister Robert Jenrick said such a move would be 'unwise' and urged the government to rule it out. Defence Minister Leo Docherty said he would not comment on speculation.The US military is building a large floating causeway off the coast of Gaza to help deliver much-needed humanitarian aid to the area.\n",
            "\n",
            "------------------\n",
            "The main point of the text is related to immigration?\n",
            "\n",
            "------------------\n",
            "No, the main point of the text is **not related to immigration**. \n",
            "\n",
            "The text focuses on the potential deployment of UK troops to deliver aid in Gaza and the controversy surrounding that idea.  The mention of the former Immigration Minister is only in relation to his opinion on the deployment, not to immigration policy. \n",
            "\n",
            "\n",
            "\n",
            "------------------\n",
            "\n",
            "\n",
            "------------------\n",
            "MP says he was deported from Africa over China criticism. A Conservative MP says he was deported during a trip to Djibouti because of the east African country's close ties to China. Tim Loughton, the MP for East Worthing and Shoreham, said he was detained for more than seven hours and barred from entry to Djibouti earlier this month. Mr Loughton, who was subjected to sanctions by China in 2021, described the experience as “very lonely and frightening”. China's foreign office said the accusations were baseless. Mr Loughton was in Djibouti for a 24-hour visit, which included a meeting with the British ambassador.\n",
            "\n",
            "------------------\n",
            "Does the text mentions the score of a match?\n",
            "\n",
            "------------------\n",
            "No, the text does not mention the score of a match. It discusses the deportation of a British MP from Djibouti, and the possible reason for it being his criticism of China. \n",
            "\n",
            "\n",
            "\n",
            "------------------\n"
          ]
        }
      ]
    },
    {
      "cell_type": "markdown",
      "source": [
        "## Code"
      ],
      "metadata": {
        "id": "S96ph9IK6Ti0"
      }
    },
    {
      "cell_type": "code",
      "source": [
        "response = model.generate_content('Please, give me python code to create a Factory Method design pattern')\n",
        "\n",
        "if response.parts:\n",
        "    print(response.text)\n",
        "else:\n",
        "    print('The model did not return any text')"
      ],
      "metadata": {
        "colab": {
          "base_uri": "https://localhost:8080/",
          "height": 1000
        },
        "id": "1WtkWEHl2-h9",
        "outputId": "0ad639eb-6d81-4a7f-862c-5479e2ff06ca"
      },
      "execution_count": null,
      "outputs": [
        {
          "output_type": "stream",
          "name": "stdout",
          "text": [
            "```python\n",
            "from abc import ABC, abstractmethod\n",
            "\n",
            "class Shape(ABC):\n",
            "    @abstractmethod\n",
            "    def draw(self):\n",
            "        pass\n",
            "\n",
            "class Circle(Shape):\n",
            "    def draw(self):\n",
            "        print(\"Drawing a Circle\")\n",
            "\n",
            "class Square(Shape):\n",
            "    def draw(self):\n",
            "        print(\"Drawing a Square\")\n",
            "\n",
            "class ShapeFactory:\n",
            "    @staticmethod\n",
            "    def get_shape(shape_type):\n",
            "        if shape_type == \"CIRCLE\":\n",
            "            return Circle()\n",
            "        elif shape_type == \"SQUARE\":\n",
            "            return Square()\n",
            "        else:\n",
            "            return None\n",
            "\n",
            "# Example usage\n",
            "shape1 = ShapeFactory.get_shape(\"CIRCLE\")\n",
            "shape2 = ShapeFactory.get_shape(\"SQUARE\")\n",
            "\n",
            "shape1.draw()  # Output: Drawing a Circle\n",
            "shape2.draw()  # Output: Drawing a Square\n",
            "```\n",
            "\n",
            "**Explanation:**\n",
            "\n",
            "1. **Abstract Base Class (Shape):**\n",
            "   - Defines the `draw()` method, which is common to all shapes but not implemented.\n",
            "   - This ensures that any concrete shape class must provide its own implementation for drawing.\n",
            "\n",
            "2. **Concrete Classes (Circle, Square):**\n",
            "   - Inherit from the `Shape` class.\n",
            "   - Provide specific implementations for the `draw()` method, reflecting how each shape is drawn.\n",
            "\n",
            "3. **Factory Class (ShapeFactory):**\n",
            "   - The `get_shape()` method is the factory method.\n",
            "   - It takes a `shape_type` string as input.\n",
            "   - Based on the `shape_type`, it creates and returns the corresponding concrete shape object (Circle or Square).\n",
            "   - If an invalid `shape_type` is provided, it returns `None`.\n",
            "\n",
            "4. **Usage:**\n",
            "   - The code demonstrates how to use the factory method to create shape objects.\n",
            "   - By passing different `shape_type` values to `ShapeFactory.get_shape()`, you can get instances of different shapes.\n",
            "\n",
            "**Key Benefits of the Factory Method Pattern:**\n",
            "\n",
            "- **Decoupling:** The client code (where you call `get_shape()`) doesn't need to know how to create concrete shapes directly.\n",
            "- **Flexibility:** You can easily add new shape types without modifying existing code.\n",
            "- **Centralized creation:** All shape creation logic is contained within the factory class.\n",
            "- **Improved maintainability:** Changes to the shape creation process are isolated in the factory.\n",
            "\n",
            "This code provides a clear and simple implementation of the Factory Method pattern in Python. You can adapt it to create different kinds of objects based on varying criteria.\n",
            "\n"
          ]
        }
      ]
    },
    {
      "cell_type": "code",
      "source": [
        "from abc import ABC, abstractmethod\n",
        "\n",
        "class Shape(ABC):\n",
        "    @abstractmethod\n",
        "    def draw(self):\n",
        "        pass\n",
        "\n",
        "class Circle(Shape):\n",
        "    def draw(self):\n",
        "        print(\"Drawing a Circle\")\n",
        "\n",
        "class Square(Shape):\n",
        "    def draw(self):\n",
        "        print(\"Drawing a Square\")\n",
        "\n",
        "class ShapeFactory:\n",
        "    @staticmethod\n",
        "    def get_shape(shape_type):\n",
        "        if shape_type == \"CIRCLE\":\n",
        "            return Circle()\n",
        "        elif shape_type == \"SQUARE\":\n",
        "            return Square()\n",
        "        else:\n",
        "            return None\n",
        "\n",
        "# Example usage\n",
        "shape1 = ShapeFactory.get_shape(\"CIRCLE\")\n",
        "shape2 = ShapeFactory.get_shape(\"SQUARE\")\n",
        "\n",
        "shape1.draw()  # Output: Drawing a Circle\n",
        "shape2.draw()  # Output: Drawing a Square\n"
      ],
      "metadata": {
        "colab": {
          "base_uri": "https://localhost:8080/"
        },
        "id": "F_xcOeS89kRo",
        "outputId": "fef4e171-1464-462b-f72f-d187b3db4564"
      },
      "execution_count": null,
      "outputs": [
        {
          "output_type": "stream",
          "name": "stdout",
          "text": [
            "Drawing a Circle\n",
            "Drawing a Square\n"
          ]
        }
      ]
    },
    {
      "cell_type": "code",
      "source": [
        "response = model.generate_content('Now, please create another code, but creating an Prototype Design Pattern for vehicles in python')\n",
        "print(response.text)"
      ],
      "metadata": {
        "colab": {
          "base_uri": "https://localhost:8080/",
          "height": 1000
        },
        "id": "DTea1Zjn89A_",
        "outputId": "977dc868-9d42-4fd9-9431-f32610f7d60c"
      },
      "execution_count": null,
      "outputs": [
        {
          "output_type": "stream",
          "name": "stdout",
          "text": [
            "```python\n",
            "class Vehicle:\n",
            "    \"\"\"Base vehicle prototype.\"\"\"\n",
            "\n",
            "    def __init__(self, model, color):\n",
            "        self.model = model\n",
            "        self.color = color\n",
            "\n",
            "    def __str__(self):\n",
            "        return f\"Vehicle: {self.model} ({self.color})\"\n",
            "\n",
            "    def clone(self):\n",
            "        \"\"\"Return a copy of the vehicle.\"\"\"\n",
            "        return Vehicle(self.model, self.color)\n",
            "\n",
            "\n",
            "class Car(Vehicle):\n",
            "    \"\"\"Car prototype.\"\"\"\n",
            "\n",
            "    def __init__(self, model, color, num_doors):\n",
            "        super().__init__(model, color)\n",
            "        self.num_doors = num_doors\n",
            "\n",
            "    def __str__(self):\n",
            "        return f\"Car: {self.model} ({self.color}), {self.num_doors} doors\"\n",
            "\n",
            "    def clone(self):\n",
            "        \"\"\"Return a copy of the car.\"\"\"\n",
            "        return Car(self.model, self.color, self.num_doors)\n",
            "\n",
            "\n",
            "class Motorcycle(Vehicle):\n",
            "    \"\"\"Motorcycle prototype.\"\"\"\n",
            "\n",
            "    def __init__(self, model, color, engine_size):\n",
            "        super().__init__(model, color)\n",
            "        self.engine_size = engine_size\n",
            "\n",
            "    def __str__(self):\n",
            "        return f\"Motorcycle: {self.model} ({self.color}), {self.engine_size}cc engine\"\n",
            "\n",
            "    def clone(self):\n",
            "        \"\"\"Return a copy of the motorcycle.\"\"\"\n",
            "        return Motorcycle(self.model, self.color, self.engine_size)\n",
            "\n",
            "\n",
            "# Example usage:\n",
            "if __name__ == \"__main__\":\n",
            "    # Create prototypes\n",
            "    car_prototype = Car(\"Honda Civic\", \"Red\", 4)\n",
            "    motorcycle_prototype = Motorcycle(\"Harley Davidson\", \"Black\", 1200)\n",
            "\n",
            "    # Create copies of the prototypes\n",
            "    car_1 = car_prototype.clone()\n",
            "    car_2 = car_prototype.clone()\n",
            "    motorcycle_1 = motorcycle_prototype.clone()\n",
            "\n",
            "    # Modify the copies\n",
            "    car_2.color = \"Blue\"\n",
            "    motorcycle_1.engine_size = 1500\n",
            "\n",
            "    # Print the vehicles\n",
            "    print(car_1)  # Output: Car: Honda Civic (Red), 4 doors\n",
            "    print(car_2)  # Output: Car: Honda Civic (Blue), 4 doors\n",
            "    print(motorcycle_1)  # Output: Motorcycle: Harley Davidson (Black), 1500cc engine\n",
            "```\n",
            "\n",
            "**Explanation:**\n",
            "\n",
            "1. **Base Vehicle Prototype:**\n",
            "   - The `Vehicle` class acts as the base prototype, defining common attributes like `model` and `color`.\n",
            "   - The `clone()` method is included in the base class to ensure all vehicle prototypes have a cloning mechanism.\n",
            "\n",
            "2. **Specialized Prototypes:**\n",
            "   - `Car` and `Motorcycle` classes inherit from `Vehicle` and add their own specific attributes (e.g., `num_doors` for cars, `engine_size` for motorcycles).\n",
            "   - They override the `clone()` method to ensure they create copies of their specific type.\n",
            "\n",
            "3. **Prototype Usage:**\n",
            "   - The code creates prototypes for a `Car` and `Motorcycle`.\n",
            "   - New vehicles are created by calling the `clone()` method on the prototypes, creating deep copies with the same attributes.\n",
            "   - The copies can then be modified without affecting the original prototypes.\n",
            "\n",
            "**Key Points:**\n",
            "\n",
            "- The `clone()` method is essential for the Prototype Pattern, allowing you to create new objects without using constructors.\n",
            "- The `__str__()` method is used to provide a clear representation of each vehicle object.\n",
            "- The code demonstrates how to create a flexible and reusable system for creating various vehicles.\n",
            "\n"
          ]
        }
      ]
    },
    {
      "cell_type": "code",
      "source": [
        "class Vehicle:\n",
        "    \"\"\"Base vehicle prototype.\"\"\"\n",
        "\n",
        "    def __init__(self, model, color):\n",
        "        self.model = model\n",
        "        self.color = color\n",
        "\n",
        "    def __str__(self):\n",
        "        return f\"Vehicle: {self.model} ({self.color})\"\n",
        "\n",
        "    def clone(self):\n",
        "        \"\"\"Return a copy of the vehicle.\"\"\"\n",
        "        return Vehicle(self.model, self.color)\n",
        "\n",
        "\n",
        "class Car(Vehicle):\n",
        "    \"\"\"Car prototype.\"\"\"\n",
        "\n",
        "    def __init__(self, model, color, num_doors):\n",
        "        super().__init__(model, color)\n",
        "        self.num_doors = num_doors\n",
        "\n",
        "    def __str__(self):\n",
        "        return f\"Car: {self.model} ({self.color}), {self.num_doors} doors\"\n",
        "\n",
        "    def clone(self):\n",
        "        \"\"\"Return a copy of the car.\"\"\"\n",
        "        return Car(self.model, self.color, self.num_doors)\n",
        "\n",
        "\n",
        "class Motorcycle(Vehicle):\n",
        "    \"\"\"Motorcycle prototype.\"\"\"\n",
        "\n",
        "    def __init__(self, model, color, engine_size):\n",
        "        super().__init__(model, color)\n",
        "        self.engine_size = engine_size\n",
        "\n",
        "    def __str__(self):\n",
        "        return f\"Motorcycle: {self.model} ({self.color}), {self.engine_size}cc engine\"\n",
        "\n",
        "    def clone(self):\n",
        "        \"\"\"Return a copy of the motorcycle.\"\"\"\n",
        "        return Motorcycle(self.model, self.color, self.engine_size)\n",
        "\n",
        "\n",
        "# Example usage:\n",
        "if __name__ == \"__main__\":\n",
        "    # Create prototypes\n",
        "    car_prototype = Car(\"Honda Civic\", \"Red\", 4)\n",
        "    motorcycle_prototype = Motorcycle(\"Harley Davidson\", \"Black\", 1200)\n",
        "\n",
        "    # Create copies of the prototypes\n",
        "    car_1 = car_prototype.clone()\n",
        "    car_2 = car_prototype.clone()\n",
        "    motorcycle_1 = motorcycle_prototype.clone()\n",
        "\n",
        "    # Modify the copies\n",
        "    car_2.color = \"Blue\"\n",
        "    motorcycle_1.engine_size = 1500\n",
        "\n",
        "    # Print the vehicles\n",
        "    print(car_1)  # Output: Car: Honda Civic (Red), 4 doors\n",
        "    print(car_2)  # Output: Car: Honda Civic (Blue), 4 doors\n",
        "    print(motorcycle_1)  # Output: Motorcycle: Harley Davidson (Black), 1500cc engine\n"
      ],
      "metadata": {
        "colab": {
          "base_uri": "https://localhost:8080/"
        },
        "id": "Gkn8wOI7-r59",
        "outputId": "7464b948-8cb9-4e40-ee3e-629ec47ab2cd"
      },
      "execution_count": null,
      "outputs": [
        {
          "output_type": "stream",
          "name": "stdout",
          "text": [
            "Car: Honda Civic (Red), 4 doors\n",
            "Car: Honda Civic (Blue), 4 doors\n",
            "Motorcycle: Harley Davidson (Black), 1500cc engine\n"
          ]
        }
      ]
    },
    {
      "cell_type": "code",
      "source": [
        "response = model.generate_content('How can I join data frames in sql as I would do in R?')\n",
        "print(response.text)"
      ],
      "metadata": {
        "id": "oTZdiMSu_YFj",
        "colab": {
          "base_uri": "https://localhost:8080/",
          "height": 1000
        },
        "outputId": "726ca1df-defe-4ffb-edb6-d01a04e4ab99"
      },
      "execution_count": null,
      "outputs": [
        {
          "output_type": "stream",
          "name": "stdout",
          "text": [
            "Let's explore how to join data frames in SQL, mirroring the functionality you'd find in R.\n",
            "\n",
            "**Understanding SQL Joins**\n",
            "\n",
            "SQL joins are the core mechanism for combining data from multiple tables (analogous to data frames in R).  Here's a breakdown of common join types:\n",
            "\n",
            "* **INNER JOIN:** Returns rows only when there's a match in both tables based on the specified join condition.\n",
            "* **LEFT JOIN:** Returns all rows from the \"left\" table, and matching rows from the \"right\" table. If no match is found in the \"right\" table, NULL values will be inserted for columns from that table.\n",
            "* **RIGHT JOIN:**  Returns all rows from the \"right\" table, and matching rows from the \"left\" table. If no match is found in the \"left\" table, NULL values will be inserted for columns from that table.\n",
            "* **FULL OUTER JOIN:** Returns all rows from both tables. If there's no match in one table, NULL values will be inserted for the columns from the other table.\n",
            "\n",
            "**Examples: SQL vs. R**\n",
            "\n",
            "Let's illustrate with examples, comparing SQL to R's `dplyr` package:\n",
            "\n",
            "**Scenario:** We have two tables: `customers` and `orders`\n",
            "\n",
            "**SQL**\n",
            "\n",
            "```sql\n",
            "-- INNER JOIN\n",
            "SELECT *\n",
            "FROM customers\n",
            "INNER JOIN orders ON customers.customer_id = orders.customer_id;\n",
            "\n",
            "-- LEFT JOIN\n",
            "SELECT *\n",
            "FROM customers\n",
            "LEFT JOIN orders ON customers.customer_id = orders.customer_id;\n",
            "\n",
            "-- RIGHT JOIN\n",
            "SELECT *\n",
            "FROM customers\n",
            "RIGHT JOIN orders ON customers.customer_id = orders.customer_id;\n",
            "\n",
            "-- FULL OUTER JOIN\n",
            "SELECT *\n",
            "FROM customers\n",
            "FULL OUTER JOIN orders ON customers.customer_id = orders.customer_id;\n",
            "```\n",
            "\n",
            "**R (dplyr)**\n",
            "\n",
            "```R\n",
            "# INNER JOIN\n",
            "customers %>% \n",
            "  inner_join(orders, by = \"customer_id\")\n",
            "\n",
            "# LEFT JOIN\n",
            "customers %>% \n",
            "  left_join(orders, by = \"customer_id\")\n",
            "\n",
            "# RIGHT JOIN\n",
            "customers %>% \n",
            "  right_join(orders, by = \"customer_id\")\n",
            "\n",
            "# FULL JOIN\n",
            "customers %>% \n",
            "  full_join(orders, by = \"customer_id\")\n",
            "```\n",
            "\n",
            "**Explanation:**\n",
            "\n",
            "* **Commonalities:**  The join conditions (`customers.customer_id = orders.customer_id`) are essentially the same in both SQL and R. \n",
            "* **Syntax:** SQL uses keywords like `INNER JOIN`, `LEFT JOIN`, etc., while `dplyr` uses functions like `inner_join()`, `left_join()`, etc.\n",
            "\n",
            "**Key Considerations**\n",
            "\n",
            "* **Column Names:** In SQL, you need to be explicit about the column names you want to select. R's `dplyr` is a bit more flexible by default, often handling column name conflicts automatically.\n",
            "* **Performance:** SQL databases are optimized for large-scale joins, often offering better performance than R. However, `dplyr` is designed for ease of use and can be efficient for smaller data sets.\n",
            "\n",
            "**Additional Notes**\n",
            "\n",
            "* **Other Join Types:**  SQL supports other join types, such as `CROSS JOIN` (which creates a cartesian product of the tables), which you can also replicate in R's `dplyr` package.\n",
            "* **Multiple Joins:**  You can combine multiple joins in a single SQL query (e.g., `INNER JOIN` followed by `LEFT JOIN`). `dplyr` supports this too, with `chainable` functions.\n",
            "\n",
            "Let me know if you have a specific join scenario in mind. I'm happy to provide a tailored example! \n",
            "\n"
          ]
        }
      ]
    }
  ]
}