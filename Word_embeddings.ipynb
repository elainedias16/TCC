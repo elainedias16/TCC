{
  "nbformat": 4,
  "nbformat_minor": 0,
  "metadata": {
    "colab": {
      "provenance": [],
      "authorship_tag": "ABX9TyMGwIxuRsUV97V/Z/7kZtNK",
      "include_colab_link": true
    },
    "kernelspec": {
      "name": "python3",
      "display_name": "Python 3"
    },
    "language_info": {
      "name": "python"
    }
  },
  "cells": [
    {
      "cell_type": "markdown",
      "metadata": {
        "id": "view-in-github",
        "colab_type": "text"
      },
      "source": [
        "<a href=\"https://colab.research.google.com/github/elainedias16/TCC/blob/main/Word_embeddings.ipynb\" target=\"_parent\"><img src=\"https://colab.research.google.com/assets/colab-badge.svg\" alt=\"Open In Colab\"/></a>"
      ]
    },
    {
      "cell_type": "code",
      "execution_count": null,
      "metadata": {
        "id": "Ub-oiF76KtcO"
      },
      "outputs": [],
      "source": []
    },
    {
      "cell_type": "markdown",
      "source": [
        "#Motivação"
      ],
      "metadata": {
        "id": "MsHahzGrLUsx"
      }
    },
    {
      "cell_type": "markdown",
      "source": [
        "Word embedding é uma técnica fundamental em Processamento de Linguagem Natural (NLP) que consiste em representar palavras como vetores numéricos. Dessa forma, gerar word embeddings é essencial para criar a entrada de modelos de NLP, como tradução automática, chatbots, análise de sentimentos, sumarização, entre outros.\n",
        "\n",
        "Anteriormente,  na tarefa de classificação, foram vistas três formas de representar palavras por meio de vetores: One-hot-enconding , Representação baseada em contagem, isto é, a Frequência da Palavra e TF-IDF. A diferença entre tais métodos e os word embeddings, é que os mesmos são capazes de captar a relação entre palavras de forma mais profunda.\n",
        "\n",
        "Dessa forma, estudar word embedding é essencial para utilizar, criar e implementar modelos de NLP na qual a base de dados textual esteja melhor representada matematicamente."
      ],
      "metadata": {
        "id": "-T0WCmcLLXwf"
      }
    },
    {
      "cell_type": "markdown",
      "source": [
        "# Fundamentação teórica"
      ],
      "metadata": {
        "id": "TqOuBiZxLkOB"
      }
    },
    {
      "cell_type": "markdown",
      "source": [
        "A utilização de dados textuais requer técnicas de transformação de palavras em representação numéricas, uma vez que algoritmos de inteligência artifical manipulam números. Dessa forma, ao longo do tempo, surgiram diversas técnicas para tal. Atualmente, umas das técnicas mais utilizadas são os chamados word embeddings. Os Word embeddings são uma técnica em (PLN) que consiste em representar palavras como vetores numéricos em um espaço vetorial de alta dimensão.\n",
        "\n",
        "\n",
        "\n",
        "Por exemplo, para representar a palavra *MULHER* , poderia-se criar uma escala gênero variando de 1 a -1. Assim, quanto mais próximo de Feminino, mais próximo de 1 e quanto mais próximo de masculino mais próximo de -1.\n",
        "\n",
        "\n",
        "É possível perceber que apenas essa dimensão não é suficiente para captar o significado da palavra *MULHER*, assim é preciso introduzir mais dimensões nesse vetor para melhor representar *MULHER*. Assim, cada dimensão no vetor representa uma característica ou propriedade da palavra. Dessa forma, é possível escolher quantas dimensões que se deseja, diferentemente das técnicas já aprendidas, nas quais o tamanho do vetor era necessariamente o tamanho do vocabulário. Além disso, outra melhoria é que os vetores de word embeddings não são vetores esparços, como os de one-hot-enconding, ao contrário, são representações densas, reduzindo a possibilidade de armazenar uma grande quantidade de valores nulos na memória.\n",
        "\n",
        "Devido a alta dimensionalide, é possível captar representações mais complexas, mas para além disso, os word embedding trazem um outro conceito que enriquece significativamente a sua utilização, o conceito de similaridade.\n",
        "A similaridade refere-se à medida do quão semelhantes ou próximos dois objetos são entre si. No contexto de word embeddings, similaridade diz respeito a quão próximos os vetores das palavras estão entre si. Dessa forma, palavras que possuem significado semântico parecido terão vetores parecidos, próximos no espaço vetoril. Os cálculos de similaridade podem ser realizados de diversas formas,pode ser utilizado a Similaridade do Cosseno, a Distância Euclidiana, a Similaridade de Pearson, entre outras.\n",
        "\n",
        "O cálculo de similaridade dos word embeddings dos códigos a seguir serão feitos por meio da Similaridade do Cosseno. A Similaridade do Cosseno mede o ângulo entre dois vetores no espaço vetorial. Sua fórmula é dada por:\n",
        "\n",
        "$$\n",
        "\\text{Cosine similarity} = \\cos(\\theta) = \\frac{A \\cdot B}{||A|| \\cdot ||B||}\n",
        "$$\n",
        "\n",
        "\n",
        "TO DO:\n",
        "* How to fill all those vectors? ---> WORD2VEC, GLOVE, ETC"
      ],
      "metadata": {
        "id": "NdWjFPOkLnvN"
      }
    },
    {
      "cell_type": "markdown",
      "source": [
        "# Resultados Esperados"
      ],
      "metadata": {
        "id": "1C4U0lYbLY2F"
      }
    },
    {
      "cell_type": "markdown",
      "source": [
        "![image.png](data:image/png;base64,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)"
      ],
      "metadata": {
        "id": "O7D934v1Lcxw"
      }
    },
    {
      "cell_type": "markdown",
      "source": [
        "# Referências"
      ],
      "metadata": {
        "id": "ld7DXnojZluT"
      }
    },
    {
      "cell_type": "markdown",
      "source": [],
      "metadata": {
        "id": "g9PepBjUA_Gi"
      }
    }
  ]
}