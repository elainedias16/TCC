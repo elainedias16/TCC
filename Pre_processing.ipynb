{
  "nbformat": 4,
  "nbformat_minor": 0,
  "metadata": {
    "colab": {
      "provenance": [],
      "authorship_tag": "ABX9TyNHjrmm5BTzmCbbW/Re0W1p",
      "include_colab_link": true
    },
    "kernelspec": {
      "name": "python3",
      "display_name": "Python 3"
    },
    "language_info": {
      "name": "python"
    }
  },
  "cells": [
    {
      "cell_type": "markdown",
      "metadata": {
        "id": "view-in-github",
        "colab_type": "text"
      },
      "source": [
        "<a href=\"https://colab.research.google.com/github/elainedias16/TCC/blob/main/Pre_processing.ipynb\" target=\"_parent\"><img src=\"https://colab.research.google.com/assets/colab-badge.svg\" alt=\"Open In Colab\"/></a>"
      ]
    },
    {
      "cell_type": "markdown",
      "source": [
        "# Pré processamento"
      ],
      "metadata": {
        "id": "6jlg7UjuJNWI"
      }
    },
    {
      "cell_type": "markdown",
      "source": [
        "## Motivação"
      ],
      "metadata": {
        "id": "PvHR_zqGJSlM"
      }
    },
    {
      "cell_type": "markdown",
      "source": [
        "O *pré processamento* é um conjunto de técnicas que tranforma dados brutos em um formato adequado para serem utilizados na área de ciência de dados. No contexto de Processamento de Linguagm Natural (NLP), envolve Remoção de caracateres não alfanuméricas, Tokenização, Remoção de acentos, Lowercasing , Remoção de Stop-words, Stemming e Lemanização. Dependendo da aplicação, podem ser adicionadas ou removidas etapas do pré processamento. A importância da qualidade de dados é tão grande que gerou o famoso ditado \"Garbage in, garbage out\" (GIGO), que associa a qualidade da saída de um modelo à qualidade de sua entrada, por isso realizar um bom pré-processamento é fundamento em ciência de dados.\n",
        "\n",
        "Além do pré-processamento, na fase inicial de análise de um dataset, é bastante comum o uso de técnicas de Análise Exploratória de Dados(AED) e Visualização de dados. Tais técnicas são bastante importantes, pois permitem a compreensão melhor dos dados, bem como encontrar padrões e detectar anomalias nos mesmos. Por vezes, a Análise Exploratória de Dados obtém insignts que ajudam a escolher quais algoritmos de aprendizado de máquinas devem ser utilizados e/ou identificam mudanças que devem ser feitas no pré processamento. Em alguns casos, o pré processamento é realizados após a AED e Visualização dos Dados."
      ],
      "metadata": {
        "id": "p28xC_YsMYl9"
      }
    },
    {
      "cell_type": "markdown",
      "source": [
        "## Resultados esperados\n"
      ],
      "metadata": {
        "id": "OM6vd8xqJcVE"
      }
    },
    {
      "cell_type": "markdown",
      "source": [
        "\n",
        "Neste laboratório, será realizado o pré-processamento, a Análise Exploratória e Visualização dos Dados do dataset BBC News Archive, o qual pode ser encontrado em :\n",
        "https://www.kaggle.com/datasets/hgultekin/bbcnewsarchive?select=bbc-news-data.csv . Dessa forma, na etapa de pré processamento, os dados serão transformados em formatos adequados para utilização em roteiros posteriores. Para a Visualização de Dados serão gerados gráficos para observar o quantitativo de notícias de cada classe de notícias do dataset. Além disso, para a Análise Exploratória, serão análisadas as palavras mais freqquentes em cada classe de notícias e as palavras mais frequentes no dataset como um todo, além de gráficos para a visualização de tais informações.\n",
        "\n",
        "Após este laboratório, é esperado que o estudante compreenda cada um dos conceitos citados anteriormente. Além disso, o estudante poderá realizar o pré processamento, AED e Visualização de Dados em quaisquer conjunto de dados, podendo modificar os passos realiados no roteiro, acresentando ou retirando etapas, de acordo com as especificidades da aplicação a ser desenvovida."
      ],
      "metadata": {
        "id": "ae7AKspRNBc0"
      }
    },
    {
      "cell_type": "markdown",
      "source": [
        "## Fundamentação teórica"
      ],
      "metadata": {
        "id": "w878GFJGJUon"
      }
    },
    {
      "cell_type": "markdown",
      "source": [
        "### Pré processamento"
      ],
      "metadata": {
        "id": "BpAHtOHN82ZS"
      }
    },
    {
      "cell_type": "markdown",
      "source": [
        "O pré processamento tranforma dados brutos em dados passíveis de serem utilizados em inteligência artifical. Assim, dado uma base de dados, é na fase de pré processamento que é realizada a verificação de dados ausentes ou inconsistes, a normalização, padronização e tranformação dos dados. Como citado anteriormente, a quantidade de etapas do pré processamento pode variar de aplicação para aplicação, mas o conceito é o mesmo: transformar dados brutos em um formato adequado para serem utilizados.\n",
        "\n",
        "Neste laboratório, serão realizadas as seguintes etapas de pré processamento: Lowercasing , Tokenização, Remoção de caracteres não alfanuméricos , Remoção de acentos, Remoção de stop-words, Lemanização e Stemming.\n",
        "\n",
        "#### Lowercasing\n",
        "\n",
        "Lowercasing é o processo de transformar todos os caracteres de um conjunto de texto para lowercase, isto é, para caracteres minúsculos. Por exemplo, na sentença \"Hello World\", após o lowecasing, a sentença seria \"hello world\".\n",
        "\n",
        "O lowercasing é importante pois elimina a diferença entre caracteres maiúsculos e minúsculos, reduzindo o número de caracteres únicos. Em tarefas de classificação e busca, o lowercasing é muito importante pois elimina a diferença em palavras como \"Laranja\" e \"laranja\".\n",
        "\n",
        "#### Tokenização\n",
        "\n",
        "\n",
        "#### Remoção de caracteres não alfanuméricos\n",
        "\n",
        "A etapa de remoção de caracteres não alfanuméricos consistes em remover todos os caracteres que não sejam letras ou algarismos de um cadeia de caracteres. Por exemplo, na sentença :\n",
        "\n",
        "**\"Olá! Como você está? Eu estou feliz porque o dia está muito bonito hoje! :) ^^ '-' xD\".**\n",
        "\n",
        "Após a remoção de caracteres não afanuméricos, a sentença seria :\n",
        "\n",
        "**\"Olá Como você está Eu estou feliz porque o dia está muito bonito hoje xD\"**\n",
        "\n",
        "A remoção de caracteres não alfanuméricos é bastante comum , pois diminiu o tamanho do vocabulário e o simplifica bem como facilita as etapas de lemmanização e stemming, que serão explicadas posteriormente. Ademais, a remoção de caracteres não alfanumérciso permite ao modelo focar nas palavras que trazem mais informação semântica ao texto.\n",
        "\n",
        "#### Remoção de acentos\n",
        "\n",
        "A remoção de acentos é uma técnica bastante comum no pré-processamento que visa simplificar o vocabulário e padronizar as palavras. Ao eliminar os acentos, palavras como \"mecânica\" e \"mecanica\" são consideradas idênticas. Essa simplicação é bastante útil pois reduz a variação das palavras, o que também facilita as técnicas de lemanização e stemming.\n",
        "\n",
        "#### Remoção de stop-words\n",
        "\n",
        "Stop-words são palavras extremamente comuns em um conjunto de texto, mas que trazem pouco significado semântico. Nesse sentido, a maioria da stop-words são artigos, preposições, conjunções e pronomes. Por exemplo:\n",
        "\n",
        "* Artigos: o, a , os, as, um, uns, uma, umas\n",
        "* Preposições : a , ante, após, com, contra, de, desde ...\n",
        "* Conjunções : que, se , mas, porém\n",
        "* Pronomes: meu, seu, teu ...\n",
        "\n",
        "Cada idioma possui uma lista de stop-words e nem todas as palavras das classes gramaticais citadas são stop-words. Também é possível que palavras de outras classes gramaticais sejam stop-words. Assim sendo, é possível utilizar uma função de remoção pronta de uma biblioteca ou criar uma lista de palavras e removê-la manualmente dependendo da aplicação.\n",
        "\n",
        "A remoção de stop-words é importante pois reduz o vocabulário, mantendo palavras que trazem informação semântica ao texto. Essa etapa de pré processamento é especialmente importante em aplicações como busca e classificação de texto.\n",
        "\n",
        "#### Lemanização\n",
        "\n",
        "A lemanização é uma técnica que visa reduzir uma palavra a sua forma canônica, ou seja, a sua forma base, sendo esta também chamada de *lemma*. Por exemplo, considere as palavras abaixo e seu lemma:\n",
        "\n",
        "\\begin{array}{|c|ccccc|}\n",
        "  \\hline Palavras\n",
        "  & Lemma \\\\\n",
        "  \\hline\n",
        "  going, went, gone     & go \\\\\n",
        "  better , best, goodest  & good \\\\\n",
        "  casa, casinha, casão, casas & casa \\\\\n",
        "  fazer , fazendo, fiz     & fazer \\\\\n",
        "  \\hline\n",
        "\\end{array}\n",
        "\n",
        "É possível perceber a lemanização reduz a palavra ao seu significado essencial, o que facilita a análise de texto. A lemanização é muito importante em tarefas como busca e análise de sentimentos.\n",
        "\n",
        "#### Stemming\n",
        "\n",
        "O stemming é uma técnica de pré processamento que visa reduzir palavras flexionadas ou derivadas a sua raíz (stem). Essa redução ocorre pela remoção de um sufixo e/ou prefixo de uma palavra. Por exemplo:\n",
        "\n",
        "\\begin{array}{|c|ccccc|}\n",
        "  \\hline Palavras\n",
        "  & Stem \\\\\n",
        "  \\hline\n",
        "  improving, improved, improvements    & improv \\\\\n",
        "  working, work, works  & work \\\\\n",
        "  estudando, estudar, estudei & estud \\\\\n",
        "  brincando, brincar, brincou & brinc \\\\\n",
        "  \\hline\n",
        "\\end{array}\n",
        "\n",
        "Note que o stemming é parecido com a lemanização. A diferença é que a lemanização é uma técnica mais sofisticada que considerada o significa semântico das palavras. O stem, diferentemente do lemma, nem sempre é uma palavra gramaticalmente correta, com significado real.\n",
        "\n",
        "Tanto o stemming quanto a lemanização são importantes para tarefas como agrupamento, classificação e busca, pois simplifica palavras semelhantes a uma forma única.\n"
      ],
      "metadata": {
        "id": "cPjkiua3WYcf"
      }
    },
    {
      "cell_type": "markdown",
      "source": [
        "### Visualização de Dados"
      ],
      "metadata": {
        "id": "FxjWQwAZ9EMl"
      }
    },
    {
      "cell_type": "markdown",
      "source": [
        "A Visualização de Dados é o processo de representar dados de forma gráfica ou visual, com o objetivo de comunicar informações de maneira rápida e eficiente. Em muitos casos, os datasets podem ser extremamente grandes ou conter informações provenientes de diversas fontes, tornando a visualização de dados essencial para uma compreensão mais profunda e rápida.\n",
        "\n",
        "Alguns dos gráficos mais comuns na visualização de dados incluem:\n",
        "\n",
        "*   Gráficos de Barras: Utilizados para comparar categorias ou grupos, destacando\n",
        "as diferenças de magnitude entre eles.\n",
        "*   Gráficos de Linhas: Ideais para mostrar a evolução dos dados ao longo do tempo ou para comparar diferentes séries temporais.\n",
        "*   Histogramas: Representam a distribuição de dados contínuos, ilustrando a frequência dos valores em diferentes intervalos.\n",
        "*   Boxplots: Mostram a distribuição dos dados, evidenciando quartis, mediana, e possíveis outliers.\n",
        "\n",
        "\n",
        "O uso de gráficos e diagramas facilita a compreensão rápida e clara de informações, especialmente durante a fase de exploração de um dataset, quando ainda há poucas informações disponíveis. Nessa etapa, a visualização dos dados pode ser extremamente útil para identificar padrões e anomalias que poderiam passar despercebidos em análises puramente numéricas.\n",
        "\n",
        "Além disso, a Visualização de Dados não se limita à exploração inicial. Ela também é fundamental para o monitoramento contínuo de aplicações e para apoiar a tomada de decisões estratégicas, permitindo que insights sejam transformados em ações com maior eficácia\n",
        "\n",
        "\n"
      ],
      "metadata": {
        "id": "e_BQ7kbK9Hm_"
      }
    },
    {
      "cell_type": "markdown",
      "source": [
        "### Análise Exploratória de Dados (AED)"
      ],
      "metadata": {
        "id": "ddqNEoKYDyk8"
      }
    },
    {
      "cell_type": "markdown",
      "source": [
        "A Análise Exploratória de Dados (AED), assim como a Visualização de Dados, tem como objetivo compreender melhor o dataset, identificar padrões, outliers e relações entre os dados. No entanto, a AED vai além da visualização ao incluir também o cálculo de medidas estatísticas básicas e o teste de hipóteses preliminares sobre o dataset. Essa abordagem foi amplamente promovida pelo cientista John Tukey em seu livro \"Exploratory Data Analysis\".\n",
        "\n",
        "Tukey defendia a formulação de hipóteses iniciais sobre os dados com o intuito de testá-las, permitindo a validação ou refutação dessas hipóteses. Isso, por sua vez, poderia levar à criação de novos experimentos, à reavaliação das estratégias analíticas ou à determinação da necessidade de coletar mais dados. A abordagem exploratória proposta por Tukey visa, portanto, a construção de um entendimento mais profundo dos dados antes de se avançar para análises estatísticas mais complexas.\n",
        "\n",
        "Ademais, é bastante comum que a Análise Exploratória de Dados seja feita em conjunto com a Visualização de Dados, visto que uma complementa a outra. Nesse sentido, cálculos realizados durante a AED podem ser representados graficamente, de forma a facilitar o entendimento e comparação dos mesmos. Por outro lado, a Visualização de Dados pode levar a mais questionamentos e hipóteses e à realização de novos cálculos estatísticos adicionais. Dessa forma, tanto AED quanto a Visulização de Dados tem como objetivo principal melhorar a compreensão dos dados."
      ],
      "metadata": {
        "id": "qu4sGDncEkCS"
      }
    },
    {
      "cell_type": "markdown",
      "source": [
        "## Código"
      ],
      "metadata": {
        "id": "9cUPNehxJYL8"
      }
    },
    {
      "cell_type": "code",
      "execution_count": null,
      "metadata": {
        "id": "yrFlBMDsJJnx"
      },
      "outputs": [],
      "source": [
        "import pandas as pd\n",
        "\n",
        "id_file = '1m41gWGwnLYo0nAEOABnU_MH_SCQHWfjS'\n",
        "url_file = 'https://drive.google.com/uc?id={}'.format(id_file)\n",
        "\n",
        "def create_dataframe(path):\n",
        "    columns=['genre', 'filename', 'title', 'content']\n",
        "    df =  pd.read_table(\n",
        "    path,\n",
        "    header=None,\n",
        "    names=columns,\n",
        "    sep= '\\t',\n",
        "    engine= 'python'\n",
        "    )\n",
        "    return df\n",
        "\n",
        "\n",
        "df = create_dataframe(url_file)\n",
        "df = df.drop(0).reset_index(drop=True)\n",
        "\n",
        "df.tail()"
      ]
    },
    {
      "cell_type": "code",
      "source": [
        "import nltk\n",
        "nltk.download('punkt')\n",
        "from nltk import sent_tokenize, word_tokenize\n",
        "\n",
        "nltk.download('stopwords')\n",
        "from nltk.corpus import stopwords\n",
        "stop_words = set(stopwords.words('english'))\n",
        "\n",
        "import spacy\n",
        "from spacy.lang.en.examples import sentences\n",
        "\n",
        "!pip install unidecode\n",
        "import unidecode\n",
        "from nltk.stem.porter import PorterStemmer\n",
        "!python -m spacy download en_core_web_sm"
      ],
      "metadata": {
        "id": "kO3G_ms-HIqo"
      },
      "execution_count": null,
      "outputs": []
    },
    {
      "cell_type": "code",
      "source": [
        "# In BBC dataset, some filenames have the same name, for example 001.txt, so it's necessary to rename\n",
        "def rename_filenames(df):\n",
        "  for index, row in df.iterrows():\n",
        "      df.at[index, 'filename'] = f\"{index}.txt\"\n",
        "  return df\n",
        "\n",
        "df = rename_filenames(df)"
      ],
      "metadata": {
        "id": "695miMIwHLAY"
      },
      "execution_count": null,
      "outputs": []
    },
    {
      "cell_type": "code",
      "source": [
        "import random\n",
        "\n",
        "# def create_balanced_small_df(df, genres, num):\n",
        "#   small_df_list = []\n",
        "#   for genre in genres:\n",
        "#     sample_rows = df.sample(num)\n",
        "#     small_df_list.append(sample_rows)\n",
        "#   return pd.concat(small_df_list).reset_index(drop=True)\n",
        "\n",
        "def create_imbalanced_small_df(df, genres, max_value):\n",
        "  small_df_list = []\n",
        "  for genre in genres:\n",
        "    qtd = random.randint(10, max_value)\n",
        "    # print(qtd)\n",
        "    sample_rows = df[df['genre'] == genre].sample(qtd)\n",
        "    small_df_list.append(sample_rows)\n",
        "  return pd.concat(small_df_list).reset_index(drop=True)"
      ],
      "metadata": {
        "id": "zO62d6OVHOWW"
      },
      "execution_count": null,
      "outputs": []
    },
    {
      "cell_type": "code",
      "source": [
        "genres = df['genre'].unique()\n",
        "small_df = create_imbalanced_small_df(df, genres, max_value=20)\n",
        "small_df"
      ],
      "metadata": {
        "id": "DnD-xIPdHRNm"
      },
      "execution_count": null,
      "outputs": []
    },
    {
      "cell_type": "code",
      "source": [
        "def remove_non_alphanumeric(text):\n",
        "    words = ''\n",
        "    for w in text:\n",
        "        words += w if w.isalnum() else ' '\n",
        "    return words\n",
        "\n",
        "def remove_accents(text):\n",
        "  return unidecode.unidecode(text)\n",
        "\n",
        "\n",
        "def lowercasting(tokens):\n",
        "  tokens = [w.lower() for w in tokens]\n",
        "  return tokens\n",
        "\n",
        "def remove_stop_words(tokens):\n",
        "  stop_words = set(stopwords.words('english')) #List of stop words in english\n",
        "  tokens = [token for token in tokens if token not in stop_words]\n",
        "  return tokens\n",
        "\n",
        "\n",
        "def stemming(tokens):\n",
        "  porter = PorterStemmer()\n",
        "  tokens = [porter.stem(token) for token in tokens]\n",
        "  return tokens\n",
        "\n",
        "\n",
        "def lemmanization(text):\n",
        "    nlp = spacy.load(\"en_core_web_sm\")    # Load English language model\n",
        "    doc = nlp(text)   # Process the text using the Spacy NLP\n",
        "    tokens = [token.lemma_ for token in doc]\n",
        "    return tokens\n",
        "\n",
        "\n",
        "def pre_processing_aux(text):\n",
        "  words = remove_non_alphanumeric(text)\n",
        "  words = remove_accents(words)\n",
        "  tokens = word_tokenize(words)\n",
        "  tokens = lowercasting(tokens)\n",
        "  tokens = remove_stop_words(tokens)\n",
        "  words = ' '.join(tokens)\n",
        "  tokens = lemmanization(words)\n",
        "  tokens = stemming(tokens)\n",
        "  return ' '.join(tokens)"
      ],
      "metadata": {
        "id": "cp33jLi-HVLv"
      },
      "execution_count": null,
      "outputs": []
    },
    {
      "cell_type": "code",
      "source": [
        "def pre_processing(df):\n",
        "    df['content'] = df['content'].apply(pre_processing_aux)\n",
        "    return df\n",
        "\n",
        "###########################################################\n",
        "# To prossegue with all dataset, put df on parameter\n",
        "# To prossegue with small dataset, put small_df in paramter\n",
        "############################################################\n",
        "\n",
        "df = pre_processing(small_df)\n",
        "df.tail()"
      ],
      "metadata": {
        "id": "Wta9h3q8HVte"
      },
      "execution_count": null,
      "outputs": []
    },
    {
      "cell_type": "code",
      "source": [
        "##Documents number by class\n",
        "\n",
        "import matplotlib.pyplot as plt\n",
        "import seaborn as sns\n",
        "\n",
        "genres = df['genre'].unique()\n",
        "\n",
        "def plot_doc_by_class(genres):\n",
        "  ax = sns.countplot(x = 'genre', data = df , color='skyblue')\n",
        "  ax.yaxis.grid(False)\n",
        "  plt.title('Documents number by class', pad=12)\n",
        "  plt.xlabel('Genres', labelpad=12)\n",
        "  plt.ylabel('Quantity', labelpad=12)\n",
        "\n",
        "  bars = ax.patches\n",
        "  # Put numbers of docs above bars\n",
        "  for bar in bars:\n",
        "        height = int(bar.get_height())\n",
        "        plt.text(bar.get_x() + bar.get_width()/2, height, height, ha='center', va='bottom')\n",
        "\n",
        "  plt.show()\n",
        "\n",
        "\n",
        "plot_doc_by_class(genres)"
      ],
      "metadata": {
        "id": "B-TwOLE8ZGHu"
      },
      "execution_count": null,
      "outputs": []
    },
    {
      "cell_type": "code",
      "source": [],
      "metadata": {
        "id": "x6woizT-ZNHN"
      },
      "execution_count": null,
      "outputs": []
    },
    {
      "cell_type": "markdown",
      "source": [
        "## Referências"
      ],
      "metadata": {
        "id": "Z8w_sdk7Qk9T"
      }
    },
    {
      "cell_type": "markdown",
      "source": [
        "![image.png](data:image/png;base64,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)"
      ],
      "metadata": {
        "id": "X3Ly_Fe2B5qg"
      }
    },
    {
      "cell_type": "markdown",
      "source": [
        "https://blog.ramongomes.com.br/remover-caracteres-especiais-js/#:~:text=%C3%89%20importante%20ter%20em%20mente,remo%C3%A7%C3%A3o%20antes%20de%20aplic%C3%A1%2Dla.&text=O%20c%C3%B3digo%20acima%20remove%20todos,e%20n%C3%BAmeros)%2C%20incluindo%20espa%C3%A7os.\n",
        "\n",
        "https://www.cloudmarket.com.br/marketing-digital/blog/glossario/o-que-e-stop-word-palavra-de-parada/\n",
        "\n",
        "https://www.techtarget.com/searchenterpriseai/definition/lemmatization#:~:text=Lemmatization%20is%20the%20process%20of,processing%20(NLP)%20and%20chatbots.\n",
        "\n",
        "https://pt.wikipedia.org/wiki/Stemiza%C3%A7%C3%A3o\n",
        "\n",
        "https://www.geeksforgeeks.org/what-is-exploratory-data-analysis/\n",
        "\n",
        "https://pt.wikipedia.org/wiki/An%C3%A1lise_explorat%C3%B3ria_de_dados"
      ],
      "metadata": {
        "id": "H2hi3V2LQnzE"
      }
    }
  ]
}