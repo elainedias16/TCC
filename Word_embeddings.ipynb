{
  "nbformat": 4,
  "nbformat_minor": 0,
  "metadata": {
    "colab": {
      "provenance": [],
      "include_colab_link": true
    },
    "kernelspec": {
      "name": "python3",
      "display_name": "Python 3"
    },
    "language_info": {
      "name": "python"
    }
  },
  "cells": [
    {
      "cell_type": "markdown",
      "metadata": {
        "id": "view-in-github",
        "colab_type": "text"
      },
      "source": [
        "<a href=\"https://colab.research.google.com/github/elainedias16/TCC/blob/main/Word_embeddings.ipynb\" target=\"_parent\"><img src=\"https://colab.research.google.com/assets/colab-badge.svg\" alt=\"Open In Colab\"/></a>"
      ]
    },
    {
      "cell_type": "markdown",
      "source": [
        "# Word Embeddings\n"
      ],
      "metadata": {
        "id": "F3F5G6_EETC_"
      }
    },
    {
      "cell_type": "markdown",
      "source": [
        "## Motivação"
      ],
      "metadata": {
        "id": "MsHahzGrLUsx"
      }
    },
    {
      "cell_type": "markdown",
      "source": [
        "*Word embedding* é uma técnica de  Processamento de Linguagem Natural (NLP) que consiste em representar palavras como vetores numéricos. Esta representação é necessária porque alguns algoritmos de inteligência artifical são capazes de manipular apenas números. Dessa forma, gerar *word embeddings* é essencial para criar a entrada de modelos de NLP, como tradução automática, chatbots, análise de sentimentos, sumarização, entre outros.\n",
        "\n",
        "Anteriormente, na tarefa de classificação, foram vistas três formas de representar palavras por meio de vetores: One-hot-enconding , Representação baseada em contagem, isto é, a Frequência da Palavra e TF-IDF. A diferença entre tais métodos e os word embeddings, é que os mesmos são capazes de captar a relação entre palavras de forma mais profunda. Dessa forma, estudar word embedding é essencial para utilizar, criar e implementar modelos de NLP na qual a base de dados textual esteja melhor representada matematicamente.\n",
        "\n",
        "Este laboratório irá demonstrar como transformar palavras em word embeddings usando a biblioteca XYZ e realizará uma análise qualitativa dos embeddings para demonstrar que as distâncias entre os embeddings está correlacionada com a relação semântica entre as palavras (e.g., rei e rainha estão mais próximos no espaço que rei e futebol).\n",
        "\n"
      ],
      "metadata": {
        "id": "-T0WCmcLLXwf"
      }
    },
    {
      "cell_type": "markdown",
      "source": [
        "## Fundamentação teórica"
      ],
      "metadata": {
        "id": "TqOuBiZxLkOB"
      }
    },
    {
      "cell_type": "markdown",
      "source": [
        "Os Word embeddings são uma técnica de (NLP) que consiste em representar palavras como vetores numéricos, tipicamente em um espaço vetorial de alta dimensão. Como ilustrado na Figura 1 para representar a palavra *MULHER* , uma das coordenadas poderia estar relacionada à uma escala gênero variando de 1 a -1. Assim, quanto mais próximo de Feminino, mais próximo de 1 e quanto mais próximo de masculino mais próximo de -1."
      ],
      "metadata": {
        "id": "iaSLdqTkJu2D"
      }
    },
    {
      "cell_type": "code",
      "source": [
        "from IPython.display import Image, display\n",
        "!wget -q \"https://github.com/elainedias16/TCC/raw/main/assets/word_embeddings/mulher.png\" -O mulher.png\n",
        "display(Image(\"mulher.png\", width=400))"
      ],
      "metadata": {
        "colab": {
          "base_uri": "https://localhost:8080/",
          "height": 249
        },
        "id": "Dfq82BD40lIb",
        "outputId": "c2548c33-3e74-4d51-dc19-fa32f232cf99"
      },
      "execution_count": 45,
      "outputs": [
        {
          "output_type": "display_data",
          "data": {
            "image/png": "[encoded data removed]",
            "text/plain": [
              "<IPython.core.display.Image object>"
            ]
          },
          "metadata": {
            "image/png": {
              "width": 400
            }
          }
        }
      ]
    },
    {
      "cell_type": "markdown",
      "source": [
        "É possível perceber que apenas essa dimensão não é suficiente para captar o significado da palavra *MULHER*, por isso é preciso introduzir mais dimensões nesse vetor para melhor representar *MULHER*. Assim, cada dimensão no vetor representa uma característica ou propriedade da palavra. Dessa forma, é possível escolher quantas dimensões o vetor terá, diferentemente das técnicas já aprendidas, nas quais o tamanho do vetor era necessariamente o tamanho do vocabulário.\n",
        "\n",
        "É preciso preencher cada dimensão do vetor de cada palavra com um valor que seja representativo o suficiente para a característica em questão. Por causa disso, surgiram algoritmos para gerar os embedding de palavras. Os mais famosos são:\n",
        "\n",
        "* Word2vec\n",
        "* GloVe\n",
        "* FastText\n",
        "\n",
        "\n",
        "## CBOW\n",
        "\n",
        "Considere uma palavra de referência e as palavras ao redor desta. O conjunto de palavras ao redor da palavra de referência é chamado de janela de contexto da palavra. No algoritmo CBOW, a palavra de referência é \"escondida\" e o algoritmo tenta adivinhar a palavra com base naquelas que estão ao redor. Programaticamente, um modelo de aprendizado de máquina prediz para cada palavra no dicionário, a probabilidade dela ser a palavra de referência. Este processo é repetido para palavras escolhidas aleatoriamente em um dataset de textos. Ao final do processo, o algoritmo irá construir representações que indiquem que a palavra BOLA, por exemplo, tem maior probabilidade próxima a termos como JOGADOR, TIME, GOL e OLIMPÍADA do que de termos como POLICIAL, ATRIZ e POLÍTICA. essa forma, durante o treinamento, o algoritmo CBOW ajusta iterativamente os vetores de palavras no espaço de embedding para maximizar a probabilidade de prever corretamente a palavra de referência com base nas palavras do contexto, resultando em representações vetoriais que capturam semântica e relações entre palavras no corpus de treinamento\n",
        "\n",
        "Programaticamente, é definido o tamanho da janela de contexto e os contextos são definidos. Após isso, são criados vetores one-hot para cada palavra do vocabulário. Posteriormente, uma matriz de embeddings de entrada (W) e uma matriz de embeddings de saída (W') são inicializadas com valores aleatórios.\n",
        "Para cada contexto definido previamente, os vetores one-hot das palavras do contexto são multiplicados por W para gerar os embeddings.Em seguida, a média desses embddings é calculada, multiplicada pela matriz W' e utilizada como entrada para uma camada de softmax. A saída do softmax é um vetor de probabilidade, que mostra a probabilidade de cada palavra do vocabulário ser a palavra de referência. A função de perda é calculada utilizando a entropia cruzada entre o vetor de probabilidades e o vetor one-hot da palavra target. Os pesos da matriz de embeddings W e W' são atualizados para minimizar a loss.\n",
        "\n",
        "###Exemplo:\n",
        "Dada a sentença: O gato subiu na árvore.\n",
        "\n",
        "Vocabulário : { O , gato, subiu , na , árvore }\n",
        "\n",
        "Dimensão :  5\n",
        "\n",
        "**Vetores one-hot :**\n",
        "\n",
        "$v_O$ -> [ 1 , 0, 0, 0, 0]\n",
        "\n",
        "$v_{gato}$ -> [0, 1, 0, 0, 0]\n",
        "\n",
        "$v_{subiu}$ -> [0, 0, 1, 0, 0]\n",
        "\n",
        "$v_{na}$ -> [0, 0, 0, 1, 0]\n",
        "\n",
        "$v_{arvore}$ -> [0, 0, 0, 0 , 1]\n",
        "\n",
        "Tamanho da janela de contexto : 2\n",
        "\n",
        "**Pares de treinamente:**\n",
        "\n",
        "(O, gato) -> subiu\n",
        "\n",
        "(gato, subiu) -> na\n",
        "\n",
        "(subiu, na) -> árvore\n",
        "\n",
        "Note que é possível criar diversos pares de treinamento, deslocando a janela de contexto. Isso fica a critério do programador.\n",
        "\n",
        "**Inicialização da matriz de embeddings:**\n",
        "\n",
        "A matriz de embeddings $W$ terá a mesma quantidade de linhas do tamanho no vocabulário e número de colunas arbitrário. Para esse exemplo, foi escolhido o número de colunas como 3. Assim, $W$ é uma matriz 5x3. Já a matriz $W'$ será 3x5. Ambas são inicilizadas aleatoriamente\n",
        "\n",
        "\n",
        "**Para obter os emebeddings de contexto**:\n",
        "\n",
        "Embeddings do primeiro contexto:\n",
        "\n",
        "(O, gato) -> subiu\n",
        "\n",
        " $h_O = W^T \\cdot v_o $\n",
        "\n",
        "$ h_{\\text{gato}} = W^T \\cdot v_{\\text{gato}} $\n",
        "\n",
        "Embeddings do segundo contexto:\n",
        "\n",
        "...\n",
        "\n",
        "\n",
        "**Média dos embeddings:**\n",
        "\n",
        "$ x = \\frac{h_O + h_{\\text{gato}} + h_{\\text{na}} + h_{\\text{árvore}}}{4} $\n",
        "\n",
        "**Multiplicação pela matriz de saída:**\n",
        "\n",
        "$z = W'^T \\cdot x$\n",
        "\n",
        "**Aplicação do sfotmax :**\n",
        "\n",
        "$ŷ = softmax(z)$\n",
        "\n",
        "\n",
        "**Cálculo da Loss** :\n",
        "\n",
        "A função de perda usada no CBOW é a entropia cruzada entre $ŷ$ e o vetor da palavra target, nesse caso, o vetor da palavra subiu, [0, 0, 1, 0, 0] . Esta função de perda equivale a tratar o problema de predição de palavra como um problema de classificação em que as classes possíveis são as palavras do dicionário.\n",
        "\n",
        "**Atualização dos pesos**:\n",
        "\n",
        "Cálculos de gradiente e atualição dos pesos de $W$ e $W'$.\n",
        "\n",
        "\n",
        "A arquitetura do CBOW é mostrada abaixo. Na imagem é possível observar a entrada, que são as palavras do contexto e a saída, que é a palavra target.\n",
        "\n"
      ],
      "metadata": {
        "id": "NdWjFPOkLnvN"
      }
    },
    {
      "cell_type": "code",
      "source": [
        "from IPython.display import Image\n",
        "!wget -q \"https://raw.githubusercontent.com/elainedias16/TCC/main/assets/word_embeddings/cbow.png\" -O cbow.png\n",
        "Image(\"cbow.png\", width=400)"
      ],
      "metadata": {
        "colab": {
          "base_uri": "https://localhost:8080/",
          "height": 478
        },
        "id": "apny4KrHH4m-",
        "outputId": "133e5233-3da6-435d-b506-30a6bf44826f"
      },
      "execution_count": 29,
      "outputs": [
        {
          "output_type": "execute_result",
          "data": {
            "image/png": "[encoded data removed]",
            "text/plain": [
              "<IPython.core.display.Image object>"
            ]
          },
          "metadata": {
            "image/png": {
              "width": 400
            }
          },
          "execution_count": 29
        }
      ]
    },
    {
      "cell_type": "markdown",
      "source": [
        "Esse processo de treinamento é feito iterativamente até atingir certos critérios de loss ou épocas ou algum outro critério. Após o treinamento, os embeddings do vocabulário estão na matriz $W$.\n"
      ],
      "metadata": {
        "id": "zQjElooZIYSO"
      }
    },
    {
      "cell_type": "markdown",
      "source": [
        "## Skip-gram\n"
      ],
      "metadata": {
        "id": "81_3fN3krjn2"
      }
    },
    {
      "cell_type": "markdown",
      "source": [
        "\n",
        "A segunda variante do word2vec é skip-gram, sendo este o inverso do CBOW. Nesse sentido, dado uma palavra de referência, o modelo tenta adivinhar as palavras da janela de contexto. Assim, os embeddings das palavras serão armazenas nos pesos da camada oculta.\n",
        "\n",
        "De forma similiar ao CBOW, inicialmente define-se o tamanho da janela de contexto , cria-se os pares de treinamento e os vetores one-hot do vocabulário. Neste modelo, a entrada consistirá de apenas um vetor one-hot, que  representará a palavra de referência, a qual é escolhida aleatoriamente. O vetor de entrada one-hot é multiplicado pela matriz $W$, a qual é inicializada aleatoriamente. Posteriormente, o resultado é multiplicado pela matriz $W'$ e em seguida é aplicado uma função de ativação para gerar o vetor de probabilidades das palavras de contexto. Assim como no CBOW, a função de perda utilizada costuma ser a entropia cruzada e o processo é repetido para todos os pares de treinamento de forma a ajustar os pesos das matrizes $W$ e $W'$.\n",
        "\n",
        "Ao final do treinamento utilizando as palavras do vocabulário, os embeddings estão na matriz $W$. Note que o processo é bastante similiar ao CBOW, com a diferença sendo na entrada, a qual consiste apenas do vetor one-hot da palavra de referência,e após a multiplicação do vetor one-hot da palavra de referência pela matriz $W$, pois após essa multiplicação, o cálculo da média, presente no CBOW, não é realizado no Skip-Gram."
      ],
      "metadata": {
        "id": "rfOjK81bKTvp"
      }
    },
    {
      "cell_type": "code",
      "source": [
        "from IPython.display import Image\n",
        "!wget -q \"https://raw.githubusercontent.com/elainedias16/TCC/main/assets/word_embeddings/skip_gram.png\" -O skip_gram.png\n",
        "Image(\"skip_gram.png\", width=400)"
      ],
      "metadata": {
        "colab": {
          "base_uri": "https://localhost:8080/",
          "height": 514
        },
        "id": "fOYSW3hAJGxC",
        "outputId": "49ed8f92-dfe7-41e9-dc5c-421cb668e2d2"
      },
      "execution_count": 30,
      "outputs": [
        {
          "output_type": "execute_result",
          "data": {
            "image/png": "[encoded data removed]",
            "text/plain": [
              "<IPython.core.display.Image object>"
            ]
          },
          "metadata": {
            "image/png": {
              "width": 400
            }
          },
          "execution_count": 30
        }
      ]
    },
    {
      "cell_type": "markdown",
      "source": [
        "## GloVe"
      ],
      "metadata": {
        "id": "TPuFUfmPrcvw"
      }
    },
    {
      "cell_type": "markdown",
      "source": [
        "\n",
        "\n",
        "O GloVe (Global Vectors for Word Representation) é um algoritmo que usa estatísticas globais das palavras do vocabulário alidos ao conceito de contexto, presente no Word2Vec.\n",
        "\n",
        "Considere uma matriz de co-ocorrência $X$, cada linha $i$ e cada coluna $j$ representam palavras do vocabulário. Assim, dado uma janela de contexto, a célula $Xij$ representa a co-ocorrência de palavra $j$ no contexto de palavra $i$.\n",
        "\n",
        "Por exemplo, dada a frase :  'O gato subiu na árvore'.\n",
        "\n",
        "Considerando uma janela de contexto de tamanho 2, tem-se:\n",
        "\n",
        "'O' : contexto = ['gato', 'subiu']\n",
        "\n",
        "'gato' : contexto = ['O, 'subiu']\n",
        "\n",
        "'subiu' : contexto = ['gato' , 'na']\n",
        "\n",
        "'na' : contexto = ['subiu', 'arvore']\n",
        "\n",
        "'arvore' : contexto = ['na']\n",
        "\n",
        "Portanto, a matriz de co-ocorrência é dada por :\n",
        "\n",
        "\\begin{array}{|c|ccccc|}\n",
        "  \\hline\n",
        "  & O & gato & subiu & na & árvore \\\\\n",
        "  \\hline\n",
        "  O     & 0 & 1 & 0 & 0 & 0 \\\\\n",
        "  gato  & 1 & 0 & 1 & 1 & 0 \\\\\n",
        "  subiu & 0 & 1 & 0 & 1 & 1 \\\\\n",
        "  na    & 0 & 1 & 1 & 0 & 1 \\\\\n",
        "  árvore & 0 & 0 & 1 & 1 & 0 \\\\\n",
        "  \\hline\n",
        "\\end{array}\n",
        "\n",
        "\n",
        "Em seguida, os vetores das palavras $W_i$ e os vetores de contexto $\\tilde{W}_j $ são inicilizados aleatoriamente. Assim, é definido um número máximo de iterações e uma função de perda. A função de perda do GloVe busca minimizar a diferença entre o produto escalar dos vetores de duas palavras $ij$ e o logaritmo de suas probabilidades de co-ocorrência, sendo dada por :\n",
        "\n",
        "\n",
        "$J = \\sum_{i,j=1}^{V} f(X_{ij}) \\left(W_i^T \\tilde{W}_j + b_i + \\tilde{b}_j - \\log{X_{ij}}\\right)^2$ , onde :\n",
        "\n",
        "\n",
        "$J$ representa a função de perda total;\n",
        "\n",
        "$V$ representa o tamanho do vocabulário;\n",
        "\n",
        "$W_i$ representa o vetor da palavra $i$;\n",
        "\n",
        "$\\tilde{W}_j $ representa o vetor de contexto da palavra $j$;\n",
        "\n",
        "$bi$ e $\\tilde{b}_j$ representam o bias associados às palavras $i$ e $j$;\n",
        "\n",
        "$f(X_{ij})$ é uma função de ponderação que atribui pesos maiores a co-ocorrências menos frequentes e pesos menores a co-ocorrências mais frequentes.\n",
        "\n",
        "Essa atribuição de pesos visa atribur mais importância a co-ocorrências raras, pois considera-se que essas capturam relações semânticas mais significativas.\n",
        "\n",
        "$f(X_{ij})$ é frequentemente definida como:\n",
        "\n",
        "\n",
        "$\n",
        "f(x) =\n",
        "\\begin{cases}\n",
        "    \\left(\\frac{x}{x_{\\max}}\\right)^{\\alpha} & \\text{se } x < x_{\\max} \\\\\n",
        "    1 & \\text{, caso contrário}\n",
        "\\end{cases}\n",
        "$\n",
        "\n",
        "\n",
        "Os autores do algoritmo encontraram de forma empírica que o valor $\\alpha = \\frac{3}{4}$ é uma escolha eficaz.\n",
        "\n",
        "\n",
        "Dessa forma, para cada iteração, calcula-se o produto escalar entre os vetores $W_i$ e $\\tilde{W}_j $ para cada par de palavras $ij$ presente na matriz de coocorrências, buscando minimizar a função de perda utilizando gradiente descendente de forma a ajustar os vetores $Wi$ e $\\tilde{W}_j$ . Ao final do treinamento, os word embeddings são extraídos a partir dos vetores $Wi$.\n",
        "\n",
        "\n",
        "Tanto o Word2Vec quanto o GloVe em seus word embeddings atribuem vetores semelhantes a palavras com significados semelhantes semânticamente. Matematicamente, essa semelhança é capturada pelo conceito de similaridade vetorial, a qual, no contexto de word embeddings, busca calcular o quão próximo dois vetores estão. Existem diversas formas de calcular similidaridade, como Similidaridade do Cosseno, Similaridade de Jaccard, entre outras. Neste laboratório, será utilizada a Similaridade do Cosseno, a qual é dada por :\n",
        "\n",
        "$\n",
        "\\text{Similaridade do cosseno}(A, B) = \\cos(\\theta) = \\frac{A \\cdot B}{\\|A\\| \\cdot \\|B\\|}\n",
        "$\n",
        "\n",
        "Essa medida varia de $0$ a $1$, sendo que quanto mais perto de $1$, mais similar são os vetores e quanto mais perto de $0$, mais distintos.\n",
        "\n",
        "Além de cálculos de similaridade, é possível realizar operações vetoriais com os word embeddings, uma vez que as palavras são tranformadas em vetores. Portanto, é possível realizar operações como:\n",
        "\n",
        "$\n",
        "\\vec{\\text{rei}} - \\vec{\\text{homem}} + \\vec{\\text{mulher}} \\approx  \\vec{\\text{rainha}}\n",
        "$\n",
        "\n",
        "\n",
        "A visualização dessas palavras pode ser obtida a partir de gráfico t-SNE, o qual aplica uma redução de dimensionalidade e plota os pontos das palvras em um espaço 2D."
      ],
      "metadata": {
        "id": "7uo9S4g9VEWi"
      }
    },
    {
      "cell_type": "markdown",
      "source": [
        "# Resultados Esperados\n",
        "\n",
        "Neste laboratório serão implementados word embeddings utilizando a biblioteca gensim. É esperado que no cálculos de similaridade, palavras relacionadas como 'music' , 'award' apresentem similaridade maior que 60%"
      ],
      "metadata": {
        "id": "1C4U0lYbLY2F"
      }
    },
    {
      "cell_type": "markdown",
      "source": [
        "##Código"
      ],
      "metadata": {
        "id": "s41fA0iJtakr"
      }
    },
    {
      "cell_type": "markdown",
      "source": [
        "## Pre processing"
      ],
      "metadata": {
        "id": "ansmp_GpBLiU"
      }
    },
    {
      "cell_type": "code",
      "source": [
        "import nltk\n",
        "nltk.download('punkt')\n",
        "from nltk import sent_tokenize, word_tokenize\n",
        "\n",
        "nltk.download('stopwords')\n",
        "from nltk.corpus import stopwords\n",
        "stop_words = set(stopwords.words('english'))\n",
        "\n",
        "import spacy\n",
        "from spacy.lang.en.examples import sentences\n",
        "\n",
        "!pip install unidecode\n",
        "import unidecode\n",
        "from nltk.stem.porter import PorterStemmer\n",
        "!python -m spacy download en_core_web_sm"
      ],
      "metadata": {
        "colab": {
          "base_uri": "https://localhost:8080/"
        },
        "collapsed": true,
        "id": "ItW6fTckAwr1",
        "outputId": "8266c27e-4e6b-4d29-ef08-1d7f12cacbad"
      },
      "execution_count": 31,
      "outputs": [
        {
          "output_type": "stream",
          "name": "stderr",
          "text": [
            "[nltk_data] Downloading package punkt to /root/nltk_data...\n",
            "[nltk_data]   Package punkt is already up-to-date!\n",
            "[nltk_data] Downloading package stopwords to /root/nltk_data...\n",
            "[nltk_data]   Package stopwords is already up-to-date!\n"
          ]
        },
        {
          "output_type": "stream",
          "name": "stdout",
          "text": [
            "Requirement already satisfied: unidecode in /usr/local/lib/python3.10/dist-packages (1.3.8)\n",
            "Collecting en-core-web-sm==3.7.1\n",
            "  Downloading https://github.com/explosion/spacy-models/releases/download/en_core_web_sm-3.7.1/en_core_web_sm-3.7.1-py3-none-any.whl (12.8 MB)\n",
            "\u001b[2K     \u001b[90m━━━━━━━━━━━━━━━━━━━━━━━━━━━━━━━━━━━━━━━━\u001b[0m \u001b[32m12.8/12.8 MB\u001b[0m \u001b[31m27.5 MB/s\u001b[0m eta \u001b[36m0:00:00\u001b[0m\n",
            "\u001b[?25hRequirement already satisfied: spacy<3.8.0,>=3.7.2 in /usr/local/lib/python3.10/dist-packages (from en-core-web-sm==3.7.1) (3.7.5)\n",
            "Requirement already satisfied: spacy-legacy<3.1.0,>=3.0.11 in /usr/local/lib/python3.10/dist-packages (from spacy<3.8.0,>=3.7.2->en-core-web-sm==3.7.1) (3.0.12)\n",
            "Requirement already satisfied: spacy-loggers<2.0.0,>=1.0.0 in /usr/local/lib/python3.10/dist-packages (from spacy<3.8.0,>=3.7.2->en-core-web-sm==3.7.1) (1.0.5)\n",
            "Requirement already satisfied: murmurhash<1.1.0,>=0.28.0 in /usr/local/lib/python3.10/dist-packages (from spacy<3.8.0,>=3.7.2->en-core-web-sm==3.7.1) (1.0.10)\n",
            "Requirement already satisfied: cymem<2.1.0,>=2.0.2 in /usr/local/lib/python3.10/dist-packages (from spacy<3.8.0,>=3.7.2->en-core-web-sm==3.7.1) (2.0.8)\n",
            "Requirement already satisfied: preshed<3.1.0,>=3.0.2 in /usr/local/lib/python3.10/dist-packages (from spacy<3.8.0,>=3.7.2->en-core-web-sm==3.7.1) (3.0.9)\n",
            "Requirement already satisfied: thinc<8.3.0,>=8.2.2 in /usr/local/lib/python3.10/dist-packages (from spacy<3.8.0,>=3.7.2->en-core-web-sm==3.7.1) (8.2.5)\n",
            "Requirement already satisfied: wasabi<1.2.0,>=0.9.1 in /usr/local/lib/python3.10/dist-packages (from spacy<3.8.0,>=3.7.2->en-core-web-sm==3.7.1) (1.1.3)\n",
            "Requirement already satisfied: srsly<3.0.0,>=2.4.3 in /usr/local/lib/python3.10/dist-packages (from spacy<3.8.0,>=3.7.2->en-core-web-sm==3.7.1) (2.4.8)\n",
            "Requirement already satisfied: catalogue<2.1.0,>=2.0.6 in /usr/local/lib/python3.10/dist-packages (from spacy<3.8.0,>=3.7.2->en-core-web-sm==3.7.1) (2.0.10)\n",
            "Requirement already satisfied: weasel<0.5.0,>=0.1.0 in /usr/local/lib/python3.10/dist-packages (from spacy<3.8.0,>=3.7.2->en-core-web-sm==3.7.1) (0.4.1)\n",
            "Requirement already satisfied: typer<1.0.0,>=0.3.0 in /usr/local/lib/python3.10/dist-packages (from spacy<3.8.0,>=3.7.2->en-core-web-sm==3.7.1) (0.12.3)\n",
            "Requirement already satisfied: tqdm<5.0.0,>=4.38.0 in /usr/local/lib/python3.10/dist-packages (from spacy<3.8.0,>=3.7.2->en-core-web-sm==3.7.1) (4.66.5)\n",
            "Requirement already satisfied: requests<3.0.0,>=2.13.0 in /usr/local/lib/python3.10/dist-packages (from spacy<3.8.0,>=3.7.2->en-core-web-sm==3.7.1) (2.32.3)\n",
            "Requirement already satisfied: pydantic!=1.8,!=1.8.1,<3.0.0,>=1.7.4 in /usr/local/lib/python3.10/dist-packages (from spacy<3.8.0,>=3.7.2->en-core-web-sm==3.7.1) (2.8.2)\n",
            "Requirement already satisfied: jinja2 in /usr/local/lib/python3.10/dist-packages (from spacy<3.8.0,>=3.7.2->en-core-web-sm==3.7.1) (3.1.4)\n",
            "Requirement already satisfied: setuptools in /usr/local/lib/python3.10/dist-packages (from spacy<3.8.0,>=3.7.2->en-core-web-sm==3.7.1) (71.0.4)\n",
            "Requirement already satisfied: packaging>=20.0 in /usr/local/lib/python3.10/dist-packages (from spacy<3.8.0,>=3.7.2->en-core-web-sm==3.7.1) (24.1)\n",
            "Requirement already satisfied: langcodes<4.0.0,>=3.2.0 in /usr/local/lib/python3.10/dist-packages (from spacy<3.8.0,>=3.7.2->en-core-web-sm==3.7.1) (3.4.0)\n",
            "Requirement already satisfied: numpy>=1.19.0 in /usr/local/lib/python3.10/dist-packages (from spacy<3.8.0,>=3.7.2->en-core-web-sm==3.7.1) (1.26.4)\n",
            "Requirement already satisfied: language-data>=1.2 in /usr/local/lib/python3.10/dist-packages (from langcodes<4.0.0,>=3.2.0->spacy<3.8.0,>=3.7.2->en-core-web-sm==3.7.1) (1.2.0)\n",
            "Requirement already satisfied: annotated-types>=0.4.0 in /usr/local/lib/python3.10/dist-packages (from pydantic!=1.8,!=1.8.1,<3.0.0,>=1.7.4->spacy<3.8.0,>=3.7.2->en-core-web-sm==3.7.1) (0.7.0)\n",
            "Requirement already satisfied: pydantic-core==2.20.1 in /usr/local/lib/python3.10/dist-packages (from pydantic!=1.8,!=1.8.1,<3.0.0,>=1.7.4->spacy<3.8.0,>=3.7.2->en-core-web-sm==3.7.1) (2.20.1)\n",
            "Requirement already satisfied: typing-extensions>=4.6.1 in /usr/local/lib/python3.10/dist-packages (from pydantic!=1.8,!=1.8.1,<3.0.0,>=1.7.4->spacy<3.8.0,>=3.7.2->en-core-web-sm==3.7.1) (4.12.2)\n",
            "Requirement already satisfied: charset-normalizer<4,>=2 in /usr/local/lib/python3.10/dist-packages (from requests<3.0.0,>=2.13.0->spacy<3.8.0,>=3.7.2->en-core-web-sm==3.7.1) (3.3.2)\n",
            "Requirement already satisfied: idna<4,>=2.5 in /usr/local/lib/python3.10/dist-packages (from requests<3.0.0,>=2.13.0->spacy<3.8.0,>=3.7.2->en-core-web-sm==3.7.1) (3.7)\n",
            "Requirement already satisfied: urllib3<3,>=1.21.1 in /usr/local/lib/python3.10/dist-packages (from requests<3.0.0,>=2.13.0->spacy<3.8.0,>=3.7.2->en-core-web-sm==3.7.1) (2.0.7)\n",
            "Requirement already satisfied: certifi>=2017.4.17 in /usr/local/lib/python3.10/dist-packages (from requests<3.0.0,>=2.13.0->spacy<3.8.0,>=3.7.2->en-core-web-sm==3.7.1) (2024.7.4)\n",
            "Requirement already satisfied: blis<0.8.0,>=0.7.8 in /usr/local/lib/python3.10/dist-packages (from thinc<8.3.0,>=8.2.2->spacy<3.8.0,>=3.7.2->en-core-web-sm==3.7.1) (0.7.11)\n",
            "Requirement already satisfied: confection<1.0.0,>=0.0.1 in /usr/local/lib/python3.10/dist-packages (from thinc<8.3.0,>=8.2.2->spacy<3.8.0,>=3.7.2->en-core-web-sm==3.7.1) (0.1.5)\n",
            "Requirement already satisfied: click>=8.0.0 in /usr/local/lib/python3.10/dist-packages (from typer<1.0.0,>=0.3.0->spacy<3.8.0,>=3.7.2->en-core-web-sm==3.7.1) (8.1.7)\n",
            "Requirement already satisfied: shellingham>=1.3.0 in /usr/local/lib/python3.10/dist-packages (from typer<1.0.0,>=0.3.0->spacy<3.8.0,>=3.7.2->en-core-web-sm==3.7.1) (1.5.4)\n",
            "Requirement already satisfied: rich>=10.11.0 in /usr/local/lib/python3.10/dist-packages (from typer<1.0.0,>=0.3.0->spacy<3.8.0,>=3.7.2->en-core-web-sm==3.7.1) (13.7.1)\n",
            "Requirement already satisfied: cloudpathlib<1.0.0,>=0.7.0 in /usr/local/lib/python3.10/dist-packages (from weasel<0.5.0,>=0.1.0->spacy<3.8.0,>=3.7.2->en-core-web-sm==3.7.1) (0.18.1)\n",
            "Requirement already satisfied: smart-open<8.0.0,>=5.2.1 in /usr/local/lib/python3.10/dist-packages (from weasel<0.5.0,>=0.1.0->spacy<3.8.0,>=3.7.2->en-core-web-sm==3.7.1) (7.0.4)\n",
            "Requirement already satisfied: MarkupSafe>=2.0 in /usr/local/lib/python3.10/dist-packages (from jinja2->spacy<3.8.0,>=3.7.2->en-core-web-sm==3.7.1) (2.1.5)\n",
            "Requirement already satisfied: marisa-trie>=0.7.7 in /usr/local/lib/python3.10/dist-packages (from language-data>=1.2->langcodes<4.0.0,>=3.2.0->spacy<3.8.0,>=3.7.2->en-core-web-sm==3.7.1) (1.2.0)\n",
            "Requirement already satisfied: markdown-it-py>=2.2.0 in /usr/local/lib/python3.10/dist-packages (from rich>=10.11.0->typer<1.0.0,>=0.3.0->spacy<3.8.0,>=3.7.2->en-core-web-sm==3.7.1) (3.0.0)\n",
            "Requirement already satisfied: pygments<3.0.0,>=2.13.0 in /usr/local/lib/python3.10/dist-packages (from rich>=10.11.0->typer<1.0.0,>=0.3.0->spacy<3.8.0,>=3.7.2->en-core-web-sm==3.7.1) (2.16.1)\n",
            "Requirement already satisfied: wrapt in /usr/local/lib/python3.10/dist-packages (from smart-open<8.0.0,>=5.2.1->weasel<0.5.0,>=0.1.0->spacy<3.8.0,>=3.7.2->en-core-web-sm==3.7.1) (1.16.0)\n",
            "Requirement already satisfied: mdurl~=0.1 in /usr/local/lib/python3.10/dist-packages (from markdown-it-py>=2.2.0->rich>=10.11.0->typer<1.0.0,>=0.3.0->spacy<3.8.0,>=3.7.2->en-core-web-sm==3.7.1) (0.1.2)\n",
            "\u001b[38;5;2m✔ Download and installation successful\u001b[0m\n",
            "You can now load the package via spacy.load('en_core_web_sm')\n",
            "\u001b[38;5;3m⚠ Restart to reload dependencies\u001b[0m\n",
            "If you are in a Jupyter or Colab notebook, you may need to restart Python in\n",
            "order to load all the package's dependencies. You can do this by selecting the\n",
            "'Restart kernel' or 'Restart runtime' option.\n"
          ]
        }
      ]
    },
    {
      "cell_type": "code",
      "source": [
        "import pandas as pd\n",
        "\n",
        "id_file = '1m41gWGwnLYo0nAEOABnU_MH_SCQHWfjS'\n",
        "url_file = 'https://drive.google.com/uc?id={}'.format(id_file)\n",
        "\n",
        "def create_dataframe(path):\n",
        "    columns=['genre', 'filename', 'title', 'content']\n",
        "    df =  pd.read_table(\n",
        "    path,\n",
        "    header=None,\n",
        "    names=columns,\n",
        "    sep= '\\t',\n",
        "    engine= 'python'\n",
        "    )\n",
        "    return df\n",
        "\n",
        "\n",
        "df = create_dataframe(url_file)\n",
        "df = df.drop(0).reset_index(drop=True)\n",
        "\n",
        "df.tail()"
      ],
      "metadata": {
        "colab": {
          "base_uri": "https://localhost:8080/",
          "height": 0
        },
        "id": "bLHrPZ6BArSf",
        "outputId": "b297832a-6b6f-4ce6-cd44-231785dfa34a"
      },
      "execution_count": 32,
      "outputs": [
        {
          "output_type": "execute_result",
          "data": {
            "text/plain": [
              "     genre filename                             title  \\\n",
              "2220  tech  397.txt  BT program to beat dialler scams   \n",
              "2221  tech  398.txt   Spam e-mails tempt net shoppers   \n",
              "2222  tech  399.txt           Be careful how you code   \n",
              "2223  tech  400.txt   US cyber security chief resigns   \n",
              "2224  tech  401.txt  Losing yourself in online gaming   \n",
              "\n",
              "                                                content  \n",
              "2220   BT is introducing two initiatives to help bea...  \n",
              "2221   Computer users across the world continue to i...  \n",
              "2222   A new European directive could put software w...  \n",
              "2223   The man making sure US computer networks are ...  \n",
              "2224   Online role playing games are time-consuming,...  "
            ],
            "text/html": [
              "\n",
              "  <div id=\"df-c5f9f421-9ba1-47b2-85a3-3b00ef65745d\" class=\"colab-df-container\">\n",
              "    <div>\n",
              "<style scoped>\n",
              "    .dataframe tbody tr th:only-of-type {\n",
              "        vertical-align: middle;\n",
              "    }\n",
              "\n",
              "    .dataframe tbody tr th {\n",
              "        vertical-align: top;\n",
              "    }\n",
              "\n",
              "    .dataframe thead th {\n",
              "        text-align: right;\n",
              "    }\n",
              "</style>\n",
              "<table border=\"1\" class=\"dataframe\">\n",
              "  <thead>\n",
              "    <tr style=\"text-align: right;\">\n",
              "      <th></th>\n",
              "      <th>genre</th>\n",
              "      <th>filename</th>\n",
              "      <th>title</th>\n",
              "      <th>content</th>\n",
              "    </tr>\n",
              "  </thead>\n",
              "  <tbody>\n",
              "    <tr>\n",
              "      <th>2220</th>\n",
              "      <td>tech</td>\n",
              "      <td>397.txt</td>\n",
              "      <td>BT program to beat dialler scams</td>\n",
              "      <td>BT is introducing two initiatives to help bea...</td>\n",
              "    </tr>\n",
              "    <tr>\n",
              "      <th>2221</th>\n",
              "      <td>tech</td>\n",
              "      <td>398.txt</td>\n",
              "      <td>Spam e-mails tempt net shoppers</td>\n",
              "      <td>Computer users across the world continue to i...</td>\n",
              "    </tr>\n",
              "    <tr>\n",
              "      <th>2222</th>\n",
              "      <td>tech</td>\n",
              "      <td>399.txt</td>\n",
              "      <td>Be careful how you code</td>\n",
              "      <td>A new European directive could put software w...</td>\n",
              "    </tr>\n",
              "    <tr>\n",
              "      <th>2223</th>\n",
              "      <td>tech</td>\n",
              "      <td>400.txt</td>\n",
              "      <td>US cyber security chief resigns</td>\n",
              "      <td>The man making sure US computer networks are ...</td>\n",
              "    </tr>\n",
              "    <tr>\n",
              "      <th>2224</th>\n",
              "      <td>tech</td>\n",
              "      <td>401.txt</td>\n",
              "      <td>Losing yourself in online gaming</td>\n",
              "      <td>Online role playing games are time-consuming,...</td>\n",
              "    </tr>\n",
              "  </tbody>\n",
              "</table>\n",
              "</div>\n",
              "    <div class=\"colab-df-buttons\">\n",
              "\n",
              "  <div class=\"colab-df-container\">\n",
              "    <button class=\"colab-df-convert\" onclick=\"convertToInteractive('df-c5f9f421-9ba1-47b2-85a3-3b00ef65745d')\"\n",
              "            title=\"Convert this dataframe to an interactive table.\"\n",
              "            style=\"display:none;\">\n",
              "\n",
              "  <svg xmlns=\"http://www.w3.org/2000/svg\" height=\"24px\" viewBox=\"0 -960 960 960\">\n",
              "    <path d=\"M120-120v-720h720v720H120Zm60-500h600v-160H180v160Zm220 220h160v-160H400v160Zm0 220h160v-160H400v160ZM180-400h160v-160H180v160Zm440 0h160v-160H620v160ZM180-180h160v-160H180v160Zm440 0h160v-160H620v160Z\"/>\n",
              "  </svg>\n",
              "    </button>\n",
              "\n",
              "  <style>\n",
              "    .colab-df-container {\n",
              "      display:flex;\n",
              "      gap: 12px;\n",
              "    }\n",
              "\n",
              "    .colab-df-convert {\n",
              "      background-color: #E8F0FE;\n",
              "      border: none;\n",
              "      border-radius: 50%;\n",
              "      cursor: pointer;\n",
              "      display: none;\n",
              "      fill: #1967D2;\n",
              "      height: 32px;\n",
              "      padding: 0 0 0 0;\n",
              "      width: 32px;\n",
              "    }\n",
              "\n",
              "    .colab-df-convert:hover {\n",
              "      background-color: #E2EBFA;\n",
              "      box-shadow: 0px 1px 2px rgba(60, 64, 67, 0.3), 0px 1px 3px 1px rgba(60, 64, 67, 0.15);\n",
              "      fill: #174EA6;\n",
              "    }\n",
              "\n",
              "    .colab-df-buttons div {\n",
              "      margin-bottom: 4px;\n",
              "    }\n",
              "\n",
              "    [theme=dark] .colab-df-convert {\n",
              "      background-color: #3B4455;\n",
              "      fill: #D2E3FC;\n",
              "    }\n",
              "\n",
              "    [theme=dark] .colab-df-convert:hover {\n",
              "      background-color: #434B5C;\n",
              "      box-shadow: 0px 1px 3px 1px rgba(0, 0, 0, 0.15);\n",
              "      filter: drop-shadow(0px 1px 2px rgba(0, 0, 0, 0.3));\n",
              "      fill: #FFFFFF;\n",
              "    }\n",
              "  </style>\n",
              "\n",
              "    <script>\n",
              "      const buttonEl =\n",
              "        document.querySelector('#df-c5f9f421-9ba1-47b2-85a3-3b00ef65745d button.colab-df-convert');\n",
              "      buttonEl.style.display =\n",
              "        google.colab.kernel.accessAllowed ? 'block' : 'none';\n",
              "\n",
              "      async function convertToInteractive(key) {\n",
              "        const element = document.querySelector('#df-c5f9f421-9ba1-47b2-85a3-3b00ef65745d');\n",
              "        const dataTable =\n",
              "          await google.colab.kernel.invokeFunction('convertToInteractive',\n",
              "                                                    [key], {});\n",
              "        if (!dataTable) return;\n",
              "\n",
              "        const docLinkHtml = 'Like what you see? Visit the ' +\n",
              "          '<a target=\"_blank\" href=https://colab.research.google.com/notebooks/data_table.ipynb>data table notebook</a>'\n",
              "          + ' to learn more about interactive tables.';\n",
              "        element.innerHTML = '';\n",
              "        dataTable['output_type'] = 'display_data';\n",
              "        await google.colab.output.renderOutput(dataTable, element);\n",
              "        const docLink = document.createElement('div');\n",
              "        docLink.innerHTML = docLinkHtml;\n",
              "        element.appendChild(docLink);\n",
              "      }\n",
              "    </script>\n",
              "  </div>\n",
              "\n",
              "\n",
              "<div id=\"df-9b541dbb-c61e-4618-b92d-fcb8cb3ecc47\">\n",
              "  <button class=\"colab-df-quickchart\" onclick=\"quickchart('df-9b541dbb-c61e-4618-b92d-fcb8cb3ecc47')\"\n",
              "            title=\"Suggest charts\"\n",
              "            style=\"display:none;\">\n",
              "\n",
              "<svg xmlns=\"http://www.w3.org/2000/svg\" height=\"24px\"viewBox=\"0 0 24 24\"\n",
              "     width=\"24px\">\n",
              "    <g>\n",
              "        <path d=\"M19 3H5c-1.1 0-2 .9-2 2v14c0 1.1.9 2 2 2h14c1.1 0 2-.9 2-2V5c0-1.1-.9-2-2-2zM9 17H7v-7h2v7zm4 0h-2V7h2v10zm4 0h-2v-4h2v4z\"/>\n",
              "    </g>\n",
              "</svg>\n",
              "  </button>\n",
              "\n",
              "<style>\n",
              "  .colab-df-quickchart {\n",
              "      --bg-color: #E8F0FE;\n",
              "      --fill-color: #1967D2;\n",
              "      --hover-bg-color: #E2EBFA;\n",
              "      --hover-fill-color: #174EA6;\n",
              "      --disabled-fill-color: #AAA;\n",
              "      --disabled-bg-color: #DDD;\n",
              "  }\n",
              "\n",
              "  [theme=dark] .colab-df-quickchart {\n",
              "      --bg-color: #3B4455;\n",
              "      --fill-color: #D2E3FC;\n",
              "      --hover-bg-color: #434B5C;\n",
              "      --hover-fill-color: #FFFFFF;\n",
              "      --disabled-bg-color: #3B4455;\n",
              "      --disabled-fill-color: #666;\n",
              "  }\n",
              "\n",
              "  .colab-df-quickchart {\n",
              "    background-color: var(--bg-color);\n",
              "    border: none;\n",
              "    border-radius: 50%;\n",
              "    cursor: pointer;\n",
              "    display: none;\n",
              "    fill: var(--fill-color);\n",
              "    height: 32px;\n",
              "    padding: 0;\n",
              "    width: 32px;\n",
              "  }\n",
              "\n",
              "  .colab-df-quickchart:hover {\n",
              "    background-color: var(--hover-bg-color);\n",
              "    box-shadow: 0 1px 2px rgba(60, 64, 67, 0.3), 0 1px 3px 1px rgba(60, 64, 67, 0.15);\n",
              "    fill: var(--button-hover-fill-color);\n",
              "  }\n",
              "\n",
              "  .colab-df-quickchart-complete:disabled,\n",
              "  .colab-df-quickchart-complete:disabled:hover {\n",
              "    background-color: var(--disabled-bg-color);\n",
              "    fill: var(--disabled-fill-color);\n",
              "    box-shadow: none;\n",
              "  }\n",
              "\n",
              "  .colab-df-spinner {\n",
              "    border: 2px solid var(--fill-color);\n",
              "    border-color: transparent;\n",
              "    border-bottom-color: var(--fill-color);\n",
              "    animation:\n",
              "      spin 1s steps(1) infinite;\n",
              "  }\n",
              "\n",
              "  @keyframes spin {\n",
              "    0% {\n",
              "      border-color: transparent;\n",
              "      border-bottom-color: var(--fill-color);\n",
              "      border-left-color: var(--fill-color);\n",
              "    }\n",
              "    20% {\n",
              "      border-color: transparent;\n",
              "      border-left-color: var(--fill-color);\n",
              "      border-top-color: var(--fill-color);\n",
              "    }\n",
              "    30% {\n",
              "      border-color: transparent;\n",
              "      border-left-color: var(--fill-color);\n",
              "      border-top-color: var(--fill-color);\n",
              "      border-right-color: var(--fill-color);\n",
              "    }\n",
              "    40% {\n",
              "      border-color: transparent;\n",
              "      border-right-color: var(--fill-color);\n",
              "      border-top-color: var(--fill-color);\n",
              "    }\n",
              "    60% {\n",
              "      border-color: transparent;\n",
              "      border-right-color: var(--fill-color);\n",
              "    }\n",
              "    80% {\n",
              "      border-color: transparent;\n",
              "      border-right-color: var(--fill-color);\n",
              "      border-bottom-color: var(--fill-color);\n",
              "    }\n",
              "    90% {\n",
              "      border-color: transparent;\n",
              "      border-bottom-color: var(--fill-color);\n",
              "    }\n",
              "  }\n",
              "</style>\n",
              "\n",
              "  <script>\n",
              "    async function quickchart(key) {\n",
              "      const quickchartButtonEl =\n",
              "        document.querySelector('#' + key + ' button');\n",
              "      quickchartButtonEl.disabled = true;  // To prevent multiple clicks.\n",
              "      quickchartButtonEl.classList.add('colab-df-spinner');\n",
              "      try {\n",
              "        const charts = await google.colab.kernel.invokeFunction(\n",
              "            'suggestCharts', [key], {});\n",
              "      } catch (error) {\n",
              "        console.error('Error during call to suggestCharts:', error);\n",
              "      }\n",
              "      quickchartButtonEl.classList.remove('colab-df-spinner');\n",
              "      quickchartButtonEl.classList.add('colab-df-quickchart-complete');\n",
              "    }\n",
              "    (() => {\n",
              "      let quickchartButtonEl =\n",
              "        document.querySelector('#df-9b541dbb-c61e-4618-b92d-fcb8cb3ecc47 button');\n",
              "      quickchartButtonEl.style.display =\n",
              "        google.colab.kernel.accessAllowed ? 'block' : 'none';\n",
              "    })();\n",
              "  </script>\n",
              "</div>\n",
              "\n",
              "    </div>\n",
              "  </div>\n"
            ],
            "application/vnd.google.colaboratory.intrinsic+json": {
              "type": "dataframe",
              "summary": "{\n  \"name\": \"df\",\n  \"rows\": 5,\n  \"fields\": [\n    {\n      \"column\": \"genre\",\n      \"properties\": {\n        \"dtype\": \"category\",\n        \"num_unique_values\": 1,\n        \"samples\": [\n          \"tech\"\n        ],\n        \"semantic_type\": \"\",\n        \"description\": \"\"\n      }\n    },\n    {\n      \"column\": \"filename\",\n      \"properties\": {\n        \"dtype\": \"string\",\n        \"num_unique_values\": 5,\n        \"samples\": [\n          \"398.txt\"\n        ],\n        \"semantic_type\": \"\",\n        \"description\": \"\"\n      }\n    },\n    {\n      \"column\": \"title\",\n      \"properties\": {\n        \"dtype\": \"string\",\n        \"num_unique_values\": 5,\n        \"samples\": [\n          \"Spam e-mails tempt net shoppers\"\n        ],\n        \"semantic_type\": \"\",\n        \"description\": \"\"\n      }\n    },\n    {\n      \"column\": \"content\",\n      \"properties\": {\n        \"dtype\": \"string\",\n        \"num_unique_values\": 5,\n        \"samples\": [\n          \" Computer users across the world continue to ignore security warnings about spam e-mails and are being lured into buying goods, a report suggests.  More than a quarter have bought software through spam e-mails and 24% have bought clothes or jewellery. As well as profiting from selling goods or services and driving advertising traffic, organised crime rings can use spam to glean personal information. The Business Software Alliance (BSA) warned that people should \\\"stay alert\\\". \\\"Many online consumers don't consider the true motives of spammers,\\\" said Mike Newton, a spokesperson for the BSA which commissioned the survey.  \\\"By selling software that appears to be legitimate in genuine looking packaging or through sophisticated websites, spammers are hiding spyware without consumers' knowledge. \\\"Once the software is installed on PCs and networks, information that is given over the internet can be obtained and abused.\\\"  The results also showed that the proportion of people reading - or admitting to reading - and taking advantage of adult entertainment spam e-mails is low, at one in 10. The research, which covered 6,000 people in six countries and their attitudes towards junk e-mails, revealed that Brazilians were the most likely to read spam. A third of them read unsolicited junk e-mail and 66% buy goods or services after receiving spam.  The French were the second most likely to buy something (48%), with 44% of Britons taking advantage of products and services. This was despite 38% of people in all countries being worried about their net security because of the amount of spam they get. More than a third of respondents said they were concerned that spam e-mails contained viruses or programs that attempted to collect personal information. \\\"Both industry and the media have helped to raise awareness of the issues that surround illegitimate e-mail, helping to reduce the potential financial damage and nuisance from phishing attacks and spoof websites,\\\" said William Plante, director of corporate security and fraud protection at security firm Symantec. \\\"At the same time, consumers need to continue exercising caution and protect themselves from harm with a mixture of spam filters, spyware detection software and sound judgement.\\\" \"\n        ],\n        \"semantic_type\": \"\",\n        \"description\": \"\"\n      }\n    }\n  ]\n}"
            }
          },
          "metadata": {},
          "execution_count": 32
        }
      ]
    },
    {
      "cell_type": "code",
      "source": [
        "# In BBC dataset, some filenames have the same name, for example 001.txt, so it's necessary to rename\n",
        "def rename_filenames(df):\n",
        "  for index, row in df.iterrows():\n",
        "      df.at[index, 'filename'] = f\"{index}.txt\"\n",
        "  return df\n",
        "\n",
        "df = rename_filenames(df)\n",
        "\n",
        "import random\n",
        "\n",
        "def create_imbalanced_small_df(df, genres, max_value):\n",
        "  small_df_list = []\n",
        "  for genre in genres:\n",
        "    qtd = random.randint(10, max_value)\n",
        "    # print(qtd)\n",
        "    sample_rows = df[df['genre'] == genre].sample(qtd)\n",
        "    small_df_list.append(sample_rows)\n",
        "  return pd.concat(small_df_list).reset_index(drop=True)\n",
        "\n",
        "genres = df['genre'].unique()\n",
        "small_df = create_imbalanced_small_df(df, genres, max_value=20)\n",
        "small_df"
      ],
      "metadata": {
        "colab": {
          "base_uri": "https://localhost:8080/",
          "height": 0
        },
        "id": "FdUYJUmuA3PF",
        "outputId": "8339dd17-0fe7-4633-b663-f38c97bbd687"
      },
      "execution_count": 33,
      "outputs": [
        {
          "output_type": "execute_result",
          "data": {
            "text/plain": [
              "       genre  filename                              title  \\\n",
              "0   business   495.txt     Europe asks Asia for euro help   \n",
              "1   business   459.txt   Jobs go at Oracle after takeover   \n",
              "2   business   440.txt  Trade gap narrows as exports rise   \n",
              "3   business   301.txt    Cactus diet deal for Phytopharm   \n",
              "4   business   339.txt  Venezuela and China sign oil deal   \n",
              "..       ...       ...                                ...   \n",
              "72      tech  1918.txt           Mobile games come of age   \n",
              "73      tech  1904.txt   Savvy searchers fail to spot ads   \n",
              "74      tech  1980.txt    Online games play with politics   \n",
              "75      tech  1878.txt    Junk e-mails on relentless rise   \n",
              "76      tech  2114.txt  Doors open at biggest gadget fair   \n",
              "\n",
              "                                              content  \n",
              "0    European leaders say Asian states must let th...  \n",
              "1    Oracle has announced it is cutting about 5,00...  \n",
              "2    The UK's trade gap narrowed in November, help...  \n",
              "3    A slimming aid made from a southern African c...  \n",
              "4    Venezuelan president Hugo Chavez has offered ...  \n",
              "..                                                ...  \n",
              "72   The BBC News website takes a look at how game...  \n",
              "73   Internet search engine users are an odd mix o...  \n",
              "74   After bubbling under for some time, online ga...  \n",
              "75   Spam traffic is up by 40%, putting the total ...  \n",
              "76   Thousands of technology lovers and industry e...  \n",
              "\n",
              "[77 rows x 4 columns]"
            ],
            "text/html": [
              "\n",
              "  <div id=\"df-57aa7062-e289-45a5-97fd-b2f6cd98a6d5\" class=\"colab-df-container\">\n",
              "    <div>\n",
              "<style scoped>\n",
              "    .dataframe tbody tr th:only-of-type {\n",
              "        vertical-align: middle;\n",
              "    }\n",
              "\n",
              "    .dataframe tbody tr th {\n",
              "        vertical-align: top;\n",
              "    }\n",
              "\n",
              "    .dataframe thead th {\n",
              "        text-align: right;\n",
              "    }\n",
              "</style>\n",
              "<table border=\"1\" class=\"dataframe\">\n",
              "  <thead>\n",
              "    <tr style=\"text-align: right;\">\n",
              "      <th></th>\n",
              "      <th>genre</th>\n",
              "      <th>filename</th>\n",
              "      <th>title</th>\n",
              "      <th>content</th>\n",
              "    </tr>\n",
              "  </thead>\n",
              "  <tbody>\n",
              "    <tr>\n",
              "      <th>0</th>\n",
              "      <td>business</td>\n",
              "      <td>495.txt</td>\n",
              "      <td>Europe asks Asia for euro help</td>\n",
              "      <td>European leaders say Asian states must let th...</td>\n",
              "    </tr>\n",
              "    <tr>\n",
              "      <th>1</th>\n",
              "      <td>business</td>\n",
              "      <td>459.txt</td>\n",
              "      <td>Jobs go at Oracle after takeover</td>\n",
              "      <td>Oracle has announced it is cutting about 5,00...</td>\n",
              "    </tr>\n",
              "    <tr>\n",
              "      <th>2</th>\n",
              "      <td>business</td>\n",
              "      <td>440.txt</td>\n",
              "      <td>Trade gap narrows as exports rise</td>\n",
              "      <td>The UK's trade gap narrowed in November, help...</td>\n",
              "    </tr>\n",
              "    <tr>\n",
              "      <th>3</th>\n",
              "      <td>business</td>\n",
              "      <td>301.txt</td>\n",
              "      <td>Cactus diet deal for Phytopharm</td>\n",
              "      <td>A slimming aid made from a southern African c...</td>\n",
              "    </tr>\n",
              "    <tr>\n",
              "      <th>4</th>\n",
              "      <td>business</td>\n",
              "      <td>339.txt</td>\n",
              "      <td>Venezuela and China sign oil deal</td>\n",
              "      <td>Venezuelan president Hugo Chavez has offered ...</td>\n",
              "    </tr>\n",
              "    <tr>\n",
              "      <th>...</th>\n",
              "      <td>...</td>\n",
              "      <td>...</td>\n",
              "      <td>...</td>\n",
              "      <td>...</td>\n",
              "    </tr>\n",
              "    <tr>\n",
              "      <th>72</th>\n",
              "      <td>tech</td>\n",
              "      <td>1918.txt</td>\n",
              "      <td>Mobile games come of age</td>\n",
              "      <td>The BBC News website takes a look at how game...</td>\n",
              "    </tr>\n",
              "    <tr>\n",
              "      <th>73</th>\n",
              "      <td>tech</td>\n",
              "      <td>1904.txt</td>\n",
              "      <td>Savvy searchers fail to spot ads</td>\n",
              "      <td>Internet search engine users are an odd mix o...</td>\n",
              "    </tr>\n",
              "    <tr>\n",
              "      <th>74</th>\n",
              "      <td>tech</td>\n",
              "      <td>1980.txt</td>\n",
              "      <td>Online games play with politics</td>\n",
              "      <td>After bubbling under for some time, online ga...</td>\n",
              "    </tr>\n",
              "    <tr>\n",
              "      <th>75</th>\n",
              "      <td>tech</td>\n",
              "      <td>1878.txt</td>\n",
              "      <td>Junk e-mails on relentless rise</td>\n",
              "      <td>Spam traffic is up by 40%, putting the total ...</td>\n",
              "    </tr>\n",
              "    <tr>\n",
              "      <th>76</th>\n",
              "      <td>tech</td>\n",
              "      <td>2114.txt</td>\n",
              "      <td>Doors open at biggest gadget fair</td>\n",
              "      <td>Thousands of technology lovers and industry e...</td>\n",
              "    </tr>\n",
              "  </tbody>\n",
              "</table>\n",
              "<p>77 rows × 4 columns</p>\n",
              "</div>\n",
              "    <div class=\"colab-df-buttons\">\n",
              "\n",
              "  <div class=\"colab-df-container\">\n",
              "    <button class=\"colab-df-convert\" onclick=\"convertToInteractive('df-57aa7062-e289-45a5-97fd-b2f6cd98a6d5')\"\n",
              "            title=\"Convert this dataframe to an interactive table.\"\n",
              "            style=\"display:none;\">\n",
              "\n",
              "  <svg xmlns=\"http://www.w3.org/2000/svg\" height=\"24px\" viewBox=\"0 -960 960 960\">\n",
              "    <path d=\"M120-120v-720h720v720H120Zm60-500h600v-160H180v160Zm220 220h160v-160H400v160Zm0 220h160v-160H400v160ZM180-400h160v-160H180v160Zm440 0h160v-160H620v160ZM180-180h160v-160H180v160Zm440 0h160v-160H620v160Z\"/>\n",
              "  </svg>\n",
              "    </button>\n",
              "\n",
              "  <style>\n",
              "    .colab-df-container {\n",
              "      display:flex;\n",
              "      gap: 12px;\n",
              "    }\n",
              "\n",
              "    .colab-df-convert {\n",
              "      background-color: #E8F0FE;\n",
              "      border: none;\n",
              "      border-radius: 50%;\n",
              "      cursor: pointer;\n",
              "      display: none;\n",
              "      fill: #1967D2;\n",
              "      height: 32px;\n",
              "      padding: 0 0 0 0;\n",
              "      width: 32px;\n",
              "    }\n",
              "\n",
              "    .colab-df-convert:hover {\n",
              "      background-color: #E2EBFA;\n",
              "      box-shadow: 0px 1px 2px rgba(60, 64, 67, 0.3), 0px 1px 3px 1px rgba(60, 64, 67, 0.15);\n",
              "      fill: #174EA6;\n",
              "    }\n",
              "\n",
              "    .colab-df-buttons div {\n",
              "      margin-bottom: 4px;\n",
              "    }\n",
              "\n",
              "    [theme=dark] .colab-df-convert {\n",
              "      background-color: #3B4455;\n",
              "      fill: #D2E3FC;\n",
              "    }\n",
              "\n",
              "    [theme=dark] .colab-df-convert:hover {\n",
              "      background-color: #434B5C;\n",
              "      box-shadow: 0px 1px 3px 1px rgba(0, 0, 0, 0.15);\n",
              "      filter: drop-shadow(0px 1px 2px rgba(0, 0, 0, 0.3));\n",
              "      fill: #FFFFFF;\n",
              "    }\n",
              "  </style>\n",
              "\n",
              "    <script>\n",
              "      const buttonEl =\n",
              "        document.querySelector('#df-57aa7062-e289-45a5-97fd-b2f6cd98a6d5 button.colab-df-convert');\n",
              "      buttonEl.style.display =\n",
              "        google.colab.kernel.accessAllowed ? 'block' : 'none';\n",
              "\n",
              "      async function convertToInteractive(key) {\n",
              "        const element = document.querySelector('#df-57aa7062-e289-45a5-97fd-b2f6cd98a6d5');\n",
              "        const dataTable =\n",
              "          await google.colab.kernel.invokeFunction('convertToInteractive',\n",
              "                                                    [key], {});\n",
              "        if (!dataTable) return;\n",
              "\n",
              "        const docLinkHtml = 'Like what you see? Visit the ' +\n",
              "          '<a target=\"_blank\" href=https://colab.research.google.com/notebooks/data_table.ipynb>data table notebook</a>'\n",
              "          + ' to learn more about interactive tables.';\n",
              "        element.innerHTML = '';\n",
              "        dataTable['output_type'] = 'display_data';\n",
              "        await google.colab.output.renderOutput(dataTable, element);\n",
              "        const docLink = document.createElement('div');\n",
              "        docLink.innerHTML = docLinkHtml;\n",
              "        element.appendChild(docLink);\n",
              "      }\n",
              "    </script>\n",
              "  </div>\n",
              "\n",
              "\n",
              "<div id=\"df-7423ba48-4eb7-46f1-89d1-40c914ebcad8\">\n",
              "  <button class=\"colab-df-quickchart\" onclick=\"quickchart('df-7423ba48-4eb7-46f1-89d1-40c914ebcad8')\"\n",
              "            title=\"Suggest charts\"\n",
              "            style=\"display:none;\">\n",
              "\n",
              "<svg xmlns=\"http://www.w3.org/2000/svg\" height=\"24px\"viewBox=\"0 0 24 24\"\n",
              "     width=\"24px\">\n",
              "    <g>\n",
              "        <path d=\"M19 3H5c-1.1 0-2 .9-2 2v14c0 1.1.9 2 2 2h14c1.1 0 2-.9 2-2V5c0-1.1-.9-2-2-2zM9 17H7v-7h2v7zm4 0h-2V7h2v10zm4 0h-2v-4h2v4z\"/>\n",
              "    </g>\n",
              "</svg>\n",
              "  </button>\n",
              "\n",
              "<style>\n",
              "  .colab-df-quickchart {\n",
              "      --bg-color: #E8F0FE;\n",
              "      --fill-color: #1967D2;\n",
              "      --hover-bg-color: #E2EBFA;\n",
              "      --hover-fill-color: #174EA6;\n",
              "      --disabled-fill-color: #AAA;\n",
              "      --disabled-bg-color: #DDD;\n",
              "  }\n",
              "\n",
              "  [theme=dark] .colab-df-quickchart {\n",
              "      --bg-color: #3B4455;\n",
              "      --fill-color: #D2E3FC;\n",
              "      --hover-bg-color: #434B5C;\n",
              "      --hover-fill-color: #FFFFFF;\n",
              "      --disabled-bg-color: #3B4455;\n",
              "      --disabled-fill-color: #666;\n",
              "  }\n",
              "\n",
              "  .colab-df-quickchart {\n",
              "    background-color: var(--bg-color);\n",
              "    border: none;\n",
              "    border-radius: 50%;\n",
              "    cursor: pointer;\n",
              "    display: none;\n",
              "    fill: var(--fill-color);\n",
              "    height: 32px;\n",
              "    padding: 0;\n",
              "    width: 32px;\n",
              "  }\n",
              "\n",
              "  .colab-df-quickchart:hover {\n",
              "    background-color: var(--hover-bg-color);\n",
              "    box-shadow: 0 1px 2px rgba(60, 64, 67, 0.3), 0 1px 3px 1px rgba(60, 64, 67, 0.15);\n",
              "    fill: var(--button-hover-fill-color);\n",
              "  }\n",
              "\n",
              "  .colab-df-quickchart-complete:disabled,\n",
              "  .colab-df-quickchart-complete:disabled:hover {\n",
              "    background-color: var(--disabled-bg-color);\n",
              "    fill: var(--disabled-fill-color);\n",
              "    box-shadow: none;\n",
              "  }\n",
              "\n",
              "  .colab-df-spinner {\n",
              "    border: 2px solid var(--fill-color);\n",
              "    border-color: transparent;\n",
              "    border-bottom-color: var(--fill-color);\n",
              "    animation:\n",
              "      spin 1s steps(1) infinite;\n",
              "  }\n",
              "\n",
              "  @keyframes spin {\n",
              "    0% {\n",
              "      border-color: transparent;\n",
              "      border-bottom-color: var(--fill-color);\n",
              "      border-left-color: var(--fill-color);\n",
              "    }\n",
              "    20% {\n",
              "      border-color: transparent;\n",
              "      border-left-color: var(--fill-color);\n",
              "      border-top-color: var(--fill-color);\n",
              "    }\n",
              "    30% {\n",
              "      border-color: transparent;\n",
              "      border-left-color: var(--fill-color);\n",
              "      border-top-color: var(--fill-color);\n",
              "      border-right-color: var(--fill-color);\n",
              "    }\n",
              "    40% {\n",
              "      border-color: transparent;\n",
              "      border-right-color: var(--fill-color);\n",
              "      border-top-color: var(--fill-color);\n",
              "    }\n",
              "    60% {\n",
              "      border-color: transparent;\n",
              "      border-right-color: var(--fill-color);\n",
              "    }\n",
              "    80% {\n",
              "      border-color: transparent;\n",
              "      border-right-color: var(--fill-color);\n",
              "      border-bottom-color: var(--fill-color);\n",
              "    }\n",
              "    90% {\n",
              "      border-color: transparent;\n",
              "      border-bottom-color: var(--fill-color);\n",
              "    }\n",
              "  }\n",
              "</style>\n",
              "\n",
              "  <script>\n",
              "    async function quickchart(key) {\n",
              "      const quickchartButtonEl =\n",
              "        document.querySelector('#' + key + ' button');\n",
              "      quickchartButtonEl.disabled = true;  // To prevent multiple clicks.\n",
              "      quickchartButtonEl.classList.add('colab-df-spinner');\n",
              "      try {\n",
              "        const charts = await google.colab.kernel.invokeFunction(\n",
              "            'suggestCharts', [key], {});\n",
              "      } catch (error) {\n",
              "        console.error('Error during call to suggestCharts:', error);\n",
              "      }\n",
              "      quickchartButtonEl.classList.remove('colab-df-spinner');\n",
              "      quickchartButtonEl.classList.add('colab-df-quickchart-complete');\n",
              "    }\n",
              "    (() => {\n",
              "      let quickchartButtonEl =\n",
              "        document.querySelector('#df-7423ba48-4eb7-46f1-89d1-40c914ebcad8 button');\n",
              "      quickchartButtonEl.style.display =\n",
              "        google.colab.kernel.accessAllowed ? 'block' : 'none';\n",
              "    })();\n",
              "  </script>\n",
              "</div>\n",
              "\n",
              "  <div id=\"id_b99c7ce1-8c7a-477b-a6ff-cabf172196cc\">\n",
              "    <style>\n",
              "      .colab-df-generate {\n",
              "        background-color: #E8F0FE;\n",
              "        border: none;\n",
              "        border-radius: 50%;\n",
              "        cursor: pointer;\n",
              "        display: none;\n",
              "        fill: #1967D2;\n",
              "        height: 32px;\n",
              "        padding: 0 0 0 0;\n",
              "        width: 32px;\n",
              "      }\n",
              "\n",
              "      .colab-df-generate:hover {\n",
              "        background-color: #E2EBFA;\n",
              "        box-shadow: 0px 1px 2px rgba(60, 64, 67, 0.3), 0px 1px 3px 1px rgba(60, 64, 67, 0.15);\n",
              "        fill: #174EA6;\n",
              "      }\n",
              "\n",
              "      [theme=dark] .colab-df-generate {\n",
              "        background-color: #3B4455;\n",
              "        fill: #D2E3FC;\n",
              "      }\n",
              "\n",
              "      [theme=dark] .colab-df-generate:hover {\n",
              "        background-color: #434B5C;\n",
              "        box-shadow: 0px 1px 3px 1px rgba(0, 0, 0, 0.15);\n",
              "        filter: drop-shadow(0px 1px 2px rgba(0, 0, 0, 0.3));\n",
              "        fill: #FFFFFF;\n",
              "      }\n",
              "    </style>\n",
              "    <button class=\"colab-df-generate\" onclick=\"generateWithVariable('small_df')\"\n",
              "            title=\"Generate code using this dataframe.\"\n",
              "            style=\"display:none;\">\n",
              "\n",
              "  <svg xmlns=\"http://www.w3.org/2000/svg\" height=\"24px\"viewBox=\"0 0 24 24\"\n",
              "       width=\"24px\">\n",
              "    <path d=\"M7,19H8.4L18.45,9,17,7.55,7,17.6ZM5,21V16.75L18.45,3.32a2,2,0,0,1,2.83,0l1.4,1.43a1.91,1.91,0,0,1,.58,1.4,1.91,1.91,0,0,1-.58,1.4L9.25,21ZM18.45,9,17,7.55Zm-12,3A5.31,5.31,0,0,0,4.9,8.1,5.31,5.31,0,0,0,1,6.5,5.31,5.31,0,0,0,4.9,4.9,5.31,5.31,0,0,0,6.5,1,5.31,5.31,0,0,0,8.1,4.9,5.31,5.31,0,0,0,12,6.5,5.46,5.46,0,0,0,6.5,12Z\"/>\n",
              "  </svg>\n",
              "    </button>\n",
              "    <script>\n",
              "      (() => {\n",
              "      const buttonEl =\n",
              "        document.querySelector('#id_b99c7ce1-8c7a-477b-a6ff-cabf172196cc button.colab-df-generate');\n",
              "      buttonEl.style.display =\n",
              "        google.colab.kernel.accessAllowed ? 'block' : 'none';\n",
              "\n",
              "      buttonEl.onclick = () => {\n",
              "        google.colab.notebook.generateWithVariable('small_df');\n",
              "      }\n",
              "      })();\n",
              "    </script>\n",
              "  </div>\n",
              "\n",
              "    </div>\n",
              "  </div>\n"
            ],
            "application/vnd.google.colaboratory.intrinsic+json": {
              "type": "dataframe",
              "variable_name": "small_df",
              "summary": "{\n  \"name\": \"small_df\",\n  \"rows\": 77,\n  \"fields\": [\n    {\n      \"column\": \"genre\",\n      \"properties\": {\n        \"dtype\": \"category\",\n        \"num_unique_values\": 5,\n        \"samples\": [\n          \"entertainment\",\n          \"tech\",\n          \"politics\"\n        ],\n        \"semantic_type\": \"\",\n        \"description\": \"\"\n      }\n    },\n    {\n      \"column\": \"filename\",\n      \"properties\": {\n        \"dtype\": \"string\",\n        \"num_unique_values\": 77,\n        \"samples\": [\n          \"339.txt\",\n          \"808.txt\",\n          \"47.txt\"\n        ],\n        \"semantic_type\": \"\",\n        \"description\": \"\"\n      }\n    },\n    {\n      \"column\": \"title\",\n      \"properties\": {\n        \"dtype\": \"string\",\n        \"num_unique_values\": 77,\n        \"samples\": [\n          \"Venezuela and China sign oil deal\",\n          \"Fry set for role in Hitchhiker's\",\n          \"Parmalat to return to stockmarket\"\n        ],\n        \"semantic_type\": \"\",\n        \"description\": \"\"\n      }\n    },\n    {\n      \"column\": \"content\",\n      \"properties\": {\n        \"dtype\": \"string\",\n        \"num_unique_values\": 77,\n        \"samples\": [\n          \" Venezuelan president Hugo Chavez has offered China wide-ranging access to the country's oil reserves.  The offer, made as part of a trade deal between the two countries, will allow China to operate oil fields in Venezuela and invest in new refineries. Venezuela has also offered to supply 120,000 barrels of fuel oil a month to China. Venezuela - the world's fifth largest oil exporter - sells about 60% of its output to the United States. Mr Chavez's administration, which has a strained relationship with the US, is trying to diversify sales to reduce its dependence on its largest export market.  China's quick-growing economy's need for oil has contributed to record-high oil prices this year, along with political unrest in the Middle East and supply bottlenecks. Oil prices are finishing the year roughly 30% higher than they were in January 2004.  In 2004, according to forecasts from the Ministry of Commerce, China's oil imports will be 110m tons, up 21% on the previous year. China has been a net importer of oil since the mid 1990's with more than a third of the oil and gas it consumes coming from abroad. A lack of sufficient domestic production and the need to lessen its dependence on imports from the Middle East has meant that China is looking to invest in other potential markets such as Latin America. Mr Chavez, who is visiting China, said his country would put its many of its oil facilities at the disposal of China. Chinese firms would be allowed to operate 15 mature oil fields in the east of Venezuela, which could produce more than one billion barrels, he confirmed. The two countries will also continue a joint venture agreement to produce stocks of the boiler fuel orimulsion. Mr Chavez has also invited Chinese firms to bid for gas exploration contracts which his government will offer next year in the western Gulf of Venezuela. The two countries also signed a number of other agreements covering other industries including mining. \",\n          \" Actor Stephen Fry is joining the cast of the forthcoming film adaptation of The Hitchhiker's Guide To The Galaxy.  Fry will provide the voice of The Guide, an electronic book which accompanies the story's hero Arthur Dent on his travels around the galaxy. Martin Freeman, John Malkovich, Bill Nighy and Alan Rickman are co-starring in the film, due for release in May. The late Douglas Adams' original 1977 scripts have also been turned into a series of successful books.  \\\"Being asked to do the voice of The Guide is like having your birthday on Christmas Day, discovering a winning lottery ticket in your stocking and having chocolate poured all over you,\\\" said Fry, a self-confessed fan of the book. The film's executive producer Robbie Stamp said that Adams, who died in 2001, would have been \\\"delighted\\\" with the choice of Fry for the role.  \\\"His humour and intelligence are perfect for the voice of The Guide,\\\" added Mr Stamp. Adams wrote the screenplay based on his book before his premature death, while a new radio series was aired 26 years after the first broadcast and included many of the original cast members. Hollywood star Malkovich will play religious cult leader Humma Kavula, which was especially created by Adams for the new film. Freeman, who starred in hit BBC comedy The Office, will play the role of Arthur Dent, who begins his intergalactic voyage following the destruction of the Earth. \",\n          \" Parmalat, the Italian dairy company which went bust after an accounting scandal, hopes to be back on the Italian stock exchange in July.  The firm gained protection from creditors in 2003 after revealing debts of 14bn euros ($18.34bn; \\u00a39.6bn). This was eight times higher than it had previously stated. In a statement issued on Wednesday night, Parmalat Finanziaria detailed administrators' latest plans for re-listing the shares of the group.  As part of the re-listing on the Italian stock exchange, creditors' debts are expected to be converted into shares through two new share issues amounting to more than 2bn euros. The company's creditors will be asked to vote on the plan later this year. The plan is likely to give creditors of Parmalat Finanziaria shares worth about 5.7% of the debts they are owed. This is lower than the 11.3% creditors previously hoped to receive. Creditors of Parmalat, the main operating company, are likely to see the percentage of debt they receive fall from 7.3% to 6.9%.  Several former top Parmalat executives are under investigation for the fraud scandal. Lawmakers said on Wednesday night Enrico Bondi, the turnaround specialist appointed by the Italian government as Parmalat's chief executive, spoke positively about the company during a closed-door hearing of the Chamber of Deputies industry commission. \\\"Bondi supplied us with elements of positive results on the industrial positions and on the history of debt which will find a point of solution through the Parmalat group's quotation on the market in July,\\\" Italian news agency Apcom quoted several lawmakers as saying in a statement. \"\n        ],\n        \"semantic_type\": \"\",\n        \"description\": \"\"\n      }\n    }\n  ]\n}"
            }
          },
          "metadata": {},
          "execution_count": 33
        }
      ]
    },
    {
      "cell_type": "code",
      "source": [
        "def remove_non_alphanumeric(text):\n",
        "    words = ''\n",
        "    for w in text:\n",
        "        words += w if w.isalnum() else ' '\n",
        "    return words\n",
        "\n",
        "def remove_accents(text):\n",
        "  return unidecode.unidecode(text)\n",
        "\n",
        "\n",
        "def lowercasting(tokens):\n",
        "  tokens = [w.lower() for w in tokens]\n",
        "  return tokens\n",
        "\n",
        "def remove_stop_words(tokens):\n",
        "  stop_words = set(stopwords.words('english')) #List of stop words in english\n",
        "  tokens = [token for token in tokens if token not in stop_words]\n",
        "  return tokens\n",
        "\n",
        "\n",
        "def stemming(tokens):\n",
        "  porter = PorterStemmer()\n",
        "  tokens = [porter.stem(token) for token in tokens]\n",
        "  return tokens\n",
        "\n",
        "\n",
        "def lemmanization(text):\n",
        "    nlp = spacy.load(\"en_core_web_sm\")    # Load English language model\n",
        "    doc = nlp(text)   # Process the text using the Spacy NLP\n",
        "    tokens = [token.lemma_ for token in doc]\n",
        "    return tokens\n",
        "\n",
        "\n",
        "def pre_processing_aux(text):\n",
        "  words = remove_non_alphanumeric(text)\n",
        "  words = remove_accents(words)\n",
        "  tokens = word_tokenize(words)\n",
        "  tokens = lowercasting(tokens)\n",
        "  tokens = remove_stop_words(tokens)\n",
        "  words = ' '.join(tokens)\n",
        "  tokens = lemmanization(words)\n",
        "  tokens = stemming(tokens)\n",
        "  return ' '.join(tokens)"
      ],
      "metadata": {
        "id": "9BEA9E_7BB1a"
      },
      "execution_count": 34,
      "outputs": []
    },
    {
      "cell_type": "code",
      "source": [
        "def pre_processing(df):\n",
        "    df['content'] = df['content'].apply(pre_processing_aux)\n",
        "    return df\n",
        "\n",
        "###########################################################\n",
        "# To prossegue with all dataset, put df on parameter\n",
        "# To prossegue with small dataset, put small_df in paramter\n",
        "############################################################\n",
        "\n",
        "df = pre_processing(small_df)\n",
        "df.tail()"
      ],
      "metadata": {
        "colab": {
          "base_uri": "https://localhost:8080/",
          "height": 0
        },
        "id": "qExbc4MFBEM3",
        "outputId": "8d958932-9953-451a-82c1-5858b59d7978"
      },
      "execution_count": 35,
      "outputs": [
        {
          "output_type": "execute_result",
          "data": {
            "text/plain": [
              "   genre  filename                              title  \\\n",
              "72  tech  1918.txt           Mobile games come of age   \n",
              "73  tech  1904.txt   Savvy searchers fail to spot ads   \n",
              "74  tech  1980.txt    Online games play with politics   \n",
              "75  tech  1878.txt    Junk e-mails on relentless rise   \n",
              "76  tech  2114.txt  Doors open at biggest gadget fair   \n",
              "\n",
              "                                              content  \n",
              "72  bbc news websit take look game mobil phone mat...  \n",
              "73  internet search engin user odd mix naiv sophis...  \n",
              "74  bubbl time onlin game break onto polit arena 2...  \n",
              "75  spam traffic 40 put total amount e mail junk a...  \n",
              "76  thousand technolog lover industri expert gathe...  "
            ],
            "text/html": [
              "\n",
              "  <div id=\"df-e3763baf-65a9-4aae-9b19-40218dfb5979\" class=\"colab-df-container\">\n",
              "    <div>\n",
              "<style scoped>\n",
              "    .dataframe tbody tr th:only-of-type {\n",
              "        vertical-align: middle;\n",
              "    }\n",
              "\n",
              "    .dataframe tbody tr th {\n",
              "        vertical-align: top;\n",
              "    }\n",
              "\n",
              "    .dataframe thead th {\n",
              "        text-align: right;\n",
              "    }\n",
              "</style>\n",
              "<table border=\"1\" class=\"dataframe\">\n",
              "  <thead>\n",
              "    <tr style=\"text-align: right;\">\n",
              "      <th></th>\n",
              "      <th>genre</th>\n",
              "      <th>filename</th>\n",
              "      <th>title</th>\n",
              "      <th>content</th>\n",
              "    </tr>\n",
              "  </thead>\n",
              "  <tbody>\n",
              "    <tr>\n",
              "      <th>72</th>\n",
              "      <td>tech</td>\n",
              "      <td>1918.txt</td>\n",
              "      <td>Mobile games come of age</td>\n",
              "      <td>bbc news websit take look game mobil phone mat...</td>\n",
              "    </tr>\n",
              "    <tr>\n",
              "      <th>73</th>\n",
              "      <td>tech</td>\n",
              "      <td>1904.txt</td>\n",
              "      <td>Savvy searchers fail to spot ads</td>\n",
              "      <td>internet search engin user odd mix naiv sophis...</td>\n",
              "    </tr>\n",
              "    <tr>\n",
              "      <th>74</th>\n",
              "      <td>tech</td>\n",
              "      <td>1980.txt</td>\n",
              "      <td>Online games play with politics</td>\n",
              "      <td>bubbl time onlin game break onto polit arena 2...</td>\n",
              "    </tr>\n",
              "    <tr>\n",
              "      <th>75</th>\n",
              "      <td>tech</td>\n",
              "      <td>1878.txt</td>\n",
              "      <td>Junk e-mails on relentless rise</td>\n",
              "      <td>spam traffic 40 put total amount e mail junk a...</td>\n",
              "    </tr>\n",
              "    <tr>\n",
              "      <th>76</th>\n",
              "      <td>tech</td>\n",
              "      <td>2114.txt</td>\n",
              "      <td>Doors open at biggest gadget fair</td>\n",
              "      <td>thousand technolog lover industri expert gathe...</td>\n",
              "    </tr>\n",
              "  </tbody>\n",
              "</table>\n",
              "</div>\n",
              "    <div class=\"colab-df-buttons\">\n",
              "\n",
              "  <div class=\"colab-df-container\">\n",
              "    <button class=\"colab-df-convert\" onclick=\"convertToInteractive('df-e3763baf-65a9-4aae-9b19-40218dfb5979')\"\n",
              "            title=\"Convert this dataframe to an interactive table.\"\n",
              "            style=\"display:none;\">\n",
              "\n",
              "  <svg xmlns=\"http://www.w3.org/2000/svg\" height=\"24px\" viewBox=\"0 -960 960 960\">\n",
              "    <path d=\"M120-120v-720h720v720H120Zm60-500h600v-160H180v160Zm220 220h160v-160H400v160Zm0 220h160v-160H400v160ZM180-400h160v-160H180v160Zm440 0h160v-160H620v160ZM180-180h160v-160H180v160Zm440 0h160v-160H620v160Z\"/>\n",
              "  </svg>\n",
              "    </button>\n",
              "\n",
              "  <style>\n",
              "    .colab-df-container {\n",
              "      display:flex;\n",
              "      gap: 12px;\n",
              "    }\n",
              "\n",
              "    .colab-df-convert {\n",
              "      background-color: #E8F0FE;\n",
              "      border: none;\n",
              "      border-radius: 50%;\n",
              "      cursor: pointer;\n",
              "      display: none;\n",
              "      fill: #1967D2;\n",
              "      height: 32px;\n",
              "      padding: 0 0 0 0;\n",
              "      width: 32px;\n",
              "    }\n",
              "\n",
              "    .colab-df-convert:hover {\n",
              "      background-color: #E2EBFA;\n",
              "      box-shadow: 0px 1px 2px rgba(60, 64, 67, 0.3), 0px 1px 3px 1px rgba(60, 64, 67, 0.15);\n",
              "      fill: #174EA6;\n",
              "    }\n",
              "\n",
              "    .colab-df-buttons div {\n",
              "      margin-bottom: 4px;\n",
              "    }\n",
              "\n",
              "    [theme=dark] .colab-df-convert {\n",
              "      background-color: #3B4455;\n",
              "      fill: #D2E3FC;\n",
              "    }\n",
              "\n",
              "    [theme=dark] .colab-df-convert:hover {\n",
              "      background-color: #434B5C;\n",
              "      box-shadow: 0px 1px 3px 1px rgba(0, 0, 0, 0.15);\n",
              "      filter: drop-shadow(0px 1px 2px rgba(0, 0, 0, 0.3));\n",
              "      fill: #FFFFFF;\n",
              "    }\n",
              "  </style>\n",
              "\n",
              "    <script>\n",
              "      const buttonEl =\n",
              "        document.querySelector('#df-e3763baf-65a9-4aae-9b19-40218dfb5979 button.colab-df-convert');\n",
              "      buttonEl.style.display =\n",
              "        google.colab.kernel.accessAllowed ? 'block' : 'none';\n",
              "\n",
              "      async function convertToInteractive(key) {\n",
              "        const element = document.querySelector('#df-e3763baf-65a9-4aae-9b19-40218dfb5979');\n",
              "        const dataTable =\n",
              "          await google.colab.kernel.invokeFunction('convertToInteractive',\n",
              "                                                    [key], {});\n",
              "        if (!dataTable) return;\n",
              "\n",
              "        const docLinkHtml = 'Like what you see? Visit the ' +\n",
              "          '<a target=\"_blank\" href=https://colab.research.google.com/notebooks/data_table.ipynb>data table notebook</a>'\n",
              "          + ' to learn more about interactive tables.';\n",
              "        element.innerHTML = '';\n",
              "        dataTable['output_type'] = 'display_data';\n",
              "        await google.colab.output.renderOutput(dataTable, element);\n",
              "        const docLink = document.createElement('div');\n",
              "        docLink.innerHTML = docLinkHtml;\n",
              "        element.appendChild(docLink);\n",
              "      }\n",
              "    </script>\n",
              "  </div>\n",
              "\n",
              "\n",
              "<div id=\"df-2182df67-91b9-48ef-b508-ed9304c9ce97\">\n",
              "  <button class=\"colab-df-quickchart\" onclick=\"quickchart('df-2182df67-91b9-48ef-b508-ed9304c9ce97')\"\n",
              "            title=\"Suggest charts\"\n",
              "            style=\"display:none;\">\n",
              "\n",
              "<svg xmlns=\"http://www.w3.org/2000/svg\" height=\"24px\"viewBox=\"0 0 24 24\"\n",
              "     width=\"24px\">\n",
              "    <g>\n",
              "        <path d=\"M19 3H5c-1.1 0-2 .9-2 2v14c0 1.1.9 2 2 2h14c1.1 0 2-.9 2-2V5c0-1.1-.9-2-2-2zM9 17H7v-7h2v7zm4 0h-2V7h2v10zm4 0h-2v-4h2v4z\"/>\n",
              "    </g>\n",
              "</svg>\n",
              "  </button>\n",
              "\n",
              "<style>\n",
              "  .colab-df-quickchart {\n",
              "      --bg-color: #E8F0FE;\n",
              "      --fill-color: #1967D2;\n",
              "      --hover-bg-color: #E2EBFA;\n",
              "      --hover-fill-color: #174EA6;\n",
              "      --disabled-fill-color: #AAA;\n",
              "      --disabled-bg-color: #DDD;\n",
              "  }\n",
              "\n",
              "  [theme=dark] .colab-df-quickchart {\n",
              "      --bg-color: #3B4455;\n",
              "      --fill-color: #D2E3FC;\n",
              "      --hover-bg-color: #434B5C;\n",
              "      --hover-fill-color: #FFFFFF;\n",
              "      --disabled-bg-color: #3B4455;\n",
              "      --disabled-fill-color: #666;\n",
              "  }\n",
              "\n",
              "  .colab-df-quickchart {\n",
              "    background-color: var(--bg-color);\n",
              "    border: none;\n",
              "    border-radius: 50%;\n",
              "    cursor: pointer;\n",
              "    display: none;\n",
              "    fill: var(--fill-color);\n",
              "    height: 32px;\n",
              "    padding: 0;\n",
              "    width: 32px;\n",
              "  }\n",
              "\n",
              "  .colab-df-quickchart:hover {\n",
              "    background-color: var(--hover-bg-color);\n",
              "    box-shadow: 0 1px 2px rgba(60, 64, 67, 0.3), 0 1px 3px 1px rgba(60, 64, 67, 0.15);\n",
              "    fill: var(--button-hover-fill-color);\n",
              "  }\n",
              "\n",
              "  .colab-df-quickchart-complete:disabled,\n",
              "  .colab-df-quickchart-complete:disabled:hover {\n",
              "    background-color: var(--disabled-bg-color);\n",
              "    fill: var(--disabled-fill-color);\n",
              "    box-shadow: none;\n",
              "  }\n",
              "\n",
              "  .colab-df-spinner {\n",
              "    border: 2px solid var(--fill-color);\n",
              "    border-color: transparent;\n",
              "    border-bottom-color: var(--fill-color);\n",
              "    animation:\n",
              "      spin 1s steps(1) infinite;\n",
              "  }\n",
              "\n",
              "  @keyframes spin {\n",
              "    0% {\n",
              "      border-color: transparent;\n",
              "      border-bottom-color: var(--fill-color);\n",
              "      border-left-color: var(--fill-color);\n",
              "    }\n",
              "    20% {\n",
              "      border-color: transparent;\n",
              "      border-left-color: var(--fill-color);\n",
              "      border-top-color: var(--fill-color);\n",
              "    }\n",
              "    30% {\n",
              "      border-color: transparent;\n",
              "      border-left-color: var(--fill-color);\n",
              "      border-top-color: var(--fill-color);\n",
              "      border-right-color: var(--fill-color);\n",
              "    }\n",
              "    40% {\n",
              "      border-color: transparent;\n",
              "      border-right-color: var(--fill-color);\n",
              "      border-top-color: var(--fill-color);\n",
              "    }\n",
              "    60% {\n",
              "      border-color: transparent;\n",
              "      border-right-color: var(--fill-color);\n",
              "    }\n",
              "    80% {\n",
              "      border-color: transparent;\n",
              "      border-right-color: var(--fill-color);\n",
              "      border-bottom-color: var(--fill-color);\n",
              "    }\n",
              "    90% {\n",
              "      border-color: transparent;\n",
              "      border-bottom-color: var(--fill-color);\n",
              "    }\n",
              "  }\n",
              "</style>\n",
              "\n",
              "  <script>\n",
              "    async function quickchart(key) {\n",
              "      const quickchartButtonEl =\n",
              "        document.querySelector('#' + key + ' button');\n",
              "      quickchartButtonEl.disabled = true;  // To prevent multiple clicks.\n",
              "      quickchartButtonEl.classList.add('colab-df-spinner');\n",
              "      try {\n",
              "        const charts = await google.colab.kernel.invokeFunction(\n",
              "            'suggestCharts', [key], {});\n",
              "      } catch (error) {\n",
              "        console.error('Error during call to suggestCharts:', error);\n",
              "      }\n",
              "      quickchartButtonEl.classList.remove('colab-df-spinner');\n",
              "      quickchartButtonEl.classList.add('colab-df-quickchart-complete');\n",
              "    }\n",
              "    (() => {\n",
              "      let quickchartButtonEl =\n",
              "        document.querySelector('#df-2182df67-91b9-48ef-b508-ed9304c9ce97 button');\n",
              "      quickchartButtonEl.style.display =\n",
              "        google.colab.kernel.accessAllowed ? 'block' : 'none';\n",
              "    })();\n",
              "  </script>\n",
              "</div>\n",
              "\n",
              "    </div>\n",
              "  </div>\n"
            ],
            "application/vnd.google.colaboratory.intrinsic+json": {
              "type": "dataframe",
              "summary": "{\n  \"name\": \"df\",\n  \"rows\": 5,\n  \"fields\": [\n    {\n      \"column\": \"genre\",\n      \"properties\": {\n        \"dtype\": \"category\",\n        \"num_unique_values\": 1,\n        \"samples\": [\n          \"tech\"\n        ],\n        \"semantic_type\": \"\",\n        \"description\": \"\"\n      }\n    },\n    {\n      \"column\": \"filename\",\n      \"properties\": {\n        \"dtype\": \"string\",\n        \"num_unique_values\": 5,\n        \"samples\": [\n          \"1904.txt\"\n        ],\n        \"semantic_type\": \"\",\n        \"description\": \"\"\n      }\n    },\n    {\n      \"column\": \"title\",\n      \"properties\": {\n        \"dtype\": \"string\",\n        \"num_unique_values\": 5,\n        \"samples\": [\n          \"Savvy searchers fail to spot ads\"\n        ],\n        \"semantic_type\": \"\",\n        \"description\": \"\"\n      }\n    },\n    {\n      \"column\": \"content\",\n      \"properties\": {\n        \"dtype\": \"string\",\n        \"num_unique_values\": 5,\n        \"samples\": [\n          \"internet search engin user odd mix naiv sophist suggest report search habit report we pew research center reveal 87 searcher usual find look use search engin also show spot differ pay result organ one report reveal 84 net user say regularli use googl ask jeev msn yahoo onlin almost 50 question say would trust search engin much less know inform pay result hide accord figur gather pew research averag user spend 43 minut per month carri 34 separ search look 1 9 webpag hunt signific chunk net user 36 carri search least weekli 29 ask look everi week 44 question inform look critic inform simpli find search engin user also tend loyal find site feel trust tend stick accord pew research 44 searcher use singl search engin 48 use two three small number 7 consult three site toni macklin spokesman ask jeev say result reflect research show peopl use differ search engin way site gather inform mean provid differ result queri despit like search site half question say could get inform via rout small number 17 say realli miss search engin exist remain 33 say could live without search site two third question 68 say thought result present fair unbias select inform topic find net alongsid grow sophist net user lack awar pay result mani search engin provid alongsid list websit find index web ask 62 unawar someon pay result see carri search 18 searcher say tell result pay say pew report find iron sinc nearli half user say would stop use search engin think engin clear present pay result comment mr macklin say sponsor result must clearli mark though might help queri user test show peopl need abl spot differ\"\n        ],\n        \"semantic_type\": \"\",\n        \"description\": \"\"\n      }\n    }\n  ]\n}"
            }
          },
          "metadata": {},
          "execution_count": 35
        }
      ]
    },
    {
      "cell_type": "markdown",
      "source": [
        "## Word embeddings"
      ],
      "metadata": {
        "id": "CFC-gQ5LCZWr"
      }
    },
    {
      "cell_type": "code",
      "source": [
        "!pip install gensim\n",
        "from IPython.display import Image"
      ],
      "metadata": {
        "id": "WlNBpV3awE8H",
        "colab": {
          "base_uri": "https://localhost:8080/"
        },
        "outputId": "38d385f7-f564-447c-9e28-e25791e92d0d"
      },
      "execution_count": 36,
      "outputs": [
        {
          "output_type": "stream",
          "name": "stdout",
          "text": [
            "Requirement already satisfied: gensim in /usr/local/lib/python3.10/dist-packages (4.3.3)\n",
            "Requirement already satisfied: numpy<2.0,>=1.18.5 in /usr/local/lib/python3.10/dist-packages (from gensim) (1.26.4)\n",
            "Requirement already satisfied: scipy<1.14.0,>=1.7.0 in /usr/local/lib/python3.10/dist-packages (from gensim) (1.13.1)\n",
            "Requirement already satisfied: smart-open>=1.8.1 in /usr/local/lib/python3.10/dist-packages (from gensim) (7.0.4)\n",
            "Requirement already satisfied: wrapt in /usr/local/lib/python3.10/dist-packages (from smart-open>=1.8.1->gensim) (1.16.0)\n"
          ]
        }
      ]
    },
    {
      "cell_type": "markdown",
      "source": [
        "##Word2vec"
      ],
      "metadata": {
        "id": "y7cw1jaXwJCK"
      }
    },
    {
      "cell_type": "code",
      "source": [
        "from gensim.models import Word2Vec\n",
        "from sklearn.metrics.pairwise import cosine_similarity\n",
        "\n",
        "\n",
        "def build_vocabulary(df):\n",
        "  lines_content = df['content'].tolist()\n",
        "  sentences= [line.split() for line in lines_content]\n",
        "  return sentences\n",
        "\n",
        "\n",
        "sentences = build_vocabulary(df)\n",
        "\n",
        "#Skip-gram model\n",
        "skipgram_model = Word2Vec(sentences, vector_size=100, window=5, min_count=1, sg=1)\n",
        "\n",
        "#CBOW model\n",
        "cbow_model = Word2Vec(sentences, vector_size=100, window=5, min_count=1)\n",
        "\n",
        "word_1 = 'music'\n",
        "word_2 = 'award'\n",
        "\n",
        "#comparar todas com todas subconjunto #####\n",
        "similarity = cosine_similarity(skipgram_model.wv[word_1].reshape(1, -1), cbow_model.wv[word_1].reshape(1, -1))\n",
        "print(f\"Cosine similarity of word '{word_1}' using Skip Gram and CBOW: {similarity[0, 0]}\")\n",
        "similarity = cosine_similarity(skipgram_model.wv[word_2].reshape(1, -1), cbow_model.wv[word_2].reshape(1, -1))\n",
        "print(f\"Cosine similarity of word '{word_2}' using Skip Gram and CBOW: {similarity[0, 0]}\")\n",
        "\n",
        "\n",
        "\n",
        "similarity_sg = skipgram_model.wv.similarity(word_1, word_2)\n",
        "similarity_cbow = cbow_model.wv.similarity(word_1, word_2)\n",
        "\n",
        "print(f\"Cosine similarity between '{word_1}' and '{word_2}' using Skip Gram: {similarity_sg} \")\n",
        "print(f\"Cosine similarity between '{word_1}' and '{word_2}' using CBOW: {similarity_cbow} \")"
      ],
      "metadata": {
        "id": "DQ6cDMK_wLXN",
        "colab": {
          "base_uri": "https://localhost:8080/"
        },
        "outputId": "57aa157d-cfe2-4e70-a5cc-23c95b8de312"
      },
      "execution_count": 37,
      "outputs": [
        {
          "output_type": "stream",
          "name": "stdout",
          "text": [
            "Cosine similarity of word 'music' using Skip Gram and CBOW: 0.7994922399520874\n",
            "Cosine similarity of word 'award' using Skip Gram and CBOW: 0.678618848323822\n",
            "Cosine similarity between 'music' and 'award' using Skip Gram: 0.9984922409057617 \n",
            "Cosine similarity between 'music' and 'award' using CBOW: 0.5371833443641663 \n"
          ]
        }
      ]
    },
    {
      "cell_type": "code",
      "source": [
        "sg_words = list(skipgram_model.wv.index_to_key)\n",
        "sg_word_vectors = skipgram_model.wv[sg_words]\n",
        "\n",
        "cbow_words = list(cbow_model.wv.index_to_key)\n",
        "cbow_word_vectors = cbow_model.wv[cbow_words]"
      ],
      "metadata": {
        "id": "sFYVVWsOwsiS"
      },
      "execution_count": 13,
      "outputs": []
    },
    {
      "cell_type": "markdown",
      "source": [
        "## T-SNE graphic"
      ],
      "metadata": {
        "id": "YbBDHUVPww8N"
      }
    },
    {
      "cell_type": "code",
      "source": [
        "import matplotlib.pyplot as plt\n",
        "from sklearn.manifold import TSNE\n",
        "\n",
        "def train_tsne(word_vectors):\n",
        "  tsne = TSNE(n_components=2, random_state=0)\n",
        "  word_vectors_2d = tsne.fit_transform(word_vectors)\n",
        "  return word_vectors_2d\n",
        "\n",
        "sg_2d_vectors = train_tsne(sg_word_vectors)\n",
        "cbow_2d_vectors = train_tsne(cbow_word_vectors)"
      ],
      "metadata": {
        "id": "IudsNJBxwxwo"
      },
      "execution_count": 38,
      "outputs": []
    },
    {
      "cell_type": "code",
      "source": [
        "def plot_tsne(word_vectors_2d, vocabulary_words , words_to_plot):\n",
        "  plt.figure(figsize=(10, 6))\n",
        "\n",
        "  for word in words_to_plot:\n",
        "    index = vocabulary_words.index(word)\n",
        "    x = word_vectors_2d[index, 0]\n",
        "    y = word_vectors_2d[index, 1]\n",
        "    plt.scatter(x, y)\n",
        "    plt.text(x + 0.01, y + 0.01, word, fontsize=10)\n",
        "\n",
        "  plt.xlabel(\"Dimension 1\")\n",
        "  plt.ylabel(\"Dimension 2\")\n",
        "  plt.title(f\"T-SNE Word Embeddings \")\n",
        "  plt.show()\n"
      ],
      "metadata": {
        "id": "50rMursKw0S0"
      },
      "execution_count": 39,
      "outputs": []
    },
    {
      "cell_type": "markdown",
      "source": [
        "##Skip-gram"
      ],
      "metadata": {
        "id": "1476np-Hw50Z"
      }
    },
    {
      "cell_type": "code",
      "source": [
        "import random\n",
        "import numpy as np\n",
        "\n",
        "num = 20\n",
        "random_words = np.random.choice(sg_words, size=num, replace=False)\n",
        "plot_tsne(sg_2d_vectors, sg_words , random_words)"
      ],
      "metadata": {
        "id": "LPQPmK5ww7gq",
        "colab": {
          "base_uri": "https://localhost:8080/",
          "height": 564
        },
        "outputId": "7e277e4a-8b38-4e51-b0be-c0c09060ad6c"
      },
      "execution_count": 17,
      "outputs": [
        {
          "output_type": "display_data",
          "data": {
            "text/plain": [
              "<Figure size 1000x600 with 1 Axes>"
            ],
            "image/png": "[encoded data removed]"
          },
          "metadata": {}
        }
      ]
    },
    {
      "cell_type": "code",
      "source": [
        "words =  ['show', 'music', 'cinema', 'radio']  #colocar mais palavras : 20 palavras\n",
        "plot_tsne(sg_2d_vectors, sg_words , words)"
      ],
      "metadata": {
        "id": "oltSEGjNw-gm",
        "colab": {
          "base_uri": "https://localhost:8080/",
          "height": 564
        },
        "outputId": "2e0b493e-5be8-4f86-af02-f53fbfe16c9b"
      },
      "execution_count": 18,
      "outputs": [
        {
          "output_type": "display_data",
          "data": {
            "text/plain": [
              "<Figure size 1000x600 with 1 Axes>"
            ],
            "image/png": "[encoded data removed]"
          },
          "metadata": {}
        }
      ]
    },
    {
      "cell_type": "markdown",
      "source": [
        "### CBOW"
      ],
      "metadata": {
        "id": "gOycDq8DxA14"
      }
    },
    {
      "cell_type": "code",
      "source": [
        "num = 20\n",
        "random_words = np.random.choice(cbow_words, size=num, replace=False)\n",
        "plot_tsne(cbow_2d_vectors, cbow_words , random_words)"
      ],
      "metadata": {
        "id": "RaaSX-2axBub",
        "colab": {
          "base_uri": "https://localhost:8080/",
          "height": 564
        },
        "outputId": "44628b00-d31d-4d94-dc9b-e4bdeb9d2c3a"
      },
      "execution_count": 19,
      "outputs": [
        {
          "output_type": "display_data",
          "data": {
            "text/plain": [
              "<Figure size 1000x600 with 1 Axes>"
            ],
            "image/png": "[encoded data removed]"
          },
          "metadata": {}
        }
      ]
    },
    {
      "cell_type": "code",
      "source": [
        "plot_tsne(cbow_2d_vectors, cbow_words , words)"
      ],
      "metadata": {
        "id": "UC4UupXUxD7A",
        "colab": {
          "base_uri": "https://localhost:8080/",
          "height": 564
        },
        "outputId": "52ee3320-2aee-4eda-9834-72baa4879280"
      },
      "execution_count": 20,
      "outputs": [
        {
          "output_type": "display_data",
          "data": {
            "text/plain": [
              "<Figure size 1000x600 with 1 Axes>"
            ],
            "image/png": "[encoded data removed]"
          },
          "metadata": {}
        }
      ]
    },
    {
      "cell_type": "markdown",
      "source": [
        "### Google word2vec base"
      ],
      "metadata": {
        "id": "hauFYPExvri6"
      }
    },
    {
      "cell_type": "code",
      "source": [
        "import gensim.downloader as api\n",
        "\n",
        "wv = api.load('word2vec-google-news-300')\n",
        "wv.save(\"word2vec-google-news-300.model\")"
      ],
      "metadata": {
        "id": "_nnlAaBPvial",
        "colab": {
          "base_uri": "https://localhost:8080/"
        },
        "outputId": "9104d401-afc5-4de2-857b-86482502cb3d"
      },
      "execution_count": 21,
      "outputs": [
        {
          "output_type": "stream",
          "name": "stdout",
          "text": [
            "[==================================================] 100.0% 1662.8/1662.8MB downloaded\n"
          ]
        }
      ]
    },
    {
      "cell_type": "code",
      "source": [
        "from sklearn.metrics.pairwise import cosine_similarity\n",
        "\n",
        "king_vec = np.array(wv['king'])\n",
        "man_vec = np.array(wv['man'])\n",
        "woman_vec = np.array(wv['woman'])\n",
        "queen_vec =  np.array(wv['queen'])\n",
        "boy_vec = np.array(wv['boy'])\n",
        "boys_vec = np.array(wv['boys'])\n",
        "girl_vec = np.array(wv['girl'])\n",
        "girls_vec = np.array(wv['girls'])\n",
        "\n",
        "result_vec = king_vec - man_vec + woman_vec\n",
        "cos_similarity = cosine_similarity(result_vec.reshape(1, -1), queen_vec.reshape(1, -1))\n",
        "print(f\"Similarity between 'queen' and the result of ('king' - 'man' + 'woman') : {cos_similarity[0][0]}\")\n",
        "\n",
        "cos_similarity = cosine_similarity(woman_vec.reshape(1, -1), man_vec.reshape(1, -1))\n",
        "print(f\"Similarity between 'man' and 'woman' : {cos_similarity[0][0]}\")\n",
        "\n",
        "cos_similarity = cosine_similarity(boy_vec.reshape(1, -1), girl_vec.reshape(1, -1))\n",
        "print(f\"Similarity between 'boy' and 'girl' : {cos_similarity[0][0]}\")\n",
        "\n",
        "cos_similarity = cosine_similarity(boy_vec.reshape(1, -1), man_vec.reshape(1, -1))\n",
        "print(f\"Similarity between 'boy' and 'man' : {cos_similarity[0][0]}\")\n",
        "\n",
        "cos_similarity = cosine_similarity(girl_vec.reshape(1, -1), woman_vec.reshape(1, -1))\n",
        "print(f\"Similarity between 'girl' and 'woman' : {cos_similarity[0][0]}\")\n",
        "\n",
        "cos_similarity = cosine_similarity(boy_vec.reshape(1, -1), boys_vec.reshape(1, -1))\n",
        "print(f\"Similarity between 'boy' and 'boys' : {cos_similarity[0][0]}\")\n",
        "\n",
        "cos_similarity = cosine_similarity(girl_vec.reshape(1, -1), girls_vec.reshape(1, -1))\n",
        "print(f\"Similarity between 'girl' and 'girls' : {cos_similarity[0][0]}\")"
      ],
      "metadata": {
        "id": "EKD3cqlkvlX2",
        "colab": {
          "base_uri": "https://localhost:8080/",
          "height": 228
        },
        "outputId": "64761e35-fd2e-484d-ea6c-0fabdd2e41bd"
      },
      "execution_count": 22,
      "outputs": [
        {
          "output_type": "stream",
          "name": "stdout",
          "text": [
            "Similarity between 'queen' and the result of ('king' - 'man' + 'woman') : 0.7300518155097961\n"
          ]
        },
        {
          "output_type": "error",
          "ename": "NameError",
          "evalue": "name 'woman_vec_vec' is not defined",
          "traceback": [
            "\u001b[0;31m---------------------------------------------------------------------------\u001b[0m",
            "\u001b[0;31mNameError\u001b[0m                                 Traceback (most recent call last)",
            "\u001b[0;32m<ipython-input-22-91fefa63daae>\u001b[0m in \u001b[0;36m<cell line: 16>\u001b[0;34m()\u001b[0m\n\u001b[1;32m     14\u001b[0m \u001b[0mprint\u001b[0m\u001b[0;34m(\u001b[0m\u001b[0;34mf\"Similarity between 'queen' and the result of ('king' - 'man' + 'woman') : {cos_similarity[0][0]}\"\u001b[0m\u001b[0;34m)\u001b[0m\u001b[0;34m\u001b[0m\u001b[0;34m\u001b[0m\u001b[0m\n\u001b[1;32m     15\u001b[0m \u001b[0;34m\u001b[0m\u001b[0m\n\u001b[0;32m---> 16\u001b[0;31m \u001b[0mcos_similarity\u001b[0m \u001b[0;34m=\u001b[0m \u001b[0mcosine_similarity\u001b[0m\u001b[0;34m(\u001b[0m\u001b[0mwoman_vec_vec\u001b[0m\u001b[0;34m.\u001b[0m\u001b[0mreshape\u001b[0m\u001b[0;34m(\u001b[0m\u001b[0;36m1\u001b[0m\u001b[0;34m,\u001b[0m \u001b[0;34m-\u001b[0m\u001b[0;36m1\u001b[0m\u001b[0;34m)\u001b[0m\u001b[0;34m,\u001b[0m \u001b[0mman_vec\u001b[0m\u001b[0;34m.\u001b[0m\u001b[0mreshape\u001b[0m\u001b[0;34m(\u001b[0m\u001b[0;36m1\u001b[0m\u001b[0;34m,\u001b[0m \u001b[0;34m-\u001b[0m\u001b[0;36m1\u001b[0m\u001b[0;34m)\u001b[0m\u001b[0;34m)\u001b[0m\u001b[0;34m\u001b[0m\u001b[0;34m\u001b[0m\u001b[0m\n\u001b[0m\u001b[1;32m     17\u001b[0m \u001b[0mprint\u001b[0m\u001b[0;34m(\u001b[0m\u001b[0;34mf\"Similarity between 'man' and 'woman' : {cos_similarity[0][0]}\"\u001b[0m\u001b[0;34m)\u001b[0m\u001b[0;34m\u001b[0m\u001b[0;34m\u001b[0m\u001b[0m\n\u001b[1;32m     18\u001b[0m \u001b[0;34m\u001b[0m\u001b[0m\n",
            "\u001b[0;31mNameError\u001b[0m: name 'woman_vec_vec' is not defined"
          ]
        }
      ]
    },
    {
      "cell_type": "code",
      "source": [
        "import gensim.downloader as api\n",
        "\n",
        "glove = api.load(\"glove-wiki-gigaword-300\")"
      ],
      "metadata": {
        "id": "oO5GEezUvxaa"
      },
      "execution_count": null,
      "outputs": []
    },
    {
      "cell_type": "code",
      "source": [
        "king_vec = np.array(glove['king'])\n",
        "man_vec = np.array(glove['man'])\n",
        "woman_vec = np.array(glove['woman'])\n",
        "queen_vec =  np.array(glove['queen'])\n",
        "boy_vec = np.array(glove['boy'])\n",
        "boys_vec = np.array(glove['boys'])\n",
        "girl_vec = np.array(glove['girl'])\n",
        "girls_vec = np.array(glove['girls'])\n",
        "\n",
        "result_vec = king_vec - man_vec + woman_vec\n",
        "cos_similarity = cosine_similarity(result_vec.reshape(1, -1), queen_vec.reshape(1, -1))\n",
        "print(f\"Similarity between 'queen' and the result of ('king' - 'man' + 'woman') : {cos_similarity[0][0]}\")\n",
        "\n",
        "cos_similarity = cosine_similarity(queen_vec.reshape(1, -1), man_vec.reshape(1, -1))\n",
        "print(f\"Similarity between 'man' and 'woman' : {cos_similarity[0][0]}\")\n",
        "\n",
        "cos_similarity = cosine_similarity(boy_vec.reshape(1, -1), girl_vec.reshape(1, -1))\n",
        "print(f\"Similarity between 'boy' and 'girl' : {cos_similarity[0][0]}\")\n",
        "\n",
        "cos_similarity = cosine_similarity(boy_vec.reshape(1, -1), man_vec.reshape(1, -1))\n",
        "print(f\"Similarity between 'boy' and 'man' : {cos_similarity[0][0]}\")\n",
        "\n",
        "cos_similarity = cosine_similarity(girl_vec.reshape(1, -1), woman_vec.reshape(1, -1))\n",
        "print(f\"Similarity between 'girl' and 'woman' : {cos_similarity[0][0]}\")\n",
        "\n",
        "cos_similarity = cosine_similarity(boy_vec.reshape(1, -1), boys_vec.reshape(1, -1))\n",
        "print(f\"Similarity between 'boy' and 'boys' : {cos_similarity[0][0]}\")\n",
        "\n",
        "cos_similarity = cosine_similarity(girl_vec.reshape(1, -1), girls_vec.reshape(1, -1))\n",
        "print(f\"Similarity between 'girl' and 'girls' : {cos_similarity[0][0]}\")"
      ],
      "metadata": {
        "id": "XYZ9nz1xvyMi"
      },
      "execution_count": null,
      "outputs": []
    },
    {
      "cell_type": "markdown",
      "source": [
        "# Referências\n",
        "\n"
      ],
      "metadata": {
        "id": "ld7DXnojZluT"
      }
    },
    {
      "cell_type": "markdown",
      "source": [
        "“O que é Word2Vec e como funciona?” edrone | CRM for e-commerce & marketing automation, 26 July 2022, https://edrone.me/pt/blog/o-que-e-word2vec\n",
        "\n",
        "Fonseca, Camilla. “Word Embedding: Fazendo o Computador Entender o Significado Das Palavras.” Turing Talks, 23 Jan. 2021, https://medium.com/turing-talks/word-embedding-fazendo-o-computador-entender-o-significado-das-palavras-92fe22745057.\n",
        "\n",
        "Doshi, Sanket. “Skip-Gram: NLP Context Words Prediction Algorithm.” Medium, 17 Mar. 2019, https://towardsdatascience.com/skip-gram-nlp-context-words-prediction-algorithm-5bbf34f84e0c\n",
        "\n",
        "\n",
        "“Weights & Biases.” W&B, https://wandb.ai/authors/embeddings-2/reports/An-Introduction-to-the-Global-Vectors-GloVe-Algorithm--VmlldzozNDg2NTQ. Accessed 14 Aug. 2024\n",
        "\n",
        "\n",
        "@article{wang2020survey,\n",
        "  title={A survey of word embeddings based on deep learning},\n",
        "  author={Wang, Shirui and Zhou, Wenan and Jiang, Chao},\n",
        "  journal={Computing},\n",
        "  volume={102},\n",
        "  number={3},\n",
        "  pages={717--740},\n",
        "  year={2020},\n",
        "  publisher={Springer}\n",
        "}\n",
        "\n",
        "\n",
        "@article{mikolov2013,\n",
        "  author = {Mikolov, Tomas and Sutskever, Ilya and Chen, Kai and Corrado, Greg and Dean, Jeff},\n",
        "  title = {Efficient Estimation of Word Representations in Vector Space},\n",
        "  journal = {arXiv preprint arXiv:1301.3781},\n",
        "  year = {2013},\n",
        "  url = {https://arxiv.org/abs/1301.3781}\n",
        "}\n",
        "\n",
        "@inproceedings{pennington2014glove,\n",
        "  author    = {Jeffrey Pennington and Richard Socher and Christopher D. Manning},\n",
        "  title     = {GloVe: Global Vectors for Word Representation},\n",
        "  booktitle = {Proceedings of the 2014 Conference on Empirical Methods in Natural Language Processing (EMNLP)},\n",
        "  year      = {2014},\n",
        "  publisher = {Association for Computational Linguistics},\n",
        "  url       = {https://nlp.stanford.edu/pubs/glove.pdf}\n",
        "}\n"
      ],
      "metadata": {
        "id": "g9PepBjUA_Gi"
      }
    }
  ]
}