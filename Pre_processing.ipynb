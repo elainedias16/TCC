{
  "nbformat": 4,
  "nbformat_minor": 0,
  "metadata": {
    "colab": {
      "provenance": [],
      "include_colab_link": true
    },
    "kernelspec": {
      "name": "python3",
      "display_name": "Python 3"
    },
    "language_info": {
      "name": "python"
    }
  },
  "cells": [
    {
      "cell_type": "markdown",
      "metadata": {
        "id": "view-in-github",
        "colab_type": "text"
      },
      "source": [
        "<a href=\"https://colab.research.google.com/github/elainedias16/TCC/blob/main/Pre_processing.ipynb\" target=\"_parent\"><img src=\"https://colab.research.google.com/assets/colab-badge.svg\" alt=\"Open In Colab\"/></a>"
      ]
    },
    {
      "cell_type": "markdown",
      "source": [
        "# Pré processamento"
      ],
      "metadata": {
        "id": "6jlg7UjuJNWI"
      }
    },
    {
      "cell_type": "markdown",
      "source": [
        "## Motivação"
      ],
      "metadata": {
        "id": "PvHR_zqGJSlM"
      }
    },
    {
      "cell_type": "markdown",
      "source": [
        "O *pré processamento* é um conjunto de técnicas que transforma dados brutos em um formato adequado para serem utilizados em tarefas posteriores. No contexto de Processamento de Linguaguem Natural (NLP), envolve Remoção de caracateres não alfanuméricos, Tokenização, Remoção de acentos, Lowercasing , Remoção de Stop-words, Stemming e Lematização. Dependendo da aplicação, podem ser adicionadas ou removidas etapas do pré processamento. A importância da qualidade de dados é tão grande que gerou o famoso ditado \"Garbage in, garbage out\" (GIGO), que associa a qualidade da saída de um modelo à qualidade de sua entrada, por isso realizar um bom pré-processamento é fundamental em ciência de dados.\n",
        "\n",
        "Além do pré-processamento, na fase inicial de análise de um dataset, é bastante comum o uso de técnicas de Análise Exploratória de Dados(AED) e Visualização de Dados. Tais técnicas são bastante importantes, pois permitem a compreensão dos dados, bem como encontrar padrões e detectar anomalias nos mesmos. Por vezes, a Análise Exploratória de Dados obtém insignts que ajudam a escolher quais algoritmos de aprendizado de máquinas devem ser utilizados e/ou identificam mudanças que devem ser feitas no pré processamento. Em alguns casos, o pré processamento é realizados após a AED e Visualização dos Dados."
      ],
      "metadata": {
        "id": "p28xC_YsMYl9"
      }
    },
    {
      "cell_type": "markdown",
      "source": [
        "## Resultados esperados\n"
      ],
      "metadata": {
        "id": "OM6vd8xqJcVE"
      }
    },
    {
      "cell_type": "markdown",
      "source": [
        "Neste laboratório, será estudado como realizar a Análise Exploratória, Visualização e o Pré Processamento de dados textuais, usando como exemplo o dataset **BBC News Archive**, o qual pode ser encontrado em [1]. Assim, espera-se que os alunos compreendam plenamente tais conceitos. Ademais, espera-se que os estudantes estejam aptos a realizar Pré Processamento, AED e Visualização de Dados em qualquer conjunto de dados, podendo adaptar os passos do roteiro conforme as necessidades específicas da aplicação a ser desenvolvida. Para praticar os conceitos abordados, os alunos deverão aplicar as técnicas estudadas no dataset **Movie Dataset: Budgets, Genres, Insights**, disponível em [2].\n",
        "\n",
        "[1] https://www.kaggle.com/datasets/hgultekin/bbcnewsarchive?select=bbc-news-data.csv\n",
        "\n",
        "[2] https://www.kaggle.com/datasets/utkarshx27/movies-dataset"
      ],
      "metadata": {
        "id": "ae7AKspRNBc0"
      }
    },
    {
      "cell_type": "markdown",
      "source": [
        "## Fundamentação teórica"
      ],
      "metadata": {
        "id": "w878GFJGJUon"
      }
    },
    {
      "cell_type": "markdown",
      "source": [
        "### Pré processamento"
      ],
      "metadata": {
        "id": "BpAHtOHN82ZS"
      }
    },
    {
      "cell_type": "markdown",
      "source": [
        "O pré processamento transforma dados brutos em dados passíveis de serem utilizados em Inteligência Artificial. Assim, dado uma base de dados, é na fase de pré processamento que é realizada a verificação de dados ausentes ou inconsistes, a normalização, padronização e tranformação dos dados. A quantidade de etapas do pré processamento pode variar de aplicação para aplicação, mas o conceito é o mesmo: transformar dados brutos em um formato adequado para serem utilizados.\n",
        "\n",
        "Neste laboratório, serão realizadas as seguintes etapas de pré processamento: Lowercasing , Tokenização, Remoção de caracteres não alfanuméricos , Remoção de acentos, Remoção de stop-words, Lematização e Stemming.\n",
        "\n",
        "#### Lowercasing\n",
        "\n",
        "Lowercasing é o processo de converter os caracteres de um texto para caracteres minúsculos. Por exemplo, na sentença \"Hello World\", após o lowercasing, a sentença se tornaria \"hello world\".\n",
        "\n",
        "Esse processo é importante porque elimina a distinção entre caracteres maiúsculos e minúsculos, reduzindo o número de caracteres únicos no conjunto de dados. Em tarefas de classificação e busca, o lowercasing é especialmente relevante, pois uniformiza palavras como \"Laranja\" e \"laranja\", o que pode reduzir o número de classes distintas no dataset para a classificação e diminuir o tamanho da busca, otimizando-a.\n",
        "\n",
        "#### Tokenização\n",
        "\n",
        "A tokenização é o processo de transformar dados textuais em unidades menores, chamadas tokens, que podem ser palavras, caracteres ou subpalavras. O objetivo da tokenização é simplificar o processamento do texto, segmentando-o em partes menores para análises posteriores. Por exemplo, dada a frase de Machado de Assis: \"Ao verme que primeiro roeu as frias carnes do meu cadáver dedico com saudosa lembrança estas memórias póstumas\".\n",
        "\n",
        "Tokenização por palavras:\n",
        "\n",
        "['Ao', 'verme', 'que', 'primeiro', 'roeu', 'as', 'frias', 'carnes', 'do', 'meu', 'cadáver', 'dedico', 'com', 'saudosa', 'lembrança', 'estas', 'memórias', 'póstumas.']\n",
        "\n",
        "\n",
        "Tokenização por caraceteres :\n",
        "\n",
        "['A', 'o', ' ', 'v', 'e', 'r', 'm', 'e', ' ', 'q', 'u', 'e', ' ', 'p', 'r', 'i', 'm', 'e', 'i', 'r', 'o', ' ', 'r', 'o', 'e', 'u', ' ', 'a', 's', ' ', 'f', 'r', 'i', 'a', 's', ' ', 'c', 'a', 'r', 'n', 'e', 's', ' ', 'd', 'o', ' ', 'm', 'e', 'u', ' ', 'c', 'a', 'd', 'á', 'v', 'e', 'r', ',', ' ', 'd', 'e', 'd', 'i', 'c', 'o', ' ', 'c', 'o', 'm', ' ', 's', 'a', 'u', 'd', 'o', 's', 'a', ' ', 'l', 'e', 'm', 'b', 'r', 'a', 'n', 'ç', 'a', ' ', 'e', 's', 't', 'a', 's', ' ', 'm', 'e', 'm', 'ó', 'r', 'i', 'a', 's', ' ', 'p', 'ó', 's', 't', 'u', 'm', 'a', 's', '.']\n",
        "\n",
        "A tokenização por subpalavras não é tão intuitiva. Na palavra \"verme\", poderia-se separar \"ver\" e \"me\", porém , esse modo de tokenizar é mais indicado para idiomas que costumam formar palavras a partir da combinação de outras. No português, existem alguns exemplos como \"guarda-sol\", \"guarda-chuva\", entre outras. Apesar disso, no português a tokenização costuma ser por palavras.\n",
        "\n",
        "\n",
        "\n",
        "#### Remoção de caracteres não alfanuméricos\n",
        "\n",
        "A etapa de remoção de caracteres não alfanuméricos consistes em remover todos os caracteres que não sejam letras ou algarismos de um cadeia de caracteres. Por exemplo, na sentença :\n",
        "\n",
        "**\"Olá! Como você está? Eu estou feliz porque o dia está muito bonito hoje! :) ^^ '-' xD\".**\n",
        "\n",
        "Após a remoção de caracteres não afanuméricos, a sentença seria :\n",
        "\n",
        "**\"Olá Como você está Eu estou feliz porque o dia está muito bonito hoje xD\"**\n",
        "\n",
        "A remoção de caracteres não alfanuméricos é bastante comum , pois diminiu o tamanho do vocabulário e o simplifica bem como facilita as etapas de lematização e stemming, que serão explicadas posteriormente. Ademais, a remoção de caracteres não alfanumérciso permite ao modelo focar nas palavras que trazem mais informação semântica ao texto.\n",
        "\n",
        "#### Remoção de acentos\n",
        "\n",
        "A remoção de acentos é uma técnica bastante comum no pré-processamento que visa simplificar o vocabulário e padronizar as palavras. Ao eliminar os acentos, palavras como \"mecânica\" e \"mecanica\" são consideradas idênticas. Essa simplicação é bastante útil pois reduz a variação das palavras, o que também facilita as técnicas de lematização e stemming.\n",
        "\n",
        "#### Remoção de stop-words\n",
        "\n",
        "Stop-words são palavras extremamente comuns em um conjunto de texto, mas que trazem pouco significado semântico. Nesse sentido, a maioria da stop-words são artigos, preposições, conjunções e pronomes. Por exemplo:\n",
        "\n",
        "* Artigos: o, a , os, as, um, uns, uma, umas\n",
        "* Preposições : a , ante, após, com, contra, de, desde ...\n",
        "* Conjunções : que, se , mas, porém\n",
        "* Pronomes: meu, seu, teu ...\n",
        "\n",
        "Cada idioma possui uma lista de stop-words e nem todas as palavras das classes gramaticais citadas são stop-words. Também é possível que palavras de outras classes gramaticais sejam stop-words. Assim sendo, é possível utilizar uma função de remoção pronta de uma biblioteca ou criar uma lista de palavras e removê-la manualmente dependendo da aplicação.\n",
        "\n",
        "A remoção de stop-words é importante pois reduz o vocabulário, mantendo palavras que trazem maior informação semântica ao texto. Essa etapa de pré processamento é especialmente importante em aplicações como busca e classificação de texto.\n",
        "\n",
        "#### Lematização\n",
        "\n",
        "A lematização é uma técnica que visa reduzir uma palavra a sua forma canônica, ou seja, a sua forma base, sendo esta também chamada de *lemma*. Por exemplo, considere as palavras abaixo e seu *lemma*:\n",
        "\n",
        "\\begin{array}{|c|ccccc|}\n",
        "  \\hline Palavras\n",
        "  & Lemma \\\\\n",
        "  \\hline\n",
        "  going, went, gone     & go \\\\\n",
        "  better , best, goodest  & good \\\\\n",
        "  casa, casinha, casão, casas & casa \\\\\n",
        "  fazer , fazendo, fiz     & fazer \\\\\n",
        "  \\hline\n",
        "\\end{array}\n",
        "\n",
        "É possível perceber a lematização reduz a palavra ao seu significado essencial, o que facilita a análise de texto. A lematização é muito importante em tarefas como busca e análise de sentimentos.\n",
        "\n",
        "#### Stemming\n",
        "\n",
        "O stemming é uma técnica de pré processamento que visa reduzir palavras flexionadas ou derivadas a sua raíz (stem). Essa redução ocorre pela remoção de um sufixo e/ou prefixo de uma palavra. Por exemplo, considere as palavras abaixo e seu *stem*:\n",
        "\n",
        "\\begin{array}{|c|ccccc|}\n",
        "  \\hline Palavras\n",
        "  & Stem \\\\\n",
        "  \\hline\n",
        "  improving, improved, improvements    & improv \\\\\n",
        "  working, work, works  & work \\\\\n",
        "  estudando, estudar, estudei & estud \\\\\n",
        "  brincando, brincar, brincou & brinc \\\\\n",
        "  \\hline\n",
        "\\end{array}\n",
        "\n",
        "Note que o stemming é parecido com a lematização. A diferença é que a lematização é uma técnica mais sofisticada que considerada o significa semântico das palavras. O stem, diferentemente do lemma, nem sempre é uma palavra gramaticalmente correta, com significado real.\n",
        "\n",
        "Tanto o stemming quanto a lematização são importantes para tarefas como agrupamento, classificação e busca, pois simplifica palavras semelhantes a uma forma única.\n"
      ],
      "metadata": {
        "id": "cPjkiua3WYcf"
      }
    },
    {
      "cell_type": "markdown",
      "source": [
        "### Visualização de Dados"
      ],
      "metadata": {
        "id": "FxjWQwAZ9EMl"
      }
    },
    {
      "cell_type": "markdown",
      "source": [
        "A Visualização de Dados é o processo de representar dados de forma gráfica ou visual, com o objetivo de comunicar informações de maneira rápida e eficiente. Em muitos casos, os datasets podem ser extremamente grandes ou conter informações provenientes de diversas fontes, tornando a Visualização de Dados essencial para uma compreensão mais profunda e rápida do conjunto de dados.\n",
        "\n",
        "Alguns dos gráficos mais comuns na visualização de dados incluem:\n",
        "\n",
        "*   Gráficos de Barras: Utilizados para comparar categorias ou grupos, destacando\n",
        "as diferenças de magnitude entre eles.\n",
        "*   Gráficos de Linhas: Utilizados para mostrar a evolução dos dados ao longo do tempo ou para comparar diferentes séries temporais.\n",
        "*   Histogramas: Representam a distribuição de dados contínuos, ilustrando a frequência dos valores em diferentes intervalos.\n",
        "*   Boxplots: Mostram a distribuição dos dados, evidenciando quartis, mediana, e possíveis outliers.\n",
        "\n",
        "\n",
        "O uso de gráficos e diagramas facilita a compreensão rápida e clara de informações, especialmente durante a fase de exploração de um dataset, quando ainda há poucas informações disponíveis. Nessa etapa, a visualização dos dados pode ser extremamente útil para identificar padrões e anomalias que poderiam passar despercebidos em análises puramente numéricas.\n",
        "\n",
        "Além disso, a Visualização de Dados não se limita à exploração inicial. Ela também é fundamental para o monitoramento contínuo de aplicações e para apoiar a tomada de decisões estratégicas, permitindo que insights sejam transformados em ações com maior eficácia.\n",
        "\n",
        "\n"
      ],
      "metadata": {
        "id": "e_BQ7kbK9Hm_"
      }
    },
    {
      "cell_type": "markdown",
      "source": [
        "### Análise Exploratória de Dados (AED)"
      ],
      "metadata": {
        "id": "ddqNEoKYDyk8"
      }
    },
    {
      "cell_type": "markdown",
      "source": [
        "A Análise Exploratória de Dados (AED), assim como a Visualização de Dados, tem como objetivo compreender melhor o dataset, identificar padrões, outliers e relações entre os dados. No entanto, a AED vai além da visualização ao incluir também o cálculo de medidas estatísticas básicas e o teste de hipóteses preliminares sobre o dataset. Essa abordagem foi amplamente promovida pelo cientista John Tukey em seu livro \"Exploratory Data Analysis\"  \\cite{tukey1977eda}\n",
        "\n",
        "Tukey defendia a formulação de hipóteses iniciais sobre os dados com o intuito de testá-las, permitindo a validação ou refutação das mesmas. Essa estratégia, por sua vez, poderia levar à criação de novos experimentos, à reavaliação das estratégias analíticas ou à determinação da necessidade de coletar mais dados. A abordagem exploratória proposta por Tukey visa, portanto, a construção de um entendimento mais profundo dos dados antes de se avançar para análises estatísticas mais complexas.\n",
        "\n",
        "Ademais, é bastante comum que a Análise Exploratória de Dados seja feita em conjunto com a Visualização de Dados, visto que uma complementa a outra. Nesse sentido, cálculos realizados durante a AED podem ser representados graficamente, de forma a facilitar o entendimento e comparação dos mesmos. Por outro lado, a Visualização de Dados pode levar a mais questionamentos e hipóteses e à realização de novos cálculos estatísticos adicionais. Dessa forma, tanto AED quanto a Visulização de Dados tem como objetivo principal melhorar a compreensão dos dados.\n",
        "\n",
        "O pré-processamento, a Análise Exploratória de Dados e a Visualização de Dados são frequentemente realizadas em conjunto, pois essas atividades são ajudam a preparar e entender os dados antes da aplicação de algoritmos de aprendizado de máquina."
      ],
      "metadata": {
        "id": "qu4sGDncEkCS"
      }
    },
    {
      "cell_type": "markdown",
      "source": [
        "## Código"
      ],
      "metadata": {
        "id": "9cUPNehxJYL8"
      }
    },
    {
      "cell_type": "markdown",
      "source": [
        "Esta seção descreve como realizar operações de Pré Processamento de textos em python usando as bibliotecas \"nltk\", \"spaCy\" e \"unidecode\". A base de dados **BBC News Archive** será utilizada no exemplo. Esta base de dados contém notícias do site da BBC, publicadas entre 2004 e 2005. As notícias são divididas em 5 classes: \"business\", \"entertainment\", \"politics\", \"sport\" e \"tech\".\n",
        "O dataset pode ser obtido em [1].\n",
        "\n",
        "\n",
        "Inicialmente, a base de dados será lida em arquivo no formato csv. Em seguida, uma sequência de operações de Pré Processamento, Visualização e Análise de Dados serão realizadas e o resultado de cada operação será apresentado.\n",
        "\n",
        "\n",
        "[1] https://www.kaggle.com/datasets/hgultekin/bbcnewsarchive?select=bbc-news-data.csv\n"
      ],
      "metadata": {
        "id": "NujXNf6LuLo7"
      }
    },
    {
      "cell_type": "markdown",
      "source": [
        "### Leitura do Dataset"
      ],
      "metadata": {
        "id": "sVviaTlJvxbm"
      }
    },
    {
      "cell_type": "markdown",
      "source": [
        "O método abaixo realiza a leitura do dataset BBC News a partir do método pandas *read_table* . Após a leitura, a primeira linha do DataFrame é removida, por ser o cabeçalho. Além disso, os índices são resetados para começarem a partir no número 0."
      ],
      "metadata": {
        "id": "ttRGvooMvSmK"
      }
    },
    {
      "cell_type": "code",
      "execution_count": null,
      "metadata": {
        "id": "yrFlBMDsJJnx",
        "colab": {
          "base_uri": "https://localhost:8080/",
          "height": 206
        },
        "outputId": "b5f0b364-f163-4a6e-af00-975eab773d22"
      },
      "outputs": [
        {
          "output_type": "execute_result",
          "data": {
            "text/plain": [
              "      genre filename                              title  \\\n",
              "0  business  001.txt  Ad sales boost Time Warner profit   \n",
              "1  business  002.txt   Dollar gains on Greenspan speech   \n",
              "2  business  003.txt  Yukos unit buyer faces loan claim   \n",
              "3  business  004.txt  High fuel prices hit BA's profits   \n",
              "4  business  005.txt  Pernod takeover talk lifts Domecq   \n",
              "\n",
              "                                             content  \n",
              "0   Quarterly profits at US media giant TimeWarne...  \n",
              "1   The dollar has hit its highest level against ...  \n",
              "2   The owners of embattled Russian oil giant Yuk...  \n",
              "3   British Airways has blamed high fuel prices f...  \n",
              "4   Shares in UK drinks and food firm Allied Dome...  "
            ],
            "text/html": [
              "\n",
              "  <div id=\"df-1a7d2504-5a49-4152-b2b8-7c2411c271ef\" class=\"colab-df-container\">\n",
              "    <div>\n",
              "<style scoped>\n",
              "    .dataframe tbody tr th:only-of-type {\n",
              "        vertical-align: middle;\n",
              "    }\n",
              "\n",
              "    .dataframe tbody tr th {\n",
              "        vertical-align: top;\n",
              "    }\n",
              "\n",
              "    .dataframe thead th {\n",
              "        text-align: right;\n",
              "    }\n",
              "</style>\n",
              "<table border=\"1\" class=\"dataframe\">\n",
              "  <thead>\n",
              "    <tr style=\"text-align: right;\">\n",
              "      <th></th>\n",
              "      <th>genre</th>\n",
              "      <th>filename</th>\n",
              "      <th>title</th>\n",
              "      <th>content</th>\n",
              "    </tr>\n",
              "  </thead>\n",
              "  <tbody>\n",
              "    <tr>\n",
              "      <th>0</th>\n",
              "      <td>business</td>\n",
              "      <td>001.txt</td>\n",
              "      <td>Ad sales boost Time Warner profit</td>\n",
              "      <td>Quarterly profits at US media giant TimeWarne...</td>\n",
              "    </tr>\n",
              "    <tr>\n",
              "      <th>1</th>\n",
              "      <td>business</td>\n",
              "      <td>002.txt</td>\n",
              "      <td>Dollar gains on Greenspan speech</td>\n",
              "      <td>The dollar has hit its highest level against ...</td>\n",
              "    </tr>\n",
              "    <tr>\n",
              "      <th>2</th>\n",
              "      <td>business</td>\n",
              "      <td>003.txt</td>\n",
              "      <td>Yukos unit buyer faces loan claim</td>\n",
              "      <td>The owners of embattled Russian oil giant Yuk...</td>\n",
              "    </tr>\n",
              "    <tr>\n",
              "      <th>3</th>\n",
              "      <td>business</td>\n",
              "      <td>004.txt</td>\n",
              "      <td>High fuel prices hit BA's profits</td>\n",
              "      <td>British Airways has blamed high fuel prices f...</td>\n",
              "    </tr>\n",
              "    <tr>\n",
              "      <th>4</th>\n",
              "      <td>business</td>\n",
              "      <td>005.txt</td>\n",
              "      <td>Pernod takeover talk lifts Domecq</td>\n",
              "      <td>Shares in UK drinks and food firm Allied Dome...</td>\n",
              "    </tr>\n",
              "  </tbody>\n",
              "</table>\n",
              "</div>\n",
              "    <div class=\"colab-df-buttons\">\n",
              "\n",
              "  <div class=\"colab-df-container\">\n",
              "    <button class=\"colab-df-convert\" onclick=\"convertToInteractive('df-1a7d2504-5a49-4152-b2b8-7c2411c271ef')\"\n",
              "            title=\"Convert this dataframe to an interactive table.\"\n",
              "            style=\"display:none;\">\n",
              "\n",
              "  <svg xmlns=\"http://www.w3.org/2000/svg\" height=\"24px\" viewBox=\"0 -960 960 960\">\n",
              "    <path d=\"M120-120v-720h720v720H120Zm60-500h600v-160H180v160Zm220 220h160v-160H400v160Zm0 220h160v-160H400v160ZM180-400h160v-160H180v160Zm440 0h160v-160H620v160ZM180-180h160v-160H180v160Zm440 0h160v-160H620v160Z\"/>\n",
              "  </svg>\n",
              "    </button>\n",
              "\n",
              "  <style>\n",
              "    .colab-df-container {\n",
              "      display:flex;\n",
              "      gap: 12px;\n",
              "    }\n",
              "\n",
              "    .colab-df-convert {\n",
              "      background-color: #E8F0FE;\n",
              "      border: none;\n",
              "      border-radius: 50%;\n",
              "      cursor: pointer;\n",
              "      display: none;\n",
              "      fill: #1967D2;\n",
              "      height: 32px;\n",
              "      padding: 0 0 0 0;\n",
              "      width: 32px;\n",
              "    }\n",
              "\n",
              "    .colab-df-convert:hover {\n",
              "      background-color: #E2EBFA;\n",
              "      box-shadow: 0px 1px 2px rgba(60, 64, 67, 0.3), 0px 1px 3px 1px rgba(60, 64, 67, 0.15);\n",
              "      fill: #174EA6;\n",
              "    }\n",
              "\n",
              "    .colab-df-buttons div {\n",
              "      margin-bottom: 4px;\n",
              "    }\n",
              "\n",
              "    [theme=dark] .colab-df-convert {\n",
              "      background-color: #3B4455;\n",
              "      fill: #D2E3FC;\n",
              "    }\n",
              "\n",
              "    [theme=dark] .colab-df-convert:hover {\n",
              "      background-color: #434B5C;\n",
              "      box-shadow: 0px 1px 3px 1px rgba(0, 0, 0, 0.15);\n",
              "      filter: drop-shadow(0px 1px 2px rgba(0, 0, 0, 0.3));\n",
              "      fill: #FFFFFF;\n",
              "    }\n",
              "  </style>\n",
              "\n",
              "    <script>\n",
              "      const buttonEl =\n",
              "        document.querySelector('#df-1a7d2504-5a49-4152-b2b8-7c2411c271ef button.colab-df-convert');\n",
              "      buttonEl.style.display =\n",
              "        google.colab.kernel.accessAllowed ? 'block' : 'none';\n",
              "\n",
              "      async function convertToInteractive(key) {\n",
              "        const element = document.querySelector('#df-1a7d2504-5a49-4152-b2b8-7c2411c271ef');\n",
              "        const dataTable =\n",
              "          await google.colab.kernel.invokeFunction('convertToInteractive',\n",
              "                                                    [key], {});\n",
              "        if (!dataTable) return;\n",
              "\n",
              "        const docLinkHtml = 'Like what you see? Visit the ' +\n",
              "          '<a target=\"_blank\" href=https://colab.research.google.com/notebooks/data_table.ipynb>data table notebook</a>'\n",
              "          + ' to learn more about interactive tables.';\n",
              "        element.innerHTML = '';\n",
              "        dataTable['output_type'] = 'display_data';\n",
              "        await google.colab.output.renderOutput(dataTable, element);\n",
              "        const docLink = document.createElement('div');\n",
              "        docLink.innerHTML = docLinkHtml;\n",
              "        element.appendChild(docLink);\n",
              "      }\n",
              "    </script>\n",
              "  </div>\n",
              "\n",
              "\n",
              "<div id=\"df-dc8a4657-3017-4859-96d6-33fc8de0bb1f\">\n",
              "  <button class=\"colab-df-quickchart\" onclick=\"quickchart('df-dc8a4657-3017-4859-96d6-33fc8de0bb1f')\"\n",
              "            title=\"Suggest charts\"\n",
              "            style=\"display:none;\">\n",
              "\n",
              "<svg xmlns=\"http://www.w3.org/2000/svg\" height=\"24px\"viewBox=\"0 0 24 24\"\n",
              "     width=\"24px\">\n",
              "    <g>\n",
              "        <path d=\"M19 3H5c-1.1 0-2 .9-2 2v14c0 1.1.9 2 2 2h14c1.1 0 2-.9 2-2V5c0-1.1-.9-2-2-2zM9 17H7v-7h2v7zm4 0h-2V7h2v10zm4 0h-2v-4h2v4z\"/>\n",
              "    </g>\n",
              "</svg>\n",
              "  </button>\n",
              "\n",
              "<style>\n",
              "  .colab-df-quickchart {\n",
              "      --bg-color: #E8F0FE;\n",
              "      --fill-color: #1967D2;\n",
              "      --hover-bg-color: #E2EBFA;\n",
              "      --hover-fill-color: #174EA6;\n",
              "      --disabled-fill-color: #AAA;\n",
              "      --disabled-bg-color: #DDD;\n",
              "  }\n",
              "\n",
              "  [theme=dark] .colab-df-quickchart {\n",
              "      --bg-color: #3B4455;\n",
              "      --fill-color: #D2E3FC;\n",
              "      --hover-bg-color: #434B5C;\n",
              "      --hover-fill-color: #FFFFFF;\n",
              "      --disabled-bg-color: #3B4455;\n",
              "      --disabled-fill-color: #666;\n",
              "  }\n",
              "\n",
              "  .colab-df-quickchart {\n",
              "    background-color: var(--bg-color);\n",
              "    border: none;\n",
              "    border-radius: 50%;\n",
              "    cursor: pointer;\n",
              "    display: none;\n",
              "    fill: var(--fill-color);\n",
              "    height: 32px;\n",
              "    padding: 0;\n",
              "    width: 32px;\n",
              "  }\n",
              "\n",
              "  .colab-df-quickchart:hover {\n",
              "    background-color: var(--hover-bg-color);\n",
              "    box-shadow: 0 1px 2px rgba(60, 64, 67, 0.3), 0 1px 3px 1px rgba(60, 64, 67, 0.15);\n",
              "    fill: var(--button-hover-fill-color);\n",
              "  }\n",
              "\n",
              "  .colab-df-quickchart-complete:disabled,\n",
              "  .colab-df-quickchart-complete:disabled:hover {\n",
              "    background-color: var(--disabled-bg-color);\n",
              "    fill: var(--disabled-fill-color);\n",
              "    box-shadow: none;\n",
              "  }\n",
              "\n",
              "  .colab-df-spinner {\n",
              "    border: 2px solid var(--fill-color);\n",
              "    border-color: transparent;\n",
              "    border-bottom-color: var(--fill-color);\n",
              "    animation:\n",
              "      spin 1s steps(1) infinite;\n",
              "  }\n",
              "\n",
              "  @keyframes spin {\n",
              "    0% {\n",
              "      border-color: transparent;\n",
              "      border-bottom-color: var(--fill-color);\n",
              "      border-left-color: var(--fill-color);\n",
              "    }\n",
              "    20% {\n",
              "      border-color: transparent;\n",
              "      border-left-color: var(--fill-color);\n",
              "      border-top-color: var(--fill-color);\n",
              "    }\n",
              "    30% {\n",
              "      border-color: transparent;\n",
              "      border-left-color: var(--fill-color);\n",
              "      border-top-color: var(--fill-color);\n",
              "      border-right-color: var(--fill-color);\n",
              "    }\n",
              "    40% {\n",
              "      border-color: transparent;\n",
              "      border-right-color: var(--fill-color);\n",
              "      border-top-color: var(--fill-color);\n",
              "    }\n",
              "    60% {\n",
              "      border-color: transparent;\n",
              "      border-right-color: var(--fill-color);\n",
              "    }\n",
              "    80% {\n",
              "      border-color: transparent;\n",
              "      border-right-color: var(--fill-color);\n",
              "      border-bottom-color: var(--fill-color);\n",
              "    }\n",
              "    90% {\n",
              "      border-color: transparent;\n",
              "      border-bottom-color: var(--fill-color);\n",
              "    }\n",
              "  }\n",
              "</style>\n",
              "\n",
              "  <script>\n",
              "    async function quickchart(key) {\n",
              "      const quickchartButtonEl =\n",
              "        document.querySelector('#' + key + ' button');\n",
              "      quickchartButtonEl.disabled = true;  // To prevent multiple clicks.\n",
              "      quickchartButtonEl.classList.add('colab-df-spinner');\n",
              "      try {\n",
              "        const charts = await google.colab.kernel.invokeFunction(\n",
              "            'suggestCharts', [key], {});\n",
              "      } catch (error) {\n",
              "        console.error('Error during call to suggestCharts:', error);\n",
              "      }\n",
              "      quickchartButtonEl.classList.remove('colab-df-spinner');\n",
              "      quickchartButtonEl.classList.add('colab-df-quickchart-complete');\n",
              "    }\n",
              "    (() => {\n",
              "      let quickchartButtonEl =\n",
              "        document.querySelector('#df-dc8a4657-3017-4859-96d6-33fc8de0bb1f button');\n",
              "      quickchartButtonEl.style.display =\n",
              "        google.colab.kernel.accessAllowed ? 'block' : 'none';\n",
              "    })();\n",
              "  </script>\n",
              "</div>\n",
              "\n",
              "    </div>\n",
              "  </div>\n"
            ],
            "application/vnd.google.colaboratory.intrinsic+json": {
              "type": "dataframe",
              "variable_name": "df",
              "summary": "{\n  \"name\": \"df\",\n  \"rows\": 2225,\n  \"fields\": [\n    {\n      \"column\": \"genre\",\n      \"properties\": {\n        \"dtype\": \"category\",\n        \"num_unique_values\": 5,\n        \"samples\": [\n          \"entertainment\",\n          \"tech\",\n          \"politics\"\n        ],\n        \"semantic_type\": \"\",\n        \"description\": \"\"\n      }\n    },\n    {\n      \"column\": \"filename\",\n      \"properties\": {\n        \"dtype\": \"category\",\n        \"num_unique_values\": 511,\n        \"samples\": [\n          \"125.txt\",\n          \"085.txt\",\n          \"434.txt\"\n        ],\n        \"semantic_type\": \"\",\n        \"description\": \"\"\n      }\n    },\n    {\n      \"column\": \"title\",\n      \"properties\": {\n        \"dtype\": \"string\",\n        \"num_unique_values\": 2096,\n        \"samples\": [\n          \"Soaring oil 'hits world economy'\",\n          \"Bollywood DVD fraudster is jailed\",\n          \"Bening makes awards breakthrough\"\n        ],\n        \"semantic_type\": \"\",\n        \"description\": \"\"\n      }\n    },\n    {\n      \"column\": \"content\",\n      \"properties\": {\n        \"dtype\": \"string\",\n        \"num_unique_values\": 2092,\n        \"samples\": [\n          \" Kenya's athletics body has suspended two-time London Marathon runner-up Susan Chepkemei from all competition until the end of the year.  Athletics Kenya (AK) issued the ban after Chepkemei failed to turn up for a cross country training camp in Embu. \\\"We have banned her from all local and international competitions,\\\" said AK chief Isaiah Kiplagat. \\\"We shall communicate this decision to the IAAF and all meet directors all over the world.\\\" The 29-year-old finished second to Paula Radcliffe in the 2002 and 2003 London races, and was also edged out in an epic New York Marathon contest last year.  But the ban will prevent the two-time world half-marathon silver medallist from challenging Radcliffe at this year's London event in April. Global Sports Communications, Chepkemei's management company, said she had wanted to run in the World Cross Country Championships in March. But AK maintained it was making an example of Chepkemei as a warning to other Kenyan athletes. \\\"We are taking this action in order to salvage our pride,\\\" said Kiplagat. \\\"We have been accused of having no teeth to bite with and that agents are ruling over us.\\\" KA has also threatened three-time women's short-course champion Edith Masai with a similar ban if reports that she feigned injury to avoid running at the cross country world championships are true. Masai missed the national trials in early February, but was included in the provisional team on the proviso that she ran in a regional competition. She failed to run in the event, citing a leg injury. \",\n          \" The soaring cost of oil has hit global economic growth, although world's major economies should weather the storm of price rises, according to the OECD.  In its latest bi-annual report, the OECD cut its growth predictions for the world's main industrialised regions. US growth would reach 4.4% in 2004, but fall to 3.3% next year from a previous estimate of 3.7%, the OECD said. However, the Paris-based economics think tank said it believed the global economy could still regain momentum.  Forecasts for Japanese growth were also scaled back to 4.0% from 4.4% this year and 2.1% from 2.8% in 2005. But the outlook was worst for the 12-member eurozone bloc, with already sluggish growth forecasts slipping to 1.8% from 2.0% this year and 1.9% from 2.4% in 2005, the OECD said. Overall, the report forecast total growth of 3.6% in 2004 for the 30 member countries of the OECD, slipping to 2.9% next year before recovering to 3.1% in 2006. \\\"There are nonetheless good reasons to believe that despite recent oil price turbulence the world economy will regain momentum in a not-too-distant future,\\\" said Jean-Philippe Cotis, the OECD's chief economist. The price of crude is about 50% higher than it was at the start of 2004, but down on the record high of $55.67 set in late October.  A dip in oil prices and improving jobs prospects would improve consumer confidence and spending, the OECD said. \\\"The oil shock is not enormous by historical standards - we have seen worse in the seventies. If the oil price does not rise any further, then we think the shock can be absorbed within the next few quarters,\\\" Vincent Koen, a senior economist with the OECD, told the BBC's World Business Report. \\\"The recovery that was underway, and has been interrupted a bit by the oil shock this year, would then regain momentum in the course of 2005.\\\" China's booming economy and a \\\"spectacular comeback\\\" in Japan - albeit one that has faltered in recent months - would help world economic recovery, the OECD said. \\\"Supported by strong balance sheets and high profits, the recovery of business investment should continue in North America and start in earnest in Europe,\\\" it added. However, the report warned: \\\"It remains to be seen whether continental Europe will play a strong supportive role through a marked upswing of final domestic demand.\\\" The OECD highlighted current depressed household expenditure in Germany and the eurozone's over-reliance on export-led growth. \",\n          \" Consumer electronics giants Hitachi and Matshushita Electric are joining forces to share and develop technology for flat screen televisions.  The tie-up comes as the world's top producers are having to contend with falling prices and intense competition. The two Japanese companies will collaborate in research & development, production, marketing and licensing. They said the agreement would enable the two companies to expand the plasma display TV market globally.  Plasma display panels are used for large, thin TVs which are replacing old-style televisions. The display market for high-definition televisions is split between models using plasma display panels and others - manufactured by the likes of Sony and Samsung - using liquid-crystal displays (LCDs). The deal will enable Hitachi and Matsushita, which makes Panasonic brand products, to develop new technology and improve their competitiveness. Hitachi recently announced a deal to buy plasma display technology from rival Fujitsu in an effort to strengthen its presence in the market.  Separately, Fujitsu announced on Monday that it is quitting the LCD panel market by transferring its operations in the area to Japanese manufacturer Sharp. Sharp will inherit staff, manufacturing facilities and intellectual property from Fujitsu. The plasma panel market has seen rapid consolidation in recent months as the price of consumer electronic goods and components has fallen. Samsung Electronics and Sony are among other companies working together to reduce costs and speed up new product development. \"\n        ],\n        \"semantic_type\": \"\",\n        \"description\": \"\"\n      }\n    }\n  ]\n}"
            }
          },
          "metadata": {},
          "execution_count": 9
        }
      ],
      "source": [
        "import pandas as pd\n",
        "\n",
        "id_file = '1m41gWGwnLYo0nAEOABnU_MH_SCQHWfjS'\n",
        "url_file = 'https://drive.google.com/uc?id={}'.format(id_file)\n",
        "\n",
        "def create_dataframe(path):\n",
        "    columns=['genre', 'filename', 'title', 'content']\n",
        "    df =  pd.read_table(\n",
        "    path,\n",
        "    header=None,\n",
        "    names=columns,\n",
        "    sep= '\\t',\n",
        "    engine= 'python'\n",
        "    )\n",
        "    return df\n",
        "\n",
        "\n",
        "df = create_dataframe(url_file)\n",
        "df = df.drop(0).reset_index(drop=True)\n",
        "\n",
        "df.head()"
      ]
    },
    {
      "cell_type": "markdown",
      "source": [
        "O código abaixo realiza imports de bibliotecas. A biblioteca \"nltk\" será utilizada para tokenização, remoção de stop words e stemming. Já a biblioteca \"unidecode\" será utilizada para remoção de acentos e biblioteca a \"spaCy\" será utilizada para lematização. Além disso, serão utilizadas as bibliotecas \"matplotlib\" e \"seaborn\" para gerar os gráficos da Visualização de Dados. Também será utiliada a biblioteca \"random\", para sortear aleatoriamente algumas notícias para a criação de DataFrame com menos amostrar e para sortear palavras aleatórias do DataFrame e mostrar suas frequências. Por sua vez, a biblioteca \"Counter\" será utilizada para contabiliar itens de dicionários."
      ],
      "metadata": {
        "id": "W3jyu9LRvlkP"
      }
    },
    {
      "cell_type": "code",
      "source": [
        "import nltk\n",
        "nltk.download('punkt')\n",
        "from nltk import sent_tokenize, word_tokenize\n",
        "\n",
        "nltk.download('stopwords')\n",
        "from nltk.corpus import stopwords\n",
        "stop_words = set(stopwords.words('english'))\n",
        "\n",
        "import spacy\n",
        "from spacy.lang.en.examples import sentences\n",
        "\n",
        "!pip install unidecode\n",
        "import unidecode\n",
        "from nltk.stem.porter import PorterStemmer\n",
        "!python -m spacy download en_core_web_sm\n",
        "\n",
        "import matplotlib.pyplot as plt\n",
        "import seaborn as sns\n",
        "\n",
        "\n",
        "import random\n",
        "\n",
        "from collections import Counter"
      ],
      "metadata": {
        "id": "kO3G_ms-HIqo",
        "colab": {
          "base_uri": "https://localhost:8080/"
        },
        "collapsed": true,
        "outputId": "4c99015a-b0a1-46e9-d9f9-aa85cead08d0"
      },
      "execution_count": null,
      "outputs": [
        {
          "output_type": "stream",
          "name": "stderr",
          "text": [
            "[nltk_data] Downloading package punkt to /root/nltk_data...\n",
            "[nltk_data]   Unzipping tokenizers/punkt.zip.\n",
            "[nltk_data] Downloading package stopwords to /root/nltk_data...\n",
            "[nltk_data]   Unzipping corpora/stopwords.zip.\n"
          ]
        },
        {
          "output_type": "stream",
          "name": "stdout",
          "text": [
            "Collecting unidecode\n",
            "  Downloading Unidecode-1.3.8-py3-none-any.whl.metadata (13 kB)\n",
            "Downloading Unidecode-1.3.8-py3-none-any.whl (235 kB)\n",
            "\u001b[2K   \u001b[90m━━━━━━━━━━━━━━━━━━━━━━━━━━━━━━━━━━━━━━━━\u001b[0m \u001b[32m235.5/235.5 kB\u001b[0m \u001b[31m1.7 MB/s\u001b[0m eta \u001b[36m0:00:00\u001b[0m\n",
            "\u001b[?25hInstalling collected packages: unidecode\n",
            "Successfully installed unidecode-1.3.8\n",
            "Collecting en-core-web-sm==3.7.1\n",
            "  Downloading https://github.com/explosion/spacy-models/releases/download/en_core_web_sm-3.7.1/en_core_web_sm-3.7.1-py3-none-any.whl (12.8 MB)\n",
            "\u001b[2K     \u001b[90m━━━━━━━━━━━━━━━━━━━━━━━━━━━━━━━━━━━━━━━━\u001b[0m \u001b[32m12.8/12.8 MB\u001b[0m \u001b[31m54.7 MB/s\u001b[0m eta \u001b[36m0:00:00\u001b[0m\n",
            "\u001b[?25hRequirement already satisfied: spacy<3.8.0,>=3.7.2 in /usr/local/lib/python3.10/dist-packages (from en-core-web-sm==3.7.1) (3.7.6)\n",
            "Requirement already satisfied: spacy-legacy<3.1.0,>=3.0.11 in /usr/local/lib/python3.10/dist-packages (from spacy<3.8.0,>=3.7.2->en-core-web-sm==3.7.1) (3.0.12)\n",
            "Requirement already satisfied: spacy-loggers<2.0.0,>=1.0.0 in /usr/local/lib/python3.10/dist-packages (from spacy<3.8.0,>=3.7.2->en-core-web-sm==3.7.1) (1.0.5)\n",
            "Requirement already satisfied: murmurhash<1.1.0,>=0.28.0 in /usr/local/lib/python3.10/dist-packages (from spacy<3.8.0,>=3.7.2->en-core-web-sm==3.7.1) (1.0.10)\n",
            "Requirement already satisfied: cymem<2.1.0,>=2.0.2 in /usr/local/lib/python3.10/dist-packages (from spacy<3.8.0,>=3.7.2->en-core-web-sm==3.7.1) (2.0.8)\n",
            "Requirement already satisfied: preshed<3.1.0,>=3.0.2 in /usr/local/lib/python3.10/dist-packages (from spacy<3.8.0,>=3.7.2->en-core-web-sm==3.7.1) (3.0.9)\n",
            "Requirement already satisfied: thinc<8.3.0,>=8.2.2 in /usr/local/lib/python3.10/dist-packages (from spacy<3.8.0,>=3.7.2->en-core-web-sm==3.7.1) (8.2.5)\n",
            "Requirement already satisfied: wasabi<1.2.0,>=0.9.1 in /usr/local/lib/python3.10/dist-packages (from spacy<3.8.0,>=3.7.2->en-core-web-sm==3.7.1) (1.1.3)\n",
            "Requirement already satisfied: srsly<3.0.0,>=2.4.3 in /usr/local/lib/python3.10/dist-packages (from spacy<3.8.0,>=3.7.2->en-core-web-sm==3.7.1) (2.4.8)\n",
            "Requirement already satisfied: catalogue<2.1.0,>=2.0.6 in /usr/local/lib/python3.10/dist-packages (from spacy<3.8.0,>=3.7.2->en-core-web-sm==3.7.1) (2.0.10)\n",
            "Requirement already satisfied: weasel<0.5.0,>=0.1.0 in /usr/local/lib/python3.10/dist-packages (from spacy<3.8.0,>=3.7.2->en-core-web-sm==3.7.1) (0.4.1)\n",
            "Requirement already satisfied: typer<1.0.0,>=0.3.0 in /usr/local/lib/python3.10/dist-packages (from spacy<3.8.0,>=3.7.2->en-core-web-sm==3.7.1) (0.12.5)\n",
            "Requirement already satisfied: tqdm<5.0.0,>=4.38.0 in /usr/local/lib/python3.10/dist-packages (from spacy<3.8.0,>=3.7.2->en-core-web-sm==3.7.1) (4.66.5)\n",
            "Requirement already satisfied: requests<3.0.0,>=2.13.0 in /usr/local/lib/python3.10/dist-packages (from spacy<3.8.0,>=3.7.2->en-core-web-sm==3.7.1) (2.32.3)\n",
            "Requirement already satisfied: pydantic!=1.8,!=1.8.1,<3.0.0,>=1.7.4 in /usr/local/lib/python3.10/dist-packages (from spacy<3.8.0,>=3.7.2->en-core-web-sm==3.7.1) (2.8.2)\n",
            "Requirement already satisfied: jinja2 in /usr/local/lib/python3.10/dist-packages (from spacy<3.8.0,>=3.7.2->en-core-web-sm==3.7.1) (3.1.4)\n",
            "Requirement already satisfied: setuptools in /usr/local/lib/python3.10/dist-packages (from spacy<3.8.0,>=3.7.2->en-core-web-sm==3.7.1) (71.0.4)\n",
            "Requirement already satisfied: packaging>=20.0 in /usr/local/lib/python3.10/dist-packages (from spacy<3.8.0,>=3.7.2->en-core-web-sm==3.7.1) (24.1)\n",
            "Requirement already satisfied: langcodes<4.0.0,>=3.2.0 in /usr/local/lib/python3.10/dist-packages (from spacy<3.8.0,>=3.7.2->en-core-web-sm==3.7.1) (3.4.0)\n",
            "Requirement already satisfied: numpy>=1.19.0 in /usr/local/lib/python3.10/dist-packages (from spacy<3.8.0,>=3.7.2->en-core-web-sm==3.7.1) (1.26.4)\n",
            "Requirement already satisfied: language-data>=1.2 in /usr/local/lib/python3.10/dist-packages (from langcodes<4.0.0,>=3.2.0->spacy<3.8.0,>=3.7.2->en-core-web-sm==3.7.1) (1.2.0)\n",
            "Requirement already satisfied: annotated-types>=0.4.0 in /usr/local/lib/python3.10/dist-packages (from pydantic!=1.8,!=1.8.1,<3.0.0,>=1.7.4->spacy<3.8.0,>=3.7.2->en-core-web-sm==3.7.1) (0.7.0)\n",
            "Requirement already satisfied: pydantic-core==2.20.1 in /usr/local/lib/python3.10/dist-packages (from pydantic!=1.8,!=1.8.1,<3.0.0,>=1.7.4->spacy<3.8.0,>=3.7.2->en-core-web-sm==3.7.1) (2.20.1)\n",
            "Requirement already satisfied: typing-extensions>=4.6.1 in /usr/local/lib/python3.10/dist-packages (from pydantic!=1.8,!=1.8.1,<3.0.0,>=1.7.4->spacy<3.8.0,>=3.7.2->en-core-web-sm==3.7.1) (4.12.2)\n",
            "Requirement already satisfied: charset-normalizer<4,>=2 in /usr/local/lib/python3.10/dist-packages (from requests<3.0.0,>=2.13.0->spacy<3.8.0,>=3.7.2->en-core-web-sm==3.7.1) (3.3.2)\n",
            "Requirement already satisfied: idna<4,>=2.5 in /usr/local/lib/python3.10/dist-packages (from requests<3.0.0,>=2.13.0->spacy<3.8.0,>=3.7.2->en-core-web-sm==3.7.1) (3.8)\n",
            "Requirement already satisfied: urllib3<3,>=1.21.1 in /usr/local/lib/python3.10/dist-packages (from requests<3.0.0,>=2.13.0->spacy<3.8.0,>=3.7.2->en-core-web-sm==3.7.1) (2.0.7)\n",
            "Requirement already satisfied: certifi>=2017.4.17 in /usr/local/lib/python3.10/dist-packages (from requests<3.0.0,>=2.13.0->spacy<3.8.0,>=3.7.2->en-core-web-sm==3.7.1) (2024.8.30)\n",
            "Requirement already satisfied: blis<0.8.0,>=0.7.8 in /usr/local/lib/python3.10/dist-packages (from thinc<8.3.0,>=8.2.2->spacy<3.8.0,>=3.7.2->en-core-web-sm==3.7.1) (0.7.11)\n",
            "Requirement already satisfied: confection<1.0.0,>=0.0.1 in /usr/local/lib/python3.10/dist-packages (from thinc<8.3.0,>=8.2.2->spacy<3.8.0,>=3.7.2->en-core-web-sm==3.7.1) (0.1.5)\n",
            "Requirement already satisfied: click>=8.0.0 in /usr/local/lib/python3.10/dist-packages (from typer<1.0.0,>=0.3.0->spacy<3.8.0,>=3.7.2->en-core-web-sm==3.7.1) (8.1.7)\n",
            "Requirement already satisfied: shellingham>=1.3.0 in /usr/local/lib/python3.10/dist-packages (from typer<1.0.0,>=0.3.0->spacy<3.8.0,>=3.7.2->en-core-web-sm==3.7.1) (1.5.4)\n",
            "Requirement already satisfied: rich>=10.11.0 in /usr/local/lib/python3.10/dist-packages (from typer<1.0.0,>=0.3.0->spacy<3.8.0,>=3.7.2->en-core-web-sm==3.7.1) (13.8.0)\n",
            "Requirement already satisfied: cloudpathlib<1.0.0,>=0.7.0 in /usr/local/lib/python3.10/dist-packages (from weasel<0.5.0,>=0.1.0->spacy<3.8.0,>=3.7.2->en-core-web-sm==3.7.1) (0.19.0)\n",
            "Requirement already satisfied: smart-open<8.0.0,>=5.2.1 in /usr/local/lib/python3.10/dist-packages (from weasel<0.5.0,>=0.1.0->spacy<3.8.0,>=3.7.2->en-core-web-sm==3.7.1) (7.0.4)\n",
            "Requirement already satisfied: MarkupSafe>=2.0 in /usr/local/lib/python3.10/dist-packages (from jinja2->spacy<3.8.0,>=3.7.2->en-core-web-sm==3.7.1) (2.1.5)\n",
            "Requirement already satisfied: marisa-trie>=0.7.7 in /usr/local/lib/python3.10/dist-packages (from language-data>=1.2->langcodes<4.0.0,>=3.2.0->spacy<3.8.0,>=3.7.2->en-core-web-sm==3.7.1) (1.2.0)\n",
            "Requirement already satisfied: markdown-it-py>=2.2.0 in /usr/local/lib/python3.10/dist-packages (from rich>=10.11.0->typer<1.0.0,>=0.3.0->spacy<3.8.0,>=3.7.2->en-core-web-sm==3.7.1) (3.0.0)\n",
            "Requirement already satisfied: pygments<3.0.0,>=2.13.0 in /usr/local/lib/python3.10/dist-packages (from rich>=10.11.0->typer<1.0.0,>=0.3.0->spacy<3.8.0,>=3.7.2->en-core-web-sm==3.7.1) (2.16.1)\n",
            "Requirement already satisfied: wrapt in /usr/local/lib/python3.10/dist-packages (from smart-open<8.0.0,>=5.2.1->weasel<0.5.0,>=0.1.0->spacy<3.8.0,>=3.7.2->en-core-web-sm==3.7.1) (1.16.0)\n",
            "Requirement already satisfied: mdurl~=0.1 in /usr/local/lib/python3.10/dist-packages (from markdown-it-py>=2.2.0->rich>=10.11.0->typer<1.0.0,>=0.3.0->spacy<3.8.0,>=3.7.2->en-core-web-sm==3.7.1) (0.1.2)\n",
            "\u001b[38;5;2m✔ Download and installation successful\u001b[0m\n",
            "You can now load the package via spacy.load('en_core_web_sm')\n",
            "\u001b[38;5;3m⚠ Restart to reload dependencies\u001b[0m\n",
            "If you are in a Jupyter or Colab notebook, you may need to restart Python in\n",
            "order to load all the package's dependencies. You can do this by selecting the\n",
            "'Restart kernel' or 'Restart runtime' option.\n"
          ]
        }
      ]
    },
    {
      "cell_type": "markdown",
      "source": [
        "Algumas notícias do dataset possuem o mesmo nome, o que pode causar ambiguidades e erros de interpretação. Por causa disso, o método abaixo renomeia alguns arquivos do dataset. Para tal, é percorido cada linha do DataFrame, sendo o novo nome do arquivo correspondendo ao seu index. Dessa forma, o arquivo que está no index \"i\", será renomeado para \"i.txt\" ."
      ],
      "metadata": {
        "id": "c5Bre1mFv1om"
      }
    },
    {
      "cell_type": "code",
      "source": [
        "def rename_filenames(df):\n",
        "  for index, row in df.iterrows():\n",
        "      df.at[index, 'filename'] = f\"{index}.txt\"\n",
        "  return df\n",
        "\n",
        "df = rename_filenames(df)"
      ],
      "metadata": {
        "id": "695miMIwHLAY"
      },
      "execution_count": null,
      "outputs": []
    },
    {
      "cell_type": "markdown",
      "source": [
        "### Número de Documentos por classe"
      ],
      "metadata": {
        "id": "7ZmRnOVRyM7w"
      }
    },
    {
      "cell_type": "markdown",
      "source": [
        "Após a leitura da base de dados, será iniciado o processo de Visualização e Análise Exploratória para conhecer o dataset.\n",
        "O código abaixo gera a visualização de notícias por classe. Dessa forma, será possível observar a quantidade absoluta de notícias e se essas notícias estão balanceadas."
      ],
      "metadata": {
        "id": "yu9Xr96DyBuj"
      }
    },
    {
      "cell_type": "code",
      "source": [
        "genres = df['genre'].unique()\n",
        "\n",
        "def plot_doc_by_class(genres, dataframe):\n",
        "  ax = sns.countplot(x = 'genre', data = dataframe , color='skyblue')\n",
        "  ax.yaxis.grid(False)\n",
        "  plt.title('Documents number by class', pad=12)\n",
        "  plt.xlabel('Genres', labelpad=12)\n",
        "  plt.ylabel('Quantity', labelpad=12)\n",
        "\n",
        "  bars = ax.patches\n",
        "  # Put numbers of docs above bars\n",
        "  for bar in bars:\n",
        "        height = int(bar.get_height())\n",
        "        plt.text(bar.get_x() + bar.get_width()/2, height, height, ha='center', va='bottom')\n",
        "\n",
        "  plt.show()\n",
        "\n",
        "\n",
        "plot_doc_by_class(genres, df)"
      ],
      "metadata": {
        "colab": {
          "base_uri": "https://localhost:8080/",
          "height": 491
        },
        "id": "Nt7-8bDyxZXD",
        "outputId": "d75dc812-c66b-4936-841b-122bcf95d572"
      },
      "execution_count": null,
      "outputs": [
        {
          "output_type": "display_data",
          "data": {
            "text/plain": [
              "<Figure size 640x480 with 1 Axes>"
            ],
            "image/png": "[encoded data removed]"
          },
          "metadata": {}
        }
      ]
    },
    {
      "cell_type": "markdown",
      "source": [
        "### Criação de um dataset com quantidade de amostras reduzidas"
      ],
      "metadata": {
        "id": "abfCCSSuv73b"
      }
    },
    {
      "cell_type": "markdown",
      "source": [
        "O dataset BBC News apresenta um grande quantitativo de notícias, sendo o seu pré processamento longo para ser realizado em um aula. Por causa disso, o método a seguir reduz a quantidade de notícias.  Assim, para cada gênero de notícias é sorteado um número entre 10 e 20 para fazer parte do dataset final de notícias que será utilizado ao longo dos roteiros."
      ],
      "metadata": {
        "id": "yq5PCY87wqwZ"
      }
    },
    {
      "cell_type": "code",
      "source": [
        "# def create_balanced_small_df(df, genres, num):\n",
        "#   small_df_list = []\n",
        "#   for genre in genres:\n",
        "#     sample_rows = df.sample(num)\n",
        "#     small_df_list.append(sample_rows)\n",
        "#   return pd.concat(small_df_list).reset_index(drop=True)\n",
        "\n",
        "def create_imbalanced_small_df(df, genres, max_value):\n",
        "  small_df_list = []\n",
        "  for genre in genres:\n",
        "    qtd = random.randint(10, max_value)\n",
        "    sample_rows = df[df['genre'] == genre].sample(qtd)\n",
        "    small_df_list.append(sample_rows)\n",
        "  return pd.concat(small_df_list).reset_index(drop=True)"
      ],
      "metadata": {
        "id": "zO62d6OVHOWW"
      },
      "execution_count": null,
      "outputs": []
    },
    {
      "cell_type": "code",
      "source": [
        "genres = df['genre'].unique()\n",
        "small_df = create_imbalanced_small_df(df, genres, max_value=20)\n",
        "small_df"
      ],
      "metadata": {
        "id": "DnD-xIPdHRNm",
        "colab": {
          "base_uri": "https://localhost:8080/",
          "height": 424
        },
        "outputId": "784cad77-2dff-4052-8fdc-e491f781733c",
        "collapsed": true
      },
      "execution_count": null,
      "outputs": [
        {
          "output_type": "execute_result",
          "data": {
            "text/plain": [
              "       genre filename                              title  \\\n",
              "0   business  029.txt  UK firm faces Venezuelan land row   \n",
              "1   business  221.txt  BP surges ahead on high oil price   \n",
              "2   business  070.txt   Circuit City gets takeover offer   \n",
              "3   business  104.txt  US seeks new $280bn smoker ruling   \n",
              "4   business  227.txt    Call to save manufacturing jobs   \n",
              "..       ...      ...                                ...   \n",
              "64      tech  374.txt  Commodore finds new lease of life   \n",
              "65      tech  320.txt   PlayStation 3 processor unveiled   \n",
              "66      tech  211.txt    Millions to miss out on the net   \n",
              "67      tech  288.txt        Big war games battle it out   \n",
              "68      tech  347.txt   Cebit opens to mobile music tune   \n",
              "\n",
              "                                              content  \n",
              "0    Venezuelan authorities have said they will se...  \n",
              "1    Oil giant BP has announced a 26% rise in annu...  \n",
              "2    Circuit City Stores, the second-largest elect...  \n",
              "3    The US Justice Department is to try to overtu...  \n",
              "4    The Trades Union Congress (TUC) is calling on...  \n",
              "..                                                ...  \n",
              "64   The once-famous Commodore computer brand coul...  \n",
              "65   The Cell processor, which will drive Sony's P...  \n",
              "66   By 2025, 40% of the UK's population will stil...  \n",
              "67   The arrival of new titles in the popular Meda...  \n",
              "68   Cebit, the world's largest hi-tech fair, has ...  \n",
              "\n",
              "[69 rows x 4 columns]"
            ],
            "text/html": [
              "\n",
              "  <div id=\"df-0d1efa94-c42a-4f87-b5a8-7c7736dd7041\" class=\"colab-df-container\">\n",
              "    <div>\n",
              "<style scoped>\n",
              "    .dataframe tbody tr th:only-of-type {\n",
              "        vertical-align: middle;\n",
              "    }\n",
              "\n",
              "    .dataframe tbody tr th {\n",
              "        vertical-align: top;\n",
              "    }\n",
              "\n",
              "    .dataframe thead th {\n",
              "        text-align: right;\n",
              "    }\n",
              "</style>\n",
              "<table border=\"1\" class=\"dataframe\">\n",
              "  <thead>\n",
              "    <tr style=\"text-align: right;\">\n",
              "      <th></th>\n",
              "      <th>genre</th>\n",
              "      <th>filename</th>\n",
              "      <th>title</th>\n",
              "      <th>content</th>\n",
              "    </tr>\n",
              "  </thead>\n",
              "  <tbody>\n",
              "    <tr>\n",
              "      <th>0</th>\n",
              "      <td>business</td>\n",
              "      <td>029.txt</td>\n",
              "      <td>UK firm faces Venezuelan land row</td>\n",
              "      <td>Venezuelan authorities have said they will se...</td>\n",
              "    </tr>\n",
              "    <tr>\n",
              "      <th>1</th>\n",
              "      <td>business</td>\n",
              "      <td>221.txt</td>\n",
              "      <td>BP surges ahead on high oil price</td>\n",
              "      <td>Oil giant BP has announced a 26% rise in annu...</td>\n",
              "    </tr>\n",
              "    <tr>\n",
              "      <th>2</th>\n",
              "      <td>business</td>\n",
              "      <td>070.txt</td>\n",
              "      <td>Circuit City gets takeover offer</td>\n",
              "      <td>Circuit City Stores, the second-largest elect...</td>\n",
              "    </tr>\n",
              "    <tr>\n",
              "      <th>3</th>\n",
              "      <td>business</td>\n",
              "      <td>104.txt</td>\n",
              "      <td>US seeks new $280bn smoker ruling</td>\n",
              "      <td>The US Justice Department is to try to overtu...</td>\n",
              "    </tr>\n",
              "    <tr>\n",
              "      <th>4</th>\n",
              "      <td>business</td>\n",
              "      <td>227.txt</td>\n",
              "      <td>Call to save manufacturing jobs</td>\n",
              "      <td>The Trades Union Congress (TUC) is calling on...</td>\n",
              "    </tr>\n",
              "    <tr>\n",
              "      <th>...</th>\n",
              "      <td>...</td>\n",
              "      <td>...</td>\n",
              "      <td>...</td>\n",
              "      <td>...</td>\n",
              "    </tr>\n",
              "    <tr>\n",
              "      <th>64</th>\n",
              "      <td>tech</td>\n",
              "      <td>374.txt</td>\n",
              "      <td>Commodore finds new lease of life</td>\n",
              "      <td>The once-famous Commodore computer brand coul...</td>\n",
              "    </tr>\n",
              "    <tr>\n",
              "      <th>65</th>\n",
              "      <td>tech</td>\n",
              "      <td>320.txt</td>\n",
              "      <td>PlayStation 3 processor unveiled</td>\n",
              "      <td>The Cell processor, which will drive Sony's P...</td>\n",
              "    </tr>\n",
              "    <tr>\n",
              "      <th>66</th>\n",
              "      <td>tech</td>\n",
              "      <td>211.txt</td>\n",
              "      <td>Millions to miss out on the net</td>\n",
              "      <td>By 2025, 40% of the UK's population will stil...</td>\n",
              "    </tr>\n",
              "    <tr>\n",
              "      <th>67</th>\n",
              "      <td>tech</td>\n",
              "      <td>288.txt</td>\n",
              "      <td>Big war games battle it out</td>\n",
              "      <td>The arrival of new titles in the popular Meda...</td>\n",
              "    </tr>\n",
              "    <tr>\n",
              "      <th>68</th>\n",
              "      <td>tech</td>\n",
              "      <td>347.txt</td>\n",
              "      <td>Cebit opens to mobile music tune</td>\n",
              "      <td>Cebit, the world's largest hi-tech fair, has ...</td>\n",
              "    </tr>\n",
              "  </tbody>\n",
              "</table>\n",
              "<p>69 rows × 4 columns</p>\n",
              "</div>\n",
              "    <div class=\"colab-df-buttons\">\n",
              "\n",
              "  <div class=\"colab-df-container\">\n",
              "    <button class=\"colab-df-convert\" onclick=\"convertToInteractive('df-0d1efa94-c42a-4f87-b5a8-7c7736dd7041')\"\n",
              "            title=\"Convert this dataframe to an interactive table.\"\n",
              "            style=\"display:none;\">\n",
              "\n",
              "  <svg xmlns=\"http://www.w3.org/2000/svg\" height=\"24px\" viewBox=\"0 -960 960 960\">\n",
              "    <path d=\"M120-120v-720h720v720H120Zm60-500h600v-160H180v160Zm220 220h160v-160H400v160Zm0 220h160v-160H400v160ZM180-400h160v-160H180v160Zm440 0h160v-160H620v160ZM180-180h160v-160H180v160Zm440 0h160v-160H620v160Z\"/>\n",
              "  </svg>\n",
              "    </button>\n",
              "\n",
              "  <style>\n",
              "    .colab-df-container {\n",
              "      display:flex;\n",
              "      gap: 12px;\n",
              "    }\n",
              "\n",
              "    .colab-df-convert {\n",
              "      background-color: #E8F0FE;\n",
              "      border: none;\n",
              "      border-radius: 50%;\n",
              "      cursor: pointer;\n",
              "      display: none;\n",
              "      fill: #1967D2;\n",
              "      height: 32px;\n",
              "      padding: 0 0 0 0;\n",
              "      width: 32px;\n",
              "    }\n",
              "\n",
              "    .colab-df-convert:hover {\n",
              "      background-color: #E2EBFA;\n",
              "      box-shadow: 0px 1px 2px rgba(60, 64, 67, 0.3), 0px 1px 3px 1px rgba(60, 64, 67, 0.15);\n",
              "      fill: #174EA6;\n",
              "    }\n",
              "\n",
              "    .colab-df-buttons div {\n",
              "      margin-bottom: 4px;\n",
              "    }\n",
              "\n",
              "    [theme=dark] .colab-df-convert {\n",
              "      background-color: #3B4455;\n",
              "      fill: #D2E3FC;\n",
              "    }\n",
              "\n",
              "    [theme=dark] .colab-df-convert:hover {\n",
              "      background-color: #434B5C;\n",
              "      box-shadow: 0px 1px 3px 1px rgba(0, 0, 0, 0.15);\n",
              "      filter: drop-shadow(0px 1px 2px rgba(0, 0, 0, 0.3));\n",
              "      fill: #FFFFFF;\n",
              "    }\n",
              "  </style>\n",
              "\n",
              "    <script>\n",
              "      const buttonEl =\n",
              "        document.querySelector('#df-0d1efa94-c42a-4f87-b5a8-7c7736dd7041 button.colab-df-convert');\n",
              "      buttonEl.style.display =\n",
              "        google.colab.kernel.accessAllowed ? 'block' : 'none';\n",
              "\n",
              "      async function convertToInteractive(key) {\n",
              "        const element = document.querySelector('#df-0d1efa94-c42a-4f87-b5a8-7c7736dd7041');\n",
              "        const dataTable =\n",
              "          await google.colab.kernel.invokeFunction('convertToInteractive',\n",
              "                                                    [key], {});\n",
              "        if (!dataTable) return;\n",
              "\n",
              "        const docLinkHtml = 'Like what you see? Visit the ' +\n",
              "          '<a target=\"_blank\" href=https://colab.research.google.com/notebooks/data_table.ipynb>data table notebook</a>'\n",
              "          + ' to learn more about interactive tables.';\n",
              "        element.innerHTML = '';\n",
              "        dataTable['output_type'] = 'display_data';\n",
              "        await google.colab.output.renderOutput(dataTable, element);\n",
              "        const docLink = document.createElement('div');\n",
              "        docLink.innerHTML = docLinkHtml;\n",
              "        element.appendChild(docLink);\n",
              "      }\n",
              "    </script>\n",
              "  </div>\n",
              "\n",
              "\n",
              "<div id=\"df-1756ffc8-c38b-4e20-86cd-482e8bb81557\">\n",
              "  <button class=\"colab-df-quickchart\" onclick=\"quickchart('df-1756ffc8-c38b-4e20-86cd-482e8bb81557')\"\n",
              "            title=\"Suggest charts\"\n",
              "            style=\"display:none;\">\n",
              "\n",
              "<svg xmlns=\"http://www.w3.org/2000/svg\" height=\"24px\"viewBox=\"0 0 24 24\"\n",
              "     width=\"24px\">\n",
              "    <g>\n",
              "        <path d=\"M19 3H5c-1.1 0-2 .9-2 2v14c0 1.1.9 2 2 2h14c1.1 0 2-.9 2-2V5c0-1.1-.9-2-2-2zM9 17H7v-7h2v7zm4 0h-2V7h2v10zm4 0h-2v-4h2v4z\"/>\n",
              "    </g>\n",
              "</svg>\n",
              "  </button>\n",
              "\n",
              "<style>\n",
              "  .colab-df-quickchart {\n",
              "      --bg-color: #E8F0FE;\n",
              "      --fill-color: #1967D2;\n",
              "      --hover-bg-color: #E2EBFA;\n",
              "      --hover-fill-color: #174EA6;\n",
              "      --disabled-fill-color: #AAA;\n",
              "      --disabled-bg-color: #DDD;\n",
              "  }\n",
              "\n",
              "  [theme=dark] .colab-df-quickchart {\n",
              "      --bg-color: #3B4455;\n",
              "      --fill-color: #D2E3FC;\n",
              "      --hover-bg-color: #434B5C;\n",
              "      --hover-fill-color: #FFFFFF;\n",
              "      --disabled-bg-color: #3B4455;\n",
              "      --disabled-fill-color: #666;\n",
              "  }\n",
              "\n",
              "  .colab-df-quickchart {\n",
              "    background-color: var(--bg-color);\n",
              "    border: none;\n",
              "    border-radius: 50%;\n",
              "    cursor: pointer;\n",
              "    display: none;\n",
              "    fill: var(--fill-color);\n",
              "    height: 32px;\n",
              "    padding: 0;\n",
              "    width: 32px;\n",
              "  }\n",
              "\n",
              "  .colab-df-quickchart:hover {\n",
              "    background-color: var(--hover-bg-color);\n",
              "    box-shadow: 0 1px 2px rgba(60, 64, 67, 0.3), 0 1px 3px 1px rgba(60, 64, 67, 0.15);\n",
              "    fill: var(--button-hover-fill-color);\n",
              "  }\n",
              "\n",
              "  .colab-df-quickchart-complete:disabled,\n",
              "  .colab-df-quickchart-complete:disabled:hover {\n",
              "    background-color: var(--disabled-bg-color);\n",
              "    fill: var(--disabled-fill-color);\n",
              "    box-shadow: none;\n",
              "  }\n",
              "\n",
              "  .colab-df-spinner {\n",
              "    border: 2px solid var(--fill-color);\n",
              "    border-color: transparent;\n",
              "    border-bottom-color: var(--fill-color);\n",
              "    animation:\n",
              "      spin 1s steps(1) infinite;\n",
              "  }\n",
              "\n",
              "  @keyframes spin {\n",
              "    0% {\n",
              "      border-color: transparent;\n",
              "      border-bottom-color: var(--fill-color);\n",
              "      border-left-color: var(--fill-color);\n",
              "    }\n",
              "    20% {\n",
              "      border-color: transparent;\n",
              "      border-left-color: var(--fill-color);\n",
              "      border-top-color: var(--fill-color);\n",
              "    }\n",
              "    30% {\n",
              "      border-color: transparent;\n",
              "      border-left-color: var(--fill-color);\n",
              "      border-top-color: var(--fill-color);\n",
              "      border-right-color: var(--fill-color);\n",
              "    }\n",
              "    40% {\n",
              "      border-color: transparent;\n",
              "      border-right-color: var(--fill-color);\n",
              "      border-top-color: var(--fill-color);\n",
              "    }\n",
              "    60% {\n",
              "      border-color: transparent;\n",
              "      border-right-color: var(--fill-color);\n",
              "    }\n",
              "    80% {\n",
              "      border-color: transparent;\n",
              "      border-right-color: var(--fill-color);\n",
              "      border-bottom-color: var(--fill-color);\n",
              "    }\n",
              "    90% {\n",
              "      border-color: transparent;\n",
              "      border-bottom-color: var(--fill-color);\n",
              "    }\n",
              "  }\n",
              "</style>\n",
              "\n",
              "  <script>\n",
              "    async function quickchart(key) {\n",
              "      const quickchartButtonEl =\n",
              "        document.querySelector('#' + key + ' button');\n",
              "      quickchartButtonEl.disabled = true;  // To prevent multiple clicks.\n",
              "      quickchartButtonEl.classList.add('colab-df-spinner');\n",
              "      try {\n",
              "        const charts = await google.colab.kernel.invokeFunction(\n",
              "            'suggestCharts', [key], {});\n",
              "      } catch (error) {\n",
              "        console.error('Error during call to suggestCharts:', error);\n",
              "      }\n",
              "      quickchartButtonEl.classList.remove('colab-df-spinner');\n",
              "      quickchartButtonEl.classList.add('colab-df-quickchart-complete');\n",
              "    }\n",
              "    (() => {\n",
              "      let quickchartButtonEl =\n",
              "        document.querySelector('#df-1756ffc8-c38b-4e20-86cd-482e8bb81557 button');\n",
              "      quickchartButtonEl.style.display =\n",
              "        google.colab.kernel.accessAllowed ? 'block' : 'none';\n",
              "    })();\n",
              "  </script>\n",
              "</div>\n",
              "\n",
              "  <div id=\"id_5c91aa56-b198-4c95-95d7-3d5cf74e59f4\">\n",
              "    <style>\n",
              "      .colab-df-generate {\n",
              "        background-color: #E8F0FE;\n",
              "        border: none;\n",
              "        border-radius: 50%;\n",
              "        cursor: pointer;\n",
              "        display: none;\n",
              "        fill: #1967D2;\n",
              "        height: 32px;\n",
              "        padding: 0 0 0 0;\n",
              "        width: 32px;\n",
              "      }\n",
              "\n",
              "      .colab-df-generate:hover {\n",
              "        background-color: #E2EBFA;\n",
              "        box-shadow: 0px 1px 2px rgba(60, 64, 67, 0.3), 0px 1px 3px 1px rgba(60, 64, 67, 0.15);\n",
              "        fill: #174EA6;\n",
              "      }\n",
              "\n",
              "      [theme=dark] .colab-df-generate {\n",
              "        background-color: #3B4455;\n",
              "        fill: #D2E3FC;\n",
              "      }\n",
              "\n",
              "      [theme=dark] .colab-df-generate:hover {\n",
              "        background-color: #434B5C;\n",
              "        box-shadow: 0px 1px 3px 1px rgba(0, 0, 0, 0.15);\n",
              "        filter: drop-shadow(0px 1px 2px rgba(0, 0, 0, 0.3));\n",
              "        fill: #FFFFFF;\n",
              "      }\n",
              "    </style>\n",
              "    <button class=\"colab-df-generate\" onclick=\"generateWithVariable('small_df')\"\n",
              "            title=\"Generate code using this dataframe.\"\n",
              "            style=\"display:none;\">\n",
              "\n",
              "  <svg xmlns=\"http://www.w3.org/2000/svg\" height=\"24px\"viewBox=\"0 0 24 24\"\n",
              "       width=\"24px\">\n",
              "    <path d=\"M7,19H8.4L18.45,9,17,7.55,7,17.6ZM5,21V16.75L18.45,3.32a2,2,0,0,1,2.83,0l1.4,1.43a1.91,1.91,0,0,1,.58,1.4,1.91,1.91,0,0,1-.58,1.4L9.25,21ZM18.45,9,17,7.55Zm-12,3A5.31,5.31,0,0,0,4.9,8.1,5.31,5.31,0,0,0,1,6.5,5.31,5.31,0,0,0,4.9,4.9,5.31,5.31,0,0,0,6.5,1,5.31,5.31,0,0,0,8.1,4.9,5.31,5.31,0,0,0,12,6.5,5.46,5.46,0,0,0,6.5,12Z\"/>\n",
              "  </svg>\n",
              "    </button>\n",
              "    <script>\n",
              "      (() => {\n",
              "      const buttonEl =\n",
              "        document.querySelector('#id_5c91aa56-b198-4c95-95d7-3d5cf74e59f4 button.colab-df-generate');\n",
              "      buttonEl.style.display =\n",
              "        google.colab.kernel.accessAllowed ? 'block' : 'none';\n",
              "\n",
              "      buttonEl.onclick = () => {\n",
              "        google.colab.notebook.generateWithVariable('small_df');\n",
              "      }\n",
              "      })();\n",
              "    </script>\n",
              "  </div>\n",
              "\n",
              "    </div>\n",
              "  </div>\n"
            ],
            "application/vnd.google.colaboratory.intrinsic+json": {
              "type": "dataframe",
              "variable_name": "small_df",
              "summary": "{\n  \"name\": \"small_df\",\n  \"rows\": 69,\n  \"fields\": [\n    {\n      \"column\": \"genre\",\n      \"properties\": {\n        \"dtype\": \"category\",\n        \"num_unique_values\": 5,\n        \"samples\": [\n          \"entertainment\",\n          \"tech\",\n          \"politics\"\n        ],\n        \"semantic_type\": \"\",\n        \"description\": \"\"\n      }\n    },\n    {\n      \"column\": \"filename\",\n      \"properties\": {\n        \"dtype\": \"string\",\n        \"num_unique_values\": 66,\n        \"samples\": [\n          \"184.txt\",\n          \"320.txt\",\n          \"029.txt\"\n        ],\n        \"semantic_type\": \"\",\n        \"description\": \"\"\n      }\n    },\n    {\n      \"column\": \"title\",\n      \"properties\": {\n        \"dtype\": \"string\",\n        \"num_unique_values\": 69,\n        \"samples\": [\n          \"Fantasy book wins Hollywood deal\",\n          \"UK firm faces Venezuelan land row\",\n          \"Irish finish with home game\"\n        ],\n        \"semantic_type\": \"\",\n        \"description\": \"\"\n      }\n    },\n    {\n      \"column\": \"content\",\n      \"properties\": {\n        \"dtype\": \"string\",\n        \"num_unique_values\": 69,\n        \"samples\": [\n          \" A British author has had the film rights to her children's bestseller snapped up for a seven-figure sum, with Ridley Scott set to direct.  Michelle Paver's Wolf Brother, a fantasy set 6,000 years ago, is the first in a planned series of six books. Film studio Fox has bought the rights for around $4m (\\u00a32.13m) for Scott's company Scott Free to develop. The director said he was \\\"thrilled\\\" with the project. \\\"Wolf Brother is an enchanting book,\\\" he said. Paver, who lives in London and previously worked as a lawyer, began writing the book in 1982 while studying biochemistry at Oxford University.  She was an established author of love stories when she turned the work-in-progress into a children's novel. It was published in 2004, with Paver earning an advance of $5m (\\u00a32.8m) - the highest sum ever paid for a debut children's book. Wolf Brother tells the story of Torak, a 12-year-old hunter who lives in the forest. After his father is killed he teams up with a wolf cub and sets out to rid the forest of an evil force. Paver is currently writing the second book in the series. \\\"Michelle Paver lives and breathes the worlds she writes about,\\\" said a spokesman for the author. \\\"I've told her about the film deal but at the moment she is writing the second book and her mind is 6000 years away deep in the primeval forest.\\\" \",\n          \" Venezuelan authorities have said they will seize land owned by a British company as part of President Chavez's agrarian reform programme.  Officials in Cojedes state said on Friday that farmland owned by a subsidiary of the Vestey Group would be taken and used to settle poor farmers. The government is cracking down on so-called latifundios, or large rural estates, which it says are lying idle. The Vestey Group said it had not been informed of any planned seizure.  The firm, whose Agroflora subsidiary operates 13 farms in Venezuela, insisted that it had complied fully with Venezuelan law. Prosecutors in the south of the country have targeted Hato El Charcote, a beef cattle ranch owned by Agroflora. According to Reuters, they plan to seize 12,900 acres (5,200 hectares) from the 32,000 acre (13,000 hectare) farm.  Officials claim that Agroflora does not possess valid documents proving its ownership of the land in question. They also allege that areas of the ranch are not being used for any form of active production. \\\"The legal boundaries did not match up with the actual boundaries and there is surplus,\\\" state prosecutor Alexis Ortiz told Reuters. \\\"As a consequence the government has taken action.\\\"  Controversial reforms passed in 2001 give the government the right to take control of private property if it is declared idle or ownership cannot be traced back to the 19th Century.  Critics say the powers - which President Chavez argues are needed to help the country's poorest citizens and develop the Venezuelan economy - trample all over private property rights. The Vestey Group said it had owned the land since 1920 and would co-operate fully with the authorities. But a spokesman added: \\\"Agroflora is absolutely confident that what it has submitted will demonstrate the legality of its title to the land.\\\" The company pointed out that the farm, which employs 300 workers, provides meat solely for the Venezuelan market.  Last month, the government said it had identified more than 500 idle farms and had yet to consider the status of a further 40,000. The authorities said landowners whose titles were in order and whose farms were productive had \\\"nothing to fear\\\". Under President Chavez, the Venezuelan government has steadily expanded the state's involvement in the country's economy. It recently said all mining contracts involving foreign firms would be examined to ensure they provided sufficient economic benefits to the state. \",\n          \" Republic of Ireland manager Brian Kerr has been granted his wish for a home game as the final World Cup qualifier.  Ireland will close their bid to reach the 2006 finals by playing Switzerland in Dublin on 12 October 2005. The Republic met the Swiss in their final Euro 2004 qualifier, losing 2-0 away and missing out on a place in the finals in Portugal. The Group Four fixtures were hammered out at a meeting in Dublin on Tuesday. The Irish open their campaign on 4 September at home to Cyprus and wrap up the 10-match series on 12 October 2005, with the visit of Switzerland. Manager Brian Kerr and FAI officials met representatives from Switzerland, France, Cyprus, Israel and the Faroe Islands to arrange the fixture schedule. Kerr had hoped to finish with a clash against France, but got the reigning European champions as their penultimate home match on 7 September 2005. The manager got his wish to avoid a repeat of finishing their bid to qualify with too many away matches.  Republic of Ireland v Cyprus; France v Israel; Switzerland v Faroe Islands.  Switzerland v Republic of Ireland; Israel v Cyprus; Faroe Islands v France.  France v Republic of Ireland; Israel v Switzerland; Cyprus v Faroe Islands.  Republic of Ireland v Faroe Islands; Cyprus v France.  Cyprus v Israel.  France v Switzerland; Israel v Republic of Ireland.  Switzerland v Cyprus; Israel v France.  Republic of Ireland v Israel; Faroe Islands v Switzerland.  Faroe Islands v Republic of Ireland. August 17 - Faroe Islands v Cyprus.  France v Faroe Islands; Switzerland v Israel.  Republic of Ireland v France; Cyprus v Switzerland; Faroe Islands v Israel.  Switzerland v France; Israel v Faroe Islands; Cyprus v Republic of Ireland.  France v Cyprus; Republic of Ireland v Switzerland. \"\n        ],\n        \"semantic_type\": \"\",\n        \"description\": \"\"\n      }\n    }\n  ]\n}"
            }
          },
          "metadata": {},
          "execution_count": 14
        }
      ]
    },
    {
      "cell_type": "markdown",
      "source": [
        "### Métodos de pré processamento"
      ],
      "metadata": {
        "id": "rEe72UyLwHxr"
      }
    },
    {
      "cell_type": "markdown",
      "source": [
        "A partir de agora, será apresentado como realizar diferentes pré-processamentos em dados textuais."
      ],
      "metadata": {
        "id": "L5YTPZ006MJj"
      }
    },
    {
      "cell_type": "markdown",
      "source": [
        "O método abaixo realiza a remoção de caracteres não alfanuméricos. Para isso, cada caracterere das notícias é percorrido. Caso o caractere não seja alfanumérico, o mesmo é substituído por um caractere de espaço."
      ],
      "metadata": {
        "id": "9TIkcxhd0T-4"
      }
    },
    {
      "cell_type": "code",
      "source": [
        "def remove_non_alphanumeric(text):\n",
        "    words = ''\n",
        "    for w in text:\n",
        "        words += w if w.isalnum() else ' '\n",
        "    return words"
      ],
      "metadata": {
        "id": "uVX8L9V00VVk"
      },
      "execution_count": null,
      "outputs": []
    },
    {
      "cell_type": "markdown",
      "source": [
        "Observe abaixo a primeira notícia do DataFrame e o resultado após a chamada do método de remoção de caracteres não alfanuméricos."
      ],
      "metadata": {
        "id": "o1X4BQ9T7Iuy"
      }
    },
    {
      "cell_type": "code",
      "source": [
        "content = small_df['content'][0]\n",
        "content"
      ],
      "metadata": {
        "colab": {
          "base_uri": "https://localhost:8080/",
          "height": 192
        },
        "id": "OUZMzRa37U9p",
        "outputId": "1c2e1363-a2a7-49d5-a96d-26419c4bd5f2"
      },
      "execution_count": null,
      "outputs": [
        {
          "output_type": "execute_result",
          "data": {
            "text/plain": [
              "' Venezuelan authorities have said they will seize land owned by a British company as part of President Chavez\\'s agrarian reform programme.  Officials in Cojedes state said on Friday that farmland owned by a subsidiary of the Vestey Group would be taken and used to settle poor farmers. The government is cracking down on so-called latifundios, or large rural estates, which it says are lying idle. The Vestey Group said it had not been informed of any planned seizure.  The firm, whose Agroflora subsidiary operates 13 farms in Venezuela, insisted that it had complied fully with Venezuelan law. Prosecutors in the south of the country have targeted Hato El Charcote, a beef cattle ranch owned by Agroflora. According to Reuters, they plan to seize 12,900 acres (5,200 hectares) from the 32,000 acre (13,000 hectare) farm.  Officials claim that Agroflora does not possess valid documents proving its ownership of the land in question. They also allege that areas of the ranch are not being used for any form of active production. \"The legal boundaries did not match up with the actual boundaries and there is surplus,\" state prosecutor Alexis Ortiz told Reuters. \"As a consequence the government has taken action.\"  Controversial reforms passed in 2001 give the government the right to take control of private property if it is declared idle or ownership cannot be traced back to the 19th Century.  Critics say the powers - which President Chavez argues are needed to help the country\\'s poorest citizens and develop the Venezuelan economy - trample all over private property rights. The Vestey Group said it had owned the land since 1920 and would co-operate fully with the authorities. But a spokesman added: \"Agroflora is absolutely confident that what it has submitted will demonstrate the legality of its title to the land.\" The company pointed out that the farm, which employs 300 workers, provides meat solely for the Venezuelan market.  Last month, the government said it had identified more than 500 idle farms and had yet to consider the status of a further 40,000. The authorities said landowners whose titles were in order and whose farms were productive had \"nothing to fear\". Under President Chavez, the Venezuelan government has steadily expanded the state\\'s involvement in the country\\'s economy. It recently said all mining contracts involving foreign firms would be examined to ensure they provided sufficient economic benefits to the state. '"
            ],
            "application/vnd.google.colaboratory.intrinsic+json": {
              "type": "string"
            }
          },
          "metadata": {},
          "execution_count": 122
        }
      ]
    },
    {
      "cell_type": "markdown",
      "source": [
        "Note como os caracteres de ponto, vírgula, parênteses, entre outros, foram removidos."
      ],
      "metadata": {
        "id": "ByjZBspM7tF1"
      }
    },
    {
      "cell_type": "code",
      "source": [
        "content = remove_non_alphanumeric(content)\n",
        "content"
      ],
      "metadata": {
        "colab": {
          "base_uri": "https://localhost:8080/",
          "height": 192
        },
        "id": "fGPaLvY963Yr",
        "outputId": "020e4636-a9ee-409b-d9cb-1e0b1befe8c7"
      },
      "execution_count": null,
      "outputs": [
        {
          "output_type": "execute_result",
          "data": {
            "text/plain": [
              "' Venezuelan authorities have said they will seize land owned by a British company as part of President Chavez s agrarian reform programme   Officials in Cojedes state said on Friday that farmland owned by a subsidiary of the Vestey Group would be taken and used to settle poor farmers  The government is cracking down on so called latifundios  or large rural estates  which it says are lying idle  The Vestey Group said it had not been informed of any planned seizure   The firm  whose Agroflora subsidiary operates 13 farms in Venezuela  insisted that it had complied fully with Venezuelan law  Prosecutors in the south of the country have targeted Hato El Charcote  a beef cattle ranch owned by Agroflora  According to Reuters  they plan to seize 12 900 acres  5 200 hectares  from the 32 000 acre  13 000 hectare  farm   Officials claim that Agroflora does not possess valid documents proving its ownership of the land in question  They also allege that areas of the ranch are not being used for any form of active production   The legal boundaries did not match up with the actual boundaries and there is surplus   state prosecutor Alexis Ortiz told Reuters   As a consequence the government has taken action    Controversial reforms passed in 2001 give the government the right to take control of private property if it is declared idle or ownership cannot be traced back to the 19th Century   Critics say the powers   which President Chavez argues are needed to help the country s poorest citizens and develop the Venezuelan economy   trample all over private property rights  The Vestey Group said it had owned the land since 1920 and would co operate fully with the authorities  But a spokesman added   Agroflora is absolutely confident that what it has submitted will demonstrate the legality of its title to the land   The company pointed out that the farm  which employs 300 workers  provides meat solely for the Venezuelan market   Last month  the government said it had identified more than 500 idle farms and had yet to consider the status of a further 40 000  The authorities said landowners whose titles were in order and whose farms were productive had  nothing to fear   Under President Chavez  the Venezuelan government has steadily expanded the state s involvement in the country s economy  It recently said all mining contracts involving foreign firms would be examined to ensure they provided sufficient economic benefits to the state  '"
            ],
            "application/vnd.google.colaboratory.intrinsic+json": {
              "type": "string"
            }
          },
          "metadata": {},
          "execution_count": 123
        }
      ]
    },
    {
      "cell_type": "markdown",
      "source": [
        "Observe a seguir o método do unicode para a remoção de acentos. Esse método é importante para que termos como \"água\" e \"agua\" sejam considerados o mesmo termo, o que reduz o tamanho do vocabulário e otimiza o processamento dos dados."
      ],
      "metadata": {
        "id": "fWBvVYj51EQf"
      }
    },
    {
      "cell_type": "code",
      "source": [
        "def remove_accents(text):\n",
        "  return unidecode.unidecode(text)"
      ],
      "metadata": {
        "id": "ZWFKV-RR1A77"
      },
      "execution_count": null,
      "outputs": []
    },
    {
      "cell_type": "markdown",
      "source": [
        "Abaixo é chamado o método de remoção de acentos. Observe o resultado e compare com o conteúdo da notícia anteriormente. Vale ressaltar que o idioma inglês não possui muitas acentos, então depedendo da notícia não será possível perceber o resultado. Caso deseje, rode o código para palavras como \"café\", \"pelé\", entre outras palavras acentuadas."
      ],
      "metadata": {
        "id": "yZzUFkOY6z6f"
      }
    },
    {
      "cell_type": "code",
      "source": [
        "content = remove_accents(content)\n",
        "content"
      ],
      "metadata": {
        "colab": {
          "base_uri": "https://localhost:8080/",
          "height": 192
        },
        "id": "XMSDWYpW8m-N",
        "outputId": "ddc9aa85-aa0c-4ba6-e9ce-84355d1efd42"
      },
      "execution_count": null,
      "outputs": [
        {
          "output_type": "execute_result",
          "data": {
            "text/plain": [
              "' Venezuelan authorities have said they will seize land owned by a British company as part of President Chavez s agrarian reform programme   Officials in Cojedes state said on Friday that farmland owned by a subsidiary of the Vestey Group would be taken and used to settle poor farmers  The government is cracking down on so called latifundios  or large rural estates  which it says are lying idle  The Vestey Group said it had not been informed of any planned seizure   The firm  whose Agroflora subsidiary operates 13 farms in Venezuela  insisted that it had complied fully with Venezuelan law  Prosecutors in the south of the country have targeted Hato El Charcote  a beef cattle ranch owned by Agroflora  According to Reuters  they plan to seize 12 900 acres  5 200 hectares  from the 32 000 acre  13 000 hectare  farm   Officials claim that Agroflora does not possess valid documents proving its ownership of the land in question  They also allege that areas of the ranch are not being used for any form of active production   The legal boundaries did not match up with the actual boundaries and there is surplus   state prosecutor Alexis Ortiz told Reuters   As a consequence the government has taken action    Controversial reforms passed in 2001 give the government the right to take control of private property if it is declared idle or ownership cannot be traced back to the 19th Century   Critics say the powers   which President Chavez argues are needed to help the country s poorest citizens and develop the Venezuelan economy   trample all over private property rights  The Vestey Group said it had owned the land since 1920 and would co operate fully with the authorities  But a spokesman added   Agroflora is absolutely confident that what it has submitted will demonstrate the legality of its title to the land   The company pointed out that the farm  which employs 300 workers  provides meat solely for the Venezuelan market   Last month  the government said it had identified more than 500 idle farms and had yet to consider the status of a further 40 000  The authorities said landowners whose titles were in order and whose farms were productive had  nothing to fear   Under President Chavez  the Venezuelan government has steadily expanded the state s involvement in the country s economy  It recently said all mining contracts involving foreign firms would be examined to ensure they provided sufficient economic benefits to the state  '"
            ],
            "application/vnd.google.colaboratory.intrinsic+json": {
              "type": "string"
            }
          },
          "metadata": {},
          "execution_count": 124
        }
      ]
    },
    {
      "cell_type": "markdown",
      "source": [
        "Exemplo de texto em português com acentos para verificar a remoção de acentos."
      ],
      "metadata": {
        "id": "9N40R58n-6L5"
      }
    },
    {
      "cell_type": "code",
      "source": [
        "text_exemple = \"minha terra tem palmeiras onde canta o sabiá as aves que aqui gorjeiam não gorjeiam como lá\"\n",
        "text_exemple = remove_accents(text_exemple)\n",
        "text_exemple"
      ],
      "metadata": {
        "colab": {
          "base_uri": "https://localhost:8080/",
          "height": 35
        },
        "id": "aeBJIhm_90Gp",
        "outputId": "813b29cf-cbd8-4fe7-d56b-6435f67e1e4e"
      },
      "execution_count": null,
      "outputs": [
        {
          "output_type": "execute_result",
          "data": {
            "text/plain": [
              "'minha terra tem palmeiras onde canta o sabia as aves que aqui gorjeiam nao gorjeiam como la'"
            ],
            "application/vnd.google.colaboratory.intrinsic+json": {
              "type": "string"
            }
          },
          "metadata": {},
          "execution_count": 116
        }
      ]
    },
    {
      "cell_type": "markdown",
      "source": [
        "Para tokenizar as notícias, foi utilizada uma função pronta da biblioteca \"nltk\". Note o resultado após a chamada do método."
      ],
      "metadata": {
        "id": "wqgWn-KTF3bZ"
      }
    },
    {
      "cell_type": "code",
      "source": [
        "content = word_tokenize(content)\n",
        "content"
      ],
      "metadata": {
        "colab": {
          "base_uri": "https://localhost:8080/"
        },
        "collapsed": true,
        "id": "-Z2z6vFMFX25",
        "outputId": "b8f1ebcd-6caa-4103-870b-cbb2e7f842cc"
      },
      "execution_count": null,
      "outputs": [
        {
          "output_type": "execute_result",
          "data": {
            "text/plain": [
              "['Venezuelan',\n",
              " 'authorities',\n",
              " 'have',\n",
              " 'said',\n",
              " 'they',\n",
              " 'will',\n",
              " 'seize',\n",
              " 'land',\n",
              " 'owned',\n",
              " 'by',\n",
              " 'a',\n",
              " 'British',\n",
              " 'company',\n",
              " 'as',\n",
              " 'part',\n",
              " 'of',\n",
              " 'President',\n",
              " 'Chavez',\n",
              " 's',\n",
              " 'agrarian',\n",
              " 'reform',\n",
              " 'programme',\n",
              " 'Officials',\n",
              " 'in',\n",
              " 'Cojedes',\n",
              " 'state',\n",
              " 'said',\n",
              " 'on',\n",
              " 'Friday',\n",
              " 'that',\n",
              " 'farmland',\n",
              " 'owned',\n",
              " 'by',\n",
              " 'a',\n",
              " 'subsidiary',\n",
              " 'of',\n",
              " 'the',\n",
              " 'Vestey',\n",
              " 'Group',\n",
              " 'would',\n",
              " 'be',\n",
              " 'taken',\n",
              " 'and',\n",
              " 'used',\n",
              " 'to',\n",
              " 'settle',\n",
              " 'poor',\n",
              " 'farmers',\n",
              " 'The',\n",
              " 'government',\n",
              " 'is',\n",
              " 'cracking',\n",
              " 'down',\n",
              " 'on',\n",
              " 'so',\n",
              " 'called',\n",
              " 'latifundios',\n",
              " 'or',\n",
              " 'large',\n",
              " 'rural',\n",
              " 'estates',\n",
              " 'which',\n",
              " 'it',\n",
              " 'says',\n",
              " 'are',\n",
              " 'lying',\n",
              " 'idle',\n",
              " 'The',\n",
              " 'Vestey',\n",
              " 'Group',\n",
              " 'said',\n",
              " 'it',\n",
              " 'had',\n",
              " 'not',\n",
              " 'been',\n",
              " 'informed',\n",
              " 'of',\n",
              " 'any',\n",
              " 'planned',\n",
              " 'seizure',\n",
              " 'The',\n",
              " 'firm',\n",
              " 'whose',\n",
              " 'Agroflora',\n",
              " 'subsidiary',\n",
              " 'operates',\n",
              " '13',\n",
              " 'farms',\n",
              " 'in',\n",
              " 'Venezuela',\n",
              " 'insisted',\n",
              " 'that',\n",
              " 'it',\n",
              " 'had',\n",
              " 'complied',\n",
              " 'fully',\n",
              " 'with',\n",
              " 'Venezuelan',\n",
              " 'law',\n",
              " 'Prosecutors',\n",
              " 'in',\n",
              " 'the',\n",
              " 'south',\n",
              " 'of',\n",
              " 'the',\n",
              " 'country',\n",
              " 'have',\n",
              " 'targeted',\n",
              " 'Hato',\n",
              " 'El',\n",
              " 'Charcote',\n",
              " 'a',\n",
              " 'beef',\n",
              " 'cattle',\n",
              " 'ranch',\n",
              " 'owned',\n",
              " 'by',\n",
              " 'Agroflora',\n",
              " 'According',\n",
              " 'to',\n",
              " 'Reuters',\n",
              " 'they',\n",
              " 'plan',\n",
              " 'to',\n",
              " 'seize',\n",
              " '12',\n",
              " '900',\n",
              " 'acres',\n",
              " '5',\n",
              " '200',\n",
              " 'hectares',\n",
              " 'from',\n",
              " 'the',\n",
              " '32',\n",
              " '000',\n",
              " 'acre',\n",
              " '13',\n",
              " '000',\n",
              " 'hectare',\n",
              " 'farm',\n",
              " 'Officials',\n",
              " 'claim',\n",
              " 'that',\n",
              " 'Agroflora',\n",
              " 'does',\n",
              " 'not',\n",
              " 'possess',\n",
              " 'valid',\n",
              " 'documents',\n",
              " 'proving',\n",
              " 'its',\n",
              " 'ownership',\n",
              " 'of',\n",
              " 'the',\n",
              " 'land',\n",
              " 'in',\n",
              " 'question',\n",
              " 'They',\n",
              " 'also',\n",
              " 'allege',\n",
              " 'that',\n",
              " 'areas',\n",
              " 'of',\n",
              " 'the',\n",
              " 'ranch',\n",
              " 'are',\n",
              " 'not',\n",
              " 'being',\n",
              " 'used',\n",
              " 'for',\n",
              " 'any',\n",
              " 'form',\n",
              " 'of',\n",
              " 'active',\n",
              " 'production',\n",
              " 'The',\n",
              " 'legal',\n",
              " 'boundaries',\n",
              " 'did',\n",
              " 'not',\n",
              " 'match',\n",
              " 'up',\n",
              " 'with',\n",
              " 'the',\n",
              " 'actual',\n",
              " 'boundaries',\n",
              " 'and',\n",
              " 'there',\n",
              " 'is',\n",
              " 'surplus',\n",
              " 'state',\n",
              " 'prosecutor',\n",
              " 'Alexis',\n",
              " 'Ortiz',\n",
              " 'told',\n",
              " 'Reuters',\n",
              " 'As',\n",
              " 'a',\n",
              " 'consequence',\n",
              " 'the',\n",
              " 'government',\n",
              " 'has',\n",
              " 'taken',\n",
              " 'action',\n",
              " 'Controversial',\n",
              " 'reforms',\n",
              " 'passed',\n",
              " 'in',\n",
              " '2001',\n",
              " 'give',\n",
              " 'the',\n",
              " 'government',\n",
              " 'the',\n",
              " 'right',\n",
              " 'to',\n",
              " 'take',\n",
              " 'control',\n",
              " 'of',\n",
              " 'private',\n",
              " 'property',\n",
              " 'if',\n",
              " 'it',\n",
              " 'is',\n",
              " 'declared',\n",
              " 'idle',\n",
              " 'or',\n",
              " 'ownership',\n",
              " 'can',\n",
              " 'not',\n",
              " 'be',\n",
              " 'traced',\n",
              " 'back',\n",
              " 'to',\n",
              " 'the',\n",
              " '19th',\n",
              " 'Century',\n",
              " 'Critics',\n",
              " 'say',\n",
              " 'the',\n",
              " 'powers',\n",
              " 'which',\n",
              " 'President',\n",
              " 'Chavez',\n",
              " 'argues',\n",
              " 'are',\n",
              " 'needed',\n",
              " 'to',\n",
              " 'help',\n",
              " 'the',\n",
              " 'country',\n",
              " 's',\n",
              " 'poorest',\n",
              " 'citizens',\n",
              " 'and',\n",
              " 'develop',\n",
              " 'the',\n",
              " 'Venezuelan',\n",
              " 'economy',\n",
              " 'trample',\n",
              " 'all',\n",
              " 'over',\n",
              " 'private',\n",
              " 'property',\n",
              " 'rights',\n",
              " 'The',\n",
              " 'Vestey',\n",
              " 'Group',\n",
              " 'said',\n",
              " 'it',\n",
              " 'had',\n",
              " 'owned',\n",
              " 'the',\n",
              " 'land',\n",
              " 'since',\n",
              " '1920',\n",
              " 'and',\n",
              " 'would',\n",
              " 'co',\n",
              " 'operate',\n",
              " 'fully',\n",
              " 'with',\n",
              " 'the',\n",
              " 'authorities',\n",
              " 'But',\n",
              " 'a',\n",
              " 'spokesman',\n",
              " 'added',\n",
              " 'Agroflora',\n",
              " 'is',\n",
              " 'absolutely',\n",
              " 'confident',\n",
              " 'that',\n",
              " 'what',\n",
              " 'it',\n",
              " 'has',\n",
              " 'submitted',\n",
              " 'will',\n",
              " 'demonstrate',\n",
              " 'the',\n",
              " 'legality',\n",
              " 'of',\n",
              " 'its',\n",
              " 'title',\n",
              " 'to',\n",
              " 'the',\n",
              " 'land',\n",
              " 'The',\n",
              " 'company',\n",
              " 'pointed',\n",
              " 'out',\n",
              " 'that',\n",
              " 'the',\n",
              " 'farm',\n",
              " 'which',\n",
              " 'employs',\n",
              " '300',\n",
              " 'workers',\n",
              " 'provides',\n",
              " 'meat',\n",
              " 'solely',\n",
              " 'for',\n",
              " 'the',\n",
              " 'Venezuelan',\n",
              " 'market',\n",
              " 'Last',\n",
              " 'month',\n",
              " 'the',\n",
              " 'government',\n",
              " 'said',\n",
              " 'it',\n",
              " 'had',\n",
              " 'identified',\n",
              " 'more',\n",
              " 'than',\n",
              " '500',\n",
              " 'idle',\n",
              " 'farms',\n",
              " 'and',\n",
              " 'had',\n",
              " 'yet',\n",
              " 'to',\n",
              " 'consider',\n",
              " 'the',\n",
              " 'status',\n",
              " 'of',\n",
              " 'a',\n",
              " 'further',\n",
              " '40',\n",
              " '000',\n",
              " 'The',\n",
              " 'authorities',\n",
              " 'said',\n",
              " 'landowners',\n",
              " 'whose',\n",
              " 'titles',\n",
              " 'were',\n",
              " 'in',\n",
              " 'order',\n",
              " 'and',\n",
              " 'whose',\n",
              " 'farms',\n",
              " 'were',\n",
              " 'productive',\n",
              " 'had',\n",
              " 'nothing',\n",
              " 'to',\n",
              " 'fear',\n",
              " 'Under',\n",
              " 'President',\n",
              " 'Chavez',\n",
              " 'the',\n",
              " 'Venezuelan',\n",
              " 'government',\n",
              " 'has',\n",
              " 'steadily',\n",
              " 'expanded',\n",
              " 'the',\n",
              " 'state',\n",
              " 's',\n",
              " 'involvement',\n",
              " 'in',\n",
              " 'the',\n",
              " 'country',\n",
              " 's',\n",
              " 'economy',\n",
              " 'It',\n",
              " 'recently',\n",
              " 'said',\n",
              " 'all',\n",
              " 'mining',\n",
              " 'contracts',\n",
              " 'involving',\n",
              " 'foreign',\n",
              " 'firms',\n",
              " 'would',\n",
              " 'be',\n",
              " 'examined',\n",
              " 'to',\n",
              " 'ensure',\n",
              " 'they',\n",
              " 'provided',\n",
              " 'sufficient',\n",
              " 'economic',\n",
              " 'benefits',\n",
              " 'to',\n",
              " 'the',\n",
              " 'state']"
            ]
          },
          "metadata": {},
          "execution_count": 125
        }
      ]
    },
    {
      "cell_type": "markdown",
      "source": [
        "O código abaixo realiza o lowecasing dos caracteres, isto é, todos os caracteres são transformados para minúsculo. Note que o resultado também estará tokenizado."
      ],
      "metadata": {
        "id": "TVL8bYjV1Uts"
      }
    },
    {
      "cell_type": "code",
      "source": [
        "def lowercasing(tokens):\n",
        "  tokens = [w.lower() for w in tokens]\n",
        "  return tokens"
      ],
      "metadata": {
        "id": "Whwa-0z31Se_"
      },
      "execution_count": null,
      "outputs": []
    },
    {
      "cell_type": "markdown",
      "source": [
        "Abaixo é chamado o método de lowercasing para a primeira notícia do DataFrame. Note que os caracteres foram transformadas em caracteres minúsculos."
      ],
      "metadata": {
        "id": "tq5Rz6Dl_TKX"
      }
    },
    {
      "cell_type": "code",
      "source": [
        "content = lowercasing(content)\n",
        "content"
      ],
      "metadata": {
        "colab": {
          "base_uri": "https://localhost:8080/"
        },
        "collapsed": true,
        "id": "h_AwTdGM_Q_1",
        "outputId": "d80e5326-311c-401a-e6dd-4bc759900633"
      },
      "execution_count": null,
      "outputs": [
        {
          "output_type": "execute_result",
          "data": {
            "text/plain": [
              "['venezuelan',\n",
              " 'authorities',\n",
              " 'have',\n",
              " 'said',\n",
              " 'they',\n",
              " 'will',\n",
              " 'seize',\n",
              " 'land',\n",
              " 'owned',\n",
              " 'by',\n",
              " 'a',\n",
              " 'british',\n",
              " 'company',\n",
              " 'as',\n",
              " 'part',\n",
              " 'of',\n",
              " 'president',\n",
              " 'chavez',\n",
              " 's',\n",
              " 'agrarian',\n",
              " 'reform',\n",
              " 'programme',\n",
              " 'officials',\n",
              " 'in',\n",
              " 'cojedes',\n",
              " 'state',\n",
              " 'said',\n",
              " 'on',\n",
              " 'friday',\n",
              " 'that',\n",
              " 'farmland',\n",
              " 'owned',\n",
              " 'by',\n",
              " 'a',\n",
              " 'subsidiary',\n",
              " 'of',\n",
              " 'the',\n",
              " 'vestey',\n",
              " 'group',\n",
              " 'would',\n",
              " 'be',\n",
              " 'taken',\n",
              " 'and',\n",
              " 'used',\n",
              " 'to',\n",
              " 'settle',\n",
              " 'poor',\n",
              " 'farmers',\n",
              " 'the',\n",
              " 'government',\n",
              " 'is',\n",
              " 'cracking',\n",
              " 'down',\n",
              " 'on',\n",
              " 'so',\n",
              " 'called',\n",
              " 'latifundios',\n",
              " 'or',\n",
              " 'large',\n",
              " 'rural',\n",
              " 'estates',\n",
              " 'which',\n",
              " 'it',\n",
              " 'says',\n",
              " 'are',\n",
              " 'lying',\n",
              " 'idle',\n",
              " 'the',\n",
              " 'vestey',\n",
              " 'group',\n",
              " 'said',\n",
              " 'it',\n",
              " 'had',\n",
              " 'not',\n",
              " 'been',\n",
              " 'informed',\n",
              " 'of',\n",
              " 'any',\n",
              " 'planned',\n",
              " 'seizure',\n",
              " 'the',\n",
              " 'firm',\n",
              " 'whose',\n",
              " 'agroflora',\n",
              " 'subsidiary',\n",
              " 'operates',\n",
              " '13',\n",
              " 'farms',\n",
              " 'in',\n",
              " 'venezuela',\n",
              " 'insisted',\n",
              " 'that',\n",
              " 'it',\n",
              " 'had',\n",
              " 'complied',\n",
              " 'fully',\n",
              " 'with',\n",
              " 'venezuelan',\n",
              " 'law',\n",
              " 'prosecutors',\n",
              " 'in',\n",
              " 'the',\n",
              " 'south',\n",
              " 'of',\n",
              " 'the',\n",
              " 'country',\n",
              " 'have',\n",
              " 'targeted',\n",
              " 'hato',\n",
              " 'el',\n",
              " 'charcote',\n",
              " 'a',\n",
              " 'beef',\n",
              " 'cattle',\n",
              " 'ranch',\n",
              " 'owned',\n",
              " 'by',\n",
              " 'agroflora',\n",
              " 'according',\n",
              " 'to',\n",
              " 'reuters',\n",
              " 'they',\n",
              " 'plan',\n",
              " 'to',\n",
              " 'seize',\n",
              " '12',\n",
              " '900',\n",
              " 'acres',\n",
              " '5',\n",
              " '200',\n",
              " 'hectares',\n",
              " 'from',\n",
              " 'the',\n",
              " '32',\n",
              " '000',\n",
              " 'acre',\n",
              " '13',\n",
              " '000',\n",
              " 'hectare',\n",
              " 'farm',\n",
              " 'officials',\n",
              " 'claim',\n",
              " 'that',\n",
              " 'agroflora',\n",
              " 'does',\n",
              " 'not',\n",
              " 'possess',\n",
              " 'valid',\n",
              " 'documents',\n",
              " 'proving',\n",
              " 'its',\n",
              " 'ownership',\n",
              " 'of',\n",
              " 'the',\n",
              " 'land',\n",
              " 'in',\n",
              " 'question',\n",
              " 'they',\n",
              " 'also',\n",
              " 'allege',\n",
              " 'that',\n",
              " 'areas',\n",
              " 'of',\n",
              " 'the',\n",
              " 'ranch',\n",
              " 'are',\n",
              " 'not',\n",
              " 'being',\n",
              " 'used',\n",
              " 'for',\n",
              " 'any',\n",
              " 'form',\n",
              " 'of',\n",
              " 'active',\n",
              " 'production',\n",
              " 'the',\n",
              " 'legal',\n",
              " 'boundaries',\n",
              " 'did',\n",
              " 'not',\n",
              " 'match',\n",
              " 'up',\n",
              " 'with',\n",
              " 'the',\n",
              " 'actual',\n",
              " 'boundaries',\n",
              " 'and',\n",
              " 'there',\n",
              " 'is',\n",
              " 'surplus',\n",
              " 'state',\n",
              " 'prosecutor',\n",
              " 'alexis',\n",
              " 'ortiz',\n",
              " 'told',\n",
              " 'reuters',\n",
              " 'as',\n",
              " 'a',\n",
              " 'consequence',\n",
              " 'the',\n",
              " 'government',\n",
              " 'has',\n",
              " 'taken',\n",
              " 'action',\n",
              " 'controversial',\n",
              " 'reforms',\n",
              " 'passed',\n",
              " 'in',\n",
              " '2001',\n",
              " 'give',\n",
              " 'the',\n",
              " 'government',\n",
              " 'the',\n",
              " 'right',\n",
              " 'to',\n",
              " 'take',\n",
              " 'control',\n",
              " 'of',\n",
              " 'private',\n",
              " 'property',\n",
              " 'if',\n",
              " 'it',\n",
              " 'is',\n",
              " 'declared',\n",
              " 'idle',\n",
              " 'or',\n",
              " 'ownership',\n",
              " 'can',\n",
              " 'not',\n",
              " 'be',\n",
              " 'traced',\n",
              " 'back',\n",
              " 'to',\n",
              " 'the',\n",
              " '19th',\n",
              " 'century',\n",
              " 'critics',\n",
              " 'say',\n",
              " 'the',\n",
              " 'powers',\n",
              " 'which',\n",
              " 'president',\n",
              " 'chavez',\n",
              " 'argues',\n",
              " 'are',\n",
              " 'needed',\n",
              " 'to',\n",
              " 'help',\n",
              " 'the',\n",
              " 'country',\n",
              " 's',\n",
              " 'poorest',\n",
              " 'citizens',\n",
              " 'and',\n",
              " 'develop',\n",
              " 'the',\n",
              " 'venezuelan',\n",
              " 'economy',\n",
              " 'trample',\n",
              " 'all',\n",
              " 'over',\n",
              " 'private',\n",
              " 'property',\n",
              " 'rights',\n",
              " 'the',\n",
              " 'vestey',\n",
              " 'group',\n",
              " 'said',\n",
              " 'it',\n",
              " 'had',\n",
              " 'owned',\n",
              " 'the',\n",
              " 'land',\n",
              " 'since',\n",
              " '1920',\n",
              " 'and',\n",
              " 'would',\n",
              " 'co',\n",
              " 'operate',\n",
              " 'fully',\n",
              " 'with',\n",
              " 'the',\n",
              " 'authorities',\n",
              " 'but',\n",
              " 'a',\n",
              " 'spokesman',\n",
              " 'added',\n",
              " 'agroflora',\n",
              " 'is',\n",
              " 'absolutely',\n",
              " 'confident',\n",
              " 'that',\n",
              " 'what',\n",
              " 'it',\n",
              " 'has',\n",
              " 'submitted',\n",
              " 'will',\n",
              " 'demonstrate',\n",
              " 'the',\n",
              " 'legality',\n",
              " 'of',\n",
              " 'its',\n",
              " 'title',\n",
              " 'to',\n",
              " 'the',\n",
              " 'land',\n",
              " 'the',\n",
              " 'company',\n",
              " 'pointed',\n",
              " 'out',\n",
              " 'that',\n",
              " 'the',\n",
              " 'farm',\n",
              " 'which',\n",
              " 'employs',\n",
              " '300',\n",
              " 'workers',\n",
              " 'provides',\n",
              " 'meat',\n",
              " 'solely',\n",
              " 'for',\n",
              " 'the',\n",
              " 'venezuelan',\n",
              " 'market',\n",
              " 'last',\n",
              " 'month',\n",
              " 'the',\n",
              " 'government',\n",
              " 'said',\n",
              " 'it',\n",
              " 'had',\n",
              " 'identified',\n",
              " 'more',\n",
              " 'than',\n",
              " '500',\n",
              " 'idle',\n",
              " 'farms',\n",
              " 'and',\n",
              " 'had',\n",
              " 'yet',\n",
              " 'to',\n",
              " 'consider',\n",
              " 'the',\n",
              " 'status',\n",
              " 'of',\n",
              " 'a',\n",
              " 'further',\n",
              " '40',\n",
              " '000',\n",
              " 'the',\n",
              " 'authorities',\n",
              " 'said',\n",
              " 'landowners',\n",
              " 'whose',\n",
              " 'titles',\n",
              " 'were',\n",
              " 'in',\n",
              " 'order',\n",
              " 'and',\n",
              " 'whose',\n",
              " 'farms',\n",
              " 'were',\n",
              " 'productive',\n",
              " 'had',\n",
              " 'nothing',\n",
              " 'to',\n",
              " 'fear',\n",
              " 'under',\n",
              " 'president',\n",
              " 'chavez',\n",
              " 'the',\n",
              " 'venezuelan',\n",
              " 'government',\n",
              " 'has',\n",
              " 'steadily',\n",
              " 'expanded',\n",
              " 'the',\n",
              " 'state',\n",
              " 's',\n",
              " 'involvement',\n",
              " 'in',\n",
              " 'the',\n",
              " 'country',\n",
              " 's',\n",
              " 'economy',\n",
              " 'it',\n",
              " 'recently',\n",
              " 'said',\n",
              " 'all',\n",
              " 'mining',\n",
              " 'contracts',\n",
              " 'involving',\n",
              " 'foreign',\n",
              " 'firms',\n",
              " 'would',\n",
              " 'be',\n",
              " 'examined',\n",
              " 'to',\n",
              " 'ensure',\n",
              " 'they',\n",
              " 'provided',\n",
              " 'sufficient',\n",
              " 'economic',\n",
              " 'benefits',\n",
              " 'to',\n",
              " 'the',\n",
              " 'state']"
            ]
          },
          "metadata": {},
          "execution_count": 126
        }
      ]
    },
    {
      "cell_type": "markdown",
      "source": [
        "O método abaixo remove palavras que não acrescentam informação semântica no texto, mas que aparecem com frequência, as chamadas *stop words*. Note que é utilizada uma lista de stop words padrão fornecida pela biblioteca *nltk*. Assim, é percorrido cada token do texto e caso o token não seja uma stop word, o token é acrescentado na lista de tokens."
      ],
      "metadata": {
        "id": "NIbJuOSQ1xH3"
      }
    },
    {
      "cell_type": "code",
      "source": [
        "def remove_stop_words(tokens):\n",
        "  stop_words = set(stopwords.words('english')) #List of stop words in english\n",
        "  tokens = [token for token in tokens if token.lower() not in stop_words]\n",
        "  return tokens"
      ],
      "metadata": {
        "id": "iA-O1xqv1uqk"
      },
      "execution_count": null,
      "outputs": []
    },
    {
      "cell_type": "markdown",
      "source": [
        "O código abaixo chama o método de remoção de stop words para a primeira notícia do DataFrame. Observe o resultado e note que palavras como \"have\", \"will\", \"by\", entre outras foram removidas."
      ],
      "metadata": {
        "id": "aunHvVy1AHbe"
      }
    },
    {
      "cell_type": "code",
      "source": [
        "content = remove_stop_words(content)\n",
        "content"
      ],
      "metadata": {
        "colab": {
          "base_uri": "https://localhost:8080/"
        },
        "collapsed": true,
        "id": "mDFPxn9AAFa9",
        "outputId": "4d5c8e1f-a8ec-43d9-f4a7-569d4a1313d1"
      },
      "execution_count": null,
      "outputs": [
        {
          "output_type": "execute_result",
          "data": {
            "text/plain": [
              "['venezuelan',\n",
              " 'authorities',\n",
              " 'said',\n",
              " 'seize',\n",
              " 'land',\n",
              " 'owned',\n",
              " 'british',\n",
              " 'company',\n",
              " 'part',\n",
              " 'president',\n",
              " 'chavez',\n",
              " 'agrarian',\n",
              " 'reform',\n",
              " 'programme',\n",
              " 'officials',\n",
              " 'cojedes',\n",
              " 'state',\n",
              " 'said',\n",
              " 'friday',\n",
              " 'farmland',\n",
              " 'owned',\n",
              " 'subsidiary',\n",
              " 'vestey',\n",
              " 'group',\n",
              " 'would',\n",
              " 'taken',\n",
              " 'used',\n",
              " 'settle',\n",
              " 'poor',\n",
              " 'farmers',\n",
              " 'government',\n",
              " 'cracking',\n",
              " 'called',\n",
              " 'latifundios',\n",
              " 'large',\n",
              " 'rural',\n",
              " 'estates',\n",
              " 'says',\n",
              " 'lying',\n",
              " 'idle',\n",
              " 'vestey',\n",
              " 'group',\n",
              " 'said',\n",
              " 'informed',\n",
              " 'planned',\n",
              " 'seizure',\n",
              " 'firm',\n",
              " 'whose',\n",
              " 'agroflora',\n",
              " 'subsidiary',\n",
              " 'operates',\n",
              " '13',\n",
              " 'farms',\n",
              " 'venezuela',\n",
              " 'insisted',\n",
              " 'complied',\n",
              " 'fully',\n",
              " 'venezuelan',\n",
              " 'law',\n",
              " 'prosecutors',\n",
              " 'south',\n",
              " 'country',\n",
              " 'targeted',\n",
              " 'hato',\n",
              " 'el',\n",
              " 'charcote',\n",
              " 'beef',\n",
              " 'cattle',\n",
              " 'ranch',\n",
              " 'owned',\n",
              " 'agroflora',\n",
              " 'according',\n",
              " 'reuters',\n",
              " 'plan',\n",
              " 'seize',\n",
              " '12',\n",
              " '900',\n",
              " 'acres',\n",
              " '5',\n",
              " '200',\n",
              " 'hectares',\n",
              " '32',\n",
              " '000',\n",
              " 'acre',\n",
              " '13',\n",
              " '000',\n",
              " 'hectare',\n",
              " 'farm',\n",
              " 'officials',\n",
              " 'claim',\n",
              " 'agroflora',\n",
              " 'possess',\n",
              " 'valid',\n",
              " 'documents',\n",
              " 'proving',\n",
              " 'ownership',\n",
              " 'land',\n",
              " 'question',\n",
              " 'also',\n",
              " 'allege',\n",
              " 'areas',\n",
              " 'ranch',\n",
              " 'used',\n",
              " 'form',\n",
              " 'active',\n",
              " 'production',\n",
              " 'legal',\n",
              " 'boundaries',\n",
              " 'match',\n",
              " 'actual',\n",
              " 'boundaries',\n",
              " 'surplus',\n",
              " 'state',\n",
              " 'prosecutor',\n",
              " 'alexis',\n",
              " 'ortiz',\n",
              " 'told',\n",
              " 'reuters',\n",
              " 'consequence',\n",
              " 'government',\n",
              " 'taken',\n",
              " 'action',\n",
              " 'controversial',\n",
              " 'reforms',\n",
              " 'passed',\n",
              " '2001',\n",
              " 'give',\n",
              " 'government',\n",
              " 'right',\n",
              " 'take',\n",
              " 'control',\n",
              " 'private',\n",
              " 'property',\n",
              " 'declared',\n",
              " 'idle',\n",
              " 'ownership',\n",
              " 'traced',\n",
              " 'back',\n",
              " '19th',\n",
              " 'century',\n",
              " 'critics',\n",
              " 'say',\n",
              " 'powers',\n",
              " 'president',\n",
              " 'chavez',\n",
              " 'argues',\n",
              " 'needed',\n",
              " 'help',\n",
              " 'country',\n",
              " 'poorest',\n",
              " 'citizens',\n",
              " 'develop',\n",
              " 'venezuelan',\n",
              " 'economy',\n",
              " 'trample',\n",
              " 'private',\n",
              " 'property',\n",
              " 'rights',\n",
              " 'vestey',\n",
              " 'group',\n",
              " 'said',\n",
              " 'owned',\n",
              " 'land',\n",
              " 'since',\n",
              " '1920',\n",
              " 'would',\n",
              " 'co',\n",
              " 'operate',\n",
              " 'fully',\n",
              " 'authorities',\n",
              " 'spokesman',\n",
              " 'added',\n",
              " 'agroflora',\n",
              " 'absolutely',\n",
              " 'confident',\n",
              " 'submitted',\n",
              " 'demonstrate',\n",
              " 'legality',\n",
              " 'title',\n",
              " 'land',\n",
              " 'company',\n",
              " 'pointed',\n",
              " 'farm',\n",
              " 'employs',\n",
              " '300',\n",
              " 'workers',\n",
              " 'provides',\n",
              " 'meat',\n",
              " 'solely',\n",
              " 'venezuelan',\n",
              " 'market',\n",
              " 'last',\n",
              " 'month',\n",
              " 'government',\n",
              " 'said',\n",
              " 'identified',\n",
              " '500',\n",
              " 'idle',\n",
              " 'farms',\n",
              " 'yet',\n",
              " 'consider',\n",
              " 'status',\n",
              " '40',\n",
              " '000',\n",
              " 'authorities',\n",
              " 'said',\n",
              " 'landowners',\n",
              " 'whose',\n",
              " 'titles',\n",
              " 'order',\n",
              " 'whose',\n",
              " 'farms',\n",
              " 'productive',\n",
              " 'nothing',\n",
              " 'fear',\n",
              " 'president',\n",
              " 'chavez',\n",
              " 'venezuelan',\n",
              " 'government',\n",
              " 'steadily',\n",
              " 'expanded',\n",
              " 'state',\n",
              " 'involvement',\n",
              " 'country',\n",
              " 'economy',\n",
              " 'recently',\n",
              " 'said',\n",
              " 'mining',\n",
              " 'contracts',\n",
              " 'involving',\n",
              " 'foreign',\n",
              " 'firms',\n",
              " 'would',\n",
              " 'examined',\n",
              " 'ensure',\n",
              " 'provided',\n",
              " 'sufficient',\n",
              " 'economic',\n",
              " 'benefits',\n",
              " 'state']"
            ]
          },
          "metadata": {},
          "execution_count": 128
        }
      ]
    },
    {
      "cell_type": "markdown",
      "source": [
        "O código abaixo realiza a lematização dos tokens. Para isso, é instanciado um modelo da biblioteca *spaCy* . Em seguida, os tokens são passados como parâmetro e para cada token é adicionado seu lemma em uma lista de tokens."
      ],
      "metadata": {
        "id": "MRZtSXuY3yzW"
      }
    },
    {
      "cell_type": "code",
      "source": [
        "def lemmatization(text):\n",
        "    nlp = spacy.load(\"en_core_web_sm\")    # Load English language model\n",
        "    doc = nlp(text)   # Process the text using the Spacy NLP\n",
        "    tokens = [token.lemma_ for token in doc]\n",
        "    return tokens"
      ],
      "metadata": {
        "id": "rgIbQHmU3wN4"
      },
      "execution_count": null,
      "outputs": []
    },
    {
      "cell_type": "markdown",
      "source": [
        "Abaixo é chamado o método de \"lemamatization\" para a primeira notícia do DataFrame. Observe que as palavras retornam a sua forma base, por exemplo \"said\" retorna para \"say\"."
      ],
      "metadata": {
        "id": "HU6Qq-y5IFoi"
      }
    },
    {
      "cell_type": "code",
      "source": [
        "content = lemmatization(' '.join(content))\n",
        "content"
      ],
      "metadata": {
        "colab": {
          "base_uri": "https://localhost:8080/"
        },
        "collapsed": true,
        "id": "zUwDSddlHU4l",
        "outputId": "50bac0e4-c3e3-429a-8b6a-84fb0756a250"
      },
      "execution_count": null,
      "outputs": [
        {
          "output_type": "execute_result",
          "data": {
            "text/plain": [
              "['venezuelan',\n",
              " 'authority',\n",
              " 'say',\n",
              " 'seize',\n",
              " 'land',\n",
              " 'own',\n",
              " 'british',\n",
              " 'company',\n",
              " 'part',\n",
              " 'president',\n",
              " 'chavez',\n",
              " 'agrarian',\n",
              " 'reform',\n",
              " 'programme',\n",
              " 'official',\n",
              " 'cojede',\n",
              " 'state',\n",
              " 'say',\n",
              " 'friday',\n",
              " 'farmland',\n",
              " 'own',\n",
              " 'subsidiary',\n",
              " 'vestey',\n",
              " 'group',\n",
              " 'would',\n",
              " 'take',\n",
              " 'use',\n",
              " 'settle',\n",
              " 'poor',\n",
              " 'farmer',\n",
              " 'government',\n",
              " 'crack',\n",
              " 'call',\n",
              " 'latifundio',\n",
              " 'large',\n",
              " 'rural',\n",
              " 'estate',\n",
              " 'say',\n",
              " 'lie',\n",
              " 'idle',\n",
              " 'vestey',\n",
              " 'group',\n",
              " 'say',\n",
              " 'informed',\n",
              " 'planned',\n",
              " 'seizure',\n",
              " 'firm',\n",
              " 'whose',\n",
              " 'agroflora',\n",
              " 'subsidiary',\n",
              " 'operate',\n",
              " '13',\n",
              " 'farm',\n",
              " 'venezuela',\n",
              " 'insisted',\n",
              " 'comply',\n",
              " 'fully',\n",
              " 'venezuelan',\n",
              " 'law',\n",
              " 'prosecutor',\n",
              " 'south',\n",
              " 'country',\n",
              " 'target',\n",
              " 'hato',\n",
              " 'el',\n",
              " 'charcote',\n",
              " 'beef',\n",
              " 'cattle',\n",
              " 'ranch',\n",
              " 'own',\n",
              " 'agroflora',\n",
              " 'accord',\n",
              " 'reuters',\n",
              " 'plan',\n",
              " 'seize',\n",
              " '12',\n",
              " '900',\n",
              " 'acre',\n",
              " '5',\n",
              " '200',\n",
              " 'hectare',\n",
              " '32',\n",
              " '000',\n",
              " 'acre',\n",
              " '13',\n",
              " '000',\n",
              " 'hectare',\n",
              " 'farm',\n",
              " 'official',\n",
              " 'claim',\n",
              " 'agroflora',\n",
              " 'possess',\n",
              " 'valid',\n",
              " 'document',\n",
              " 'prove',\n",
              " 'ownership',\n",
              " 'land',\n",
              " 'question',\n",
              " 'also',\n",
              " 'allege',\n",
              " 'area',\n",
              " 'ranch',\n",
              " 'use',\n",
              " 'form',\n",
              " 'active',\n",
              " 'production',\n",
              " 'legal',\n",
              " 'boundary',\n",
              " 'match',\n",
              " 'actual',\n",
              " 'boundary',\n",
              " 'surplus',\n",
              " 'state',\n",
              " 'prosecutor',\n",
              " 'alexis',\n",
              " 'ortiz',\n",
              " 'tell',\n",
              " 'reuters',\n",
              " 'consequence',\n",
              " 'government',\n",
              " 'take',\n",
              " 'action',\n",
              " 'controversial',\n",
              " 'reform',\n",
              " 'pass',\n",
              " '2001',\n",
              " 'give',\n",
              " 'government',\n",
              " 'right',\n",
              " 'take',\n",
              " 'control',\n",
              " 'private',\n",
              " 'property',\n",
              " 'declare',\n",
              " 'idle',\n",
              " 'ownership',\n",
              " 'trace',\n",
              " 'back',\n",
              " '19th',\n",
              " 'century',\n",
              " 'critic',\n",
              " 'say',\n",
              " 'power',\n",
              " 'president',\n",
              " 'chavez',\n",
              " 'argue',\n",
              " 'need',\n",
              " 'help',\n",
              " 'country',\n",
              " 'poor',\n",
              " 'citizen',\n",
              " 'develop',\n",
              " 'venezuelan',\n",
              " 'economy',\n",
              " 'trample',\n",
              " 'private',\n",
              " 'property',\n",
              " 'right',\n",
              " 'vestey',\n",
              " 'group',\n",
              " 'say',\n",
              " 'own',\n",
              " 'land',\n",
              " 'since',\n",
              " '1920',\n",
              " 'would',\n",
              " 'co',\n",
              " 'operate',\n",
              " 'fully',\n",
              " 'authority',\n",
              " 'spokesman',\n",
              " 'add',\n",
              " 'agroflora',\n",
              " 'absolutely',\n",
              " 'confident',\n",
              " 'submit',\n",
              " 'demonstrate',\n",
              " 'legality',\n",
              " 'title',\n",
              " 'land',\n",
              " 'company',\n",
              " 'point',\n",
              " 'farm',\n",
              " 'employ',\n",
              " '300',\n",
              " 'worker',\n",
              " 'provide',\n",
              " 'meat',\n",
              " 'solely',\n",
              " 'venezuelan',\n",
              " 'market',\n",
              " 'last',\n",
              " 'month',\n",
              " 'government',\n",
              " 'say',\n",
              " 'identify',\n",
              " '500',\n",
              " 'idle',\n",
              " 'farm',\n",
              " 'yet',\n",
              " 'consider',\n",
              " 'status',\n",
              " '40',\n",
              " '000',\n",
              " 'authority',\n",
              " 'say',\n",
              " 'landowner',\n",
              " 'whose',\n",
              " 'title',\n",
              " 'order',\n",
              " 'whose',\n",
              " 'farm',\n",
              " 'productive',\n",
              " 'nothing',\n",
              " 'fear',\n",
              " 'president',\n",
              " 'chavez',\n",
              " 'venezuelan',\n",
              " 'government',\n",
              " 'steadily',\n",
              " 'expand',\n",
              " 'state',\n",
              " 'involvement',\n",
              " 'country',\n",
              " 'economy',\n",
              " 'recently',\n",
              " 'say',\n",
              " 'mining',\n",
              " 'contract',\n",
              " 'involve',\n",
              " 'foreign',\n",
              " 'firm',\n",
              " 'would',\n",
              " 'examine',\n",
              " 'ensure',\n",
              " 'provide',\n",
              " 'sufficient',\n",
              " 'economic',\n",
              " 'benefit',\n",
              " 'state']"
            ]
          },
          "metadata": {},
          "execution_count": 129
        }
      ]
    },
    {
      "cell_type": "markdown",
      "source": [
        "O código abaixo realiza o stemming dos tokens. Para isso, é utilizado o stemmer de língua inglesa Porter. Existem vários stemmers para diversas línguas. Acesse [3] caso queira compará-los.\n",
        "\n",
        "OBS: O stemmer RSLP é bastante utilizado para o português.\n",
        "\n",
        "[3] http://text-processing.com/demo/stem/"
      ],
      "metadata": {
        "id": "ofppSLs82nrY"
      }
    },
    {
      "cell_type": "code",
      "source": [
        "def stemming(tokens):\n",
        "  porter = PorterStemmer()\n",
        "  tokens = [porter.stem(token) for token in tokens]\n",
        "  return tokens"
      ],
      "metadata": {
        "id": "tfl2OaVA2kzX"
      },
      "execution_count": null,
      "outputs": []
    },
    {
      "cell_type": "markdown",
      "source": [
        "O código chama o método de stemming para a primeira notícia do DataFrame. Observe que algumas palavras são reduzidas ao seu stem. Por exemplo, a palavra \"economic\" é tranformada em \"economi\" , \"involve\" é tranformada em \"involv\", entre outras."
      ],
      "metadata": {
        "id": "v5RsXJ5xIwrY"
      }
    },
    {
      "cell_type": "code",
      "source": [
        "content = stemming(content)\n",
        "content"
      ],
      "metadata": {
        "colab": {
          "base_uri": "https://localhost:8080/"
        },
        "collapsed": true,
        "id": "imOIx6EAHCzV",
        "outputId": "2ddadecd-4a56-4d43-bd14-6e3d3bf80780"
      },
      "execution_count": null,
      "outputs": [
        {
          "output_type": "execute_result",
          "data": {
            "text/plain": [
              "['venezuelan',\n",
              " 'author',\n",
              " 'say',\n",
              " 'seiz',\n",
              " 'land',\n",
              " 'own',\n",
              " 'british',\n",
              " 'compani',\n",
              " 'part',\n",
              " 'presid',\n",
              " 'chavez',\n",
              " 'agrarian',\n",
              " 'reform',\n",
              " 'programm',\n",
              " 'offici',\n",
              " 'cojed',\n",
              " 'state',\n",
              " 'say',\n",
              " 'friday',\n",
              " 'farmland',\n",
              " 'own',\n",
              " 'subsidiari',\n",
              " 'vestey',\n",
              " 'group',\n",
              " 'would',\n",
              " 'take',\n",
              " 'use',\n",
              " 'settl',\n",
              " 'poor',\n",
              " 'farmer',\n",
              " 'govern',\n",
              " 'crack',\n",
              " 'call',\n",
              " 'latifundio',\n",
              " 'larg',\n",
              " 'rural',\n",
              " 'estat',\n",
              " 'say',\n",
              " 'lie',\n",
              " 'idl',\n",
              " 'vestey',\n",
              " 'group',\n",
              " 'say',\n",
              " 'inform',\n",
              " 'plan',\n",
              " 'seizur',\n",
              " 'firm',\n",
              " 'whose',\n",
              " 'agroflora',\n",
              " 'subsidiari',\n",
              " 'oper',\n",
              " '13',\n",
              " 'farm',\n",
              " 'venezuela',\n",
              " 'insist',\n",
              " 'compli',\n",
              " 'fulli',\n",
              " 'venezuelan',\n",
              " 'law',\n",
              " 'prosecutor',\n",
              " 'south',\n",
              " 'countri',\n",
              " 'target',\n",
              " 'hato',\n",
              " 'el',\n",
              " 'charcot',\n",
              " 'beef',\n",
              " 'cattl',\n",
              " 'ranch',\n",
              " 'own',\n",
              " 'agroflora',\n",
              " 'accord',\n",
              " 'reuter',\n",
              " 'plan',\n",
              " 'seiz',\n",
              " '12',\n",
              " '900',\n",
              " 'acr',\n",
              " '5',\n",
              " '200',\n",
              " 'hectar',\n",
              " '32',\n",
              " '000',\n",
              " 'acr',\n",
              " '13',\n",
              " '000',\n",
              " 'hectar',\n",
              " 'farm',\n",
              " 'offici',\n",
              " 'claim',\n",
              " 'agroflora',\n",
              " 'possess',\n",
              " 'valid',\n",
              " 'document',\n",
              " 'prove',\n",
              " 'ownership',\n",
              " 'land',\n",
              " 'question',\n",
              " 'also',\n",
              " 'alleg',\n",
              " 'area',\n",
              " 'ranch',\n",
              " 'use',\n",
              " 'form',\n",
              " 'activ',\n",
              " 'product',\n",
              " 'legal',\n",
              " 'boundari',\n",
              " 'match',\n",
              " 'actual',\n",
              " 'boundari',\n",
              " 'surplu',\n",
              " 'state',\n",
              " 'prosecutor',\n",
              " 'alexi',\n",
              " 'ortiz',\n",
              " 'tell',\n",
              " 'reuter',\n",
              " 'consequ',\n",
              " 'govern',\n",
              " 'take',\n",
              " 'action',\n",
              " 'controversi',\n",
              " 'reform',\n",
              " 'pass',\n",
              " '2001',\n",
              " 'give',\n",
              " 'govern',\n",
              " 'right',\n",
              " 'take',\n",
              " 'control',\n",
              " 'privat',\n",
              " 'properti',\n",
              " 'declar',\n",
              " 'idl',\n",
              " 'ownership',\n",
              " 'trace',\n",
              " 'back',\n",
              " '19th',\n",
              " 'centuri',\n",
              " 'critic',\n",
              " 'say',\n",
              " 'power',\n",
              " 'presid',\n",
              " 'chavez',\n",
              " 'argu',\n",
              " 'need',\n",
              " 'help',\n",
              " 'countri',\n",
              " 'poor',\n",
              " 'citizen',\n",
              " 'develop',\n",
              " 'venezuelan',\n",
              " 'economi',\n",
              " 'trampl',\n",
              " 'privat',\n",
              " 'properti',\n",
              " 'right',\n",
              " 'vestey',\n",
              " 'group',\n",
              " 'say',\n",
              " 'own',\n",
              " 'land',\n",
              " 'sinc',\n",
              " '1920',\n",
              " 'would',\n",
              " 'co',\n",
              " 'oper',\n",
              " 'fulli',\n",
              " 'author',\n",
              " 'spokesman',\n",
              " 'add',\n",
              " 'agroflora',\n",
              " 'absolut',\n",
              " 'confid',\n",
              " 'submit',\n",
              " 'demonstr',\n",
              " 'legal',\n",
              " 'titl',\n",
              " 'land',\n",
              " 'compani',\n",
              " 'point',\n",
              " 'farm',\n",
              " 'employ',\n",
              " '300',\n",
              " 'worker',\n",
              " 'provid',\n",
              " 'meat',\n",
              " 'sole',\n",
              " 'venezuelan',\n",
              " 'market',\n",
              " 'last',\n",
              " 'month',\n",
              " 'govern',\n",
              " 'say',\n",
              " 'identifi',\n",
              " '500',\n",
              " 'idl',\n",
              " 'farm',\n",
              " 'yet',\n",
              " 'consid',\n",
              " 'statu',\n",
              " '40',\n",
              " '000',\n",
              " 'author',\n",
              " 'say',\n",
              " 'landown',\n",
              " 'whose',\n",
              " 'titl',\n",
              " 'order',\n",
              " 'whose',\n",
              " 'farm',\n",
              " 'product',\n",
              " 'noth',\n",
              " 'fear',\n",
              " 'presid',\n",
              " 'chavez',\n",
              " 'venezuelan',\n",
              " 'govern',\n",
              " 'steadili',\n",
              " 'expand',\n",
              " 'state',\n",
              " 'involv',\n",
              " 'countri',\n",
              " 'economi',\n",
              " 'recent',\n",
              " 'say',\n",
              " 'mine',\n",
              " 'contract',\n",
              " 'involv',\n",
              " 'foreign',\n",
              " 'firm',\n",
              " 'would',\n",
              " 'examin',\n",
              " 'ensur',\n",
              " 'provid',\n",
              " 'suffici',\n",
              " 'econom',\n",
              " 'benefit',\n",
              " 'state']"
            ]
          },
          "metadata": {},
          "execution_count": 130
        }
      ]
    },
    {
      "cell_type": "markdown",
      "source": [
        "O método abaixo é um função de conveniência que aplica as tranformações citadas anteriormente em um dado do texto."
      ],
      "metadata": {
        "id": "Fzk19Uub8O2d"
      }
    },
    {
      "cell_type": "code",
      "source": [
        "def pre_processing_aux(text):\n",
        "  words = remove_non_alphanumeric(text)\n",
        "  words = remove_accents(words)\n",
        "  tokens = word_tokenize(words)\n",
        "  tokens = lowercasing(tokens)\n",
        "  tokens = remove_stop_words(tokens)\n",
        "  words = ' '.join(tokens)\n",
        "  tokens = lemmatization(words)\n",
        "  tokens = stemming(tokens)\n",
        "  return ' '.join(tokens)\n"
      ],
      "metadata": {
        "id": "5yI5blte8OC-"
      },
      "execution_count": null,
      "outputs": []
    },
    {
      "cell_type": "markdown",
      "source": [
        "O método abaixo realiza o pré processamento do conteúdo de cada notícia do DataFrame. Dessa forma, é aplicado o método *pre_processing_aux* em cada notícia do DataFrame."
      ],
      "metadata": {
        "id": "75fU65K28lAr"
      }
    },
    {
      "cell_type": "code",
      "source": [
        "def pre_processing(df):\n",
        "    df['content'] = df['content'].apply(pre_processing_aux)\n",
        "    return df\n",
        "\n",
        "\n",
        "\n",
        "# To prossegue with all dataset, put df on parameter\n",
        "# To prossegue with small dataset, put small_df in paramter\n",
        "df = pre_processing(small_df)\n",
        "df.tail()"
      ],
      "metadata": {
        "id": "Wta9h3q8HVte"
      },
      "execution_count": null,
      "outputs": []
    },
    {
      "cell_type": "code",
      "source": [
        "# df_to_csv = df.to_csv('pre_processed_dataset.csv', index=False)"
      ],
      "metadata": {
        "id": "7CQl1kZZhfQz"
      },
      "execution_count": null,
      "outputs": []
    },
    {
      "cell_type": "markdown",
      "source": [
        "### Número de Documentos por classe do small_df"
      ],
      "metadata": {
        "id": "j4159E1awOMJ"
      }
    },
    {
      "cell_type": "markdown",
      "source": [
        "O DataFrame que será utilizado é o DataFrame com número de notícias reduzido de forma a agilizar o pré processamento para fins didáticos. Observe o quantitaivo de cada classe de notícias.O método empregado é o mesmo utilizado para gerar o gráfico anterior."
      ],
      "metadata": {
        "id": "PVUfuy369E2q"
      }
    },
    {
      "cell_type": "code",
      "source": [
        "plot_doc_by_class(genres, df)"
      ],
      "metadata": {
        "id": "B-TwOLE8ZGHu"
      },
      "execution_count": null,
      "outputs": []
    },
    {
      "cell_type": "markdown",
      "source": [
        "### Top 20 tokens mais frequentes"
      ],
      "metadata": {
        "id": "TYZbGMYDZbPO"
      }
    },
    {
      "cell_type": "markdown",
      "source": [
        "Os códigos a seguir são um conjunto de métodos que têm como objetivo gerar gráficos para análise de quantitivo de palavras mais comuns em cada gênero de notícias e no DataFrame como um todo, tendo como objetivo conhecer melhor o dataset."
      ],
      "metadata": {
        "id": "ZYQvGOkHZIUY"
      }
    },
    {
      "cell_type": "markdown",
      "source": [
        "O método abaixo captura o conteúdo das notícias de um determinado gênero. Para isso, o DataFrame e o gênero são passados como parâmetro. É utilizado o método \"loc\" para filtrar as linhas do DataFrame onde a coluna genre corresponde ao gênero especificado. O conteúdo dessas notícias, localizado na coluna content, é então concatenado em uma única string, utilizando o separador de espaço (sep=' '), por meio do método str.cat(). Dessa forma, o resultado é uma string única que contém o texto de todas as notícias do gênero escolhido. Esse método é utilizado posteriormente para criar o dicionário do conteúdo de cada gênero, o que facilitará a análise das palavras mais frequentes por gênero."
      ],
      "metadata": {
        "id": "X002Z43PA9a8"
      }
    },
    {
      "cell_type": "code",
      "source": [
        "def get_genre_content(df, genre):\n",
        "  content = df.loc[df['genre'] == genre, 'content'].str.cat(sep=' ')\n",
        "  return content"
      ],
      "metadata": {
        "id": "X7Di19AGA7AS"
      },
      "execution_count": null,
      "outputs": []
    },
    {
      "cell_type": "markdown",
      "source": [
        "O método abaixo cria um dicionário para cada classe de notícias do DataFrame, além de criar também uma tupla \"all\", que corresponde ao conteúdo de todas as classes juntas."
      ],
      "metadata": {
        "id": "8qnpE_TzB97W"
      }
    },
    {
      "cell_type": "code",
      "source": [
        "def create_dict_content(df):\n",
        "  dict_content = {}\n",
        "  for genre in genres:\n",
        "      dict_content[genre] = get_genre_content(df, genre)\n",
        "      if 'all' in dict_content:\n",
        "        dict_content['all'] += get_genre_content(df, genre)\n",
        "      else:\n",
        "          dict_content['all'] = get_genre_content(df, genre)\n",
        "  return dict_content"
      ],
      "metadata": {
        "id": "NqBSOlirB8AS"
      },
      "execution_count": null,
      "outputs": []
    },
    {
      "cell_type": "markdown",
      "source": [
        "O método abaixo utiliza o método \"Counter\" para contabilazar a quantidade de vezes que cada palavra aparecesse em cada key do dicionário \"dict_content\". Assim, percorre-se o dicionário e utiliza-se o método counter no campo item do dicionário."
      ],
      "metadata": {
        "id": "j7Qm6geCDOph"
      }
    },
    {
      "cell_type": "code",
      "source": [
        "def create_count_content(dict_content):\n",
        "  count_content = {}\n",
        "  for genre, content in dict_content.items():\n",
        "      count_content[genre] = Counter(content.split())\n",
        "  return count_content"
      ],
      "metadata": {
        "id": "ehTMrffCC4op"
      },
      "execution_count": null,
      "outputs": []
    },
    {
      "cell_type": "markdown",
      "source": [
        "O método abaixo retorna as top_n palavras mais frequentes de um dicionário de palavras. Para isso, utiliza-se o método do dicionário counter \"most_common\"."
      ],
      "metadata": {
        "id": "KBpayNaNDwfu"
      }
    },
    {
      "cell_type": "code",
      "source": [
        "def get_top_n_words(top_n, count_words):\n",
        "    most_common_words = {}\n",
        "    for word, count in count_words.most_common(top_n):\n",
        "        most_common_words[word] = count\n",
        "    return most_common_words"
      ],
      "metadata": {
        "id": "2QSo3JWgDqyf"
      },
      "execution_count": null,
      "outputs": []
    },
    {
      "cell_type": "markdown",
      "source": [
        "O método abaixo gera o gráfico das top_n palavras mais frequências em cada classe de notícias. O método também é utilizado para gerar o gráfico das palavras mais comuns em todo o DataFrame.\n",
        "Dessa forma, armazena-se em uma dicionário as top_n mais palavras mais frequentes e suas quantidades chamando o método **get_top_n_words** . Em seguida, as quantidades são ordenadas e o gráfico é plotado utilizando a biblioteca *matplotlib*."
      ],
      "metadata": {
        "id": "cVWxEvrrETFo"
      }
    },
    {
      "cell_type": "code",
      "source": [
        "def plot_h_most_common_words(top_n, count_content, genre, title, fontsize):\n",
        "    most_common = get_top_n_words(top_n, count_content[genre])\n",
        "    most_common = sorted(most_common.items(), key=lambda x: x[1])\n",
        "    words = [item[0] for item in most_common ]\n",
        "    counts = [item[1] for item in most_common ]\n",
        "    plt.figure(figsize=(11, 6))\n",
        "    plt.barh(words, counts, color='skyblue')\n",
        "    plt.xlabel('Quantity', labelpad=15)\n",
        "    plt.ylabel('Tokens', labelpad=15)\n",
        "    plt.grid(False)\n",
        "    plt.title(title, pad=15)\n",
        "    #Display number of token in front of each bar\n",
        "    for i in range(len(words)):\n",
        "      plt.text(counts[i], i, ' ' + str(counts[i]), ha='left', va='center')\n",
        "\n",
        "dict_content = create_dict_content(df)\n",
        "count_content = create_count_content(dict_content)"
      ],
      "metadata": {
        "id": "Wjyk7VVtZedG"
      },
      "execution_count": null,
      "outputs": []
    },
    {
      "cell_type": "markdown",
      "source": [
        "### Top 20 tokens mais frequentes na classe business"
      ],
      "metadata": {
        "id": "hhtAbugmZkKB"
      }
    },
    {
      "cell_type": "markdown",
      "source": [
        "Código que chama o método para gerar o gráfico das palavras mais comuns na classe business."
      ],
      "metadata": {
        "id": "dSpcdwnvFTJE"
      }
    },
    {
      "cell_type": "code",
      "source": [
        "top_n = 20\n",
        "fontsize = 12\n",
        "title_business = 'Top {} Most Frequent Tokens in business'.format(top_n)\n",
        "plot_h_most_common_words(top_n, count_content, 'business', title_business, fontsize)"
      ],
      "metadata": {
        "id": "CKBkstIOZh5t"
      },
      "execution_count": null,
      "outputs": []
    },
    {
      "cell_type": "markdown",
      "source": [
        "### Top 20 tokens mais frequentes na classe entertainment\n"
      ],
      "metadata": {
        "id": "MuAx4H_lZosb"
      }
    },
    {
      "cell_type": "markdown",
      "source": [
        "Código que chama o método para gerar o gráfico das palavras mais comuns na classe entertainment. A letra \"m\" é relativo a \"milhões\"."
      ],
      "metadata": {
        "id": "Y4o7jvzHFbCA"
      }
    },
    {
      "cell_type": "code",
      "source": [
        "top_n = 20\n",
        "fontsize = 12\n",
        "title_entertainment = 'Top {} Most Frequent Tokens in entertainment'.format(top_n)\n",
        "plot_h_most_common_words(top_n, count_content, 'entertainment', title_entertainment, fontsize)"
      ],
      "metadata": {
        "id": "r9_HKpdzZrTz"
      },
      "execution_count": null,
      "outputs": []
    },
    {
      "cell_type": "markdown",
      "source": [
        "### Top 20 tokens mais frequentes na classe politics"
      ],
      "metadata": {
        "id": "qazS7iL0Zupp"
      }
    },
    {
      "cell_type": "markdown",
      "source": [
        "Código que chama o método para gerar o gráfico das palavras mais comuns na classe politics."
      ],
      "metadata": {
        "id": "gViyEqf4Ffoz"
      }
    },
    {
      "cell_type": "code",
      "source": [
        "top_n = 20\n",
        "fontsize = 12\n",
        "title_politics = 'Top {} Most Frequent Tokens in politics'.format(top_n)\n",
        "plot_h_most_common_words(top_n, count_content, 'politics', title_politics, fontsize)"
      ],
      "metadata": {
        "id": "IzKfvQglZw3Y"
      },
      "execution_count": null,
      "outputs": []
    },
    {
      "cell_type": "markdown",
      "source": [
        "### Top 20 tokens mais frequentes na classe sport"
      ],
      "metadata": {
        "id": "jKWOQEgSZy51"
      }
    },
    {
      "cell_type": "markdown",
      "source": [
        "Código que chama o método para gerar o gráfico das palavras mais comuns na classe sport."
      ],
      "metadata": {
        "id": "MgEt67qFFnoL"
      }
    },
    {
      "cell_type": "code",
      "source": [
        "top_n = 20\n",
        "fontsize = 12\n",
        "title_sport = 'Top {} Most Frequent Tokens in sport'.format(top_n)\n",
        "plot_h_most_common_words(top_n, count_content, 'sport', title_sport, fontsize)"
      ],
      "metadata": {
        "id": "yZ_EDuTMZ0sQ"
      },
      "execution_count": null,
      "outputs": []
    },
    {
      "cell_type": "markdown",
      "source": [
        "### Top 20 tokens mais frequentes na classe tech"
      ],
      "metadata": {
        "id": "CeQg0EgGZ33B"
      }
    },
    {
      "cell_type": "markdown",
      "source": [
        "Código que chama o método para gerar o gráfico das palavras mais comuns na classe tech."
      ],
      "metadata": {
        "id": "IXglZWjiFrMD"
      }
    },
    {
      "cell_type": "code",
      "source": [
        "top_n = 20\n",
        "fontsize = 12\n",
        "title_tech = 'Top {} Most Frequent Tokens in tech'.format(top_n)\n",
        "plot_h_most_common_words(top_n, count_content, 'tech', title_tech, fontsize)"
      ],
      "metadata": {
        "id": "0KhZjQ_iZ45v"
      },
      "execution_count": null,
      "outputs": []
    },
    {
      "cell_type": "markdown",
      "source": [
        "### Top 20 tokens mais frequentes no dataset"
      ],
      "metadata": {
        "id": "rfQCxMl0Z8r7"
      }
    },
    {
      "cell_type": "markdown",
      "source": [
        "Código que chama o método para gerar o gráfico das palavras mais comuns em todo o DataFrame."
      ],
      "metadata": {
        "id": "SDapUImQFvFO"
      }
    },
    {
      "cell_type": "code",
      "source": [
        "top_n = 20\n",
        "fontsize = 12\n",
        "title_all = 'Top {} Most Frequent Tokens in all dataset'.format(top_n)\n",
        "plot_h_most_common_words(top_n, count_content, 'all', title_all, fontsize)"
      ],
      "metadata": {
        "id": "lCydThEyZ-oe"
      },
      "execution_count": null,
      "outputs": []
    },
    {
      "cell_type": "markdown",
      "source": [
        "## Frequência de classes por token   "
      ],
      "metadata": {
        "id": "jRVS9ksoaFUf"
      }
    },
    {
      "cell_type": "markdown",
      "source": [
        "Os métodos a seguir são um conjunto de códigos que têm como objetivo analisar a frequência das classes por token."
      ],
      "metadata": {
        "id": "WqRRKD8AltCg"
      }
    },
    {
      "cell_type": "markdown",
      "source": [
        "O código abaixo seleciona 3 palavras aleatórias do DataFrame."
      ],
      "metadata": {
        "id": "YHV2_m_NWh60"
      }
    },
    {
      "cell_type": "code",
      "source": [
        "random_words = random.sample(dict_content['all'].split(), 3)\n",
        "print(\"random words: \", random_words)"
      ],
      "metadata": {
        "id": "ZDMHvU07Ww0Y"
      },
      "execution_count": null,
      "outputs": []
    },
    {
      "cell_type": "markdown",
      "source": [
        "O método abaixo retorna um dicionário que mapeia os gêneros aos quais uma determinada palavra pertence, além de indicar a quantidade de vezes que essa palavra aparece em cada gênero."
      ],
      "metadata": {
        "id": "opb7rhBlYDGV"
      }
    },
    {
      "cell_type": "code",
      "source": [
        "def get_counts_by_genre(word, count_genres):\n",
        "    counts_by_genre = {}  #Dictionary to store word count in each class\n",
        "    for genre, content_counter in count_genres.items():\n",
        "        if word in content_counter:\n",
        "            counts_by_genre[genre] = content_counter[word]  # Adds the word count in the class to the dictionary\n",
        "    return counts_by_genre"
      ],
      "metadata": {
        "id": "RFEQTKzkW7qG"
      },
      "execution_count": null,
      "outputs": []
    },
    {
      "cell_type": "markdown",
      "source": [
        "O método abaixo chama o método **get_counts_by_genre** para todas as palavras aleatórias geradas, retornando um dicionário para cada palavra."
      ],
      "metadata": {
        "id": "6lGgULrCYml7"
      }
    },
    {
      "cell_type": "code",
      "source": [
        "def get_frequency_class_by_word(selected_words, count_genres):\n",
        "    dict_frequency = {}\n",
        "    for word in selected_words:\n",
        "        dict_frequency[word] = get_counts_by_genre(word, count_genres)\n",
        "    return dict_frequency\n",
        "\n",
        "\n",
        "dict_frequency = get_frequency_class_by_word(random_words, count_content)\n",
        "print(dict_frequency)"
      ],
      "metadata": {
        "id": "FRKi1JhUYlBa"
      },
      "execution_count": null,
      "outputs": []
    },
    {
      "cell_type": "markdown",
      "source": [
        "## Exercícios"
      ],
      "metadata": {
        "id": "hGqNc9NvM8mC"
      }
    },
    {
      "cell_type": "markdown",
      "source": [
        "Para praticar as metodologias apresentadas, os alunos deverão realizar a Análise Exploratória, Visualização e pré processamento da base de dados  **Movie Dataset: Budgets, Genres, Insights** , disponível em [2].\n",
        "\n",
        "[2] https://www.kaggle.com/datasets/utkarshx27/movies-dataset"
      ],
      "metadata": {
        "id": "gNhLntrDNAcW"
      }
    },
    {
      "cell_type": "markdown",
      "source": [
        "Fazer o download do dataset, ler o arquivo csv para um DataFrame."
      ],
      "metadata": {
        "id": "YzzHwOMdJZYX"
      }
    },
    {
      "cell_type": "code",
      "source": [
        "# Adione sua resposta aqui\n",
        "\n",
        "\n"
      ],
      "metadata": {
        "id": "HIuMdnYPJh8A"
      },
      "execution_count": null,
      "outputs": []
    },
    {
      "cell_type": "markdown",
      "source": [
        "\n",
        "Criar e exibir um gráfico mostrando quantos documentos existem por classe."
      ],
      "metadata": {
        "id": "XFRqgpFCJeK6"
      }
    },
    {
      "cell_type": "code",
      "source": [
        "# Adione sua resposta aqui\n",
        "\n",
        "\n"
      ],
      "metadata": {
        "id": "06UyUOS_JWt-"
      },
      "execution_count": null,
      "outputs": []
    },
    {
      "cell_type": "markdown",
      "source": [
        "Remover caracteres não alfanuméricos."
      ],
      "metadata": {
        "id": "Cofeog49L98j"
      }
    },
    {
      "cell_type": "code",
      "source": [
        "# Adione sua resposta aqui\n",
        "\n",
        "\n"
      ],
      "metadata": {
        "id": "qvmKzXQYMBZg"
      },
      "execution_count": null,
      "outputs": []
    },
    {
      "cell_type": "markdown",
      "source": [
        "Remover acentos do DataFrame."
      ],
      "metadata": {
        "id": "mrk-EyfOJv-i"
      }
    },
    {
      "cell_type": "code",
      "source": [
        "# Adione sua resposta aqui\n",
        "\n",
        "\n"
      ],
      "metadata": {
        "id": "Wmw0FOo6J4HC"
      },
      "execution_count": null,
      "outputs": []
    },
    {
      "cell_type": "markdown",
      "source": [
        "Fazer tokenização do texto."
      ],
      "metadata": {
        "id": "YbwiwGVwK25a"
      }
    },
    {
      "cell_type": "code",
      "source": [
        "# Adione sua resposta aqui\n",
        "\n",
        "\n"
      ],
      "metadata": {
        "id": "Lj7FiWSfK5i6"
      },
      "execution_count": null,
      "outputs": []
    },
    {
      "cell_type": "markdown",
      "source": [
        "Tranformar os caracteres em caracteres minúsculos."
      ],
      "metadata": {
        "id": "R8buQkycJ6ld"
      }
    },
    {
      "cell_type": "code",
      "source": [
        "# Adione sua resposta aqui\n",
        "\n",
        "\n"
      ],
      "metadata": {
        "id": "NJ3wKMFFKEqm"
      },
      "execution_count": null,
      "outputs": []
    },
    {
      "cell_type": "markdown",
      "source": [
        "Remover stop words."
      ],
      "metadata": {
        "id": "LzaQ_XgCKIA5"
      }
    },
    {
      "cell_type": "code",
      "source": [
        "# Adione sua resposta aqui\n",
        "\n",
        "\n"
      ],
      "metadata": {
        "id": "r3hDP06mKJ5B"
      },
      "execution_count": null,
      "outputs": []
    },
    {
      "cell_type": "markdown",
      "source": [
        "Fazer lematização do texto."
      ],
      "metadata": {
        "id": "fveeotDJKLtc"
      }
    },
    {
      "cell_type": "code",
      "source": [
        "# Adione sua resposta aqui\n",
        "\n",
        "\n"
      ],
      "metadata": {
        "id": "q1dK_6jDKRnK"
      },
      "execution_count": null,
      "outputs": []
    },
    {
      "cell_type": "markdown",
      "source": [
        "Fazer stemming do texto."
      ],
      "metadata": {
        "id": "yn0t2isTKU_b"
      }
    },
    {
      "cell_type": "code",
      "source": [
        "# Adione sua resposta aqui\n",
        "\n",
        "\n"
      ],
      "metadata": {
        "id": "4bx9rvUVKaoo"
      },
      "execution_count": null,
      "outputs": []
    },
    {
      "cell_type": "markdown",
      "source": [
        "Fazer função de conveniência que agrupe os métodos de cada etapa do pré processamento."
      ],
      "metadata": {
        "id": "yZSJUsokKg5q"
      }
    },
    {
      "cell_type": "code",
      "source": [
        "# Adione sua resposta aqui\n",
        "\n",
        "\n"
      ],
      "metadata": {
        "id": "FH61qNaULCG2"
      },
      "execution_count": null,
      "outputs": []
    },
    {
      "cell_type": "markdown",
      "source": [
        "Fazer gráfico dos tokens mais frequêntes por classe do DataFrame."
      ],
      "metadata": {
        "id": "_hfpz8VLLAYA"
      }
    },
    {
      "cell_type": "code",
      "source": [
        "# Adione sua resposta aqui\n",
        "\n",
        "\n"
      ],
      "metadata": {
        "id": "5gIvE93KLJie"
      },
      "execution_count": null,
      "outputs": []
    },
    {
      "cell_type": "markdown",
      "source": [
        "Chamar o método de gerar os gráficos de tokens mais frequentes por classe para cada classe do DataFrame."
      ],
      "metadata": {
        "id": "tAXwpeKcMWse"
      }
    },
    {
      "cell_type": "code",
      "source": [
        "# Adione sua resposta aqui\n",
        "\n",
        "\n"
      ],
      "metadata": {
        "id": "lkGlTSqrMUP4"
      },
      "execution_count": null,
      "outputs": []
    },
    {
      "cell_type": "markdown",
      "source": [
        "Criar um dicionário de Frequência de classes por token."
      ],
      "metadata": {
        "id": "FCcAvyZ_LQiM"
      }
    },
    {
      "cell_type": "code",
      "source": [
        "# Adione sua resposta aqui\n",
        "\n",
        "\n"
      ],
      "metadata": {
        "id": "jhJah08oLXyA"
      },
      "execution_count": null,
      "outputs": []
    },
    {
      "cell_type": "markdown",
      "source": [
        "## Referências"
      ],
      "metadata": {
        "id": "Z8w_sdk7Qk9T"
      }
    },
    {
      "cell_type": "markdown",
      "source": [
        "@misc{gomes2024remover,\n",
        "  author = {Ramon Gomes},\n",
        "  title = {Remover caracteres especiais em JavaScript},\n",
        "  year = {2024},\n",
        "  url = {https://blog.ramongomes.com.br/remover-caracteres-especiais-js/#:~:text=%C3%89%20importante%20ter%20em%20mente,remo%C3%A7%C3%A3o%20antes%20de%20aplic%C3%A1%2Dla.&text=O%20c%C3%B3digo%20acima%20remove%20todos,e%20n%C3%BAmeros)%2C%20incluindo%20espa%C3%A7os.},\n",
        "  note = {Acesso em: 02 set. 2024}\n",
        "}\n",
        "\n",
        "@misc{cloudmarket2024stopwords,\n",
        "  author = {{CloudMarket}},\n",
        "  title = {O que é Stop Word (Palavra de Parada)?},\n",
        "  year = {2024},\n",
        "  url = {https://www.cloudmarket.com.br/marketing-digital/blog/glossario/o-que-e-stop-word-palavra-de-parada/},\n",
        "  note = {Acesso em: 02 set. 2024}\n",
        "}\n",
        "\n",
        "@misc{techtarget2024lemmatization,\n",
        "  author = {{TechTarget}},\n",
        "  title = {Lemmatization Definition},\n",
        "  year = {2024},\n",
        "  url = {https://www.techtarget.com/searchenterpriseai/definition/lemmatization#:~:text=Lemmatization%20is%20the%20process%20of,processing%20(NLP)%20and%20chatbots.},\n",
        "  note = {Acesso em: 02 set. 2024}\n",
        "}\n",
        "\n",
        "@misc{wikipedia2024stemming,\n",
        "  author = {{Wikipédia}},\n",
        "  title = {Stemização},\n",
        "  year = {2024},\n",
        "  url = {https://pt.wikipedia.org/wiki/Stemiza%C3%A7%C3%A3o},\n",
        "  note = {Acesso em: 02 set. 2024}\n",
        "}\n",
        "\n",
        "@misc{geeksforgeeks2024eda,\n",
        "  author = {{GeeksForGeeks}},\n",
        "  title = {What is Exploratory Data Analysis?},\n",
        "  year = {2024},\n",
        "  url = {https://www.geeksforgeeks.org/what-is-exploratory-data-analysis/},\n",
        "  note = {Acesso em: 02 set. 2024}\n",
        "}\n",
        "\n",
        "@misc{wikipedia2024eda,\n",
        "  author = {{Wikipédia}},\n",
        "  title = {Análise Exploratória de Dados},\n",
        "  year = {2024},\n",
        "  url = {https://pt.wikipedia.org/wiki/An%C3%A1lise_explorat%C3%B3ria_de_dados},\n",
        "  note = {Acesso em: 02 set. 2024}\n",
        "}\n",
        "\n",
        "@misc{ebaconline2024eda,\n",
        "  author = {{EBAC Online}},\n",
        "  title = {Análise Exploratória de Dados: o que é?},\n",
        "  year = {2024},\n",
        "  url = {https://ebaconline.com.br/blog/analise-exploratoria-de-dados-o-que-e},\n",
        "  note = {Acesso em: 02 set. 2024}\n",
        "}\n",
        "\n",
        "@misc{ibm2024eda,\n",
        "  author = {{IBM}},\n",
        "  title = {Análise Exploratória de Dados},\n",
        "  year = {2024},\n",
        "  url = {https://www.ibm.com/br-pt/topics/exploratory-data-analysis#:~:text=A%20an%C3%A1lise%20explorat%C3%B3ria%20de%20dados,m%C3%A9todos%20de%20visualiza%C3%A7%C3%A3o%20de%20dados.},\n",
        "  note = {Acesso em: 02 set. 2024}\n",
        "}\n"
      ],
      "metadata": {
        "id": "H2hi3V2LQnzE"
      }
    }
  ]
}